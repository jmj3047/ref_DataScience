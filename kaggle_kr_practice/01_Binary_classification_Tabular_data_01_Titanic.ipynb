{
 "cells": [
  {
   "cell_type": "markdown",
   "id": "17964e4e",
   "metadata": {},
   "source": [
    "# Titanic Dataset"
   ]
  },
  {
   "cell_type": "code",
   "execution_count": 1,
   "id": "dbb3c6b2",
   "metadata": {},
   "outputs": [],
   "source": [
    "# ignore warnings\n",
    "import warnings\n",
    "warnings.filterwarnings('ignore')\n",
    "\n",
    "import pandas as pd\n",
    "import numpy as np\n",
    "\n",
    "pd.set_option('display.max_columns', None)\n",
    "pd.set_option('display.max_rows', None)\n",
    "\n",
    "import matplotlib.pyplot as plt\n",
    "import seaborn as sns\n",
    "\n",
    "# matplotlib의 기본 scheme이 아닌 seaborn scheme setting\n",
    "plt.style.use('seaborn')\n",
    "sns.set(font_scale=1.0)  # graph font size\n",
    "\n",
    "# 결측치 시각화 library\n",
    "import missingno as msno\n",
    "\n",
    "%matplotlib inline\n",
    "\n",
    "colors = ['#8fd9b6', '#ff9999', '#D4AFB9', '#D1CFE2', '#9CADCE', '#7EC4CF', '#52B2CF']"
   ]
  },
  {
   "cell_type": "markdown",
   "id": "e3367889",
   "metadata": {},
   "source": [
    "# EDA\n",
    "\n",
    "1. Dataset 확인 (null)\n",
    "2. 탐색적 데이터 분석 EDA (feature 분석, feature 간 상관관계, 시각화 -> insight)\n",
    "3. feature engineering (모델 성능 향상을 위한 one-hot encoding, 범주화, 텍스트 데이터 처리 등)\n",
    "4. model 생성 (sklearn, 딥러닝 - tensorflow, pytorch)\n",
    "5. model 학습 및 예측 (trainset, testset)\n",
    "6. model evaluation"
   ]
  },
  {
   "cell_type": "markdown",
   "id": "6c0bb6b6",
   "metadata": {},
   "source": [
    "### 1. Dataset 확인\n",
    "\n",
    "- 예측값 : Survived"
   ]
  },
  {
   "cell_type": "code",
   "execution_count": 2,
   "id": "2d982170",
   "metadata": {
    "scrolled": true
   },
   "outputs": [
    {
     "data": {
      "text/html": [
       "<div>\n",
       "<style scoped>\n",
       "    .dataframe tbody tr th:only-of-type {\n",
       "        vertical-align: middle;\n",
       "    }\n",
       "\n",
       "    .dataframe tbody tr th {\n",
       "        vertical-align: top;\n",
       "    }\n",
       "\n",
       "    .dataframe thead th {\n",
       "        text-align: right;\n",
       "    }\n",
       "</style>\n",
       "<table border=\"1\" class=\"dataframe\">\n",
       "  <thead>\n",
       "    <tr style=\"text-align: right;\">\n",
       "      <th></th>\n",
       "      <th>PassengerId</th>\n",
       "      <th>Survived</th>\n",
       "      <th>Pclass</th>\n",
       "      <th>Name</th>\n",
       "      <th>Sex</th>\n",
       "      <th>Age</th>\n",
       "      <th>SibSp</th>\n",
       "      <th>Parch</th>\n",
       "      <th>Ticket</th>\n",
       "      <th>Fare</th>\n",
       "      <th>Cabin</th>\n",
       "      <th>Embarked</th>\n",
       "    </tr>\n",
       "  </thead>\n",
       "  <tbody>\n",
       "    <tr>\n",
       "      <th>0</th>\n",
       "      <td>1</td>\n",
       "      <td>0</td>\n",
       "      <td>3</td>\n",
       "      <td>Braund, Mr. Owen Harris</td>\n",
       "      <td>male</td>\n",
       "      <td>22.0</td>\n",
       "      <td>1</td>\n",
       "      <td>0</td>\n",
       "      <td>A/5 21171</td>\n",
       "      <td>7.2500</td>\n",
       "      <td>NaN</td>\n",
       "      <td>S</td>\n",
       "    </tr>\n",
       "    <tr>\n",
       "      <th>1</th>\n",
       "      <td>2</td>\n",
       "      <td>1</td>\n",
       "      <td>1</td>\n",
       "      <td>Cumings, Mrs. John Bradley (Florence Briggs Th...</td>\n",
       "      <td>female</td>\n",
       "      <td>38.0</td>\n",
       "      <td>1</td>\n",
       "      <td>0</td>\n",
       "      <td>PC 17599</td>\n",
       "      <td>71.2833</td>\n",
       "      <td>C85</td>\n",
       "      <td>C</td>\n",
       "    </tr>\n",
       "    <tr>\n",
       "      <th>2</th>\n",
       "      <td>3</td>\n",
       "      <td>1</td>\n",
       "      <td>3</td>\n",
       "      <td>Heikkinen, Miss. Laina</td>\n",
       "      <td>female</td>\n",
       "      <td>26.0</td>\n",
       "      <td>0</td>\n",
       "      <td>0</td>\n",
       "      <td>STON/O2. 3101282</td>\n",
       "      <td>7.9250</td>\n",
       "      <td>NaN</td>\n",
       "      <td>S</td>\n",
       "    </tr>\n",
       "    <tr>\n",
       "      <th>3</th>\n",
       "      <td>4</td>\n",
       "      <td>1</td>\n",
       "      <td>1</td>\n",
       "      <td>Futrelle, Mrs. Jacques Heath (Lily May Peel)</td>\n",
       "      <td>female</td>\n",
       "      <td>35.0</td>\n",
       "      <td>1</td>\n",
       "      <td>0</td>\n",
       "      <td>113803</td>\n",
       "      <td>53.1000</td>\n",
       "      <td>C123</td>\n",
       "      <td>S</td>\n",
       "    </tr>\n",
       "    <tr>\n",
       "      <th>4</th>\n",
       "      <td>5</td>\n",
       "      <td>0</td>\n",
       "      <td>3</td>\n",
       "      <td>Allen, Mr. William Henry</td>\n",
       "      <td>male</td>\n",
       "      <td>35.0</td>\n",
       "      <td>0</td>\n",
       "      <td>0</td>\n",
       "      <td>373450</td>\n",
       "      <td>8.0500</td>\n",
       "      <td>NaN</td>\n",
       "      <td>S</td>\n",
       "    </tr>\n",
       "  </tbody>\n",
       "</table>\n",
       "</div>"
      ],
      "text/plain": [
       "   PassengerId  Survived  Pclass  \\\n",
       "0            1         0       3   \n",
       "1            2         1       1   \n",
       "2            3         1       3   \n",
       "3            4         1       1   \n",
       "4            5         0       3   \n",
       "\n",
       "                                                Name     Sex   Age  SibSp  \\\n",
       "0                            Braund, Mr. Owen Harris    male  22.0      1   \n",
       "1  Cumings, Mrs. John Bradley (Florence Briggs Th...  female  38.0      1   \n",
       "2                             Heikkinen, Miss. Laina  female  26.0      0   \n",
       "3       Futrelle, Mrs. Jacques Heath (Lily May Peel)  female  35.0      1   \n",
       "4                           Allen, Mr. William Henry    male  35.0      0   \n",
       "\n",
       "   Parch            Ticket     Fare Cabin Embarked  \n",
       "0      0         A/5 21171   7.2500   NaN        S  \n",
       "1      0          PC 17599  71.2833   C85        C  \n",
       "2      0  STON/O2. 3101282   7.9250   NaN        S  \n",
       "3      0            113803  53.1000  C123        S  \n",
       "4      0            373450   8.0500   NaN        S  "
      ]
     },
     "execution_count": 2,
     "metadata": {},
     "output_type": "execute_result"
    }
   ],
   "source": [
    "train = pd.read_csv('../datasets_for_practice/kaggle/titanic/train.csv')\n",
    "test = pd.read_csv('../datasets_for_practice/kaggle/titanic/test.csv')\n",
    "\n",
    "train.head()"
   ]
  },
  {
   "cell_type": "code",
   "execution_count": 3,
   "id": "bc71a7a7",
   "metadata": {},
   "outputs": [
    {
     "data": {
      "text/html": [
       "<div>\n",
       "<style scoped>\n",
       "    .dataframe tbody tr th:only-of-type {\n",
       "        vertical-align: middle;\n",
       "    }\n",
       "\n",
       "    .dataframe tbody tr th {\n",
       "        vertical-align: top;\n",
       "    }\n",
       "\n",
       "    .dataframe thead th {\n",
       "        text-align: right;\n",
       "    }\n",
       "</style>\n",
       "<table border=\"1\" class=\"dataframe\">\n",
       "  <thead>\n",
       "    <tr style=\"text-align: right;\">\n",
       "      <th></th>\n",
       "      <th>PassengerId</th>\n",
       "      <th>Survived</th>\n",
       "      <th>Pclass</th>\n",
       "      <th>Age</th>\n",
       "      <th>SibSp</th>\n",
       "      <th>Parch</th>\n",
       "      <th>Fare</th>\n",
       "    </tr>\n",
       "  </thead>\n",
       "  <tbody>\n",
       "    <tr>\n",
       "      <th>count</th>\n",
       "      <td>891.000000</td>\n",
       "      <td>891.000000</td>\n",
       "      <td>891.000000</td>\n",
       "      <td>714.000000</td>\n",
       "      <td>891.000000</td>\n",
       "      <td>891.000000</td>\n",
       "      <td>891.000000</td>\n",
       "    </tr>\n",
       "    <tr>\n",
       "      <th>mean</th>\n",
       "      <td>446.000000</td>\n",
       "      <td>0.383838</td>\n",
       "      <td>2.308642</td>\n",
       "      <td>29.699118</td>\n",
       "      <td>0.523008</td>\n",
       "      <td>0.381594</td>\n",
       "      <td>32.204208</td>\n",
       "    </tr>\n",
       "    <tr>\n",
       "      <th>std</th>\n",
       "      <td>257.353842</td>\n",
       "      <td>0.486592</td>\n",
       "      <td>0.836071</td>\n",
       "      <td>14.526497</td>\n",
       "      <td>1.102743</td>\n",
       "      <td>0.806057</td>\n",
       "      <td>49.693429</td>\n",
       "    </tr>\n",
       "    <tr>\n",
       "      <th>min</th>\n",
       "      <td>1.000000</td>\n",
       "      <td>0.000000</td>\n",
       "      <td>1.000000</td>\n",
       "      <td>0.420000</td>\n",
       "      <td>0.000000</td>\n",
       "      <td>0.000000</td>\n",
       "      <td>0.000000</td>\n",
       "    </tr>\n",
       "    <tr>\n",
       "      <th>25%</th>\n",
       "      <td>223.500000</td>\n",
       "      <td>0.000000</td>\n",
       "      <td>2.000000</td>\n",
       "      <td>20.125000</td>\n",
       "      <td>0.000000</td>\n",
       "      <td>0.000000</td>\n",
       "      <td>7.910400</td>\n",
       "    </tr>\n",
       "    <tr>\n",
       "      <th>50%</th>\n",
       "      <td>446.000000</td>\n",
       "      <td>0.000000</td>\n",
       "      <td>3.000000</td>\n",
       "      <td>28.000000</td>\n",
       "      <td>0.000000</td>\n",
       "      <td>0.000000</td>\n",
       "      <td>14.454200</td>\n",
       "    </tr>\n",
       "    <tr>\n",
       "      <th>75%</th>\n",
       "      <td>668.500000</td>\n",
       "      <td>1.000000</td>\n",
       "      <td>3.000000</td>\n",
       "      <td>38.000000</td>\n",
       "      <td>1.000000</td>\n",
       "      <td>0.000000</td>\n",
       "      <td>31.000000</td>\n",
       "    </tr>\n",
       "    <tr>\n",
       "      <th>max</th>\n",
       "      <td>891.000000</td>\n",
       "      <td>1.000000</td>\n",
       "      <td>3.000000</td>\n",
       "      <td>80.000000</td>\n",
       "      <td>8.000000</td>\n",
       "      <td>6.000000</td>\n",
       "      <td>512.329200</td>\n",
       "    </tr>\n",
       "  </tbody>\n",
       "</table>\n",
       "</div>"
      ],
      "text/plain": [
       "       PassengerId    Survived      Pclass         Age       SibSp  \\\n",
       "count   891.000000  891.000000  891.000000  714.000000  891.000000   \n",
       "mean    446.000000    0.383838    2.308642   29.699118    0.523008   \n",
       "std     257.353842    0.486592    0.836071   14.526497    1.102743   \n",
       "min       1.000000    0.000000    1.000000    0.420000    0.000000   \n",
       "25%     223.500000    0.000000    2.000000   20.125000    0.000000   \n",
       "50%     446.000000    0.000000    3.000000   28.000000    0.000000   \n",
       "75%     668.500000    1.000000    3.000000   38.000000    1.000000   \n",
       "max     891.000000    1.000000    3.000000   80.000000    8.000000   \n",
       "\n",
       "            Parch        Fare  \n",
       "count  891.000000  891.000000  \n",
       "mean     0.381594   32.204208  \n",
       "std      0.806057   49.693429  \n",
       "min      0.000000    0.000000  \n",
       "25%      0.000000    7.910400  \n",
       "50%      0.000000   14.454200  \n",
       "75%      0.000000   31.000000  \n",
       "max      6.000000  512.329200  "
      ]
     },
     "execution_count": 3,
     "metadata": {},
     "output_type": "execute_result"
    }
   ],
   "source": [
    "train.describe()"
   ]
  },
  {
   "cell_type": "code",
   "execution_count": 4,
   "id": "f97162bd",
   "metadata": {},
   "outputs": [
    {
     "name": "stdout",
     "output_type": "stream",
     "text": [
      "<class 'pandas.core.frame.DataFrame'>\n",
      "RangeIndex: 891 entries, 0 to 890\n",
      "Data columns (total 12 columns):\n",
      " #   Column       Non-Null Count  Dtype  \n",
      "---  ------       --------------  -----  \n",
      " 0   PassengerId  891 non-null    int64  \n",
      " 1   Survived     891 non-null    int64  \n",
      " 2   Pclass       891 non-null    int64  \n",
      " 3   Name         891 non-null    object \n",
      " 4   Sex          891 non-null    object \n",
      " 5   Age          714 non-null    float64\n",
      " 6   SibSp        891 non-null    int64  \n",
      " 7   Parch        891 non-null    int64  \n",
      " 8   Ticket       891 non-null    object \n",
      " 9   Fare         891 non-null    float64\n",
      " 10  Cabin        204 non-null    object \n",
      " 11  Embarked     889 non-null    object \n",
      "dtypes: float64(2), int64(5), object(5)\n",
      "memory usage: 83.7+ KB\n"
     ]
    }
   ],
   "source": [
    "train.info()"
   ]
  },
  {
   "cell_type": "markdown",
   "id": "5069d710",
   "metadata": {},
   "source": [
    "### 1.1 Null Check\n",
    "\n",
    "- 'Cabin' 컬럼은 NaN 비중이 80% 가까이 되니 모델링에서 제외하는 게 좋음\n",
    "- print option - :> 오른쪽 정렬 :< 왼쪽정렬"
   ]
  },
  {
   "cell_type": "code",
   "execution_count": 5,
   "id": "ef34243e",
   "metadata": {},
   "outputs": [
    {
     "name": "stdout",
     "output_type": "stream",
     "text": [
      "Train dataset\n",
      "PassengerId \t Percent of NaN value : 0.00\n",
      "Survived    \t Percent of NaN value : 0.00\n",
      "Pclass      \t Percent of NaN value : 0.00\n",
      "Name        \t Percent of NaN value : 0.00\n",
      "Sex         \t Percent of NaN value : 0.00\n",
      "Age         \t Percent of NaN value : 19.87\n",
      "SibSp       \t Percent of NaN value : 0.00\n",
      "Parch       \t Percent of NaN value : 0.00\n",
      "Ticket      \t Percent of NaN value : 0.00\n",
      "Fare        \t Percent of NaN value : 0.00\n",
      "Cabin       \t Percent of NaN value : 77.10\n",
      "Embarked    \t Percent of NaN value : 0.22\n",
      "\n",
      "Test dataset\n",
      "PassengerId \t Percent of Nan value : 0.00\n",
      "Pclass      \t Percent of Nan value : 0.00\n",
      "Name        \t Percent of Nan value : 0.00\n",
      "Sex         \t Percent of Nan value : 0.00\n",
      "Age         \t Percent of Nan value : 20.57\n",
      "SibSp       \t Percent of Nan value : 0.00\n",
      "Parch       \t Percent of Nan value : 0.00\n",
      "Ticket      \t Percent of Nan value : 0.00\n",
      "Fare        \t Percent of Nan value : 0.24\n",
      "Cabin       \t Percent of Nan value : 78.23\n",
      "Embarked    \t Percent of Nan value : 0.00\n"
     ]
    }
   ],
   "source": [
    "print('Train dataset')\n",
    "for col in train.columns:\n",
    "    print('{:<12}\\t Percent of NaN value : {:.2f}'.format(col, 100 * train[col].isnull().sum()/train.shape[0]))\n",
    "\n",
    "print('\\nTest dataset')\n",
    "for col in test.columns:\n",
    "    print('{:<12}\\t Percent of Nan value : {:.2f}'.format(col, 100 * test[col].isnull().sum()/test.shape[0]))"
   ]
  },
  {
   "cell_type": "markdown",
   "id": "0e480675",
   "metadata": {},
   "source": [
    "### Null 데이터 시각화"
   ]
  },
  {
   "cell_type": "markdown",
   "id": "8243378b",
   "metadata": {},
   "source": [
    "missingno\n",
    "- https://coderzcolumn.com/tutorials/data-science/missingno-visualize-missing-data-in-python\n",
    "- msno.matrix : 결측치를 matrix로 시각화 (color : RGB)\n",
    "- msno.bar : 결측치를 bar 그래프로 시각화 (color : RGB)"
   ]
  },
  {
   "cell_type": "code",
   "execution_count": 6,
   "id": "b27d3de2",
   "metadata": {},
   "outputs": [
    {
     "data": {
      "text/plain": [
       "Text(0.5, 1.0, 'Test')"
      ]
     },
     "execution_count": 6,
     "metadata": {},
     "output_type": "execute_result"
    },
    {
     "data": {
      "image/png": "[encoded data removed]",
      "text/plain": [
       "<Figure size 720x576 with 8 Axes>"
      ]
     },
     "metadata": {
      "needs_background": "light"
     },
     "output_type": "display_data"
    }
   ],
   "source": [
    "f, ax = plt.subplots(2, 2, figsize=(10, 8))\n",
    "\n",
    "msno.matrix(df=train, color=(0.3, 0.5, 0.4), ax=ax[0,0])\n",
    "msno.matrix(df=test, color=(0.6, 0.7, 0.2), ax=ax[0,1])\n",
    "msno.bar(df=train, color=(0.3, 0.5, 0.4), ax=ax[1,0])\n",
    "msno.bar(df=test, color=(0.6, 0.7, 0.2), ax=ax[1,1])\n",
    "ax[0,0].set_title('Train')\n",
    "ax[0,1].set_title('Test')"
   ]
  },
  {
   "cell_type": "markdown",
   "id": "d52f6b4f",
   "metadata": {},
   "source": [
    "### 1.2 Target 확인\n",
    "\n",
    "- binary classification에서 0과 1의 분포 사전에 확인 필요\n",
    "- 결과에 따라 모델 평가 방법이 달라질 수 있음"
   ]
  },
  {
   "cell_type": "markdown",
   "id": "5aa3c342",
   "metadata": {},
   "source": [
    "<b>subplots</b>\n",
    "\n",
    "- subplot 간격 조정 : subplots_adjust(left, bottom, right, top, wspace, hspace)"
   ]
  },
  {
   "cell_type": "markdown",
   "id": "88fe7a71",
   "metadata": {},
   "source": [
    "<b>plot.pie</b>\n",
    "https://wikidocs.net/92114\n",
    "- explode : 부채꼴이 파이 차트의 중심에서 벗어나는 정도\n",
    "- autopct : 부채꼴 안에 표시될 숫자의 형식 지정\n",
    "- shadow : 파이 차트 그림자 표시 여부"
   ]
  },
  {
   "cell_type": "markdown",
   "id": "312e333f",
   "metadata": {},
   "source": [
    "<b>sns.countplot</br>\n",
    "https://seaborn.pydata.org/generated/seaborn.countplot.html\n",
    "- Show the counts of observations in each categorical bin using bars.\n",
    "- palette : 색 설정\n",
    "- hue='Survived' : 'Survived' 컬럼 범주(0, 1)에 막대를 나누고, 서로 다른 색 설정"
   ]
  },
  {
   "cell_type": "code",
   "execution_count": 7,
   "id": "153b02cc",
   "metadata": {},
   "outputs": [
    {
     "data": {
      "image/png": "[encoded data removed]",
      "text/plain": [
       "<Figure size 648x216 with 2 Axes>"
      ]
     },
     "metadata": {
      "needs_background": "light"
     },
     "output_type": "display_data"
    }
   ],
   "source": [
    "f, ax = plt.subplots(1, 2, figsize=(9,3))\n",
    "\n",
    "train['Survived'].value_counts().plot.pie(explode=[0, 0.1], autopct='%1.1f%%', ax=ax[0], shadow=True, colors=colors)\n",
    "ax[0].set_title('Pie Plot - Survived')\n",
    "ax[0].set_ylabel('')\n",
    "\n",
    "sns.countplot('Survived', data=train, ax=ax[1], palette=colors)\n",
    "ax[1].set_title('Count Plot - Survived')\n",
    "\n",
    "plt.show()"
   ]
  },
  {
   "cell_type": "markdown",
   "id": "d589b472",
   "metadata": {},
   "source": [
    "## 2. Exploratory Data Analysis\n",
    "\n",
    "- 시각화 library : matplotlib, seaborn, plotly 등"
   ]
  },
  {
   "cell_type": "markdown",
   "id": "4b607004",
   "metadata": {},
   "source": [
    "### 2.1 Pclass\n",
    "\n",
    "- ordinal (서수형) 데이터 : 카테고리 + 순서\n",
    "- Pclass에 따른 생존율 차이 확인 (엑셀 pivot과 유사)"
   ]
  },
  {
   "cell_type": "markdown",
   "id": "41bebe63",
   "metadata": {},
   "source": [
    "<b>groupby</b>\n",
    "- as_index=True : 그룹 라벨을 index로 사용\n",
    "- count() : 전체 개수\n",
    "- sum() : 'Survived=1'인 사람 총 합\n",
    "- mean() : 평균 생존율"
   ]
  },
  {
   "cell_type": "code",
   "execution_count": 8,
   "id": "65708680",
   "metadata": {},
   "outputs": [
    {
     "data": {
      "text/html": [
       "<div>\n",
       "<style scoped>\n",
       "    .dataframe tbody tr th:only-of-type {\n",
       "        vertical-align: middle;\n",
       "    }\n",
       "\n",
       "    .dataframe tbody tr th {\n",
       "        vertical-align: top;\n",
       "    }\n",
       "\n",
       "    .dataframe thead tr th {\n",
       "        text-align: left;\n",
       "    }\n",
       "\n",
       "    .dataframe thead tr:last-of-type th {\n",
       "        text-align: right;\n",
       "    }\n",
       "</style>\n",
       "<table border=\"1\" class=\"dataframe\">\n",
       "  <thead>\n",
       "    <tr>\n",
       "      <th></th>\n",
       "      <th>count</th>\n",
       "      <th>sum</th>\n",
       "      <th>mean</th>\n",
       "    </tr>\n",
       "    <tr>\n",
       "      <th></th>\n",
       "      <th>Survived</th>\n",
       "      <th>Survived</th>\n",
       "      <th>Survived</th>\n",
       "    </tr>\n",
       "    <tr>\n",
       "      <th>Pclass</th>\n",
       "      <th></th>\n",
       "      <th></th>\n",
       "      <th></th>\n",
       "    </tr>\n",
       "  </thead>\n",
       "  <tbody>\n",
       "    <tr>\n",
       "      <th>1</th>\n",
       "      <td>216</td>\n",
       "      <td>136</td>\n",
       "      <td>0.629630</td>\n",
       "    </tr>\n",
       "    <tr>\n",
       "      <th>2</th>\n",
       "      <td>184</td>\n",
       "      <td>87</td>\n",
       "      <td>0.472826</td>\n",
       "    </tr>\n",
       "    <tr>\n",
       "      <th>3</th>\n",
       "      <td>491</td>\n",
       "      <td>119</td>\n",
       "      <td>0.242363</td>\n",
       "    </tr>\n",
       "  </tbody>\n",
       "</table>\n",
       "</div>"
      ],
      "text/plain": [
       "          count      sum      mean\n",
       "       Survived Survived  Survived\n",
       "Pclass                            \n",
       "1           216      136  0.629630\n",
       "2           184       87  0.472826\n",
       "3           491      119  0.242363"
      ]
     },
     "execution_count": 8,
     "metadata": {},
     "output_type": "execute_result"
    }
   ],
   "source": [
    "c = train[['Survived', 'Pclass']].groupby(['Pclass'], as_index=True).count()\n",
    "s = train[['Survived', 'Pclass']].groupby(['Pclass'], as_index=True).sum()\n",
    "m = train[['Survived', 'Pclass']].groupby(['Pclass'], as_index=True).mean()\n",
    "\n",
    "pd.concat([c, s, m], axis=1, keys=['count', 'sum', 'mean'])"
   ]
  },
  {
   "cell_type": "markdown",
   "id": "8fb2ae9f",
   "metadata": {},
   "source": [
    "<b>pandas의 crosstab 사용하기</b>\n",
    "- margins=True : 각 행과 열의 총합 보여주기"
   ]
  },
  {
   "cell_type": "code",
   "execution_count": 9,
   "id": "72dd01e0",
   "metadata": {},
   "outputs": [
    {
     "data": {
      "text/html": [
       "<style type=\"text/css\">\n",
       "#T_32656_row0_col0, #T_32656_row1_col1, #T_32656_row1_col2 {\n",
       "  background-color: #ffff66;\n",
       "  color: #000000;\n",
       "}\n",
       "#T_32656_row0_col1 {\n",
       "  background-color: #cee666;\n",
       "  color: #000000;\n",
       "}\n",
       "#T_32656_row0_col2 {\n",
       "  background-color: #f4fa66;\n",
       "  color: #000000;\n",
       "}\n",
       "#T_32656_row1_col0 {\n",
       "  background-color: #f6fa66;\n",
       "  color: #000000;\n",
       "}\n",
       "#T_32656_row2_col0 {\n",
       "  background-color: #60b066;\n",
       "  color: #f1f1f1;\n",
       "}\n",
       "#T_32656_row2_col1 {\n",
       "  background-color: #dfef66;\n",
       "  color: #000000;\n",
       "}\n",
       "#T_32656_row2_col2 {\n",
       "  background-color: #90c866;\n",
       "  color: #000000;\n",
       "}\n",
       "#T_32656_row3_col0, #T_32656_row3_col1, #T_32656_row3_col2 {\n",
       "  background-color: #008066;\n",
       "  color: #f1f1f1;\n",
       "}\n",
       "</style>\n",
       "<table id=\"T_32656_\">\n",
       "  <thead>\n",
       "    <tr>\n",
       "      <th class=\"index_name level0\" >Survived</th>\n",
       "      <th class=\"col_heading level0 col0\" >0</th>\n",
       "      <th class=\"col_heading level0 col1\" >1</th>\n",
       "      <th class=\"col_heading level0 col2\" >All</th>\n",
       "    </tr>\n",
       "    <tr>\n",
       "      <th class=\"index_name level0\" >Pclass</th>\n",
       "      <th class=\"blank col0\" >&nbsp;</th>\n",
       "      <th class=\"blank col1\" >&nbsp;</th>\n",
       "      <th class=\"blank col2\" >&nbsp;</th>\n",
       "    </tr>\n",
       "  </thead>\n",
       "  <tbody>\n",
       "    <tr>\n",
       "      <th id=\"T_32656_level0_row0\" class=\"row_heading level0 row0\" >1</th>\n",
       "      <td id=\"T_32656_row0_col0\" class=\"data row0 col0\" >80</td>\n",
       "      <td id=\"T_32656_row0_col1\" class=\"data row0 col1\" >136</td>\n",
       "      <td id=\"T_32656_row0_col2\" class=\"data row0 col2\" >216</td>\n",
       "    </tr>\n",
       "    <tr>\n",
       "      <th id=\"T_32656_level0_row1\" class=\"row_heading level0 row1\" >2</th>\n",
       "      <td id=\"T_32656_row1_col0\" class=\"data row1 col0\" >97</td>\n",
       "      <td id=\"T_32656_row1_col1\" class=\"data row1 col1\" >87</td>\n",
       "      <td id=\"T_32656_row1_col2\" class=\"data row1 col2\" >184</td>\n",
       "    </tr>\n",
       "    <tr>\n",
       "      <th id=\"T_32656_level0_row2\" class=\"row_heading level0 row2\" >3</th>\n",
       "      <td id=\"T_32656_row2_col0\" class=\"data row2 col0\" >372</td>\n",
       "      <td id=\"T_32656_row2_col1\" class=\"data row2 col1\" >119</td>\n",
       "      <td id=\"T_32656_row2_col2\" class=\"data row2 col2\" >491</td>\n",
       "    </tr>\n",
       "    <tr>\n",
       "      <th id=\"T_32656_level0_row3\" class=\"row_heading level0 row3\" >All</th>\n",
       "      <td id=\"T_32656_row3_col0\" class=\"data row3 col0\" >549</td>\n",
       "      <td id=\"T_32656_row3_col1\" class=\"data row3 col1\" >342</td>\n",
       "      <td id=\"T_32656_row3_col2\" class=\"data row3 col2\" >891</td>\n",
       "    </tr>\n",
       "  </tbody>\n",
       "</table>\n"
      ],
      "text/plain": [
       "<pandas.io.formats.style.Styler at 0x1c2861541c0>"
      ]
     },
     "execution_count": 9,
     "metadata": {},
     "output_type": "execute_result"
    }
   ],
   "source": [
    "pd.crosstab(train['Pclass'], train['Survived'], margins=True).style.background_gradient(cmap='summer_r')"
   ]
  },
  {
   "cell_type": "markdown",
   "id": "9005b49c",
   "metadata": {},
   "source": [
    "- Pclass가 좋을수록 생존율이 높음\n",
    "- 생존에 Pclass 영향이 크며, 이후 모델 생성 시 이 feature를 사용하는 것이 좋을 것이라고 판단할 수 있음"
   ]
  },
  {
   "cell_type": "code",
   "execution_count": 10,
   "id": "f65e9b20",
   "metadata": {},
   "outputs": [
    {
     "data": {
      "image/png": "[encoded data removed]",
      "text/plain": [
       "<Figure size 504x216 with 2 Axes>"
      ]
     },
     "metadata": {
      "needs_background": "light"
     },
     "output_type": "display_data"
    }
   ],
   "source": [
    "y_position=1.02\n",
    "f, ax = plt.subplots(1, 2, figsize=(7,3))\n",
    "\n",
    "train['Pclass'].value_counts().plot.bar(color=colors, ax=ax[0])\n",
    "ax[0].set_title('Number of Passengers by Pclass', y=y_position)\n",
    "ax[0].set_ylabel('count')\n",
    "\n",
    "sns.countplot('Pclass', hue='Survived', data=train, palette=colors, ax=ax[1])\n",
    "ax[1].set_title('Pclass: Survived vs Dead', y=y_position)\n",
    "\n",
    "plt.subplots_adjust(wspace=0.5)\n",
    "plt.show()"
   ]
  },
  {
   "cell_type": "markdown",
   "id": "9e421de4",
   "metadata": {},
   "source": [
    "subplot 함수"
   ]
  },
  {
   "cell_type": "code",
   "execution_count": 11,
   "id": "838f25e0",
   "metadata": {},
   "outputs": [],
   "source": [
    "def drawSubplot(col, sort=False):\n",
    "    y_position=1.02\n",
    "    f, ax = plt.subplots(1, 3, figsize=(12,3))\n",
    "    \n",
    "    train[col].value_counts().plot.bar(color=colors, ax=ax[0])\n",
    "    ax[0].set_title('Number of Passengers by {}'.format(col), y=y_position)\n",
    "    ax[0].set_ylabel('count')\n",
    "    \n",
    "    if sort == True:\n",
    "        train[[col, 'Survived']].groupby([col], as_index=True).mean().sort_values(by='Survived', ascending=False).plot.bar(color=colors, ax=ax[1])\n",
    "        ax[1].set_title('Survived vs {}'.format(col))\n",
    "        ax[1].set_ylabel('rate')\n",
    "    else:\n",
    "        train[[col, 'Survived']].groupby([col], as_index=True).mean().plot.bar(color=colors, ax=ax[1])\n",
    "        ax[1].set_title('Survived vs {}'.format(col))\n",
    "        ax[1].set_ylabel('rate')\n",
    "    \n",
    "    sns.countplot(col, hue='Survived', data=train, palette=colors, ax=ax[2])\n",
    "    ax[2].set_title('{}: Survived vs Dead'.format(col), y=y_position)\n",
    "    \n",
    "    plt.subplots_adjust(wspace=0.5)\n",
    "    plt.show()"
   ]
  },
  {
   "cell_type": "markdown",
   "id": "8f53290c",
   "metadata": {},
   "source": [
    "### 2.2 Sex\n",
    "\n",
    "- 성별에 따른 생존율 차이 확인"
   ]
  },
  {
   "cell_type": "code",
   "execution_count": 12,
   "id": "c7a395b0",
   "metadata": {},
   "outputs": [
    {
     "data": {
      "text/html": [
       "<style type=\"text/css\">\n",
       "#T_ddd90_row0_col0, #T_ddd90_row0_col2, #T_ddd90_row1_col1 {\n",
       "  background-color: #ffff66;\n",
       "  color: #000000;\n",
       "}\n",
       "#T_ddd90_row0_col1 {\n",
       "  background-color: #77bb66;\n",
       "  color: #f1f1f1;\n",
       "}\n",
       "#T_ddd90_row1_col0 {\n",
       "  background-color: #2c9666;\n",
       "  color: #f1f1f1;\n",
       "}\n",
       "#T_ddd90_row1_col2 {\n",
       "  background-color: #8bc566;\n",
       "  color: #000000;\n",
       "}\n",
       "#T_ddd90_row2_col0, #T_ddd90_row2_col1, #T_ddd90_row2_col2 {\n",
       "  background-color: #008066;\n",
       "  color: #f1f1f1;\n",
       "}\n",
       "</style>\n",
       "<table id=\"T_ddd90_\">\n",
       "  <thead>\n",
       "    <tr>\n",
       "      <th class=\"index_name level0\" >Survived</th>\n",
       "      <th class=\"col_heading level0 col0\" >0</th>\n",
       "      <th class=\"col_heading level0 col1\" >1</th>\n",
       "      <th class=\"col_heading level0 col2\" >All</th>\n",
       "    </tr>\n",
       "    <tr>\n",
       "      <th class=\"index_name level0\" >Sex</th>\n",
       "      <th class=\"blank col0\" >&nbsp;</th>\n",
       "      <th class=\"blank col1\" >&nbsp;</th>\n",
       "      <th class=\"blank col2\" >&nbsp;</th>\n",
       "    </tr>\n",
       "  </thead>\n",
       "  <tbody>\n",
       "    <tr>\n",
       "      <th id=\"T_ddd90_level0_row0\" class=\"row_heading level0 row0\" >female</th>\n",
       "      <td id=\"T_ddd90_row0_col0\" class=\"data row0 col0\" >81</td>\n",
       "      <td id=\"T_ddd90_row0_col1\" class=\"data row0 col1\" >233</td>\n",
       "      <td id=\"T_ddd90_row0_col2\" class=\"data row0 col2\" >314</td>\n",
       "    </tr>\n",
       "    <tr>\n",
       "      <th id=\"T_ddd90_level0_row1\" class=\"row_heading level0 row1\" >male</th>\n",
       "      <td id=\"T_ddd90_row1_col0\" class=\"data row1 col0\" >468</td>\n",
       "      <td id=\"T_ddd90_row1_col1\" class=\"data row1 col1\" >109</td>\n",
       "      <td id=\"T_ddd90_row1_col2\" class=\"data row1 col2\" >577</td>\n",
       "    </tr>\n",
       "    <tr>\n",
       "      <th id=\"T_ddd90_level0_row2\" class=\"row_heading level0 row2\" >All</th>\n",
       "      <td id=\"T_ddd90_row2_col0\" class=\"data row2 col0\" >549</td>\n",
       "      <td id=\"T_ddd90_row2_col1\" class=\"data row2 col1\" >342</td>\n",
       "      <td id=\"T_ddd90_row2_col2\" class=\"data row2 col2\" >891</td>\n",
       "    </tr>\n",
       "  </tbody>\n",
       "</table>\n"
      ],
      "text/plain": [
       "<pandas.io.formats.style.Styler at 0x1c2865dfa00>"
      ]
     },
     "execution_count": 12,
     "metadata": {},
     "output_type": "execute_result"
    }
   ],
   "source": [
    "pd.crosstab(train['Sex'], train['Survived'], margins=True).style.background_gradient(cmap='summer_r')"
   ]
  },
  {
   "cell_type": "markdown",
   "id": "41645628",
   "metadata": {},
   "source": [
    "- 여성의 생존율이 더 높음\n",
    "- 생존에 Sex 영향이 크며, 이후 모델 생성 시 이 feature를 사용하는 것이 좋을 것이라고 판단할 수 있음"
   ]
  },
  {
   "cell_type": "code",
   "execution_count": 13,
   "id": "b5baeaa0",
   "metadata": {},
   "outputs": [
    {
     "data": {
      "image/png": "[encoded data removed]",
      "text/plain": [
       "<Figure size 864x216 with 3 Axes>"
      ]
     },
     "metadata": {
      "needs_background": "light"
     },
     "output_type": "display_data"
    }
   ],
   "source": [
    "drawSubplot('Sex')"
   ]
  },
  {
   "cell_type": "markdown",
   "id": "9a2da303",
   "metadata": {},
   "source": [
    "### 2.3 Pclass and Sex"
   ]
  },
  {
   "cell_type": "markdown",
   "id": "d4c3643b",
   "metadata": {},
   "source": [
    "<b>seaborn factorplot</b>\n",
    "- 3차원 그래프\n",
    "- aspect : 높이는 고정한 상태에서 너비 비율 조정"
   ]
  },
  {
   "cell_type": "code",
   "execution_count": 14,
   "id": "ceaecd29",
   "metadata": {},
   "outputs": [
    {
     "data": {
      "text/plain": [
       "<seaborn.axisgrid.FacetGrid at 0x1c2865b8670>"
      ]
     },
     "execution_count": 14,
     "metadata": {},
     "output_type": "execute_result"
    },
    {
     "data": {
      "image/png": "[encoded data removed]",
      "text/plain": [
       "<Figure size 396.85x216 with 1 Axes>"
      ]
     },
     "metadata": {
      "needs_background": "light"
     },
     "output_type": "display_data"
    }
   ],
   "source": [
    "sns.factorplot('Pclass', 'Survived', hue='Sex', data=train, size=3, aspect=1.5)"
   ]
  },
  {
   "cell_type": "markdown",
   "id": "a42463f9",
   "metadata": {},
   "source": [
    "- 모든 class에서 female의 생존율이 높음\n",
    "- 성별과 상관없이 class가 높을수록 생존율이 높음"
   ]
  },
  {
   "cell_type": "code",
   "execution_count": 15,
   "id": "64d62f46",
   "metadata": {},
   "outputs": [
    {
     "data": {
      "text/plain": [
       "<seaborn.axisgrid.FacetGrid at 0x1c28679c340>"
      ]
     },
     "execution_count": 15,
     "metadata": {},
     "output_type": "execute_result"
    },
    {
     "data": {
      "image/png": "[encoded data removed]",
      "text/plain": [
       "<Figure size 648x216 with 3 Axes>"
      ]
     },
     "metadata": {
      "needs_background": "light"
     },
     "output_type": "display_data"
    }
   ],
   "source": [
    "sns.factorplot('Sex', 'Survived', col='Pclass', data=train, size=3, aspect=1)"
   ]
  },
  {
   "cell_type": "markdown",
   "id": "ed042659",
   "metadata": {},
   "source": [
    "### 2.4 Age"
   ]
  },
  {
   "cell_type": "code",
   "execution_count": 16,
   "id": "62e0cb59",
   "metadata": {},
   "outputs": [
    {
     "name": "stdout",
     "output_type": "stream",
     "text": [
      "제일 나이 많은 탑승객 : 80.0 Years\n",
      "제일 나이 어린 탑승객 : 0.4 Years\n",
      "탑승객 평균 나이      : 29.7 Years\n"
     ]
    }
   ],
   "source": [
    "print(\"제일 나이 많은 탑승객 : {:.1f} Years\".format(train['Age'].max()))\n",
    "print(\"제일 나이 어린 탑승객 : {:.1f} Years\".format(train['Age'].min()))\n",
    "print(\"탑승객 평균 나이      : {:.1f} Years\".format(train['Age'].mean()))"
   ]
  },
  {
   "cell_type": "markdown",
   "id": "2b94cbc1",
   "metadata": {},
   "source": [
    "생존에 따른 Age histogram\n",
    "- 나이가 어린 생존자가 많음\n",
    "- Class가 높을수록 나이 많은 사람의 비중이 커짐"
   ]
  },
  {
   "cell_type": "markdown",
   "id": "671e3188",
   "metadata": {},
   "source": [
    "<b>kdeplot</b>\n",
    "- 커널밀도추정 그래프 (Kernel Density Estimator)\n",
    "- 히스토그램 같은 분포를 스무딩해서 곡선으로 그려주는 것"
   ]
  },
  {
   "cell_type": "code",
   "execution_count": 17,
   "id": "3c62aa6e",
   "metadata": {},
   "outputs": [
    {
     "data": {
      "image/png": "[encoded data removed]",
      "text/plain": [
       "<Figure size 864x288 with 2 Axes>"
      ]
     },
     "metadata": {
      "needs_background": "light"
     },
     "output_type": "display_data"
    }
   ],
   "source": [
    "fig, ax = plt.subplots(1,2, figsize=(12,4))\n",
    "\n",
    "sns.kdeplot(train[train['Survived'] == 1]['Age'], ax=ax[0])\n",
    "sns.kdeplot(train[train['Survived'] == 0]['Age'], ax=ax[0])\n",
    "ax[0].legend(['Survived == 1', 'Survived == 0'])\n",
    "\n",
    "train['Age'][train['Pclass'] == 1].plot(kind='kde', ax=ax[1])\n",
    "train['Age'][train['Pclass'] == 2].plot(kind='kde', ax=ax[1])\n",
    "train['Age'][train['Pclass'] == 3].plot(kind='kde', ax=ax[1])\n",
    "ax[1].set_xlabel('Age')\n",
    "ax[1].set_title('Age Distribution within classes')\n",
    "ax[1].legend(['1st Class', '2nd Class', '3rd Class'])\n",
    "\n",
    "plt.subplots_adjust(wspace=0.3)\n",
    "plt.show()"
   ]
  },
  {
   "cell_type": "markdown",
   "id": "a2f9170c",
   "metadata": {},
   "source": [
    "연령 * 생존율\n",
    "- 나이가 어릴수록 생존율이 높음\n",
    "- 생존에 Age 영향이 크며, 이후 모델 생성 시 이 feature를 사용하는 것이 좋을 것이라고 판단할 수 있음"
   ]
  },
  {
   "cell_type": "code",
   "execution_count": 18,
   "id": "39a3a3ec",
   "metadata": {},
   "outputs": [
    {
     "data": {
      "image/png": "[encoded data removed]",
      "text/plain": [
       "<Figure size 360x288 with 1 Axes>"
      ]
     },
     "metadata": {
      "needs_background": "light"
     },
     "output_type": "display_data"
    }
   ],
   "source": [
    "cummulate_survival_rate = []\n",
    "\n",
    "for i in range(1, int(train['Age'].max())):\n",
    "    cummulate_survival_rate.append(train[train['Age'] < i]['Survived'].sum() / len(train[train['Age'] < i]))\n",
    "\n",
    "plt.figure(figsize=(5,4))\n",
    "plt.plot(cummulate_survival_rate)\n",
    "plt.title('Survival rate change depending on range of Age', y=1.02)\n",
    "plt.xlabel('Range of Age(0~x)')\n",
    "plt.ylabel('Survival rate')\n",
    "plt.show()"
   ]
  },
  {
   "cell_type": "markdown",
   "id": "8572c95d",
   "metadata": {},
   "source": [
    "### 2.5 Pclass, Sex, Age"
   ]
  },
  {
   "cell_type": "markdown",
   "id": "351e25c4",
   "metadata": {},
   "source": [
    "<b>seaborn violinplot</b>\n",
    "- x축 : 명목형 변수 (Pclass, Sex)\n",
    "- y축 : 수치형 변수의 distribution (Age)"
   ]
  },
  {
   "cell_type": "markdown",
   "id": "7229bb14",
   "metadata": {},
   "source": [
    "- 모든 class에서 어릴수록 생존율 높음\n",
    "- 여성의 생존율 높음"
   ]
  },
  {
   "cell_type": "code",
   "execution_count": 19,
   "id": "b0784a8e",
   "metadata": {},
   "outputs": [
    {
     "data": {
      "image/png": "[encoded data removed]",
      "text/plain": [
       "<Figure size 720x360 with 2 Axes>"
      ]
     },
     "metadata": {
      "needs_background": "light"
     },
     "output_type": "display_data"
    }
   ],
   "source": [
    "f, ax = plt.subplots(1, 2, figsize=(10, 5))\n",
    "\n",
    "sns.violinplot('Pclass', 'Age', hue='Survived', data=train, scale='count', split=True, ax=ax[0], palette=colors)\n",
    "ax[0].set_title('Pclass and Age vs Survived')\n",
    "ax[0].set_yticks(range(0, 110, 10))\n",
    "sns.violinplot('Sex', 'Age', hue='Survived', data=train, scale='count', split=True, ax=ax[1], palette=colors)\n",
    "ax[1].set_title('Sex and Age vs Survived')\n",
    "ax[1].set_yticks(range(0, 110, 10))\n",
    "plt.show()"
   ]
  },
  {
   "cell_type": "markdown",
   "id": "1a6d042f",
   "metadata": {},
   "source": [
    "### 2.6 Embarked\n",
    "\n",
    "- 탑승 항구 'C'의 생존율이 가장 높음"
   ]
  },
  {
   "cell_type": "code",
   "execution_count": 20,
   "id": "3fe81d39",
   "metadata": {},
   "outputs": [
    {
     "data": {
      "image/png": "[encoded data removed]",
      "text/plain": [
       "<Figure size 864x216 with 3 Axes>"
      ]
     },
     "metadata": {
      "needs_background": "light"
     },
     "output_type": "display_data"
    }
   ],
   "source": [
    "drawSubplot('Embarked', True)"
   ]
  },
  {
   "cell_type": "markdown",
   "id": "a2baf46c",
   "metadata": {},
   "source": [
    "- (1) 'S'에서 가장 많은 사람 탑승\n",
    "- (2) 'S'의 남성 비율이 높음\n",
    "- (3) 'S'의 생존율이 매우 낮음\n",
    "- (4) 'S'에서 3rd Class 고객이 많이 탑승함"
   ]
  },
  {
   "cell_type": "code",
   "execution_count": 21,
   "id": "6294f61b",
   "metadata": {},
   "outputs": [
    {
     "data": {
      "text/plain": [
       "Text(0.5, 1.0, '(4) Embarked vs Pclass')"
      ]
     },
     "execution_count": 21,
     "metadata": {},
     "output_type": "execute_result"
    },
    {
     "data": {
      "image/png": "[encoded data removed]",
      "text/plain": [
       "<Figure size 1080x216 with 4 Axes>"
      ]
     },
     "metadata": {
      "needs_background": "light"
     },
     "output_type": "display_data"
    }
   ],
   "source": [
    "f, ax = plt.subplots(1, 4, figsize=(15, 3))\n",
    "sns.countplot('Embarked', data=train, ax=ax[0], palette=colors)\n",
    "sns.countplot('Embarked', hue='Sex', data=train, ax=ax[1], palette=colors)\n",
    "sns.countplot('Embarked', hue='Survived', data=train, ax=ax[2], palette=colors)\n",
    "sns.countplot('Embarked', hue='Pclass', data=train, ax=ax[3], palette=colors)\n",
    "ax[0].set_title('(1) No. of Passengers Boarded')\n",
    "ax[1].set_title('(2) Male-Female Split for Embarked')\n",
    "ax[2].set_title('(3) Embarked vs Survived')\n",
    "ax[3].set_title('(4) Embarked vs Pclass')"
   ]
  },
  {
   "cell_type": "markdown",
   "id": "09eef2e4",
   "metadata": {},
   "source": [
    "### 2.7 Family\n",
    "\n",
    "- SibSp (형제/자매) + Parch(부모/자녀) + 1(본인)"
   ]
  },
  {
   "cell_type": "code",
   "execution_count": 22,
   "id": "05a05cd5",
   "metadata": {},
   "outputs": [
    {
     "name": "stdout",
     "output_type": "stream",
     "text": [
      "Maximum size of Family : 11\n",
      "Minimum size of Family : 1\n"
     ]
    }
   ],
   "source": [
    "train['FamilySize'] = train['SibSp'] + train['Parch'] + 1\n",
    "test['FamilySize'] = test['SibSp'] + test['Parch'] + 1\n",
    "\n",
    "print(\"Maximum size of Family : {}\".format(train['FamilySize'].max()))\n",
    "print(\"Minimum size of Family : {}\".format(train['FamilySize'].min()))"
   ]
  },
  {
   "cell_type": "code",
   "execution_count": 23,
   "id": "9dec344f",
   "metadata": {},
   "outputs": [
    {
     "data": {
      "image/png": "[encoded data removed]",
      "text/plain": [
       "<Figure size 1080x288 with 3 Axes>"
      ]
     },
     "metadata": {
      "needs_background": "light"
     },
     "output_type": "display_data"
    }
   ],
   "source": [
    "f, ax = plt.subplots(1, 3, figsize=(15, 4))\n",
    "sns.countplot('FamilySize', data=train, ax=ax[0], palette=colors)\n",
    "sns.countplot('FamilySize', data=train, ax=ax[1], palette=colors)\n",
    "train[['FamilySize', 'Survived']].groupby(['FamilySize'], as_index=True).mean().sort_values(by='Survived', ascending=False).plot.bar(ax=ax[2], color=colors)\n",
    "\n",
    "ax[0].set_title('(1) No. of Passengers Boarded', y=1.02)\n",
    "ax[1].set_title('(2) Survived countplot depending on FamilySize', y=1.02)\n",
    "ax[2].set_title('(3) Survived rate depending on FamilySize', y=1.02)\n",
    "\n",
    "plt.subplots_adjust(wspace=0.2, hspace=0.5)\n",
    "plt.show()"
   ]
  },
  {
   "cell_type": "markdown",
   "id": "70f01985",
   "metadata": {},
   "source": [
    "### 2.8 Fare\n",
    "\n",
    "- 탑승 요금\n",
    "- continuous feature"
   ]
  },
  {
   "cell_type": "markdown",
   "id": "5ed2b392",
   "metadata": {},
   "source": [
    "Histogram : Distribution Plot\n",
    "- https://seaborn.pydata.org/generated/seaborn.distplot.html\n",
    "- label : Legend label for the relevant component of the plot."
   ]
  },
  {
   "cell_type": "markdown",
   "id": "e7846b78",
   "metadata": {},
   "source": [
    "- 비대칭 그래프 (high skewness)\n",
    "- 해당 데이터 학습 시 모델이 outlier에 민감하게 반응해서 성능이 떨어질 수 있음\n",
    "- outlier의 영향을 줄이기 위해 'Fare' 데이터에 'log' 적용\n",
    "- cf) 이 부분은 사실 feature engineering (모델의 성능 향상을 위해 feature를 조작하거나, 새로운 feature 추가하는 작업)"
   ]
  },
  {
   "cell_type": "code",
   "execution_count": 24,
   "id": "15bb718d",
   "metadata": {},
   "outputs": [
    {
     "data": {
      "text/plain": [
       "<matplotlib.legend.Legend at 0x1c287c05ac0>"
      ]
     },
     "execution_count": 24,
     "metadata": {},
     "output_type": "execute_result"
    },
    {
     "data": {
      "image/png": "[encoded data removed]",
      "text/plain": [
       "<Figure size 720x360 with 2 Axes>"
      ]
     },
     "metadata": {
      "needs_background": "light"
     },
     "output_type": "display_data"
    }
   ],
   "source": [
    "f, ax = plt.subplots(1, 2, figsize=(10, 5))\n",
    "\n",
    "sns.distplot(train['Fare'], color='b', label='Skewness : {:.2f}'.format(train['Fare'].skew()), ax=ax[0])\n",
    "ax[0].legend(loc='best')   # label 위치\n",
    "\n",
    "# Null 값 -> mean 대체\n",
    "test.loc[train.Fare.isnull(), 'Fare'] = test['Fare'].mean()\n",
    "\n",
    "# log 적용\n",
    "train['Fare'] = train['Fare'].map(lambda i : np.log(i) if i > 0 else 0)\n",
    "test['Fare'] = test['Fare'].map(lambda i : np.log(i) if i > 0 else 0)\n",
    "\n",
    "sns.distplot(train['Fare'], color='b', label='Skewness : {:.2f}'.format(train['Fare'].skew()), ax=ax[1])\n",
    "ax[1].legend(loc='best')   # label 위치"
   ]
  },
  {
   "cell_type": "markdown",
   "id": "3f48ff66",
   "metadata": {},
   "source": [
    "### 2.9 Ticket\n",
    "\n",
    "- 값이 매우 다양한 범주형 변수 (string)"
   ]
  },
  {
   "cell_type": "code",
   "execution_count": 25,
   "id": "eaf77599",
   "metadata": {},
   "outputs": [
    {
     "data": {
      "text/plain": [
       "347082                7\n",
       "CA. 2343              7\n",
       "1601                  7\n",
       "3101295               6\n",
       "CA 2144               6\n",
       "347088                6\n",
       "S.O.C. 14879          5\n",
       "382652                5\n",
       "LINE                  4\n",
       "PC 17757              4\n",
       "17421                 4\n",
       "349909                4\n",
       "113760                4\n",
       "4133                  4\n",
       "113781                4\n",
       "W./C. 6608            4\n",
       "2666                  4\n",
       "19950                 4\n",
       "347077                4\n",
       "C.A. 31921            3\n",
       "PC 17572              3\n",
       "C.A. 34651            3\n",
       "363291                3\n",
       "F.C.C. 13529          3\n",
       "345773                3\n",
       "248727                3\n",
       "24160                 3\n",
       "29106                 3\n",
       "SC/Paris 2123         3\n",
       "35273                 3\n",
       "371110                3\n",
       "230080                3\n",
       "PC 17760              3\n",
       "239853                3\n",
       "PC 17582              3\n",
       "347742                3\n",
       "110152                3\n",
       "13502                 3\n",
       "110413                3\n",
       "PC 17755              3\n",
       "PC 17558              2\n",
       "237736                2\n",
       "17474                 2\n",
       "PC 17758              2\n",
       "PP 9549               2\n",
       "S.O./P.P. 3           2\n",
       "P/PP 3381             2\n",
       "PC 17485              2\n",
       "2668                  2\n",
       "2627                  2\n",
       "PC 17604              2\n",
       "2653                  2\n",
       "2665                  2\n",
       "113798                2\n",
       "31027                 2\n",
       "2908                  2\n",
       "W./C. 6607            2\n",
       "WE/P 5735             2\n",
       "35281                 2\n",
       "113789                2\n",
       "244367                2\n",
       "231919                2\n",
       "110465                2\n",
       "PC 17477              2\n",
       "2699                  2\n",
       "367226                2\n",
       "113806                2\n",
       "230136                2\n",
       "111361                2\n",
       "113505                2\n",
       "113803                2\n",
       "370365                2\n",
       "364849                2\n",
       "358585                2\n",
       "250644                2\n",
       "C.A. 37671            2\n",
       "250647                2\n",
       "16966                 2\n",
       "36928                 2\n",
       "113776                2\n",
       "392096                2\n",
       "C.A. 33112            2\n",
       "A/4 48871             2\n",
       "STON/O2. 3101279      2\n",
       "2691                  2\n",
       "2678                  2\n",
       "PC 17593              2\n",
       "7534                  2\n",
       "PC 17608              2\n",
       "11767                 2\n",
       "347054                2\n",
       "243847                2\n",
       "PC 17761              2\n",
       "28403                 2\n",
       "244252                2\n",
       "11668                 2\n",
       "2659                  2\n",
       "2661                  2\n",
       "C.A. 2673             2\n",
       "370129                2\n",
       "36973                 2\n",
       "113572                2\n",
       "13507                 2\n",
       "A/5. 3336             2\n",
       "17453                 2\n",
       "19928                 2\n",
       "347080                2\n",
       "367230                2\n",
       "54636                 2\n",
       "250655                2\n",
       "PC 17569              2\n",
       "26360                 2\n",
       "376564                2\n",
       "11967                 2\n",
       "19877                 2\n",
       "220845                2\n",
       "PC 17611              2\n",
       "C.A. 2315             2\n",
       "36947                 2\n",
       "11751                 2\n",
       "230433                2\n",
       "345764                2\n",
       "2651                  2\n",
       "239865                2\n",
       "19943                 2\n",
       "3101278               2\n",
       "250649                2\n",
       "29750                 2\n",
       "364516                2\n",
       "248738                2\n",
       "12749                 2\n",
       "19996                 2\n",
       "S.C./PARIS 2079       2\n",
       "349237                2\n",
       "STON/O 2. 3101273     1\n",
       "349224                1\n",
       "A./5. 3235            1\n",
       "14973                 1\n",
       "SC/AH 29037           1\n",
       "219533                1\n",
       "A/5 3902              1\n",
       "364848                1\n",
       "349214                1\n",
       "36963                 1\n",
       "31028                 1\n",
       "349910                1\n",
       "349246                1\n",
       "347743                1\n",
       "113804                1\n",
       "364511                1\n",
       "SOTON/O.Q. 3101305    1\n",
       "364512                1\n",
       "11753                 1\n",
       "334912                1\n",
       "113796                1\n",
       "111426                1\n",
       "27042                 1\n",
       "350029                1\n",
       "13214                 1\n",
       "2664                  1\n",
       "112052                1\n",
       "370377                1\n",
       "A/5 21171             1\n",
       "13567                 1\n",
       "PC 17473              1\n",
       "364846                1\n",
       "330909                1\n",
       "4135                  1\n",
       "111427                1\n",
       "C 4001                1\n",
       "382651                1\n",
       "SOTON/OQ 3101316      1\n",
       "PC 17603              1\n",
       "350035                1\n",
       "349209                1\n",
       "36967                 1\n",
       "C.A. 34260            1\n",
       "226875                1\n",
       "349242                1\n",
       "349252                1\n",
       "2624                  1\n",
       "315086                1\n",
       "C.A. 6212             1\n",
       "237565                1\n",
       "239854                1\n",
       "323592                1\n",
       "315089                1\n",
       "SC/AH Basle 541       1\n",
       "7553                  1\n",
       "3460                  1\n",
       "350060                1\n",
       "3101298               1\n",
       "A/5 3594              1\n",
       "A/4 45380             1\n",
       "4134                  1\n",
       "11771                 1\n",
       "A.5. 18509            1\n",
       "65304                 1\n",
       "SOTON/OQ 3101317      1\n",
       "113787                1\n",
       "PC 17609              1\n",
       "2700                  1\n",
       "367232                1\n",
       "W./C. 14258           1\n",
       "PC 17474              1\n",
       "SOTON/OQ 392082       1\n",
       "SOTON/O.Q. 392087     1\n",
       "349205                1\n",
       "2686                  1\n",
       "350417                1\n",
       "S.W./PP 752           1\n",
       "11769                 1\n",
       "14312                 1\n",
       "PC 17483              1\n",
       "A/4. 20589            1\n",
       "243880                1\n",
       "2689                  1\n",
       "STON/O 2. 3101286     1\n",
       "237789                1\n",
       "13049                 1\n",
       "3411                  1\n",
       "218629                1\n",
       "349251                1\n",
       "372622                1\n",
       "345572                1\n",
       "3101296               1\n",
       "29104                 1\n",
       "2641                  1\n",
       "2690                  1\n",
       "315084                1\n",
       "113050                1\n",
       "364498                1\n",
       "13568                 1\n",
       "693                   1\n",
       "SC/PARIS 2146         1\n",
       "244358                1\n",
       "330979                1\n",
       "2620                  1\n",
       "347085                1\n",
       "11755                 1\n",
       "113807                1\n",
       "342826                1\n",
       "237668                1\n",
       "3474                  1\n",
       "2685                  1\n",
       "2625                  1\n",
       "347089                1\n",
       "347063                1\n",
       "112050                1\n",
       "347087                1\n",
       "248723                1\n",
       "28206                 1\n",
       "2671                  1\n",
       "364499                1\n",
       "112058                1\n",
       "STON/O2. 3101290      1\n",
       "C 7075                1\n",
       "315098                1\n",
       "19972                 1\n",
       "368323                1\n",
       "349244                1\n",
       "17465                 1\n",
       "28213                 1\n",
       "349203                1\n",
       "8471                  1\n",
       "345781                1\n",
       "350047                1\n",
       "2674                  1\n",
       "29105                 1\n",
       "347078                1\n",
       "383121                1\n",
       "36865                 1\n",
       "2687                  1\n",
       "113501                1\n",
       "SOTON/O.Q. 3101312    1\n",
       "374887                1\n",
       "3101265               1\n",
       "12460                 1\n",
       "PC 17600              1\n",
       "367228                1\n",
       "347468                1\n",
       "STON/O 2. 3101292     1\n",
       "349212                1\n",
       "SC/PARIS 2149         1\n",
       "PC 17590              1\n",
       "345777                1\n",
       "349248                1\n",
       "695                   1\n",
       "345765                1\n",
       "2667                  1\n",
       "349217                1\n",
       "2223                  1\n",
       "349257                1\n",
       "7552                  1\n",
       "C.A./SOTON 34068      1\n",
       "SOTON/OQ 392076       1\n",
       "211536                1\n",
       "112053                1\n",
       "111369                1\n",
       "236852                1\n",
       "233866                1\n",
       "17466                 1\n",
       "28134                 1\n",
       "PC 17756              1\n",
       "315097                1\n",
       "392092                1\n",
       "11774                 1\n",
       "SOTON/O2 3101287      1\n",
       "2683                  1\n",
       "315090                1\n",
       "C.A. 5547             1\n",
       "349213                1\n",
       "347060                1\n",
       "PC 17592              1\n",
       "392091                1\n",
       "113055                1\n",
       "2629                  1\n",
       "350026                1\n",
       "364850                1\n",
       "112379                1\n",
       "347074                1\n",
       "6563                  1\n",
       "C.A. 24580            1\n",
       "244270                1\n",
       "239856                1\n",
       "349912                1\n",
       "113792                1\n",
       "4138                  1\n",
       "330935                1\n",
       "349228                1\n",
       "2663                  1\n",
       "350036                1\n",
       "349256                1\n",
       "2672                  1\n",
       "113800                1\n",
       "248731                1\n",
       "363592                1\n",
       "35852                 1\n",
       "F.C. 12750            1\n",
       "A/5 3536              1\n",
       "312993                1\n",
       "234686                1\n",
       "350050                1\n",
       "349231                1\n",
       "13213                 1\n",
       "S.O./P.P. 751         1\n",
       "CA. 2314              1\n",
       "349221                1\n",
       "8475                  1\n",
       "330919                1\n",
       "365226                1\n",
       "349223                1\n",
       "29751                 1\n",
       "2623                  1\n",
       "5727                  1\n",
       "349210                1\n",
       "STON/O 2. 3101285     1\n",
       "348121                1\n",
       "PC 17475              1\n",
       "36864                 1\n",
       "28425                 1\n",
       "349201                1\n",
       "349218                1\n",
       "16988                 1\n",
       "376566                1\n",
       "STON/O 2. 3101288     1\n",
       "250648                1\n",
       "113773                1\n",
       "335097                1\n",
       "29103                 1\n",
       "345780                1\n",
       "349204                1\n",
       "350042                1\n",
       "29108                 1\n",
       "363294                1\n",
       "SOTON/O2 3101272      1\n",
       "233639                1\n",
       "239855                1\n",
       "350025                1\n",
       "STON/O2. 3101271      1\n",
       "223596                1\n",
       "PC 17476              1\n",
       "PC 17482              1\n",
       "113028                1\n",
       "7545                  1\n",
       "348124                1\n",
       "34218                 1\n",
       "36568                 1\n",
       "347062                1\n",
       "350048                1\n",
       "12233                 1\n",
       "250643                1\n",
       "315094                1\n",
       "36866                 1\n",
       "236853                1\n",
       "36209                 1\n",
       "244278                1\n",
       "SOTON/O.Q. 3101306    1\n",
       "SOTON/OQ 392090       1\n",
       "S.O.P. 1166           1\n",
       "A.5. 11206            1\n",
       "A/5. 851              1\n",
       "Fa 265302             1\n",
       "PC 17597              1\n",
       "35851                 1\n",
       "315037                1\n",
       "350043                1\n",
       "371362                1\n",
       "C.A. 33595            1\n",
       "347068                1\n",
       "315093                1\n",
       "PC 17318              1\n",
       "111240                1\n",
       "244310                1\n",
       "231945                1\n",
       "17764                 1\n",
       "349241                1\n",
       "370369                1\n",
       "A4. 54510             1\n",
       "27267                 1\n",
       "370372                1\n",
       "C 17369               1\n",
       "347061                1\n",
       "SOTON/O.Q. 3101307    1\n",
       "365222                1\n",
       "A/5. 3337             1\n",
       "228414                1\n",
       "C.A. 29178            1\n",
       "SC/PARIS 2133         1\n",
       "11752                 1\n",
       "347081                1\n",
       "STON/O 2. 3101280     1\n",
       "350404                1\n",
       "A/S 2816              1\n",
       "367229                1\n",
       "367231                1\n",
       "112277                1\n",
       "SOTON/O.Q. 3101311    1\n",
       "F.C.C. 13528          1\n",
       "A/5 21174             1\n",
       "250646                1\n",
       "STON/O2. 3101283      1\n",
       "2628                  1\n",
       "11813                 1\n",
       "W/C 14208             1\n",
       "SOTON/OQ 392089       1\n",
       "220367                1\n",
       "21440                 1\n",
       "349234                1\n",
       "A/5 3540              1\n",
       "3101264               1\n",
       "PC 17595              1\n",
       "234604                1\n",
       "250653                1\n",
       "SC/PARIS 2131         1\n",
       "315153                1\n",
       "113767                1\n",
       "111428                1\n",
       "349247                1\n",
       "28424                 1\n",
       "345770                1\n",
       "350046                1\n",
       "PC 17610              1\n",
       "368703                1\n",
       "4579                  1\n",
       "370370                1\n",
       "248747                1\n",
       "STON/O 2. 3101294     1\n",
       "4136                  1\n",
       "324669                1\n",
       "330958                1\n",
       "335677                1\n",
       "C.A. 24579            1\n",
       "2677                  1\n",
       "A./5. 2152            1\n",
       "7546                  1\n",
       "349253                1\n",
       "S.C./A.4. 23567       1\n",
       "349216                1\n",
       "370371                1\n",
       "14311                 1\n",
       "2662                  1\n",
       "A/4. 39886            1\n",
       "2926                  1\n",
       "113509                1\n",
       "PC 17601              1\n",
       "330959                1\n",
       "349249                1\n",
       "350406                1\n",
       "STON/O2. 3101282      1\n",
       "373450                1\n",
       "330877                1\n",
       "17463                 1\n",
       "113783                1\n",
       "A/5. 2151             1\n",
       "248706                1\n",
       "2631                  1\n",
       "244373                1\n",
       "345763                1\n",
       "2649                  1\n",
       "248698                1\n",
       "330923                1\n",
       "113788                1\n",
       "19947                 1\n",
       "C.A. 31026            1\n",
       "2697                  1\n",
       "PC 17759              1\n",
       "343276                1\n",
       "347466                1\n",
       "W.E.P. 5734           1\n",
       "364500                1\n",
       "374910                1\n",
       "PC 17754              1\n",
       "349245                1\n",
       "2669                  1\n",
       "349215                1\n",
       "7540                  1\n",
       "3101276               1\n",
       "349207                1\n",
       "343120                1\n",
       "312991                1\n",
       "343275                1\n",
       "SOTON/OQ 392086       1\n",
       "SO/C 14885            1\n",
       "113059                1\n",
       "330932                1\n",
       "345779                1\n",
       "345767                1\n",
       "374746                1\n",
       "349208                1\n",
       "348123                1\n",
       "2680                  1\n",
       "C.A. 33111            1\n",
       "315151                1\n",
       "3101281               1\n",
       "S.P. 3464             1\n",
       "C.A. 29395            1\n",
       "PC 17605              1\n",
       "PP 4348               1\n",
       "SW/PP 751             1\n",
       "A/5 21173             1\n",
       "341826                1\n",
       "3101277               1\n",
       "350052                1\n",
       "350407                1\n",
       "PC 17599              1\n",
       "240929                1\n",
       "STON/O 2. 3101289     1\n",
       "4137                  1\n",
       "SC 1748               1\n",
       "315096                1\n",
       "28664                 1\n",
       "347064                1\n",
       "312992                1\n",
       "349222                1\n",
       "394140                1\n",
       "350034                1\n",
       "367655                1\n",
       "330980                1\n",
       "3101267               1\n",
       "SOTON/O.Q. 3101310    1\n",
       "C 7076                1\n",
       "110813                1\n",
       "2626                  1\n",
       "14313                 1\n",
       "11765                 1\n",
       "323951                1\n",
       "27849                 1\n",
       "C 7077                1\n",
       "113503                1\n",
       "2648                  1\n",
       "347069                1\n",
       "STON/O 2. 3101293     1\n",
       "349227                1\n",
       "STON/O 2. 3101269     1\n",
       "343095                1\n",
       "28220                 1\n",
       "13509                 1\n",
       "113794                1\n",
       "113786                1\n",
       "65303                 1\n",
       "113051                1\n",
       "A/5 2817              1\n",
       "349240                1\n",
       "17464                 1\n",
       "250652                1\n",
       "F.C.C. 13531          1\n",
       "371060                1\n",
       "19952                 1\n",
       "364506                1\n",
       "111320                1\n",
       "234360                1\n",
       "33638                 1\n",
       "65306                 1\n",
       "230434                1\n",
       "347076                1\n",
       "345769                1\n",
       "C.A. 18723            1\n",
       "STON/O 2. 3101274     1\n",
       "SC/AH 3085            1\n",
       "110564                1\n",
       "SOTON/O.Q. 392078     1\n",
       "364851                1\n",
       "2003                  1\n",
       "A/4. 34244            1\n",
       "315082                1\n",
       "A/5. 13032            1\n",
       "349254                1\n",
       "28228                 1\n",
       "SC/PARIS 2167         1\n",
       "330931                1\n",
       "236171                1\n",
       "347464                1\n",
       "C.A. 17248            1\n",
       "347083                1\n",
       "PC 17596              1\n",
       "370375                1\n",
       "347073                1\n",
       "336439                1\n",
       "345778                1\n",
       "112059                1\n",
       "A/5. 10482            1\n",
       "113056                1\n",
       "349239                1\n",
       "345774                1\n",
       "349206                1\n",
       "237798                1\n",
       "382649                1\n",
       "384461                1\n",
       "237671                1\n",
       "SCO/W 1585            1\n",
       "347067                1\n",
       "237442                1\n",
       "C.A. 29566            1\n",
       "W./C. 6609            1\n",
       "26707                 1\n",
       "28665                 1\n",
       "W./C. 14263           1\n",
       "PC 17585              1\n",
       "STON/O 2. 3101275     1\n",
       "2694                  1\n",
       "347071                1\n",
       "362316                1\n",
       "113514                1\n",
       "2650                  1\n",
       "370373                1\n",
       "SC/Paris 2163         1\n",
       "349236                1\n",
       "31418                 1\n",
       "7598                  1\n",
       "113784                1\n",
       "248740                1\n",
       "244361                1\n",
       "229236                1\n",
       "248733                1\n",
       "386525                1\n",
       "349233                1\n",
       "315088                1\n",
       "7267                  1\n",
       "113510                1\n",
       "2695                  1\n",
       "2647                  1\n",
       "345783                1\n",
       "349225                1\n",
       "113043                1\n",
       "28551                 1\n",
       "345364                1\n",
       "234818                1\n",
       "349219                1\n",
       "A/5 21172             1\n",
       "29011                 1\n",
       "347470                1\n",
       "349243                1\n",
       "250651                1\n",
       "A/5 2466              1\n",
       "226593                1\n",
       "9234                  1\n",
       "19988                 1\n",
       "2693                  1\n",
       "PC 17612              1\n",
       "370376                1\n",
       "Name: Ticket, dtype: int64"
      ]
     },
     "execution_count": 25,
     "metadata": {},
     "output_type": "execute_result"
    }
   ],
   "source": [
    "train['Ticket'].value_counts()"
   ]
  },
  {
   "cell_type": "code",
   "execution_count": null,
   "id": "f1733dcc",
   "metadata": {},
   "outputs": [],
   "source": []
  }
 ],
 "metadata": {
  "kernelspec": {
   "display_name": "Python 3 (ipykernel)",
   "language": "python",
   "name": "python3"
  },
  "language_info": {
   "codemirror_mode": {
    "name": "ipython",
    "version": 3
   },
   "file_extension": ".py",
   "mimetype": "text/x-python",
   "name": "python",
   "nbconvert_exporter": "python",
   "pygments_lexer": "ipython3",
   "version": "3.8.12"
  }
 },
 "nbformat": 4,
 "nbformat_minor": 5
}
