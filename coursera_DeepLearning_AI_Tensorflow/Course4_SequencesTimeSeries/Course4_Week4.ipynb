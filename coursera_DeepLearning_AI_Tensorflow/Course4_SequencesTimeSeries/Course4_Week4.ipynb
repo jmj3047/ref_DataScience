{
 "cells": [
  {
   "cell_type": "markdown",
   "metadata": {},
   "source": [
    "# Course4\n",
    "## Time Series and Prediction\n",
    "## Week4\n",
    "\n",
    "This week, you'll go one step further, combining convolutions with LSTMs to get a very nicely fitting model."
   ]
  },
  {
   "cell_type": "code",
   "execution_count": 10,
   "metadata": {},
   "outputs": [],
   "source": [
    "config = tf.compat.v1.ConfigProto()\n",
    "config.gpu_options.allow_growth = True\n",
    "sess = tf.compat.v1.Session(config=config)"
   ]
  },
  {
   "cell_type": "code",
   "execution_count": 3,
   "metadata": {},
   "outputs": [],
   "source": [
    "try:\n",
    "  # %tensorflow_version only exists in Colab.\n",
    "  %tensorflow_version 2.x\n",
    "except Exception:\n",
    "    pass"
   ]
  },
  {
   "cell_type": "code",
   "execution_count": 4,
   "metadata": {},
   "outputs": [
    {
     "name": "stdout",
     "output_type": "stream",
     "text": [
      "2.3.0\n"
     ]
    }
   ],
   "source": [
    "import tensorflow as tf\n",
    "import numpy as np\n",
    "import matplotlib.pyplot as plt\n",
    "print(tf.__version__)"
   ]
  },
  {
   "cell_type": "code",
   "execution_count": 5,
   "metadata": {},
   "outputs": [],
   "source": [
    "def plot_series(time, series, format=\"-\", start=0, end=None):\n",
    "    plt.plot(time[start:end], series[start:end], format)\n",
    "    plt.xlabel(\"Time\")\n",
    "    plt.ylabel(\"Value\")\n",
    "    plt.grid(True)\n",
    "\n",
    "def trend(time, slope=0):\n",
    "    return slope * time\n",
    "\n",
    "def seasonal_pattern(season_time):\n",
    "    \"\"\"Just an arbitrary pattern, you can change it if you wish\"\"\"\n",
    "    return np.where(season_time < 0.4,\n",
    "                    np.cos(season_time * 2 * np.pi),\n",
    "                    1 / np.exp(3 * season_time))\n",
    "\n",
    "def seasonality(time, period, amplitude=1, phase=0):\n",
    "    \"\"\"Repeats the same pattern at each period\"\"\"\n",
    "    season_time = ((time + phase) % period) / period\n",
    "    return amplitude * seasonal_pattern(season_time)\n",
    "\n",
    "def noise(time, noise_level=1, seed=None):\n",
    "    rnd = np.random.RandomState(seed)\n",
    "    return rnd.randn(len(time)) * noise_level\n",
    "\n",
    "time = np.arange(4 * 365 + 1, dtype=\"float32\")\n",
    "baseline = 10\n",
    "series = trend(time, 0.1)  \n",
    "baseline = 10\n",
    "amplitude = 40\n",
    "slope = 0.05\n",
    "noise_level = 5\n",
    "\n",
    "# Create the series\n",
    "series = baseline + trend(time, slope) + seasonality(time, period=365, amplitude=amplitude)\n",
    "# Update with noise\n",
    "series += noise(time, noise_level, seed=42)\n",
    "\n",
    "split_time = 1000\n",
    "time_train = time[:split_time]\n",
    "x_train = series[:split_time]\n",
    "time_valid = time[split_time:]\n",
    "x_valid = series[split_time:]\n",
    "\n",
    "window_size = 20\n",
    "batch_size = 32\n",
    "shuffle_buffer_size = 1000"
   ]
  },
  {
   "cell_type": "code",
   "execution_count": 6,
   "metadata": {},
   "outputs": [],
   "source": [
    "def model_forecast(model, series, window_size):\n",
    "    ds = tf.data.Dataset.from_tensor_slices(series)\n",
    "    ds = ds.window(window_size, shift=1, drop_remainder=True)\n",
    "    ds = ds.flat_map(lambda w: w.batch(window_size))\n",
    "    ds = ds.batch(32).prefetch(1)\n",
    "    forecast = model.predict(ds)\n",
    "    return forecast"
   ]
  },
  {
   "cell_type": "markdown",
   "metadata": {},
   "source": [
    "# LSTM\n",
    "\n",
    "Here's the LSTM that you looked at last week, except that I've **added conv1D** where we'll try to **learn 32 filters.** It's a one dimensional convolution. So we'll **take a five number window and multiply output values in that window by the filter values, in much the same way as image convolutions are done.**\n",
    "\n",
    "One important note is that while we **got rid of the Lambda layer** that reshaped the input for us to work with the LSTM's. So **we're actually specifying an input shape on the conv1D here**. This requires us to **update the windowed_datasetet helper function** that we've been working with all along.\n",
    "\n",
    "We'll simply **use tf.expand_dims** in the helper function to expand the dimensions of the series before we process it."
   ]
  },
  {
   "cell_type": "code",
   "execution_count": 7,
   "metadata": {},
   "outputs": [],
   "source": [
    "def windowed_dataset(series, window_size, batch_size, shuffle_buffer):\n",
    "    series = tf.expand_dims(series, axis=-1)\n",
    "    ds = tf.data.Dataset.from_tensor_slices(series)\n",
    "    ds = ds.window(window_size + 1, shift=1, drop_remainder=True)\n",
    "    ds = ds.flat_map(lambda w: w.batch(window_size + 1))\n",
    "    ds = ds.shuffle(shuffle_buffer)\n",
    "    ds = ds.map(lambda w: (w[:-1], w[1:]))\n",
    "    return ds.batch(batch_size).prefetch(1)"
   ]
  },
  {
   "cell_type": "code",
   "execution_count": 14,
   "metadata": {},
   "outputs": [
    {
     "name": "stdout",
     "output_type": "stream",
     "text": [
      "WARNING:tensorflow:AutoGraph could not transform <function windowed_dataset.<locals>.<lambda> at 0x0000022B380F8A60> and will run it as-is.\n",
      "Please report this to the TensorFlow team. When filing the bug, set the verbosity to 10 (on Linux, `export AUTOGRAPH_VERBOSITY=10`) and attach the full output.\n",
      "Cause: module 'gast' has no attribute 'Index'\n",
      "To silence this warning, decorate the function with @tf.autograph.experimental.do_not_convert\n",
      "WARNING: AutoGraph could not transform <function windowed_dataset.<locals>.<lambda> at 0x0000022B380F8A60> and will run it as-is.\n",
      "Please report this to the TensorFlow team. When filing the bug, set the verbosity to 10 (on Linux, `export AUTOGRAPH_VERBOSITY=10`) and attach the full output.\n",
      "Cause: module 'gast' has no attribute 'Index'\n",
      "To silence this warning, decorate the function with @tf.autograph.experimental.do_not_convert\n"
     ]
    },
    {
     "ename": "NotImplementedError",
     "evalue": "Cannot convert a symbolic Tensor (bidirectional/forward_lstm/strided_slice:0) to a numpy array. This error may indicate that you're trying to pass a Tensor to a NumPy call, which is not supported",
     "output_type": "error",
     "traceback": [
      "\u001b[1;31m---------------------------------------------------------------------------\u001b[0m",
      "\u001b[1;31mNotImplementedError\u001b[0m                       Traceback (most recent call last)",
      "\u001b[1;32m<ipython-input-14-d916bbac309a>\u001b[0m in \u001b[0;36m<module>\u001b[1;34m\u001b[0m\n\u001b[0;32m      7\u001b[0m \u001b[0mtrain_set\u001b[0m \u001b[1;33m=\u001b[0m \u001b[0mtrain_set\u001b[0m\u001b[1;33m.\u001b[0m\u001b[0mpadded_batch\u001b[0m\u001b[1;33m(\u001b[0m\u001b[0mbatch_size\u001b[0m\u001b[1;33m,\u001b[0m \u001b[0mtf\u001b[0m\u001b[1;33m.\u001b[0m\u001b[0mcompat\u001b[0m\u001b[1;33m.\u001b[0m\u001b[0mv1\u001b[0m\u001b[1;33m.\u001b[0m\u001b[0mdata\u001b[0m\u001b[1;33m.\u001b[0m\u001b[0mget_output_shapes\u001b[0m\u001b[1;33m(\u001b[0m\u001b[0mtrain_set\u001b[0m\u001b[1;33m)\u001b[0m\u001b[1;33m)\u001b[0m   \u001b[1;31m#\u001b[0m\u001b[1;33m\u001b[0m\u001b[1;33m\u001b[0m\u001b[0m\n\u001b[0;32m      8\u001b[0m \u001b[1;33m\u001b[0m\u001b[0m\n\u001b[1;32m----> 9\u001b[1;33m model = tf.keras.models.Sequential([\n\u001b[0m\u001b[0;32m     10\u001b[0m   tf.keras.layers.Conv1D(filters=32,\n\u001b[0;32m     11\u001b[0m                          \u001b[0mkernel_size\u001b[0m\u001b[1;33m=\u001b[0m\u001b[1;36m5\u001b[0m\u001b[1;33m,\u001b[0m\u001b[1;33m\u001b[0m\u001b[1;33m\u001b[0m\u001b[0m\n",
      "\u001b[1;32m~\\anaconda3\\lib\\site-packages\\tensorflow\\python\\training\\tracking\\base.py\u001b[0m in \u001b[0;36m_method_wrapper\u001b[1;34m(self, *args, **kwargs)\u001b[0m\n\u001b[0;32m    455\u001b[0m     \u001b[0mself\u001b[0m\u001b[1;33m.\u001b[0m\u001b[0m_self_setattr_tracking\u001b[0m \u001b[1;33m=\u001b[0m \u001b[1;32mFalse\u001b[0m  \u001b[1;31m# pylint: disable=protected-access\u001b[0m\u001b[1;33m\u001b[0m\u001b[1;33m\u001b[0m\u001b[0m\n\u001b[0;32m    456\u001b[0m     \u001b[1;32mtry\u001b[0m\u001b[1;33m:\u001b[0m\u001b[1;33m\u001b[0m\u001b[1;33m\u001b[0m\u001b[0m\n\u001b[1;32m--> 457\u001b[1;33m       \u001b[0mresult\u001b[0m \u001b[1;33m=\u001b[0m \u001b[0mmethod\u001b[0m\u001b[1;33m(\u001b[0m\u001b[0mself\u001b[0m\u001b[1;33m,\u001b[0m \u001b[1;33m*\u001b[0m\u001b[0margs\u001b[0m\u001b[1;33m,\u001b[0m \u001b[1;33m**\u001b[0m\u001b[0mkwargs\u001b[0m\u001b[1;33m)\u001b[0m\u001b[1;33m\u001b[0m\u001b[1;33m\u001b[0m\u001b[0m\n\u001b[0m\u001b[0;32m    458\u001b[0m     \u001b[1;32mfinally\u001b[0m\u001b[1;33m:\u001b[0m\u001b[1;33m\u001b[0m\u001b[1;33m\u001b[0m\u001b[0m\n\u001b[0;32m    459\u001b[0m       \u001b[0mself\u001b[0m\u001b[1;33m.\u001b[0m\u001b[0m_self_setattr_tracking\u001b[0m \u001b[1;33m=\u001b[0m \u001b[0mprevious_value\u001b[0m  \u001b[1;31m# pylint: disable=protected-access\u001b[0m\u001b[1;33m\u001b[0m\u001b[1;33m\u001b[0m\u001b[0m\n",
      "\u001b[1;32m~\\anaconda3\\lib\\site-packages\\tensorflow\\python\\keras\\engine\\sequential.py\u001b[0m in \u001b[0;36m__init__\u001b[1;34m(self, layers, name)\u001b[0m\n\u001b[0;32m    140\u001b[0m         \u001b[0mlayers\u001b[0m \u001b[1;33m=\u001b[0m \u001b[1;33m[\u001b[0m\u001b[0mlayers\u001b[0m\u001b[1;33m]\u001b[0m\u001b[1;33m\u001b[0m\u001b[1;33m\u001b[0m\u001b[0m\n\u001b[0;32m    141\u001b[0m       \u001b[1;32mfor\u001b[0m \u001b[0mlayer\u001b[0m \u001b[1;32min\u001b[0m \u001b[0mlayers\u001b[0m\u001b[1;33m:\u001b[0m\u001b[1;33m\u001b[0m\u001b[1;33m\u001b[0m\u001b[0m\n\u001b[1;32m--> 142\u001b[1;33m         \u001b[0mself\u001b[0m\u001b[1;33m.\u001b[0m\u001b[0madd\u001b[0m\u001b[1;33m(\u001b[0m\u001b[0mlayer\u001b[0m\u001b[1;33m)\u001b[0m\u001b[1;33m\u001b[0m\u001b[1;33m\u001b[0m\u001b[0m\n\u001b[0m\u001b[0;32m    143\u001b[0m \u001b[1;33m\u001b[0m\u001b[0m\n\u001b[0;32m    144\u001b[0m   \u001b[1;33m@\u001b[0m\u001b[0mproperty\u001b[0m\u001b[1;33m\u001b[0m\u001b[1;33m\u001b[0m\u001b[0m\n",
      "\u001b[1;32m~\\anaconda3\\lib\\site-packages\\tensorflow\\python\\training\\tracking\\base.py\u001b[0m in \u001b[0;36m_method_wrapper\u001b[1;34m(self, *args, **kwargs)\u001b[0m\n\u001b[0;32m    455\u001b[0m     \u001b[0mself\u001b[0m\u001b[1;33m.\u001b[0m\u001b[0m_self_setattr_tracking\u001b[0m \u001b[1;33m=\u001b[0m \u001b[1;32mFalse\u001b[0m  \u001b[1;31m# pylint: disable=protected-access\u001b[0m\u001b[1;33m\u001b[0m\u001b[1;33m\u001b[0m\u001b[0m\n\u001b[0;32m    456\u001b[0m     \u001b[1;32mtry\u001b[0m\u001b[1;33m:\u001b[0m\u001b[1;33m\u001b[0m\u001b[1;33m\u001b[0m\u001b[0m\n\u001b[1;32m--> 457\u001b[1;33m       \u001b[0mresult\u001b[0m \u001b[1;33m=\u001b[0m \u001b[0mmethod\u001b[0m\u001b[1;33m(\u001b[0m\u001b[0mself\u001b[0m\u001b[1;33m,\u001b[0m \u001b[1;33m*\u001b[0m\u001b[0margs\u001b[0m\u001b[1;33m,\u001b[0m \u001b[1;33m**\u001b[0m\u001b[0mkwargs\u001b[0m\u001b[1;33m)\u001b[0m\u001b[1;33m\u001b[0m\u001b[1;33m\u001b[0m\u001b[0m\n\u001b[0m\u001b[0;32m    458\u001b[0m     \u001b[1;32mfinally\u001b[0m\u001b[1;33m:\u001b[0m\u001b[1;33m\u001b[0m\u001b[1;33m\u001b[0m\u001b[0m\n\u001b[0;32m    459\u001b[0m       \u001b[0mself\u001b[0m\u001b[1;33m.\u001b[0m\u001b[0m_self_setattr_tracking\u001b[0m \u001b[1;33m=\u001b[0m \u001b[0mprevious_value\u001b[0m  \u001b[1;31m# pylint: disable=protected-access\u001b[0m\u001b[1;33m\u001b[0m\u001b[1;33m\u001b[0m\u001b[0m\n",
      "\u001b[1;32m~\\anaconda3\\lib\\site-packages\\tensorflow\\python\\keras\\engine\\sequential.py\u001b[0m in \u001b[0;36madd\u001b[1;34m(self, layer)\u001b[0m\n\u001b[0;32m    219\u001b[0m       \u001b[1;31m# If the model is being built continuously on top of an input layer:\u001b[0m\u001b[1;33m\u001b[0m\u001b[1;33m\u001b[0m\u001b[1;33m\u001b[0m\u001b[0m\n\u001b[0;32m    220\u001b[0m       \u001b[1;31m# refresh its output.\u001b[0m\u001b[1;33m\u001b[0m\u001b[1;33m\u001b[0m\u001b[1;33m\u001b[0m\u001b[0m\n\u001b[1;32m--> 221\u001b[1;33m       \u001b[0moutput_tensor\u001b[0m \u001b[1;33m=\u001b[0m \u001b[0mlayer\u001b[0m\u001b[1;33m(\u001b[0m\u001b[0mself\u001b[0m\u001b[1;33m.\u001b[0m\u001b[0moutputs\u001b[0m\u001b[1;33m[\u001b[0m\u001b[1;36m0\u001b[0m\u001b[1;33m]\u001b[0m\u001b[1;33m)\u001b[0m\u001b[1;33m\u001b[0m\u001b[1;33m\u001b[0m\u001b[0m\n\u001b[0m\u001b[0;32m    222\u001b[0m       \u001b[1;32mif\u001b[0m \u001b[0mlen\u001b[0m\u001b[1;33m(\u001b[0m\u001b[0mnest\u001b[0m\u001b[1;33m.\u001b[0m\u001b[0mflatten\u001b[0m\u001b[1;33m(\u001b[0m\u001b[0moutput_tensor\u001b[0m\u001b[1;33m)\u001b[0m\u001b[1;33m)\u001b[0m \u001b[1;33m!=\u001b[0m \u001b[1;36m1\u001b[0m\u001b[1;33m:\u001b[0m\u001b[1;33m\u001b[0m\u001b[1;33m\u001b[0m\u001b[0m\n\u001b[0;32m    223\u001b[0m         \u001b[1;32mraise\u001b[0m \u001b[0mValueError\u001b[0m\u001b[1;33m(\u001b[0m\u001b[0mSINGLE_LAYER_OUTPUT_ERROR_MSG\u001b[0m\u001b[1;33m)\u001b[0m\u001b[1;33m\u001b[0m\u001b[1;33m\u001b[0m\u001b[0m\n",
      "\u001b[1;32m~\\anaconda3\\lib\\site-packages\\tensorflow\\python\\keras\\layers\\wrappers.py\u001b[0m in \u001b[0;36m__call__\u001b[1;34m(self, inputs, initial_state, constants, **kwargs)\u001b[0m\n\u001b[0;32m    528\u001b[0m \u001b[1;33m\u001b[0m\u001b[0m\n\u001b[0;32m    529\u001b[0m     \u001b[1;32mif\u001b[0m \u001b[0minitial_state\u001b[0m \u001b[1;32mis\u001b[0m \u001b[1;32mNone\u001b[0m \u001b[1;32mand\u001b[0m \u001b[0mconstants\u001b[0m \u001b[1;32mis\u001b[0m \u001b[1;32mNone\u001b[0m\u001b[1;33m:\u001b[0m\u001b[1;33m\u001b[0m\u001b[1;33m\u001b[0m\u001b[0m\n\u001b[1;32m--> 530\u001b[1;33m       \u001b[1;32mreturn\u001b[0m \u001b[0msuper\u001b[0m\u001b[1;33m(\u001b[0m\u001b[0mBidirectional\u001b[0m\u001b[1;33m,\u001b[0m \u001b[0mself\u001b[0m\u001b[1;33m)\u001b[0m\u001b[1;33m.\u001b[0m\u001b[0m__call__\u001b[0m\u001b[1;33m(\u001b[0m\u001b[0minputs\u001b[0m\u001b[1;33m,\u001b[0m \u001b[1;33m**\u001b[0m\u001b[0mkwargs\u001b[0m\u001b[1;33m)\u001b[0m\u001b[1;33m\u001b[0m\u001b[1;33m\u001b[0m\u001b[0m\n\u001b[0m\u001b[0;32m    531\u001b[0m \u001b[1;33m\u001b[0m\u001b[0m\n\u001b[0;32m    532\u001b[0m     \u001b[1;31m# Applies the same workaround as in `RNN.__call__`\u001b[0m\u001b[1;33m\u001b[0m\u001b[1;33m\u001b[0m\u001b[1;33m\u001b[0m\u001b[0m\n",
      "\u001b[1;32m~\\anaconda3\\lib\\site-packages\\tensorflow\\python\\keras\\engine\\base_layer.py\u001b[0m in \u001b[0;36m__call__\u001b[1;34m(self, *args, **kwargs)\u001b[0m\n\u001b[0;32m    923\u001b[0m     \u001b[1;31m# >> model = tf.keras.Model(inputs, outputs)\u001b[0m\u001b[1;33m\u001b[0m\u001b[1;33m\u001b[0m\u001b[1;33m\u001b[0m\u001b[0m\n\u001b[0;32m    924\u001b[0m     \u001b[1;32mif\u001b[0m \u001b[0m_in_functional_construction_mode\u001b[0m\u001b[1;33m(\u001b[0m\u001b[0mself\u001b[0m\u001b[1;33m,\u001b[0m \u001b[0minputs\u001b[0m\u001b[1;33m,\u001b[0m \u001b[0margs\u001b[0m\u001b[1;33m,\u001b[0m \u001b[0mkwargs\u001b[0m\u001b[1;33m,\u001b[0m \u001b[0minput_list\u001b[0m\u001b[1;33m)\u001b[0m\u001b[1;33m:\u001b[0m\u001b[1;33m\u001b[0m\u001b[1;33m\u001b[0m\u001b[0m\n\u001b[1;32m--> 925\u001b[1;33m       return self._functional_construction_call(inputs, args, kwargs,\n\u001b[0m\u001b[0;32m    926\u001b[0m                                                 input_list)\n\u001b[0;32m    927\u001b[0m \u001b[1;33m\u001b[0m\u001b[0m\n",
      "\u001b[1;32m~\\anaconda3\\lib\\site-packages\\tensorflow\\python\\keras\\engine\\base_layer.py\u001b[0m in \u001b[0;36m_functional_construction_call\u001b[1;34m(self, inputs, args, kwargs, input_list)\u001b[0m\n\u001b[0;32m   1115\u001b[0m           \u001b[1;32mtry\u001b[0m\u001b[1;33m:\u001b[0m\u001b[1;33m\u001b[0m\u001b[1;33m\u001b[0m\u001b[0m\n\u001b[0;32m   1116\u001b[0m             \u001b[1;32mwith\u001b[0m \u001b[0mops\u001b[0m\u001b[1;33m.\u001b[0m\u001b[0menable_auto_cast_variables\u001b[0m\u001b[1;33m(\u001b[0m\u001b[0mself\u001b[0m\u001b[1;33m.\u001b[0m\u001b[0m_compute_dtype_object\u001b[0m\u001b[1;33m)\u001b[0m\u001b[1;33m:\u001b[0m\u001b[1;33m\u001b[0m\u001b[1;33m\u001b[0m\u001b[0m\n\u001b[1;32m-> 1117\u001b[1;33m               \u001b[0moutputs\u001b[0m \u001b[1;33m=\u001b[0m \u001b[0mcall_fn\u001b[0m\u001b[1;33m(\u001b[0m\u001b[0mcast_inputs\u001b[0m\u001b[1;33m,\u001b[0m \u001b[1;33m*\u001b[0m\u001b[0margs\u001b[0m\u001b[1;33m,\u001b[0m \u001b[1;33m**\u001b[0m\u001b[0mkwargs\u001b[0m\u001b[1;33m)\u001b[0m\u001b[1;33m\u001b[0m\u001b[1;33m\u001b[0m\u001b[0m\n\u001b[0m\u001b[0;32m   1118\u001b[0m \u001b[1;33m\u001b[0m\u001b[0m\n\u001b[0;32m   1119\u001b[0m           \u001b[1;32mexcept\u001b[0m \u001b[0merrors\u001b[0m\u001b[1;33m.\u001b[0m\u001b[0mOperatorNotAllowedInGraphError\u001b[0m \u001b[1;32mas\u001b[0m \u001b[0me\u001b[0m\u001b[1;33m:\u001b[0m\u001b[1;33m\u001b[0m\u001b[1;33m\u001b[0m\u001b[0m\n",
      "\u001b[1;32m~\\anaconda3\\lib\\site-packages\\tensorflow\\python\\keras\\layers\\wrappers.py\u001b[0m in \u001b[0;36mcall\u001b[1;34m(self, inputs, training, mask, initial_state, constants)\u001b[0m\n\u001b[0;32m    641\u001b[0m         \u001b[0mforward_state\u001b[0m\u001b[1;33m,\u001b[0m \u001b[0mbackward_state\u001b[0m \u001b[1;33m=\u001b[0m \u001b[1;32mNone\u001b[0m\u001b[1;33m,\u001b[0m \u001b[1;32mNone\u001b[0m\u001b[1;33m\u001b[0m\u001b[1;33m\u001b[0m\u001b[0m\n\u001b[0;32m    642\u001b[0m \u001b[1;33m\u001b[0m\u001b[0m\n\u001b[1;32m--> 643\u001b[1;33m       y = self.forward_layer(forward_inputs,\n\u001b[0m\u001b[0;32m    644\u001b[0m                              initial_state=forward_state, **kwargs)\n\u001b[0;32m    645\u001b[0m       y_rev = self.backward_layer(backward_inputs,\n",
      "\u001b[1;32m~\\anaconda3\\lib\\site-packages\\tensorflow\\python\\keras\\layers\\recurrent.py\u001b[0m in \u001b[0;36m__call__\u001b[1;34m(self, inputs, initial_state, constants, **kwargs)\u001b[0m\n\u001b[0;32m    661\u001b[0m \u001b[1;33m\u001b[0m\u001b[0m\n\u001b[0;32m    662\u001b[0m     \u001b[1;32mif\u001b[0m \u001b[0minitial_state\u001b[0m \u001b[1;32mis\u001b[0m \u001b[1;32mNone\u001b[0m \u001b[1;32mand\u001b[0m \u001b[0mconstants\u001b[0m \u001b[1;32mis\u001b[0m \u001b[1;32mNone\u001b[0m\u001b[1;33m:\u001b[0m\u001b[1;33m\u001b[0m\u001b[1;33m\u001b[0m\u001b[0m\n\u001b[1;32m--> 663\u001b[1;33m       \u001b[1;32mreturn\u001b[0m \u001b[0msuper\u001b[0m\u001b[1;33m(\u001b[0m\u001b[0mRNN\u001b[0m\u001b[1;33m,\u001b[0m \u001b[0mself\u001b[0m\u001b[1;33m)\u001b[0m\u001b[1;33m.\u001b[0m\u001b[0m__call__\u001b[0m\u001b[1;33m(\u001b[0m\u001b[0minputs\u001b[0m\u001b[1;33m,\u001b[0m \u001b[1;33m**\u001b[0m\u001b[0mkwargs\u001b[0m\u001b[1;33m)\u001b[0m\u001b[1;33m\u001b[0m\u001b[1;33m\u001b[0m\u001b[0m\n\u001b[0m\u001b[0;32m    664\u001b[0m \u001b[1;33m\u001b[0m\u001b[0m\n\u001b[0;32m    665\u001b[0m     \u001b[1;31m# If any of `initial_state` or `constants` are specified and are Keras\u001b[0m\u001b[1;33m\u001b[0m\u001b[1;33m\u001b[0m\u001b[1;33m\u001b[0m\u001b[0m\n",
      "\u001b[1;32m~\\anaconda3\\lib\\site-packages\\tensorflow\\python\\keras\\engine\\base_layer.py\u001b[0m in \u001b[0;36m__call__\u001b[1;34m(self, *args, **kwargs)\u001b[0m\n\u001b[0;32m    923\u001b[0m     \u001b[1;31m# >> model = tf.keras.Model(inputs, outputs)\u001b[0m\u001b[1;33m\u001b[0m\u001b[1;33m\u001b[0m\u001b[1;33m\u001b[0m\u001b[0m\n\u001b[0;32m    924\u001b[0m     \u001b[1;32mif\u001b[0m \u001b[0m_in_functional_construction_mode\u001b[0m\u001b[1;33m(\u001b[0m\u001b[0mself\u001b[0m\u001b[1;33m,\u001b[0m \u001b[0minputs\u001b[0m\u001b[1;33m,\u001b[0m \u001b[0margs\u001b[0m\u001b[1;33m,\u001b[0m \u001b[0mkwargs\u001b[0m\u001b[1;33m,\u001b[0m \u001b[0minput_list\u001b[0m\u001b[1;33m)\u001b[0m\u001b[1;33m:\u001b[0m\u001b[1;33m\u001b[0m\u001b[1;33m\u001b[0m\u001b[0m\n\u001b[1;32m--> 925\u001b[1;33m       return self._functional_construction_call(inputs, args, kwargs,\n\u001b[0m\u001b[0;32m    926\u001b[0m                                                 input_list)\n\u001b[0;32m    927\u001b[0m \u001b[1;33m\u001b[0m\u001b[0m\n",
      "\u001b[1;32m~\\anaconda3\\lib\\site-packages\\tensorflow\\python\\keras\\engine\\base_layer.py\u001b[0m in \u001b[0;36m_functional_construction_call\u001b[1;34m(self, inputs, args, kwargs, input_list)\u001b[0m\n\u001b[0;32m   1115\u001b[0m           \u001b[1;32mtry\u001b[0m\u001b[1;33m:\u001b[0m\u001b[1;33m\u001b[0m\u001b[1;33m\u001b[0m\u001b[0m\n\u001b[0;32m   1116\u001b[0m             \u001b[1;32mwith\u001b[0m \u001b[0mops\u001b[0m\u001b[1;33m.\u001b[0m\u001b[0menable_auto_cast_variables\u001b[0m\u001b[1;33m(\u001b[0m\u001b[0mself\u001b[0m\u001b[1;33m.\u001b[0m\u001b[0m_compute_dtype_object\u001b[0m\u001b[1;33m)\u001b[0m\u001b[1;33m:\u001b[0m\u001b[1;33m\u001b[0m\u001b[1;33m\u001b[0m\u001b[0m\n\u001b[1;32m-> 1117\u001b[1;33m               \u001b[0moutputs\u001b[0m \u001b[1;33m=\u001b[0m \u001b[0mcall_fn\u001b[0m\u001b[1;33m(\u001b[0m\u001b[0mcast_inputs\u001b[0m\u001b[1;33m,\u001b[0m \u001b[1;33m*\u001b[0m\u001b[0margs\u001b[0m\u001b[1;33m,\u001b[0m \u001b[1;33m**\u001b[0m\u001b[0mkwargs\u001b[0m\u001b[1;33m)\u001b[0m\u001b[1;33m\u001b[0m\u001b[1;33m\u001b[0m\u001b[0m\n\u001b[0m\u001b[0;32m   1118\u001b[0m \u001b[1;33m\u001b[0m\u001b[0m\n\u001b[0;32m   1119\u001b[0m           \u001b[1;32mexcept\u001b[0m \u001b[0merrors\u001b[0m\u001b[1;33m.\u001b[0m\u001b[0mOperatorNotAllowedInGraphError\u001b[0m \u001b[1;32mas\u001b[0m \u001b[0me\u001b[0m\u001b[1;33m:\u001b[0m\u001b[1;33m\u001b[0m\u001b[1;33m\u001b[0m\u001b[0m\n",
      "\u001b[1;32m~\\anaconda3\\lib\\site-packages\\tensorflow\\python\\keras\\layers\\recurrent_v2.py\u001b[0m in \u001b[0;36mcall\u001b[1;34m(self, inputs, mask, training, initial_state)\u001b[0m\n\u001b[0;32m   1106\u001b[0m \u001b[1;33m\u001b[0m\u001b[0m\n\u001b[0;32m   1107\u001b[0m     \u001b[1;31m# LSTM does not support constants. Ignore it during process.\u001b[0m\u001b[1;33m\u001b[0m\u001b[1;33m\u001b[0m\u001b[1;33m\u001b[0m\u001b[0m\n\u001b[1;32m-> 1108\u001b[1;33m     \u001b[0minputs\u001b[0m\u001b[1;33m,\u001b[0m \u001b[0minitial_state\u001b[0m\u001b[1;33m,\u001b[0m \u001b[0m_\u001b[0m \u001b[1;33m=\u001b[0m \u001b[0mself\u001b[0m\u001b[1;33m.\u001b[0m\u001b[0m_process_inputs\u001b[0m\u001b[1;33m(\u001b[0m\u001b[0minputs\u001b[0m\u001b[1;33m,\u001b[0m \u001b[0minitial_state\u001b[0m\u001b[1;33m,\u001b[0m \u001b[1;32mNone\u001b[0m\u001b[1;33m)\u001b[0m\u001b[1;33m\u001b[0m\u001b[1;33m\u001b[0m\u001b[0m\n\u001b[0m\u001b[0;32m   1109\u001b[0m \u001b[1;33m\u001b[0m\u001b[0m\n\u001b[0;32m   1110\u001b[0m     \u001b[1;32mif\u001b[0m \u001b[0misinstance\u001b[0m\u001b[1;33m(\u001b[0m\u001b[0mmask\u001b[0m\u001b[1;33m,\u001b[0m \u001b[0mlist\u001b[0m\u001b[1;33m)\u001b[0m\u001b[1;33m:\u001b[0m\u001b[1;33m\u001b[0m\u001b[1;33m\u001b[0m\u001b[0m\n",
      "\u001b[1;32m~\\anaconda3\\lib\\site-packages\\tensorflow\\python\\keras\\layers\\recurrent.py\u001b[0m in \u001b[0;36m_process_inputs\u001b[1;34m(self, inputs, initial_state, constants)\u001b[0m\n\u001b[0;32m    860\u001b[0m         \u001b[0minitial_state\u001b[0m \u001b[1;33m=\u001b[0m \u001b[0mself\u001b[0m\u001b[1;33m.\u001b[0m\u001b[0mstates\u001b[0m\u001b[1;33m\u001b[0m\u001b[1;33m\u001b[0m\u001b[0m\n\u001b[0;32m    861\u001b[0m     \u001b[1;32melif\u001b[0m \u001b[0minitial_state\u001b[0m \u001b[1;32mis\u001b[0m \u001b[1;32mNone\u001b[0m\u001b[1;33m:\u001b[0m\u001b[1;33m\u001b[0m\u001b[1;33m\u001b[0m\u001b[0m\n\u001b[1;32m--> 862\u001b[1;33m       \u001b[0minitial_state\u001b[0m \u001b[1;33m=\u001b[0m \u001b[0mself\u001b[0m\u001b[1;33m.\u001b[0m\u001b[0mget_initial_state\u001b[0m\u001b[1;33m(\u001b[0m\u001b[0minputs\u001b[0m\u001b[1;33m)\u001b[0m\u001b[1;33m\u001b[0m\u001b[1;33m\u001b[0m\u001b[0m\n\u001b[0m\u001b[0;32m    863\u001b[0m \u001b[1;33m\u001b[0m\u001b[0m\n\u001b[0;32m    864\u001b[0m     \u001b[1;32mif\u001b[0m \u001b[0mlen\u001b[0m\u001b[1;33m(\u001b[0m\u001b[0minitial_state\u001b[0m\u001b[1;33m)\u001b[0m \u001b[1;33m!=\u001b[0m \u001b[0mlen\u001b[0m\u001b[1;33m(\u001b[0m\u001b[0mself\u001b[0m\u001b[1;33m.\u001b[0m\u001b[0mstates\u001b[0m\u001b[1;33m)\u001b[0m\u001b[1;33m:\u001b[0m\u001b[1;33m\u001b[0m\u001b[1;33m\u001b[0m\u001b[0m\n",
      "\u001b[1;32m~\\anaconda3\\lib\\site-packages\\tensorflow\\python\\keras\\layers\\recurrent.py\u001b[0m in \u001b[0;36mget_initial_state\u001b[1;34m(self, inputs)\u001b[0m\n\u001b[0;32m    643\u001b[0m     \u001b[0mdtype\u001b[0m \u001b[1;33m=\u001b[0m \u001b[0minputs\u001b[0m\u001b[1;33m.\u001b[0m\u001b[0mdtype\u001b[0m\u001b[1;33m\u001b[0m\u001b[1;33m\u001b[0m\u001b[0m\n\u001b[0;32m    644\u001b[0m     \u001b[1;32mif\u001b[0m \u001b[0mget_initial_state_fn\u001b[0m\u001b[1;33m:\u001b[0m\u001b[1;33m\u001b[0m\u001b[1;33m\u001b[0m\u001b[0m\n\u001b[1;32m--> 645\u001b[1;33m       init_state = get_initial_state_fn(\n\u001b[0m\u001b[0;32m    646\u001b[0m           inputs=None, batch_size=batch_size, dtype=dtype)\n\u001b[0;32m    647\u001b[0m     \u001b[1;32melse\u001b[0m\u001b[1;33m:\u001b[0m\u001b[1;33m\u001b[0m\u001b[1;33m\u001b[0m\u001b[0m\n",
      "\u001b[1;32m~\\anaconda3\\lib\\site-packages\\tensorflow\\python\\keras\\layers\\recurrent.py\u001b[0m in \u001b[0;36mget_initial_state\u001b[1;34m(self, inputs, batch_size, dtype)\u001b[0m\n\u001b[0;32m   2521\u001b[0m \u001b[1;33m\u001b[0m\u001b[0m\n\u001b[0;32m   2522\u001b[0m   \u001b[1;32mdef\u001b[0m \u001b[0mget_initial_state\u001b[0m\u001b[1;33m(\u001b[0m\u001b[0mself\u001b[0m\u001b[1;33m,\u001b[0m \u001b[0minputs\u001b[0m\u001b[1;33m=\u001b[0m\u001b[1;32mNone\u001b[0m\u001b[1;33m,\u001b[0m \u001b[0mbatch_size\u001b[0m\u001b[1;33m=\u001b[0m\u001b[1;32mNone\u001b[0m\u001b[1;33m,\u001b[0m \u001b[0mdtype\u001b[0m\u001b[1;33m=\u001b[0m\u001b[1;32mNone\u001b[0m\u001b[1;33m)\u001b[0m\u001b[1;33m:\u001b[0m\u001b[1;33m\u001b[0m\u001b[1;33m\u001b[0m\u001b[0m\n\u001b[1;32m-> 2523\u001b[1;33m     return list(_generate_zero_filled_state_for_cell(\n\u001b[0m\u001b[0;32m   2524\u001b[0m         self, inputs, batch_size, dtype))\n\u001b[0;32m   2525\u001b[0m \u001b[1;33m\u001b[0m\u001b[0m\n",
      "\u001b[1;32m~\\anaconda3\\lib\\site-packages\\tensorflow\\python\\keras\\layers\\recurrent.py\u001b[0m in \u001b[0;36m_generate_zero_filled_state_for_cell\u001b[1;34m(cell, inputs, batch_size, dtype)\u001b[0m\n\u001b[0;32m   2966\u001b[0m     \u001b[0mbatch_size\u001b[0m \u001b[1;33m=\u001b[0m \u001b[0marray_ops\u001b[0m\u001b[1;33m.\u001b[0m\u001b[0mshape\u001b[0m\u001b[1;33m(\u001b[0m\u001b[0minputs\u001b[0m\u001b[1;33m)\u001b[0m\u001b[1;33m[\u001b[0m\u001b[1;36m0\u001b[0m\u001b[1;33m]\u001b[0m\u001b[1;33m\u001b[0m\u001b[1;33m\u001b[0m\u001b[0m\n\u001b[0;32m   2967\u001b[0m     \u001b[0mdtype\u001b[0m \u001b[1;33m=\u001b[0m \u001b[0minputs\u001b[0m\u001b[1;33m.\u001b[0m\u001b[0mdtype\u001b[0m\u001b[1;33m\u001b[0m\u001b[1;33m\u001b[0m\u001b[0m\n\u001b[1;32m-> 2968\u001b[1;33m   \u001b[1;32mreturn\u001b[0m \u001b[0m_generate_zero_filled_state\u001b[0m\u001b[1;33m(\u001b[0m\u001b[0mbatch_size\u001b[0m\u001b[1;33m,\u001b[0m \u001b[0mcell\u001b[0m\u001b[1;33m.\u001b[0m\u001b[0mstate_size\u001b[0m\u001b[1;33m,\u001b[0m \u001b[0mdtype\u001b[0m\u001b[1;33m)\u001b[0m\u001b[1;33m\u001b[0m\u001b[1;33m\u001b[0m\u001b[0m\n\u001b[0m\u001b[0;32m   2969\u001b[0m \u001b[1;33m\u001b[0m\u001b[0m\n\u001b[0;32m   2970\u001b[0m \u001b[1;33m\u001b[0m\u001b[0m\n",
      "\u001b[1;32m~\\anaconda3\\lib\\site-packages\\tensorflow\\python\\keras\\layers\\recurrent.py\u001b[0m in \u001b[0;36m_generate_zero_filled_state\u001b[1;34m(batch_size_tensor, state_size, dtype)\u001b[0m\n\u001b[0;32m   2982\u001b[0m \u001b[1;33m\u001b[0m\u001b[0m\n\u001b[0;32m   2983\u001b[0m   \u001b[1;32mif\u001b[0m \u001b[0mnest\u001b[0m\u001b[1;33m.\u001b[0m\u001b[0mis_sequence\u001b[0m\u001b[1;33m(\u001b[0m\u001b[0mstate_size\u001b[0m\u001b[1;33m)\u001b[0m\u001b[1;33m:\u001b[0m\u001b[1;33m\u001b[0m\u001b[1;33m\u001b[0m\u001b[0m\n\u001b[1;32m-> 2984\u001b[1;33m     \u001b[1;32mreturn\u001b[0m \u001b[0mnest\u001b[0m\u001b[1;33m.\u001b[0m\u001b[0mmap_structure\u001b[0m\u001b[1;33m(\u001b[0m\u001b[0mcreate_zeros\u001b[0m\u001b[1;33m,\u001b[0m \u001b[0mstate_size\u001b[0m\u001b[1;33m)\u001b[0m\u001b[1;33m\u001b[0m\u001b[1;33m\u001b[0m\u001b[0m\n\u001b[0m\u001b[0;32m   2985\u001b[0m   \u001b[1;32melse\u001b[0m\u001b[1;33m:\u001b[0m\u001b[1;33m\u001b[0m\u001b[1;33m\u001b[0m\u001b[0m\n\u001b[0;32m   2986\u001b[0m     \u001b[1;32mreturn\u001b[0m \u001b[0mcreate_zeros\u001b[0m\u001b[1;33m(\u001b[0m\u001b[0mstate_size\u001b[0m\u001b[1;33m)\u001b[0m\u001b[1;33m\u001b[0m\u001b[1;33m\u001b[0m\u001b[0m\n",
      "\u001b[1;32m~\\anaconda3\\lib\\site-packages\\tensorflow\\python\\util\\nest.py\u001b[0m in \u001b[0;36mmap_structure\u001b[1;34m(func, *structure, **kwargs)\u001b[0m\n\u001b[0;32m    633\u001b[0m \u001b[1;33m\u001b[0m\u001b[0m\n\u001b[0;32m    634\u001b[0m   return pack_sequence_as(\n\u001b[1;32m--> 635\u001b[1;33m       \u001b[0mstructure\u001b[0m\u001b[1;33m[\u001b[0m\u001b[1;36m0\u001b[0m\u001b[1;33m]\u001b[0m\u001b[1;33m,\u001b[0m \u001b[1;33m[\u001b[0m\u001b[0mfunc\u001b[0m\u001b[1;33m(\u001b[0m\u001b[1;33m*\u001b[0m\u001b[0mx\u001b[0m\u001b[1;33m)\u001b[0m \u001b[1;32mfor\u001b[0m \u001b[0mx\u001b[0m \u001b[1;32min\u001b[0m \u001b[0mentries\u001b[0m\u001b[1;33m]\u001b[0m\u001b[1;33m,\u001b[0m\u001b[1;33m\u001b[0m\u001b[1;33m\u001b[0m\u001b[0m\n\u001b[0m\u001b[0;32m    636\u001b[0m       expand_composites=expand_composites)\n\u001b[0;32m    637\u001b[0m \u001b[1;33m\u001b[0m\u001b[0m\n",
      "\u001b[1;32m~\\anaconda3\\lib\\site-packages\\tensorflow\\python\\util\\nest.py\u001b[0m in \u001b[0;36m<listcomp>\u001b[1;34m(.0)\u001b[0m\n\u001b[0;32m    633\u001b[0m \u001b[1;33m\u001b[0m\u001b[0m\n\u001b[0;32m    634\u001b[0m   return pack_sequence_as(\n\u001b[1;32m--> 635\u001b[1;33m       \u001b[0mstructure\u001b[0m\u001b[1;33m[\u001b[0m\u001b[1;36m0\u001b[0m\u001b[1;33m]\u001b[0m\u001b[1;33m,\u001b[0m \u001b[1;33m[\u001b[0m\u001b[0mfunc\u001b[0m\u001b[1;33m(\u001b[0m\u001b[1;33m*\u001b[0m\u001b[0mx\u001b[0m\u001b[1;33m)\u001b[0m \u001b[1;32mfor\u001b[0m \u001b[0mx\u001b[0m \u001b[1;32min\u001b[0m \u001b[0mentries\u001b[0m\u001b[1;33m]\u001b[0m\u001b[1;33m,\u001b[0m\u001b[1;33m\u001b[0m\u001b[1;33m\u001b[0m\u001b[0m\n\u001b[0m\u001b[0;32m    636\u001b[0m       expand_composites=expand_composites)\n\u001b[0;32m    637\u001b[0m \u001b[1;33m\u001b[0m\u001b[0m\n",
      "\u001b[1;32m~\\anaconda3\\lib\\site-packages\\tensorflow\\python\\keras\\layers\\recurrent.py\u001b[0m in \u001b[0;36mcreate_zeros\u001b[1;34m(unnested_state_size)\u001b[0m\n\u001b[0;32m   2979\u001b[0m     \u001b[0mflat_dims\u001b[0m \u001b[1;33m=\u001b[0m \u001b[0mtensor_shape\u001b[0m\u001b[1;33m.\u001b[0m\u001b[0mas_shape\u001b[0m\u001b[1;33m(\u001b[0m\u001b[0munnested_state_size\u001b[0m\u001b[1;33m)\u001b[0m\u001b[1;33m.\u001b[0m\u001b[0mas_list\u001b[0m\u001b[1;33m(\u001b[0m\u001b[1;33m)\u001b[0m\u001b[1;33m\u001b[0m\u001b[1;33m\u001b[0m\u001b[0m\n\u001b[0;32m   2980\u001b[0m     \u001b[0minit_state_size\u001b[0m \u001b[1;33m=\u001b[0m \u001b[1;33m[\u001b[0m\u001b[0mbatch_size_tensor\u001b[0m\u001b[1;33m]\u001b[0m \u001b[1;33m+\u001b[0m \u001b[0mflat_dims\u001b[0m\u001b[1;33m\u001b[0m\u001b[1;33m\u001b[0m\u001b[0m\n\u001b[1;32m-> 2981\u001b[1;33m     \u001b[1;32mreturn\u001b[0m \u001b[0marray_ops\u001b[0m\u001b[1;33m.\u001b[0m\u001b[0mzeros\u001b[0m\u001b[1;33m(\u001b[0m\u001b[0minit_state_size\u001b[0m\u001b[1;33m,\u001b[0m \u001b[0mdtype\u001b[0m\u001b[1;33m=\u001b[0m\u001b[0mdtype\u001b[0m\u001b[1;33m)\u001b[0m\u001b[1;33m\u001b[0m\u001b[1;33m\u001b[0m\u001b[0m\n\u001b[0m\u001b[0;32m   2982\u001b[0m \u001b[1;33m\u001b[0m\u001b[0m\n\u001b[0;32m   2983\u001b[0m   \u001b[1;32mif\u001b[0m \u001b[0mnest\u001b[0m\u001b[1;33m.\u001b[0m\u001b[0mis_sequence\u001b[0m\u001b[1;33m(\u001b[0m\u001b[0mstate_size\u001b[0m\u001b[1;33m)\u001b[0m\u001b[1;33m:\u001b[0m\u001b[1;33m\u001b[0m\u001b[1;33m\u001b[0m\u001b[0m\n",
      "\u001b[1;32m~\\anaconda3\\lib\\site-packages\\tensorflow\\python\\util\\dispatch.py\u001b[0m in \u001b[0;36mwrapper\u001b[1;34m(*args, **kwargs)\u001b[0m\n\u001b[0;32m    199\u001b[0m     \u001b[1;34m\"\"\"Call target, and fall back on dispatchers if there is a TypeError.\"\"\"\u001b[0m\u001b[1;33m\u001b[0m\u001b[1;33m\u001b[0m\u001b[0m\n\u001b[0;32m    200\u001b[0m     \u001b[1;32mtry\u001b[0m\u001b[1;33m:\u001b[0m\u001b[1;33m\u001b[0m\u001b[1;33m\u001b[0m\u001b[0m\n\u001b[1;32m--> 201\u001b[1;33m       \u001b[1;32mreturn\u001b[0m \u001b[0mtarget\u001b[0m\u001b[1;33m(\u001b[0m\u001b[1;33m*\u001b[0m\u001b[0margs\u001b[0m\u001b[1;33m,\u001b[0m \u001b[1;33m**\u001b[0m\u001b[0mkwargs\u001b[0m\u001b[1;33m)\u001b[0m\u001b[1;33m\u001b[0m\u001b[1;33m\u001b[0m\u001b[0m\n\u001b[0m\u001b[0;32m    202\u001b[0m     \u001b[1;32mexcept\u001b[0m \u001b[1;33m(\u001b[0m\u001b[0mTypeError\u001b[0m\u001b[1;33m,\u001b[0m \u001b[0mValueError\u001b[0m\u001b[1;33m)\u001b[0m\u001b[1;33m:\u001b[0m\u001b[1;33m\u001b[0m\u001b[1;33m\u001b[0m\u001b[0m\n\u001b[0;32m    203\u001b[0m       \u001b[1;31m# Note: convert_to_eager_tensor currently raises a ValueError, not a\u001b[0m\u001b[1;33m\u001b[0m\u001b[1;33m\u001b[0m\u001b[1;33m\u001b[0m\u001b[0m\n",
      "\u001b[1;32m~\\anaconda3\\lib\\site-packages\\tensorflow\\python\\ops\\array_ops.py\u001b[0m in \u001b[0;36mwrapped\u001b[1;34m(*args, **kwargs)\u001b[0m\n\u001b[0;32m   2745\u001b[0m \u001b[1;33m\u001b[0m\u001b[0m\n\u001b[0;32m   2746\u001b[0m   \u001b[1;32mdef\u001b[0m \u001b[0mwrapped\u001b[0m\u001b[1;33m(\u001b[0m\u001b[1;33m*\u001b[0m\u001b[0margs\u001b[0m\u001b[1;33m,\u001b[0m \u001b[1;33m**\u001b[0m\u001b[0mkwargs\u001b[0m\u001b[1;33m)\u001b[0m\u001b[1;33m:\u001b[0m\u001b[1;33m\u001b[0m\u001b[1;33m\u001b[0m\u001b[0m\n\u001b[1;32m-> 2747\u001b[1;33m     \u001b[0mtensor\u001b[0m \u001b[1;33m=\u001b[0m \u001b[0mfun\u001b[0m\u001b[1;33m(\u001b[0m\u001b[1;33m*\u001b[0m\u001b[0margs\u001b[0m\u001b[1;33m,\u001b[0m \u001b[1;33m**\u001b[0m\u001b[0mkwargs\u001b[0m\u001b[1;33m)\u001b[0m\u001b[1;33m\u001b[0m\u001b[1;33m\u001b[0m\u001b[0m\n\u001b[0m\u001b[0;32m   2748\u001b[0m     \u001b[0mtensor\u001b[0m\u001b[1;33m.\u001b[0m\u001b[0m_is_zeros_tensor\u001b[0m \u001b[1;33m=\u001b[0m \u001b[1;32mTrue\u001b[0m\u001b[1;33m\u001b[0m\u001b[1;33m\u001b[0m\u001b[0m\n\u001b[0;32m   2749\u001b[0m     \u001b[1;32mreturn\u001b[0m \u001b[0mtensor\u001b[0m\u001b[1;33m\u001b[0m\u001b[1;33m\u001b[0m\u001b[0m\n",
      "\u001b[1;32m~\\anaconda3\\lib\\site-packages\\tensorflow\\python\\ops\\array_ops.py\u001b[0m in \u001b[0;36mzeros\u001b[1;34m(shape, dtype, name)\u001b[0m\n\u001b[0;32m   2792\u001b[0m           \u001b[1;31m# Create a constant if it won't be very big. Otherwise create a fill\u001b[0m\u001b[1;33m\u001b[0m\u001b[1;33m\u001b[0m\u001b[1;33m\u001b[0m\u001b[0m\n\u001b[0;32m   2793\u001b[0m           \u001b[1;31m# op to prevent serialized GraphDefs from becoming too large.\u001b[0m\u001b[1;33m\u001b[0m\u001b[1;33m\u001b[0m\u001b[1;33m\u001b[0m\u001b[0m\n\u001b[1;32m-> 2794\u001b[1;33m           \u001b[0moutput\u001b[0m \u001b[1;33m=\u001b[0m \u001b[0m_constant_if_small\u001b[0m\u001b[1;33m(\u001b[0m\u001b[0mzero\u001b[0m\u001b[1;33m,\u001b[0m \u001b[0mshape\u001b[0m\u001b[1;33m,\u001b[0m \u001b[0mdtype\u001b[0m\u001b[1;33m,\u001b[0m \u001b[0mname\u001b[0m\u001b[1;33m)\u001b[0m\u001b[1;33m\u001b[0m\u001b[1;33m\u001b[0m\u001b[0m\n\u001b[0m\u001b[0;32m   2795\u001b[0m           \u001b[1;32mif\u001b[0m \u001b[0moutput\u001b[0m \u001b[1;32mis\u001b[0m \u001b[1;32mnot\u001b[0m \u001b[1;32mNone\u001b[0m\u001b[1;33m:\u001b[0m\u001b[1;33m\u001b[0m\u001b[1;33m\u001b[0m\u001b[0m\n\u001b[0;32m   2796\u001b[0m             \u001b[1;32mreturn\u001b[0m \u001b[0moutput\u001b[0m\u001b[1;33m\u001b[0m\u001b[1;33m\u001b[0m\u001b[0m\n",
      "\u001b[1;32m~\\anaconda3\\lib\\site-packages\\tensorflow\\python\\ops\\array_ops.py\u001b[0m in \u001b[0;36m_constant_if_small\u001b[1;34m(value, shape, dtype, name)\u001b[0m\n\u001b[0;32m   2730\u001b[0m \u001b[1;32mdef\u001b[0m \u001b[0m_constant_if_small\u001b[0m\u001b[1;33m(\u001b[0m\u001b[0mvalue\u001b[0m\u001b[1;33m,\u001b[0m \u001b[0mshape\u001b[0m\u001b[1;33m,\u001b[0m \u001b[0mdtype\u001b[0m\u001b[1;33m,\u001b[0m \u001b[0mname\u001b[0m\u001b[1;33m)\u001b[0m\u001b[1;33m:\u001b[0m\u001b[1;33m\u001b[0m\u001b[1;33m\u001b[0m\u001b[0m\n\u001b[0;32m   2731\u001b[0m   \u001b[1;32mtry\u001b[0m\u001b[1;33m:\u001b[0m\u001b[1;33m\u001b[0m\u001b[1;33m\u001b[0m\u001b[0m\n\u001b[1;32m-> 2732\u001b[1;33m     \u001b[1;32mif\u001b[0m \u001b[0mnp\u001b[0m\u001b[1;33m.\u001b[0m\u001b[0mprod\u001b[0m\u001b[1;33m(\u001b[0m\u001b[0mshape\u001b[0m\u001b[1;33m)\u001b[0m \u001b[1;33m<\u001b[0m \u001b[1;36m1000\u001b[0m\u001b[1;33m:\u001b[0m\u001b[1;33m\u001b[0m\u001b[1;33m\u001b[0m\u001b[0m\n\u001b[0m\u001b[0;32m   2733\u001b[0m       \u001b[1;32mreturn\u001b[0m \u001b[0mconstant\u001b[0m\u001b[1;33m(\u001b[0m\u001b[0mvalue\u001b[0m\u001b[1;33m,\u001b[0m \u001b[0mshape\u001b[0m\u001b[1;33m=\u001b[0m\u001b[0mshape\u001b[0m\u001b[1;33m,\u001b[0m \u001b[0mdtype\u001b[0m\u001b[1;33m=\u001b[0m\u001b[0mdtype\u001b[0m\u001b[1;33m,\u001b[0m \u001b[0mname\u001b[0m\u001b[1;33m=\u001b[0m\u001b[0mname\u001b[0m\u001b[1;33m)\u001b[0m\u001b[1;33m\u001b[0m\u001b[1;33m\u001b[0m\u001b[0m\n\u001b[0;32m   2734\u001b[0m   \u001b[1;32mexcept\u001b[0m \u001b[0mTypeError\u001b[0m\u001b[1;33m:\u001b[0m\u001b[1;33m\u001b[0m\u001b[1;33m\u001b[0m\u001b[0m\n",
      "\u001b[1;32m<__array_function__ internals>\u001b[0m in \u001b[0;36mprod\u001b[1;34m(*args, **kwargs)\u001b[0m\n",
      "\u001b[1;32m~\\anaconda3\\lib\\site-packages\\numpy\\core\\fromnumeric.py\u001b[0m in \u001b[0;36mprod\u001b[1;34m(a, axis, dtype, out, keepdims, initial, where)\u001b[0m\n\u001b[0;32m   3028\u001b[0m     \u001b[1;36m10\u001b[0m\u001b[1;33m\u001b[0m\u001b[1;33m\u001b[0m\u001b[0m\n\u001b[0;32m   3029\u001b[0m     \"\"\"\n\u001b[1;32m-> 3030\u001b[1;33m     return _wrapreduction(a, np.multiply, 'prod', axis, dtype, out,\n\u001b[0m\u001b[0;32m   3031\u001b[0m                           keepdims=keepdims, initial=initial, where=where)\n\u001b[0;32m   3032\u001b[0m \u001b[1;33m\u001b[0m\u001b[0m\n",
      "\u001b[1;32m~\\anaconda3\\lib\\site-packages\\numpy\\core\\fromnumeric.py\u001b[0m in \u001b[0;36m_wrapreduction\u001b[1;34m(obj, ufunc, method, axis, dtype, out, **kwargs)\u001b[0m\n\u001b[0;32m     85\u001b[0m                 \u001b[1;32mreturn\u001b[0m \u001b[0mreduction\u001b[0m\u001b[1;33m(\u001b[0m\u001b[0maxis\u001b[0m\u001b[1;33m=\u001b[0m\u001b[0maxis\u001b[0m\u001b[1;33m,\u001b[0m \u001b[0mout\u001b[0m\u001b[1;33m=\u001b[0m\u001b[0mout\u001b[0m\u001b[1;33m,\u001b[0m \u001b[1;33m**\u001b[0m\u001b[0mpasskwargs\u001b[0m\u001b[1;33m)\u001b[0m\u001b[1;33m\u001b[0m\u001b[1;33m\u001b[0m\u001b[0m\n\u001b[0;32m     86\u001b[0m \u001b[1;33m\u001b[0m\u001b[0m\n\u001b[1;32m---> 87\u001b[1;33m     \u001b[1;32mreturn\u001b[0m \u001b[0mufunc\u001b[0m\u001b[1;33m.\u001b[0m\u001b[0mreduce\u001b[0m\u001b[1;33m(\u001b[0m\u001b[0mobj\u001b[0m\u001b[1;33m,\u001b[0m \u001b[0maxis\u001b[0m\u001b[1;33m,\u001b[0m \u001b[0mdtype\u001b[0m\u001b[1;33m,\u001b[0m \u001b[0mout\u001b[0m\u001b[1;33m,\u001b[0m \u001b[1;33m**\u001b[0m\u001b[0mpasskwargs\u001b[0m\u001b[1;33m)\u001b[0m\u001b[1;33m\u001b[0m\u001b[1;33m\u001b[0m\u001b[0m\n\u001b[0m\u001b[0;32m     88\u001b[0m \u001b[1;33m\u001b[0m\u001b[0m\n\u001b[0;32m     89\u001b[0m \u001b[1;33m\u001b[0m\u001b[0m\n",
      "\u001b[1;32m~\\anaconda3\\lib\\site-packages\\tensorflow\\python\\framework\\ops.py\u001b[0m in \u001b[0;36m__array__\u001b[1;34m(self)\u001b[0m\n\u001b[0;32m    843\u001b[0m \u001b[1;33m\u001b[0m\u001b[0m\n\u001b[0;32m    844\u001b[0m   \u001b[1;32mdef\u001b[0m \u001b[0m__array__\u001b[0m\u001b[1;33m(\u001b[0m\u001b[0mself\u001b[0m\u001b[1;33m)\u001b[0m\u001b[1;33m:\u001b[0m\u001b[1;33m\u001b[0m\u001b[1;33m\u001b[0m\u001b[0m\n\u001b[1;32m--> 845\u001b[1;33m     raise NotImplementedError(\n\u001b[0m\u001b[0;32m    846\u001b[0m         \u001b[1;34m\"Cannot convert a symbolic Tensor ({}) to a numpy array.\"\u001b[0m\u001b[1;33m\u001b[0m\u001b[1;33m\u001b[0m\u001b[0m\n\u001b[0;32m    847\u001b[0m         \u001b[1;34m\" This error may indicate that you're trying to pass a Tensor to\"\u001b[0m\u001b[1;33m\u001b[0m\u001b[1;33m\u001b[0m\u001b[0m\n",
      "\u001b[1;31mNotImplementedError\u001b[0m: Cannot convert a symbolic Tensor (bidirectional/forward_lstm/strided_slice:0) to a numpy array. This error may indicate that you're trying to pass a Tensor to a NumPy call, which is not supported"
     ]
    }
   ],
   "source": [
    "tf.keras.backend.clear_session()\n",
    "tf.random.set_seed(51)\n",
    "np.random.seed(51)\n",
    "\n",
    "window_size = 30\n",
    "train_set = windowed_dataset(x_train, window_size, batch_size=128, shuffle_buffer=shuffle_buffer_size)\n",
    "train_set = train_set.padded_batch(batch_size, tf.compat.v1.data.get_output_shapes(train_set))   #\n",
    "\n",
    "model = tf.keras.models.Sequential([\n",
    "  tf.keras.layers.Conv1D(filters=32,\n",
    "                         kernel_size=5,\n",
    "                         strides=1,\n",
    "                         padding=\"causal\",\n",
    "                         activation=\"relu\",\n",
    "                         input_shape=[None, 1]),\n",
    "  tf.keras.layers.Bidirectional(tf.keras.layers.LSTM(32, return_sequences=True)),\n",
    "  tf.keras.layers.Bidirectional(tf.keras.layers.LSTM(32, return_sequences=True)),\n",
    "  tf.keras.layers.Dense(1),\n",
    "  tf.keras.layers.Lambda(lambda x: x * 200)\n",
    "])\n",
    "\n",
    "lr_schedule = tf.keras.callbacks.LearningRateScheduler(lambda epoch: 1e-8 * 10**(epoch / 20))\n",
    "\n",
    "optimizer = tf.keras.optimizers.SGD(lr=1e-8, momentum=0.9)\n",
    "\n",
    "model.compile(loss=tf.keras.losses.Huber(),\n",
    "              optimizer=optimizer,\n",
    "              metrics=[\"mae\"])\n",
    "\n",
    "history = model.fit(train_set, epochs=100, callbacks=[lr_schedule])"
   ]
  },
  {
   "cell_type": "markdown",
   "metadata": {},
   "source": [
    "### Set the Learning Rate\n",
    "\n",
    "Also similar to last week, the code will attempt lots of different learning rates changing them epoch by epoch and plotting the results. With this data and the convolutional and LASTM-based network, we'll get a plot like this.\n",
    "\n",
    "**Bottoms** are around 10 to the -5 after which it looks a bit unstable, so we'll take that to be our **desired learning rates.**\n",
    "\n",
    "Thus when we define the **optimizer will set the learning rate to be 1e-5** as shown here."
   ]
  },
  {
   "cell_type": "code",
   "execution_count": 70,
   "metadata": {},
   "outputs": [
    {
     "data": {
      "text/plain": [
       "[1e-08, 0.0001, 0, 30]"
      ]
     },
     "execution_count": 70,
     "metadata": {},
     "output_type": "execute_result"
    },
    {
     "data": {
      "image/png": "[encoded data removed]",
      "text/plain": [
       "<Figure size 432x288 with 1 Axes>"
      ]
     },
     "metadata": {
      "needs_background": "light"
     },
     "output_type": "display_data"
    }
   ],
   "source": [
    "plt.semilogx(history.history[\"lr\"], history.history[\"loss\"])\n",
    "plt.axis([1e-8, 1e-4, 0, 30])"
   ]
  },
  {
   "cell_type": "markdown",
   "metadata": {},
   "source": [
    "When we train for 500 epochs we'll get this curve. It's a huge improvement over earlier. The peak has lost its plateau but it's still not quite right, it's not getting high enough relative to the data."
   ]
  },
  {
   "cell_type": "code",
   "execution_count": 9,
   "metadata": {},
   "outputs": [
    {
     "name": "stdout",
     "output_type": "stream",
     "text": [
      "WARNING:tensorflow:AutoGraph could not transform <function windowed_dataset.<locals>.<lambda> at 0x0000022B36BB7160> and will run it as-is.\n",
      "Please report this to the TensorFlow team. When filing the bug, set the verbosity to 10 (on Linux, `export AUTOGRAPH_VERBOSITY=10`) and attach the full output.\n",
      "Cause: module 'gast' has no attribute 'Index'\n",
      "To silence this warning, decorate the function with @tf.autograph.experimental.do_not_convert\n",
      "WARNING: AutoGraph could not transform <function windowed_dataset.<locals>.<lambda> at 0x0000022B36BB7160> and will run it as-is.\n",
      "Please report this to the TensorFlow team. When filing the bug, set the verbosity to 10 (on Linux, `export AUTOGRAPH_VERBOSITY=10`) and attach the full output.\n",
      "Cause: module 'gast' has no attribute 'Index'\n",
      "To silence this warning, decorate the function with @tf.autograph.experimental.do_not_convert\n"
     ]
    },
    {
     "ename": "NotImplementedError",
     "evalue": "Cannot convert a symbolic Tensor (lstm/strided_slice:0) to a numpy array. This error may indicate that you're trying to pass a Tensor to a NumPy call, which is not supported",
     "output_type": "error",
     "traceback": [
      "\u001b[1;31m---------------------------------------------------------------------------\u001b[0m",
      "\u001b[1;31mNotImplementedError\u001b[0m                       Traceback (most recent call last)",
      "\u001b[1;32m<ipython-input-9-58dd0ab8fcd3>\u001b[0m in \u001b[0;36m<module>\u001b[1;34m\u001b[0m\n\u001b[0;32m      5\u001b[0m \u001b[0mdataset\u001b[0m \u001b[1;33m=\u001b[0m \u001b[0mwindowed_dataset\u001b[0m\u001b[1;33m(\u001b[0m\u001b[0mx_train\u001b[0m\u001b[1;33m,\u001b[0m \u001b[0mwindow_size\u001b[0m\u001b[1;33m,\u001b[0m \u001b[0mbatch_size\u001b[0m\u001b[1;33m,\u001b[0m \u001b[0mshuffle_buffer_size\u001b[0m\u001b[1;33m)\u001b[0m\u001b[1;33m\u001b[0m\u001b[1;33m\u001b[0m\u001b[0m\n\u001b[0;32m      6\u001b[0m \u001b[1;33m\u001b[0m\u001b[0m\n\u001b[1;32m----> 7\u001b[1;33m model = tf.keras.models.Sequential([\n\u001b[0m\u001b[0;32m      8\u001b[0m   tf.keras.layers.Conv1D(filters=32,\n\u001b[0;32m      9\u001b[0m                          \u001b[0mkernel_size\u001b[0m\u001b[1;33m=\u001b[0m\u001b[1;36m3\u001b[0m\u001b[1;33m,\u001b[0m\u001b[1;33m\u001b[0m\u001b[1;33m\u001b[0m\u001b[0m\n",
      "\u001b[1;32m~\\anaconda3\\lib\\site-packages\\tensorflow\\python\\training\\tracking\\base.py\u001b[0m in \u001b[0;36m_method_wrapper\u001b[1;34m(self, *args, **kwargs)\u001b[0m\n\u001b[0;32m    455\u001b[0m     \u001b[0mself\u001b[0m\u001b[1;33m.\u001b[0m\u001b[0m_self_setattr_tracking\u001b[0m \u001b[1;33m=\u001b[0m \u001b[1;32mFalse\u001b[0m  \u001b[1;31m# pylint: disable=protected-access\u001b[0m\u001b[1;33m\u001b[0m\u001b[1;33m\u001b[0m\u001b[0m\n\u001b[0;32m    456\u001b[0m     \u001b[1;32mtry\u001b[0m\u001b[1;33m:\u001b[0m\u001b[1;33m\u001b[0m\u001b[1;33m\u001b[0m\u001b[0m\n\u001b[1;32m--> 457\u001b[1;33m       \u001b[0mresult\u001b[0m \u001b[1;33m=\u001b[0m \u001b[0mmethod\u001b[0m\u001b[1;33m(\u001b[0m\u001b[0mself\u001b[0m\u001b[1;33m,\u001b[0m \u001b[1;33m*\u001b[0m\u001b[0margs\u001b[0m\u001b[1;33m,\u001b[0m \u001b[1;33m**\u001b[0m\u001b[0mkwargs\u001b[0m\u001b[1;33m)\u001b[0m\u001b[1;33m\u001b[0m\u001b[1;33m\u001b[0m\u001b[0m\n\u001b[0m\u001b[0;32m    458\u001b[0m     \u001b[1;32mfinally\u001b[0m\u001b[1;33m:\u001b[0m\u001b[1;33m\u001b[0m\u001b[1;33m\u001b[0m\u001b[0m\n\u001b[0;32m    459\u001b[0m       \u001b[0mself\u001b[0m\u001b[1;33m.\u001b[0m\u001b[0m_self_setattr_tracking\u001b[0m \u001b[1;33m=\u001b[0m \u001b[0mprevious_value\u001b[0m  \u001b[1;31m# pylint: disable=protected-access\u001b[0m\u001b[1;33m\u001b[0m\u001b[1;33m\u001b[0m\u001b[0m\n",
      "\u001b[1;32m~\\anaconda3\\lib\\site-packages\\tensorflow\\python\\keras\\engine\\sequential.py\u001b[0m in \u001b[0;36m__init__\u001b[1;34m(self, layers, name)\u001b[0m\n\u001b[0;32m    140\u001b[0m         \u001b[0mlayers\u001b[0m \u001b[1;33m=\u001b[0m \u001b[1;33m[\u001b[0m\u001b[0mlayers\u001b[0m\u001b[1;33m]\u001b[0m\u001b[1;33m\u001b[0m\u001b[1;33m\u001b[0m\u001b[0m\n\u001b[0;32m    141\u001b[0m       \u001b[1;32mfor\u001b[0m \u001b[0mlayer\u001b[0m \u001b[1;32min\u001b[0m \u001b[0mlayers\u001b[0m\u001b[1;33m:\u001b[0m\u001b[1;33m\u001b[0m\u001b[1;33m\u001b[0m\u001b[0m\n\u001b[1;32m--> 142\u001b[1;33m         \u001b[0mself\u001b[0m\u001b[1;33m.\u001b[0m\u001b[0madd\u001b[0m\u001b[1;33m(\u001b[0m\u001b[0mlayer\u001b[0m\u001b[1;33m)\u001b[0m\u001b[1;33m\u001b[0m\u001b[1;33m\u001b[0m\u001b[0m\n\u001b[0m\u001b[0;32m    143\u001b[0m \u001b[1;33m\u001b[0m\u001b[0m\n\u001b[0;32m    144\u001b[0m   \u001b[1;33m@\u001b[0m\u001b[0mproperty\u001b[0m\u001b[1;33m\u001b[0m\u001b[1;33m\u001b[0m\u001b[0m\n",
      "\u001b[1;32m~\\anaconda3\\lib\\site-packages\\tensorflow\\python\\training\\tracking\\base.py\u001b[0m in \u001b[0;36m_method_wrapper\u001b[1;34m(self, *args, **kwargs)\u001b[0m\n\u001b[0;32m    455\u001b[0m     \u001b[0mself\u001b[0m\u001b[1;33m.\u001b[0m\u001b[0m_self_setattr_tracking\u001b[0m \u001b[1;33m=\u001b[0m \u001b[1;32mFalse\u001b[0m  \u001b[1;31m# pylint: disable=protected-access\u001b[0m\u001b[1;33m\u001b[0m\u001b[1;33m\u001b[0m\u001b[0m\n\u001b[0;32m    456\u001b[0m     \u001b[1;32mtry\u001b[0m\u001b[1;33m:\u001b[0m\u001b[1;33m\u001b[0m\u001b[1;33m\u001b[0m\u001b[0m\n\u001b[1;32m--> 457\u001b[1;33m       \u001b[0mresult\u001b[0m \u001b[1;33m=\u001b[0m \u001b[0mmethod\u001b[0m\u001b[1;33m(\u001b[0m\u001b[0mself\u001b[0m\u001b[1;33m,\u001b[0m \u001b[1;33m*\u001b[0m\u001b[0margs\u001b[0m\u001b[1;33m,\u001b[0m \u001b[1;33m**\u001b[0m\u001b[0mkwargs\u001b[0m\u001b[1;33m)\u001b[0m\u001b[1;33m\u001b[0m\u001b[1;33m\u001b[0m\u001b[0m\n\u001b[0m\u001b[0;32m    458\u001b[0m     \u001b[1;32mfinally\u001b[0m\u001b[1;33m:\u001b[0m\u001b[1;33m\u001b[0m\u001b[1;33m\u001b[0m\u001b[0m\n\u001b[0;32m    459\u001b[0m       \u001b[0mself\u001b[0m\u001b[1;33m.\u001b[0m\u001b[0m_self_setattr_tracking\u001b[0m \u001b[1;33m=\u001b[0m \u001b[0mprevious_value\u001b[0m  \u001b[1;31m# pylint: disable=protected-access\u001b[0m\u001b[1;33m\u001b[0m\u001b[1;33m\u001b[0m\u001b[0m\n",
      "\u001b[1;32m~\\anaconda3\\lib\\site-packages\\tensorflow\\python\\keras\\engine\\sequential.py\u001b[0m in \u001b[0;36madd\u001b[1;34m(self, layer)\u001b[0m\n\u001b[0;32m    219\u001b[0m       \u001b[1;31m# If the model is being built continuously on top of an input layer:\u001b[0m\u001b[1;33m\u001b[0m\u001b[1;33m\u001b[0m\u001b[1;33m\u001b[0m\u001b[0m\n\u001b[0;32m    220\u001b[0m       \u001b[1;31m# refresh its output.\u001b[0m\u001b[1;33m\u001b[0m\u001b[1;33m\u001b[0m\u001b[1;33m\u001b[0m\u001b[0m\n\u001b[1;32m--> 221\u001b[1;33m       \u001b[0moutput_tensor\u001b[0m \u001b[1;33m=\u001b[0m \u001b[0mlayer\u001b[0m\u001b[1;33m(\u001b[0m\u001b[0mself\u001b[0m\u001b[1;33m.\u001b[0m\u001b[0moutputs\u001b[0m\u001b[1;33m[\u001b[0m\u001b[1;36m0\u001b[0m\u001b[1;33m]\u001b[0m\u001b[1;33m)\u001b[0m\u001b[1;33m\u001b[0m\u001b[1;33m\u001b[0m\u001b[0m\n\u001b[0m\u001b[0;32m    222\u001b[0m       \u001b[1;32mif\u001b[0m \u001b[0mlen\u001b[0m\u001b[1;33m(\u001b[0m\u001b[0mnest\u001b[0m\u001b[1;33m.\u001b[0m\u001b[0mflatten\u001b[0m\u001b[1;33m(\u001b[0m\u001b[0moutput_tensor\u001b[0m\u001b[1;33m)\u001b[0m\u001b[1;33m)\u001b[0m \u001b[1;33m!=\u001b[0m \u001b[1;36m1\u001b[0m\u001b[1;33m:\u001b[0m\u001b[1;33m\u001b[0m\u001b[1;33m\u001b[0m\u001b[0m\n\u001b[0;32m    223\u001b[0m         \u001b[1;32mraise\u001b[0m \u001b[0mValueError\u001b[0m\u001b[1;33m(\u001b[0m\u001b[0mSINGLE_LAYER_OUTPUT_ERROR_MSG\u001b[0m\u001b[1;33m)\u001b[0m\u001b[1;33m\u001b[0m\u001b[1;33m\u001b[0m\u001b[0m\n",
      "\u001b[1;32m~\\anaconda3\\lib\\site-packages\\tensorflow\\python\\keras\\layers\\recurrent.py\u001b[0m in \u001b[0;36m__call__\u001b[1;34m(self, inputs, initial_state, constants, **kwargs)\u001b[0m\n\u001b[0;32m    661\u001b[0m \u001b[1;33m\u001b[0m\u001b[0m\n\u001b[0;32m    662\u001b[0m     \u001b[1;32mif\u001b[0m \u001b[0minitial_state\u001b[0m \u001b[1;32mis\u001b[0m \u001b[1;32mNone\u001b[0m \u001b[1;32mand\u001b[0m \u001b[0mconstants\u001b[0m \u001b[1;32mis\u001b[0m \u001b[1;32mNone\u001b[0m\u001b[1;33m:\u001b[0m\u001b[1;33m\u001b[0m\u001b[1;33m\u001b[0m\u001b[0m\n\u001b[1;32m--> 663\u001b[1;33m       \u001b[1;32mreturn\u001b[0m \u001b[0msuper\u001b[0m\u001b[1;33m(\u001b[0m\u001b[0mRNN\u001b[0m\u001b[1;33m,\u001b[0m \u001b[0mself\u001b[0m\u001b[1;33m)\u001b[0m\u001b[1;33m.\u001b[0m\u001b[0m__call__\u001b[0m\u001b[1;33m(\u001b[0m\u001b[0minputs\u001b[0m\u001b[1;33m,\u001b[0m \u001b[1;33m**\u001b[0m\u001b[0mkwargs\u001b[0m\u001b[1;33m)\u001b[0m\u001b[1;33m\u001b[0m\u001b[1;33m\u001b[0m\u001b[0m\n\u001b[0m\u001b[0;32m    664\u001b[0m \u001b[1;33m\u001b[0m\u001b[0m\n\u001b[0;32m    665\u001b[0m     \u001b[1;31m# If any of `initial_state` or `constants` are specified and are Keras\u001b[0m\u001b[1;33m\u001b[0m\u001b[1;33m\u001b[0m\u001b[1;33m\u001b[0m\u001b[0m\n",
      "\u001b[1;32m~\\anaconda3\\lib\\site-packages\\tensorflow\\python\\keras\\engine\\base_layer.py\u001b[0m in \u001b[0;36m__call__\u001b[1;34m(self, *args, **kwargs)\u001b[0m\n\u001b[0;32m    923\u001b[0m     \u001b[1;31m# >> model = tf.keras.Model(inputs, outputs)\u001b[0m\u001b[1;33m\u001b[0m\u001b[1;33m\u001b[0m\u001b[1;33m\u001b[0m\u001b[0m\n\u001b[0;32m    924\u001b[0m     \u001b[1;32mif\u001b[0m \u001b[0m_in_functional_construction_mode\u001b[0m\u001b[1;33m(\u001b[0m\u001b[0mself\u001b[0m\u001b[1;33m,\u001b[0m \u001b[0minputs\u001b[0m\u001b[1;33m,\u001b[0m \u001b[0margs\u001b[0m\u001b[1;33m,\u001b[0m \u001b[0mkwargs\u001b[0m\u001b[1;33m,\u001b[0m \u001b[0minput_list\u001b[0m\u001b[1;33m)\u001b[0m\u001b[1;33m:\u001b[0m\u001b[1;33m\u001b[0m\u001b[1;33m\u001b[0m\u001b[0m\n\u001b[1;32m--> 925\u001b[1;33m       return self._functional_construction_call(inputs, args, kwargs,\n\u001b[0m\u001b[0;32m    926\u001b[0m                                                 input_list)\n\u001b[0;32m    927\u001b[0m \u001b[1;33m\u001b[0m\u001b[0m\n",
      "\u001b[1;32m~\\anaconda3\\lib\\site-packages\\tensorflow\\python\\keras\\engine\\base_layer.py\u001b[0m in \u001b[0;36m_functional_construction_call\u001b[1;34m(self, inputs, args, kwargs, input_list)\u001b[0m\n\u001b[0;32m   1115\u001b[0m           \u001b[1;32mtry\u001b[0m\u001b[1;33m:\u001b[0m\u001b[1;33m\u001b[0m\u001b[1;33m\u001b[0m\u001b[0m\n\u001b[0;32m   1116\u001b[0m             \u001b[1;32mwith\u001b[0m \u001b[0mops\u001b[0m\u001b[1;33m.\u001b[0m\u001b[0menable_auto_cast_variables\u001b[0m\u001b[1;33m(\u001b[0m\u001b[0mself\u001b[0m\u001b[1;33m.\u001b[0m\u001b[0m_compute_dtype_object\u001b[0m\u001b[1;33m)\u001b[0m\u001b[1;33m:\u001b[0m\u001b[1;33m\u001b[0m\u001b[1;33m\u001b[0m\u001b[0m\n\u001b[1;32m-> 1117\u001b[1;33m               \u001b[0moutputs\u001b[0m \u001b[1;33m=\u001b[0m \u001b[0mcall_fn\u001b[0m\u001b[1;33m(\u001b[0m\u001b[0mcast_inputs\u001b[0m\u001b[1;33m,\u001b[0m \u001b[1;33m*\u001b[0m\u001b[0margs\u001b[0m\u001b[1;33m,\u001b[0m \u001b[1;33m**\u001b[0m\u001b[0mkwargs\u001b[0m\u001b[1;33m)\u001b[0m\u001b[1;33m\u001b[0m\u001b[1;33m\u001b[0m\u001b[0m\n\u001b[0m\u001b[0;32m   1118\u001b[0m \u001b[1;33m\u001b[0m\u001b[0m\n\u001b[0;32m   1119\u001b[0m           \u001b[1;32mexcept\u001b[0m \u001b[0merrors\u001b[0m\u001b[1;33m.\u001b[0m\u001b[0mOperatorNotAllowedInGraphError\u001b[0m \u001b[1;32mas\u001b[0m \u001b[0me\u001b[0m\u001b[1;33m:\u001b[0m\u001b[1;33m\u001b[0m\u001b[1;33m\u001b[0m\u001b[0m\n",
      "\u001b[1;32m~\\anaconda3\\lib\\site-packages\\tensorflow\\python\\keras\\layers\\recurrent_v2.py\u001b[0m in \u001b[0;36mcall\u001b[1;34m(self, inputs, mask, training, initial_state)\u001b[0m\n\u001b[0;32m   1106\u001b[0m \u001b[1;33m\u001b[0m\u001b[0m\n\u001b[0;32m   1107\u001b[0m     \u001b[1;31m# LSTM does not support constants. Ignore it during process.\u001b[0m\u001b[1;33m\u001b[0m\u001b[1;33m\u001b[0m\u001b[1;33m\u001b[0m\u001b[0m\n\u001b[1;32m-> 1108\u001b[1;33m     \u001b[0minputs\u001b[0m\u001b[1;33m,\u001b[0m \u001b[0minitial_state\u001b[0m\u001b[1;33m,\u001b[0m \u001b[0m_\u001b[0m \u001b[1;33m=\u001b[0m \u001b[0mself\u001b[0m\u001b[1;33m.\u001b[0m\u001b[0m_process_inputs\u001b[0m\u001b[1;33m(\u001b[0m\u001b[0minputs\u001b[0m\u001b[1;33m,\u001b[0m \u001b[0minitial_state\u001b[0m\u001b[1;33m,\u001b[0m \u001b[1;32mNone\u001b[0m\u001b[1;33m)\u001b[0m\u001b[1;33m\u001b[0m\u001b[1;33m\u001b[0m\u001b[0m\n\u001b[0m\u001b[0;32m   1109\u001b[0m \u001b[1;33m\u001b[0m\u001b[0m\n\u001b[0;32m   1110\u001b[0m     \u001b[1;32mif\u001b[0m \u001b[0misinstance\u001b[0m\u001b[1;33m(\u001b[0m\u001b[0mmask\u001b[0m\u001b[1;33m,\u001b[0m \u001b[0mlist\u001b[0m\u001b[1;33m)\u001b[0m\u001b[1;33m:\u001b[0m\u001b[1;33m\u001b[0m\u001b[1;33m\u001b[0m\u001b[0m\n",
      "\u001b[1;32m~\\anaconda3\\lib\\site-packages\\tensorflow\\python\\keras\\layers\\recurrent.py\u001b[0m in \u001b[0;36m_process_inputs\u001b[1;34m(self, inputs, initial_state, constants)\u001b[0m\n\u001b[0;32m    860\u001b[0m         \u001b[0minitial_state\u001b[0m \u001b[1;33m=\u001b[0m \u001b[0mself\u001b[0m\u001b[1;33m.\u001b[0m\u001b[0mstates\u001b[0m\u001b[1;33m\u001b[0m\u001b[1;33m\u001b[0m\u001b[0m\n\u001b[0;32m    861\u001b[0m     \u001b[1;32melif\u001b[0m \u001b[0minitial_state\u001b[0m \u001b[1;32mis\u001b[0m \u001b[1;32mNone\u001b[0m\u001b[1;33m:\u001b[0m\u001b[1;33m\u001b[0m\u001b[1;33m\u001b[0m\u001b[0m\n\u001b[1;32m--> 862\u001b[1;33m       \u001b[0minitial_state\u001b[0m \u001b[1;33m=\u001b[0m \u001b[0mself\u001b[0m\u001b[1;33m.\u001b[0m\u001b[0mget_initial_state\u001b[0m\u001b[1;33m(\u001b[0m\u001b[0minputs\u001b[0m\u001b[1;33m)\u001b[0m\u001b[1;33m\u001b[0m\u001b[1;33m\u001b[0m\u001b[0m\n\u001b[0m\u001b[0;32m    863\u001b[0m \u001b[1;33m\u001b[0m\u001b[0m\n\u001b[0;32m    864\u001b[0m     \u001b[1;32mif\u001b[0m \u001b[0mlen\u001b[0m\u001b[1;33m(\u001b[0m\u001b[0minitial_state\u001b[0m\u001b[1;33m)\u001b[0m \u001b[1;33m!=\u001b[0m \u001b[0mlen\u001b[0m\u001b[1;33m(\u001b[0m\u001b[0mself\u001b[0m\u001b[1;33m.\u001b[0m\u001b[0mstates\u001b[0m\u001b[1;33m)\u001b[0m\u001b[1;33m:\u001b[0m\u001b[1;33m\u001b[0m\u001b[1;33m\u001b[0m\u001b[0m\n",
      "\u001b[1;32m~\\anaconda3\\lib\\site-packages\\tensorflow\\python\\keras\\layers\\recurrent.py\u001b[0m in \u001b[0;36mget_initial_state\u001b[1;34m(self, inputs)\u001b[0m\n\u001b[0;32m    643\u001b[0m     \u001b[0mdtype\u001b[0m \u001b[1;33m=\u001b[0m \u001b[0minputs\u001b[0m\u001b[1;33m.\u001b[0m\u001b[0mdtype\u001b[0m\u001b[1;33m\u001b[0m\u001b[1;33m\u001b[0m\u001b[0m\n\u001b[0;32m    644\u001b[0m     \u001b[1;32mif\u001b[0m \u001b[0mget_initial_state_fn\u001b[0m\u001b[1;33m:\u001b[0m\u001b[1;33m\u001b[0m\u001b[1;33m\u001b[0m\u001b[0m\n\u001b[1;32m--> 645\u001b[1;33m       init_state = get_initial_state_fn(\n\u001b[0m\u001b[0;32m    646\u001b[0m           inputs=None, batch_size=batch_size, dtype=dtype)\n\u001b[0;32m    647\u001b[0m     \u001b[1;32melse\u001b[0m\u001b[1;33m:\u001b[0m\u001b[1;33m\u001b[0m\u001b[1;33m\u001b[0m\u001b[0m\n",
      "\u001b[1;32m~\\anaconda3\\lib\\site-packages\\tensorflow\\python\\keras\\layers\\recurrent.py\u001b[0m in \u001b[0;36mget_initial_state\u001b[1;34m(self, inputs, batch_size, dtype)\u001b[0m\n\u001b[0;32m   2521\u001b[0m \u001b[1;33m\u001b[0m\u001b[0m\n\u001b[0;32m   2522\u001b[0m   \u001b[1;32mdef\u001b[0m \u001b[0mget_initial_state\u001b[0m\u001b[1;33m(\u001b[0m\u001b[0mself\u001b[0m\u001b[1;33m,\u001b[0m \u001b[0minputs\u001b[0m\u001b[1;33m=\u001b[0m\u001b[1;32mNone\u001b[0m\u001b[1;33m,\u001b[0m \u001b[0mbatch_size\u001b[0m\u001b[1;33m=\u001b[0m\u001b[1;32mNone\u001b[0m\u001b[1;33m,\u001b[0m \u001b[0mdtype\u001b[0m\u001b[1;33m=\u001b[0m\u001b[1;32mNone\u001b[0m\u001b[1;33m)\u001b[0m\u001b[1;33m:\u001b[0m\u001b[1;33m\u001b[0m\u001b[1;33m\u001b[0m\u001b[0m\n\u001b[1;32m-> 2523\u001b[1;33m     return list(_generate_zero_filled_state_for_cell(\n\u001b[0m\u001b[0;32m   2524\u001b[0m         self, inputs, batch_size, dtype))\n\u001b[0;32m   2525\u001b[0m \u001b[1;33m\u001b[0m\u001b[0m\n",
      "\u001b[1;32m~\\anaconda3\\lib\\site-packages\\tensorflow\\python\\keras\\layers\\recurrent.py\u001b[0m in \u001b[0;36m_generate_zero_filled_state_for_cell\u001b[1;34m(cell, inputs, batch_size, dtype)\u001b[0m\n\u001b[0;32m   2966\u001b[0m     \u001b[0mbatch_size\u001b[0m \u001b[1;33m=\u001b[0m \u001b[0marray_ops\u001b[0m\u001b[1;33m.\u001b[0m\u001b[0mshape\u001b[0m\u001b[1;33m(\u001b[0m\u001b[0minputs\u001b[0m\u001b[1;33m)\u001b[0m\u001b[1;33m[\u001b[0m\u001b[1;36m0\u001b[0m\u001b[1;33m]\u001b[0m\u001b[1;33m\u001b[0m\u001b[1;33m\u001b[0m\u001b[0m\n\u001b[0;32m   2967\u001b[0m     \u001b[0mdtype\u001b[0m \u001b[1;33m=\u001b[0m \u001b[0minputs\u001b[0m\u001b[1;33m.\u001b[0m\u001b[0mdtype\u001b[0m\u001b[1;33m\u001b[0m\u001b[1;33m\u001b[0m\u001b[0m\n\u001b[1;32m-> 2968\u001b[1;33m   \u001b[1;32mreturn\u001b[0m \u001b[0m_generate_zero_filled_state\u001b[0m\u001b[1;33m(\u001b[0m\u001b[0mbatch_size\u001b[0m\u001b[1;33m,\u001b[0m \u001b[0mcell\u001b[0m\u001b[1;33m.\u001b[0m\u001b[0mstate_size\u001b[0m\u001b[1;33m,\u001b[0m \u001b[0mdtype\u001b[0m\u001b[1;33m)\u001b[0m\u001b[1;33m\u001b[0m\u001b[1;33m\u001b[0m\u001b[0m\n\u001b[0m\u001b[0;32m   2969\u001b[0m \u001b[1;33m\u001b[0m\u001b[0m\n\u001b[0;32m   2970\u001b[0m \u001b[1;33m\u001b[0m\u001b[0m\n",
      "\u001b[1;32m~\\anaconda3\\lib\\site-packages\\tensorflow\\python\\keras\\layers\\recurrent.py\u001b[0m in \u001b[0;36m_generate_zero_filled_state\u001b[1;34m(batch_size_tensor, state_size, dtype)\u001b[0m\n\u001b[0;32m   2982\u001b[0m \u001b[1;33m\u001b[0m\u001b[0m\n\u001b[0;32m   2983\u001b[0m   \u001b[1;32mif\u001b[0m \u001b[0mnest\u001b[0m\u001b[1;33m.\u001b[0m\u001b[0mis_sequence\u001b[0m\u001b[1;33m(\u001b[0m\u001b[0mstate_size\u001b[0m\u001b[1;33m)\u001b[0m\u001b[1;33m:\u001b[0m\u001b[1;33m\u001b[0m\u001b[1;33m\u001b[0m\u001b[0m\n\u001b[1;32m-> 2984\u001b[1;33m     \u001b[1;32mreturn\u001b[0m \u001b[0mnest\u001b[0m\u001b[1;33m.\u001b[0m\u001b[0mmap_structure\u001b[0m\u001b[1;33m(\u001b[0m\u001b[0mcreate_zeros\u001b[0m\u001b[1;33m,\u001b[0m \u001b[0mstate_size\u001b[0m\u001b[1;33m)\u001b[0m\u001b[1;33m\u001b[0m\u001b[1;33m\u001b[0m\u001b[0m\n\u001b[0m\u001b[0;32m   2985\u001b[0m   \u001b[1;32melse\u001b[0m\u001b[1;33m:\u001b[0m\u001b[1;33m\u001b[0m\u001b[1;33m\u001b[0m\u001b[0m\n\u001b[0;32m   2986\u001b[0m     \u001b[1;32mreturn\u001b[0m \u001b[0mcreate_zeros\u001b[0m\u001b[1;33m(\u001b[0m\u001b[0mstate_size\u001b[0m\u001b[1;33m)\u001b[0m\u001b[1;33m\u001b[0m\u001b[1;33m\u001b[0m\u001b[0m\n",
      "\u001b[1;32m~\\anaconda3\\lib\\site-packages\\tensorflow\\python\\util\\nest.py\u001b[0m in \u001b[0;36mmap_structure\u001b[1;34m(func, *structure, **kwargs)\u001b[0m\n\u001b[0;32m    633\u001b[0m \u001b[1;33m\u001b[0m\u001b[0m\n\u001b[0;32m    634\u001b[0m   return pack_sequence_as(\n\u001b[1;32m--> 635\u001b[1;33m       \u001b[0mstructure\u001b[0m\u001b[1;33m[\u001b[0m\u001b[1;36m0\u001b[0m\u001b[1;33m]\u001b[0m\u001b[1;33m,\u001b[0m \u001b[1;33m[\u001b[0m\u001b[0mfunc\u001b[0m\u001b[1;33m(\u001b[0m\u001b[1;33m*\u001b[0m\u001b[0mx\u001b[0m\u001b[1;33m)\u001b[0m \u001b[1;32mfor\u001b[0m \u001b[0mx\u001b[0m \u001b[1;32min\u001b[0m \u001b[0mentries\u001b[0m\u001b[1;33m]\u001b[0m\u001b[1;33m,\u001b[0m\u001b[1;33m\u001b[0m\u001b[1;33m\u001b[0m\u001b[0m\n\u001b[0m\u001b[0;32m    636\u001b[0m       expand_composites=expand_composites)\n\u001b[0;32m    637\u001b[0m \u001b[1;33m\u001b[0m\u001b[0m\n",
      "\u001b[1;32m~\\anaconda3\\lib\\site-packages\\tensorflow\\python\\util\\nest.py\u001b[0m in \u001b[0;36m<listcomp>\u001b[1;34m(.0)\u001b[0m\n\u001b[0;32m    633\u001b[0m \u001b[1;33m\u001b[0m\u001b[0m\n\u001b[0;32m    634\u001b[0m   return pack_sequence_as(\n\u001b[1;32m--> 635\u001b[1;33m       \u001b[0mstructure\u001b[0m\u001b[1;33m[\u001b[0m\u001b[1;36m0\u001b[0m\u001b[1;33m]\u001b[0m\u001b[1;33m,\u001b[0m \u001b[1;33m[\u001b[0m\u001b[0mfunc\u001b[0m\u001b[1;33m(\u001b[0m\u001b[1;33m*\u001b[0m\u001b[0mx\u001b[0m\u001b[1;33m)\u001b[0m \u001b[1;32mfor\u001b[0m \u001b[0mx\u001b[0m \u001b[1;32min\u001b[0m \u001b[0mentries\u001b[0m\u001b[1;33m]\u001b[0m\u001b[1;33m,\u001b[0m\u001b[1;33m\u001b[0m\u001b[1;33m\u001b[0m\u001b[0m\n\u001b[0m\u001b[0;32m    636\u001b[0m       expand_composites=expand_composites)\n\u001b[0;32m    637\u001b[0m \u001b[1;33m\u001b[0m\u001b[0m\n",
      "\u001b[1;32m~\\anaconda3\\lib\\site-packages\\tensorflow\\python\\keras\\layers\\recurrent.py\u001b[0m in \u001b[0;36mcreate_zeros\u001b[1;34m(unnested_state_size)\u001b[0m\n\u001b[0;32m   2979\u001b[0m     \u001b[0mflat_dims\u001b[0m \u001b[1;33m=\u001b[0m \u001b[0mtensor_shape\u001b[0m\u001b[1;33m.\u001b[0m\u001b[0mas_shape\u001b[0m\u001b[1;33m(\u001b[0m\u001b[0munnested_state_size\u001b[0m\u001b[1;33m)\u001b[0m\u001b[1;33m.\u001b[0m\u001b[0mas_list\u001b[0m\u001b[1;33m(\u001b[0m\u001b[1;33m)\u001b[0m\u001b[1;33m\u001b[0m\u001b[1;33m\u001b[0m\u001b[0m\n\u001b[0;32m   2980\u001b[0m     \u001b[0minit_state_size\u001b[0m \u001b[1;33m=\u001b[0m \u001b[1;33m[\u001b[0m\u001b[0mbatch_size_tensor\u001b[0m\u001b[1;33m]\u001b[0m \u001b[1;33m+\u001b[0m \u001b[0mflat_dims\u001b[0m\u001b[1;33m\u001b[0m\u001b[1;33m\u001b[0m\u001b[0m\n\u001b[1;32m-> 2981\u001b[1;33m     \u001b[1;32mreturn\u001b[0m \u001b[0marray_ops\u001b[0m\u001b[1;33m.\u001b[0m\u001b[0mzeros\u001b[0m\u001b[1;33m(\u001b[0m\u001b[0minit_state_size\u001b[0m\u001b[1;33m,\u001b[0m \u001b[0mdtype\u001b[0m\u001b[1;33m=\u001b[0m\u001b[0mdtype\u001b[0m\u001b[1;33m)\u001b[0m\u001b[1;33m\u001b[0m\u001b[1;33m\u001b[0m\u001b[0m\n\u001b[0m\u001b[0;32m   2982\u001b[0m \u001b[1;33m\u001b[0m\u001b[0m\n\u001b[0;32m   2983\u001b[0m   \u001b[1;32mif\u001b[0m \u001b[0mnest\u001b[0m\u001b[1;33m.\u001b[0m\u001b[0mis_sequence\u001b[0m\u001b[1;33m(\u001b[0m\u001b[0mstate_size\u001b[0m\u001b[1;33m)\u001b[0m\u001b[1;33m:\u001b[0m\u001b[1;33m\u001b[0m\u001b[1;33m\u001b[0m\u001b[0m\n",
      "\u001b[1;32m~\\anaconda3\\lib\\site-packages\\tensorflow\\python\\util\\dispatch.py\u001b[0m in \u001b[0;36mwrapper\u001b[1;34m(*args, **kwargs)\u001b[0m\n\u001b[0;32m    199\u001b[0m     \u001b[1;34m\"\"\"Call target, and fall back on dispatchers if there is a TypeError.\"\"\"\u001b[0m\u001b[1;33m\u001b[0m\u001b[1;33m\u001b[0m\u001b[0m\n\u001b[0;32m    200\u001b[0m     \u001b[1;32mtry\u001b[0m\u001b[1;33m:\u001b[0m\u001b[1;33m\u001b[0m\u001b[1;33m\u001b[0m\u001b[0m\n\u001b[1;32m--> 201\u001b[1;33m       \u001b[1;32mreturn\u001b[0m \u001b[0mtarget\u001b[0m\u001b[1;33m(\u001b[0m\u001b[1;33m*\u001b[0m\u001b[0margs\u001b[0m\u001b[1;33m,\u001b[0m \u001b[1;33m**\u001b[0m\u001b[0mkwargs\u001b[0m\u001b[1;33m)\u001b[0m\u001b[1;33m\u001b[0m\u001b[1;33m\u001b[0m\u001b[0m\n\u001b[0m\u001b[0;32m    202\u001b[0m     \u001b[1;32mexcept\u001b[0m \u001b[1;33m(\u001b[0m\u001b[0mTypeError\u001b[0m\u001b[1;33m,\u001b[0m \u001b[0mValueError\u001b[0m\u001b[1;33m)\u001b[0m\u001b[1;33m:\u001b[0m\u001b[1;33m\u001b[0m\u001b[1;33m\u001b[0m\u001b[0m\n\u001b[0;32m    203\u001b[0m       \u001b[1;31m# Note: convert_to_eager_tensor currently raises a ValueError, not a\u001b[0m\u001b[1;33m\u001b[0m\u001b[1;33m\u001b[0m\u001b[1;33m\u001b[0m\u001b[0m\n",
      "\u001b[1;32m~\\anaconda3\\lib\\site-packages\\tensorflow\\python\\ops\\array_ops.py\u001b[0m in \u001b[0;36mwrapped\u001b[1;34m(*args, **kwargs)\u001b[0m\n\u001b[0;32m   2745\u001b[0m \u001b[1;33m\u001b[0m\u001b[0m\n\u001b[0;32m   2746\u001b[0m   \u001b[1;32mdef\u001b[0m \u001b[0mwrapped\u001b[0m\u001b[1;33m(\u001b[0m\u001b[1;33m*\u001b[0m\u001b[0margs\u001b[0m\u001b[1;33m,\u001b[0m \u001b[1;33m**\u001b[0m\u001b[0mkwargs\u001b[0m\u001b[1;33m)\u001b[0m\u001b[1;33m:\u001b[0m\u001b[1;33m\u001b[0m\u001b[1;33m\u001b[0m\u001b[0m\n\u001b[1;32m-> 2747\u001b[1;33m     \u001b[0mtensor\u001b[0m \u001b[1;33m=\u001b[0m \u001b[0mfun\u001b[0m\u001b[1;33m(\u001b[0m\u001b[1;33m*\u001b[0m\u001b[0margs\u001b[0m\u001b[1;33m,\u001b[0m \u001b[1;33m**\u001b[0m\u001b[0mkwargs\u001b[0m\u001b[1;33m)\u001b[0m\u001b[1;33m\u001b[0m\u001b[1;33m\u001b[0m\u001b[0m\n\u001b[0m\u001b[0;32m   2748\u001b[0m     \u001b[0mtensor\u001b[0m\u001b[1;33m.\u001b[0m\u001b[0m_is_zeros_tensor\u001b[0m \u001b[1;33m=\u001b[0m \u001b[1;32mTrue\u001b[0m\u001b[1;33m\u001b[0m\u001b[1;33m\u001b[0m\u001b[0m\n\u001b[0;32m   2749\u001b[0m     \u001b[1;32mreturn\u001b[0m \u001b[0mtensor\u001b[0m\u001b[1;33m\u001b[0m\u001b[1;33m\u001b[0m\u001b[0m\n",
      "\u001b[1;32m~\\anaconda3\\lib\\site-packages\\tensorflow\\python\\ops\\array_ops.py\u001b[0m in \u001b[0;36mzeros\u001b[1;34m(shape, dtype, name)\u001b[0m\n\u001b[0;32m   2792\u001b[0m           \u001b[1;31m# Create a constant if it won't be very big. Otherwise create a fill\u001b[0m\u001b[1;33m\u001b[0m\u001b[1;33m\u001b[0m\u001b[1;33m\u001b[0m\u001b[0m\n\u001b[0;32m   2793\u001b[0m           \u001b[1;31m# op to prevent serialized GraphDefs from becoming too large.\u001b[0m\u001b[1;33m\u001b[0m\u001b[1;33m\u001b[0m\u001b[1;33m\u001b[0m\u001b[0m\n\u001b[1;32m-> 2794\u001b[1;33m           \u001b[0moutput\u001b[0m \u001b[1;33m=\u001b[0m \u001b[0m_constant_if_small\u001b[0m\u001b[1;33m(\u001b[0m\u001b[0mzero\u001b[0m\u001b[1;33m,\u001b[0m \u001b[0mshape\u001b[0m\u001b[1;33m,\u001b[0m \u001b[0mdtype\u001b[0m\u001b[1;33m,\u001b[0m \u001b[0mname\u001b[0m\u001b[1;33m)\u001b[0m\u001b[1;33m\u001b[0m\u001b[1;33m\u001b[0m\u001b[0m\n\u001b[0m\u001b[0;32m   2795\u001b[0m           \u001b[1;32mif\u001b[0m \u001b[0moutput\u001b[0m \u001b[1;32mis\u001b[0m \u001b[1;32mnot\u001b[0m \u001b[1;32mNone\u001b[0m\u001b[1;33m:\u001b[0m\u001b[1;33m\u001b[0m\u001b[1;33m\u001b[0m\u001b[0m\n\u001b[0;32m   2796\u001b[0m             \u001b[1;32mreturn\u001b[0m \u001b[0moutput\u001b[0m\u001b[1;33m\u001b[0m\u001b[1;33m\u001b[0m\u001b[0m\n",
      "\u001b[1;32m~\\anaconda3\\lib\\site-packages\\tensorflow\\python\\ops\\array_ops.py\u001b[0m in \u001b[0;36m_constant_if_small\u001b[1;34m(value, shape, dtype, name)\u001b[0m\n\u001b[0;32m   2730\u001b[0m \u001b[1;32mdef\u001b[0m \u001b[0m_constant_if_small\u001b[0m\u001b[1;33m(\u001b[0m\u001b[0mvalue\u001b[0m\u001b[1;33m,\u001b[0m \u001b[0mshape\u001b[0m\u001b[1;33m,\u001b[0m \u001b[0mdtype\u001b[0m\u001b[1;33m,\u001b[0m \u001b[0mname\u001b[0m\u001b[1;33m)\u001b[0m\u001b[1;33m:\u001b[0m\u001b[1;33m\u001b[0m\u001b[1;33m\u001b[0m\u001b[0m\n\u001b[0;32m   2731\u001b[0m   \u001b[1;32mtry\u001b[0m\u001b[1;33m:\u001b[0m\u001b[1;33m\u001b[0m\u001b[1;33m\u001b[0m\u001b[0m\n\u001b[1;32m-> 2732\u001b[1;33m     \u001b[1;32mif\u001b[0m \u001b[0mnp\u001b[0m\u001b[1;33m.\u001b[0m\u001b[0mprod\u001b[0m\u001b[1;33m(\u001b[0m\u001b[0mshape\u001b[0m\u001b[1;33m)\u001b[0m \u001b[1;33m<\u001b[0m \u001b[1;36m1000\u001b[0m\u001b[1;33m:\u001b[0m\u001b[1;33m\u001b[0m\u001b[1;33m\u001b[0m\u001b[0m\n\u001b[0m\u001b[0;32m   2733\u001b[0m       \u001b[1;32mreturn\u001b[0m \u001b[0mconstant\u001b[0m\u001b[1;33m(\u001b[0m\u001b[0mvalue\u001b[0m\u001b[1;33m,\u001b[0m \u001b[0mshape\u001b[0m\u001b[1;33m=\u001b[0m\u001b[0mshape\u001b[0m\u001b[1;33m,\u001b[0m \u001b[0mdtype\u001b[0m\u001b[1;33m=\u001b[0m\u001b[0mdtype\u001b[0m\u001b[1;33m,\u001b[0m \u001b[0mname\u001b[0m\u001b[1;33m=\u001b[0m\u001b[0mname\u001b[0m\u001b[1;33m)\u001b[0m\u001b[1;33m\u001b[0m\u001b[1;33m\u001b[0m\u001b[0m\n\u001b[0;32m   2734\u001b[0m   \u001b[1;32mexcept\u001b[0m \u001b[0mTypeError\u001b[0m\u001b[1;33m:\u001b[0m\u001b[1;33m\u001b[0m\u001b[1;33m\u001b[0m\u001b[0m\n",
      "\u001b[1;32m<__array_function__ internals>\u001b[0m in \u001b[0;36mprod\u001b[1;34m(*args, **kwargs)\u001b[0m\n",
      "\u001b[1;32m~\\anaconda3\\lib\\site-packages\\numpy\\core\\fromnumeric.py\u001b[0m in \u001b[0;36mprod\u001b[1;34m(a, axis, dtype, out, keepdims, initial, where)\u001b[0m\n\u001b[0;32m   3028\u001b[0m     \u001b[1;36m10\u001b[0m\u001b[1;33m\u001b[0m\u001b[1;33m\u001b[0m\u001b[0m\n\u001b[0;32m   3029\u001b[0m     \"\"\"\n\u001b[1;32m-> 3030\u001b[1;33m     return _wrapreduction(a, np.multiply, 'prod', axis, dtype, out,\n\u001b[0m\u001b[0;32m   3031\u001b[0m                           keepdims=keepdims, initial=initial, where=where)\n\u001b[0;32m   3032\u001b[0m \u001b[1;33m\u001b[0m\u001b[0m\n",
      "\u001b[1;32m~\\anaconda3\\lib\\site-packages\\numpy\\core\\fromnumeric.py\u001b[0m in \u001b[0;36m_wrapreduction\u001b[1;34m(obj, ufunc, method, axis, dtype, out, **kwargs)\u001b[0m\n\u001b[0;32m     85\u001b[0m                 \u001b[1;32mreturn\u001b[0m \u001b[0mreduction\u001b[0m\u001b[1;33m(\u001b[0m\u001b[0maxis\u001b[0m\u001b[1;33m=\u001b[0m\u001b[0maxis\u001b[0m\u001b[1;33m,\u001b[0m \u001b[0mout\u001b[0m\u001b[1;33m=\u001b[0m\u001b[0mout\u001b[0m\u001b[1;33m,\u001b[0m \u001b[1;33m**\u001b[0m\u001b[0mpasskwargs\u001b[0m\u001b[1;33m)\u001b[0m\u001b[1;33m\u001b[0m\u001b[1;33m\u001b[0m\u001b[0m\n\u001b[0;32m     86\u001b[0m \u001b[1;33m\u001b[0m\u001b[0m\n\u001b[1;32m---> 87\u001b[1;33m     \u001b[1;32mreturn\u001b[0m \u001b[0mufunc\u001b[0m\u001b[1;33m.\u001b[0m\u001b[0mreduce\u001b[0m\u001b[1;33m(\u001b[0m\u001b[0mobj\u001b[0m\u001b[1;33m,\u001b[0m \u001b[0maxis\u001b[0m\u001b[1;33m,\u001b[0m \u001b[0mdtype\u001b[0m\u001b[1;33m,\u001b[0m \u001b[0mout\u001b[0m\u001b[1;33m,\u001b[0m \u001b[1;33m**\u001b[0m\u001b[0mpasskwargs\u001b[0m\u001b[1;33m)\u001b[0m\u001b[1;33m\u001b[0m\u001b[1;33m\u001b[0m\u001b[0m\n\u001b[0m\u001b[0;32m     88\u001b[0m \u001b[1;33m\u001b[0m\u001b[0m\n\u001b[0;32m     89\u001b[0m \u001b[1;33m\u001b[0m\u001b[0m\n",
      "\u001b[1;32m~\\anaconda3\\lib\\site-packages\\tensorflow\\python\\framework\\ops.py\u001b[0m in \u001b[0;36m__array__\u001b[1;34m(self)\u001b[0m\n\u001b[0;32m    843\u001b[0m \u001b[1;33m\u001b[0m\u001b[0m\n\u001b[0;32m    844\u001b[0m   \u001b[1;32mdef\u001b[0m \u001b[0m__array__\u001b[0m\u001b[1;33m(\u001b[0m\u001b[0mself\u001b[0m\u001b[1;33m)\u001b[0m\u001b[1;33m:\u001b[0m\u001b[1;33m\u001b[0m\u001b[1;33m\u001b[0m\u001b[0m\n\u001b[1;32m--> 845\u001b[1;33m     raise NotImplementedError(\n\u001b[0m\u001b[0;32m    846\u001b[0m         \u001b[1;34m\"Cannot convert a symbolic Tensor ({}) to a numpy array.\"\u001b[0m\u001b[1;33m\u001b[0m\u001b[1;33m\u001b[0m\u001b[0m\n\u001b[0;32m    847\u001b[0m         \u001b[1;34m\" This error may indicate that you're trying to pass a Tensor to\"\u001b[0m\u001b[1;33m\u001b[0m\u001b[1;33m\u001b[0m\u001b[0m\n",
      "\u001b[1;31mNotImplementedError\u001b[0m: Cannot convert a symbolic Tensor (lstm/strided_slice:0) to a numpy array. This error may indicate that you're trying to pass a Tensor to a NumPy call, which is not supported"
     ]
    }
   ],
   "source": [
    "tf.keras.backend.clear_session()\n",
    "tf.random.set_seed(51)\n",
    "np.random.seed(51)\n",
    "#batch_size = 16\n",
    "dataset = windowed_dataset(x_train, window_size, batch_size, shuffle_buffer_size)\n",
    "\n",
    "model = tf.keras.models.Sequential([\n",
    "  tf.keras.layers.Conv1D(filters=32,\n",
    "                         kernel_size=3,\n",
    "                         strides=1,\n",
    "                         padding=\"causal\",\n",
    "                         activation=\"relu\",\n",
    "                         input_shape=[None, 1]),\n",
    "  tf.keras.layers.LSTM(32, return_sequences=True),\n",
    "  tf.keras.layers.LSTM(32, return_sequences=True),\n",
    "  tf.keras.layers.Dense(1),\n",
    "  tf.keras.layers.Lambda(lambda x: x * 200)\n",
    "])\n",
    "\n",
    "optimizer = tf.keras.optimizers.SGD(lr=1e-5, momentum=0.9)\n",
    "\n",
    "model.compile(loss=tf.keras.losses.Huber(),\n",
    "              optimizer=optimizer,\n",
    "              metrics=[\"mae\"])\n",
    "\n",
    "history = model.fit(dataset,epochs=500)"
   ]
  },
  {
   "cell_type": "code",
   "execution_count": 72,
   "metadata": {},
   "outputs": [],
   "source": [
    "rnn_forecast = model_forecast(model, series[..., np.newaxis], window_size)\n",
    "rnn_forecast = rnn_forecast[split_time - window_size:-1, -1, 0]"
   ]
  },
  {
   "cell_type": "markdown",
   "metadata": {},
   "source": [
    "Now of course **noise** is a factor and we can see crazy fluctuations in the peak caused by the noise, but I think our model could possibly do a bit better than this. Our MAE is below 5, but I would bet that outside of that first peak is probably a lot lower than that.\n",
    "\n",
    "- One solution might be to **train a little bit longer.** Even though our MAE loss curves look flat at 500 epochs, we can see when we zoom in that they're slowly diminishing. The network is still learning albeit slowly.\n",
    "- Now one method would be to **make your LASTMs bidirectional** like this. When training, this looks really good giving very low loss in MAE values sometimes even less than one. But unfortunately it's **overfitting** when we plot the predictions against the validation set, we don't see much improvement and in fact our MAE has gone down. So it's still a step in the right direction and consider an architecture like this one as you go forward, but perhaps **you might need to tweak some of the parameters to avoid overfitting.**"
   ]
  },
  {
   "cell_type": "code",
   "execution_count": 73,
   "metadata": {},
   "outputs": [
    {
     "data": {
      "image/png": "[encoded data removed]",
      "text/plain": [
       "<Figure size 360x216 with 1 Axes>"
      ]
     },
     "metadata": {
      "needs_background": "light"
     },
     "output_type": "display_data"
    }
   ],
   "source": [
    "plt.figure(figsize=(5, 3))\n",
    "plot_series(time_valid, x_valid)\n",
    "plot_series(time_valid, rnn_forecast)"
   ]
  },
  {
   "cell_type": "code",
   "execution_count": 74,
   "metadata": {},
   "outputs": [
    {
     "data": {
      "text/plain": [
       "5.0907764"
      ]
     },
     "execution_count": 74,
     "metadata": {},
     "output_type": "execute_result"
    }
   ],
   "source": [
    "tf.keras.metrics.mean_absolute_error(x_valid, rnn_forecast).numpy()"
   ]
  },
  {
   "cell_type": "markdown",
   "metadata": {},
   "source": [
    "Some of the problems are clearly visualize when we **plot the loss against the MAE,** there's a lot of noise and instability in there. **One common cause for small spikes** like that is a **small batch size** introducing further random noise.\n",
    "\n",
    "I won't go into the details here, but if you check out Andrea's videos and his course on optimizing for gradient descent, there's some really great stuff in there. One hint was to explore the batch size and to make sure it's appropriate for my data. So in this case it's worth experimenting with different batch sizes.\n",
    "\n",
    "More on batch sizing : https://www.youtube.com/watch?v=4qJaSmvhxi8"
   ]
  },
  {
   "cell_type": "code",
   "execution_count": 75,
   "metadata": {},
   "outputs": [
    {
     "data": {
      "text/plain": [
       "<Figure size 432x288 with 0 Axes>"
      ]
     },
     "execution_count": 75,
     "metadata": {},
     "output_type": "execute_result"
    },
    {
     "data": {
      "image/png": "[encoded data removed]",
      "text/plain": [
       "<Figure size 432x288 with 1 Axes>"
      ]
     },
     "metadata": {
      "needs_background": "light"
     },
     "output_type": "display_data"
    },
    {
     "data": {
      "image/png": "[encoded data removed]",
      "text/plain": [
       "<Figure size 432x288 with 1 Axes>"
      ]
     },
     "metadata": {
      "needs_background": "light"
     },
     "output_type": "display_data"
    },
    {
     "data": {
      "text/plain": [
       "<Figure size 432x288 with 0 Axes>"
      ]
     },
     "metadata": {},
     "output_type": "display_data"
    }
   ],
   "source": [
    "import matplotlib.image  as mpimg\n",
    "import matplotlib.pyplot as plt\n",
    "\n",
    "#-----------------------------------------------------------\n",
    "# Retrieve a list of list results on training and test data\n",
    "# sets for each training epoch\n",
    "#-----------------------------------------------------------\n",
    "mae=history.history['mae']\n",
    "loss=history.history['loss']\n",
    "\n",
    "epochs=range(len(loss)) # Get number of epochs\n",
    "\n",
    "#------------------------------------------------\n",
    "# Plot MAE and Loss\n",
    "#------------------------------------------------\n",
    "plt.plot(epochs, mae, 'r')\n",
    "plt.plot(epochs, loss, 'b')\n",
    "plt.title('MAE and Loss')\n",
    "plt.xlabel(\"Epochs\")\n",
    "plt.ylabel(\"Accuracy\")\n",
    "plt.legend([\"MAE\", \"Loss\"])\n",
    "\n",
    "plt.figure()\n",
    "\n",
    "epochs_zoom = epochs[200:]\n",
    "mae_zoom = mae[200:]\n",
    "loss_zoom = loss[200:]\n",
    "\n",
    "#------------------------------------------------\n",
    "# Plot Zoomed MAE and Loss\n",
    "#------------------------------------------------\n",
    "plt.plot(epochs_zoom, mae_zoom, 'r')\n",
    "plt.plot(epochs_zoom, loss_zoom, 'b')\n",
    "plt.title('MAE and Loss')\n",
    "plt.xlabel(\"Epochs\")\n",
    "plt.ylabel(\"Accuracy\")\n",
    "plt.legend([\"MAE\", \"Loss\"])\n",
    "\n",
    "plt.figure()"
   ]
  },
  {
   "cell_type": "markdown",
   "metadata": {},
   "source": [
    "# Sunspots data\n",
    "\n",
    "It's an average monthly amount that should be at the end of that month. You can download it from Kaggle. It's a pretty simple dataset, but it does help us understand a little bit more about how to optimize our code to predict the dataset based on the nature of its underlying data. Of course, one size does not fit all particularly when it comes to data that has seasonality. So let's take a look at the code.\n",
    "\n",
    "!wget --no-check-certificate \\\n",
    "    https://storage.googleapis.com/laurencemoroney-blog.appspot.com/Sunspots.csv \\\n",
    "    -O /tmp/sunspots.csv"
   ]
  },
  {
   "cell_type": "code",
   "execution_count": 127,
   "metadata": {},
   "outputs": [
    {
     "name": "stdout",
     "output_type": "stream",
     "text": [
      "2.2.0\n"
     ]
    }
   ],
   "source": [
    "import tensorflow as tf\n",
    "print(tf.__version__)"
   ]
  },
  {
   "cell_type": "code",
   "execution_count": 128,
   "metadata": {},
   "outputs": [],
   "source": [
    "import numpy as np\n",
    "import matplotlib.pyplot as plt\n",
    "def plot_series(time, series, format=\"-\", start=0, end=None):\n",
    "    plt.plot(time[start:end], series[start:end], format)\n",
    "    plt.xlabel(\"Time\")\n",
    "    plt.ylabel(\"Value\")\n",
    "    plt.grid(True)"
   ]
  },
  {
   "cell_type": "markdown",
   "metadata": {},
   "source": [
    "### Open CSV File\n",
    "\n",
    "Here's the code to read the CSV file and get its data into a list of sunspots and timestamps.\n",
    "\n",
    "- We'll start by importing the CSV library.\n",
    "- Then we'll open the file.\n",
    "- This line, **next(reader)**, simply reads **the first line** and we end up **throwing it away**. That's because **the column titles are in the first line of the file** as you can see here.\n",
    "- Then, we will look through the reader reading the file line by line. Our sunspots are actually in column 2 and we want them to be **converted into a float.** As the file is read, **every item will be read as a string** so we may as well convert them now instead of iterating through the list later and then converting all the datatypes. Similarly, we'll read **the time steps as integers.**"
   ]
  },
  {
   "cell_type": "code",
   "execution_count": 1,
   "metadata": {},
   "outputs": [],
   "source": [
    "import csv\n",
    "time_step = []\n",
    "sunspots = []\n",
    "\n",
    "with open('source/sunspots.csv') as csvfile:\n",
    "    reader = csv.reader(csvfile, delimiter=',')\n",
    "    next(reader)\n",
    "    for row in reader:\n",
    "        sunspots.append(float(row[2]))\n",
    "        time_step.append(int(row[0]))"
   ]
  },
  {
   "cell_type": "markdown",
   "metadata": {},
   "source": [
    "### Convert a list to NumPy arrays\n",
    "\n",
    "It's more efficient to do it this way,build-up your data in a throwaway list and then convert it to NumPy than I would have been to start with NumPy arrays, because every time you append an item to a NumPy, **there's a lot of memory management** going on to clone the list, maybe a lot of data that can get slow."
   ]
  },
  {
   "cell_type": "code",
   "execution_count": 2,
   "metadata": {},
   "outputs": [
    {
     "ename": "NameError",
     "evalue": "name 'np' is not defined",
     "output_type": "error",
     "traceback": [
      "\u001b[1;31m---------------------------------------------------------------------------\u001b[0m",
      "\u001b[1;31mNameError\u001b[0m                                 Traceback (most recent call last)",
      "\u001b[1;32m<ipython-input-2-5d2596e00e45>\u001b[0m in \u001b[0;36m<module>\u001b[1;34m\u001b[0m\n\u001b[1;32m----> 1\u001b[1;33m \u001b[0mseries\u001b[0m \u001b[1;33m=\u001b[0m \u001b[0mnp\u001b[0m\u001b[1;33m.\u001b[0m\u001b[0marray\u001b[0m\u001b[1;33m(\u001b[0m\u001b[0msunspots\u001b[0m\u001b[1;33m)\u001b[0m\u001b[1;33m\u001b[0m\u001b[1;33m\u001b[0m\u001b[0m\n\u001b[0m\u001b[0;32m      2\u001b[0m \u001b[0mtime\u001b[0m \u001b[1;33m=\u001b[0m \u001b[0mnp\u001b[0m\u001b[1;33m.\u001b[0m\u001b[0marray\u001b[0m\u001b[1;33m(\u001b[0m\u001b[0mtime_step\u001b[0m\u001b[1;33m)\u001b[0m\u001b[1;33m\u001b[0m\u001b[1;33m\u001b[0m\u001b[0m\n",
      "\u001b[1;31mNameError\u001b[0m: name 'np' is not defined"
     ]
    }
   ],
   "source": [
    "series = np.array(sunspots)\n",
    "time = np.array(time_step)"
   ]
  },
  {
   "cell_type": "markdown",
   "metadata": {},
   "source": [
    "### Plot the data\n",
    "\n",
    "Note that we have **seasonality,** but it's not very regular with some peaks and much higher than others. We also have quite **a bit of noise,** but there's **no general trend.**"
   ]
  },
  {
   "cell_type": "code",
   "execution_count": 131,
   "metadata": {},
   "outputs": [
    {
     "data": {
      "image/png": "[encoded data removed]",
      "text/plain": [
       "<Figure size 360x216 with 1 Axes>"
      ]
     },
     "metadata": {
      "needs_background": "light"
     },
     "output_type": "display_data"
    }
   ],
   "source": [
    "plt.figure(figsize=(5, 3))\n",
    "plot_series(time, series)"
   ]
  },
  {
   "cell_type": "markdown",
   "metadata": {},
   "source": [
    "### Split our Series into a Training and Validation datasets\n",
    "\n",
    "We'll split at time 1,000. We'll have a window size of 20, batch size of 32, and a shuffled buffer of 1,000. We'll use the same window dataset code that we've been using all week to turn a series into a dataset which we can train on."
   ]
  },
  {
   "cell_type": "code",
   "execution_count": 132,
   "metadata": {},
   "outputs": [],
   "source": [
    "split_time = 1000\n",
    "time_train = time[:split_time]\n",
    "x_train = series[:split_time]\n",
    "time_valid = time[split_time:]\n",
    "x_valid = series[split_time:]\n",
    "\n",
    "window_size = 20\n",
    "batch_size = 32\n",
    "shuffle_buffer_size = 1000"
   ]
  },
  {
   "cell_type": "code",
   "execution_count": 133,
   "metadata": {},
   "outputs": [],
   "source": [
    "def windowed_dataset(series, window_size, batch_size, shuffle_buffer):\n",
    "    ds = tf.data.Dataset.from_tensor_slices(series)\n",
    "    ds = ds.window(window_size + 1, shift=1, drop_remainder=True)\n",
    "    ds = ds.flat_map(lambda w: w.batch(window_size + 1))\n",
    "    ds = ds.shuffle(shuffle_buffer).map(lambda w: (w[:-1], w[-1]))\n",
    "    ds = ds.batch(batch_size).prefetch(1)\n",
    "    return ds"
   ]
  },
  {
   "cell_type": "markdown",
   "metadata": {},
   "source": [
    "We'll go back to the simple DNN that we saw way back in week two for training on and we'll see what happens."
   ]
  },
  {
   "cell_type": "code",
   "execution_count": 134,
   "metadata": {},
   "outputs": [
    {
     "data": {
      "text/plain": [
       "<tensorflow.python.keras.callbacks.History at 0x1ee3b16fa20>"
      ]
     },
     "execution_count": 134,
     "metadata": {},
     "output_type": "execute_result"
    }
   ],
   "source": [
    "ds = windowed_dataset(x_train, window_size, batch_size, shuffle_buffer_size)\n",
    "\n",
    "model = tf.keras.models.Sequential([\n",
    "    tf.keras.layers.Dense(10, input_shape=[window_size], activation=\"relu\"),\n",
    "    tf.keras.layers.Dense(10, activation=\"relu\"),\n",
    "    tf.keras.layers.Dense(1)\n",
    "])\n",
    "\n",
    "model.compile(loss=\"mse\", optimizer=tf.keras.optimizers.SGD(lr=1e-6, momentum=0.9))\n",
    "model.fit(ds, epochs=100, verbose=0)"
   ]
  },
  {
   "cell_type": "code",
   "execution_count": 135,
   "metadata": {},
   "outputs": [],
   "source": [
    "forecast=[]\n",
    "for time in range(len(series) - window_size):\n",
    "    # np.newaxis : expand the dimmension\n",
    "    forecast.append(model.predict(series[time:time + window_size][np.newaxis]))\n",
    "\n",
    "forecast = forecast[split_time-window_size:]\n",
    "results = np.array(forecast)[:, 0, 0]"
   ]
  },
  {
   "cell_type": "markdown",
   "metadata": {},
   "source": [
    "We get a chart like this, which at least to the eyeball looks really good, but it has a very large MAE so something must be wrong. Indeed, if we zoom into the results we can see in a little bit more detail about how the forecast behaves in the original data."
   ]
  },
  {
   "cell_type": "code",
   "execution_count": 136,
   "metadata": {},
   "outputs": [
    {
     "data": {
      "image/png": "[encoded data removed]",
      "text/plain": [
       "<Figure size 360x216 with 1 Axes>"
      ]
     },
     "metadata": {
      "needs_background": "light"
     },
     "output_type": "display_data"
    }
   ],
   "source": [
    "plt.figure(figsize=(5, 3))\n",
    "plot_series(time_valid, x_valid)\n",
    "plot_series(time_valid, results)"
   ]
  },
  {
   "cell_type": "code",
   "execution_count": 137,
   "metadata": {},
   "outputs": [
    {
     "data": {
      "text/plain": [
       "19.089603"
      ]
     },
     "execution_count": 137,
     "metadata": {},
     "output_type": "execute_result"
    }
   ],
   "source": [
    "tf.keras.metrics.mean_absolute_error(x_valid, results).numpy()"
   ]
  },
  {
   "cell_type": "markdown",
   "metadata": {},
   "source": [
    "### Increase the Window Size to 132\n",
    "\n",
    "Our clue to the problem could be our **window size.**\n",
    "\n",
    "Remember earlier we said it's a 20 so our training window sizes are 20 time slices worth of data. And given that each time slice is a month in real time our window is a little under two years.\n",
    "\n",
    "But if you remember this chart, we can see that the **seasonality of sunspots is far greater than two years.** It's closer to 11 years. And actually some science tells us that it might even be 22 years with different cycles interleaguing with each other. So what would happen if we **retrain with a window size of 132,** which is 11 years worth of data as our window size."
   ]
  },
  {
   "cell_type": "code",
   "execution_count": 141,
   "metadata": {},
   "outputs": [],
   "source": [
    "window_size = 132\n",
    "batch_size = 32\n",
    "shuffle_buffer_size = 1000"
   ]
  },
  {
   "cell_type": "code",
   "execution_count": 142,
   "metadata": {},
   "outputs": [
    {
     "data": {
      "text/plain": [
       "<tensorflow.python.keras.callbacks.History at 0x1ee32b0f550>"
      ]
     },
     "execution_count": 142,
     "metadata": {},
     "output_type": "execute_result"
    }
   ],
   "source": [
    "ds = windowed_dataset(x_train, window_size, batch_size, shuffle_buffer_size)\n",
    "\n",
    "model = tf.keras.models.Sequential([\n",
    "    tf.keras.layers.Dense(10, input_shape=[window_size], activation=\"relu\"),\n",
    "    tf.keras.layers.Dense(10, activation=\"relu\"),\n",
    "    tf.keras.layers.Dense(1)\n",
    "])\n",
    "\n",
    "model.compile(loss=\"mse\", optimizer=tf.keras.optimizers.SGD(lr=1e-6, momentum=0.9))\n",
    "model.fit(ds, epochs=100, verbose=0)"
   ]
  },
  {
   "cell_type": "code",
   "execution_count": 143,
   "metadata": {},
   "outputs": [],
   "source": [
    "forecast=[]\n",
    "for time in range(len(series) - window_size):\n",
    "    # np.newaxis : expand the dimmension\n",
    "    forecast.append(model.predict(series[time:time + window_size][np.newaxis]))\n",
    "\n",
    "forecast = forecast[split_time-window_size:]\n",
    "results = np.array(forecast)[:, 0, 0]"
   ]
  },
  {
   "cell_type": "markdown",
   "metadata": {},
   "source": [
    "We can see from the **MAE that it actually got worse** so increasing the window size didn't work. Why do you think that would be? Well, by looking back to the data, we can realize that it is seasonal to about 11 years, but we don't need a full season in our window. Zooming in on the data again, we'll see something like this, where it's just the typical time series. Values later on are somewhat related to earlier ones, but that's **a lot of noise.** So maybe we don't need a huge window of time in order to train. Maybe we should go with something a little bit more like our initial 20, **let's try 30.**"
   ]
  },
  {
   "cell_type": "code",
   "execution_count": 144,
   "metadata": {},
   "outputs": [
    {
     "data": {
      "text/plain": [
       "21.68596"
      ]
     },
     "execution_count": 144,
     "metadata": {},
     "output_type": "execute_result"
    }
   ],
   "source": [
    "tf.keras.metrics.mean_absolute_error(x_valid, results).numpy()"
   ]
  },
  {
   "cell_type": "markdown",
   "metadata": {},
   "source": [
    "### Increase the Window Size to 30 and Adjust the Training data\n",
    "\n",
    "So if we look back at this code, we can change our window size to 30.\n",
    "\n",
    "But then look at the **split time, the data set has around 3,265 items of data,** but we're splitting it into training and validation. Now 1,000, which means **only 1,000 for training and 2,265 for validation. There's not enough training data.** So let's **make it 3,000 instead.**"
   ]
  },
  {
   "cell_type": "code",
   "execution_count": 146,
   "metadata": {},
   "outputs": [],
   "source": [
    "import csv\n",
    "time_step = []\n",
    "sunspots = []\n",
    "\n",
    "with open('source/sunspots.csv') as csvfile:\n",
    "    reader = csv.reader(csvfile, delimiter=',')\n",
    "    next(reader)\n",
    "    for row in reader:\n",
    "        sunspots.append(float(row[2]))\n",
    "        time_step.append(int(row[0]))"
   ]
  },
  {
   "cell_type": "code",
   "execution_count": 147,
   "metadata": {},
   "outputs": [
    {
     "data": {
      "text/plain": [
       "(3265,)"
      ]
     },
     "execution_count": 147,
     "metadata": {},
     "output_type": "execute_result"
    }
   ],
   "source": [
    "series = np.array(sunspots)\n",
    "time = np.array(time_step)\n",
    "time.shape"
   ]
  },
  {
   "cell_type": "code",
   "execution_count": 148,
   "metadata": {},
   "outputs": [],
   "source": [
    "def windowed_dataset(series, window_size, batch_size, shuffle_buffer):\n",
    "    ds = tf.data.Dataset.from_tensor_slices(series)\n",
    "    ds = ds.window(window_size + 1, shift=1, drop_remainder=True)\n",
    "    ds = ds.flat_map(lambda w: w.batch(window_size + 1))\n",
    "    ds = ds.shuffle(shuffle_buffer).map(lambda w: (w[:-1], w[-1]))\n",
    "    ds = ds.batch(batch_size).prefetch(1)\n",
    "    return ds"
   ]
  },
  {
   "cell_type": "code",
   "execution_count": 149,
   "metadata": {},
   "outputs": [
    {
     "data": {
      "text/plain": [
       "<tensorflow.python.keras.callbacks.History at 0x1ee3b2da908>"
      ]
     },
     "execution_count": 149,
     "metadata": {},
     "output_type": "execute_result"
    }
   ],
   "source": [
    "split_time = 3000\n",
    "time_train = time[:split_time]\n",
    "x_train = series[:split_time]\n",
    "time_valid = time[split_time:]\n",
    "x_valid = series[split_time:]\n",
    "\n",
    "window_size = 30\n",
    "batch_size = 32\n",
    "shuffle_buffer_size = 1000\n",
    "\n",
    "ds = windowed_dataset(x_train, window_size, batch_size, shuffle_buffer_size)\n",
    "\n",
    "model = tf.keras.models.Sequential([\n",
    "    tf.keras.layers.Dense(10, input_shape=[window_size], activation=\"relu\"),\n",
    "    tf.keras.layers.Dense(10, activation=\"relu\"),\n",
    "    tf.keras.layers.Dense(1)\n",
    "])\n",
    "\n",
    "model.compile(loss=\"mse\", optimizer=tf.keras.optimizers.SGD(lr=1e-6, momentum=0.9))\n",
    "model.fit(ds, epochs=100, verbose=0)"
   ]
  },
  {
   "cell_type": "code",
   "execution_count": 150,
   "metadata": {},
   "outputs": [],
   "source": [
    "forecast=[]\n",
    "for time in range(len(series) - window_size):\n",
    "    # np.newaxis : expand the dimmension\n",
    "    forecast.append(model.predict(series[time:time + window_size][np.newaxis]))\n",
    "\n",
    "forecast = forecast[split_time-window_size:]\n",
    "results = np.array(forecast)[:, 0, 0]"
   ]
  },
  {
   "cell_type": "code",
   "execution_count": 151,
   "metadata": {},
   "outputs": [
    {
     "data": {
      "text/plain": [
       "13.345508"
      ]
     },
     "execution_count": 151,
     "metadata": {},
     "output_type": "execute_result"
    }
   ],
   "source": [
    "tf.keras.metrics.mean_absolute_error(x_valid, results).numpy()"
   ]
  },
  {
   "cell_type": "code",
   "execution_count": 152,
   "metadata": {},
   "outputs": [
    {
     "data": {
      "text/plain": [
       "array([[5.0099993]], dtype=float32)"
      ]
     },
     "execution_count": 152,
     "metadata": {},
     "output_type": "execute_result"
    }
   ],
   "source": [
    "model.predict(series[3205:3235][np.newaxis])"
   ]
  },
  {
   "cell_type": "markdown",
   "metadata": {},
   "source": [
    "Our MAE has improved to 13 but can we make it even better?\n",
    "\n",
    "### Edit the Neural Network\n",
    "\n",
    "Well, one thing we can try is to **edit the neural network design and height of parameters.** If you remember, we had three layers of 10, 10, and 1 neurons. Our input shape is now larger at 30. So maybe try different values here, like 30, 15, and 1, and retrain. Surprisingly, this was a small step backwards, with our MAE increasing."
   ]
  },
  {
   "cell_type": "code",
   "execution_count": 153,
   "metadata": {},
   "outputs": [
    {
     "data": {
      "text/plain": [
       "13.6724415"
      ]
     },
     "execution_count": 153,
     "metadata": {},
     "output_type": "execute_result"
    }
   ],
   "source": [
    "ds = windowed_dataset(x_train, window_size, batch_size, shuffle_buffer_size)\n",
    "\n",
    "model = tf.keras.models.Sequential([\n",
    "    tf.keras.layers.Dense(30, input_shape=[window_size], activation=\"relu\"),\n",
    "    tf.keras.layers.Dense(15, activation=\"relu\"),\n",
    "    tf.keras.layers.Dense(1)\n",
    "])\n",
    "\n",
    "model.compile(loss=\"mse\", optimizer=tf.keras.optimizers.SGD(lr=1e-6, momentum=0.9))\n",
    "model.fit(ds, epochs=100, verbose=0)\n",
    "\n",
    "forecast=[]\n",
    "for time in range(len(series) - window_size):\n",
    "    # np.newaxis : expand the dimmension\n",
    "    forecast.append(model.predict(series[time:time + window_size][np.newaxis]))\n",
    "\n",
    "forecast = forecast[split_time-window_size:]\n",
    "results = np.array(forecast)[:, 0, 0]\n",
    "\n",
    "tf.keras.metrics.mean_absolute_error(x_valid, results).numpy()"
   ]
  },
  {
   "cell_type": "code",
   "execution_count": 154,
   "metadata": {},
   "outputs": [
    {
     "data": {
      "text/plain": [
       "array([[5.055888]], dtype=float32)"
      ]
     },
     "execution_count": 154,
     "metadata": {},
     "output_type": "execute_result"
    }
   ],
   "source": [
    "model.predict(series[3205:3235][np.newaxis])"
   ]
  },
  {
   "cell_type": "markdown",
   "metadata": {},
   "source": [
    "It also wasn't worth the extra compute time for the extra neuron layers. So let's switch back to 10, 10, 1 and instead look at the learning rate. Now after retraining, I can see my MAE has decreased a bit which is good.\n",
    "\n",
    "With these settings, I got the **MAE down to 13.75,** and **the prediction was 8.13,** which is much closer to the actual real reading of 8.7. There is a random elements in creating models, however, so your results may vary. Doing accuracy based on a single prediction like this is also a recipe for disappointment, and you're much better off evaluating mean accuracy over a number of readings.\n",
    "\n",
    "So here, we looked at using a DNN to predict sunspot values. With a little bit of tuning, we reduced our MAE a bit. And when we tried to predict the next month's value using this model, we got quite close to the actual value."
   ]
  },
  {
   "cell_type": "markdown",
   "metadata": {},
   "source": [
    "# Combining our tools for analysis\n",
    "\n",
    "Let's take a look at using all the tools we have to see if we can build a decent prediction using machine learning."
   ]
  },
  {
   "cell_type": "code",
   "execution_count": 155,
   "metadata": {},
   "outputs": [
    {
     "data": {
      "image/png": "[encoded data removed]",
      "text/plain": [
       "<Figure size 360x216 with 1 Axes>"
      ]
     },
     "metadata": {
      "needs_background": "light"
     },
     "output_type": "display_data"
    }
   ],
   "source": [
    "import csv\n",
    "time_step = []\n",
    "sunspots = []\n",
    "\n",
    "with open('source/sunspots.csv') as csvfile:\n",
    "    reader = csv.reader(csvfile, delimiter=',')\n",
    "    next(reader)\n",
    "    for row in reader:\n",
    "        sunspots.append(float(row[2]))\n",
    "        time_step.append(int(row[0]))\n",
    "\n",
    "series = np.array(sunspots)\n",
    "time = np.array(time_step)\n",
    "plt.figure(figsize=(5, 3))\n",
    "plot_series(time, series)"
   ]
  },
  {
   "cell_type": "code",
   "execution_count": 156,
   "metadata": {},
   "outputs": [],
   "source": [
    "split_time = 3000\n",
    "time_train = time[:split_time]\n",
    "x_train = series[:split_time]\n",
    "time_valid = time[split_time:]\n",
    "x_valid = series[split_time:]"
   ]
  },
  {
   "cell_type": "code",
   "execution_count": 157,
   "metadata": {},
   "outputs": [],
   "source": [
    "def windowed_dataset(series, window_size, batch_size, shuffle_buffer):\n",
    "    series = tf.expand_dims(series, axis=-1)\n",
    "    ds = tf.data.Dataset.from_tensor_slices(series)\n",
    "    ds = ds.window(window_size + 1, shift=1, drop_remainder=True)\n",
    "    ds = ds.flat_map(lambda w: w.batch(window_size + 1))\n",
    "    ds = ds.shuffle(shuffle_buffer)\n",
    "    ds = ds.map(lambda w: (w[:-1], w[1:]))\n",
    "    return ds.batch(batch_size).prefetch(1)"
   ]
  },
  {
   "cell_type": "code",
   "execution_count": 158,
   "metadata": {},
   "outputs": [],
   "source": [
    "def model_forecast(model, series, window_size):\n",
    "    ds = tf.data.Dataset.from_tensor_slices(series)\n",
    "    ds = ds.window(window_size, shift=1, drop_remainder=True)\n",
    "    ds = ds.flat_map(lambda w: w.batch(window_size))\n",
    "    ds = ds.batch(32).prefetch(1)\n",
    "    forecast = model.predict(ds)\n",
    "    return forecast"
   ]
  },
  {
   "cell_type": "markdown",
   "metadata": {},
   "source": [
    "We'll start with a 1D convolution that we'll learn 32 filters."
   ]
  },
  {
   "cell_type": "code",
   "execution_count": 159,
   "metadata": {},
   "outputs": [
    {
     "name": "stdout",
     "output_type": "stream",
     "text": [
      "Epoch 1/100\n",
      "46/46 [==============================] - 2s 37ms/step - loss: 123.8350 - mae: 124.3340 - lr: 1.0000e-08\n",
      "Epoch 2/100\n",
      "46/46 [==============================] - 2s 37ms/step - loss: 117.4797 - mae: 117.9788 - lr: 1.1220e-08\n",
      "Epoch 3/100\n",
      "46/46 [==============================] - 2s 37ms/step - loss: 107.2917 - mae: 107.7900 - lr: 1.2589e-08\n",
      "Epoch 4/100\n",
      "46/46 [==============================] - 2s 37ms/step - loss: 99.1682 - mae: 99.6665 - lr: 1.4125e-08\n",
      "Epoch 5/100\n",
      "46/46 [==============================] - 2s 37ms/step - loss: 93.2069 - mae: 93.7048 - lr: 1.5849e-08\n",
      "Epoch 6/100\n",
      "46/46 [==============================] - 2s 36ms/step - loss: 87.6769 - mae: 88.1744 - lr: 1.7783e-08\n",
      "Epoch 7/100\n",
      "46/46 [==============================] - 2s 40ms/step - loss: 82.0391 - mae: 82.5363 - lr: 1.9953e-08\n",
      "Epoch 8/100\n",
      "46/46 [==============================] - 2s 37ms/step - loss: 75.8562 - mae: 76.3536 - lr: 2.2387e-08\n",
      "Epoch 9/100\n",
      "46/46 [==============================] - 2s 36ms/step - loss: 68.1630 - mae: 68.6608 - lr: 2.5119e-08\n",
      "Epoch 10/100\n",
      "46/46 [==============================] - 2s 36ms/step - loss: 62.1549 - mae: 62.6523 - lr: 2.8184e-08\n",
      "Epoch 11/100\n",
      "46/46 [==============================] - 2s 36ms/step - loss: 59.1014 - mae: 59.5992 - lr: 3.1623e-08\n",
      "Epoch 12/100\n",
      "46/46 [==============================] - 2s 38ms/step - loss: 56.7741 - mae: 57.2717 - lr: 3.5481e-08\n",
      "Epoch 13/100\n",
      "46/46 [==============================] - 2s 38ms/step - loss: 54.6992 - mae: 55.1969 - lr: 3.9811e-08\n",
      "Epoch 14/100\n",
      "46/46 [==============================] - 2s 35ms/step - loss: 52.8006 - mae: 53.2983 - lr: 4.4668e-08\n",
      "Epoch 15/100\n",
      "46/46 [==============================] - 2s 38ms/step - loss: 51.1687 - mae: 51.6665 - lr: 5.0119e-08\n",
      "Epoch 16/100\n",
      "46/46 [==============================] - 2s 38ms/step - loss: 49.7640 - mae: 50.2616 - lr: 5.6234e-08\n",
      "Epoch 17/100\n",
      "46/46 [==============================] - 2s 38ms/step - loss: 48.4800 - mae: 48.9772 - lr: 6.3096e-08\n",
      "Epoch 18/100\n",
      "46/46 [==============================] - 2s 40ms/step - loss: 47.2260 - mae: 47.7233 - lr: 7.0795e-08\n",
      "Epoch 19/100\n",
      "46/46 [==============================] - 2s 36ms/step - loss: 46.0169 - mae: 46.5142 - lr: 7.9433e-08\n",
      "Epoch 20/100\n",
      "46/46 [==============================] - 2s 38ms/step - loss: 44.8975 - mae: 45.3946 - lr: 8.9125e-08\n",
      "Epoch 21/100\n",
      "46/46 [==============================] - 2s 39ms/step - loss: 43.9009 - mae: 44.3981 - lr: 1.0000e-07\n",
      "Epoch 22/100\n",
      "46/46 [==============================] - 2s 36ms/step - loss: 42.9463 - mae: 43.4435 - lr: 1.1220e-07\n",
      "Epoch 23/100\n",
      "46/46 [==============================] - 2s 39ms/step - loss: 41.9686 - mae: 42.4658 - lr: 1.2589e-07\n",
      "Epoch 24/100\n",
      "46/46 [==============================] - 2s 38ms/step - loss: 40.9433 - mae: 41.4403 - lr: 1.4125e-07\n",
      "Epoch 25/100\n",
      "46/46 [==============================] - 2s 39ms/step - loss: 39.8520 - mae: 40.3490 - lr: 1.5849e-07\n",
      "Epoch 26/100\n",
      "46/46 [==============================] - 2s 39ms/step - loss: 38.6739 - mae: 39.1708 - lr: 1.7783e-07\n",
      "Epoch 27/100\n",
      "46/46 [==============================] - 2s 36ms/step - loss: 37.3147 - mae: 37.8111 - lr: 1.9953e-07\n",
      "Epoch 28/100\n",
      "46/46 [==============================] - 2s 37ms/step - loss: 35.8997 - mae: 36.3959 - lr: 2.2387e-07\n",
      "Epoch 29/100\n",
      "46/46 [==============================] - 2s 39ms/step - loss: 34.1806 - mae: 34.6765 - lr: 2.5119e-07\n",
      "Epoch 30/100\n",
      "46/46 [==============================] - 2s 37ms/step - loss: 32.3067 - mae: 32.8019 - lr: 2.8184e-07\n",
      "Epoch 31/100\n",
      "46/46 [==============================] - 2s 37ms/step - loss: 30.8382 - mae: 31.3332 - lr: 3.1623e-07\n",
      "Epoch 32/100\n",
      "46/46 [==============================] - 2s 37ms/step - loss: 29.9009 - mae: 30.3958 - lr: 3.5481e-07\n",
      "Epoch 33/100\n",
      "46/46 [==============================] - 2s 39ms/step - loss: 29.2347 - mae: 29.7297 - lr: 3.9811e-07\n",
      "Epoch 34/100\n",
      "46/46 [==============================] - 2s 40ms/step - loss: 28.7862 - mae: 29.2811 - lr: 4.4668e-07\n",
      "Epoch 35/100\n",
      "46/46 [==============================] - 2s 39ms/step - loss: 28.1729 - mae: 28.6676 - lr: 5.0119e-07\n",
      "Epoch 36/100\n",
      "46/46 [==============================] - 2s 37ms/step - loss: 27.7310 - mae: 28.2260 - lr: 5.6234e-07\n",
      "Epoch 37/100\n",
      "46/46 [==============================] - 2s 36ms/step - loss: 27.3587 - mae: 27.8535 - lr: 6.3096e-07\n",
      "Epoch 38/100\n",
      "46/46 [==============================] - 2s 38ms/step - loss: 26.9112 - mae: 27.4060 - lr: 7.0795e-07\n",
      "Epoch 39/100\n",
      "46/46 [==============================] - 2s 40ms/step - loss: 26.3046 - mae: 26.7995 - lr: 7.9433e-07\n",
      "Epoch 40/100\n",
      "46/46 [==============================] - 2s 38ms/step - loss: 26.1395 - mae: 26.6341 - lr: 8.9125e-07\n",
      "Epoch 41/100\n",
      "46/46 [==============================] - 2s 39ms/step - loss: 25.8667 - mae: 26.3610 - lr: 1.0000e-06\n",
      "Epoch 42/100\n",
      "46/46 [==============================] - 2s 43ms/step - loss: 25.2848 - mae: 25.7793 - lr: 1.1220e-06\n",
      "Epoch 43/100\n",
      "46/46 [==============================] - 2s 39ms/step - loss: 25.2604 - mae: 25.7544 - lr: 1.2589e-06\n",
      "Epoch 44/100\n",
      "46/46 [==============================] - 2s 38ms/step - loss: 24.1450 - mae: 24.6389 - lr: 1.4125e-06\n",
      "Epoch 45/100\n",
      "46/46 [==============================] - 2s 41ms/step - loss: 23.6958 - mae: 24.1895 - lr: 1.5849e-06\n",
      "Epoch 46/100\n",
      "46/46 [==============================] - 2s 41ms/step - loss: 23.1539 - mae: 23.6477 - lr: 1.7783e-06\n",
      "Epoch 47/100\n",
      "46/46 [==============================] - 2s 43ms/step - loss: 22.4038 - mae: 22.8973 - lr: 1.9953e-06\n",
      "Epoch 48/100\n",
      "46/46 [==============================] - 2s 37ms/step - loss: 22.1033 - mae: 22.5968 - lr: 2.2387e-06\n",
      "Epoch 49/100\n",
      "46/46 [==============================] - 2s 39ms/step - loss: 21.9525 - mae: 22.4457 - lr: 2.5119e-06\n",
      "Epoch 50/100\n",
      "46/46 [==============================] - 2s 38ms/step - loss: 21.5698 - mae: 22.0629 - lr: 2.8184e-06\n",
      "Epoch 51/100\n",
      "46/46 [==============================] - 2s 37ms/step - loss: 21.7715 - mae: 22.2645 - lr: 3.1623e-06\n",
      "Epoch 52/100\n",
      "46/46 [==============================] - 2s 37ms/step - loss: 21.7566 - mae: 22.2499 - lr: 3.5481e-06\n",
      "Epoch 53/100\n",
      "46/46 [==============================] - 2s 37ms/step - loss: 21.0952 - mae: 21.5881 - lr: 3.9811e-06\n",
      "Epoch 54/100\n",
      "46/46 [==============================] - 2s 38ms/step - loss: 21.3318 - mae: 21.8247 - lr: 4.4668e-06\n",
      "Epoch 55/100\n",
      "46/46 [==============================] - 2s 42ms/step - loss: 20.8505 - mae: 21.3434 - lr: 5.0119e-06\n",
      "Epoch 56/100\n",
      "46/46 [==============================] - 2s 43ms/step - loss: 20.4905 - mae: 20.9830 - lr: 5.6234e-06\n",
      "Epoch 57/100\n",
      "46/46 [==============================] - 2s 43ms/step - loss: 20.6180 - mae: 21.1103 - lr: 6.3096e-06\n",
      "Epoch 58/100\n",
      "46/46 [==============================] - 2s 40ms/step - loss: 19.7746 - mae: 20.2668 - lr: 7.0795e-06\n",
      "Epoch 59/100\n",
      "46/46 [==============================] - 2s 38ms/step - loss: 19.8209 - mae: 20.3129 - lr: 7.9433e-06\n",
      "Epoch 60/100\n",
      "46/46 [==============================] - 2s 38ms/step - loss: 20.3118 - mae: 20.8040 - lr: 8.9125e-06\n",
      "Epoch 61/100\n",
      "46/46 [==============================] - 2s 38ms/step - loss: 19.6302 - mae: 20.1222 - lr: 1.0000e-05\n",
      "Epoch 62/100\n",
      "46/46 [==============================] - 2s 42ms/step - loss: 19.3170 - mae: 19.8089 - lr: 1.1220e-05\n",
      "Epoch 63/100\n",
      "46/46 [==============================] - 2s 42ms/step - loss: 19.3502 - mae: 19.8419 - lr: 1.2589e-05\n",
      "Epoch 64/100\n",
      "46/46 [==============================] - 2s 41ms/step - loss: 19.9577 - mae: 20.4495 - lr: 1.4125e-05\n",
      "Epoch 65/100\n",
      "46/46 [==============================] - 2s 41ms/step - loss: 18.8132 - mae: 19.3051 - lr: 1.5849e-05\n",
      "Epoch 66/100\n",
      "46/46 [==============================] - 2s 44ms/step - loss: 19.1830 - mae: 19.6746 - lr: 1.7783e-05\n",
      "Epoch 67/100\n",
      "46/46 [==============================] - 2s 36ms/step - loss: 18.8600 - mae: 19.3518 - lr: 1.9953e-05\n",
      "Epoch 68/100\n",
      "46/46 [==============================] - 2s 37ms/step - loss: 18.8589 - mae: 19.3505 - lr: 2.2387e-05\n",
      "Epoch 69/100\n",
      "46/46 [==============================] - 2s 37ms/step - loss: 18.9901 - mae: 19.4821 - lr: 2.5119e-05\n",
      "Epoch 70/100\n",
      "46/46 [==============================] - 2s 37ms/step - loss: 22.5749 - mae: 23.0681 - lr: 2.8184e-05\n",
      "Epoch 71/100\n",
      "46/46 [==============================] - 2s 39ms/step - loss: 20.9624 - mae: 21.4552 - lr: 3.1623e-05\n",
      "Epoch 72/100\n",
      "46/46 [==============================] - 2s 37ms/step - loss: 19.3152 - mae: 19.8074 - lr: 3.5481e-05\n",
      "Epoch 73/100\n",
      "46/46 [==============================] - 2s 40ms/step - loss: 18.3447 - mae: 18.8367 - lr: 3.9811e-05\n",
      "Epoch 74/100\n",
      "46/46 [==============================] - 2s 40ms/step - loss: 19.5330 - mae: 20.0252 - lr: 4.4668e-05\n",
      "Epoch 75/100\n",
      "46/46 [==============================] - 2s 38ms/step - loss: 22.5464 - mae: 23.0400 - lr: 5.0119e-05\n",
      "Epoch 76/100\n",
      "46/46 [==============================] - 2s 37ms/step - loss: 22.1519 - mae: 22.6450 - lr: 5.6234e-05\n",
      "Epoch 77/100\n",
      "46/46 [==============================] - 2s 37ms/step - loss: 21.2765 - mae: 21.7696 - lr: 6.3096e-05\n",
      "Epoch 78/100\n",
      "46/46 [==============================] - 2s 36ms/step - loss: 21.5436 - mae: 22.0371 - lr: 7.0795e-05\n",
      "Epoch 79/100\n",
      "46/46 [==============================] - 2s 37ms/step - loss: 20.0715 - mae: 20.5647 - lr: 7.9433e-05\n",
      "Epoch 80/100\n",
      "46/46 [==============================] - 2s 37ms/step - loss: 19.9299 - mae: 20.4225 - lr: 8.9125e-05\n",
      "Epoch 81/100\n",
      "46/46 [==============================] - 2s 39ms/step - loss: 20.3612 - mae: 20.8544 - lr: 1.0000e-04\n",
      "Epoch 82/100\n",
      "46/46 [==============================] - 2s 37ms/step - loss: 21.9032 - mae: 22.3968 - lr: 1.1220e-04\n",
      "Epoch 83/100\n",
      "46/46 [==============================] - 2s 47ms/step - loss: 23.3682 - mae: 23.8624 - lr: 1.2589e-04\n",
      "Epoch 84/100\n",
      "46/46 [==============================] - 2s 37ms/step - loss: 21.1184 - mae: 21.6118 - lr: 1.4125e-04\n",
      "Epoch 85/100\n",
      "46/46 [==============================] - 2s 38ms/step - loss: 20.3429 - mae: 20.8359 - lr: 1.5849e-04\n",
      "Epoch 86/100\n",
      "46/46 [==============================] - 2s 36ms/step - loss: 21.0268 - mae: 21.5202 - lr: 1.7783e-04\n",
      "Epoch 87/100\n",
      "46/46 [==============================] - 2s 38ms/step - loss: 22.4828 - mae: 22.9770 - lr: 1.9953e-04\n",
      "Epoch 88/100\n",
      "46/46 [==============================] - 2s 38ms/step - loss: 30.2630 - mae: 30.7585 - lr: 2.2387e-04\n",
      "Epoch 89/100\n",
      "46/46 [==============================] - 2s 38ms/step - loss: 27.9337 - mae: 28.4293 - lr: 2.5119e-04\n",
      "Epoch 90/100\n",
      "46/46 [==============================] - 2s 42ms/step - loss: 27.0712 - mae: 27.5667 - lr: 2.8184e-04\n",
      "Epoch 91/100\n",
      "46/46 [==============================] - 2s 42ms/step - loss: 35.7581 - mae: 36.2546 - lr: 3.1623e-04\n",
      "Epoch 92/100\n",
      "46/46 [==============================] - 2s 41ms/step - loss: 55.5344 - mae: 56.0325 - lr: 3.5481e-04\n",
      "Epoch 93/100\n",
      "46/46 [==============================] - 2s 35ms/step - loss: 54.2526 - mae: 54.7505 - lr: 3.9811e-04\n",
      "Epoch 94/100\n",
      "46/46 [==============================] - 2s 38ms/step - loss: 55.2584 - mae: 55.7566 - lr: 4.4668e-04\n",
      "Epoch 95/100\n",
      "46/46 [==============================] - 2s 43ms/step - loss: 61.0043 - mae: 61.5027 - lr: 5.0119e-04\n",
      "Epoch 96/100\n",
      "46/46 [==============================] - 2s 36ms/step - loss: 55.3328 - mae: 55.8309 - lr: 5.6234e-04\n",
      "Epoch 97/100\n",
      "46/46 [==============================] - 2s 36ms/step - loss: 57.0913 - mae: 57.5892 - lr: 6.3096e-04\n",
      "Epoch 98/100\n",
      "46/46 [==============================] - 2s 36ms/step - loss: 58.3451 - mae: 58.8435 - lr: 7.0795e-04\n",
      "Epoch 99/100\n",
      "46/46 [==============================] - 2s 37ms/step - loss: 56.9856 - mae: 57.4836 - lr: 7.9433e-04\n",
      "Epoch 100/100\n",
      "46/46 [==============================] - 2s 37ms/step - loss: 57.4915 - mae: 57.9895 - lr: 8.9125e-04\n"
     ]
    }
   ],
   "source": [
    "tf.keras.backend.clear_session()\n",
    "tf.random.set_seed(51)\n",
    "np.random.seed(51)\n",
    "\n",
    "window_size = 60\n",
    "batch_size = 64\n",
    "shuffle_buffer_size = 1000\n",
    "\n",
    "train_set = windowed_dataset(x_train, window_size, batch_size, shuffle_buffer_size)\n",
    "\n",
    "model = tf.keras.models.Sequential([\n",
    "  tf.keras.layers.Conv1D(filters=32,\n",
    "                         kernel_size=5,\n",
    "                         strides=1, padding=\"causal\",\n",
    "                         activation=\"relu\",\n",
    "                         input_shape=[None, 1]),\n",
    "  tf.keras.layers.LSTM(32, return_sequences=True),\n",
    "  tf.keras.layers.LSTM(32, return_sequences=True),\n",
    "  tf.keras.layers.Dense(30, activation=\"relu\"),\n",
    "  tf.keras.layers.Dense(10, activation=\"relu\"),\n",
    "  tf.keras.layers.Dense(1),\n",
    "  tf.keras.layers.Lambda(lambda x: x * 400)\n",
    "])\n",
    "\n",
    "lr_schedule = tf.keras.callbacks.LearningRateScheduler(lambda epoch: 1e-8 * 10**(epoch / 20))\n",
    "\n",
    "optimizer = tf.keras.optimizers.SGD(lr=1e-8, momentum=0.9)\n",
    "model.compile(loss=tf.keras.losses.Huber(),\n",
    "              optimizer=optimizer,\n",
    "              metrics=[\"mae\"])\n",
    "\n",
    "history = model.fit(train_set, epochs=100, callbacks=[lr_schedule])"
   ]
  },
  {
   "cell_type": "markdown",
   "metadata": {},
   "source": [
    "This will output to a couple of LSTMs with 64 cells each before feeding into a DNN similar to what we saw earlier, 30 neurons, then 10, and one. \n",
    "\n",
    "Finally, as **our numbers are in the 1-400 range,** there is a **Lambda** layer that multiplies out our X by 400.\n",
    "\n",
    "With the first test run to establish the best learning, rate we get this chart. This suggests **the best learning rate for this network will be around 10 to the minus 5.**"
   ]
  },
  {
   "cell_type": "code",
   "execution_count": 160,
   "metadata": {},
   "outputs": [
    {
     "data": {
      "text/plain": [
       "[1e-08, 0.0001, 0, 60]"
      ]
     },
     "execution_count": 160,
     "metadata": {},
     "output_type": "execute_result"
    },
    {
     "data": {
      "image/png": "[encoded data removed]",
      "text/plain": [
       "<Figure size 432x288 with 1 Axes>"
      ]
     },
     "metadata": {
      "needs_background": "light"
     },
     "output_type": "display_data"
    }
   ],
   "source": [
    "plt.semilogx(history.history[\"lr\"], history.history[\"loss\"])\n",
    "plt.axis([1e-8, 1e-4, 0, 60])"
   ]
  },
  {
   "cell_type": "markdown",
   "metadata": {},
   "source": [
    "So when I trained for **500 epochs** with this setup, here's my results. It's pretty good with a nice low MAE.\n",
    "\n",
    "But when I look at my **loss function** during training, I can see that there's a lot of noise which tells me that I can certainly optimize it a bit, and as we saw from earlier videos, one of the best things to look at in these circumstances is **the batch size. So I'll increase it to 256 and retrain.**"
   ]
  },
  {
   "cell_type": "code",
   "execution_count": 161,
   "metadata": {},
   "outputs": [
    {
     "name": "stdout",
     "output_type": "stream",
     "text": [
      "<PrefetchDataset shapes: ((None, None, 1), (None, None, 1)), types: (tf.float64, tf.float64)>\n",
      "(3000,)\n"
     ]
    }
   ],
   "source": [
    "tf.keras.backend.clear_session()\n",
    "tf.random.set_seed(51)\n",
    "np.random.seed(51)\n",
    "\n",
    "window_size = 64\n",
    "batch_size = 256\n",
    "shuffle_buffer_size = 1000\n",
    "\n",
    "train_set = windowed_dataset(x_train, window_size, batch_size, shuffle_buffer_size)\n",
    "print(train_set)\n",
    "print(x_train.shape)"
   ]
  },
  {
   "cell_type": "code",
   "execution_count": 162,
   "metadata": {},
   "outputs": [
    {
     "name": "stdout",
     "output_type": "stream",
     "text": [
      "Epoch 1/100\n",
      "12/12 [==============================] - 2s 190ms/step - loss: 79.8340 - mae: 80.3314 - lr: 1.0000e-08\n",
      "Epoch 2/100\n",
      "12/12 [==============================] - 2s 188ms/step - loss: 78.0944 - mae: 78.5918 - lr: 1.1220e-08\n",
      "Epoch 3/100\n",
      "12/12 [==============================] - 2s 192ms/step - loss: 75.4519 - mae: 75.9497 - lr: 1.2589e-08\n",
      "Epoch 4/100\n",
      "12/12 [==============================] - 2s 197ms/step - loss: 72.2679 - mae: 72.7658 - lr: 1.4125e-08\n",
      "Epoch 5/100\n",
      "12/12 [==============================] - 2s 196ms/step - loss: 68.7693 - mae: 69.2672 - lr: 1.5849e-08\n",
      "Epoch 6/100\n",
      "12/12 [==============================] - 2s 187ms/step - loss: 65.1128 - mae: 65.6099 - lr: 1.7783e-08\n",
      "Epoch 7/100\n",
      "12/12 [==============================] - 2s 204ms/step - loss: 61.5272 - mae: 62.0241 - lr: 1.9953e-08\n",
      "Epoch 8/100\n",
      "12/12 [==============================] - 2s 188ms/step - loss: 58.1406 - mae: 58.6369 - lr: 2.2387e-0871 - mae: 58.23\n",
      "Epoch 9/100\n",
      "12/12 [==============================] - 2s 189ms/step - loss: 55.0732 - mae: 55.5697 - lr: 2.5119e-08\n",
      "Epoch 10/100\n",
      "12/12 [==============================] - 2s 193ms/step - loss: 52.3436 - mae: 52.8399 - lr: 2.8184e-08\n",
      "Epoch 11/100\n",
      "12/12 [==============================] - 2s 188ms/step - loss: 49.9148 - mae: 50.4112 - lr: 3.1623e-08\n",
      "Epoch 12/100\n",
      "12/12 [==============================] - 2s 190ms/step - loss: 47.8592 - mae: 48.3560 - lr: 3.5481e-08\n",
      "Epoch 13/100\n",
      "12/12 [==============================] - 2s 190ms/step - loss: 46.0553 - mae: 46.5517 - lr: 3.9811e-08\n",
      "Epoch 14/100\n",
      "12/12 [==============================] - 2s 203ms/step - loss: 44.5444 - mae: 45.0406 - lr: 4.4668e-08\n",
      "Epoch 15/100\n",
      "12/12 [==============================] - 2s 195ms/step - loss: 43.3078 - mae: 43.8045 - lr: 5.0119e-08\n",
      "Epoch 16/100\n",
      "12/12 [==============================] - 2s 202ms/step - loss: 42.2855 - mae: 42.7826 - lr: 5.6234e-08\n",
      "Epoch 17/100\n",
      "12/12 [==============================] - 2s 198ms/step - loss: 41.3797 - mae: 41.8767 - lr: 6.3096e-08\n",
      "Epoch 18/100\n",
      "12/12 [==============================] - 2s 198ms/step - loss: 40.5481 - mae: 41.0453 - lr: 7.0795e-08\n",
      "Epoch 19/100\n",
      "12/12 [==============================] - 2s 186ms/step - loss: 39.7690 - mae: 40.2659 - lr: 7.9433e-08\n",
      "Epoch 20/100\n",
      "12/12 [==============================] - 2s 185ms/step - loss: 39.0213 - mae: 39.5181 - lr: 8.9125e-08\n",
      "Epoch 21/100\n",
      "12/12 [==============================] - 2s 189ms/step - loss: 38.2735 - mae: 38.7699 - lr: 1.0000e-07\n",
      "Epoch 22/100\n",
      "12/12 [==============================] - 2s 197ms/step - loss: 37.4213 - mae: 37.9177 - lr: 1.1220e-07\n",
      "Epoch 23/100\n",
      "12/12 [==============================] - 2s 182ms/step - loss: 36.3873 - mae: 36.8839 - lr: 1.2589e-07\n",
      "Epoch 24/100\n",
      "12/12 [==============================] - 2s 187ms/step - loss: 35.3029 - mae: 35.7992 - lr: 1.4125e-07\n",
      "Epoch 25/100\n",
      "12/12 [==============================] - 2s 186ms/step - loss: 34.0842 - mae: 34.5800 - lr: 1.5849e-07\n",
      "Epoch 26/100\n",
      "12/12 [==============================] - 2s 187ms/step - loss: 32.9492 - mae: 33.4449 - lr: 1.7783e-07\n",
      "Epoch 27/100\n",
      "12/12 [==============================] - 2s 181ms/step - loss: 31.8639 - mae: 32.3594 - lr: 1.9953e-07\n",
      "Epoch 28/100\n",
      "12/12 [==============================] - 2s 187ms/step - loss: 31.1223 - mae: 31.6179 - lr: 2.2387e-07\n",
      "Epoch 29/100\n",
      "12/12 [==============================] - 2s 189ms/step - loss: 30.3511 - mae: 30.8467 - lr: 2.5119e-07\n",
      "Epoch 30/100\n",
      "12/12 [==============================] - 2s 187ms/step - loss: 29.6233 - mae: 30.1186 - lr: 2.8184e-07\n",
      "Epoch 31/100\n",
      "12/12 [==============================] - 2s 189ms/step - loss: 29.0351 - mae: 29.5304 - lr: 3.1623e-07\n",
      "Epoch 32/100\n",
      "12/12 [==============================] - 2s 203ms/step - loss: 28.5834 - mae: 29.0787 - lr: 3.5481e-07\n",
      "Epoch 33/100\n",
      "12/12 [==============================] - 2s 193ms/step - loss: 28.1607 - mae: 28.6557 - lr: 3.9811e-07\n",
      "Epoch 34/100\n",
      "12/12 [==============================] - 2s 199ms/step - loss: 27.9685 - mae: 28.4632 - lr: 4.4668e-07\n",
      "Epoch 35/100\n",
      "12/12 [==============================] - 2s 197ms/step - loss: 27.7560 - mae: 28.2506 - lr: 5.0119e-07\n",
      "Epoch 36/100\n",
      "12/12 [==============================] - 2s 191ms/step - loss: 27.4544 - mae: 27.9490 - lr: 5.6234e-07\n",
      "Epoch 37/100\n",
      "12/12 [==============================] - 2s 195ms/step - loss: 27.0934 - mae: 27.5880 - lr: 6.3096e-07\n",
      "Epoch 38/100\n",
      "12/12 [==============================] - 2s 202ms/step - loss: 27.0256 - mae: 27.5201 - lr: 7.0795e-07\n",
      "Epoch 39/100\n",
      "12/12 [==============================] - 2s 188ms/step - loss: 26.5454 - mae: 27.0400 - lr: 7.9433e-07\n",
      "Epoch 40/100\n",
      "12/12 [==============================] - 2s 197ms/step - loss: 25.8626 - mae: 26.3573 - lr: 8.9125e-07\n",
      "Epoch 41/100\n",
      "12/12 [==============================] - 3s 214ms/step - loss: 25.4430 - mae: 25.9373 - lr: 1.0000e-06\n",
      "Epoch 42/100\n",
      "12/12 [==============================] - 2s 205ms/step - loss: 25.2078 - mae: 25.7023 - lr: 1.1220e-06\n",
      "Epoch 43/100\n",
      "12/12 [==============================] - 2s 188ms/step - loss: 24.8339 - mae: 25.3283 - lr: 1.2589e-06\n",
      "Epoch 44/100\n",
      "12/12 [==============================] - 2s 189ms/step - loss: 24.2745 - mae: 24.7688 - lr: 1.4125e-06\n",
      "Epoch 45/100\n",
      "12/12 [==============================] - 2s 198ms/step - loss: 23.8952 - mae: 24.3894 - lr: 1.5849e-06\n",
      "Epoch 46/100\n",
      "12/12 [==============================] - 2s 196ms/step - loss: 23.9235 - mae: 24.4177 - lr: 1.7783e-06\n",
      "Epoch 47/100\n",
      "12/12 [==============================] - 2s 188ms/step - loss: 23.3634 - mae: 23.8574 - lr: 1.9953e-06\n",
      "Epoch 48/100\n",
      "12/12 [==============================] - 2s 202ms/step - loss: 22.8651 - mae: 23.3591 - lr: 2.2387e-0686 - mae:\n",
      "Epoch 49/100\n",
      "12/12 [==============================] - 2s 203ms/step - loss: 22.4445 - mae: 22.9382 - lr: 2.5119e-06\n",
      "Epoch 50/100\n",
      "12/12 [==============================] - 2s 189ms/step - loss: 22.1122 - mae: 22.6062 - lr: 2.8184e-06\n",
      "Epoch 51/100\n",
      "12/12 [==============================] - 2s 186ms/step - loss: 22.2379 - mae: 22.7318 - lr: 3.1623e-06\n",
      "Epoch 52/100\n",
      "12/12 [==============================] - 2s 194ms/step - loss: 21.7512 - mae: 22.2454 - lr: 3.5481e-06\n",
      "Epoch 53/100\n",
      "12/12 [==============================] - 2s 192ms/step - loss: 21.8741 - mae: 22.3680 - lr: 3.9811e-06\n",
      "Epoch 54/100\n",
      "12/12 [==============================] - 2s 191ms/step - loss: 21.5875 - mae: 22.0813 - lr: 4.4668e-06\n",
      "Epoch 55/100\n",
      "12/12 [==============================] - 3s 211ms/step - loss: 21.6772 - mae: 22.1711 - lr: 5.0119e-06\n",
      "Epoch 56/100\n",
      "12/12 [==============================] - 2s 191ms/step - loss: 20.9837 - mae: 21.4772 - lr: 5.6234e-06\n",
      "Epoch 57/100\n",
      "12/12 [==============================] - 2s 187ms/step - loss: 20.7459 - mae: 21.2395 - lr: 6.3096e-06\n",
      "Epoch 58/100\n",
      "12/12 [==============================] - 2s 197ms/step - loss: 20.5259 - mae: 21.0193 - lr: 7.0795e-06\n",
      "Epoch 59/100\n",
      "12/12 [==============================] - 2s 194ms/step - loss: 20.7846 - mae: 21.2780 - lr: 7.9433e-06\n",
      "Epoch 60/100\n",
      "12/12 [==============================] - 2s 194ms/step - loss: 19.9276 - mae: 20.4208 - lr: 8.9125e-06\n",
      "Epoch 61/100\n",
      "12/12 [==============================] - 2s 187ms/step - loss: 20.3250 - mae: 20.8185 - lr: 1.0000e-0583 - ma\n",
      "Epoch 62/100\n",
      "12/12 [==============================] - 2s 187ms/step - loss: 19.8929 - mae: 20.3860 - lr: 1.1220e-05\n",
      "Epoch 63/100\n",
      "12/12 [==============================] - 2s 183ms/step - loss: 20.7561 - mae: 21.2497 - lr: 1.2589e-05\n",
      "Epoch 64/100\n",
      "12/12 [==============================] - 3s 215ms/step - loss: 19.6369 - mae: 20.1301 - lr: 1.4125e-05\n",
      "Epoch 65/100\n",
      "12/12 [==============================] - 2s 196ms/step - loss: 20.0755 - mae: 20.5686 - lr: 1.5849e-05\n",
      "Epoch 66/100\n",
      "12/12 [==============================] - 3s 212ms/step - loss: 21.8834 - mae: 22.3771 - lr: 1.7783e-05\n",
      "Epoch 67/100\n",
      "12/12 [==============================] - 2s 193ms/step - loss: 19.6151 - mae: 20.1079 - lr: 1.9953e-05\n",
      "Epoch 68/100\n",
      "12/12 [==============================] - 2s 186ms/step - loss: 20.9770 - mae: 21.4702 - lr: 2.2387e-05\n",
      "Epoch 69/100\n",
      "12/12 [==============================] - 3s 209ms/step - loss: 20.8699 - mae: 21.3638 - lr: 2.5119e-05\n",
      "Epoch 70/100\n",
      "12/12 [==============================] - 2s 205ms/step - loss: 21.2026 - mae: 21.6962 - lr: 2.8184e-05\n",
      "Epoch 71/100\n",
      "12/12 [==============================] - 2s 187ms/step - loss: 20.2991 - mae: 20.7920 - lr: 3.1623e-05\n",
      "Epoch 72/100\n",
      "12/12 [==============================] - 2s 186ms/step - loss: 20.4618 - mae: 20.9547 - lr: 3.5481e-05\n",
      "Epoch 73/100\n",
      "12/12 [==============================] - 2s 189ms/step - loss: 20.2170 - mae: 20.7101 - lr: 3.9811e-05\n",
      "Epoch 74/100\n",
      "12/12 [==============================] - 2s 191ms/step - loss: 21.3178 - mae: 21.8110 - lr: 4.4668e-05\n",
      "Epoch 75/100\n",
      "12/12 [==============================] - 2s 186ms/step - loss: 22.8657 - mae: 23.3596 - lr: 5.0119e-05\n",
      "Epoch 76/100\n",
      "12/12 [==============================] - 3s 222ms/step - loss: 21.5886 - mae: 22.0817 - lr: 5.6234e-05\n",
      "Epoch 77/100\n",
      "12/12 [==============================] - 3s 220ms/step - loss: 20.3401 - mae: 20.8332 - lr: 6.3096e-05\n",
      "Epoch 78/100\n",
      "12/12 [==============================] - 2s 192ms/step - loss: 20.1407 - mae: 20.6334 - lr: 7.0795e-05\n",
      "Epoch 79/100\n",
      "12/12 [==============================] - 2s 190ms/step - loss: 19.5370 - mae: 20.0294 - lr: 7.9433e-05\n",
      "Epoch 80/100\n",
      "12/12 [==============================] - 3s 232ms/step - loss: 22.0656 - mae: 22.5593 - lr: 8.9125e-05\n",
      "Epoch 81/100\n",
      "12/12 [==============================] - 3s 218ms/step - loss: 24.5332 - mae: 25.0272 - lr: 1.0000e-04\n",
      "Epoch 82/100\n",
      "12/12 [==============================] - 3s 218ms/step - loss: 25.0549 - mae: 25.5497 - lr: 1.1220e-04\n",
      "Epoch 83/100\n",
      "12/12 [==============================] - 3s 253ms/step - loss: 23.3843 - mae: 23.8783 - lr: 1.2589e-04\n",
      "Epoch 84/100\n",
      "12/12 [==============================] - 2s 207ms/step - loss: 35.9742 - mae: 36.4706 - lr: 1.4125e-04\n",
      "Epoch 85/100\n",
      "12/12 [==============================] - 3s 217ms/step - loss: 37.6153 - mae: 38.1116 - lr: 1.5849e-04\n",
      "Epoch 86/100\n",
      "12/12 [==============================] - 3s 218ms/step - loss: 36.9572 - mae: 37.4535 - lr: 1.7783e-04\n",
      "Epoch 87/100\n",
      "12/12 [==============================] - 3s 259ms/step - loss: 32.1237 - mae: 32.6198 - lr: 1.9953e-04\n",
      "Epoch 88/100\n",
      "12/12 [==============================] - 3s 227ms/step - loss: 30.0151 - mae: 30.5099 - lr: 2.2387e-04\n",
      "Epoch 89/100\n",
      "12/12 [==============================] - 3s 245ms/step - loss: 30.8395 - mae: 31.3352 - lr: 2.5119e-04\n",
      "Epoch 90/100\n",
      "12/12 [==============================] - 3s 239ms/step - loss: 41.4197 - mae: 41.9170 - lr: 2.8184e-04\n",
      "Epoch 91/100\n",
      "12/12 [==============================] - 3s 240ms/step - loss: 50.4537 - mae: 50.9513 - lr: 3.1623e-04\n",
      "Epoch 92/100\n",
      "12/12 [==============================] - 2s 206ms/step - loss: 52.1398 - mae: 52.6380 - lr: 3.5481e-04\n",
      "Epoch 93/100\n",
      "12/12 [==============================] - 2s 205ms/step - loss: 70.7778 - mae: 71.2763 - lr: 3.9811e-04\n",
      "Epoch 94/100\n",
      "12/12 [==============================] - 2s 190ms/step - loss: 58.2307 - mae: 58.7290 - lr: 4.4668e-04\n",
      "Epoch 95/100\n",
      "12/12 [==============================] - 2s 185ms/step - loss: 54.4263 - mae: 54.9244 - lr: 5.0119e-04\n",
      "Epoch 96/100\n",
      "12/12 [==============================] - 2s 184ms/step - loss: 54.0986 - mae: 54.5968 - lr: 5.6234e-04\n",
      "Epoch 97/100\n",
      "12/12 [==============================] - 2s 195ms/step - loss: 55.3783 - mae: 55.8767 - lr: 6.3096e-04\n",
      "Epoch 98/100\n",
      "12/12 [==============================] - 2s 197ms/step - loss: 54.3418 - mae: 54.8400 - lr: 7.0795e-04\n",
      "Epoch 99/100\n",
      "12/12 [==============================] - 2s 201ms/step - loss: 54.1724 - mae: 54.6706 - lr: 7.9433e-04\n",
      "Epoch 100/100\n",
      "12/12 [==============================] - 2s 206ms/step - loss: 64.3287 - mae: 64.8270 - lr: 8.9125e-04\n"
     ]
    }
   ],
   "source": [
    "model = tf.keras.models.Sequential([\n",
    "  tf.keras.layers.Conv1D(filters=32,\n",
    "                         kernel_size=5,\n",
    "                         strides=1,\n",
    "                         padding=\"causal\",\n",
    "                         activation=\"relu\",\n",
    "                         input_shape=[None, 1]),\n",
    "  tf.keras.layers.LSTM(64, return_sequences=True),\n",
    "  tf.keras.layers.LSTM(64, return_sequences=True),\n",
    "  tf.keras.layers.Dense(30, activation=\"relu\"),\n",
    "  tf.keras.layers.Dense(10, activation=\"relu\"),\n",
    "  tf.keras.layers.Dense(1),\n",
    "  tf.keras.layers.Lambda(lambda x: x * 400)\n",
    "])\n",
    "\n",
    "lr_schedule = tf.keras.callbacks.LearningRateScheduler(lambda epoch: 1e-8 * 10**(epoch / 20))\n",
    "\n",
    "optimizer = tf.keras.optimizers.SGD(lr=1e-8, momentum=0.9)\n",
    "model.compile(loss=tf.keras.losses.Huber(),\n",
    "              optimizer=optimizer,\n",
    "              metrics=[\"mae\"])\n",
    "\n",
    "history = model.fit(train_set, epochs=100, callbacks=[lr_schedule])"
   ]
  },
  {
   "cell_type": "code",
   "execution_count": 163,
   "metadata": {},
   "outputs": [
    {
     "data": {
      "text/plain": [
       "[1e-08, 0.0001, 0, 60]"
      ]
     },
     "execution_count": 163,
     "metadata": {},
     "output_type": "execute_result"
    },
    {
     "data": {
      "image/png": "[encoded data removed]",
      "text/plain": [
       "<Figure size 432x288 with 1 Axes>"
      ]
     },
     "metadata": {
      "needs_background": "light"
     },
     "output_type": "display_data"
    }
   ],
   "source": [
    "plt.semilogx(history.history[\"lr\"], history.history[\"loss\"])\n",
    "plt.axis([1e-8, 1e-4, 0, 60])"
   ]
  },
  {
   "cell_type": "code",
   "execution_count": 164,
   "metadata": {},
   "outputs": [],
   "source": [
    "rnn_forecast = model_forecast(model, series[..., np.newaxis], window_size)\n",
    "rnn_forecast = rnn_forecast[split_time - window_size:-1, -1, 0]"
   ]
  },
  {
   "cell_type": "code",
   "execution_count": 165,
   "metadata": {},
   "outputs": [
    {
     "data": {
      "image/png": "[encoded data removed]",
      "text/plain": [
       "<Figure size 360x216 with 1 Axes>"
      ]
     },
     "metadata": {
      "needs_background": "light"
     },
     "output_type": "display_data"
    }
   ],
   "source": [
    "plt.figure(figsize=(5, 3))\n",
    "plot_series(time_valid, x_valid)\n",
    "plot_series(time_valid, rnn_forecast)"
   ]
  },
  {
   "cell_type": "code",
   "execution_count": 166,
   "metadata": {},
   "outputs": [
    {
     "data": {
      "text/plain": [
       "70.141136"
      ]
     },
     "execution_count": 166,
     "metadata": {},
     "output_type": "execute_result"
    }
   ],
   "source": [
    "tf.keras.metrics.mean_absolute_error(x_valid, rnn_forecast).numpy()"
   ]
  },
  {
   "cell_type": "code",
   "execution_count": 167,
   "metadata": {},
   "outputs": [
    {
     "name": "stdout",
     "output_type": "stream",
     "text": [
      "Epoch 1/500\n",
      "12/12 [==============================] - 3s 225ms/step - loss: 179.2994 - mae: 179.7991 - lr: 1.0000e-08\n",
      "Epoch 2/500\n",
      "12/12 [==============================] - 2s 200ms/step - loss: 332.0546 - mae: 332.5546 - lr: 1.1220e-08\n",
      "Epoch 3/500\n",
      "12/12 [==============================] - 3s 208ms/step - loss: 376.2139 - mae: 376.7139 - lr: 1.2589e-08\n",
      "Epoch 4/500\n",
      "12/12 [==============================] - 2s 198ms/step - loss: 388.4977 - mae: 388.9977 - lr: 1.4125e-08\n",
      "Epoch 5/500\n",
      "12/12 [==============================] - 2s 198ms/step - loss: 391.7600 - mae: 392.2599 - lr: 1.5849e-08\n",
      "Epoch 6/500\n",
      "12/12 [==============================] - 2s 198ms/step - loss: 392.4489 - mae: 392.9489 - lr: 1.7783e-08\n",
      "Epoch 7/500\n",
      "12/12 [==============================] - 2s 203ms/step - loss: 392.3828 - mae: 392.8828 - lr: 1.9953e-08\n",
      "Epoch 8/500\n",
      "12/12 [==============================] - 2s 201ms/step - loss: 392.0713 - mae: 392.5713 - lr: 2.2387e-08\n",
      "Epoch 9/500\n",
      "12/12 [==============================] - 2s 195ms/step - loss: 391.6550 - mae: 392.1550 - lr: 2.5119e-08\n",
      "Epoch 10/500\n",
      "12/12 [==============================] - 2s 196ms/step - loss: 391.1688 - mae: 391.6688 - lr: 2.8184e-08\n",
      "Epoch 11/500\n",
      "12/12 [==============================] - 2s 196ms/step - loss: 390.6177 - mae: 391.1177 - lr: 3.1623e-08\n",
      "Epoch 12/500\n",
      "12/12 [==============================] - 2s 194ms/step - loss: 389.9977 - mae: 390.4977 - lr: 3.5481e-08\n",
      "Epoch 13/500\n",
      "12/12 [==============================] - 2s 202ms/step - loss: 389.3014 - mae: 389.8014 - lr: 3.9811e-08\n",
      "Epoch 14/500\n",
      "12/12 [==============================] - 3s 211ms/step - loss: 388.5197 - mae: 389.0197 - lr: 4.4668e-08\n",
      "Epoch 15/500\n",
      "12/12 [==============================] - 2s 205ms/step - loss: 387.6421 - mae: 388.1421 - lr: 5.0119e-08\n",
      "Epoch 16/500\n",
      "12/12 [==============================] - 2s 200ms/step - loss: 386.6569 - mae: 387.1569 - lr: 5.6234e-08\n",
      "Epoch 17/500\n",
      "12/12 [==============================] - 2s 196ms/step - loss: 385.5508 - mae: 386.0508 - lr: 6.3096e-08\n",
      "Epoch 18/500\n",
      "12/12 [==============================] - 2s 196ms/step - loss: 384.3088 - mae: 384.8088 - lr: 7.0795e-08\n",
      "Epoch 19/500\n",
      "12/12 [==============================] - 2s 205ms/step - loss: 382.9144 - mae: 383.4144 - lr: 7.9433e-08\n",
      "Epoch 20/500\n",
      "12/12 [==============================] - 2s 203ms/step - loss: 381.3486 - mae: 381.8486 - lr: 8.9125e-08\n",
      "Epoch 21/500\n",
      "12/12 [==============================] - 2s 203ms/step - loss: 379.5900 - mae: 380.0900 - lr: 1.0000e-07\n",
      "Epoch 22/500\n",
      "12/12 [==============================] - 3s 213ms/step - loss: 377.6148 - mae: 378.1148 - lr: 1.1220e-07\n",
      "Epoch 23/500\n",
      "12/12 [==============================] - 3s 228ms/step - loss: 375.3960 - mae: 375.8960 - lr: 1.2589e-07\n",
      "Epoch 24/500\n",
      "12/12 [==============================] - 2s 199ms/step - loss: 372.9027 - mae: 373.4028 - lr: 1.4125e-07\n",
      "Epoch 25/500\n",
      "12/12 [==============================] - 2s 191ms/step - loss: 370.1010 - mae: 370.6010 - lr: 1.5849e-07\n",
      "Epoch 26/500\n",
      "12/12 [==============================] - 2s 205ms/step - loss: 366.9513 - mae: 367.4513 - lr: 1.7783e-07\n",
      "Epoch 27/500\n",
      "12/12 [==============================] - 3s 213ms/step - loss: 363.4098 - mae: 363.9098 - lr: 1.9953e-07\n",
      "Epoch 28/500\n",
      "12/12 [==============================] - 3s 235ms/step - loss: 359.4261 - mae: 359.9261 - lr: 2.2387e-07\n",
      "Epoch 29/500\n",
      "12/12 [==============================] - 3s 229ms/step - loss: 354.9430 - mae: 355.4430 - lr: 2.5119e-07\n",
      "Epoch 30/500\n",
      "12/12 [==============================] - 3s 268ms/step - loss: 349.8955 - mae: 350.3955 - lr: 2.8184e-07\n",
      "Epoch 31/500\n",
      "12/12 [==============================] - 3s 228ms/step - loss: 344.2086 - mae: 344.7086 - lr: 3.1623e-07\n",
      "Epoch 32/500\n",
      "12/12 [==============================] - 3s 222ms/step - loss: 337.7967 - mae: 338.2967 - lr: 3.5481e-07\n",
      "Epoch 33/500\n",
      "12/12 [==============================] - 3s 212ms/step - loss: 330.5598 - mae: 331.0598 - lr: 3.9811e-07\n",
      "Epoch 34/500\n",
      "12/12 [==============================] - 2s 197ms/step - loss: 322.3820 - mae: 322.8820 - lr: 4.4668e-07\n",
      "Epoch 35/500\n",
      "12/12 [==============================] - 2s 204ms/step - loss: 313.1278 - mae: 313.6278 - lr: 5.0119e-07\n",
      "Epoch 36/500\n",
      "12/12 [==============================] - 2s 196ms/step - loss: 302.6412 - mae: 303.1412 - lr: 5.6234e-07\n",
      "Epoch 37/500\n",
      "12/12 [==============================] - 2s 197ms/step - loss: 290.7225 - mae: 291.2225 - lr: 6.3096e-07\n",
      "Epoch 38/500\n",
      "12/12 [==============================] - 2s 198ms/step - loss: 277.1215 - mae: 277.6215 - lr: 7.0795e-07\n",
      "Epoch 39/500\n",
      "12/12 [==============================] - 2s 197ms/step - loss: 261.5380 - mae: 262.0380 - lr: 7.9433e-07\n",
      "Epoch 40/500\n",
      "12/12 [==============================] - 2s 192ms/step - loss: 243.5972 - mae: 244.0972 - lr: 8.9125e-07\n",
      "Epoch 41/500\n",
      "12/12 [==============================] - 3s 229ms/step - loss: 222.7669 - mae: 223.2669 - lr: 1.0000e-06\n",
      "Epoch 42/500\n",
      "12/12 [==============================] - 3s 212ms/step - loss: 198.4318 - mae: 198.9317 - lr: 1.1220e-06\n",
      "Epoch 43/500\n",
      "12/12 [==============================] - 2s 194ms/step - loss: 170.1085 - mae: 170.6083 - lr: 1.2589e-06\n",
      "Epoch 44/500\n",
      "12/12 [==============================] - 2s 196ms/step - loss: 137.9498 - mae: 138.4493 - lr: 1.4125e-06\n",
      "Epoch 45/500\n",
      "12/12 [==============================] - 2s 192ms/step - loss: 103.7642 - mae: 104.2633 - lr: 1.5849e-06\n",
      "Epoch 46/500\n",
      "12/12 [==============================] - 2s 198ms/step - loss: 74.0551 - mae: 74.5540 - lr: 1.7783e-06\n",
      "Epoch 47/500\n",
      "12/12 [==============================] - 2s 197ms/step - loss: 57.9524 - mae: 58.4508 - lr: 1.9953e-06\n",
      "Epoch 48/500\n",
      "12/12 [==============================] - 2s 195ms/step - loss: 55.3323 - mae: 55.8305 - lr: 2.2387e-06\n",
      "Epoch 49/500\n",
      "12/12 [==============================] - 2s 198ms/step - loss: 54.8757 - mae: 55.3742 - lr: 2.5119e-06\n",
      "Epoch 50/500\n",
      "12/12 [==============================] - 2s 195ms/step - loss: 54.4428 - mae: 54.9410 - lr: 2.8184e-06\n",
      "Epoch 51/500\n",
      "12/12 [==============================] - 2s 193ms/step - loss: 54.3753 - mae: 54.8737 - lr: 3.1623e-06\n",
      "Epoch 52/500\n",
      "12/12 [==============================] - 2s 199ms/step - loss: 54.2172 - mae: 54.7154 - lr: 3.5481e-06\n",
      "Epoch 53/500\n",
      "12/12 [==============================] - 2s 195ms/step - loss: 54.0222 - mae: 54.5203 - lr: 3.9811e-06\n",
      "Epoch 54/500\n",
      "12/12 [==============================] - 2s 192ms/step - loss: 53.8697 - mae: 54.3676 - lr: 4.4668e-06\n",
      "Epoch 55/500\n",
      "12/12 [==============================] - 2s 197ms/step - loss: 53.6723 - mae: 54.1703 - lr: 5.0119e-06\n",
      "Epoch 56/500\n",
      "12/12 [==============================] - 2s 208ms/step - loss: 53.4362 - mae: 53.9345 - lr: 5.6234e-06\n",
      "Epoch 57/500\n",
      "12/12 [==============================] - 3s 217ms/step - loss: 53.1380 - mae: 53.6362 - lr: 6.3096e-06\n",
      "Epoch 58/500\n",
      "12/12 [==============================] - 3s 266ms/step - loss: 52.8624 - mae: 53.3604 - lr: 7.0795e-06\n",
      "Epoch 59/500\n",
      "12/12 [==============================] - 3s 238ms/step - loss: 52.7126 - mae: 53.2109 - lr: 7.9433e-06\n",
      "Epoch 60/500\n",
      "12/12 [==============================] - 3s 233ms/step - loss: 52.3963 - mae: 52.8945 - lr: 8.9125e-06\n",
      "Epoch 61/500\n",
      "12/12 [==============================] - 2s 199ms/step - loss: 52.1622 - mae: 52.6606 - lr: 1.0000e-05\n",
      "Epoch 62/500\n",
      "12/12 [==============================] - 2s 196ms/step - loss: 51.8520 - mae: 52.3502 - lr: 1.1220e-05\n",
      "Epoch 63/500\n",
      "12/12 [==============================] - 2s 206ms/step - loss: 51.4714 - mae: 51.9697 - lr: 1.2589e-05\n",
      "Epoch 64/500\n",
      "12/12 [==============================] - 3s 210ms/step - loss: 51.0188 - mae: 51.5170 - lr: 1.4125e-05\n",
      "Epoch 65/500\n",
      "12/12 [==============================] - 3s 239ms/step - loss: 50.3276 - mae: 50.8258 - lr: 1.5849e-05\n",
      "Epoch 66/500\n",
      "12/12 [==============================] - 3s 216ms/step - loss: 49.5629 - mae: 50.0608 - lr: 1.7783e-05\n",
      "Epoch 67/500\n",
      "12/12 [==============================] - 2s 207ms/step - loss: 48.1234 - mae: 48.6211 - lr: 1.9953e-05\n",
      "Epoch 68/500\n",
      "12/12 [==============================] - 2s 208ms/step - loss: 45.3901 - mae: 45.8875 - lr: 2.2387e-05\n",
      "Epoch 69/500\n",
      "12/12 [==============================] - 3s 235ms/step - loss: 42.4178 - mae: 42.9151 - lr: 2.5119e-05\n",
      "Epoch 70/500\n",
      "12/12 [==============================] - 3s 210ms/step - loss: 37.3612 - mae: 37.8572 - lr: 2.8184e-05\n"
     ]
    },
    {
     "name": "stdout",
     "output_type": "stream",
     "text": [
      "Epoch 71/500\n",
      "12/12 [==============================] - 2s 197ms/step - loss: 31.8261 - mae: 32.3210 - lr: 3.1623e-05\n",
      "Epoch 72/500\n",
      "12/12 [==============================] - 2s 197ms/step - loss: 40.0399 - mae: 40.5367 - lr: 3.5481e-05\n",
      "Epoch 73/500\n",
      "12/12 [==============================] - 2s 198ms/step - loss: 34.7033 - mae: 35.1997 - lr: 3.9811e-05\n",
      "Epoch 74/500\n",
      "12/12 [==============================] - 3s 210ms/step - loss: 31.4809 - mae: 31.9765 - lr: 4.4668e-05\n",
      "Epoch 75/500\n",
      "12/12 [==============================] - 2s 197ms/step - loss: 62.6509 - mae: 63.1494 - lr: 5.0119e-05\n",
      "Epoch 76/500\n",
      "12/12 [==============================] - 2s 198ms/step - loss: 52.1620 - mae: 52.6599 - lr: 5.6234e-05\n",
      "Epoch 77/500\n",
      "12/12 [==============================] - 2s 197ms/step - loss: 47.2316 - mae: 47.7293 - lr: 6.3096e-05\n",
      "Epoch 78/500\n",
      "12/12 [==============================] - 2s 200ms/step - loss: 40.1639 - mae: 40.6602 - lr: 7.0795e-05\n",
      "Epoch 79/500\n",
      "12/12 [==============================] - 3s 219ms/step - loss: 36.1605 - mae: 36.6572 - lr: 7.9433e-05\n",
      "Epoch 80/500\n",
      "12/12 [==============================] - 2s 207ms/step - loss: 43.1622 - mae: 43.6597 - lr: 8.9125e-05\n",
      "Epoch 81/500\n",
      "12/12 [==============================] - 2s 200ms/step - loss: 41.0506 - mae: 41.5480 - lr: 1.0000e-04\n",
      "Epoch 82/500\n",
      "12/12 [==============================] - 2s 201ms/step - loss: 37.9724 - mae: 38.4688 - lr: 1.1220e-04\n",
      "Epoch 83/500\n",
      "12/12 [==============================] - 2s 198ms/step - loss: 36.9046 - mae: 37.4010 - lr: 1.2589e-04\n",
      "Epoch 84/500\n",
      "12/12 [==============================] - 2s 203ms/step - loss: 53.6798 - mae: 54.1779 - lr: 1.4125e-04\n",
      "Epoch 85/500\n",
      "12/12 [==============================] - 2s 205ms/step - loss: 47.2206 - mae: 47.7181 - lr: 1.5849e-04\n",
      "Epoch 86/500\n",
      "12/12 [==============================] - 3s 267ms/step - loss: 35.8169 - mae: 36.3138 - lr: 1.7783e-04\n",
      "Epoch 87/500\n",
      "12/12 [==============================] - 3s 242ms/step - loss: 38.7694 - mae: 39.2666 - lr: 1.9953e-04\n",
      "Epoch 88/500\n",
      "12/12 [==============================] - 3s 209ms/step - loss: 33.7232 - mae: 34.2198 - lr: 2.2387e-04\n",
      "Epoch 89/500\n",
      "12/12 [==============================] - 2s 202ms/step - loss: 36.1163 - mae: 36.6141 - lr: 2.5119e-04\n",
      "Epoch 90/500\n",
      "12/12 [==============================] - 2s 201ms/step - loss: 43.4830 - mae: 43.9810 - lr: 2.8184e-04\n",
      "Epoch 91/500\n",
      "12/12 [==============================] - 2s 203ms/step - loss: 37.2808 - mae: 37.7780 - lr: 3.1623e-04\n",
      "Epoch 92/500\n",
      "12/12 [==============================] - 2s 197ms/step - loss: 55.0291 - mae: 55.5274 - lr: 3.5481e-04\n",
      "Epoch 93/500\n",
      "12/12 [==============================] - 2s 198ms/step - loss: 39.6250 - mae: 40.1220 - lr: 3.9811e-04\n",
      "Epoch 94/500\n",
      "12/12 [==============================] - 2s 197ms/step - loss: 76.6997 - mae: 77.1985 - lr: 4.4668e-04\n",
      "Epoch 95/500\n",
      "12/12 [==============================] - 2s 198ms/step - loss: 59.3604 - mae: 59.8585 - lr: 5.0119e-04\n",
      "Epoch 96/500\n",
      "12/12 [==============================] - 2s 199ms/step - loss: 56.5501 - mae: 57.0482 - lr: 5.6234e-04\n",
      "Epoch 97/500\n",
      "12/12 [==============================] - 2s 201ms/step - loss: 56.3337 - mae: 56.8316 - lr: 6.3096e-04\n",
      "Epoch 98/500\n",
      "12/12 [==============================] - 2s 206ms/step - loss: 55.4980 - mae: 55.9962 - lr: 7.0795e-04\n",
      "Epoch 99/500\n",
      "12/12 [==============================] - 2s 198ms/step - loss: 54.8862 - mae: 55.3844 - lr: 7.9433e-04\n",
      "Epoch 100/500\n",
      "12/12 [==============================] - 2s 195ms/step - loss: 55.4998 - mae: 55.9982 - lr: 8.9125e-04\n",
      "Epoch 101/500\n",
      "12/12 [==============================] - 2s 194ms/step - loss: 54.4045 - mae: 54.9028 - lr: 0.0010\n",
      "Epoch 102/500\n",
      "12/12 [==============================] - 2s 201ms/step - loss: 54.9508 - mae: 55.4492 - lr: 0.0011\n",
      "Epoch 103/500\n",
      "12/12 [==============================] - 2s 201ms/step - loss: 59.8232 - mae: 60.3217 - lr: 0.0013\n",
      "Epoch 104/500\n",
      "12/12 [==============================] - 2s 200ms/step - loss: 67.4164 - mae: 67.9143 - lr: 0.0014\n",
      "Epoch 105/500\n",
      "12/12 [==============================] - 2s 196ms/step - loss: 74.0090 - mae: 74.5076 - lr: 0.0016\n",
      "Epoch 106/500\n",
      "12/12 [==============================] - 2s 199ms/step - loss: 104.0973 - mae: 104.5965 - lr: 0.0018\n",
      "Epoch 107/500\n",
      "12/12 [==============================] - 3s 238ms/step - loss: 251.0990 - mae: 251.5985 - lr: 0.0020\n",
      "Epoch 108/500\n",
      "12/12 [==============================] - 2s 208ms/step - loss: 257.5587 - mae: 258.0582 - lr: 0.0022\n",
      "Epoch 109/500\n",
      "12/12 [==============================] - 2s 200ms/step - loss: 165.9603 - mae: 166.4598 - lr: 0.0025\n",
      "Epoch 110/500\n",
      "12/12 [==============================] - 2s 194ms/step - loss: 200.1412 - mae: 200.6406 - lr: 0.0028\n",
      "Epoch 111/500\n",
      "12/12 [==============================] - 2s 197ms/step - loss: 261.0653 - mae: 261.5648 - lr: 0.0032\n",
      "Epoch 112/500\n",
      "12/12 [==============================] - 2s 196ms/step - loss: 305.9520 - mae: 306.4519 - lr: 0.0035\n",
      "Epoch 113/500\n",
      "12/12 [==============================] - 3s 216ms/step - loss: 527.3158 - mae: 527.8157 - lr: 0.0040\n",
      "Epoch 114/500\n",
      "12/12 [==============================] - 3s 236ms/step - loss: 726.6821 - mae: 727.1821 - lr: 0.0045\n",
      "Epoch 115/500\n",
      "12/12 [==============================] - 3s 226ms/step - loss: 613.9775 - mae: 614.4774 - lr: 0.0050\n",
      "Epoch 116/500\n",
      "12/12 [==============================] - 3s 216ms/step - loss: 720.0599 - mae: 720.5592 - lr: 0.0056\n",
      "Epoch 117/500\n",
      "12/12 [==============================] - 2s 201ms/step - loss: 565.5282 - mae: 566.0282 - lr: 0.0063\n",
      "Epoch 118/500\n",
      "12/12 [==============================] - 2s 204ms/step - loss: 579.7552 - mae: 580.2552 - lr: 0.0071\n",
      "Epoch 119/500\n",
      "12/12 [==============================] - 3s 252ms/step - loss: 619.4133 - mae: 619.9127 - lr: 0.0079\n",
      "Epoch 120/500\n",
      "12/12 [==============================] - 2s 201ms/step - loss: 1870.8014 - mae: 1871.3014 - lr: 0.0089\n",
      "Epoch 121/500\n",
      "12/12 [==============================] - 2s 195ms/step - loss: 1687.3943 - mae: 1687.8944 - lr: 0.0100\n",
      "Epoch 122/500\n",
      "12/12 [==============================] - 2s 198ms/step - loss: 1933.7346 - mae: 1934.2346 - lr: 0.0112\n",
      "Epoch 123/500\n",
      "12/12 [==============================] - 2s 201ms/step - loss: 1830.1909 - mae: 1830.6909 - lr: 0.0126\n",
      "Epoch 124/500\n",
      "12/12 [==============================] - 2s 198ms/step - loss: 3809.0596 - mae: 3809.5596 - lr: 0.0141\n",
      "Epoch 125/500\n",
      "12/12 [==============================] - 2s 204ms/step - loss: 2377.6648 - mae: 2378.1648 - lr: 0.0158\n",
      "Epoch 126/500\n",
      "12/12 [==============================] - 2s 198ms/step - loss: 4521.3145 - mae: 4521.8145 - lr: 0.0178\n",
      "Epoch 127/500\n",
      "12/12 [==============================] - 2s 195ms/step - loss: 2181.2612 - mae: 2181.7612 - lr: 0.0200\n",
      "Epoch 128/500\n",
      "12/12 [==============================] - 2s 198ms/step - loss: 4803.8770 - mae: 4804.3755 - lr: 0.0224\n",
      "Epoch 129/500\n",
      "12/12 [==============================] - 2s 198ms/step - loss: 3651.9846 - mae: 3652.4846 - lr: 0.0251\n",
      "Epoch 130/500\n",
      "12/12 [==============================] - 3s 211ms/step - loss: 3097.4136 - mae: 3097.9136 - lr: 0.0282\n",
      "Epoch 131/500\n",
      "12/12 [==============================] - 2s 198ms/step - loss: 4079.9172 - mae: 4080.4180 - lr: 0.0316\n",
      "Epoch 132/500\n",
      "12/12 [==============================] - 2s 200ms/step - loss: 6642.4790 - mae: 6642.9790 - lr: 0.0355\n",
      "Epoch 133/500\n",
      "12/12 [==============================] - 2s 206ms/step - loss: 3382.6506 - mae: 3383.1506 - lr: 0.0398\n",
      "Epoch 134/500\n",
      "12/12 [==============================] - 2s 196ms/step - loss: 3531.7346 - mae: 3532.2346 - lr: 0.0447\n",
      "Epoch 135/500\n",
      "12/12 [==============================] - 2s 197ms/step - loss: 4417.4126 - mae: 4417.9126 - lr: 0.0501\n",
      "Epoch 136/500\n",
      "12/12 [==============================] - 2s 206ms/step - loss: 8096.2070 - mae: 8096.7065 - lr: 0.0562\n",
      "Epoch 137/500\n",
      "12/12 [==============================] - 2s 198ms/step - loss: 15394.8633 - mae: 15395.3633 - lr: 0.0631\n",
      "Epoch 138/500\n",
      "12/12 [==============================] - 2s 199ms/step - loss: 17125.0703 - mae: 17125.5703 - lr: 0.0708\n",
      "Epoch 139/500\n",
      "12/12 [==============================] - 2s 198ms/step - loss: 20000.7012 - mae: 20001.1973 - lr: 0.0794\n",
      "Epoch 140/500\n",
      "12/12 [==============================] - 2s 199ms/step - loss: 21477.6562 - mae: 21478.1504 - lr: 0.0891\n",
      "Epoch 141/500\n",
      "12/12 [==============================] - 2s 196ms/step - loss: 25112.3320 - mae: 25112.8320 - lr: 0.1000\n",
      "Epoch 142/500\n",
      "12/12 [==============================] - 3s 211ms/step - loss: 27147.3027 - mae: 27147.7988 - lr: 0.1122\n",
      "Epoch 143/500\n",
      "12/12 [==============================] - 2s 200ms/step - loss: 31494.1035 - mae: 31494.6055 - lr: 0.1259\n",
      "Epoch 144/500\n",
      "12/12 [==============================] - 2s 197ms/step - loss: 34301.3750 - mae: 34301.8789 - lr: 0.1413\n",
      "Epoch 145/500\n",
      "12/12 [==============================] - 2s 197ms/step - loss: 39521.6641 - mae: 39522.1758 - lr: 0.1585\n",
      "Epoch 146/500\n",
      "12/12 [==============================] - 2s 199ms/step - loss: 43310.0508 - mae: 43310.5547 - lr: 0.1778\n",
      "Epoch 147/500\n",
      "12/12 [==============================] - 2s 199ms/step - loss: 49628.8438 - mae: 49629.3516 - lr: 0.1995\n",
      "Epoch 148/500\n",
      "12/12 [==============================] - 2s 206ms/step - loss: 54651.3086 - mae: 54651.8203 - lr: 0.2239\n",
      "Epoch 149/500\n",
      "12/12 [==============================] - 2s 196ms/step - loss: 62352.3594 - mae: 62352.8672 - lr: 0.2512\n",
      "Epoch 150/500\n",
      "12/12 [==============================] - 2s 196ms/step - loss: 68926.8125 - mae: 68927.2969 - lr: 0.2818\n",
      "Epoch 151/500\n",
      "12/12 [==============================] - 2s 200ms/step - loss: 78371.6875 - mae: 78372.1797 - lr: 0.3162\n",
      "Epoch 152/500\n",
      "12/12 [==============================] - 2s 200ms/step - loss: 86898.6094 - mae: 86899.1250 - lr: 0.3548\n",
      "Epoch 153/500\n",
      "12/12 [==============================] - 2s 201ms/step - loss: 98537.6016 - mae: 98538.0938 - lr: 0.3981\n",
      "Epoch 154/500\n",
      "12/12 [==============================] - 2s 200ms/step - loss: 109528.4609 - mae: 109528.9609 - lr: 0.4467\n",
      "Epoch 155/500\n",
      "12/12 [==============================] - 2s 201ms/step - loss: 123925.6016 - mae: 123926.1016 - lr: 0.5012\n",
      "Epoch 156/500\n",
      "12/12 [==============================] - 2s 198ms/step - loss: 138013.6406 - mae: 138014.1094 - lr: 0.5623\n",
      "Epoch 157/500\n",
      "12/12 [==============================] - 2s 199ms/step - loss: 155888.3594 - mae: 155888.8594 - lr: 0.6310\n",
      "Epoch 158/500\n",
      "12/12 [==============================] - 2s 197ms/step - loss: 173875.3125 - mae: 173875.8125 - lr: 0.7079\n",
      "Epoch 159/500\n",
      "12/12 [==============================] - 2s 204ms/step - loss: 196124.5938 - mae: 196125.0938 - lr: 0.7943\n",
      "Epoch 160/500\n",
      "12/12 [==============================] - 2s 198ms/step - loss: 219021.6250 - mae: 219022.1250 - lr: 0.8913\n",
      "Epoch 161/500\n",
      "12/12 [==============================] - 2s 198ms/step - loss: 246780.6875 - mae: 246781.1875 - lr: 1.0000\n",
      "Epoch 162/500\n",
      "12/12 [==============================] - 2s 193ms/step - loss: 275857.1875 - mae: 275857.6875 - lr: 1.1220\n",
      "Epoch 163/500\n",
      "12/12 [==============================] - 2s 198ms/step - loss: 310552.7188 - mae: 310553.2188 - lr: 1.2589\n",
      "Epoch 164/500\n",
      "12/12 [==============================] - 2s 199ms/step - loss: 347411.2812 - mae: 347411.7812 - lr: 1.4125\n",
      "Epoch 165/500\n",
      "12/12 [==============================] - 2s 207ms/step - loss: 390837.1562 - mae: 390837.6250 - lr: 1.5849\n",
      "Epoch 166/500\n",
      "12/12 [==============================] - 2s 195ms/step - loss: 437490.5000 - mae: 437491.0000 - lr: 1.7783\n",
      "Epoch 167/500\n",
      "12/12 [==============================] - 2s 194ms/step - loss: 491908.4062 - mae: 491908.7812 - lr: 1.9953\n",
      "Epoch 168/500\n",
      "12/12 [==============================] - 3s 212ms/step - loss: 550893.7500 - mae: 550894.2500 - lr: 2.2387\n",
      "Epoch 169/500\n",
      "12/12 [==============================] - 3s 236ms/step - loss: 619148.3750 - mae: 619148.8750 - lr: 2.5119\n",
      "Epoch 170/500\n",
      "12/12 [==============================] - 3s 208ms/step - loss: 693661.0625 - mae: 693661.5000 - lr: 2.8184\n",
      "Epoch 171/500\n",
      "12/12 [==============================] - 2s 203ms/step - loss: 779336.3750 - mae: 779336.8125 - lr: 3.1623\n",
      "Epoch 172/500\n",
      "12/12 [==============================] - 2s 195ms/step - loss: 873394.2500 - mae: 873394.6875 - lr: 3.5481\n",
      "Epoch 173/500\n",
      "12/12 [==============================] - 2s 196ms/step - loss: 981000.1875 - mae: 981000.8125 - lr: 3.9811\n",
      "Epoch 174/500\n",
      "12/12 [==============================] - 2s 198ms/step - loss: 1099664.5000 - mae: 1099665.0000 - lr: 4.4668\n",
      "Epoch 175/500\n",
      "12/12 [==============================] - 2s 200ms/step - loss: 1234878.1250 - mae: 1234878.5000 - lr: 5.0119\n",
      "Epoch 176/500\n",
      "12/12 [==============================] - 2s 202ms/step - loss: 1384523.6250 - mae: 1384524.2500 - lr: 5.6234\n",
      "Epoch 177/500\n",
      "12/12 [==============================] - 2s 201ms/step - loss: 1554495.1250 - mae: 1554495.5000 - lr: 6.3096\n",
      "Epoch 178/500\n",
      "12/12 [==============================] - 2s 199ms/step - loss: 1743136.7500 - mae: 1743137.5000 - lr: 7.0795\n",
      "Epoch 179/500\n",
      "12/12 [==============================] - 2s 199ms/step - loss: 1956868.3750 - mae: 1956868.8750 - lr: 7.9433\n",
      "Epoch 180/500\n",
      "12/12 [==============================] - 2s 198ms/step - loss: 2194604.5000 - mae: 2194605.0000 - lr: 8.9125\n",
      "Epoch 181/500\n",
      "12/12 [==============================] - 2s 196ms/step - loss: 2463426.5000 - mae: 2463426.7500 - lr: 10.0000\n",
      "Epoch 182/500\n",
      "12/12 [==============================] - 2s 202ms/step - loss: 2762969.5000 - mae: 2762969.7500 - lr: 11.2202\n",
      "Epoch 183/500\n",
      "12/12 [==============================] - 2s 200ms/step - loss: 3101143.2500 - mae: 3101143.5000 - lr: 12.5893\n",
      "Epoch 184/500\n",
      "12/12 [==============================] - 2s 200ms/step - loss: 3478497.7500 - mae: 3478498.0000 - lr: 14.1254\n",
      "Epoch 185/500\n",
      "12/12 [==============================] - 2s 197ms/step - loss: 3903977.0000 - mae: 3903978.0000 - lr: 15.8489\n",
      "Epoch 186/500\n",
      "12/12 [==============================] - 2s 201ms/step - loss: 4379310.5000 - mae: 4379311.0000 - lr: 17.7828\n",
      "Epoch 187/500\n",
      "12/12 [==============================] - 3s 216ms/step - loss: 4914691.5000 - mae: 4914691.5000 - lr: 19.9526\n",
      "Epoch 188/500\n",
      "12/12 [==============================] - 3s 235ms/step - loss: 5513334.0000 - mae: 5513335.0000 - lr: 22.3872\n",
      "Epoch 189/500\n",
      "12/12 [==============================] - 2s 196ms/step - loss: 6187107.5000 - mae: 6187108.5000 - lr: 25.1189\n",
      "Epoch 190/500\n",
      "12/12 [==============================] - 3s 232ms/step - loss: 6941005.5000 - mae: 6941005.5000 - lr: 28.1838\n",
      "Epoch 191/500\n",
      "12/12 [==============================] - 3s 257ms/step - loss: 7788961.0000 - mae: 7788961.0000 - lr: 31.6228\n",
      "Epoch 192/500\n",
      "12/12 [==============================] - 3s 264ms/step - loss: 8738320.0000 - mae: 8738321.0000 - lr: 35.4813\n",
      "Epoch 193/500\n",
      "12/12 [==============================] - 3s 256ms/step - loss: 9805620.0000 - mae: 9805620.0000 - lr: 39.8107\n",
      "Epoch 194/500\n",
      "12/12 [==============================] - 3s 248ms/step - loss: 11001033.0000 - mae: 11001033.0000 - lr: 44.6684\n",
      "Epoch 195/500\n",
      "12/12 [==============================] - 3s 232ms/step - loss: 12344446.0000 - mae: 12344447.0000 - lr: 50.1187\n",
      "Epoch 196/500\n",
      "12/12 [==============================] - 3s 217ms/step - loss: 13849615.0000 - mae: 13849615.0000 - lr: 56.2341\n",
      "Epoch 197/500\n",
      "12/12 [==============================] - 3s 237ms/step - loss: 15540541.0000 - mae: 15540545.0000 - lr: 63.0957\n",
      "Epoch 198/500\n",
      "12/12 [==============================] - 3s 254ms/step - loss: 17435762.0000 - mae: 17435762.0000 - lr: 70.7946\n",
      "Epoch 199/500\n",
      "12/12 [==============================] - 3s 235ms/step - loss: 19564228.0000 - mae: 19564228.0000 - lr: 79.4328\n",
      "Epoch 200/500\n",
      "12/12 [==============================] - 3s 235ms/step - loss: 21950384.0000 - mae: 21950386.0000 - lr: 89.1251\n",
      "Epoch 201/500\n",
      "12/12 [==============================] - 3s 218ms/step - loss: 24629776.0000 - mae: 24629776.0000 - lr: 100.0000\n",
      "Epoch 202/500\n",
      "12/12 [==============================] - 2s 207ms/step - loss: 27634010.0000 - mae: 27634012.0000 - lr: 112.2018\n",
      "Epoch 203/500\n",
      "12/12 [==============================] - 3s 256ms/step - loss: 31006898.0000 - mae: 31006898.0000 - lr: 125.8925\n",
      "Epoch 204/500\n",
      "12/12 [==============================] - 3s 241ms/step - loss: 34789336.0000 - mae: 34789336.0000 - lr: 141.2538\n",
      "Epoch 205/500\n",
      "12/12 [==============================] - 3s 241ms/step - loss: 39035404.0000 - mae: 39035404.0000 - lr: 158.4893\n",
      "Epoch 206/500\n",
      "12/12 [==============================] - 3s 240ms/step - loss: 43797496.0000 - mae: 43797496.0000 - lr: 177.8279\n",
      "Epoch 207/500\n",
      "12/12 [==============================] - 3s 259ms/step - loss: 49142464.0000 - mae: 49142464.0000 - lr: 199.5262\n"
     ]
    },
    {
     "name": "stdout",
     "output_type": "stream",
     "text": [
      "Epoch 208/500\n",
      "12/12 [==============================] - 3s 237ms/step - loss: 55137864.0000 - mae: 55137864.0000 - lr: 223.8721\n",
      "Epoch 209/500\n",
      "12/12 [==============================] - 3s 223ms/step - loss: 61866508.0000 - mae: 61866508.0000 - lr: 251.1886\n",
      "Epoch 210/500\n",
      "12/12 [==============================] - 3s 258ms/step - loss: 69414592.0000 - mae: 69414592.0000 - lr: 281.8383\n",
      "Epoch 211/500\n",
      "12/12 [==============================] - 3s 220ms/step - loss: 77885080.0000 - mae: 77885080.0000 - lr: 316.2278\n",
      "Epoch 212/500\n",
      "12/12 [==============================] - 3s 288ms/step - loss: 87387696.0000 - mae: 87387696.0000 - lr: 354.8134\n",
      "Epoch 213/500\n",
      "12/12 [==============================] - 4s 333ms/step - loss: 98051664.0000 - mae: 98051664.0000 - lr: 398.1072\n",
      "Epoch 214/500\n",
      "12/12 [==============================] - 4s 302ms/step - loss: 110014936.0000 - mae: 110014936.0000 - lr: 446.6836\n",
      "Epoch 215/500\n",
      "12/12 [==============================] - 3s 282ms/step - loss: 123439832.0000 - mae: 123439832.0000 - lr: 501.1872\n",
      "Epoch 216/500\n",
      "12/12 [==============================] - 4s 299ms/step - loss: 138500176.0000 - mae: 138500176.0000 - lr: 562.3413\n",
      "Epoch 217/500\n",
      "12/12 [==============================] - 3s 276ms/step - loss: 155401632.0000 - mae: 155401632.0000 - lr: 630.9573\n",
      "Epoch 218/500\n",
      "12/12 [==============================] - 3s 277ms/step - loss: 174362048.0000 - mae: 174362048.0000 - lr: 707.9458\n",
      "Epoch 219/500\n",
      "12/12 [==============================] - 3s 280ms/step - loss: 195639104.0000 - mae: 195639104.0000 - lr: 794.3282\n",
      "Epoch 220/500\n",
      "12/12 [==============================] - 3s 291ms/step - loss: 219509200.0000 - mae: 219509200.0000 - lr: 891.2509\n",
      "Epoch 221/500\n",
      "12/12 [==============================] - 3s 282ms/step - loss: 246293280.0000 - mae: 246293280.0000 - lr: 1000.0000\n",
      "Epoch 222/500\n",
      "12/12 [==============================] - 3s 278ms/step - loss: 276345344.0000 - mae: 276345344.0000 - lr: 1122.0184\n",
      "Epoch 223/500\n",
      "12/12 [==============================] - 3s 280ms/step - loss: 310064448.0000 - mae: 310064448.0000 - lr: 1258.9254\n",
      "Epoch 224/500\n",
      "12/12 [==============================] - 4s 294ms/step - loss: 347899264.0000 - mae: 347899264.0000 - lr: 1412.5376\n",
      "Epoch 225/500\n",
      "12/12 [==============================] - 3s 287ms/step - loss: 390348928.0000 - mae: 390348928.0000 - lr: 1584.8932\n",
      "Epoch 226/500\n",
      "12/12 [==============================] - 3s 281ms/step - loss: 437979584.0000 - mae: 437979584.0000 - lr: 1778.2794\n",
      "Epoch 227/500\n",
      "12/12 [==============================] - 4s 310ms/step - loss: 491421920.0000 - mae: 491421920.0000 - lr: 1995.2623\n",
      "Epoch 228/500\n",
      "12/12 [==============================] - 4s 322ms/step - loss: 551382336.0000 - mae: 551382336.0000 - lr: 2238.7212\n",
      "Epoch 229/500\n",
      "12/12 [==============================] - 3s 291ms/step - loss: 618661952.0000 - mae: 618661952.0000 - lr: 2511.8865\n",
      "Epoch 230/500\n",
      "12/12 [==============================] - 3s 281ms/step - loss: 694148160.0000 - mae: 694148160.0000 - lr: 2818.3828\n",
      "Epoch 231/500\n",
      "12/12 [==============================] - 3s 277ms/step - loss: 778850624.0000 - mae: 778850624.0000 - lr: 3162.2776\n",
      "Epoch 232/500\n",
      "12/12 [==============================] - 4s 292ms/step - loss: 873882560.0000 - mae: 873882560.0000 - lr: 3548.1338\n",
      "Epoch 233/500\n",
      "12/12 [==============================] - 3s 276ms/step - loss: 980514880.0000 - mae: 980514880.0000 - lr: 3981.0718\n",
      "Epoch 234/500\n",
      "12/12 [==============================] - 3s 280ms/step - loss: 1100155008.0000 - mae: 1100155008.0000 - lr: 4466.8359\n",
      "Epoch 235/500\n",
      "12/12 [==============================] - 3s 274ms/step - loss: 1234390784.0000 - mae: 1234390784.0000 - lr: 5011.8726\n",
      "Epoch 236/500\n",
      "12/12 [==============================] - 4s 296ms/step - loss: 1385009664.0000 - mae: 1385009664.0000 - lr: 5623.4131\n",
      "Epoch 237/500\n",
      "12/12 [==============================] - 3s 281ms/step - loss: 1553999232.0000 - mae: 1553999232.0000 - lr: 6309.5732\n",
      "Epoch 238/500\n",
      "12/12 [==============================] - 4s 321ms/step - loss: 1743628672.0000 - mae: 1743628672.0000 - lr: 7079.4580\n",
      "Epoch 239/500\n",
      "12/12 [==============================] - 4s 310ms/step - loss: 1956374912.0000 - mae: 1956374912.0000 - lr: 7943.2822\n",
      "Epoch 240/500\n",
      "12/12 [==============================] - 4s 303ms/step - loss: 2195092992.0000 - mae: 2195092992.0000 - lr: 8912.5098\n",
      "Epoch 241/500\n",
      "12/12 [==============================] - 3s 283ms/step - loss: 2462935296.0000 - mae: 2462935296.0000 - lr: 10000.0000\n",
      "Epoch 242/500\n",
      "12/12 [==============================] - 3s 279ms/step - loss: 2763453696.0000 - mae: 2763453696.0000 - lr: 11220.1846\n",
      "Epoch 243/500\n",
      "12/12 [==============================] - 3s 289ms/step - loss: 3100646144.0000 - mae: 3100646144.0000 - lr: 12589.2539\n",
      "Epoch 244/500\n",
      "12/12 [==============================] - 4s 306ms/step - loss: 3478989824.0000 - mae: 3478989824.0000 - lr: 14125.3750\n",
      "Epoch 245/500\n",
      "12/12 [==============================] - 3s 281ms/step - loss: 3903490304.0000 - mae: 3903490304.0000 - lr: 15848.9316\n",
      "Epoch 246/500\n",
      "12/12 [==============================] - 3s 276ms/step - loss: 4379771392.0000 - mae: 4379771392.0000 - lr: 17782.7949\n",
      "Epoch 247/500\n",
      "12/12 [==============================] - 3s 278ms/step - loss: 4914211328.0000 - mae: 4914211328.0000 - lr: 19952.6230\n",
      "Epoch 248/500\n",
      "12/12 [==============================] - 4s 298ms/step - loss: 5513819648.0000 - mae: 5513819648.0000 - lr: 22387.2109\n",
      "Epoch 249/500\n",
      "12/12 [==============================] - 3s 283ms/step - loss: 6186634240.0000 - mae: 6186634240.0000 - lr: 25118.8652\n",
      "Epoch 250/500\n",
      "12/12 [==============================] - 3s 288ms/step - loss: 6941498880.0000 - mae: 6941498880.0000 - lr: 28183.8301\n",
      "Epoch 251/500\n",
      "12/12 [==============================] - 4s 306ms/step - loss: 7788497408.0000 - mae: 7788497408.0000 - lr: 31622.7773\n",
      "Epoch 252/500\n",
      "12/12 [==============================] - 4s 296ms/step - loss: 8738810880.0000 - mae: 8738810880.0000 - lr: 35481.3398\n",
      "Epoch 253/500\n",
      "12/12 [==============================] - 3s 290ms/step - loss: 9805090816.0000 - mae: 9805090816.0000 - lr: 39810.7188\n",
      "Epoch 254/500\n",
      "12/12 [==============================] - 3s 287ms/step - loss: 11001553920.0000 - mae: 11001553920.0000 - lr: 44668.3594\n",
      "Epoch 255/500\n",
      "12/12 [==============================] - 4s 293ms/step - loss: 12343924736.0000 - mae: 12343924736.0000 - lr: 50118.7227\n",
      "Epoch 256/500\n",
      "12/12 [==============================] - 4s 303ms/step - loss: 13850129408.0000 - mae: 13850129408.0000 - lr: 56234.1328\n",
      "Epoch 257/500\n",
      "12/12 [==============================] - 4s 308ms/step - loss: 15540050944.0000 - mae: 15540050944.0000 - lr: 63095.7344\n",
      "Epoch 258/500\n",
      "12/12 [==============================] - 4s 309ms/step - loss: 17436248064.0000 - mae: 17436248064.0000 - lr: 70794.5781\n",
      "Epoch 259/500\n",
      "12/12 [==============================] - 4s 296ms/step - loss: 19563814912.0000 - mae: 19563814912.0000 - lr: 79432.8203\n",
      "Epoch 260/500\n",
      "12/12 [==============================] - 4s 318ms/step - loss: 21950945280.0000 - mae: 21950945280.0000 - lr: 89125.0938\n",
      "Epoch 261/500\n",
      "12/12 [==============================] - 4s 297ms/step - loss: 24629407744.0000 - mae: 24629407744.0000 - lr: 100000.0000\n",
      "Epoch 262/500\n",
      "12/12 [==============================] - 3s 291ms/step - loss: 27634554880.0000 - mae: 27634554880.0000 - lr: 112201.8438\n",
      "Epoch 263/500\n",
      "12/12 [==============================] - 3s 283ms/step - loss: 31006443520.0000 - mae: 31006443520.0000 - lr: 125892.5391\n",
      "Epoch 264/500\n",
      "12/12 [==============================] - 4s 302ms/step - loss: 34789998592.0000 - mae: 34789998592.0000 - lr: 141253.7500\n",
      "Epoch 265/500\n",
      "12/12 [==============================] - 3s 286ms/step - loss: 39034966016.0000 - mae: 39034966016.0000 - lr: 158489.3125\n",
      "Epoch 266/500\n",
      "12/12 [==============================] - 4s 293ms/step - loss: 43797794816.0000 - mae: 43797794816.0000 - lr: 177827.9375\n",
      "Epoch 267/500\n",
      "12/12 [==============================] - 4s 326ms/step - loss: 49141936128.0000 - mae: 49141936128.0000 - lr: 199526.2344\n",
      "Epoch 268/500\n",
      "12/12 [==============================] - 4s 331ms/step - loss: 55138177024.0000 - mae: 55138177024.0000 - lr: 223872.1094\n",
      "Epoch 269/500\n",
      "12/12 [==============================] - 4s 316ms/step - loss: 61866037248.0000 - mae: 61866037248.0000 - lr: 251188.6406\n",
      "Epoch 270/500\n",
      "12/12 [==============================] - 4s 351ms/step - loss: 69415026688.0000 - mae: 69415026688.0000 - lr: 281838.2812\n",
      "Epoch 271/500\n",
      "12/12 [==============================] - 4s 331ms/step - loss: 77884809216.0000 - mae: 77884809216.0000 - lr: 316227.7812\n",
      "Epoch 272/500\n",
      "12/12 [==============================] - 4s 317ms/step - loss: 87388258304.0000 - mae: 87388258304.0000 - lr: 354813.3750\n",
      "Epoch 273/500\n",
      "12/12 [==============================] - 4s 303ms/step - loss: 98050899968.0000 - mae: 98050899968.0000 - lr: 398107.1562\n",
      "Epoch 274/500\n",
      "12/12 [==============================] - 4s 307ms/step - loss: 110015315968.0000 - mae: 110015315968.0000 - lr: 446683.5938\n",
      "Epoch 275/500\n",
      "12/12 [==============================] - 4s 340ms/step - loss: 123439489024.0000 - mae: 123439489024.0000 - lr: 501187.2188\n",
      "Epoch 276/500\n",
      "12/12 [==============================] - 4s 301ms/step - loss: 138501177344.0000 - mae: 138501177344.0000 - lr: 562341.3125\n",
      "Epoch 277/500\n",
      "12/12 [==============================] - 4s 307ms/step - loss: 155400830976.0000 - mae: 155400830976.0000 - lr: 630957.3750\n",
      "Epoch 278/500\n",
      "12/12 [==============================] - 4s 327ms/step - loss: 174362542080.0000 - mae: 174362542080.0000 - lr: 707945.8125\n",
      "Epoch 279/500\n",
      "12/12 [==============================] - 4s 307ms/step - loss: 195638411264.0000 - mae: 195638411264.0000 - lr: 794328.2500\n",
      "Epoch 280/500\n",
      "12/12 [==============================] - 4s 295ms/step - loss: 219509506048.0000 - mae: 219509506048.0000 - lr: 891250.9375\n",
      "Epoch 281/500\n",
      "12/12 [==============================] - 3s 285ms/step - loss: 246293872640.0000 - mae: 246293872640.0000 - lr: 1000000.0000\n",
      "Epoch 282/500\n",
      "12/12 [==============================] - 4s 295ms/step - loss: 276345880576.0000 - mae: 276345880576.0000 - lr: 1122018.5000\n",
      "Epoch 283/500\n",
      "12/12 [==============================] - 4s 295ms/step - loss: 310065594368.0000 - mae: 310065594368.0000 - lr: 1258925.3750\n",
      "Epoch 284/500\n",
      "12/12 [==============================] - 3s 278ms/step - loss: 347899789312.0000 - mae: 347899789312.0000 - lr: 1412537.5000\n",
      "Epoch 285/500\n",
      "12/12 [==============================] - 3s 290ms/step - loss: 390348210176.0000 - mae: 390348210176.0000 - lr: 1584893.2500\n",
      "Epoch 286/500\n",
      "12/12 [==============================] - 4s 298ms/step - loss: 437977907200.0000 - mae: 437977907200.0000 - lr: 1778279.3750\n",
      "Epoch 287/500\n",
      "12/12 [==============================] - 4s 294ms/step - loss: 491420647424.0000 - mae: 491420647424.0000 - lr: 1995262.3750\n",
      "Epoch 288/500\n",
      "12/12 [==============================] - 3s 284ms/step - loss: 551382548480.0000 - mae: 551382548480.0000 - lr: 2238721.2500\n",
      "Epoch 289/500\n",
      "12/12 [==============================] - 3s 287ms/step - loss: 618661675008.0000 - mae: 618661675008.0000 - lr: 2511886.5000\n",
      "Epoch 290/500\n",
      "12/12 [==============================] - 3s 292ms/step - loss: 694150692864.0000 - mae: 694150692864.0000 - lr: 2818383.0000\n",
      "Epoch 291/500\n",
      "12/12 [==============================] - 3s 281ms/step - loss: 778849353728.0000 - mae: 778849353728.0000 - lr: 3162277.7500\n",
      "Epoch 292/500\n",
      "12/12 [==============================] - 3s 280ms/step - loss: 873885401088.0000 - mae: 873885401088.0000 - lr: 3548134.0000\n",
      "Epoch 293/500\n",
      "12/12 [==============================] - 3s 280ms/step - loss: 980511621120.0000 - mae: 980511621120.0000 - lr: 3981071.7500\n",
      "Epoch 294/500\n",
      "12/12 [==============================] - 4s 294ms/step - loss: 1100155977728.0000 - mae: 1100155977728.0000 - lr: 4466836.0000\n",
      "Epoch 295/500\n",
      "12/12 [==============================] - 3s 287ms/step - loss: 1234389958656.0000 - mae: 1234389958656.0000 - lr: 5011872.5000\n",
      "Epoch 296/500\n",
      "12/12 [==============================] - 3s 283ms/step - loss: 1385016590336.0000 - mae: 1385016590336.0000 - lr: 5623413.5000\n",
      "Epoch 297/500\n",
      "12/12 [==============================] - 3s 288ms/step - loss: 1554014666752.0000 - mae: 1554014666752.0000 - lr: 6309573.5000\n",
      "Epoch 298/500\n",
      "12/12 [==============================] - 4s 297ms/step - loss: 1743625781248.0000 - mae: 1743625781248.0000 - lr: 7079458.0000\n",
      "Epoch 299/500\n",
      "12/12 [==============================] - 4s 302ms/step - loss: 1956380672000.0000 - mae: 1956380672000.0000 - lr: 7943282.5000\n",
      "Epoch 300/500\n",
      "12/12 [==============================] - 3s 285ms/step - loss: 2195104595968.0000 - mae: 2195104595968.0000 - lr: 8912509.0000\n",
      "Epoch 301/500\n",
      "12/12 [==============================] - 3s 283ms/step - loss: 2462935154688.0000 - mae: 2462935154688.0000 - lr: 10000000.0000\n",
      "Epoch 302/500\n",
      "12/12 [==============================] - 3s 288ms/step - loss: 2763457560576.0000 - mae: 2763457560576.0000 - lr: 11220185.0000\n",
      "Epoch 303/500\n",
      "12/12 [==============================] - 3s 289ms/step - loss: 3100654174208.0000 - mae: 3100654174208.0000 - lr: 12589254.0000\n",
      "Epoch 304/500\n",
      "12/12 [==============================] - 4s 293ms/step - loss: 3478991142912.0000 - mae: 3478991142912.0000 - lr: 14125375.0000\n",
      "Epoch 305/500\n",
      "12/12 [==============================] - 3s 291ms/step - loss: 3903481708544.0000 - mae: 3903481708544.0000 - lr: 15848932.0000\n",
      "Epoch 306/500\n",
      "12/12 [==============================] - 3s 287ms/step - loss: 4379779268608.0000 - mae: 4379779268608.0000 - lr: 17782794.0000\n",
      "Epoch 307/500\n",
      "12/12 [==============================] - 3s 286ms/step - loss: 4914194939904.0000 - mae: 4914194939904.0000 - lr: 19952624.0000\n",
      "Epoch 308/500\n",
      "12/12 [==============================] - 3s 279ms/step - loss: 5513832562688.0000 - mae: 5513832562688.0000 - lr: 22387212.0000\n",
      "Epoch 309/500\n",
      "12/12 [==============================] - 4s 297ms/step - loss: 6186592632832.0000 - mae: 6186592632832.0000 - lr: 25118864.0000\n",
      "Epoch 310/500\n",
      "12/12 [==============================] - 4s 296ms/step - loss: 6941500243968.0000 - mae: 6941500243968.0000 - lr: 28183830.0000\n",
      "Epoch 311/500\n",
      "12/12 [==============================] - 3s 222ms/step - loss: 7788477022208.0000 - mae: 7788477022208.0000 - lr: 31622776.0000\n",
      "Epoch 312/500\n",
      "12/12 [==============================] - 3s 214ms/step - loss: 8738818228224.0000 - mae: 8738818228224.0000 - lr: 35481340.0000\n",
      "Epoch 313/500\n",
      "12/12 [==============================] - 3s 229ms/step - loss: 9805113589760.0000 - mae: 9805113589760.0000 - lr: 39810716.0000\n",
      "Epoch 314/500\n",
      "12/12 [==============================] - 4s 310ms/step - loss: 11001473794048.0000 - mae: 11001473794048.0000 - lr: 44668360.0000\n",
      "Epoch 315/500\n",
      "12/12 [==============================] - 4s 317ms/step - loss: 12343887003648.0000 - mae: 12343887003648.0000 - lr: 50118724.0000\n",
      "Epoch 316/500\n",
      "12/12 [==============================] - 4s 322ms/step - loss: 13850122387456.0000 - mae: 13850122387456.0000 - lr: 56234132.0000\n",
      "Epoch 317/500\n",
      "12/12 [==============================] - 3s 290ms/step - loss: 15540102889472.0000 - mae: 15540102889472.0000 - lr: 63095736.0000\n",
      "Epoch 318/500\n",
      "12/12 [==============================] - 4s 299ms/step - loss: 17436242870272.0000 - mae: 17436242870272.0000 - lr: 70794576.0000\n",
      "Epoch 319/500\n",
      "12/12 [==============================] - 4s 311ms/step - loss: 19563865440256.0000 - mae: 19563865440256.0000 - lr: 79432824.0000\n",
      "Epoch 320/500\n",
      "12/12 [==============================] - 3s 284ms/step - loss: 21950950801408.0000 - mae: 21950950801408.0000 - lr: 89125096.0000\n",
      "Epoch 321/500\n",
      "12/12 [==============================] - 3s 282ms/step - loss: 24629294923776.0000 - mae: 24629294923776.0000 - lr: 100000000.0000\n",
      "Epoch 322/500\n",
      "12/12 [==============================] - 3s 285ms/step - loss: 27634624888832.0000 - mae: 27634624888832.0000 - lr: 112201848.0000\n",
      "Epoch 323/500\n",
      "12/12 [==============================] - 4s 304ms/step - loss: 31006568480768.0000 - mae: 31006568480768.0000 - lr: 125892544.0000\n",
      "Epoch 324/500\n",
      "12/12 [==============================] - 3s 274ms/step - loss: 34789893603328.0000 - mae: 34789893603328.0000 - lr: 141253760.0000\n",
      "Epoch 325/500\n",
      "12/12 [==============================] - 3s 278ms/step - loss: 39034969653248.0000 - mae: 39034969653248.0000 - lr: 158489312.0000\n",
      "Epoch 326/500\n",
      "12/12 [==============================] - 3s 277ms/step - loss: 43797685731328.0000 - mae: 43797685731328.0000 - lr: 177827936.0000\n",
      "Epoch 327/500\n",
      "12/12 [==============================] - 4s 318ms/step - loss: 49141929476096.0000 - mae: 49141929476096.0000 - lr: 199526224.0000\n",
      "Epoch 328/500\n"
     ]
    },
    {
     "name": "stdout",
     "output_type": "stream",
     "text": [
      "12/12 [==============================] - 4s 296ms/step - loss: 55138311995392.0000 - mae: 55138311995392.0000 - lr: 223872112.0000\n",
      "Epoch 329/500\n",
      "12/12 [==============================] - 3s 285ms/step - loss: 61866252435456.0000 - mae: 61866252435456.0000 - lr: 251188640.0000\n",
      "Epoch 330/500\n",
      "12/12 [==============================] - 3s 280ms/step - loss: 69415043334144.0000 - mae: 69415043334144.0000 - lr: 281838304.0000\n",
      "Epoch 331/500\n",
      "12/12 [==============================] - 4s 308ms/step - loss: 77884752396288.0000 - mae: 77884752396288.0000 - lr: 316227776.0000\n",
      "Epoch 332/500\n",
      "12/12 [==============================] - ETA: 0s - loss: 87388357394432.0000 - mae: 87388357394432.000 - 4s 349ms/step - loss: 87388357394432.0000 - mae: 87388357394432.0000 - lr: 354813376.0000\n",
      "Epoch 333/500\n",
      "12/12 [==============================] - 3s 286ms/step - loss: 98051393847296.0000 - mae: 98051393847296.0000 - lr: 398107168.0000\n",
      "Epoch 334/500\n",
      "12/12 [==============================] - 4s 340ms/step - loss: 110015310462976.0000 - mae: 110015310462976.0000 - lr: 446683584.0000\n",
      "Epoch 335/500\n",
      "12/12 [==============================] - 4s 311ms/step - loss: 123439255912448.0000 - mae: 123439255912448.0000 - lr: 501187232.0000\n",
      "Epoch 336/500\n",
      "12/12 [==============================] - 3s 277ms/step - loss: 138501026742272.0000 - mae: 138501026742272.0000 - lr: 562341312.0000\n",
      "Epoch 337/500\n",
      "12/12 [==============================] - 3s 283ms/step - loss: 155401144238080.0000 - mae: 155401144238080.0000 - lr: 630957376.0000\n",
      "Epoch 338/500\n",
      "12/12 [==============================] - 4s 304ms/step - loss: 174362988642304.0000 - mae: 174362988642304.0000 - lr: 707945792.0000\n",
      "Epoch 339/500\n",
      "12/12 [==============================] - 4s 317ms/step - loss: 195638058811392.0000 - mae: 195638058811392.0000 - lr: 794328256.0000\n",
      "Epoch 340/500\n",
      "12/12 [==============================] - 4s 296ms/step - loss: 219510309126144.0000 - mae: 219510309126144.0000 - lr: 891250944.0000\n",
      "Epoch 341/500\n",
      "12/12 [==============================] - 3s 277ms/step - loss: 246294379495424.0000 - mae: 246294379495424.0000 - lr: 1000000000.0000\n",
      "Epoch 342/500\n",
      "12/12 [==============================] - 3s 246ms/step - loss: 276345477136384.0000 - mae: 276345477136384.0000 - lr: 1122018432.0000\n",
      "Epoch 343/500\n",
      "12/12 [==============================] - 3s 231ms/step - loss: 310064795615232.0000 - mae: 310064795615232.0000 - lr: 1258925440.0000\n",
      "Epoch 344/500\n",
      "12/12 [==============================] - 3s 248ms/step - loss: 347897820348416.0000 - mae: 347897820348416.0000 - lr: 1412537600.0000\n",
      "Epoch 345/500\n",
      "12/12 [==============================] - 3s 248ms/step - loss: 390347565826048.0000 - mae: 390347565826048.0000 - lr: 1584893184.0000\n",
      "Epoch 346/500\n",
      "12/12 [==============================] - 3s 241ms/step - loss: 437979088683008.0000 - mae: 437979088683008.0000 - lr: 1778279424.0000\n",
      "Epoch 347/500\n",
      "12/12 [==============================] - 3s 287ms/step - loss: 491419487698944.0000 - mae: 491419487698944.0000 - lr: 1995262336.0000\n",
      "Epoch 348/500\n",
      "12/12 [==============================] - 3s 263ms/step - loss: 551383640047616.0000 - mae: 551383640047616.0000 - lr: 2238721024.0000\n",
      "Epoch 349/500\n",
      "12/12 [==============================] - 3s 285ms/step - loss: 618660913741824.0000 - mae: 618660913741824.0000 - lr: 2511886336.0000\n",
      "Epoch 350/500\n",
      "12/12 [==============================] - 4s 301ms/step - loss: 694150064242688.0000 - mae: 694150064242688.0000 - lr: 2818382848.0000\n",
      "Epoch 351/500\n",
      "12/12 [==============================] - 4s 292ms/step - loss: 778852657790976.0000 - mae: 778852657790976.0000 - lr: 3162277632.0000\n",
      "Epoch 352/500\n",
      "12/12 [==============================] - 3s 285ms/step - loss: 873883305508864.0000 - mae: 873883305508864.0000 - lr: 3548133888.0000\n",
      "Epoch 353/500\n",
      "12/12 [==============================] - 4s 305ms/step - loss: 980509626728448.0000 - mae: 980509626728448.0000 - lr: 3981071616.0000\n",
      "Epoch 354/500\n",
      "12/12 [==============================] - 3s 286ms/step - loss: 1100155268890624.0000 - mae: 1100155268890624.0000 - lr: 4466835968.0000\n",
      "Epoch 355/500\n",
      "12/12 [==============================] - 4s 315ms/step - loss: 1234400578633728.0000 - mae: 1234400578633728.0000 - lr: 5011872256.0000\n",
      "Epoch 356/500\n",
      "12/12 [==============================] - 3s 289ms/step - loss: 1385008036052992.0000 - mae: 1385008036052992.0000 - lr: 5623413248.0000\n",
      "Epoch 357/500\n",
      "12/12 [==============================] - 3s 287ms/step - loss: 1554009227788288.0000 - mae: 1554009227788288.0000 - lr: 6309573632.0000\n",
      "Epoch 358/500\n",
      "12/12 [==============================] - 4s 305ms/step - loss: 1743623980843008.0000 - mae: 1743623980843008.0000 - lr: 7079457792.0000\n",
      "Epoch 359/500\n",
      "12/12 [==============================] - 4s 333ms/step - loss: 1956388204969984.0000 - mae: 1956388204969984.0000 - lr: 7943282176.0000\n",
      "Epoch 360/500\n",
      "12/12 [==============================] - 3s 278ms/step - loss: 2195103426805760.0000 - mae: 2195103426805760.0000 - lr: 8912508928.0000\n",
      "Epoch 361/500\n",
      "12/12 [==============================] - 3s 273ms/step - loss: 2462935842553856.0000 - mae: 2462935842553856.0000 - lr: 10000000000.0000\n",
      "Epoch 362/500\n",
      "12/12 [==============================] - 4s 295ms/step - loss: 2763467857592320.0000 - mae: 2763467857592320.0000 - lr: 11220184064.0000\n",
      "Epoch 363/500\n",
      "12/12 [==============================] - 3s 289ms/step - loss: 3100643728293888.0000 - mae: 3100643728293888.0000 - lr: 12589253632.0000\n",
      "Epoch 364/500\n",
      "12/12 [==============================] - 4s 316ms/step - loss: 3478992497672192.0000 - mae: 3478992497672192.0000 - lr: 14125375488.0000\n",
      "Epoch 365/500\n",
      "12/12 [==============================] - 4s 321ms/step - loss: 3903484248195072.0000 - mae: 3903484248195072.0000 - lr: 15848932352.0000\n",
      "Epoch 366/500\n",
      "12/12 [==============================] - 4s 295ms/step - loss: 4379786994515968.0000 - mae: 4379786994515968.0000 - lr: 17782794240.0000\n",
      "Epoch 367/500\n",
      "12/12 [==============================] - 4s 334ms/step - loss: 4914190984675328.0000 - mae: 4914190984675328.0000 - lr: 19952623616.0000\n",
      "Epoch 368/500\n",
      "12/12 [==============================] - 4s 315ms/step - loss: 5513836601802752.0000 - mae: 5513836601802752.0000 - lr: 22387212288.0000\n",
      "Epoch 369/500\n",
      "12/12 [==============================] - 3s 288ms/step - loss: 6186588467888128.0000 - mae: 6186588467888128.0000 - lr: 25118863360.0000\n",
      "Epoch 370/500\n",
      "12/12 [==============================] - 3s 288ms/step - loss: 6941506816442368.0000 - mae: 6941506816442368.0000 - lr: 28183828480.0000\n",
      "Epoch 371/500\n",
      "12/12 [==============================] - 4s 295ms/step - loss: 7788483494019072.0000 - mae: 7788483494019072.0000 - lr: 31622776832.0000\n",
      "Epoch 372/500\n",
      "12/12 [==============================] - 3s 273ms/step - loss: 8738806211543040.0000 - mae: 8738806211543040.0000 - lr: 35481337856.0000\n",
      "Epoch 373/500\n",
      "12/12 [==============================] - 3s 278ms/step - loss: 9805122573959168.0000 - mae: 9805122573959168.0000 - lr: 39810715648.0000\n",
      "Epoch 374/500\n",
      "12/12 [==============================] - 3s 289ms/step - loss: 11001541548834816.0000 - mae: 11001541548834816.0000 - lr: 44668358656.0000\n",
      "Epoch 375/500\n",
      "12/12 [==============================] - 3s 291ms/step - loss: 12343886332559360.0000 - mae: 12343886332559360.0000 - lr: 50118721536.0000\n",
      "Epoch 376/500\n",
      "12/12 [==============================] - 3s 285ms/step - loss: 13850113109655552.0000 - mae: 13850113109655552.0000 - lr: 56234131456.0000\n",
      "Epoch 377/500\n",
      "12/12 [==============================] - 3s 280ms/step - loss: 15540053891612672.0000 - mae: 15540053891612672.0000 - lr: 63095734272.0000\n",
      "Epoch 378/500\n",
      "12/12 [==============================] - 3s 284ms/step - loss: 17436252961767424.0000 - mae: 17436252961767424.0000 - lr: 70794575872.0000\n",
      "Epoch 379/500\n",
      "12/12 [==============================] - 4s 294ms/step - loss: 19563767159324672.0000 - mae: 19563767159324672.0000 - lr: 79432826880.0000\n",
      "Epoch 380/500\n",
      "12/12 [==============================] - 3s 279ms/step - loss: 21950948637147136.0000 - mae: 21950948637147136.0000 - lr: 89125093376.0000\n",
      "Epoch 381/500\n",
      "12/12 [==============================] - 4s 300ms/step - loss: 24629395469631488.0000 - mae: 24629395469631488.0000 - lr: 99999997952.0000\n",
      "Epoch 382/500\n",
      "12/12 [==============================] - 4s 336ms/step - loss: 27634609856446464.0000 - mae: 27634609856446464.0000 - lr: 112201842688.0000\n",
      "Epoch 383/500\n",
      "12/12 [==============================] - 4s 358ms/step - loss: 31006539288412160.0000 - mae: 31006539288412160.0000 - lr: 125892542464.0000\n",
      "Epoch 384/500\n",
      "12/12 [==============================] - 4s 365ms/step - loss: 34789814918184960.0000 - mae: 34789814918184960.0000 - lr: 141253754880.0000\n",
      "Epoch 385/500\n",
      "12/12 [==============================] - 4s 343ms/step - loss: 39034702895513600.0000 - mae: 39034702895513600.0000 - lr: 158489313280.0000\n",
      "Epoch 386/500\n",
      "12/12 [==============================] - 5s 389ms/step - loss: 43797868871417856.0000 - mae: 43797868871417856.0000 - lr: 177827938304.0000\n",
      "Epoch 387/500\n",
      "12/12 [==============================] - 4s 375ms/step - loss: 49141959238877184.0000 - mae: 49141959238877184.0000 - lr: 199526236160.0000\n",
      "Epoch 388/500\n",
      "12/12 [==============================] - 4s 368ms/step - loss: 55138193145593856.0000 - mae: 55138193145593856.0000 - lr: 223872106496.0000\n",
      "Epoch 389/500\n",
      "12/12 [==============================] - 5s 384ms/step - loss: 61866087616086016.0000 - mae: 61866087616086016.0000 - lr: 251188641792.0000\n",
      "Epoch 390/500\n",
      "12/12 [==============================] - 4s 347ms/step - loss: 69414969380175872.0000 - mae: 69414969380175872.0000 - lr: 281838288896.0000\n",
      "Epoch 391/500\n",
      "12/12 [==============================] - 4s 347ms/step - loss: 77885057204748288.0000 - mae: 77885057204748288.0000 - lr: 316227780608.0000\n",
      "Epoch 392/500\n",
      "12/12 [==============================] - 4s 349ms/step - loss: 87388041714335744.0000 - mae: 87388041714335744.0000 - lr: 354813378560.0000\n",
      "Epoch 393/500\n",
      "12/12 [==============================] - 4s 371ms/step - loss: 98051088300638208.0000 - mae: 98051088300638208.0000 - lr: 398107181056.0000\n",
      "Epoch 394/500\n",
      "12/12 [==============================] - 4s 338ms/step - loss: 110015475617890304.0000 - mae: 110015475617890304.0000 - lr: 446683578368.0000\n",
      "Epoch 395/500\n",
      "12/12 [==============================] - 5s 384ms/step - loss: 123438700116836352.0000 - mae: 123438700116836352.0000 - lr: 501187248128.0000\n",
      "Epoch 396/500\n",
      "12/12 [==============================] - 4s 339ms/step - loss: 138500592078159872.0000 - mae: 138500592078159872.0000 - lr: 562341347328.0000\n",
      "Epoch 397/500\n",
      "12/12 [==============================] - 4s 328ms/step - loss: 155400919020732416.0000 - mae: 155400919020732416.0000 - lr: 630957342720.0000\n",
      "Epoch 398/500\n",
      "12/12 [==============================] - 4s 317ms/step - loss: 174362787315712000.0000 - mae: 174362787315712000.0000 - lr: 707945758720.0000\n",
      "Epoch 399/500\n",
      "12/12 [==============================] - 4s 350ms/step - loss: 195638869889122304.0000 - mae: 195638869889122304.0000 - lr: 794328236032.0000\n",
      "Epoch 400/500\n",
      "12/12 [==============================] - 4s 312ms/step - loss: 219509610925522944.0000 - mae: 219509610925522944.0000 - lr: 891250933760.0000\n",
      "Epoch 401/500\n",
      "12/12 [==============================] - 4s 330ms/step - loss: 246294126495006720.0000 - mae: 246294126495006720.0000 - lr: 999999995904.0000\n",
      "Epoch 402/500\n",
      "12/12 [==============================] - 4s 334ms/step - loss: 276347283975438336.0000 - mae: 276347283975438336.0000 - lr: 1122018394112.0000\n",
      "Epoch 403/500\n",
      "12/12 [==============================] - 4s 323ms/step - loss: 310065027811901440.0000 - mae: 310065027811901440.0000 - lr: 1258925457408.0000\n",
      "Epoch 404/500\n",
      "12/12 [==============================] - 4s 315ms/step - loss: 347898604448382976.0000 - mae: 347898604448382976.0000 - lr: 1412537516032.0000\n",
      "Epoch 405/500\n",
      "12/12 [==============================] - 4s 313ms/step - loss: 390348377574866944.0000 - mae: 390348377574866944.0000 - lr: 1584893132800.0000\n",
      "Epoch 406/500\n",
      "12/12 [==============================] - 4s 363ms/step - loss: 437978602814832640.0000 - mae: 437978602814832640.0000 - lr: 1778279383040.0000\n",
      "Epoch 407/500\n",
      "12/12 [==============================] - 4s 356ms/step - loss: 491420709080268800.0000 - mae: 491420709080268800.0000 - lr: 1995262263296.0000\n",
      "Epoch 408/500\n",
      "12/12 [==============================] - 4s 322ms/step - loss: 551382060304957440.0000 - mae: 551382060304957440.0000 - lr: 2238721032192.0000\n",
      "Epoch 409/500\n",
      "12/12 [==============================] - 4s 325ms/step - loss: 618662276320198656.0000 - mae: 618662276320198656.0000 - lr: 2511886352384.0000\n",
      "Epoch 410/500\n",
      "12/12 [==============================] - 3s 291ms/step - loss: 694150621514694656.0000 - mae: 694150621514694656.0000 - lr: 2818383020032.0000\n",
      "Epoch 411/500\n",
      "12/12 [==============================] - 3s 289ms/step - loss: 778848201225535488.0000 - mae: 778848201225535488.0000 - lr: 3162277675008.0000\n",
      "Epoch 412/500\n",
      "12/12 [==============================] - 4s 297ms/step - loss: 873882289749098496.0000 - mae: 873882289749098496.0000 - lr: 3548133982208.0000\n",
      "Epoch 413/500\n",
      "12/12 [==============================] - 5s 399ms/step - loss: 980511484301803520.0000 - mae: 980511484301803520.0000 - lr: 3981071613952.0000\n",
      "Epoch 414/500\n",
      "12/12 [==============================] - 5s 419ms/step - loss: 1100144946473598976.0000 - mae: 1100144946473598976.0000 - lr: 4466835718144.0000\n",
      "Epoch 415/500\n",
      "12/12 [==============================] - 5s 386ms/step - loss: 1234393941835513856.0000 - mae: 1234393941835513856.0000 - lr: 5011872415744.0000\n",
      "Epoch 416/500\n",
      "12/12 [==============================] - 5s 392ms/step - loss: 1385011504239083520.0000 - mae: 1385011504239083520.0000 - lr: 5623413473280.0000\n",
      "Epoch 417/500\n",
      "12/12 [==============================] - 4s 326ms/step - loss: 1554010427157905408.0000 - mae: 1554010427157905408.0000 - lr: 6309573296128.0000\n",
      "Epoch 418/500\n",
      "12/12 [==============================] - 4s 321ms/step - loss: 1743622581757411328.0000 - mae: 1743622581757411328.0000 - lr: 7079457718272.0000\n",
      "Epoch 419/500\n",
      "12/12 [==============================] - 4s 316ms/step - loss: 1956378768926834688.0000 - mae: 1956378768926834688.0000 - lr: 7943282491392.0000\n",
      "Epoch 420/500\n",
      "12/12 [==============================] - 4s 364ms/step - loss: 2195090989654212608.0000 - mae: 2195090989654212608.0000 - lr: 8912509075456.0000\n",
      "Epoch 421/500\n",
      "12/12 [==============================] - 4s 351ms/step - loss: 2462941780346142720.0000 - mae: 2462941780346142720.0000 - lr: 9999999827968.0000\n",
      "Epoch 422/500\n",
      "12/12 [==============================] - 4s 369ms/step - loss: 2763448478699880448.0000 - mae: 2763448478699880448.0000 - lr: 11220184727552.0000\n",
      "Epoch 423/500\n",
      "12/12 [==============================] - 4s 372ms/step - loss: 3100665121525989376.0000 - mae: 3100665121525989376.0000 - lr: 12589253787648.0000\n",
      "Epoch 424/500\n",
      "12/12 [==============================] - 4s 343ms/step - loss: 3478994703137898496.0000 - mae: 3478994703137898496.0000 - lr: 14125375684608.0000\n",
      "Epoch 425/500\n",
      "12/12 [==============================] - 4s 350ms/step - loss: 3903477659715239936.0000 - mae: 3903477659715239936.0000 - lr: 15848931590144.0000\n",
      "Epoch 426/500\n",
      "12/12 [==============================] - 4s 326ms/step - loss: 4379794068327104512.0000 - mae: 4379794068327104512.0000 - lr: 17782794092544.0000\n",
      "Epoch 427/500\n",
      "12/12 [==============================] - 4s 327ms/step - loss: 4914191354042515456.0000 - mae: 4914191354042515456.0000 - lr: 19952622895104.0000\n",
      "Epoch 428/500\n",
      "12/12 [==============================] - 4s 304ms/step - loss: 5513850152424570880.0000 - mae: 5513850152424570880.0000 - lr: 22387210846208.0000\n",
      "Epoch 429/500\n",
      "12/12 [==============================] - 4s 308ms/step - loss: 6186636919414194176.0000 - mae: 6186636919414194176.0000 - lr: 25118864572416.0000\n",
      "Epoch 430/500\n",
      "12/12 [==============================] - 4s 321ms/step - loss: 6941508826487062528.0000 - mae: 6941508826487062528.0000 - lr: 28183829151744.0000\n",
      "Epoch 431/500\n",
      "12/12 [==============================] - 4s 299ms/step - loss: 7788500016758259712.0000 - mae: 7788500016758259712.0000 - lr: 31622776750080.0000\n",
      "Epoch 432/500\n",
      "12/12 [==============================] - 4s 305ms/step - loss: 8738816162982264832.0000 - mae: 8738816162982264832.0000 - lr: 35481337200640.0000\n",
      "Epoch 433/500\n",
      "12/12 [==============================] - 4s 327ms/step - loss: 9805145629343612928.0000 - mae: 9805145629343612928.0000 - lr: 39810718760960.0000\n",
      "Epoch 434/500\n"
     ]
    },
    {
     "name": "stdout",
     "output_type": "stream",
     "text": [
      "12/12 [==============================] - 4s 317ms/step - loss: 11001514335922028544.0000 - mae: 11001514335922028544.0000 - lr: 44668360327168.0000\n",
      "Epoch 435/500\n",
      "12/12 [==============================] - 4s 292ms/step - loss: 12343886092041191424.0000 - mae: 12343886092041191424.0000 - lr: 50118724157440.0000\n",
      "Epoch 436/500\n",
      "12/12 [==============================] - 3s 285ms/step - loss: 13850124663117578240.0000 - mae: 13850124663117578240.0000 - lr: 56234132635648.0000\n",
      "Epoch 437/500\n",
      "12/12 [==============================] - 4s 295ms/step - loss: 15540133408637190144.0000 - mae: 15540133408637190144.0000 - lr: 63095732961280.0000\n",
      "Epoch 438/500\n",
      "12/12 [==============================] - 4s 299ms/step - loss: 17436270897550852096.0000 - mae: 17436270897550852096.0000 - lr: 70794575085568.0000\n",
      "Epoch 439/500\n",
      "12/12 [==============================] - 4s 304ms/step - loss: 19563863280692756480.0000 - mae: 19563863280692756480.0000 - lr: 79432819671040.0000\n",
      "Epoch 440/500\n",
      "12/12 [==============================] - 3s 276ms/step - loss: 21950922815803752448.0000 - mae: 21950922815803752448.0000 - lr: 89125092851712.0000\n",
      "Epoch 441/500\n",
      "12/12 [==============================] - 3s 274ms/step - loss: 24629407907856777216.0000 - mae: 24629407907856777216.0000 - lr: 100000000376832.0000\n",
      "Epoch 442/500\n",
      "12/12 [==============================] - 3s 226ms/step - loss: 27634544710382518272.0000 - mae: 27634544710382518272.0000 - lr: 112201843081216.0000\n",
      "Epoch 443/500\n",
      "12/12 [==============================] - 3s 231ms/step - loss: 31006485189004099584.0000 - mae: 31006485189004099584.0000 - lr: 125892537876480.0000\n",
      "Epoch 444/500\n",
      "12/12 [==============================] - 3s 241ms/step - loss: 34789904700181315584.0000 - mae: 34789904700181315584.0000 - lr: 141253756846080.0000\n",
      "Epoch 445/500\n",
      "12/12 [==============================] - 3s 263ms/step - loss: 39034866207350063104.0000 - mae: 39034866207350063104.0000 - lr: 158489326387200.0000\n",
      "Epoch 446/500\n",
      "12/12 [==============================] - 3s 278ms/step - loss: 43797836229666406400.0000 - mae: 43797836229666406400.0000 - lr: 177827936731136.0000\n",
      "Epoch 447/500\n",
      "12/12 [==============================] - 3s 249ms/step - loss: 49141955321867010048.0000 - mae: 49141955321867010048.0000 - lr: 199526228951040.0000\n",
      "Epoch 448/500\n",
      "12/12 [==============================] - 3s 258ms/step - loss: 55138300313617825792.0000 - mae: 55138300313617825792.0000 - lr: 223872116850688.0000\n",
      "Epoch 449/500\n",
      "12/12 [==============================] - 3s 258ms/step - loss: 61866352701467525120.0000 - mae: 61866352701467525120.0000 - lr: 251188645724160.0000\n",
      "Epoch 450/500\n",
      "12/12 [==============================] - 3s 269ms/step - loss: 69414851869870653440.0000 - mae: 69414851869870653440.0000 - lr: 281838304100352.0000\n",
      "Epoch 451/500\n",
      "12/12 [==============================] - 3s 255ms/step - loss: 77884697801884958720.0000 - mae: 77884697801884958720.0000 - lr: 316227771695104.0000\n",
      "Epoch 452/500\n",
      "12/12 [==============================] - 3s 259ms/step - loss: 87388427711636570112.0000 - mae: 87388427711636570112.0000 - lr: 354813388783616.0000\n",
      "Epoch 453/500\n",
      "12/12 [==============================] - 3s 269ms/step - loss: 98051280371575685120.0000 - mae: 98051280371575685120.0000 - lr: 398107162443776.0000\n",
      "Epoch 454/500\n",
      "12/12 [==============================] - 3s 266ms/step - loss: 110014934452011008000.0000 - mae: 110014934452011008000.0000 - lr: 446683578105856.0000\n",
      "Epoch 455/500\n",
      "12/12 [==============================] - 3s 278ms/step - loss: 123439628379528101888.0000 - mae: 123439628379528101888.0000 - lr: 501187249963008.0000\n",
      "Epoch 456/500\n",
      "12/12 [==============================] - 3s 283ms/step - loss: 138500694676338638848.0000 - mae: 138500694676338638848.0000 - lr: 562341309579264.0000\n",
      "Epoch 457/500\n",
      "12/12 [==============================] - 4s 304ms/step - loss: 155400786529581268992.0000 - mae: 155400786529581268992.0000 - lr: 630957338001408.0000\n",
      "Epoch 458/500\n",
      "12/12 [==============================] - 4s 310ms/step - loss: 174362348335694610432.0000 - mae: 174362348335694610432.0000 - lr: 707945767632896.0000\n",
      "Epoch 459/500\n",
      "12/12 [==============================] - 4s 309ms/step - loss: 195638285361253187584.0000 - mae: 195638285361253187584.0000 - lr: 794328230264832.0000\n",
      "Epoch 460/500\n",
      "12/12 [==============================] - 4s 296ms/step - loss: 219508981867432902656.0000 - mae: 219508981867432902656.0000 - lr: 891250945294336.0000\n",
      "Epoch 461/500\n",
      "12/12 [==============================] - 4s 296ms/step - loss: 246293542516893417472.0000 - mae: 246293542516893417472.0000 - lr: 999999986991104.0000\n",
      "Epoch 462/500\n",
      "12/12 [==============================] - 4s 302ms/step - loss: 276346203567825092608.0000 - mae: 276346203567825092608.0000 - lr: 1122018464366592.0000\n",
      "Epoch 463/500\n",
      "12/12 [==============================] - 4s 309ms/step - loss: 310064108620180619264.0000 - mae: 310064108620180619264.0000 - lr: 1258925378764800.0000\n",
      "Epoch 464/500\n",
      "12/12 [==============================] - 4s 295ms/step - loss: 347898286139766734848.0000 - mae: 347898286139766734848.0000 - lr: 1412537568460800.0000\n",
      "Epoch 465/500\n",
      "12/12 [==============================] - 3s 290ms/step - loss: 390346788505686900736.0000 - mae: 390346788505686900736.0000 - lr: 1584893129654272.0000\n",
      "Epoch 466/500\n",
      "12/12 [==============================] - 4s 323ms/step - loss: 437978969227082596352.0000 - mae: 437978969227082596352.0000 - lr: 1778279400865792.0000\n",
      "Epoch 467/500\n",
      "12/12 [==============================] - 4s 347ms/step - loss: 491420969389646675968.0000 - mae: 491420969389646675968.0000 - lr: 1995262356619264.0000\n",
      "Epoch 468/500\n",
      "12/12 [==============================] - 4s 309ms/step - loss: 551381507800364482560.0000 - mae: 551381507800364482560.0000 - lr: 2238721101398016.0000\n",
      "Epoch 469/500\n",
      "12/12 [==============================] - 4s 314ms/step - loss: 618660606711791878144.0000 - mae: 618660606711791878144.0000 - lr: 2511886390132736.0000\n",
      "Epoch 470/500\n",
      "12/12 [==============================] - 4s 331ms/step - loss: 694150647353217908736.0000 - mae: 694150647353217908736.0000 - lr: 2818383041003520.0000\n",
      "Epoch 471/500\n",
      "12/12 [==============================] - 4s 294ms/step - loss: 778851182551314202624.0000 - mae: 778851182551314202624.0000 - lr: 3162277582733312.0000\n",
      "Epoch 472/500\n",
      "12/12 [==============================] - 4s 299ms/step - loss: 873882412344644993024.0000 - mae: 873882412344644993024.0000 - lr: 3548133954945024.0000\n",
      "Epoch 473/500\n",
      "12/12 [==============================] - 4s 311ms/step - loss: 980515055515570536448.0000 - mae: 980515055515570536448.0000 - lr: 3981071758655488.0000\n",
      "Epoch 474/500\n",
      "12/12 [==============================] - 4s 312ms/step - loss: 1100156135103923224576.0000 - mae: 1100156135103923224576.0000 - lr: 4466836049494016.0000\n",
      "Epoch 475/500\n",
      "12/12 [==============================] - 4s 292ms/step - loss: 1234394155140769644544.0000 - mae: 1234394155140769644544.0000 - lr: 5011872499630080.0000\n",
      "Epoch 476/500\n",
      "12/12 [==============================] - 4s 298ms/step - loss: 1385009585591293050880.0000 - mae: 1385009585591293050880.0000 - lr: 5623413028683776.0000\n",
      "Epoch 477/500\n",
      "12/12 [==============================] - 4s 299ms/step - loss: 1554005332021022294016.0000 - mae: 1554005332021022294016.0000 - lr: 6309573245796352.0000\n",
      "Epoch 478/500\n",
      "12/12 [==============================] - 4s 320ms/step - loss: 1743626157369224855552.0000 - mae: 1743626157369224855552.0000 - lr: 7079457944764416.0000\n",
      "Epoch 479/500\n",
      "12/12 [==============================] - 4s 297ms/step - loss: 1956382959165648142336.0000 - mae: 1956382959165648142336.0000 - lr: 7943282168430592.0000\n",
      "Epoch 480/500\n",
      "12/12 [==============================] - 4s 308ms/step - loss: 2195096116676932927488.0000 - mae: 2195096116676932927488.0000 - lr: 8912509184507904.0000\n",
      "Epoch 481/500\n",
      "12/12 [==============================] - 4s 303ms/step - loss: 2462937289940654882816.0000 - mae: 2462937289940654882816.0000 - lr: 10000000272564224.0000\n",
      "Epoch 482/500\n",
      "12/12 [==============================] - 4s 307ms/step - loss: 2763457989475460710400.0000 - mae: 2763457989475460710400.0000 - lr: 11220184375230464.0000\n",
      "Epoch 483/500\n",
      "12/12 [==============================] - 4s 296ms/step - loss: 3100656285850548568064.0000 - mae: 3100656285850548568064.0000 - lr: 12589254592954368.0000\n",
      "Epoch 484/500\n",
      "12/12 [==============================] - 4s 302ms/step - loss: 3479002283171060383744.0000 - mae: 3479002283171060383744.0000 - lr: 14125375416172544.0000\n",
      "Epoch 485/500\n",
      "12/12 [==============================] - 4s 313ms/step - loss: 3903496384398260961280.0000 - mae: 3903496384398260961280.0000 - lr: 15848931833413632.0000\n",
      "Epoch 486/500\n",
      "12/12 [==============================] - 4s 306ms/step - loss: 4379779629540408557568.0000 - mae: 4379779629540408557568.0000 - lr: 17782794545528832.0000\n",
      "Epoch 487/500\n",
      "12/12 [==============================] - 4s 295ms/step - loss: 4914201249647165440000.0000 - mae: 4914201249647165440000.0000 - lr: 19952622760886272.0000\n",
      "Epoch 488/500\n",
      "12/12 [==============================] - 4s 297ms/step - loss: 5513825703684015652864.0000 - mae: 5513825703684015652864.0000 - lr: 22387212087721984.0000\n",
      "Epoch 489/500\n",
      "12/12 [==============================] - 4s 333ms/step - loss: 6186590304519222984704.0000 - mae: 6186590304519222984704.0000 - lr: 25118864975069184.0000\n",
      "Epoch 490/500\n",
      "12/12 [==============================] - 4s 316ms/step - loss: 6941493807158227107840.0000 - mae: 6941493807158227107840.0000 - lr: 28183828799422464.0000\n",
      "Epoch 491/500\n",
      "12/12 [==============================] - 4s 304ms/step - loss: 7788470026479100493824.0000 - mae: 7788470026479100493824.0000 - lr: 31622776901074944.0000\n",
      "Epoch 492/500\n",
      "12/12 [==============================] - 4s 323ms/step - loss: 8738800479548406235136.0000 - mae: 8738800479548406235136.0000 - lr: 35481339012579328.0000\n",
      "Epoch 493/500\n",
      "12/12 [==============================] - 4s 335ms/step - loss: 9805107630221756989440.0000 - mae: 9805107630221756989440.0000 - lr: 39810717586554880.0000\n",
      "Epoch 494/500\n",
      "12/12 [==============================] - 4s 315ms/step - loss: 11001508011531145576448.0000 - mae: 11001508011531145576448.0000 - lr: 44668359958069248.0000\n",
      "Epoch 495/500\n",
      "12/12 [==============================] - 4s 296ms/step - loss: 12343880189862773522432.0000 - mae: 12343880189862773522432.0000 - lr: 50118724996300800.0000\n",
      "Epoch 496/500\n",
      "12/12 [==============================] - 4s 312ms/step - loss: 13850073056439816945664.0000 - mae: 13850073056439816945664.0000 - lr: 56234131360579584.0000\n",
      "Epoch 497/500\n",
      "12/12 [==============================] - 4s 326ms/step - loss: 15540126503704167710720.0000 - mae: 15540126503704167710720.0000 - lr: 63095732457963520.0000\n",
      "Epoch 498/500\n",
      "12/12 [==============================] - 4s 300ms/step - loss: 17436261292217271844864.0000 - mae: 17436260166317365002240.0000 - lr: 70794577300160512.0000\n",
      "Epoch 499/500\n",
      "12/12 [==============================] - 4s 297ms/step - loss: 19563814673482715758592.0000 - mae: 19563814673482715758592.0000 - lr: 79432825979273216.0000\n",
      "Epoch 500/500\n",
      "12/12 [==============================] - 4s 326ms/step - loss: 21950943152370819792896.0000 - mae: 21950943152370819792896.0000 - lr: 89125089697595392.0000\n"
     ]
    }
   ],
   "source": [
    "history = model.fit(train_set, epochs=500, callbacks=[lr_schedule])"
   ]
  },
  {
   "cell_type": "code",
   "execution_count": 168,
   "metadata": {},
   "outputs": [
    {
     "data": {
      "text/plain": [
       "[1e-08, 0.0001, 0, 60]"
      ]
     },
     "execution_count": 168,
     "metadata": {},
     "output_type": "execute_result"
    },
    {
     "data": {
      "image/png": "[encoded data removed]",
      "text/plain": [
       "<Figure size 432x288 with 1 Axes>"
      ]
     },
     "metadata": {
      "needs_background": "light"
     },
     "output_type": "display_data"
    }
   ],
   "source": [
    "plt.semilogx(history.history[\"lr\"], history.history[\"loss\"])\n",
    "plt.axis([1e-8, 1e-4, 0, 60])"
   ]
  },
  {
   "cell_type": "code",
   "execution_count": 169,
   "metadata": {},
   "outputs": [],
   "source": [
    "rnn_forecast = model_forecast(model, series[..., np.newaxis], window_size)\n",
    "rnn_forecast = rnn_forecast[split_time - window_size:-1, -1, 0]"
   ]
  },
  {
   "cell_type": "code",
   "execution_count": 170,
   "metadata": {},
   "outputs": [
    {
     "data": {
      "image/png": "[encoded data removed]",
      "text/plain": [
       "<Figure size 360x216 with 1 Axes>"
      ]
     },
     "metadata": {
      "needs_background": "light"
     },
     "output_type": "display_data"
    }
   ],
   "source": [
    "plt.figure(figsize=(5, 3))\n",
    "plot_series(time_valid, x_valid)\n",
    "plot_series(time_valid, rnn_forecast)"
   ]
  },
  {
   "cell_type": "code",
   "execution_count": 171,
   "metadata": {},
   "outputs": [
    {
     "data": {
      "text/plain": [
       "6.4868053e+21"
      ]
     },
     "execution_count": 171,
     "metadata": {},
     "output_type": "execute_result"
    }
   ],
   "source": [
    "tf.keras.metrics.mean_absolute_error(x_valid, rnn_forecast).numpy()"
   ]
  },
  {
   "cell_type": "code",
   "execution_count": 172,
   "metadata": {},
   "outputs": [
    {
     "data": {
      "text/plain": [
       "<Figure size 432x288 with 0 Axes>"
      ]
     },
     "execution_count": 172,
     "metadata": {},
     "output_type": "execute_result"
    },
    {
     "data": {
      "image/png": "[encoded data removed]",
      "text/plain": [
       "<Figure size 432x288 with 1 Axes>"
      ]
     },
     "metadata": {
      "needs_background": "light"
     },
     "output_type": "display_data"
    },
    {
     "data": {
      "image/png": "[encoded data removed]",
      "text/plain": [
       "<Figure size 432x288 with 1 Axes>"
      ]
     },
     "metadata": {
      "needs_background": "light"
     },
     "output_type": "display_data"
    },
    {
     "data": {
      "text/plain": [
       "<Figure size 432x288 with 0 Axes>"
      ]
     },
     "metadata": {},
     "output_type": "display_data"
    }
   ],
   "source": [
    "import matplotlib.image  as mpimg\n",
    "import matplotlib.pyplot as plt\n",
    "\n",
    "#-----------------------------------------------------------\n",
    "# Retrieve a list of list results on training and test data\n",
    "# sets for each training epoch\n",
    "#-----------------------------------------------------------\n",
    "loss=history.history['loss']\n",
    "\n",
    "epochs=range(len(loss)) # Get number of epochs\n",
    "\n",
    "\n",
    "#------------------------------------------------\n",
    "# Plot training and validation loss per epoch\n",
    "#------------------------------------------------\n",
    "plt.plot(epochs, loss, 'r')\n",
    "plt.title('Training loss')\n",
    "plt.xlabel(\"Epochs\")\n",
    "plt.ylabel(\"Loss\")\n",
    "plt.legend([\"Loss\"])\n",
    "\n",
    "plt.figure()\n",
    "\n",
    "zoomed_loss = loss[200:]\n",
    "zoomed_epochs = range(200,500)\n",
    "\n",
    "\n",
    "#------------------------------------------------\n",
    "# Plot training and validation loss per epoch\n",
    "#------------------------------------------------\n",
    "plt.plot(zoomed_epochs, zoomed_loss, 'r')\n",
    "plt.title('Training loss')\n",
    "plt.xlabel(\"Epochs\")\n",
    "plt.ylabel(\"Loss\")\n",
    "plt.legend([\"Loss\"])\n",
    "\n",
    "plt.figure()"
   ]
  },
  {
   "cell_type": "markdown",
   "metadata": {},
   "source": [
    "After 500 epochs, our predictions have improved a little which is a step in the right direction.\n",
    "\n",
    "But look at our training noise. Particularly towards the end of the training is **really noisy** but it's a very regular looking wave. This suggests that **our larger batch size was good, but maybe a little off.** It's not catastrophic because as you can see the fluctuations are really small but it would be very nice if we could **regularize this loss a bit more,** which then brings me to another thing to try.\n",
    "\n",
    "Our training data has 3,000 data points in it. So why are things like our window size and batch size powers of two that aren't necessarily evenly divisible into 3,000? What would happen if I were to change my parameters to suit, and not just the window and batch size, **how about changing the filters too?** So what if I **set that to 60, and the LSTMs to 60 instead of 32 or 64?** My DNN already look good, so I won't change them.\n",
    "\n",
    "So after training this for 500 epochs, our scores improved again albeit slightly. So it shows we're heading in the right direction. What's interesting is that **the noise and the loss function actually increased the bits,** and that made me want to **experiment with the batch size again.** So I reduced it to just 100 and I got these results."
   ]
  },
  {
   "cell_type": "code",
   "execution_count": null,
   "metadata": {},
   "outputs": [],
   "source": [
    "tf.keras.backend.clear_session()\n",
    "tf.random.set_seed(51)\n",
    "np.random.seed(51)\n",
    "\n",
    "train_set = windowed_dataset(x_train, window_size=60, batch_size=100, shuffle_buffer=shuffle_buffer_size)\n",
    "\n",
    "model = tf.keras.models.Sequential([\n",
    "  tf.keras.layers.Conv1D(filters=60,\n",
    "                         kernel_size=5,\n",
    "                         strides=1,\n",
    "                         padding=\"causal\",\n",
    "                         activation=\"relu\",\n",
    "                         input_shape=[None, 1]),\n",
    "  tf.keras.layers.LSTM(60, return_sequences=True),\n",
    "  tf.keras.layers.LSTM(60, return_sequences=True),\n",
    "  tf.keras.layers.Dense(30, activation=\"relu\"),\n",
    "  tf.keras.layers.Dense(10, activation=\"relu\"),\n",
    "  tf.keras.layers.Dense(1),\n",
    "  tf.keras.layers.Lambda(lambda x: x * 400)\n",
    "])\n",
    "\n",
    "\n",
    "optimizer = tf.keras.optimizers.SGD(lr=1e-5, momentum=0.9)\n",
    "\n",
    "model.compile(loss=tf.keras.losses.Huber(),\n",
    "              optimizer=optimizer,\n",
    "              metrics=[\"mae\"])\n",
    "\n",
    "history = model.fit(train_set,epochs=500)"
   ]
  },
  {
   "cell_type": "code",
   "execution_count": 26,
   "metadata": {},
   "outputs": [],
   "source": [
    "rnn_forecast = model_forecast(model, series[..., np.newaxis], window_size)\n",
    "rnn_forecast = rnn_forecast[split_time - window_size:-1, -1, 0]"
   ]
  },
  {
   "cell_type": "code",
   "execution_count": 27,
   "metadata": {},
   "outputs": [
    {
     "data": {
      "image/png": "[encoded data removed]",
      "text/plain": [
       "<Figure size 720x432 with 1 Axes>"
      ]
     },
     "metadata": {
      "needs_background": "light"
     },
     "output_type": "display_data"
    }
   ],
   "source": [
    "plt.figure(figsize=(5, 3))\n",
    "plot_series(time_valid, x_valid)\n",
    "plot_series(time_valid, rnn_forecast)"
   ]
  },
  {
   "cell_type": "markdown",
   "metadata": {},
   "source": [
    "Now here our **MAE has actually gone up a little**. The projections are doing much better in the higher peaks than earlier but the **overall accuracy has gone down,** and the loss has smoothed out except for a couple of large blips."
   ]
  },
  {
   "cell_type": "code",
   "execution_count": 28,
   "metadata": {},
   "outputs": [
    {
     "data": {
      "text/plain": [
       "13.705887"
      ]
     },
     "execution_count": 28,
     "metadata": {},
     "output_type": "execute_result"
    }
   ],
   "source": [
    "tf.keras.metrics.mean_absolute_error(x_valid, rnn_forecast).numpy()"
   ]
  },
  {
   "cell_type": "code",
   "execution_count": 29,
   "metadata": {},
   "outputs": [
    {
     "data": {
      "text/plain": [
       "<Figure size 432x288 with 0 Axes>"
      ]
     },
     "execution_count": 29,
     "metadata": {},
     "output_type": "execute_result"
    },
    {
     "data": {
      "image/png": "[encoded data removed]",
      "text/plain": [
       "<Figure size 432x288 with 1 Axes>"
      ]
     },
     "metadata": {
      "needs_background": "light"
     },
     "output_type": "display_data"
    },
    {
     "data": {
      "image/png": "[encoded data removed]",
      "text/plain": [
       "<Figure size 432x288 with 1 Axes>"
      ]
     },
     "metadata": {
      "needs_background": "light"
     },
     "output_type": "display_data"
    },
    {
     "data": {
      "text/plain": [
       "<Figure size 432x288 with 0 Axes>"
      ]
     },
     "metadata": {},
     "output_type": "display_data"
    }
   ],
   "source": [
    "import matplotlib.image  as mpimg\n",
    "import matplotlib.pyplot as plt\n",
    "\n",
    "#-----------------------------------------------------------\n",
    "# Retrieve a list of list results on training and test data\n",
    "# sets for each training epoch\n",
    "#-----------------------------------------------------------\n",
    "loss=history.history['loss']\n",
    "\n",
    "epochs=range(len(loss)) # Get number of epochs\n",
    "\n",
    "\n",
    "#------------------------------------------------\n",
    "# Plot training and validation loss per epoch\n",
    "#------------------------------------------------\n",
    "plt.plot(epochs, loss, 'r')\n",
    "plt.title('Training loss')\n",
    "plt.xlabel(\"Epochs\")\n",
    "plt.ylabel(\"Loss\")\n",
    "plt.legend([\"Loss\"])\n",
    "\n",
    "plt.figure()\n",
    "\n",
    "zoomed_loss = loss[200:]\n",
    "zoomed_epochs = range(200,500)\n",
    "\n",
    "\n",
    "#------------------------------------------------\n",
    "# Plot training and validation loss per epoch\n",
    "#------------------------------------------------\n",
    "plt.plot(zoomed_epochs, zoomed_loss, 'r')\n",
    "plt.title('Training loss')\n",
    "plt.xlabel(\"Epochs\")\n",
    "plt.ylabel(\"Loss\")\n",
    "plt.legend([\"Loss\"])\n",
    "\n",
    "plt.figure()"
   ]
  },
  {
   "cell_type": "code",
   "execution_count": null,
   "metadata": {},
   "outputs": [],
   "source": [
    "print(rnn_forecast)"
   ]
  },
  {
   "cell_type": "markdown",
   "metadata": {},
   "source": [
    "Experimenting with hyperparameters like this is a great way to learn the ins and outs of machine learning, not just with sequences but with anything. I thoroughly recommend spending time on it and seeing if you can improve on this model. In addition, you should accompany that work with looking deeper into how all of these things in machine learning work and Andrews courses are terrific for that. I strongly recommend them if you haven't done them already."
   ]
  },
  {
   "cell_type": "markdown",
   "metadata": {},
   "source": [
    "# Sunspots data : only DNN version"
   ]
  },
  {
   "cell_type": "code",
   "execution_count": 31,
   "metadata": {},
   "outputs": [
    {
     "name": "stdout",
     "output_type": "stream",
     "text": [
      "2.2.0\n"
     ]
    }
   ],
   "source": [
    "import tensorflow as tf\n",
    "print(tf.__version__)"
   ]
  },
  {
   "cell_type": "code",
   "execution_count": 32,
   "metadata": {},
   "outputs": [],
   "source": [
    "import numpy as np\n",
    "import matplotlib.pyplot as plt\n",
    "def plot_series(time, series, format=\"-\", start=0, end=None):\n",
    "    plt.plot(time[start:end], series[start:end], format)\n",
    "    plt.xlabel(\"Time\")\n",
    "    plt.ylabel(\"Value\")\n",
    "    plt.grid(True)"
   ]
  },
  {
   "cell_type": "markdown",
   "metadata": {},
   "source": [
    "!wget --no-check-certificate \\\n",
    "    https://storage.googleapis.com/laurencemoroney-blog.appspot.com/Sunspots.csv \\\n",
    "    -O /tmp/sunspots.csv"
   ]
  },
  {
   "cell_type": "code",
   "execution_count": 34,
   "metadata": {},
   "outputs": [
    {
     "data": {
      "image/png": "[encoded data removed]",
      "text/plain": [
       "<Figure size 720x432 with 1 Axes>"
      ]
     },
     "metadata": {
      "needs_background": "light"
     },
     "output_type": "display_data"
    }
   ],
   "source": [
    "import csv\n",
    "time_step = []\n",
    "sunspots = []\n",
    "\n",
    "with open('source/sunspots.csv') as csvfile:\n",
    "    reader = csv.reader(csvfile, delimiter=',')\n",
    "    next(reader)\n",
    "    for row in reader:\n",
    "        sunspots.append(float(row[2]))\n",
    "        time_step.append(int(row[0]))\n",
    "\n",
    "series = np.array(sunspots)\n",
    "time = np.array(time_step)\n",
    "plt.figure(figsize=(10, 6))\n",
    "plot_series(time, series)"
   ]
  },
  {
   "cell_type": "code",
   "execution_count": 35,
   "metadata": {},
   "outputs": [],
   "source": [
    "split_time = 3000\n",
    "time_train = time[:split_time]\n",
    "x_train = series[:split_time]\n",
    "time_valid = time[split_time:]\n",
    "x_valid = series[split_time:]\n",
    "\n",
    "window_size = 60\n",
    "batch_size = 32\n",
    "shuffle_buffer_size = 1000"
   ]
  },
  {
   "cell_type": "code",
   "execution_count": 36,
   "metadata": {},
   "outputs": [],
   "source": [
    "def windowed_dataset(series, window_size, batch_size, shuffle_buffer):\n",
    "    dataset = tf.data.Dataset.from_tensor_slices(series)\n",
    "    dataset = dataset.window(window_size + 1, shift=1, drop_remainder=True)\n",
    "    dataset = dataset.flat_map(lambda window: window.batch(window_size + 1))\n",
    "    dataset = dataset.shuffle(shuffle_buffer).map(lambda window: (window[:-1], window[-1]))\n",
    "    dataset = dataset.batch(batch_size).prefetch(1)\n",
    "    return dataset"
   ]
  },
  {
   "cell_type": "code",
   "execution_count": null,
   "metadata": {},
   "outputs": [],
   "source": [
    "dataset = windowed_dataset(x_train, window_size, batch_size, shuffle_buffer_size)\n",
    "\n",
    "model = tf.keras.models.Sequential([\n",
    "    tf.keras.layers.Dense(20, input_shape=[window_size], activation=\"relu\"), \n",
    "    tf.keras.layers.Dense(10, activation=\"relu\"),\n",
    "    tf.keras.layers.Dense(1)\n",
    "])\n",
    "\n",
    "model.compile(loss=\"mse\", optimizer=tf.keras.optimizers.SGD(lr=1e-7, momentum=0.9))\n",
    "model.fit(dataset,epochs=100,verbose=0)"
   ]
  },
  {
   "cell_type": "code",
   "execution_count": null,
   "metadata": {},
   "outputs": [],
   "source": [
    "forecast=[]\n",
    "for time in range(len(series) - window_size):\n",
    "    forecast.append(model.predict(series[time:time + window_size][np.newaxis]))\n",
    "\n",
    "forecast = forecast[split_time-window_size:]\n",
    "results = np.array(forecast)[:, 0, 0]\n",
    "\n",
    "\n",
    "plt.figure(figsize=(10, 6))\n",
    "\n",
    "plot_series(time_valid, x_valid)\n",
    "plot_series(time_valid, results)"
   ]
  },
  {
   "cell_type": "code",
   "execution_count": null,
   "metadata": {},
   "outputs": [],
   "source": [
    "tf.keras.metrics.mean_absolute_error(x_valid, results).numpy()"
   ]
  }
 ],
 "metadata": {
  "kernelspec": {
   "display_name": "Python 3",
   "language": "python",
   "name": "python3"
  },
  "language_info": {
   "codemirror_mode": {
    "name": "ipython",
    "version": 3
   },
   "file_extension": ".py",
   "mimetype": "text/x-python",
   "name": "python",
   "nbconvert_exporter": "python",
   "pygments_lexer": "ipython3",
   "version": "3.8.5"
  }
 },
 "nbformat": 4,
 "nbformat_minor": 2
}
