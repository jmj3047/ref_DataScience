{
 "cells": [
  {
   "cell_type": "markdown",
   "id": "7b12da0f",
   "metadata": {},
   "source": [
    "# TensorFlow / Keras"
   ]
  },
  {
   "cell_type": "markdown",
   "id": "86027b43",
   "metadata": {},
   "source": [
    "- ML 모델을 개발하고 학습시키는 데 도움이 되는 핵심 오픈소스 라이브러리\n",
    "- 2015년 release : 딥러닝 세계의 관점에서 꽤 오래된 라이브러리\n",
    "- Keras : 사용자가 TensorFlow를 좀 더 쉽고 편하게 사용할 수 있게 해 주는 high level API 제공\n",
    "- TensorFlow 2.x : Keras를 딥러닝의 공식 API로 채택, Keras는 TensorFlow 내 하나의 framework로 개발됨\n",
    "\n",
    "```python\n",
    "pip install --upgrade tensorflow\n",
    "```"
   ]
  },
  {
   "cell_type": "code",
   "execution_count": 1,
   "id": "ccf30e62",
   "metadata": {},
   "outputs": [],
   "source": [
    "import tensorflow as tf\n",
    "from tensorflow import keras\n",
    "\n",
    "import numpy as np\n",
    "import matplotlib.pyplot as plt"
   ]
  },
  {
   "cell_type": "code",
   "execution_count": 2,
   "id": "7c2e0c17",
   "metadata": {},
   "outputs": [
    {
     "name": "stdout",
     "output_type": "stream",
     "text": [
      "2.8.0\n",
      "2.8.0\n"
     ]
    }
   ],
   "source": [
    "print(tf.__version__)\n",
    "print(keras.__version__)"
   ]
  },
  {
   "cell_type": "markdown",
   "id": "ecb45ea6",
   "metadata": {},
   "source": [
    "## 1. MNIST dataset download\n",
    "- 사람의 손글씨 숫자"
   ]
  },
  {
   "cell_type": "code",
   "execution_count": 3,
   "id": "374786f6",
   "metadata": {},
   "outputs": [],
   "source": [
    "mnist = keras.datasets.mnist\n",
    "\n",
    "(x_train, y_train), (x_test, y_test) = mnist.load_data()\n",
    "x_train, x_test = x_train/255.0, x_test/255.0"
   ]
  },
  {
   "cell_type": "code",
   "execution_count": 9,
   "id": "d604fd73",
   "metadata": {},
   "outputs": [],
   "source": [
    "# Model 생성, compile\n",
    "model = tf.keras.models.Sequential([\n",
    "    tf.keras.layers.Flatten(input_shape=(28,28)),\n",
    "    tf.keras.layers.Dense(128, activation='relu'),\n",
    "    tf.keras.layers.Dropout(0.2),\n",
    "    tf.keras.layers.Dense(10, activation='softmax')\n",
    "])\n",
    "\n",
    "model.compile(optimizer='adam',\n",
    "              loss='sparse_categorical_crossentropy',\n",
    "              metrics=['accuracy'])"
   ]
  },
  {
   "cell_type": "markdown",
   "id": "3d32f882",
   "metadata": {},
   "source": [
    "Training / Evaluation\n",
    "- epochs : 현재 6만 장의 train 데이터를 10번 집어 넣어서 학습하겠다"
   ]
  },
  {
   "cell_type": "code",
   "execution_count": 10,
   "id": "fe64ac80",
   "metadata": {},
   "outputs": [
    {
     "name": "stdout",
     "output_type": "stream",
     "text": [
      "Epoch 1/10\n",
      "1875/1875 [==============================] - 4s 2ms/step - loss: 0.2987 - accuracy: 0.9138\n",
      "Epoch 2/10\n",
      "1875/1875 [==============================] - 4s 2ms/step - loss: 0.1456 - accuracy: 0.9559\n",
      "Epoch 3/10\n",
      "1875/1875 [==============================] - 5s 3ms/step - loss: 0.1100 - accuracy: 0.9666\n",
      "Epoch 4/10\n",
      "1875/1875 [==============================] - 5s 3ms/step - loss: 0.0903 - accuracy: 0.9717\n",
      "Epoch 5/10\n",
      "1875/1875 [==============================] - 4s 2ms/step - loss: 0.0771 - accuracy: 0.9757\n",
      "Epoch 6/10\n",
      "1875/1875 [==============================] - 3s 2ms/step - loss: 0.0660 - accuracy: 0.9793\n",
      "Epoch 7/10\n",
      "1875/1875 [==============================] - 4s 2ms/step - loss: 0.0592 - accuracy: 0.9807\n",
      "Epoch 8/10\n",
      "1875/1875 [==============================] - 5s 2ms/step - loss: 0.0537 - accuracy: 0.9821\n",
      "Epoch 9/10\n",
      "1875/1875 [==============================] - 3s 2ms/step - loss: 0.0503 - accuracy: 0.9837\n",
      "Epoch 10/10\n",
      "1875/1875 [==============================] - 3s 2ms/step - loss: 0.0466 - accuracy: 0.9842\n",
      "313/313 [==============================] - 1s 2ms/step - loss: 0.0692 - accuracy: 0.9797\n"
     ]
    },
    {
     "data": {
      "text/plain": [
       "[0.06922704726457596, 0.9797000288963318]"
      ]
     },
     "execution_count": 10,
     "metadata": {},
     "output_type": "execute_result"
    }
   ],
   "source": [
    "model.fit(x_train, y_train, epochs=10)\n",
    "model.evaluate(x_test, y_test)"
   ]
  },
  {
   "cell_type": "code",
   "execution_count": 13,
   "id": "a414df7e",
   "metadata": {},
   "outputs": [],
   "source": [
    "idx = np.random.randint(len(x_train))\n",
    "image = x_train[idx]"
   ]
  },
  {
   "cell_type": "code",
   "execution_count": 17,
   "id": "4158a407",
   "metadata": {},
   "outputs": [
    {
     "data": {
      "image/png": "[encoded data removed]",
      "text/plain": [
       "<Figure size 432x288 with 1 Axes>"
      ]
     },
     "metadata": {
      "needs_background": "light"
     },
     "output_type": "display_data"
    }
   ],
   "source": [
    "plt.imshow(image, cmap='gray')\n",
    "plt.title(y_train[idx])\n",
    "plt.show()"
   ]
  },
  {
   "cell_type": "markdown",
   "id": "db833deb",
   "metadata": {},
   "source": [
    "## 2. 내가 쓴 손글씨 Test 해보기\n",
    "- Colab을 쓰는 경우 아래 코드 실행하면 파일 업로드 가능 ★\n",
    "\n",
    "```python\n",
    "import os\n",
    "import PIL import Image\n",
    "from google.colab import files\n",
    "\n",
    "uploaded = files.upload()\n",
    "\n",
    "for fn in uploaded.keys():\n",
    "    print(\"User uploaded file '{name}' with length {length} bytes\".format(name=fn, length=len(uploaded[fn])))\n",
    "```"
   ]
  },
  {
   "cell_type": "code",
   "execution_count": 19,
   "id": "1e12e34b",
   "metadata": {},
   "outputs": [],
   "source": [
    "# image file의 경로 설정\n",
    "cur_dir = os.getcwd()\n",
    "img_path = os.path.join(cur_dir, 'image.png')\n",
    "\n",
    "# image file 읽기\n",
    "cur_img = Image.open(img_path)\n",
    "\n",
    "# 28×28로 resize\n",
    "cur_img = cur_img.resize((28,28))\n",
    "image = np.asarray(cur_img)\n",
    "\n",
    "# color image일 경우 RGB 평균값으로 gray scale로 변경\n",
    "try:\n",
    "    image = np.mean(image, axis=2)\n",
    "except:\n",
    "    pass\n",
    "\n",
    "# upload한 image는 흰 배경에 검은 글씨로 되어 있으므로,\n",
    "# MNIST data와 같이 검은 배경에 흰 글씨로 변경\n",
    "image = np.abs(255-image)\n",
    "\n",
    "# MNIST와 동일하게 data preprocessing(255로 나눠줌)\n",
    "image = image.astype(np.float32)/255.\n",
    "\n",
    "# 화면에 출력하여 확인\n",
    "plt.imshow(image, cmap='gray')\n",
    "plt.show()"
   ]
  },
  {
   "cell_type": "code",
   "execution_count": null,
   "id": "94b4a98f",
   "metadata": {},
   "outputs": [],
   "source": [
    "# shape를 변경하여 학습된 model에 넣고 결과 확인\n",
    "image = np.reshape(image,(1,28,28))   # 1장의 이미지를 28×28로 변경\n",
    "print(model.predict(image))\n",
    "\n",
    "print(\"Model이 예측한 값은 {} 입니다.\".format(np.argmax(model.predict(image), -1)))"
   ]
  },
  {
   "cell_type": "markdown",
   "id": "50db5345",
   "metadata": {},
   "source": [
    "## 3. Tensor\n",
    "- Tensor는 multi-dimensional array를 의미\n",
    "  - 보통 1차원은 vector, 2차원은 matrix, 3차원 이상은 tensor라고 부르지만, 1차원부터 다 합쳐서 tensor라고 할 수도 있음\n",
    "- TensorFlow의 기본 data type\n",
    "- numpy와 매우 비슷\n",
    "- print하면 숫자, shape, data type까지 출력 (numpy의 array와 차이점)"
   ]
  },
  {
   "cell_type": "code",
   "execution_count": 23,
   "id": "bd006168",
   "metadata": {},
   "outputs": [
    {
     "name": "stdout",
     "output_type": "stream",
     "text": [
      "tf.Tensor([3. 3.], shape=(2,), dtype=float32)\n",
      "tf.Tensor(b'Hello World', shape=(), dtype=string)\n"
     ]
    }
   ],
   "source": [
    "# Hellow World\n",
    "hello = tf.constant([3,3], dtype=tf.float32)\n",
    "print(hello)\n",
    "\n",
    "hello = tf.constant('Hello World')\n",
    "print(hello)"
   ]
  },
  {
   "cell_type": "markdown",
   "id": "969d6560",
   "metadata": {},
   "source": [
    "- 상수형 tensor는 아래와 같이 생성 가능"
   ]
  },
  {
   "cell_type": "code",
   "execution_count": 24,
   "id": "f63aebac",
   "metadata": {},
   "outputs": [
    {
     "name": "stdout",
     "output_type": "stream",
     "text": [
      "tf.Tensor(\n",
      "[[1. 2.]\n",
      " [1. 4.]], shape=(2, 2), dtype=float32)\n",
      "<class 'tensorflow.python.framework.ops.EagerTensor'>\n"
     ]
    }
   ],
   "source": [
    "x = tf.constant([[1.0, 2.0],\n",
    "                [1.0, 4.0]])\n",
    "\n",
    "print(x)\n",
    "print(type(x))"
   ]
  },
  {
   "cell_type": "markdown",
   "id": "e52e0a86",
   "metadata": {},
   "source": [
    "### 3.1 numpy ndarray나 python의 list도 tensor로 변형 가능\n",
    "- 방법1) tf.convert_to_tensor 사용\n",
    "- 방법2) tf.constant 안에 넣기"
   ]
  },
  {
   "cell_type": "code",
   "execution_count": 25,
   "id": "ae4704d8",
   "metadata": {},
   "outputs": [
    {
     "name": "stdout",
     "output_type": "stream",
     "text": [
      "<class 'numpy.ndarray'>\n",
      "<class 'list'>\n"
     ]
    }
   ],
   "source": [
    "x_np = np.array([[1.0, 2.0],\n",
    "                [3.0, 4.0]])\n",
    "\n",
    "x_list = [[1.0, 2.0],\n",
    "         [3.0, 4.0]]\n",
    "\n",
    "print(type(x_np))\n",
    "print(type(x_list))"
   ]
  },
  {
   "cell_type": "code",
   "execution_count": 26,
   "id": "1e57138d",
   "metadata": {},
   "outputs": [
    {
     "name": "stdout",
     "output_type": "stream",
     "text": [
      "<class 'tensorflow.python.framework.ops.EagerTensor'>\n",
      "<class 'tensorflow.python.framework.ops.EagerTensor'>\n"
     ]
    }
   ],
   "source": [
    "x_np = tf.convert_to_tensor(x_np)\n",
    "x_list = tf.convert_to_tensor(x_list)\n",
    "\n",
    "print(type(x_np))\n",
    "print(type(x_list))"
   ]
  },
  {
   "cell_type": "markdown",
   "id": "5d7b6553",
   "metadata": {},
   "source": [
    "### 3.2 tensor를 numpy ndarray로 바꾸기"
   ]
  },
  {
   "cell_type": "code",
   "execution_count": 27,
   "id": "51431ff0",
   "metadata": {},
   "outputs": [
    {
     "data": {
      "text/plain": [
       "array([[1., 2.],\n",
       "       [1., 4.]], dtype=float32)"
      ]
     },
     "execution_count": 27,
     "metadata": {},
     "output_type": "execute_result"
    }
   ],
   "source": [
    "x.numpy()"
   ]
  },
  {
   "cell_type": "code",
   "execution_count": 28,
   "id": "d056bba5",
   "metadata": {},
   "outputs": [
    {
     "name": "stdout",
     "output_type": "stream",
     "text": [
      "<class 'numpy.ndarray'>\n"
     ]
    }
   ],
   "source": [
    "print(type(x.numpy()))"
   ]
  },
  {
   "cell_type": "markdown",
   "id": "ca9dd17f",
   "metadata": {},
   "source": [
    "### 3.3 Numpy와 비슷한 Tensor의 사용 예시"
   ]
  },
  {
   "cell_type": "code",
   "execution_count": 29,
   "id": "a1f5450a",
   "metadata": {},
   "outputs": [
    {
     "name": "stdout",
     "output_type": "stream",
     "text": [
      "tf.Tensor(\n",
      "[[1. 1. 1.]\n",
      " [1. 1. 1.]], shape=(2, 3), dtype=float32)\n",
      "tf.Tensor(\n",
      "[[0. 0. 0.]\n",
      " [0. 0. 0.]], shape=(2, 3), dtype=float32)\n",
      "tf.Tensor(\n",
      "[[2 2 2]\n",
      " [2 2 2]], shape=(2, 3), dtype=int32)\n"
     ]
    }
   ],
   "source": [
    "a = tf.ones((2,3))\n",
    "b = tf.zeros((2,3))\n",
    "c = tf.fill((2,3),2)\n",
    "print(a)\n",
    "print(b)\n",
    "print(c)"
   ]
  },
  {
   "cell_type": "markdown",
   "id": "b5a02b77",
   "metadata": {},
   "source": [
    "- zeros_like, ones_like : 모양 + type까지 가져옴"
   ]
  },
  {
   "cell_type": "code",
   "execution_count": 30,
   "id": "11d8606f",
   "metadata": {},
   "outputs": [
    {
     "name": "stdout",
     "output_type": "stream",
     "text": [
      "tf.Tensor(\n",
      "[[0 0 0]\n",
      " [0 0 0]], shape=(2, 3), dtype=int32)\n",
      "tf.Tensor(\n",
      "[[1 1 1]\n",
      " [1 1 1]], shape=(2, 3), dtype=int32)\n"
     ]
    }
   ],
   "source": [
    "d = tf.zeros_like(c)\n",
    "e = tf.ones_like(c)\n",
    "print(d)\n",
    "print(e)"
   ]
  },
  {
   "cell_type": "code",
   "execution_count": 31,
   "id": "cb6a5154",
   "metadata": {},
   "outputs": [
    {
     "name": "stdout",
     "output_type": "stream",
     "text": [
      "tf.Tensor(\n",
      "[[1. 0. 0.]\n",
      " [0. 1. 0.]\n",
      " [0. 0. 1.]], shape=(3, 3), dtype=float32)\n"
     ]
    }
   ],
   "source": [
    "f = tf.eye(3)\n",
    "print(f)"
   ]
  },
  {
   "cell_type": "code",
   "execution_count": 32,
   "id": "b9c5aeee",
   "metadata": {},
   "outputs": [
    {
     "name": "stdout",
     "output_type": "stream",
     "text": [
      "tf.Tensor([0 1 2 3 4 5 6 7 8 9], shape=(10,), dtype=int32)\n"
     ]
    }
   ],
   "source": [
    "g = tf.range(10)\n",
    "print(g)"
   ]
  },
  {
   "cell_type": "markdown",
   "id": "4d6e9ca2",
   "metadata": {},
   "source": [
    "- tf.random.uniform\n",
    "  - 0~1사이 uniform distribution에서 추출 (default)\n",
    "  - 0~1 말고 최대값, 최소값 직접 정할 수도 있음\n",
    "  - numpy - rand와 같은 역할\n",
    "- tf.random.normal\n",
    "  - normal distribution에서 추출\n",
    "  - numpy - randn와 같은 역할"
   ]
  },
  {
   "cell_type": "code",
   "execution_count": 33,
   "id": "3b4c2992",
   "metadata": {},
   "outputs": [
    {
     "name": "stdout",
     "output_type": "stream",
     "text": [
      "tf.Tensor(\n",
      "[[0.6855347  0.816579  ]\n",
      " [0.2863512  0.49557817]], shape=(2, 2), dtype=float32)\n",
      "tf.Tensor(\n",
      "[[ 0.7230794   1.0355691 ]\n",
      " [-0.95609325 -2.2425907 ]], shape=(2, 2), dtype=float32)\n"
     ]
    }
   ],
   "source": [
    "h = tf.random.uniform((2,2))\n",
    "i = tf.random.normal((2,2))\n",
    "print(h)\n",
    "print(i)"
   ]
  },
  {
   "cell_type": "markdown",
   "id": "f2ae5b01",
   "metadata": {},
   "source": [
    "### 3.4 Tensor의 속성"
   ]
  },
  {
   "cell_type": "code",
   "execution_count": 36,
   "id": "33d33633",
   "metadata": {},
   "outputs": [
    {
     "name": "stdout",
     "output_type": "stream",
     "text": [
      "Shape of tensor: (3, 4)\n",
      "Datatype of tensor: <dtype: 'float32'>\n"
     ]
    }
   ],
   "source": [
    "tensor = tf.random.normal((3,4))\n",
    "\n",
    "print(f\"Shape of tensor: {tensor.shape}\")\n",
    "print(f\"Datatype of tensor: {tensor.dtype}\")"
   ]
  },
  {
   "cell_type": "markdown",
   "id": "1379dd20",
   "metadata": {},
   "source": [
    "<b>속성 변경하기</b>"
   ]
  },
  {
   "cell_type": "code",
   "execution_count": 37,
   "id": "54e55361",
   "metadata": {},
   "outputs": [
    {
     "name": "stdout",
     "output_type": "stream",
     "text": [
      "Shape of tensor: (4, 3)\n",
      "Datatype of tensor: <dtype: 'int32'>\n"
     ]
    }
   ],
   "source": [
    "tensor = tf.reshape(tensor, (4,3))\n",
    "tensor = tf.cast(tensor, tf.int32)\n",
    "\n",
    "print(f\"Shape of tensor: {tensor.shape}\")\n",
    "print(f\"Datatype of tensor: {tensor.dtype}\")"
   ]
  },
  {
   "cell_type": "markdown",
   "id": "e1fadf24",
   "metadata": {},
   "source": [
    "### 3.5 Variable\n",
    "\n",
    "- 변할 수 있는 상태를 저장하는데 사용되는 특별한 tensor\n",
    "- Deep Learning에서는 학습해야 하는 가중치(weight, bias)들을 variable로 생성"
   ]
  },
  {
   "cell_type": "markdown",
   "id": "5719db39",
   "metadata": {},
   "source": [
    "<b>원래 tensor는 한 번 생성하면 값 변경 불가능</b>"
   ]
  },
  {
   "cell_type": "code",
   "execution_count": 41,
   "id": "95dceb99",
   "metadata": {},
   "outputs": [
    {
     "name": "stdout",
     "output_type": "stream",
     "text": [
      "tf.Tensor(\n",
      "[[1. 1. 1. 1.]\n",
      " [1. 1. 1. 1.]\n",
      " [1. 1. 1. 1.]], shape=(3, 4), dtype=float32)\n"
     ]
    },
    {
     "ename": "TypeError",
     "evalue": "'tensorflow.python.framework.ops.EagerTensor' object does not support item assignment",
     "output_type": "error",
     "traceback": [
      "\u001b[1;31m---------------------------------------------------------------------------\u001b[0m",
      "\u001b[1;31mTypeError\u001b[0m                                 Traceback (most recent call last)",
      "\u001b[1;32mC:\\Users\\Public\\Documents\\ESTsoft\\CreatorTemp/ipykernel_3132/2320555436.py\u001b[0m in \u001b[0;36m<module>\u001b[1;34m\u001b[0m\n\u001b[0;32m      2\u001b[0m \u001b[0mprint\u001b[0m\u001b[1;33m(\u001b[0m\u001b[0mtensor\u001b[0m\u001b[1;33m)\u001b[0m\u001b[1;33m\u001b[0m\u001b[1;33m\u001b[0m\u001b[0m\n\u001b[0;32m      3\u001b[0m \u001b[1;33m\u001b[0m\u001b[0m\n\u001b[1;32m----> 4\u001b[1;33m \u001b[0mtensor\u001b[0m\u001b[1;33m[\u001b[0m\u001b[1;36m0\u001b[0m\u001b[1;33m,\u001b[0m\u001b[1;36m0\u001b[0m\u001b[1;33m]\u001b[0m \u001b[1;33m=\u001b[0m \u001b[1;36m2.\u001b[0m  \u001b[1;31m# Error 발생\u001b[0m\u001b[1;33m\u001b[0m\u001b[1;33m\u001b[0m\u001b[0m\n\u001b[0m",
      "\u001b[1;31mTypeError\u001b[0m: 'tensorflow.python.framework.ops.EagerTensor' object does not support item assignment"
     ]
    }
   ],
   "source": [
    "tensor = tf.ones((3,4))\n",
    "print(tensor)\n",
    "\n",
    "tensor[0,0] = 2.  # Error 발생"
   ]
  },
  {
   "cell_type": "markdown",
   "id": "b1ec74a6",
   "metadata": {},
   "source": [
    "### variable 만들기, 값 변경\n",
    "\n",
    "- Variable 값 갱신을 위해 사용하는 method\n",
    "  - .assign(value)\n",
    "  - .assign_add(increment)\n",
    "  - .assign_sub(decrement)"
   ]
  },
  {
   "cell_type": "code",
   "execution_count": 39,
   "id": "4966daf0",
   "metadata": {},
   "outputs": [
    {
     "name": "stdout",
     "output_type": "stream",
     "text": [
      "<tf.Variable 'Variable:0' shape=(3, 4) dtype=float32, numpy=\n",
      "array([[1., 1., 1., 1.],\n",
      "       [1., 1., 1., 1.],\n",
      "       [1., 1., 1., 1.]], dtype=float32)>\n",
      "<tf.Variable 'Variable:0' shape=(3, 4) dtype=float32, numpy=\n",
      "array([[2., 1., 1., 1.],\n",
      "       [1., 1., 1., 1.],\n",
      "       [1., 1., 1., 1.]], dtype=float32)>\n"
     ]
    }
   ],
   "source": [
    "variable = tf.Variable(tensor)\n",
    "print(variable)\n",
    "\n",
    "variable[0,0].assign(2)\n",
    "print(variable)"
   ]
  },
  {
   "cell_type": "markdown",
   "id": "b783655d",
   "metadata": {},
   "source": [
    "방법1) 초기값을 사용해서 variable 생성"
   ]
  },
  {
   "cell_type": "code",
   "execution_count": 40,
   "id": "dba5eede",
   "metadata": {},
   "outputs": [
    {
     "name": "stdout",
     "output_type": "stream",
     "text": [
      "<tf.Variable 'Variable:0' shape=(2, 2) dtype=float32, numpy=\n",
      "array([[-1.6286157 , -0.5081501 ],\n",
      "       [-0.06615821,  0.5985295 ]], dtype=float32)>\n"
     ]
    }
   ],
   "source": [
    "initial_value = tf.random.normal(shape=(2,2))\n",
    "weight = tf.Variable(initial_value)\n",
    "print(weight)"
   ]
  },
  {
   "cell_type": "markdown",
   "id": "fa672032",
   "metadata": {},
   "source": [
    "방법2) variable을 초기화해주는 initializer를 사용할 수도 있음"
   ]
  },
  {
   "cell_type": "code",
   "execution_count": 43,
   "id": "6a294f6a",
   "metadata": {},
   "outputs": [
    {
     "name": "stdout",
     "output_type": "stream",
     "text": [
      "<tf.Variable 'Variable:0' shape=(2, 2) dtype=float32, numpy=\n",
      "array([[ 1.1672525 , -1.4480114 ],\n",
      "       [-0.12264338,  2.9391346 ]], dtype=float32)>\n"
     ]
    }
   ],
   "source": [
    "weight = tf.Variable(tf.random_normal_initializer(stddev=1.)(shape=(2,2)))\n",
    "print(weight)"
   ]
  },
  {
   "cell_type": "code",
   "execution_count": 44,
   "id": "15e48210",
   "metadata": {},
   "outputs": [
    {
     "name": "stdout",
     "output_type": "stream",
     "text": [
      "tf.Tensor(\n",
      "[[-1.0902548  -0.27526107]\n",
      " [ 0.09933869 -0.03591168]], shape=(2, 2), dtype=float32)\n",
      "<tf.Variable 'Variable:0' shape=(2, 2) dtype=float32, numpy=\n",
      "array([[-1.0902548 , -0.27526107],\n",
      "       [ 0.09933869, -0.03591168]], dtype=float32)>\n"
     ]
    }
   ],
   "source": [
    "new_value = tf.random.normal(shape=(2,2))\n",
    "print(new_value)\n",
    "\n",
    "weight.assign(new_value)\n",
    "print(weight)"
   ]
  },
  {
   "cell_type": "code",
   "execution_count": 45,
   "id": "f930cb60",
   "metadata": {},
   "outputs": [
    {
     "name": "stdout",
     "output_type": "stream",
     "text": [
      "<tf.Variable 'Variable:0' shape=(2, 2) dtype=float32, numpy=\n",
      "array([[-2.0902548, -1.275261 ],\n",
      "       [-0.9006613, -1.0359117]], dtype=float32)>\n"
     ]
    }
   ],
   "source": [
    "added_value = tf.ones(shape=(2,2))\n",
    "weight.assign_sub(added_value)       # 뺄셈\n",
    "print(weight)"
   ]
  },
  {
   "cell_type": "markdown",
   "id": "c465f903",
   "metadata": {},
   "source": [
    "### 3.6 Indexing과 Slicing"
   ]
  },
  {
   "cell_type": "code",
   "execution_count": 46,
   "id": "cfb35ba9",
   "metadata": {},
   "outputs": [
    {
     "name": "stdout",
     "output_type": "stream",
     "text": [
      "tf.Tensor(\n",
      "[[ 1  2  3  4]\n",
      " [ 5  6  7  8]\n",
      " [ 9 10 11 12]], shape=(3, 4), dtype=int32)\n"
     ]
    }
   ],
   "source": [
    "a = tf.range(1,13)\n",
    "a = tf.reshape(a, (3,4))\n",
    "print(a)"
   ]
  },
  {
   "cell_type": "markdown",
   "id": "2ac38a65",
   "metadata": {},
   "source": [
    "indexing\n",
    "- numpy와 마찬가지로 indexing을 하면 차원 감소"
   ]
  },
  {
   "cell_type": "code",
   "execution_count": 49,
   "id": "382426fa",
   "metadata": {},
   "outputs": [
    {
     "name": "stdout",
     "output_type": "stream",
     "text": [
      "tf.Tensor([5 6 7 8], shape=(4,), dtype=int32)\n",
      "tf.Tensor(4, shape=(), dtype=int32)\n"
     ]
    }
   ],
   "source": [
    "print(a[1])\n",
    "print(a[0,-1])"
   ]
  },
  {
   "cell_type": "markdown",
   "id": "0be1f753",
   "metadata": {},
   "source": [
    "slicing\n",
    "- numpy와 마찬가지로 slicing은 해도 차원 유지"
   ]
  },
  {
   "cell_type": "code",
   "execution_count": 50,
   "id": "6d88b33a",
   "metadata": {},
   "outputs": [
    {
     "name": "stdout",
     "output_type": "stream",
     "text": [
      "tf.Tensor([[5 6 7 8]], shape=(1, 4), dtype=int32)\n",
      "tf.Tensor(\n",
      "[[3 4]\n",
      " [7 8]], shape=(2, 2), dtype=int32)\n"
     ]
    }
   ],
   "source": [
    "print(a[1:-1])\n",
    "print(a[:2, 2:])"
   ]
  },
  {
   "cell_type": "markdown",
   "id": "6f7ed066",
   "metadata": {},
   "source": [
    "### 3.7 Transpose"
   ]
  },
  {
   "cell_type": "code",
   "execution_count": 51,
   "id": "12da90ea",
   "metadata": {},
   "outputs": [
    {
     "name": "stdout",
     "output_type": "stream",
     "text": [
      "tf.Tensor(\n",
      "[[[ 0  1  2  3]\n",
      "  [ 4  5  6  7]]\n",
      "\n",
      " [[ 8  9 10 11]\n",
      "  [12 13 14 15]]], shape=(2, 2, 4), dtype=int32)\n"
     ]
    }
   ],
   "source": [
    "a = tf.range(16)\n",
    "a = tf.reshape(a, (2,2,-1))\n",
    "print(a)"
   ]
  },
  {
   "cell_type": "code",
   "execution_count": 53,
   "id": "c01dd216",
   "metadata": {},
   "outputs": [
    {
     "name": "stdout",
     "output_type": "stream",
     "text": [
      "tf.Tensor(\n",
      "[[[ 0  4]\n",
      "  [ 8 12]]\n",
      "\n",
      " [[ 1  5]\n",
      "  [ 9 13]]\n",
      "\n",
      " [[ 2  6]\n",
      "  [10 14]]\n",
      "\n",
      " [[ 3  7]\n",
      "  [11 15]]], shape=(4, 2, 2), dtype=int32)\n"
     ]
    }
   ],
   "source": [
    "b = tf.transpose(a, (2,0,1))  # 축의 순서를 2번째 축, 0번째 축, 1번째 축으로 바꾸기\n",
    "print(b)"
   ]
  },
  {
   "cell_type": "markdown",
   "id": "3891ad07",
   "metadata": {},
   "source": [
    "### 3.8 Tensor 연산\n",
    "\n",
    "- Numpy와 동일하게 작동됨"
   ]
  },
  {
   "cell_type": "code",
   "execution_count": 54,
   "id": "b68f9735",
   "metadata": {},
   "outputs": [
    {
     "name": "stdout",
     "output_type": "stream",
     "text": [
      "tf.Tensor(\n",
      "[[1. 2.]\n",
      " [3. 4.]], shape=(2, 2), dtype=float32)\n",
      "tf.Tensor(\n",
      "[[5. 6.]\n",
      " [7. 8.]], shape=(2, 2), dtype=float32)\n"
     ]
    }
   ],
   "source": [
    "x = tf.constant([[1,2],[3,4]], dtype=tf.float32)\n",
    "y = tf.constant([[5,6],[7,8]], dtype=tf.float32)\n",
    "print(x)\n",
    "print(y)"
   ]
  },
  {
   "cell_type": "code",
   "execution_count": 55,
   "id": "20ced910",
   "metadata": {},
   "outputs": [
    {
     "name": "stdout",
     "output_type": "stream",
     "text": [
      "tf.Tensor(\n",
      "[[ 6.  8.]\n",
      " [10. 12.]], shape=(2, 2), dtype=float32)\n",
      "tf.Tensor(\n",
      "[[-4. -4.]\n",
      " [-4. -4.]], shape=(2, 2), dtype=float32)\n",
      "tf.Tensor(\n",
      "[[ 5. 12.]\n",
      " [21. 32.]], shape=(2, 2), dtype=float32)\n",
      "tf.Tensor(\n",
      "[[0.2        0.33333334]\n",
      " [0.42857143 0.5       ]], shape=(2, 2), dtype=float32)\n",
      "tf.Tensor(\n",
      "[[19. 22.]\n",
      " [43. 50.]], shape=(2, 2), dtype=float32)\n",
      "==============================\n",
      "tf.Tensor(\n",
      "[[ 6.  8.]\n",
      " [10. 12.]], shape=(2, 2), dtype=float32)\n",
      "tf.Tensor(\n",
      "[[-4. -4.]\n",
      " [-4. -4.]], shape=(2, 2), dtype=float32)\n",
      "tf.Tensor(\n",
      "[[ 5. 12.]\n",
      " [21. 32.]], shape=(2, 2), dtype=float32)\n",
      "tf.Tensor(\n",
      "[[0.2        0.33333334]\n",
      " [0.42857143 0.5       ]], shape=(2, 2), dtype=float32)\n",
      "tf.Tensor(\n",
      "[[19. 22.]\n",
      " [43. 50.]], shape=(2, 2), dtype=float32)\n"
     ]
    }
   ],
   "source": [
    "print(x+y)\n",
    "print(x-y)\n",
    "print(x*y)\n",
    "print(x/y)\n",
    "print(x@y)\n",
    "print('='*30)\n",
    "print(tf.add(x,y))\n",
    "print(tf.subtract(x,y))\n",
    "print(tf.multiply(x,y))\n",
    "print(tf.divide(x,y))\n",
    "print(tf.matmul(x,y))"
   ]
  },
  {
   "cell_type": "code",
   "execution_count": 56,
   "id": "cda1992f",
   "metadata": {},
   "outputs": [
    {
     "name": "stdout",
     "output_type": "stream",
     "text": [
      "tf.Tensor(\n",
      "[[ 1  2  3  4  5]\n",
      " [ 6  7  8  9 10]], shape=(2, 5), dtype=int32)\n"
     ]
    }
   ],
   "source": [
    "z = tf.range(1,11)\n",
    "z = tf.reshape(z, (2,5))\n",
    "print(z)"
   ]
  },
  {
   "cell_type": "code",
   "execution_count": 58,
   "id": "d295150c",
   "metadata": {},
   "outputs": [
    {
     "name": "stdout",
     "output_type": "stream",
     "text": [
      "tf.Tensor(55, shape=(), dtype=int32)\n"
     ]
    }
   ],
   "source": [
    "print(tf.reduce_sum(z))"
   ]
  },
  {
   "cell_type": "code",
   "execution_count": 57,
   "id": "3a9ef616",
   "metadata": {},
   "outputs": [
    {
     "name": "stdout",
     "output_type": "stream",
     "text": [
      "tf.Tensor([ 7  9 11 13 15], shape=(5,), dtype=int32)\n",
      "tf.Tensor([15 40], shape=(2,), dtype=int32)\n",
      "tf.Tensor([15 40], shape=(2,), dtype=int32)\n"
     ]
    }
   ],
   "source": [
    "sum1 = tf.reduce_sum(z, axis=0)\n",
    "sum2 = tf.reduce_sum(z, axis=1)\n",
    "sum3 = tf.reduce_sum(z, axis=-1)\n",
    "print(sum1)\n",
    "print(sum2)\n",
    "print(sum3)"
   ]
  },
  {
   "cell_type": "markdown",
   "id": "e4a69bbd",
   "metadata": {},
   "source": [
    "### 3.8.1 concat\n",
    "- 차원 유지"
   ]
  },
  {
   "cell_type": "code",
   "execution_count": 59,
   "id": "3e474461",
   "metadata": {},
   "outputs": [
    {
     "name": "stdout",
     "output_type": "stream",
     "text": [
      "tf.Tensor(\n",
      "[[ 1  2  3  4  5]\n",
      " [ 6  7  8  9 10]\n",
      " [ 1  2  3  4  5]\n",
      " [ 6  7  8  9 10]], shape=(4, 5), dtype=int32)\n"
     ]
    }
   ],
   "source": [
    "concat = tf.concat([z,z], axis=0)\n",
    "print(concat)"
   ]
  },
  {
   "cell_type": "code",
   "execution_count": 60,
   "id": "3522cd73",
   "metadata": {},
   "outputs": [
    {
     "name": "stdout",
     "output_type": "stream",
     "text": [
      "tf.Tensor(\n",
      "[[ 1  2  3  4  5  1  2  3  4  5]\n",
      " [ 6  7  8  9 10  6  7  8  9 10]], shape=(2, 10), dtype=int32)\n"
     ]
    }
   ],
   "source": [
    "concat = tf.concat([z,z], axis=-1)\n",
    "print(concat)"
   ]
  },
  {
   "cell_type": "markdown",
   "id": "5db389c2",
   "metadata": {},
   "source": [
    "### 3.8.2 stack\n",
    "\n",
    "- 축을 하나 생성하면서 합치기 → 차원 증가\n",
    "  - 0 : 맨 앞에 추가\n",
    "  - -1 : 맨 뒤에 추가"
   ]
  },
  {
   "cell_type": "code",
   "execution_count": 63,
   "id": "0f3f0500",
   "metadata": {},
   "outputs": [
    {
     "name": "stdout",
     "output_type": "stream",
     "text": [
      "tf.Tensor(\n",
      "[[[ 1  2  3  4  5]\n",
      "  [ 6  7  8  9 10]]\n",
      "\n",
      " [[ 1  2  3  4  5]\n",
      "  [ 6  7  8  9 10]]], shape=(2, 2, 5), dtype=int32)\n"
     ]
    }
   ],
   "source": [
    "stack = tf.stack([z,z], axis=0)\n",
    "print(stack)"
   ]
  },
  {
   "cell_type": "code",
   "execution_count": 64,
   "id": "123b380d",
   "metadata": {},
   "outputs": [
    {
     "name": "stdout",
     "output_type": "stream",
     "text": [
      "tf.Tensor(\n",
      "[[[ 1  1]\n",
      "  [ 2  2]\n",
      "  [ 3  3]\n",
      "  [ 4  4]\n",
      "  [ 5  5]]\n",
      "\n",
      " [[ 6  6]\n",
      "  [ 7  7]\n",
      "  [ 8  8]\n",
      "  [ 9  9]\n",
      "  [10 10]]], shape=(2, 5, 2), dtype=int32)\n"
     ]
    }
   ],
   "source": [
    "stack = tf.stack([z,z], axis=-1)\n",
    "print(stack)"
   ]
  },
  {
   "cell_type": "code",
   "execution_count": 65,
   "id": "348c2e18",
   "metadata": {},
   "outputs": [
    {
     "name": "stdout",
     "output_type": "stream",
     "text": [
      "tf.Tensor(\n",
      "[[[ 1  2  3  4  5]\n",
      "  [ 1  2  3  4  5]]\n",
      "\n",
      " [[ 6  7  8  9 10]\n",
      "  [ 6  7  8  9 10]]], shape=(2, 2, 5), dtype=int32)\n"
     ]
    }
   ],
   "source": [
    "stack = tf.stack([z,z], axis=1)\n",
    "print(stack)"
   ]
  },
  {
   "cell_type": "markdown",
   "id": "b3b1e1ad",
   "metadata": {},
   "source": [
    "---\n",
    "# Dataset\n",
    "\n",
    "Data를 처리하며 model에 공급하기 위하여 TensorFlow에서는 tf.data.Dataset 사용</br>\n",
    "keras.datasets 아래 다양한 dataset 있음\n",
    "- boston_housing : boston 집값 예측\n",
    "- cifar10, cifar100, fashion_mnist : 이미지 data\n",
    "- imdb : 영화평\n",
    "- mnist : 손글씨 숫자\n",
    "- reuters : 기사"
   ]
  },
  {
   "cell_type": "markdown",
   "id": "0191b5fa",
   "metadata": {},
   "source": [
    "## 1. FashionMNIST data 불러오기"
   ]
  },
  {
   "cell_type": "code",
   "execution_count": 1,
   "id": "11081bd9",
   "metadata": {},
   "outputs": [],
   "source": [
    "import tensorflow as tf\n",
    "from tensorflow import keras\n",
    "\n",
    "import numpy as np\n",
    "import matplotlib.pyplot as plt"
   ]
  },
  {
   "cell_type": "code",
   "execution_count": 2,
   "id": "c43e5671",
   "metadata": {},
   "outputs": [],
   "source": [
    "mnist = keras.datasets.fashion_mnist\n",
    "class_names = ['T-shirt/top','Trouser','Pullover','Dress','Coat','Sandal','Shirt','Sneaker','Bag','Ankle boot']\n",
    "\n",
    "(train_images, train_labels), (test_images, test_labels) = mnist.load_data()"
   ]
  },
  {
   "cell_type": "markdown",
   "id": "65490986",
   "metadata": {},
   "source": [
    "Train/Test의 images, labels의 shape 확인"
   ]
  },
  {
   "cell_type": "code",
   "execution_count": 3,
   "id": "cbbaa7dc",
   "metadata": {},
   "outputs": [
    {
     "name": "stdout",
     "output_type": "stream",
     "text": [
      "(60000, 28, 28) (60000,)\n",
      "(10000, 28, 28) (10000,)\n"
     ]
    }
   ],
   "source": [
    "print(train_images.shape, train_labels.shape)\n",
    "print(test_images.shape, test_labels.shape)"
   ]
  },
  {
   "cell_type": "code",
   "execution_count": 4,
   "id": "463b8a29",
   "metadata": {},
   "outputs": [
    {
     "data": {
      "text/plain": [
       "numpy.ndarray"
      ]
     },
     "execution_count": 4,
     "metadata": {},
     "output_type": "execute_result"
    }
   ],
   "source": [
    "type(train_images)"
   ]
  },
  {
   "cell_type": "markdown",
   "id": "75e1cacb",
   "metadata": {},
   "source": [
    "training set의 각 class 별 image 수 확인\n",
    "- return_counts : 몇 개씩 있는지 세고 그 숫자 return"
   ]
  },
  {
   "cell_type": "code",
   "execution_count": 5,
   "id": "59372d78",
   "metadata": {},
   "outputs": [
    {
     "data": {
      "text/plain": [
       "{0: 6000,\n",
       " 1: 6000,\n",
       " 2: 6000,\n",
       " 3: 6000,\n",
       " 4: 6000,\n",
       " 5: 6000,\n",
       " 6: 6000,\n",
       " 7: 6000,\n",
       " 8: 6000,\n",
       " 9: 6000}"
      ]
     },
     "execution_count": 5,
     "metadata": {},
     "output_type": "execute_result"
    }
   ],
   "source": [
    "unique, counts = np.unique(train_labels, axis=-1, return_counts=True)\n",
    "dict(zip(unique, counts))"
   ]
  },
  {
   "cell_type": "markdown",
   "id": "a2bd5b7b",
   "metadata": {},
   "source": [
    "test set의 각 class 별 image 수 확인"
   ]
  },
  {
   "cell_type": "code",
   "execution_count": 6,
   "id": "854d9f8a",
   "metadata": {},
   "outputs": [
    {
     "data": {
      "text/plain": [
       "{0: 1000,\n",
       " 1: 1000,\n",
       " 2: 1000,\n",
       " 3: 1000,\n",
       " 4: 1000,\n",
       " 5: 1000,\n",
       " 6: 1000,\n",
       " 7: 1000,\n",
       " 8: 1000,\n",
       " 9: 1000}"
      ]
     },
     "execution_count": 6,
     "metadata": {},
     "output_type": "execute_result"
    }
   ],
   "source": [
    "unique, counts = np.unique(test_labels, axis=-1, return_counts=True)\n",
    "dict(zip(unique, counts))"
   ]
  },
  {
   "cell_type": "markdown",
   "id": "13cbfd7e",
   "metadata": {},
   "source": [
    "## 2. Data 시각화하기"
   ]
  },
  {
   "cell_type": "code",
   "execution_count": 7,
   "id": "538d0062",
   "metadata": {},
   "outputs": [
    {
     "data": {
      "text/plain": [
       "<matplotlib.image.AxesImage at 0x2477e49adf0>"
      ]
     },
     "execution_count": 7,
     "metadata": {},
     "output_type": "execute_result"
    },
    {
     "data": {
      "image/png": "[encoded data removed]",
      "text/plain": [
       "<Figure size 432x288 with 1 Axes>"
      ]
     },
     "metadata": {
      "needs_background": "light"
     },
     "output_type": "display_data"
    }
   ],
   "source": [
    "plt.imshow(train_images[0])"
   ]
  },
  {
   "cell_type": "code",
   "execution_count": 8,
   "id": "a8c24c88",
   "metadata": {},
   "outputs": [
    {
     "data": {
      "image/png": "[encoded data removed]",
      "text/plain": [
       "<Figure size 576x576 with 9 Axes>"
      ]
     },
     "metadata": {},
     "output_type": "display_data"
    }
   ],
   "source": [
    "plt.figure(figsize=(8,8))\n",
    "for i in range(9):\n",
    "    plt.subplot(3,3,i+1)\n",
    "    plt.xticks([])\n",
    "    plt.yticks([])\n",
    "    plt.grid(False)\n",
    "    plt.imshow(train_images[i], cmap='gray')\n",
    "    plt.title(class_names[train_labels[i]])\n",
    "plt.show()"
   ]
  },
  {
   "cell_type": "markdown",
   "id": "5cad76b0",
   "metadata": {},
   "source": [
    "## 3. Data 전처리"
   ]
  },
  {
   "cell_type": "markdown",
   "id": "17380ff8",
   "metadata": {},
   "source": [
    "★ image를 0~1 사이 값으로 만들기 위하여 255로 나누기\n",
    "- image는 보통 1~255 값으로 되어 있음\n",
    "- 먼저 floating point로 type 변경 필요"
   ]
  },
  {
   "cell_type": "code",
   "execution_count": 9,
   "id": "7936dcc7",
   "metadata": {},
   "outputs": [],
   "source": [
    "train_images = train_images.astype(np.float32)/255.\n",
    "test_images = test_images.astype(np.float32)/255."
   ]
  },
  {
   "cell_type": "markdown",
   "id": "7b417de8",
   "metadata": {},
   "source": [
    "### one-hot encoding\n",
    "\n",
    "- 10개 카테고리 중 한 개를 예측해야 하는 상황에서\n",
    "  - one-hot encoding을 안 하면\n",
    "    - label값 출력해보면 정답 class만 나옴\n",
    "  - one-hot encoding 하면\n",
    "    - 입력값이 0번 class일 확률, 1번 class일 확률, ..., 10번 class일 확률 모두 보고\n",
    "    - 확률값이 가장 큰 정답 class만 1로 하고 나머지는 다 0 처리해서 전체 출력"
   ]
  },
  {
   "cell_type": "markdown",
   "id": "4e993f7b",
   "metadata": {},
   "source": [
    "one-hot encoding 하기 전"
   ]
  },
  {
   "cell_type": "code",
   "execution_count": 10,
   "id": "3e06e99e",
   "metadata": {},
   "outputs": [
    {
     "data": {
      "text/plain": [
       "9"
      ]
     },
     "execution_count": 10,
     "metadata": {},
     "output_type": "execute_result"
    }
   ],
   "source": [
    "train_labels[0]"
   ]
  },
  {
   "cell_type": "markdown",
   "id": "7026d818",
   "metadata": {},
   "source": [
    "one-hot encoding 한 후"
   ]
  },
  {
   "cell_type": "code",
   "execution_count": 11,
   "id": "d8c63023",
   "metadata": {},
   "outputs": [],
   "source": [
    "train_labels = keras.utils.to_categorical(train_labels, 10)\n",
    "test_labels = keras.utils.to_categorical(test_labels, 10)"
   ]
  },
  {
   "cell_type": "code",
   "execution_count": 12,
   "id": "96c52ab0",
   "metadata": {},
   "outputs": [
    {
     "data": {
      "text/plain": [
       "array([0., 0., 0., 0., 0., 0., 0., 0., 0., 1.], dtype=float32)"
      ]
     },
     "execution_count": 12,
     "metadata": {},
     "output_type": "execute_result"
    }
   ],
   "source": [
    "train_labels[0]"
   ]
  },
  {
   "cell_type": "markdown",
   "id": "a9ccc606",
   "metadata": {},
   "source": [
    "## 4. Dataset 만들기"
   ]
  },
  {
   "cell_type": "markdown",
   "id": "fea9412d",
   "metadata": {},
   "source": [
    "- 현재 데이터가 numpy array로 되어 있음\n",
    "- from_tensor_slices(numpy array)\n",
    "  - tensor를 slice 해주는 함수\n",
    "  - 학습데이터 (60000, 28, 28)가 입력되면, 60000개의 slices로 만들고 각각의 slice는 28×28의 이미지 크기를 갖게 됨\n",
    "- shuffle(n) : 데이터를 매번 잘 섞기\n",
    "  - n : 몇 개의 데이터로 shuffle 할지\n",
    "    - 만약 10개 데이터 있는데 shuffle(5)라고 하면 모든 데이터로 shuffle 하지 못하는 것\n",
    "    - 학습데이터 개수보다 높은 숫자기만 하면 완전 shuffle\n",
    "  - train 데이터는 shuffle 안 하면, 매번 똑같은 순서로 data가 input 되어서 학습에 좋지 않음\n",
    "  - test 데이터는 shuffle을 할 필요 없음 (결과만 확인하는 데이터이기 때문)\n",
    "- batch : 데이터를 공급할 때 이미지를 한 장씩 넣는 게 아니라 여러 장씩 넣는 것\n",
    "  - batch 설정 안 하면 데이터 한 개씩 넣음\n",
    "  - batch(64) : 전체 이미지를 64 블록으로 끊어서 첫 번째 블록부터 통으로 넣어라\n",
    "  - i.e. 이미지 category가 10개 있는데 batch(2) : 2개씩 끊어서 넣어라 = 5장씩 넣어라"
   ]
  },
  {
   "cell_type": "code",
   "execution_count": 13,
   "id": "8f3bdb1d",
   "metadata": {},
   "outputs": [],
   "source": [
    "train_dataset = tf.data.Dataset.from_tensor_slices((train_images, train_labels)).shuffle(buffer_size=10000).batch(64)\n",
    "test_dataset = tf.data.Dataset.from_tensor_slices((test_images, test_labels)).batch(64)"
   ]
  },
  {
   "cell_type": "markdown",
   "id": "0eb023f0",
   "metadata": {},
   "source": [
    "사용법\n",
    "- for문 사용\n",
    "- batch size가 64이기 때문에 한 번에 이미지가 {'이미지 총 개수/64'}장씩 들어갔음\n",
    "  - images, labels 출력해 보면 64개 이미지에 대한 image와 label 출력됨\n",
    "  - 그 첫 번째 for loop에서 64개 이미지 중에서도 첫 번째 이미지만 살펴보면 아래와 같음"
   ]
  },
  {
   "cell_type": "code",
   "execution_count": 14,
   "id": "4f554a13",
   "metadata": {},
   "outputs": [
    {
     "name": "stdout",
     "output_type": "stream",
     "text": [
      "tf.Tensor([0. 0. 0. 0. 0. 0. 0. 0. 0. 1.], shape=(10,), dtype=float32)\n"
     ]
    },
    {
     "data": {
      "image/png": "[encoded data removed]",
      "text/plain": [
       "<Figure size 432x288 with 1 Axes>"
      ]
     },
     "metadata": {
      "needs_background": "light"
     },
     "output_type": "display_data"
    }
   ],
   "source": [
    "for images, labels, in train_dataset:\n",
    "    print(labels[0])\n",
    "    plt.imshow(images[0])\n",
    "    break"
   ]
  },
  {
   "cell_type": "markdown",
   "id": "3feb3b0b",
   "metadata": {},
   "source": [
    "Dataset을 통해 반복하기 : iterate</br>\n",
    "이미지와 정답(label) 표시"
   ]
  },
  {
   "cell_type": "code",
   "execution_count": 15,
   "id": "bbe273c3",
   "metadata": {},
   "outputs": [
    {
     "name": "stdout",
     "output_type": "stream",
     "text": [
      "Feature batch shape: (64, 28, 28)\n",
      "Labels batch shape: (64, 10)\n"
     ]
    },
    {
     "data": {
      "image/png": "[encoded data removed]",
      "text/plain": [
       "<Figure size 432x288 with 1 Axes>"
      ]
     },
     "metadata": {
      "needs_background": "light"
     },
     "output_type": "display_data"
    },
    {
     "name": "stdout",
     "output_type": "stream",
     "text": [
      "Label: [0. 0. 0. 1. 0. 0. 0. 0. 0. 0.]\n"
     ]
    }
   ],
   "source": [
    "imgs, lbs = next(iter(train_dataset))\n",
    "print(f\"Feature batch shape: {imgs.shape}\")\n",
    "print(f\"Labels batch shape: {lbs.shape}\")\n",
    "\n",
    "img = imgs[0]\n",
    "lb = lbs[0]\n",
    "plt.imshow(img, cmap='gray')\n",
    "plt.show()\n",
    "print(f\"Label: {lb}\")"
   ]
  },
  {
   "cell_type": "markdown",
   "id": "603c942c",
   "metadata": {},
   "source": [
    "## 5. Custom Dataset 만들기\n",
    "\n",
    "- keras 데이터가 아닌 내가 가지고 있는 데이터를 활용하고 싶은 경우"
   ]
  },
  {
   "cell_type": "code",
   "execution_count": 16,
   "id": "5a8ed7c1",
   "metadata": {},
   "outputs": [
    {
     "name": "stdout",
     "output_type": "stream",
     "text": [
      "[0 1 2 3 4 5 6 7 8 9]\n",
      "<TensorSliceDataset element_spec=TensorSpec(shape=(), dtype=tf.int32, name=None)>\n",
      "0\n",
      "1\n",
      "2\n",
      "3\n",
      "4\n",
      "5\n",
      "6\n",
      "7\n",
      "8\n",
      "9\n"
     ]
    }
   ],
   "source": [
    "# 0~9 데이터\n",
    "a = np.arange(10)\n",
    "print(a)\n",
    "\n",
    "ds_tensors = tf.data.Dataset.from_tensor_slices(a)\n",
    "print(ds_tensors)\n",
    "\n",
    "# for문에서 데이터를 하나씩 출력\n",
    "for x in ds_tensors:\n",
    "    print(x.numpy())"
   ]
  },
  {
   "cell_type": "markdown",
   "id": "62a06cf3",
   "metadata": {},
   "source": [
    "data 전처리(변환), shuffle, batch 추가\n",
    "- map 안에 내가 만든 함수 자유롭게 넣고 사용\n",
    "- ex) 숫자를 0~9 넣는 게 아니라 제곱을 해서 넣고 싶은 경우 : tf.square \n",
    "- data는 10개고 batch는 2니까 2개씩 끊어서 데이터 내보냄 = 5장씩 뽑음"
   ]
  },
  {
   "cell_type": "code",
   "execution_count": 17,
   "id": "949c510c",
   "metadata": {},
   "outputs": [],
   "source": [
    "ds_tensors = ds_tensors.map(tf.square).shuffle(10).batch(2)"
   ]
  },
  {
   "cell_type": "code",
   "execution_count": 18,
   "id": "3e5a1480",
   "metadata": {},
   "outputs": [
    {
     "name": "stdout",
     "output_type": "stream",
     "text": [
      "tf.Tensor([64  0], shape=(2,), dtype=int32)\n",
      "tf.Tensor([49  4], shape=(2,), dtype=int32)\n",
      "tf.Tensor([36 16], shape=(2,), dtype=int32)\n",
      "tf.Tensor([81  1], shape=(2,), dtype=int32)\n",
      "tf.Tensor([25  9], shape=(2,), dtype=int32)\n",
      "==================================================\n",
      "tf.Tensor([ 9 64], shape=(2,), dtype=int32)\n",
      "tf.Tensor([25  4], shape=(2,), dtype=int32)\n",
      "tf.Tensor([36 81], shape=(2,), dtype=int32)\n",
      "tf.Tensor([ 0 16], shape=(2,), dtype=int32)\n",
      "tf.Tensor([49  1], shape=(2,), dtype=int32)\n",
      "==================================================\n",
      "tf.Tensor([0 9], shape=(2,), dtype=int32)\n",
      "tf.Tensor([81  1], shape=(2,), dtype=int32)\n",
      "tf.Tensor([16 25], shape=(2,), dtype=int32)\n",
      "tf.Tensor([36 64], shape=(2,), dtype=int32)\n",
      "tf.Tensor([ 4 49], shape=(2,), dtype=int32)\n",
      "==================================================\n"
     ]
    }
   ],
   "source": [
    "for _ in range(3):          # epoch\n",
    "    for x in ds_tensors:\n",
    "        print(x)\n",
    "    print(\"=\"*50)"
   ]
  },
  {
   "cell_type": "markdown",
   "id": "51984be1",
   "metadata": {},
   "source": [
    "---\n",
    "# Model\n",
    "\n",
    "### TensorFlow에서는 크게 세 가지 모델 제공\n",
    "1. Keras Sequential API 사용\n",
    "2. Keras Functional API 사용\n",
    "3. Model Class Subclassing 사용"
   ]
  },
  {
   "cell_type": "markdown",
   "id": "e4c2f58a",
   "metadata": {},
   "source": [
    "## 1. Keras Sequential API\n",
    "\n",
    "- 벽돌처럼 쭉 일렬로 쌓는 모델 생성\n",
    "- 가장 쉽고 가장 기본적인 모델 생성 방법\n",
    "  - 강사님은 기본적으로 sequential model을 사용해서 모델을 만들 수 있으면 그냥 이걸 사용함\n",
    "    - 굳이 다른 어려운 걸 쓸 필요 없음"
   ]
  },
  {
   "cell_type": "code",
   "execution_count": 19,
   "id": "8469d213",
   "metadata": {},
   "outputs": [],
   "source": [
    "# multi-layer perceptron 구현\n",
    "\n",
    "def create_seq_model():\n",
    "    model = keras.Sequential()                            # keras에 sequential이라고 선언\n",
    "    \n",
    "    # layer 하나씩 쌓기 ===========================================\n",
    "    # Flatten과 Dropout은 레이어 개수에서 쳐주진 않음\n",
    "    # 아래 코드는 레이어 두 개짜리 모델\n",
    "    \n",
    "    # Flatten\n",
    "    # 1) multi-layer perceptron에 넣으려면 input을 1차원 vector로 꼭 펴줘야 함\n",
    "    # 2) input_shape 형태 꼭 알려줘야 함\n",
    "    # → 이 레이어에 28×28 matrix가 들어올 거야, 이걸 펴줘\n",
    "    model.add(keras.layers.Flatten(input_shape=(28,28)))\n",
    "    \n",
    "    # 첫 번째 레이어 : Dense\n",
    "    # 128개의 perceptron으로 구성된 레이어\n",
    "    model.add(keras.layers.Dense(128, activation='relu'))\n",
    "    \n",
    "    # Dropout\n",
    "    # overfitting 방지\n",
    "    model.add(keras.layers.Dropout(0.2))\n",
    "    \n",
    "    # 두 번째 레이어 : Dense\n",
    "    # 10개 perceptron으로 구성된 레이어\n",
    "    # → 이게 output layer가 될 것임\n",
    "    #    output으로는 숫자가 10개가 나와야 함\n",
    "    #    perceptron 10개니까 perceptron 한 개마다 결과가 한 개씩 나올 것임\n",
    "    model.add(keras.layers.Dense(10, activation='softmax'))\n",
    "    \n",
    "    return model"
   ]
  },
  {
   "cell_type": "code",
   "execution_count": 20,
   "id": "fd74e3c5",
   "metadata": {},
   "outputs": [],
   "source": [
    "seq_model = create_seq_model()"
   ]
  },
  {
   "cell_type": "markdown",
   "id": "0088bb0b",
   "metadata": {},
   "source": [
    "### 결과\n",
    "- 첫 번째는 flatten을 했어\n",
    "  - Output Shape\n",
    "    - None : batch size\n",
    "    - 784 : 28×28 이미지가 들어와서 784로 펴지게 될 거야\n",
    "  - Param# : 0 \n",
    "    - 이 레이어에서는 학습이 되는 게 아니라 1차원으로 펴주기만 하니 param 없음\n",
    "- 첫 번째 dense 레이어\n",
    "  - Output Shape 128 : perceptron 128개 썼으니, 128로 바뀌게 됨\n",
    "  - Param# : 100480\n",
    "- Dropout\n",
    "  - 모양은 변함 없음\n",
    "- 두 번째 dense 레이어\n",
    "  - 최종적으로 Output 10개가 나오는 모양이 됨 \n",
    "  - Param# : 1290\n",
    "- 전체 parameter 수는 101,770개\n",
    "- 그 중 training 가능한 parameter은 101,770개"
   ]
  },
  {
   "cell_type": "code",
   "execution_count": 21,
   "id": "ec214556",
   "metadata": {},
   "outputs": [
    {
     "name": "stdout",
     "output_type": "stream",
     "text": [
      "Model: \"sequential\"\n",
      "_________________________________________________________________\n",
      " Layer (type)                Output Shape              Param #   \n",
      "=================================================================\n",
      " flatten (Flatten)           (None, 784)               0         \n",
      "                                                                 \n",
      " dense (Dense)               (None, 128)               100480    \n",
      "                                                                 \n",
      " dropout (Dropout)           (None, 128)               0         \n",
      "                                                                 \n",
      " dense_1 (Dense)             (None, 10)                1290      \n",
      "                                                                 \n",
      "=================================================================\n",
      "Total params: 101,770\n",
      "Trainable params: 101,770\n",
      "Non-trainable params: 0\n",
      "_________________________________________________________________\n"
     ]
    }
   ],
   "source": [
    "seq_model.summary()"
   ]
  },
  {
   "cell_type": "markdown",
   "id": "c9c2c3d5",
   "metadata": {},
   "source": [
    "## 2. Keras Functional API 사용\n",
    "\n",
    "- Keras Sequential API와 차이점\n",
    "  - sequential 선언, model.add가 없음\n",
    "  - 즉, 벽돌처럼 쌓는 방식이 아님\n",
    "- Keras Sequential API보다 훨씬 자유롭고 다양한 모델 생성 가능\n",
    "  - 가지치기 등"
   ]
  },
  {
   "cell_type": "code",
   "execution_count": 22,
   "id": "039f6ec8",
   "metadata": {},
   "outputs": [],
   "source": [
    "def create_func_model():\n",
    "    inputs = keras.Input(shape=(28,28))\n",
    "    \n",
    "    # 벽돌처럼 쌓는 방식이 아니기 때문에, input을 매번 명시해 줘야 함 ★\n",
    "    # 바느질로 연결한다고 생각하면 됨\n",
    "    flatten = keras.layers.Flatten()(inputs)                      # 이 레이어의 input : input\n",
    "    dense = keras.layers.Dense(128, activation='relu')(flatten)   # 이 레이어의 input : flatten\n",
    "    drop = keras.layers.Dropout(0.2)(dense)                       # 이 레이어의 input : dense\n",
    "    outputs = keras.layers.Dense(10, activation='softmax')(drop)  # 이 레이어의 input : drop\n",
    "    model = keras.Model(inputs=inputs, outputs=outputs)           # 최종 모델 생성\n",
    "    return model"
   ]
  },
  {
   "cell_type": "code",
   "execution_count": 23,
   "id": "e0e30892",
   "metadata": {},
   "outputs": [],
   "source": [
    "func_model = create_func_model()"
   ]
  },
  {
   "cell_type": "code",
   "execution_count": 24,
   "id": "8cc3f08a",
   "metadata": {},
   "outputs": [
    {
     "name": "stdout",
     "output_type": "stream",
     "text": [
      "Model: \"model\"\n",
      "_________________________________________________________________\n",
      " Layer (type)                Output Shape              Param #   \n",
      "=================================================================\n",
      " input_1 (InputLayer)        [(None, 28, 28)]          0         \n",
      "                                                                 \n",
      " flatten_1 (Flatten)         (None, 784)               0         \n",
      "                                                                 \n",
      " dense_2 (Dense)             (None, 128)               100480    \n",
      "                                                                 \n",
      " dropout_1 (Dropout)         (None, 128)               0         \n",
      "                                                                 \n",
      " dense_3 (Dense)             (None, 10)                1290      \n",
      "                                                                 \n",
      "=================================================================\n",
      "Total params: 101,770\n",
      "Trainable params: 101,770\n",
      "Non-trainable params: 0\n",
      "_________________________________________________________________\n"
     ]
    }
   ],
   "source": [
    "func_model.summary()"
   ]
  },
  {
   "cell_type": "markdown",
   "id": "03863fa1",
   "metadata": {},
   "source": [
    "## 3. Model Class Subclassing 사용\n",
    "\n",
    "- pytorch에서는 이것과 유사한 방법 사용 중\n",
    "- keras.Model : keras의 Model class를 상속 받아서 class 생성"
   ]
  },
  {
   "cell_type": "code",
   "execution_count": 25,
   "id": "edca67d5",
   "metadata": {},
   "outputs": [],
   "source": [
    "class SubClassModel(keras.Model):\n",
    "    \n",
    "    def __init__(self):\n",
    "        # layer 초기화\n",
    "        super(SubClassModel, self).__init__()\n",
    "        self.flatten = keras.layers.Flatten(input_shape=(28,28))\n",
    "        self.dense1 = keras.layers.Dense(128, activation='relu')\n",
    "        self.drop = keras.layers.Dropout(0.2)\n",
    "        self.dense2 = keras.layers.Dense(10, activation='softmax')\n",
    "    \n",
    "    # 원래는 __call__이라고 써야 되는데 keras.Model class를 상속받으면\n",
    "    # 'call' method가 __call__을 자동으로 불러옴\n",
    "    # 그래서 그냥 'call'이라고 써도 됨\n",
    "    # ★ 주의) 'training' 인자 꼭 넣어야 함 \n",
    "    #       Dropout이 training할 때와 test할 때 동작 방식이 다르기 때문에\n",
    "    #       현재 training인지 test인지 입력으로 알려줘야 함\n",
    "    def call(self, x, training=False):\n",
    "        # 다 엮어주는 바느질 작업\n",
    "        x = self.flatten(x)\n",
    "        x = self.dense1(x)\n",
    "        x = self.drop(x)\n",
    "        return self.dense2(x)"
   ]
  },
  {
   "cell_type": "code",
   "execution_count": 26,
   "id": "af9297ec",
   "metadata": {},
   "outputs": [],
   "source": [
    "subclass_model = SubClassModel()"
   ]
  },
  {
   "cell_type": "markdown",
   "id": "cd0372dc",
   "metadata": {},
   "source": [
    "이 모델은 summary를 보려면 input이 한 번 들어가서 build 되는 과정이 필요함"
   ]
  },
  {
   "cell_type": "code",
   "execution_count": 27,
   "id": "5566463d",
   "metadata": {},
   "outputs": [
    {
     "name": "stdout",
     "output_type": "stream",
     "text": [
      "Model: \"sub_class_model\"\n",
      "_________________________________________________________________\n",
      " Layer (type)                Output Shape              Param #   \n",
      "=================================================================\n",
      " flatten_2 (Flatten)         multiple                  0         \n",
      "                                                                 \n",
      " dense_4 (Dense)             multiple                  100480    \n",
      "                                                                 \n",
      " dropout_2 (Dropout)         multiple                  0         \n",
      "                                                                 \n",
      " dense_5 (Dense)             multiple                  1290      \n",
      "                                                                 \n",
      "=================================================================\n",
      "Total params: 101,770\n",
      "Trainable params: 101,770\n",
      "Non-trainable params: 0\n",
      "_________________________________________________________________\n"
     ]
    }
   ],
   "source": [
    "inputs = tf.zeros((1,28,28))\n",
    "subclass_model(inputs)\n",
    "subclass_model.summary()"
   ]
  },
  {
   "cell_type": "markdown",
   "id": "8455b0f3",
   "metadata": {},
   "source": [
    "### 가상의 data 만들어서 예측해보기"
   ]
  },
  {
   "cell_type": "code",
   "execution_count": 28,
   "id": "15f86761",
   "metadata": {},
   "outputs": [
    {
     "name": "stdout",
     "output_type": "stream",
     "text": [
      "Predicted class: [3]\n"
     ]
    }
   ],
   "source": [
    "# (1,28,28) : 'batch size=1'이라는 의미\n",
    "inputs = tf.random.normal((1,28,28))\n",
    "outputs = subclass_model(inputs)\n",
    "pred = tf.argmax(outputs, -1)     # argmax : 제일 큰 값의 위치 뽑기\n",
    "print(f'Predicted class: {pred}')"
   ]
  },
  {
   "cell_type": "markdown",
   "id": "0c8901c5",
   "metadata": {},
   "source": [
    "---\n",
    "# Training/Validation\n",
    "\n",
    "## Keras API 사용"
   ]
  },
  {
   "cell_type": "code",
   "execution_count": 29,
   "id": "03de3702",
   "metadata": {},
   "outputs": [],
   "source": [
    "learning_rate = 0.001\n",
    "seq_model.compile(optimizer=tf.keras.optimizers.Adam(learning_rate),\n",
    "                  #loss=keras.losses.CategoricalCrossentropy,\n",
    "                 loss='categorical_crossentropy',\n",
    "                 metrics=['accuracy'])"
   ]
  },
  {
   "cell_type": "markdown",
   "id": "df5bcda3",
   "metadata": {},
   "source": [
    "### Epoch\n",
    "- batch size가 64니까 이미지를 한 번에 938개씩 넣을 건데, 그렇게 한 epoch이 끝나면 평균 loss가 몇인지 계산\n",
    "- 첫 번째 epoch의 평균 loss는 0.5500"
   ]
  },
  {
   "cell_type": "code",
   "execution_count": 30,
   "id": "3eb7fc94",
   "metadata": {},
   "outputs": [
    {
     "name": "stdout",
     "output_type": "stream",
     "text": [
      "Epoch 1/10\n",
      "938/938 [==============================] - 3s 2ms/step - loss: 0.5553 - accuracy: 0.8055 - val_loss: 0.4479 - val_accuracy: 0.8378\n",
      "Epoch 2/10\n",
      "938/938 [==============================] - 2s 2ms/step - loss: 0.4098 - accuracy: 0.8528 - val_loss: 0.4026 - val_accuracy: 0.8585\n",
      "Epoch 3/10\n",
      "938/938 [==============================] - 2s 2ms/step - loss: 0.3713 - accuracy: 0.8654 - val_loss: 0.3927 - val_accuracy: 0.8566\n",
      "Epoch 4/10\n",
      "938/938 [==============================] - 2s 2ms/step - loss: 0.3505 - accuracy: 0.8733 - val_loss: 0.3759 - val_accuracy: 0.8639\n",
      "Epoch 5/10\n",
      "938/938 [==============================] - 2s 2ms/step - loss: 0.3365 - accuracy: 0.8777 - val_loss: 0.3541 - val_accuracy: 0.8729\n",
      "Epoch 6/10\n",
      "938/938 [==============================] - 2s 2ms/step - loss: 0.3225 - accuracy: 0.8813 - val_loss: 0.3474 - val_accuracy: 0.8743\n",
      "Epoch 7/10\n",
      "938/938 [==============================] - 2s 2ms/step - loss: 0.3101 - accuracy: 0.8865 - val_loss: 0.3568 - val_accuracy: 0.8754\n",
      "Epoch 8/10\n",
      "938/938 [==============================] - 2s 2ms/step - loss: 0.3011 - accuracy: 0.8891 - val_loss: 0.3448 - val_accuracy: 0.8807\n",
      "Epoch 9/10\n",
      "938/938 [==============================] - 2s 3ms/step - loss: 0.2909 - accuracy: 0.8928 - val_loss: 0.3547 - val_accuracy: 0.8733\n",
      "Epoch 10/10\n",
      "938/938 [==============================] - 2s 3ms/step - loss: 0.2861 - accuracy: 0.8934 - val_loss: 0.3394 - val_accuracy: 0.8792\n"
     ]
    }
   ],
   "source": [
    "history = seq_model.fit(train_dataset, epochs=10, validation_data=test_dataset)"
   ]
  },
  {
   "cell_type": "markdown",
   "id": "aebbfed2",
   "metadata": {},
   "source": [
    "Plot losses"
   ]
  },
  {
   "cell_type": "code",
   "execution_count": 31,
   "id": "ae48f070",
   "metadata": {},
   "outputs": [
    {
     "data": {
      "image/png": "[encoded data removed]",
      "text/plain": [
       "<Figure size 432x288 with 1 Axes>"
      ]
     },
     "metadata": {
      "needs_background": "light"
     },
     "output_type": "display_data"
    }
   ],
   "source": [
    "plt.plot(history.history['loss'], 'b-', label='loss')\n",
    "plt.plot(history.history['val_loss'], 'r--', label='val_loss')\n",
    "plt.xlabel('Epoch')\n",
    "plt.legend()\n",
    "plt.show()"
   ]
  },
  {
   "cell_type": "markdown",
   "id": "0fb18137",
   "metadata": {},
   "source": [
    "Plot Accuracy"
   ]
  },
  {
   "cell_type": "code",
   "execution_count": 32,
   "id": "f9d899a8",
   "metadata": {},
   "outputs": [
    {
     "data": {
      "image/png": "[encoded data removed]",
      "text/plain": [
       "<Figure size 432x288 with 1 Axes>"
      ]
     },
     "metadata": {
      "needs_background": "light"
     },
     "output_type": "display_data"
    }
   ],
   "source": [
    "plt.plot(history.history['accuracy'], 'b-', label='acc')\n",
    "plt.plot(history.history['val_accuracy'], 'r--', label='val_acc')\n",
    "plt.xlabel('Epoch')\n",
    "plt.legend()\n",
    "plt.show()"
   ]
  },
  {
   "cell_type": "markdown",
   "id": "17ec947c",
   "metadata": {},
   "source": [
    "### GradientTape 사용"
   ]
  },
  {
   "cell_type": "markdown",
   "id": "b73ea68b",
   "metadata": {},
   "source": [
    "loss function"
   ]
  },
  {
   "cell_type": "code",
   "execution_count": 39,
   "id": "85058099",
   "metadata": {},
   "outputs": [],
   "source": [
    "loss_object = keras.losses.CategoricalCrossentropy()"
   ]
  },
  {
   "cell_type": "markdown",
   "id": "31997d66",
   "metadata": {},
   "source": [
    "optimizer"
   ]
  },
  {
   "cell_type": "code",
   "execution_count": 40,
   "id": "ed654ae3",
   "metadata": {},
   "outputs": [],
   "source": [
    "learning_rate = 0.001\n",
    "optimizer = keras.optimizers.Adam(learning_rate=learning_rate)"
   ]
  },
  {
   "cell_type": "markdown",
   "id": "431e953d",
   "metadata": {},
   "source": [
    "loss, accuracy 계산\n",
    "- Mean : 한 epoch 당 평균 loss 값 계산"
   ]
  },
  {
   "cell_type": "code",
   "execution_count": 41,
   "id": "d1acec2f",
   "metadata": {},
   "outputs": [],
   "source": [
    "train_loss = keras.metrics.Mean(name='train_loss')\n",
    "train_accuracy = keras.metrics.CategoricalAccuracy(name='train_accuracy')\n",
    "\n",
    "test_loss = keras.metrics.Mean(name='test_loss')\n",
    "test_accuracy = keras.metrics.CategoricalAccuracy(name='test_accuracy')"
   ]
  },
  {
   "cell_type": "markdown",
   "id": "03cace49",
   "metadata": {},
   "source": [
    "<b>GradientTape을 이용해서 backpropagation</b>\n",
    "- @tf.function : 속도를 빠르게 해 주는 것\n",
    "  - tensorflow가 2.x version으로 오면서 eager 모드가 되며 속도가 느려짐\n",
    "  - 이걸 써 주면 graph 모드로 바뀌면서 속도 만회\n",
    "  - 단, 이걸 썼을 때 def 함수 내부에서 print 같은 거 쓰면 제대로 print 되지 않음\n",
    "  - debugging 필요할 때는 @tf.function 빼고 print 값 찍으면서 보다가, 잘 되면 print 없애고 속도 높이기\n",
    "  - cf) keras API는 자동으로 graph 모드이기 때문에 따로 이런 decorator 필요 없음\n",
    "- input 데이터부터 loss 계산하는 것까지 넣기\n",
    "- predictions = model(images, training=True)\n",
    "  - SubClassModel 만들 때 'call' 부분을 이때 사용하는 것"
   ]
  },
  {
   "cell_type": "code",
   "execution_count": 42,
   "id": "182ebefd",
   "metadata": {},
   "outputs": [],
   "source": [
    "@tf.function\n",
    "def train_step(model, images, labels):\n",
    "    with tf.GradientTape() as tape:\n",
    "        # training=True is only needed if there are layers with different\n",
    "        # behavior during training versus inference (e.g. Dropout)\n",
    "        predictions = model(images, training=True)\n",
    "        loss = loss_object(labels, predictions)\n",
    "        \n",
    "    # backpropagation\n",
    "    # model.trainable_variables : model의 모든 weight와 bias들\n",
    "    # tape.gradient(loss, model.trainable_variables) : loss를 모든 weight와 bias로 미분\n",
    "    gradients = tape.gradient(loss, model.trainable_variables)\n",
    "    \n",
    "    # model.trainable_variables(update할 weight, bias)에 미분 값(gradients) 적용 \n",
    "    optimizer.apply_gradients(zip(gradients, model.trainable_variables))\n",
    "    \n",
    "    train_loss(loss)\n",
    "    train_accuracy(labels, predictions)"
   ]
  },
  {
   "cell_type": "code",
   "execution_count": 43,
   "id": "ad3c4368",
   "metadata": {},
   "outputs": [],
   "source": [
    "@tf.function\n",
    "def test_step(model, images, labels):\n",
    "    predictions = model(images, training=False)\n",
    "    t_loss = loss_object(labels, predictions)\n",
    "    \n",
    "    test_loss(t_loss)\n",
    "    test_accuracy(labels, predictions)"
   ]
  },
  {
   "cell_type": "markdown",
   "id": "f0f088cf",
   "metadata": {},
   "source": [
    "### 10 epoch동안 실제 학습"
   ]
  },
  {
   "cell_type": "code",
   "execution_count": 44,
   "id": "ce30d375",
   "metadata": {},
   "outputs": [
    {
     "name": "stdout",
     "output_type": "stream",
     "text": [
      "Epoch 1, Loss: 0.5558942556381226, Accuracy: 80.58666229248047, Test Loss: 0.4456537365913391, Test Accuracy: 83.5300064086914\n",
      "Epoch 2, Loss: 0.407953679561615, Accuracy: 85.47000122070312, Test Loss: 0.39753615856170654, Test Accuracy: 85.72000122070312\n",
      "Epoch 3, Loss: 0.3677090108394623, Accuracy: 86.69499969482422, Test Loss: 0.37398165464401245, Test Accuracy: 86.58999633789062\n",
      "Epoch 4, Loss: 0.3485054671764374, Accuracy: 87.30999755859375, Test Loss: 0.37234559655189514, Test Accuracy: 86.80999755859375\n",
      "Epoch 5, Loss: 0.3297306299209595, Accuracy: 87.9000015258789, Test Loss: 0.3556123673915863, Test Accuracy: 87.1500015258789\n",
      "Epoch 6, Loss: 0.3166009187698364, Accuracy: 88.29666137695312, Test Loss: 0.35885339975357056, Test Accuracy: 87.06999969482422\n",
      "Epoch 7, Loss: 0.3072631359100342, Accuracy: 88.67166900634766, Test Loss: 0.36586782336235046, Test Accuracy: 86.40999603271484\n",
      "Epoch 8, Loss: 0.3001553416252136, Accuracy: 88.93000030517578, Test Loss: 0.34519124031066895, Test Accuracy: 87.72000122070312\n",
      "Epoch 9, Loss: 0.29010123014450073, Accuracy: 89.19000244140625, Test Loss: 0.33459940552711487, Test Accuracy: 87.79000091552734\n",
      "Epoch 10, Loss: 0.2845271825790405, Accuracy: 89.4949951171875, Test Loss: 0.3409197926521301, Test Accuracy: 87.84000396728516\n"
     ]
    }
   ],
   "source": [
    "EPOCHS = 10\n",
    "\n",
    "for epoch in range(EPOCHS):\n",
    "    \n",
    "    # Reset the metrics at the start of the next epoch\n",
    "    # loss와 accuracy가 이전 저장된 값이 들어가 있을 수 있기 때문에\n",
    "    # 새로운 epoch에서는 loss와 accuracy 다시 0으로 바꿔줘야 함\n",
    "    #train_loss=0\n",
    "    train_loss.reset_states()\n",
    "    train_accuracy.reset_states()\n",
    "    test_loss.reset_states()\n",
    "    test_accuracy.reset_states()\n",
    "    \n",
    "    # for문을 돌며 계속 weight, bias update\n",
    "    for images, labels in train_dataset:\n",
    "        train_step(func_model, images, labels)\n",
    "        \n",
    "    for test_images, test_labels in test_dataset:\n",
    "        test_step(func_model, test_images, test_labels)\n",
    "    \n",
    "    print(\n",
    "        f'Epoch {epoch + 1}, '\n",
    "        f'Loss: {train_loss.result()}, '\n",
    "        f'Accuracy: {train_accuracy.result() * 100}, '\n",
    "        f'Test Loss: {test_loss.result()}, '\n",
    "        f'Test Accuracy: {test_accuracy.result() * 100}'\n",
    "    )"
   ]
  },
  {
   "cell_type": "markdown",
   "id": "4783cc39",
   "metadata": {},
   "source": [
    "---\n",
    "# Model 저장하고 불러오기\n",
    "\n",
    "- 모델을 매번 학습하면 매우 비효율적\n",
    "- 학습한 결과를 저장해 놓고, 나중에 불러오기"
   ]
  },
  {
   "cell_type": "markdown",
   "id": "3b2eb6c3",
   "metadata": {},
   "source": [
    "## 1. Parameter만 저장하고 불러오기\n",
    "\n",
    "- 학습된 weight와 bias만 저장\n",
    "- 확장자 아무렇게나 해도 상관 없음\n",
    "  - ckpt : checkpoint"
   ]
  },
  {
   "cell_type": "code",
   "execution_count": 45,
   "id": "e5a23df3",
   "metadata": {},
   "outputs": [],
   "source": [
    "seq_model.save_weights('seq_model.ckpt')"
   ]
  },
  {
   "cell_type": "code",
   "execution_count": 46,
   "id": "15ed96fe",
   "metadata": {},
   "outputs": [],
   "source": [
    "seq_model_2 = create_seq_model()\n",
    "seq_model_2.compile(optimizer=tf.keras.optimizers.Adam(learning_rate),\n",
    "                   loss='categorical_crossentropy',\n",
    "                   metrics=['accuracy'])"
   ]
  },
  {
   "cell_type": "markdown",
   "id": "528033e8",
   "metadata": {},
   "source": [
    "학습은 하지 않고 test set에 대한 loss와 accuracy만 확인\n",
    "- 학습을 하나도 안 했으니 정확도가 4%"
   ]
  },
  {
   "cell_type": "code",
   "execution_count": 47,
   "id": "ab29f17d",
   "metadata": {},
   "outputs": [
    {
     "name": "stdout",
     "output_type": "stream",
     "text": [
      "157/157 [==============================] - 0s 2ms/step - loss: 2.4679 - accuracy: 0.0434\n"
     ]
    },
    {
     "data": {
      "text/plain": [
       "[2.4679315090179443, 0.04340000078082085]"
      ]
     },
     "execution_count": 47,
     "metadata": {},
     "output_type": "execute_result"
    }
   ],
   "source": [
    "seq_model_2.evaluate(test_dataset)"
   ]
  },
  {
   "cell_type": "markdown",
   "id": "9303d50c",
   "metadata": {},
   "source": [
    "이 상태에서 위에서 저장한 weight와 bias 덮어쓰기"
   ]
  },
  {
   "cell_type": "code",
   "execution_count": 48,
   "id": "a2873e17",
   "metadata": {},
   "outputs": [
    {
     "data": {
      "text/plain": [
       "<tensorflow.python.training.tracking.util.CheckpointLoadStatus at 0x247006537f0>"
      ]
     },
     "execution_count": 48,
     "metadata": {},
     "output_type": "execute_result"
    }
   ],
   "source": [
    "seq_model_2.load_weights('seq_model.ckpt')"
   ]
  },
  {
   "cell_type": "markdown",
   "id": "71092319",
   "metadata": {},
   "source": [
    "적용 후 결과 보면 정확도가 88%까지 올라간 것 볼 수 있음"
   ]
  },
  {
   "cell_type": "code",
   "execution_count": 49,
   "id": "5b64c953",
   "metadata": {},
   "outputs": [
    {
     "name": "stdout",
     "output_type": "stream",
     "text": [
      "157/157 [==============================] - 0s 1ms/step - loss: 0.3394 - accuracy: 0.8792\n"
     ]
    },
    {
     "data": {
      "text/plain": [
       "[0.3393828272819519, 0.8791999816894531]"
      ]
     },
     "execution_count": 49,
     "metadata": {},
     "output_type": "execute_result"
    }
   ],
   "source": [
    "seq_model_2.evaluate(test_dataset)"
   ]
  },
  {
   "cell_type": "markdown",
   "id": "49911510",
   "metadata": {},
   "source": [
    "## 2. Model 전체를 저장하고 불러오기"
   ]
  },
  {
   "cell_type": "code",
   "execution_count": 50,
   "id": "57d95c32",
   "metadata": {},
   "outputs": [
    {
     "name": "stdout",
     "output_type": "stream",
     "text": [
      "INFO:tensorflow:Assets written to: seq_model\\assets\n"
     ]
    }
   ],
   "source": [
    "seq_model.save('seq_model')"
   ]
  },
  {
   "cell_type": "code",
   "execution_count": 51,
   "id": "58626cf5",
   "metadata": {},
   "outputs": [
    {
     "name": "stderr",
     "output_type": "stream",
     "text": [
      "'ls'은(는) 내부 또는 외부 명령, 실행할 수 있는 프로그램, 또는\n",
      "배치 파일이 아닙니다.\n"
     ]
    }
   ],
   "source": [
    "!ls"
   ]
  },
  {
   "cell_type": "code",
   "execution_count": 52,
   "id": "8f69ff8d",
   "metadata": {},
   "outputs": [],
   "source": [
    "seq_model_3 = keras.models.load_model('seq_model')"
   ]
  },
  {
   "cell_type": "code",
   "execution_count": 53,
   "id": "415a65fb",
   "metadata": {},
   "outputs": [
    {
     "name": "stdout",
     "output_type": "stream",
     "text": [
      "157/157 [==============================] - 0s 1ms/step - loss: 0.3394 - accuracy: 0.8792\n"
     ]
    },
    {
     "data": {
      "text/plain": [
       "[0.3393828272819519, 0.8791999816894531]"
      ]
     },
     "execution_count": 53,
     "metadata": {},
     "output_type": "execute_result"
    }
   ],
   "source": [
    "seq_model_3.evaluate(test_dataset)"
   ]
  },
  {
   "cell_type": "markdown",
   "id": "2ae046b2",
   "metadata": {},
   "source": [
    "---\n",
    "# Tensorboard 사용하여 시각화하기\n",
    "\n",
    "- 방법1) Keras Callback 사용\n",
    "- 방법2) Tensorflow Summary Writer 사용"
   ]
  },
  {
   "cell_type": "markdown",
   "id": "85992a00",
   "metadata": {},
   "source": [
    "### Jupyter notebook에서 tensorboard 사용하기\n",
    "- tensorboard는 학습된 결과 등을 눈으로 보기 쉽게 보여주는 시각화 툴\n",
    "- pytorch에서도 이거 많이 사용함"
   ]
  },
  {
   "cell_type": "code",
   "execution_count": 55,
   "id": "a1e610b4",
   "metadata": {},
   "outputs": [
    {
     "name": "stdout",
     "output_type": "stream",
     "text": [
      "The tensorboard extension is already loaded. To reload it, use:\n",
      "  %reload_ext tensorboard\n"
     ]
    }
   ],
   "source": [
    "%load_ext tensorboard"
   ]
  },
  {
   "cell_type": "markdown",
   "id": "72eae047",
   "metadata": {},
   "source": [
    "## 1. Keras Callback 사용"
   ]
  },
  {
   "cell_type": "code",
   "execution_count": 57,
   "id": "d5e0d94d",
   "metadata": {},
   "outputs": [],
   "source": [
    "new_model_1 = create_seq_model()\n",
    "new_model_1.compile(optimizer=tf.keras.optimizers.Adam(learning_rate),\n",
    "                   loss='categorical_crossentropy',\n",
    "                   metrics=['accuracy'])"
   ]
  },
  {
   "cell_type": "markdown",
   "id": "6031254a",
   "metadata": {},
   "source": [
    "학습은 하지 않고 test set에 대한 loss와 accuracy만 확인\n",
    "- 학습을 하나도 안 했으니 정확도가 5%"
   ]
  },
  {
   "cell_type": "code",
   "execution_count": 58,
   "id": "d7f48194",
   "metadata": {},
   "outputs": [
    {
     "name": "stdout",
     "output_type": "stream",
     "text": [
      "157/157 [==============================] - 0s 1ms/step - loss: 2.3720 - accuracy: 0.0584\n"
     ]
    },
    {
     "data": {
      "text/plain": [
       "[2.3719992637634277, 0.058400001376867294]"
      ]
     },
     "execution_count": 58,
     "metadata": {},
     "output_type": "execute_result"
    }
   ],
   "source": [
    "new_model_1.evaluate(test_dataset)"
   ]
  },
  {
   "cell_type": "markdown",
   "id": "c7bed7a1",
   "metadata": {},
   "source": [
    "logs/new_model_1\n",
    "- 학습 과정에서 필요한 정보들을 저장할 곳 지정\n",
    "- weight, bias 등"
   ]
  },
  {
   "cell_type": "code",
   "execution_count": 62,
   "id": "a8334c61",
   "metadata": {},
   "outputs": [],
   "source": [
    "log_dir = './logs/new_model_1'"
   ]
  },
  {
   "cell_type": "markdown",
   "id": "1496d38d",
   "metadata": {},
   "source": [
    "- histogram_freq=1 : 매 epoch마다 저장을 하겠다\n",
    "- histogram : weight, bias 분포를 보여줌"
   ]
  },
  {
   "cell_type": "code",
   "execution_count": 63,
   "id": "3906de13",
   "metadata": {},
   "outputs": [],
   "source": [
    "tensorboard_cb = keras.callbacks.TensorBoard(log_dir, histogram_freq=1)"
   ]
  },
  {
   "cell_type": "markdown",
   "id": "ee381f42",
   "metadata": {},
   "source": [
    "callback에 필요한 정보 모두 저장\n",
    "- callbacks = [tensorboard_cb, aaa, bbb]\n",
    "  - tensorboard 말고도 다른 여러 개 쓸 수 있음\n",
    "  - customize 해서 우리가 만들어서 쓸 수도 있음"
   ]
  },
  {
   "cell_type": "code",
   "execution_count": 65,
   "id": "aea3771c",
   "metadata": {
    "scrolled": true
   },
   "outputs": [
    {
     "name": "stdout",
     "output_type": "stream",
     "text": [
      "Epoch 1/10\n",
      "938/938 [==============================] - 4s 4ms/step - loss: 0.5462 - accuracy: 0.8080 - val_loss: 0.4463 - val_accuracy: 0.8380\n",
      "Epoch 2/10\n",
      "938/938 [==============================] - 3s 3ms/step - loss: 0.4050 - accuracy: 0.8554 - val_loss: 0.3895 - val_accuracy: 0.8616\n",
      "Epoch 3/10\n",
      "938/938 [==============================] - 3s 3ms/step - loss: 0.3706 - accuracy: 0.8661 - val_loss: 0.3736 - val_accuracy: 0.8647\n",
      "Epoch 4/10\n",
      "938/938 [==============================] - 2s 2ms/step - loss: 0.3471 - accuracy: 0.8729 - val_loss: 0.3723 - val_accuracy: 0.8669\n",
      "Epoch 5/10\n",
      "938/938 [==============================] - 2s 2ms/step - loss: 0.3315 - accuracy: 0.8785 - val_loss: 0.3577 - val_accuracy: 0.8723\n",
      "Epoch 6/10\n",
      "938/938 [==============================] - 2s 2ms/step - loss: 0.3158 - accuracy: 0.8849 - val_loss: 0.3478 - val_accuracy: 0.8731\n",
      "Epoch 7/10\n",
      "938/938 [==============================] - 2s 2ms/step - loss: 0.3083 - accuracy: 0.8864 - val_loss: 0.3416 - val_accuracy: 0.8761\n",
      "Epoch 8/10\n",
      "938/938 [==============================] - 2s 2ms/step - loss: 0.2969 - accuracy: 0.8903 - val_loss: 0.3401 - val_accuracy: 0.8732\n",
      "Epoch 9/10\n",
      "938/938 [==============================] - 2s 2ms/step - loss: 0.2875 - accuracy: 0.8932 - val_loss: 0.3372 - val_accuracy: 0.8780\n",
      "Epoch 10/10\n",
      "938/938 [==============================] - 2s 2ms/step - loss: 0.2837 - accuracy: 0.8944 - val_loss: 0.3330 - val_accuracy: 0.8782\n"
     ]
    },
    {
     "data": {
      "text/plain": [
       "<keras.callbacks.History at 0x247002a96a0>"
      ]
     },
     "execution_count": 65,
     "metadata": {},
     "output_type": "execute_result"
    }
   ],
   "source": [
    "new_model_1.fit(train_dataset,\n",
    "                epochs=EPOCHS,\n",
    "                validation_data=test_dataset,\n",
    "                callbacks=[tensorboard_cb])"
   ]
  },
  {
   "cell_type": "markdown",
   "id": "cb18280d",
   "metadata": {},
   "source": [
    "tensorboard 실행\n",
    "- 원래 tensorboard는 chrome 등에서 접속해야 하는데, magic command '%' 사용해서 jupyter notebook에서도 열어볼 수 있음\n",
    "- $log_dir : 경로\n",
    "- epoch에 따른 accuracy, loss 값 변화 확인\n",
    "- 메뉴\n",
    "  - Graphs : 모델 학습에 필요했던 것들\n",
    "  - Distributions, Histogram, Time Series : bias, kernel(weight) 분포"
   ]
  },
  {
   "cell_type": "code",
   "execution_count": 66,
   "id": "5f25f5b7",
   "metadata": {},
   "outputs": [
    {
     "data": {
      "text/html": [
       "\n",
       "      <iframe id=\"tensorboard-frame-af46c21742e8f050\" width=\"100%\" height=\"800\" frameborder=\"0\">\n",
       "      </iframe>\n",
       "      <script>\n",
       "        (function() {\n",
       "          const frame = document.getElementById(\"tensorboard-frame-af46c21742e8f050\");\n",
       "          const url = new URL(\"/\", window.location);\n",
       "          const port = 6006;\n",
       "          if (port) {\n",
       "            url.port = port;\n",
       "          }\n",
       "          frame.src = url;\n",
       "        })();\n",
       "      </script>\n",
       "    "
      ],
      "text/plain": [
       "<IPython.core.display.HTML object>"
      ]
     },
     "metadata": {},
     "output_type": "display_data"
    }
   ],
   "source": [
    "%tensorboard --logdir $log_dir"
   ]
  },
  {
   "cell_type": "markdown",
   "id": "1507bb6d",
   "metadata": {},
   "source": [
    "## 2. Summary Writer 사용"
   ]
  },
  {
   "cell_type": "code",
   "execution_count": 67,
   "id": "85581c98",
   "metadata": {},
   "outputs": [],
   "source": [
    "new_model_2 = create_seq_model()"
   ]
  },
  {
   "cell_type": "markdown",
   "id": "a19a0f7f",
   "metadata": {},
   "source": [
    "loss function"
   ]
  },
  {
   "cell_type": "code",
   "execution_count": 68,
   "id": "0aea1462",
   "metadata": {},
   "outputs": [],
   "source": [
    "loss_object = keras.losses.CategoricalCrossentropy()"
   ]
  },
  {
   "cell_type": "markdown",
   "id": "96a66b54",
   "metadata": {},
   "source": [
    "optimizer"
   ]
  },
  {
   "cell_type": "code",
   "execution_count": 69,
   "id": "571156ad",
   "metadata": {},
   "outputs": [],
   "source": [
    "learning_rate = 0.001\n",
    "optimizer = keras.optimizers.Adam(learning_rate=learning_rate)"
   ]
  },
  {
   "cell_type": "markdown",
   "id": "23d29553",
   "metadata": {},
   "source": [
    "loss, accuracy 계산"
   ]
  },
  {
   "cell_type": "code",
   "execution_count": 70,
   "id": "58e0b19f",
   "metadata": {},
   "outputs": [],
   "source": [
    "train_loss = keras.metrics.Mean(name='train_loss')\n",
    "train_accuracy = keras.metrics.CategoricalAccuracy(name='train_accuracy')\n",
    "\n",
    "test_loss = keras.metrics.Mean(name='test_loss')\n",
    "test_accuracy = keras.metrics.CategoricalAccuracy(name='test_accuracy')"
   ]
  },
  {
   "cell_type": "code",
   "execution_count": 71,
   "id": "35bd1a26",
   "metadata": {},
   "outputs": [],
   "source": [
    "@tf.function\n",
    "def train_step(model, images, labels):\n",
    "    with tf.GradientTape() as tape:\n",
    "        # training=True is only needed if there are layers with different\n",
    "        # behavior during training versus inference (e.g. Dropout)\n",
    "        predictions = model(images, training=True)\n",
    "        loss = loss_object(labels, predictions)\n",
    "        \n",
    "    # backpropagation\n",
    "    # model.trainable_variables : model의 모든 weight와 bias들\n",
    "    # tape.gradient(loss, model.trainable_variables) : loss를 모든 weight와 bias로 미분\n",
    "    gradients = tape.gradient(loss, model.trainable_variables)\n",
    "    \n",
    "    # model.trainable_variables(update할 weight, bias)에 미분 값(gradients) 적용 \n",
    "    optimizer.apply_gradients(zip(gradients, model.trainable_variables))\n",
    "    \n",
    "    train_loss(loss)\n",
    "    train_accuracy(labels, predictions)"
   ]
  },
  {
   "cell_type": "code",
   "execution_count": 72,
   "id": "b658af70",
   "metadata": {},
   "outputs": [],
   "source": [
    "@tf.function\n",
    "def test_step(model, images, labels):\n",
    "    predictions = model(images, training=False)\n",
    "    t_loss = loss_object(labels, predictions)\n",
    "    \n",
    "    test_loss(t_loss)\n",
    "    test_accuracy(labels, predictions)"
   ]
  },
  {
   "cell_type": "markdown",
   "id": "1d0bf326",
   "metadata": {},
   "source": [
    "### writer 생성\n",
    "\n",
    "logs/gradient_tape/ 하위 폴더에 파일 생성\n",
    "- 시간에 따라 directory 명을 다르게 저장하고자 함\n",
    "- tf.summary.create_file_writer(경로)"
   ]
  },
  {
   "cell_type": "code",
   "execution_count": 74,
   "id": "253a1193",
   "metadata": {},
   "outputs": [],
   "source": [
    "import datetime\n",
    "\n",
    "current_time = datetime.datetime.now().strftime('%Y%m%d-%H%M%S')\n",
    "train_log_dir = 'logs/gradient_tape/' + current_time + '/train'\n",
    "test_log_dir = 'logs/gradient_tape/' + current_time + '/test'\n",
    "train_summary_writer = tf.summary.create_file_writer(train_log_dir)\n",
    "test_summary_writer = tf.summary.create_file_writer(test_log_dir)"
   ]
  },
  {
   "cell_type": "code",
   "execution_count": 75,
   "id": "8ee36de3",
   "metadata": {},
   "outputs": [
    {
     "name": "stdout",
     "output_type": "stream",
     "text": [
      "Epoch 1, Loss: 0.561118483543396, Accuracy: 80.288330078125, Test Loss: 0.44619035720825195, Test Accuracy: 83.47000122070312\n",
      "Epoch 2, Loss: 0.4104568660259247, Accuracy: 85.4366683959961, Test Loss: 0.3975033164024353, Test Accuracy: 85.43000030517578\n",
      "Epoch 3, Loss: 0.3688129484653473, Accuracy: 86.57167053222656, Test Loss: 0.3724946677684784, Test Accuracy: 86.51000213623047\n",
      "Epoch 4, Loss: 0.3475319743156433, Accuracy: 87.46666717529297, Test Loss: 0.36815035343170166, Test Accuracy: 86.72000122070312\n",
      "Epoch 5, Loss: 0.3330802917480469, Accuracy: 87.94499969482422, Test Loss: 0.3530837893486023, Test Accuracy: 87.4800033569336\n",
      "Epoch 6, Loss: 0.3204171359539032, Accuracy: 88.11333465576172, Test Loss: 0.34556785225868225, Test Accuracy: 86.98999786376953\n",
      "Epoch 7, Loss: 0.3103460669517517, Accuracy: 88.61499786376953, Test Loss: 0.35429081320762634, Test Accuracy: 87.19000244140625\n",
      "Epoch 8, Loss: 0.3002924919128418, Accuracy: 88.86000061035156, Test Loss: 0.3444038927555084, Test Accuracy: 87.58999633789062\n",
      "Epoch 9, Loss: 0.2922447621822357, Accuracy: 89.12833404541016, Test Loss: 0.3358415961265564, Test Accuracy: 88.05999755859375\n",
      "Epoch 10, Loss: 0.282718688249588, Accuracy: 89.51166534423828, Test Loss: 0.3436148166656494, Test Accuracy: 87.77999877929688\n"
     ]
    }
   ],
   "source": [
    "EPOCHS = 10\n",
    "\n",
    "for epoch in range(EPOCHS):\n",
    "    # Reset the metrics at the start of the next epoch\n",
    "    train_loss.reset_states()\n",
    "    train_accuracy.reset_states()\n",
    "    test_loss.reset_states()\n",
    "    test_accuracy.reset_states()\n",
    "    \n",
    "    for images, labels in train_dataset:\n",
    "        train_step(new_model_2, images, labels)\n",
    "    \n",
    "    # train_summary_writer 경로에 loss, accuracy 저장\n",
    "    with train_summary_writer.as_default():\n",
    "        tf.summary.scalar('loss', train_loss.result(), step=epoch)\n",
    "        tf.summary.scalar('accuracy', train_accuracy.result(), step=epoch)\n",
    "        \n",
    "    for test_images, test_labels in test_dataset:\n",
    "        test_step(new_model_2, test_images, test_labels)\n",
    "    \n",
    "    # test_summary_writer 경로에 loss, accuracy 저장\n",
    "    with test_summary_writer.as_default():\n",
    "        tf.summary.scalar('loss', test_loss.result(), step=epoch)\n",
    "        tf.summary.scalar('accuracy', test_accuracy.result(), step=epoch)\n",
    "        \n",
    "    \n",
    "    print(\n",
    "        f'Epoch {epoch + 1}, '\n",
    "        f'Loss: {train_loss.result()}, '\n",
    "        f'Accuracy: {train_accuracy.result() * 100}, '\n",
    "        f'Test Loss: {test_loss.result()}, '\n",
    "        f'Test Accuracy: {test_accuracy.result() * 100}'\n",
    "    )        "
   ]
  },
  {
   "cell_type": "markdown",
   "id": "3e77313c",
   "metadata": {},
   "source": [
    "지금은 한 번밖에 안 했으니 train, validation 한 개 씩만 그래프로 보임\n",
    "- 다른 시간 대에 여러 번 training 하면 달라진 data 계속 쌓이면서 train 할 때마다 결과 변화 그래프로 한 눈에 비교 가능"
   ]
  },
  {
   "cell_type": "code",
   "execution_count": 76,
   "id": "728e39bb",
   "metadata": {},
   "outputs": [
    {
     "data": {
      "text/html": [
       "\n",
       "      <iframe id=\"tensorboard-frame-c9a6b41e89c5c18a\" width=\"100%\" height=\"800\" frameborder=\"0\">\n",
       "      </iframe>\n",
       "      <script>\n",
       "        (function() {\n",
       "          const frame = document.getElementById(\"tensorboard-frame-c9a6b41e89c5c18a\");\n",
       "          const url = new URL(\"/\", window.location);\n",
       "          const port = 6006;\n",
       "          if (port) {\n",
       "            url.port = port;\n",
       "          }\n",
       "          frame.src = url;\n",
       "        })();\n",
       "      </script>\n",
       "    "
      ],
      "text/plain": [
       "<IPython.core.display.HTML object>"
      ]
     },
     "metadata": {},
     "output_type": "display_data"
    }
   ],
   "source": [
    "%tensorboard --logdir 'logs/gradient_tape'"
   ]
  },
  {
   "cell_type": "code",
   "execution_count": null,
   "id": "73e9d4e1",
   "metadata": {},
   "outputs": [],
   "source": []
  },
  {
   "cell_type": "code",
   "execution_count": null,
   "id": "c951cfab",
   "metadata": {},
   "outputs": [],
   "source": []
  }
 ],
 "metadata": {
  "kernelspec": {
   "display_name": "Python 3 (ipykernel)",
   "language": "python",
   "name": "python3"
  },
  "language_info": {
   "codemirror_mode": {
    "name": "ipython",
    "version": 3
   },
   "file_extension": ".py",
   "mimetype": "text/x-python",
   "name": "python",
   "nbconvert_exporter": "python",
   "pygments_lexer": "ipython3",
   "version": "3.8.12"
  }
 },
 "nbformat": 4,
 "nbformat_minor": 5
}
