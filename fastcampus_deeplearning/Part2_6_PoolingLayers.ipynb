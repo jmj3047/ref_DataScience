{
 "cells": [
  {
   "cell_type": "markdown",
   "id": "f7dc1af2",
   "metadata": {},
   "source": [
    "# Pooling Layers"
   ]
  },
  {
   "cell_type": "markdown",
   "id": "0fe4eefe",
   "metadata": {},
   "source": [
    "Pooling Layers : window size를 결정하는 역할 = kernel (filter) size의 역할\n",
    "\n",
    "---\n",
    "Padding : input과 output의 shpae이 같아져서, neural network를 더 편하게 디자인 가능\n",
    "- 원래 input의 맨위 맨오른쪽 값은 filter에서 가운데에 올 수가 없는데, padding이 생김으로써 가운데 올 수 있게 되기 때문\n",
    "  - ex) filter size가 3인 경우, padding을 1로 해주면 input과 output shape 같아짐\n",
    "  - ex) filter size가 5인 경우, padding을 2로 해주면 input과 output shape 같아짐\n",
    "- padding이 없을 때 : nH' = nH - f + 1\n",
    "- padding이 있을 때 : <b>nH' = nH + 2p - f + 1</b>\n",
    "---\n",
    "stride : window를 이동할 때 깡충깡충 뛰는 정도\n",
    "- nH' = [ (nH - f) / s + 1 ]\n",
    "- \\[ \\] : 가우스함수\n",
    "  - 2.5면 2로 바뀌는 거\n",
    "  - 깡충깡충 뛰다 보니 중간에 끊길 수 있어서 가우스 함수 사용\n",
    "---\n",
    "### Output 계산 최종 수식 : nH' = \\[ (nH + 2p - f) / s + 1 \\]\n",
    "- ★ Convolutional Layer와 Pooling Layer는 서로 연산의 과정만 다를 뿐이지 Input과 Output을 만들어 내는 과정은 동일함\n",
    "- 따라서, 이 공식은 Convolutional Layer와 Pooling Layer에 동시에 사용될 수 있음"
   ]
  },
  {
   "cell_type": "markdown",
   "id": "23145100",
   "metadata": {},
   "source": [
    "# 1. Max/Avg Pooling"
   ]
  },
  {
   "cell_type": "markdown",
   "id": "21c4e811",
   "metadata": {},
   "source": [
    "## 1.1 Max Pooling\n",
    "\n",
    "아래 코드 실행 결과\n",
    "```\n",
    "x: (1, 10, 1)\n",
    "[-0.0547942   0.40751046  0.85179204 -1.1093632   0.09332124 -2.0045714\n",
    " -0.1958938   1.6280512  -1.3979955  -0.46666163]\n",
    "pooled_max(Tensorflow): (1, 9, 1)\n",
    "[ 0.40751046  0.85179204  0.85179204  0.09332124  0.09332124 -0.1958938\n",
    "  1.6280512   1.6280512  -0.46666163]\n",
    "```\n",
    "\n",
    "해석\n",
    "- 첫 번째 window : -0.0547942, 0.40751046 -> 두 개 값 비교해서 큰 값을 pool_max 결과로 return\n",
    "- 첫 번째 window : 0.40751046, 0.85179204  -> 두 개 값 비교해서 큰 값을 pool_max 결과로 return"
   ]
  },
  {
   "cell_type": "code",
   "execution_count": 1,
   "id": "3a703665",
   "metadata": {},
   "outputs": [
    {
     "name": "stdout",
     "output_type": "stream",
     "text": [
      "x: (1, 10, 1)\n",
      "[-0.0547942   0.40751046  0.85179204 -1.1093632   0.09332124 -2.0045714\n",
      " -0.1958938   1.6280512  -1.3979955  -0.46666163]\n",
      "pooled_max(Tensorflow): (1, 9, 1)\n",
      "[ 0.40751046  0.85179204  0.85179204  0.09332124  0.09332124 -0.1958938\n",
      "  1.6280512   1.6280512  -0.46666163]\n"
     ]
    }
   ],
   "source": [
    "import numpy as np\n",
    "import tensorflow as tf\n",
    "\n",
    "from tensorflow.keras.layers import MaxPooling1D\n",
    "\n",
    "# length, pool size, strides\n",
    "L, f, s = 10, 2, 1\n",
    "\n",
    "# (data개수, length, )\n",
    "# 3차원으로 만들어줘야 연산 가능\n",
    "x = tf.random.normal(shape=(1, L, 1))\n",
    "\n",
    "pool_max = MaxPooling1D(pool_size=f, strides=s)\n",
    "pooled_max = pool_max(x)\n",
    "\n",
    "print('x: {}\\n{}'.format(x.shape, x.numpy().flatten()))\n",
    "print('pooled_max (Tensorflow): {}\\n{}'.format(pooled_max.shape, pooled_max.numpy().flatten()))"
   ]
  },
  {
   "cell_type": "markdown",
   "id": "57f0c033",
   "metadata": {},
   "source": [
    "### manual 구현하기"
   ]
  },
  {
   "cell_type": "code",
   "execution_count": 2,
   "id": "9cc52b29",
   "metadata": {},
   "outputs": [
    {
     "name": "stdout",
     "output_type": "stream",
     "text": [
      "pooled_max (Manual): (9,)\n",
      "[ 0.40751046  0.85179204  0.85179204  0.09332124  0.09332124 -0.19589379\n",
      "  1.62805116  1.62805116 -0.46666163]\n"
     ]
    }
   ],
   "source": [
    "x = x.numpy().flatten()\n",
    "pooled_max_man = np.zeros((L - f + 1, )) # vector로 생성\n",
    "\n",
    "for i in range(L-f+1):\n",
    "    window = x[i:i+f]\n",
    "    pooled_max_man[i] = np.max(window)\n",
    "\n",
    "print('pooled_max (Manual): {}\\n{}'.format(pooled_max_man.shape, pooled_max_man))    "
   ]
  },
  {
   "cell_type": "markdown",
   "id": "66d3df91",
   "metadata": {},
   "source": [
    "## 1.2 Average Pooling\n",
    "\n",
    "아래 코드 실행 결과\n",
    "```\n",
    "x: (1, 10, 1)\n",
    "[-0.93035865  0.25884935 -0.10767653  0.78458476  0.54243124  0.03321408\n",
    "  1.5537585   1.4353794  -1.1747631   2.4723911 ]\n",
    "pooled_avg (Tensorflow): (1, 9, 1)\n",
    "[-0.33575463  0.07558641  0.33845413  0.663508    0.28782266  0.7934863\n",
    "  1.494569    0.13030815  0.648814  ]\n",
    "```\n",
    "\n",
    "해석\n",
    "- 첫 번째 window : -0.93035865, 0.25884935 -> 두 개 값 평균을 pool_avg 결과로 return\n",
    "- 첫 번째 window : 0.25884935, -0.10767653 -> 두 개 값 평균을 pool_avg 결과로 return"
   ]
  },
  {
   "cell_type": "code",
   "execution_count": 3,
   "id": "f6aa99b9",
   "metadata": {},
   "outputs": [
    {
     "name": "stdout",
     "output_type": "stream",
     "text": [
      "x: (1, 10, 1)\n",
      "[-0.93035865  0.25884935 -0.10767653  0.78458476  0.54243124  0.03321408\n",
      "  1.5537585   1.4353794  -1.1747631   2.4723911 ]\n",
      "pooled_avg (Tensorflow): (1, 9, 1)\n",
      "[-0.33575463  0.07558641  0.33845413  0.663508    0.28782266  0.7934863\n",
      "  1.494569    0.13030815  0.648814  ]\n"
     ]
    }
   ],
   "source": [
    "import numpy as np\n",
    "import tensorflow as tf\n",
    "\n",
    "from tensorflow.keras.layers import AveragePooling1D\n",
    "\n",
    "# length, pool size, strides\n",
    "L, f, s = 10, 2, 1\n",
    "\n",
    "# (data개수, length, )\n",
    "# 3차원으로 만들어줘야 연산 가능\n",
    "x = tf.random.normal(shape=(1, L, 1))\n",
    "\n",
    "pool_avg = AveragePooling1D(pool_size=f, strides=s)\n",
    "pooled_avg = pool_avg(x)\n",
    "\n",
    "print('x: {}\\n{}'.format(x.shape, x.numpy().flatten()))\n",
    "print('pooled_avg (Tensorflow): {}\\n{}'.format(pooled_avg.shape, pooled_avg.numpy().flatten()))"
   ]
  },
  {
   "cell_type": "markdown",
   "id": "c8c6471e",
   "metadata": {},
   "source": [
    "### manual 구현하기"
   ]
  },
  {
   "cell_type": "code",
   "execution_count": 4,
   "id": "95f5cde2",
   "metadata": {},
   "outputs": [
    {
     "name": "stdout",
     "output_type": "stream",
     "text": [
      "pooled_max (Manual): (9,)\n",
      "[-0.33575463  0.07558641  0.33845413  0.663508    0.28782266  0.7934863\n",
      "  1.49456894  0.13030815  0.64881402]\n"
     ]
    }
   ],
   "source": [
    "x = x.numpy().flatten()\n",
    "pooled_avg_man = np.zeros((L - f + 1, )) # vector로 생성\n",
    "\n",
    "for i in range(L-f+1):\n",
    "    window = x[i:i+f]\n",
    "    pooled_avg_man[i] = np.mean(window)\n",
    "\n",
    "print('pooled_max (Manual): {}\\n{}'.format(pooled_avg_man.shape, pooled_avg_man))    "
   ]
  },
  {
   "cell_type": "markdown",
   "id": "3aea81e7",
   "metadata": {},
   "source": [
    "# 2. 2D Max/Avg Pooling"
   ]
  },
  {
   "cell_type": "markdown",
   "id": "fc913c38",
   "metadata": {},
   "source": [
    "## 2.1 2D Max Pooling"
   ]
  },
  {
   "cell_type": "code",
   "execution_count": 11,
   "id": "68ad1642",
   "metadata": {},
   "outputs": [
    {
     "name": "stdout",
     "output_type": "stream",
     "text": [
      "x: (1, 5, 5, 1)\n",
      "[-0.40581006 -0.7755887   0.4536614  -0.60249895  1.1758922   1.3404404\n",
      " -0.08737396 -0.21251349 -0.7482148   0.14563105  1.1568428  -0.6773185\n",
      "  0.3421037   1.1991739   0.17702095  1.1102656   0.5061705  -0.09806207\n",
      " -0.39703697  0.59936136 -0.7069311   0.6208182   0.3359118   0.64189774\n",
      "  0.5050034 ]\n",
      "pooled_avg (Tensorflow): (1, 4, 4, 1)\n",
      "[[1.3404404  0.4536614  0.4536614  1.1758922 ]\n",
      " [1.3404404  0.3421037  1.1991739  1.1991739 ]\n",
      " [1.1568428  0.5061705  1.1991739  1.1991739 ]\n",
      " [1.1102656  0.6208182  0.64189774 0.64189774]]\n"
     ]
    }
   ],
   "source": [
    "import numpy as np\n",
    "import tensorflow as tf\n",
    "\n",
    "from tensorflow.keras.layers import MaxPooling2D\n",
    "\n",
    "N, n_H, n_W, n_C = 1, 5, 5, 1\n",
    "f, s = 2, 1     # window size : 2 * 2\n",
    "\n",
    "x = tf.random.normal(shape=(N, n_H, n_W, n_C))\n",
    "pool_max = MaxPooling2D(pool_size=f, strides=s)\n",
    "pooled_max = pool_max(x)\n",
    "\n",
    "print('x: {}\\n{}'.format(x.shape, x.numpy().flatten()))\n",
    "print('pooled_avg (Tensorflow): {}\\n{}'.format(pooled_max.shape, pooled_max.numpy().squeeze()))"
   ]
  },
  {
   "cell_type": "markdown",
   "id": "70520cf6",
   "metadata": {},
   "source": [
    "### manual 구현하기"
   ]
  },
  {
   "cell_type": "code",
   "execution_count": 12,
   "id": "cd65b00a",
   "metadata": {},
   "outputs": [
    {
     "name": "stdout",
     "output_type": "stream",
     "text": [
      "pooled_max (Manual): (4, 4)\n",
      "[[1.34044039 0.45366141 0.45366141 1.17589223]\n",
      " [1.34044039 0.34210369 1.19917393 1.19917393]\n",
      " [1.15684283 0.50617051 1.19917393 1.19917393]\n",
      " [1.11026561 0.6208182  0.64189774 0.64189774]]\n"
     ]
    }
   ],
   "source": [
    "x = x.numpy().squeeze()\n",
    "pooled_max_man = np.zeros(shape=(n_H - f + 1, n_W - f + 1))\n",
    "for h in range(n_H - f + 1):\n",
    "    for w in range(n_W - f + 1):\n",
    "        window = x[h:h+f, w:w+f]\n",
    "        pooled_max_man[h, w] = np.max(window)\n",
    "        \n",
    "print('pooled_max (Manual): {}\\n{}'.format(pooled_max_man.shape, pooled_max_man))"
   ]
  },
  {
   "cell_type": "markdown",
   "id": "0470fd29",
   "metadata": {},
   "source": [
    "## 2.2 2D Average Pooling"
   ]
  },
  {
   "cell_type": "code",
   "execution_count": 13,
   "id": "248236ae",
   "metadata": {},
   "outputs": [
    {
     "name": "stdout",
     "output_type": "stream",
     "text": [
      "x: (1, 5, 5, 1)\n",
      "[-5.9679133e-01 -1.1769327e+00 -6.7112714e-01  2.1431227e+00\n",
      " -7.9815680e-01  3.4782854e-01 -4.7258869e-01  1.3070526e+00\n",
      "  1.4428805e-02  2.2732444e+00  1.2540437e+00 -6.9099069e-01\n",
      "  3.5259512e-01  1.2975372e-03  2.3868905e-01  8.6324334e-01\n",
      "  4.5573133e-01  1.3543911e+00 -1.0269698e+00 -1.1458447e+00\n",
      " -5.4248653e-02  1.1842662e-01  1.0843079e+00 -3.5333827e-01\n",
      " -5.5647647e-01]\n",
      "pooled_avg (Tensorflow): (1, 4, 4, 1)\n",
      "[[-0.47462106 -0.253399    0.69836926  0.9081598 ]\n",
      " [ 0.10957322  0.1240171   0.41884354  0.6319149 ]\n",
      " [ 0.4705069   0.36793172  0.1703285  -0.483207  ]\n",
      " [ 0.34578818  0.75321424  0.26459774 -0.7706573 ]]\n"
     ]
    }
   ],
   "source": [
    "import numpy as np\n",
    "import tensorflow as tf\n",
    "\n",
    "from tensorflow.keras.layers import AveragePooling2D\n",
    "\n",
    "N, n_H, n_W, n_C = 1, 5, 5, 1\n",
    "f, s = 2, 1     # window size : 2 * 2\n",
    "\n",
    "x = tf.random.normal(shape=(N, n_H, n_W, n_C))\n",
    "pool_avg = AveragePooling2D(pool_size=f, strides=s)\n",
    "pooled_avg = pool_avg(x)\n",
    "\n",
    "print('x: {}\\n{}'.format(x.shape, x.numpy().flatten()))\n",
    "print('pooled_avg (Tensorflow): {}\\n{}'.format(pooled_avg.shape, pooled_avg.numpy().squeeze()))"
   ]
  },
  {
   "cell_type": "markdown",
   "id": "4f419f30",
   "metadata": {},
   "source": [
    "### manual 구현하기"
   ]
  },
  {
   "cell_type": "code",
   "execution_count": 14,
   "id": "b898167b",
   "metadata": {},
   "outputs": [
    {
     "name": "stdout",
     "output_type": "stream",
     "text": [
      "pooled_max (Manual): (4, 4)\n",
      "[[-0.47462106 -0.25339901  0.69836926  0.90815979]\n",
      " [ 0.10957322  0.1240171   0.41884354  0.63191491]\n",
      " [ 0.47050691  0.36793172  0.1703285  -0.48320699]\n",
      " [ 0.34578818  0.75321424  0.26459774 -0.7706573 ]]\n"
     ]
    }
   ],
   "source": [
    "x = x.numpy().squeeze()\n",
    "pooled_avg_man = np.zeros(shape=(n_H - f + 1, n_W - f + 1))\n",
    "for h in range(n_H - f + 1):\n",
    "    for w in range(n_W - f + 1):\n",
    "        window = x[h:h+f, w:w+f]\n",
    "        pooled_avg_man[h, w] = np.mean(window)\n",
    "        \n",
    "print('pooled_max (Manual): {}\\n{}'.format(pooled_avg_man.shape, pooled_avg_man))"
   ]
  },
  {
   "cell_type": "markdown",
   "id": "a8da31a3",
   "metadata": {},
   "source": [
    "# 3. 3D Max/Avg Pooling"
   ]
  },
  {
   "cell_type": "markdown",
   "id": "3d11e898",
   "metadata": {},
   "source": [
    "## 3.1 3D Max Pooling"
   ]
  },
  {
   "cell_type": "code",
   "execution_count": 29,
   "id": "ce9fb698",
   "metadata": {},
   "outputs": [
    {
     "name": "stdout",
     "output_type": "stream",
     "text": [
      "x: (1, 5, 5, 3)\n",
      "[[[ 1.6771410e+00 -3.9007729e-01  2.0364550e-01  6.4003956e-01\n",
      "   -2.6975399e-01]\n",
      "  [-9.2723799e-01  7.7468532e-01 -2.2106960e+00 -1.1502150e+00\n",
      "    1.0415221e+00]\n",
      "  [-5.9262133e-01 -1.1357396e+00 -1.8268001e+00  5.4935777e-01\n",
      "   -4.4481173e-02]\n",
      "  [-2.2444602e-03 -8.9262640e-01 -4.2600691e-01  3.9651516e-01\n",
      "    1.6725726e+00]\n",
      "  [ 7.5347102e-01 -3.4644222e-01 -5.8876038e-01 -5.9783936e-01\n",
      "    1.1872431e+00]]\n",
      "\n",
      " [[ 5.2150571e-01 -1.4701381e+00  1.6722034e+00  3.8269854e-01\n",
      "    6.4469194e-01]\n",
      "  [ 8.3342826e-01  7.1976370e-01 -2.1430194e-01  2.6388904e-01\n",
      "   -1.3066710e+00]\n",
      "  [-6.3475721e-02 -6.1799431e-01  5.9652930e-01 -6.4617723e-01\n",
      "   -1.2043085e+00]\n",
      "  [ 1.4801111e+00  8.5217714e-02  6.9329768e-02 -1.8431808e+00\n",
      "   -4.1608950e-01]\n",
      "  [ 6.9367445e-01 -1.4717045e+00  5.5328530e-01 -1.0335166e+00\n",
      "    9.2701870e-01]]\n",
      "\n",
      " [[-8.5099608e-01 -8.6899781e-01 -1.4776031e+00 -2.9475066e-01\n",
      "    1.6979058e-01]\n",
      "  [-9.0862882e-01  2.7692108e+00  6.9684660e-01 -1.7487504e+00\n",
      "   -1.3322046e-01]\n",
      "  [-1.8394323e-01  5.4457647e-01 -1.7515608e+00  1.9193697e+00\n",
      "    1.2954932e+00]\n",
      "  [-8.1939846e-03 -9.2371625e-01 -1.2090375e+00  7.2715741e-01\n",
      "    9.5249951e-01]\n",
      "  [ 1.2177104e+00  3.6710942e-01  3.8013771e-01  3.5222527e-01\n",
      "   -7.4474744e-02]]]\n"
     ]
    }
   ],
   "source": [
    "import math\n",
    "import numpy as np\n",
    "import tensorflow as tf\n",
    "\n",
    "from tensorflow.keras.layers import MaxPooling2D\n",
    "\n",
    "N, n_H, n_W, n_C = 1, 5, 5, 3\n",
    "f, s = 2, 2\n",
    "\n",
    "x = tf.random.normal(shape=(N, n_H, n_W, n_C))\n",
    "\n",
    "# channel-wise로 보고 싶으니, np.transpose를 사용해서 돌려주기\n",
    "print(\"x: {}\\n{}\".format(x.shape, np.transpose(x.numpy().squeeze(), (2, 0, 1))))  # 5 * 5 이미지 3장"
   ]
  },
  {
   "cell_type": "code",
   "execution_count": 30,
   "id": "e898db08",
   "metadata": {},
   "outputs": [
    {
     "name": "stdout",
     "output_type": "stream",
     "text": [
      "pooled_max (Tensorflow): (1, 2, 2, 3)\n",
      "[[[ 1.6771410e+00  6.4003956e-01]\n",
      "  [-2.2444602e-03  5.4935777e-01]]\n",
      "\n",
      " [[ 8.3342826e-01  1.6722034e+00]\n",
      "  [ 1.4801111e+00  5.9652930e-01]]\n",
      "\n",
      " [[ 2.7692108e+00  6.9684660e-01]\n",
      "  [ 5.4457647e-01  1.9193697e+00]]]\n"
     ]
    }
   ],
   "source": [
    "pool_max = MaxPooling2D(pool_size=f, strides=s)\n",
    "pooled_max = pool_max(x)\n",
    "\n",
    "pooled_max_t = np.transpose(pooled_max.numpy().squeeze(), (2, 0, 1))\n",
    "\n",
    "print('pooled_max (Tensorflow): {}\\n{}'.format(pooled_max.shape, pooled_max_t))"
   ]
  },
  {
   "cell_type": "markdown",
   "id": "b63501a4",
   "metadata": {},
   "source": [
    "### manual 구현하기"
   ]
  },
  {
   "cell_type": "code",
   "execution_count": 31,
   "id": "2328978e",
   "metadata": {},
   "outputs": [
    {
     "name": "stdout",
     "output_type": "stream",
     "text": [
      "2 2\n"
     ]
    }
   ],
   "source": [
    "x = x.numpy().squeeze()\n",
    "n_H_ = math.floor((n_H - f) / s + 1)\n",
    "n_W_ = math.floor((n_W - f) / s + 1)\n",
    "print(n_H_, n_W_)"
   ]
  },
  {
   "cell_type": "code",
   "execution_count": 32,
   "id": "2b446979",
   "metadata": {},
   "outputs": [
    {
     "name": "stdout",
     "output_type": "stream",
     "text": [
      "(2, 2, 3)\n"
     ]
    }
   ],
   "source": [
    "pooled_max_man = np.zeros(shape=(n_H_, n_W_, n_C))\n",
    "print(pooled_max_man.shape)"
   ]
  },
  {
   "cell_type": "code",
   "execution_count": 33,
   "id": "207a5114",
   "metadata": {},
   "outputs": [
    {
     "name": "stdout",
     "output_type": "stream",
     "text": [
      "pooled_max (Manual): (2, 2, 3)\n",
      "[[[ 1.67714095e+00  6.40039563e-01]\n",
      "  [-2.24446016e-03  5.49357772e-01]]\n",
      "\n",
      " [[ 8.33428264e-01  1.67220342e+00]\n",
      "  [ 1.48011112e+00  5.96529305e-01]]\n",
      "\n",
      " [[ 2.76921082e+00  6.96846604e-01]\n",
      "  [ 5.44576466e-01  1.91936970e+00]]]\n"
     ]
    }
   ],
   "source": [
    "for c in range(n_C):\n",
    "    c_image = x[:, :, c]  # 3장 중 첫 번째 장부터 차례로 가져옴\n",
    "    \n",
    "    # 0부터 n_H - f + 1까지 가는데 'stride'만큼 깡충 뛰면서 input을 scan해야 함\n",
    "    # input에서는 stride만큼 (2칸씩) 뛰었어도, output에는 1칸씩 이동하면서 결과물을 return해야 함\n",
    "    # = input 대비 output의 사이즈가 줄어듦 (input과 output의 indexing이 다름)\n",
    "    # → w_, h_ 로 일종의 trick 사용해서 코딩하기\n",
    "    h_ = 0\n",
    "    for h in range(0, n_H - f + 1, s):\n",
    "        w_ = 0\n",
    "        for w in range(0, n_W - f + 1, s):\n",
    "            window = c_image[h:h+f, w:w+f]\n",
    "            pooled_max_man[h_, w_, c] = np.max(window)\n",
    "            w_ += 1\n",
    "        h_ += 1\n",
    "\n",
    "pooled_max_t = np.transpose(pooled_max_man, (2, 0, 1))\n",
    "print('pooled_max (Manual): {}\\n{}'.format(pooled_max_man.shape, pooled_max_t))"
   ]
  },
  {
   "cell_type": "markdown",
   "id": "109b7843",
   "metadata": {},
   "source": [
    "# 4. Padding"
   ]
  },
  {
   "cell_type": "markdown",
   "id": "23ec636d",
   "metadata": {},
   "source": [
    "## 4.1 ZeroPadding2D Layer"
   ]
  },
  {
   "cell_type": "code",
   "execution_count": 35,
   "id": "e6617d88",
   "metadata": {
    "scrolled": true
   },
   "outputs": [
    {
     "name": "stdout",
     "output_type": "stream",
     "text": [
      "[[[-1.0773331   1.2158711  -1.6318449 ]\n",
      "  [-1.0978109   2.3492126   0.9505234 ]\n",
      "  [-1.2878962   1.2512544   0.6651746 ]]\n",
      "\n",
      " [[-0.84229577  1.2163715  -0.45278594]\n",
      "  [-0.67890775  0.41621312  0.32558224]\n",
      "  [-1.2423313  -2.8177445   0.3392142 ]]\n",
      "\n",
      " [[-1.5042193   0.682055   -1.76488   ]\n",
      "  [-2.5587578   0.65947354  1.6253126 ]\n",
      "  [-0.769456    1.980295   -0.73028654]]]\n"
     ]
    }
   ],
   "source": [
    "import numpy as np\n",
    "import tensorflow as tf\n",
    "\n",
    "from tensorflow.keras.layers import ZeroPadding2D\n",
    "\n",
    "images = tf.random.normal(shape=(1,3,3,3))\n",
    "print(np.transpose(images.numpy().squeeze(), (2,0,1)))"
   ]
  },
  {
   "cell_type": "markdown",
   "id": "578432a6",
   "metadata": {},
   "source": [
    "<b>위 x에 padding을 1만큼 했을 때 : 상/하/좌/우를 1이 둘러쌈</b>"
   ]
  },
  {
   "cell_type": "code",
   "execution_count": 36,
   "id": "3244de56",
   "metadata": {},
   "outputs": [
    {
     "name": "stdout",
     "output_type": "stream",
     "text": [
      "[[[ 0.          0.          0.          0.          0.        ]\n",
      "  [ 0.         -1.0773331   1.2158711  -1.6318449   0.        ]\n",
      "  [ 0.         -1.0978109   2.3492126   0.9505234   0.        ]\n",
      "  [ 0.         -1.2878962   1.2512544   0.6651746   0.        ]\n",
      "  [ 0.          0.          0.          0.          0.        ]]\n",
      "\n",
      " [[ 0.          0.          0.          0.          0.        ]\n",
      "  [ 0.         -0.84229577  1.2163715  -0.45278594  0.        ]\n",
      "  [ 0.         -0.67890775  0.41621312  0.32558224  0.        ]\n",
      "  [ 0.         -1.2423313  -2.8177445   0.3392142   0.        ]\n",
      "  [ 0.          0.          0.          0.          0.        ]]\n",
      "\n",
      " [[ 0.          0.          0.          0.          0.        ]\n",
      "  [ 0.         -1.5042193   0.682055   -1.76488     0.        ]\n",
      "  [ 0.         -2.5587578   0.65947354  1.6253126   0.        ]\n",
      "  [ 0.         -0.769456    1.980295   -0.73028654  0.        ]\n",
      "  [ 0.          0.          0.          0.          0.        ]]]\n"
     ]
    }
   ],
   "source": [
    "zero_padding = ZeroPadding2D(padding=1)\n",
    "y = zero_padding(images)\n",
    "print(np.transpose(y.numpy().squeeze(), (2,0,1)))"
   ]
  },
  {
   "cell_type": "markdown",
   "id": "da248243",
   "metadata": {},
   "source": [
    "0들이 채워져서 크기가 커짐"
   ]
  },
  {
   "cell_type": "code",
   "execution_count": 37,
   "id": "6b35f8ae",
   "metadata": {},
   "outputs": [
    {
     "name": "stdout",
     "output_type": "stream",
     "text": [
      "(1, 3, 3, 3)\n",
      "(1, 5, 5, 3)\n"
     ]
    }
   ],
   "source": [
    "print(images.shape)\n",
    "print(y.shape)"
   ]
  },
  {
   "cell_type": "markdown",
   "id": "a5341521",
   "metadata": {},
   "source": [
    "## 4.2 Zero Padding with Conv2D Layers\n",
    "\n",
    "ZeroPadding2D를 쓰지 않고 Conv2D를 활용해서도 만들 수 있음\n",
    "- 주로 padding='same'/'valid' 사용\n",
    "- padding='valid' : padding을 안 쓰겠다는 의미\n",
    "- padding='same' : kernel이 움직일 때, corner case를 계산해서 <b>input과 output의 shape이 바뀌지 않도록 padding 자동 설정</b> ★\n",
    "  - kernel_size=3 일 때 (3 - 1) / 2 를 padding하면 input/output shape 안 바뀜"
   ]
  },
  {
   "cell_type": "code",
   "execution_count": 38,
   "id": "b6462bf8",
   "metadata": {},
   "outputs": [
    {
     "name": "stdout",
     "output_type": "stream",
     "text": [
      "(1, 28, 28, 1)\n"
     ]
    }
   ],
   "source": [
    "import tensorflow as tf\n",
    "\n",
    "from tensorflow.keras.layers import Conv2D\n",
    "\n",
    "images = tf.random.normal(shape=(1,28,28,3))\n",
    "conv = Conv2D(filters=1, kernel_size=3, padding='same')\n",
    "y = conv(images)\n",
    "print(y.shape)"
   ]
  },
  {
   "cell_type": "markdown",
   "id": "583e5ba1",
   "metadata": {},
   "source": [
    "# 5. Strides\n",
    "\n",
    "★ Conv2D vs Pooling : stride가 똑같은 경우\n",
    "- 공통점 : Output의 height, width 결과 똑같이 나옴\n",
    "- 차이점 : Channel 개수\n",
    "  - Conv2D는 filter의 개수에 따라 channel이 정해짐\n",
    "  - MaxPooling은 각 채널마다 MaxPooling을 해 줌"
   ]
  },
  {
   "cell_type": "markdown",
   "id": "ec1f8cda",
   "metadata": {},
   "source": [
    "## 5.1 Strides in Conv2D Layers"
   ]
  },
  {
   "cell_type": "code",
   "execution_count": 39,
   "id": "256a7cff",
   "metadata": {},
   "outputs": [
    {
     "name": "stdout",
     "output_type": "stream",
     "text": [
      "(1, 28, 28, 3)\n",
      "(1, 13, 13, 1)\n"
     ]
    }
   ],
   "source": [
    "import tensorflow as tf\n",
    "\n",
    "from tensorflow.keras.layers import Conv2D\n",
    "\n",
    "images = tf.random.normal(shape=(1,28,28,3))\n",
    "conv = Conv2D(filters=1, kernel_size=3, padding='valid', strides=2)  # padding='valid' : padding 안함\n",
    "y = conv(images)\n",
    "\n",
    "print(images.shape)\n",
    "print(y.shape)  # 앞에서 배운 공식이 그대로 적용된 것 확인할 수 있음"
   ]
  },
  {
   "cell_type": "markdown",
   "id": "c897f12f",
   "metadata": {},
   "source": [
    "## 5.2 Strides in Pooling Layers"
   ]
  },
  {
   "cell_type": "code",
   "execution_count": 41,
   "id": "1cac5439",
   "metadata": {},
   "outputs": [
    {
     "name": "stdout",
     "output_type": "stream",
     "text": [
      "(1, 28, 28, 3)\n",
      "(1, 13, 13, 3)\n"
     ]
    }
   ],
   "source": [
    "import tensorflow as tf\n",
    "\n",
    "from tensorflow.keras.layers import MaxPooling2D\n",
    "\n",
    "images = tf.random.normal(shape=(1,28,28,3))\n",
    "pool = MaxPooling2D(pool_size=3, strides=2)  # pool_size : 위에서 kernel_size와 똑같이 설정\n",
    "y = pool(images)\n",
    "\n",
    "print(images.shape)\n",
    "print(y.shape)"
   ]
  },
  {
   "cell_type": "code",
   "execution_count": null,
   "id": "323c05ef",
   "metadata": {},
   "outputs": [],
   "source": []
  }
 ],
 "metadata": {
  "kernelspec": {
   "display_name": "Python 3 (ipykernel)",
   "language": "python",
   "name": "python3"
  },
  "language_info": {
   "codemirror_mode": {
    "name": "ipython",
    "version": 3
   },
   "file_extension": ".py",
   "mimetype": "text/x-python",
   "name": "python",
   "nbconvert_exporter": "python",
   "pygments_lexer": "ipython3",
   "version": "3.8.12"
  }
 },
 "nbformat": 4,
 "nbformat_minor": 5
}
