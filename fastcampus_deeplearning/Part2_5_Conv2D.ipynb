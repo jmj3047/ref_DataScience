{
 "cells": [
  {
   "cell_type": "markdown",
   "id": "6034fa8b",
   "metadata": {},
   "source": [
    "# 1. Conv Layers"
   ]
  },
  {
   "cell_type": "markdown",
   "id": "3c547a68",
   "metadata": {},
   "source": [
    "## 1.1 Shapes of Conv Layers"
   ]
  },
  {
   "cell_type": "code",
   "execution_count": 3,
   "id": "87a00faa",
   "metadata": {},
   "outputs": [
    {
     "name": "stdout",
     "output_type": "stream",
     "text": [
      "(1, 28, 28, 1)\n"
     ]
    }
   ],
   "source": [
    "import tensorflow as tf\n",
    "\n",
    "from tensorflow.keras.layers import Conv2D\n",
    "\n",
    "# 몇 장을 사용할지 (차원), height, width, channel\n",
    "N, n_H, n_W, n_C = 1, 28, 28, 1\n",
    "n_filter = 1\n",
    "k_size = 3         # filter (kernel) size\n",
    "\n",
    "images = tf.random.uniform(minval=0, maxval=1,\n",
    "                           shape=((N, n_H, n_W, n_C)))\n",
    "\n",
    "print(images.shape)"
   ]
  },
  {
   "cell_type": "code",
   "execution_count": 4,
   "id": "913bd964",
   "metadata": {},
   "outputs": [
    {
     "name": "stdout",
     "output_type": "stream",
     "text": [
      "(1, 28, 28, 1)\n",
      "(3, 3, 1, 1)\n",
      "(1,)\n",
      "(1, 26, 26, 1)\n"
     ]
    }
   ],
   "source": [
    "conv = Conv2D(filters = n_filter,\n",
    "              kernel_size = k_size)\n",
    "\n",
    "# 이미지가 conv 통과한 뒤에 kernel이 초기화 됨\n",
    "# 이 코드 이후에 weight, bias 불러올 수 있음\n",
    "y = conv(images)\n",
    "\n",
    "W, B = conv.get_weights()\n",
    "\n",
    "print(images.shape)\n",
    "print(W.shape)  # 3*3 (kernel size) * 1 (channel size), 1 (bias 값 개수)\n",
    "print(B.shape)\n",
    "print(y.shape)  # 28 - 3 + 1 = 26"
   ]
  },
  {
   "cell_type": "markdown",
   "id": "e010256d",
   "metadata": {},
   "source": [
    "### 1.1.1 input의 채널 늘려보기"
   ]
  },
  {
   "cell_type": "code",
   "execution_count": 6,
   "id": "c7084c67",
   "metadata": {},
   "outputs": [
    {
     "name": "stdout",
     "output_type": "stream",
     "text": [
      "(1, 28, 28, 5)\n",
      "(3, 3, 5, 1)\n",
      "(1,)\n",
      "(1, 26, 26, 1)\n"
     ]
    }
   ],
   "source": [
    "import tensorflow as tf\n",
    "\n",
    "from tensorflow.keras.layers import Conv2D\n",
    "\n",
    "N, n_H, n_W, n_C = 1, 28, 28, 5   # n_C 변경\n",
    "n_filter = 1\n",
    "k_size = 3         # filter (kernel) size\n",
    "\n",
    "images = tf.random.uniform(minval=0, maxval=1,\n",
    "                           shape=((N, n_H, n_W, n_C)))\n",
    "\n",
    "conv = Conv2D(filters = n_filter,\n",
    "              kernel_size = k_size)\n",
    "\n",
    "y = conv(images)\n",
    "\n",
    "W, B = conv.get_weights()\n",
    "\n",
    "print(images.shape)\n",
    "\n",
    "# 3*3 (kernel size) * 5 (channel size), 1 (bias 값 개수)\n",
    "# element-wise로 계산하니 결과는 scalar 값 하나가 나옴 = 한 장의 이미지\n",
    "print(W.shape)\n",
    "\n",
    "print(B.shape)\n",
    "print(y.shape)  # 28 - 3 + 1 = 26"
   ]
  },
  {
   "cell_type": "markdown",
   "id": "388c3e71",
   "metadata": {},
   "source": [
    "### 1.1.2 neuron 개수 늘려보기"
   ]
  },
  {
   "cell_type": "code",
   "execution_count": 7,
   "id": "9fc82aff",
   "metadata": {},
   "outputs": [
    {
     "name": "stdout",
     "output_type": "stream",
     "text": [
      "(1, 28, 28, 5)\n",
      "(3, 3, 5, 10)\n",
      "(10,)\n",
      "(1, 26, 26, 10)\n"
     ]
    }
   ],
   "source": [
    "import tensorflow as tf\n",
    "\n",
    "from tensorflow.keras.layers import Conv2D\n",
    "\n",
    "N, n_H, n_W, n_C = 1, 28, 28, 5 \n",
    "n_filter = 10      # neuron 개수 변경\n",
    "k_size = 3         # filter (kernel) size\n",
    "\n",
    "images = tf.random.uniform(minval=0, maxval=1,\n",
    "                           shape=((N, n_H, n_W, n_C)))\n",
    "\n",
    "conv = Conv2D(filters = n_filter,\n",
    "              kernel_size = k_size)\n",
    "\n",
    "y = conv(images)\n",
    "\n",
    "W, B = conv.get_weights()\n",
    "\n",
    "print(images.shape)\n",
    "\n",
    "# 3*3 (kernel size) * 5 (channel size), 1 (bias 값 개수)\n",
    "# element-wise로 계산하니 결과는 scalar 값 하나가 나옴 = 한 장의 이미지\n",
    "print(W.shape)\n",
    "\n",
    "print(B.shape)\n",
    "print(y.shape)  # 28 - 3 + 1 = 26"
   ]
  },
  {
   "cell_type": "code",
   "execution_count": null,
   "id": "cd228581",
   "metadata": {},
   "outputs": [],
   "source": [
    "### 1.1.3 input의 image 개수 늘려보기"
   ]
  },
  {
   "cell_type": "code",
   "execution_count": 8,
   "id": "d267c978",
   "metadata": {},
   "outputs": [
    {
     "name": "stdout",
     "output_type": "stream",
     "text": [
      "(32, 28, 28, 5)\n",
      "(3, 3, 5, 10)\n",
      "(10,)\n",
      "(32, 26, 26, 10)\n"
     ]
    }
   ],
   "source": [
    "import tensorflow as tf\n",
    "\n",
    "from tensorflow.keras.layers import Conv2D\n",
    "\n",
    "# N : input image 개수 변경\n",
    "N, n_H, n_W, n_C = 32, 28, 28, 5 \n",
    "n_filter = 10\n",
    "k_size = 3         # filter (kernel) size\n",
    "\n",
    "images = tf.random.uniform(minval=0, maxval=1,\n",
    "                           shape=((N, n_H, n_W, n_C)))\n",
    "\n",
    "conv = Conv2D(filters = n_filter,\n",
    "              kernel_size = k_size)\n",
    "\n",
    "y = conv(images)\n",
    "\n",
    "W, B = conv.get_weights()\n",
    "\n",
    "print(images.shape)\n",
    "\n",
    "# 3*3 (kernel size) * 5 (channel size), 1 (bias 값 개수)\n",
    "# element-wise로 계산하니 결과는 scalar 값 하나가 나옴 = 한 장의 이미지\n",
    "print(W.shape)\n",
    "\n",
    "print(B.shape)\n",
    "print(y.shape)  # 28 - 3 + 1 = 26"
   ]
  },
  {
   "cell_type": "markdown",
   "id": "9b30dae4",
   "metadata": {},
   "source": [
    "## 1.2 Correlation Calculation"
   ]
  },
  {
   "cell_type": "code",
   "execution_count": 17,
   "id": "1f8a2886",
   "metadata": {},
   "outputs": [
    {
     "name": "stdout",
     "output_type": "stream",
     "text": [
      "Y (Tensorflow):  (1, 3, 3, 1)\n",
      "Y (Tensorflow):  [[-0.23396385  0.7658437   0.10931379]\n",
      " [ 0.18021762  0.3420511   0.23813182]\n",
      " [ 0.09675416  0.6452862  -0.15992709]]\n"
     ]
    }
   ],
   "source": [
    "import numpy as np\n",
    "import tensorflow as tf\n",
    "\n",
    "from tensorflow.keras.layers import Conv2D\n",
    "\n",
    "N, n_H, n_W, n_C = 1, 5, 5, 1\n",
    "n_filter = 1\n",
    "k_size = 3\n",
    "\n",
    "images = tf.random.uniform(minval=0, maxval=1,\n",
    "                           shape=((N, n_H, n_W, n_C)))\n",
    "\n",
    "conv = Conv2D(filters = n_filter, kernel_size = k_size)\n",
    "\n",
    "y = conv(images)\n",
    "print('Y (Tensorflow): ', y.numpy().shape)\n",
    "\n",
    "# ★ squeeze : shape이 (1, 3, 3, 1)인 경우, 앞뒤 1을 없애줌 = 필요없는 dimension 없애줌\n",
    "print('Y (Tensorflow): ', y.numpy().squeeze())  # 결과 : 3 * 3\n",
    "\n",
    "W, B = conv.get_weights()"
   ]
  },
  {
   "cell_type": "code",
   "execution_count": 18,
   "id": "df8a62d0",
   "metadata": {},
   "outputs": [
    {
     "name": "stdout",
     "output_type": "stream",
     "text": [
      "(1, 5, 5, 1)\n",
      "(3, 3, 1, 1)\n",
      "(1,)\n"
     ]
    }
   ],
   "source": [
    "print(images.shape)\n",
    "print(W.shape)\n",
    "print(B.shape)"
   ]
  },
  {
   "cell_type": "code",
   "execution_count": 19,
   "id": "6cad6d13",
   "metadata": {},
   "outputs": [
    {
     "name": "stdout",
     "output_type": "stream",
     "text": [
      "(5, 5)\n",
      "(3, 3)\n",
      "(1,)\n"
     ]
    }
   ],
   "source": [
    "images = images.numpy().squeeze()\n",
    "W = W.squeeze()\n",
    "\n",
    "print(images.shape)\n",
    "print(W.shape)\n",
    "print(B.shape)"
   ]
  },
  {
   "cell_type": "code",
   "execution_count": 23,
   "id": "a0b705ee",
   "metadata": {},
   "outputs": [
    {
     "name": "stdout",
     "output_type": "stream",
     "text": [
      "Y (Manual):  [[-0.23396385  0.76584369  0.10931379]\n",
      " [ 0.18021768  0.34205109  0.23813188]\n",
      " [ 0.09675419  0.6452862  -0.15992709]]\n"
     ]
    }
   ],
   "source": [
    "y_man = np.zeros(shape=(n_H - k_size + 1, n_W - k_size + 1))\n",
    "\n",
    "for i in range(n_H - k_size + 1):\n",
    "    for j in range(n_W - k_size + 1):\n",
    "        # print(i, j)   # 이동하는 window의 첫 번째 index를 잡아줌\n",
    "        \n",
    "        window = images[i : i+k_size, j : j+k_size]\n",
    "        # print(window.shape)\n",
    "        \n",
    "        # conv(images) manual 계산\n",
    "        y_man[i, j] = np.sum(window * W) + B\n",
    "        \n",
    "print('Y (Manual): ', y_man)"
   ]
  },
  {
   "cell_type": "markdown",
   "id": "7a5b5fb3",
   "metadata": {},
   "source": [
    "## 1.3 Correlation with n-Channel"
   ]
  },
  {
   "cell_type": "code",
   "execution_count": 27,
   "id": "811c921b",
   "metadata": {},
   "outputs": [
    {
     "name": "stdout",
     "output_type": "stream",
     "text": [
      "Y (Tensorflow):  [[0.72504264 0.8121899  1.2083075 ]\n",
      " [1.162451   0.66338664 1.4295512 ]\n",
      " [0.38495976 0.5965969  1.0655301 ]]\n",
      "(1, 5, 5, 3)\n",
      "(3, 3, 3, 1)\n",
      "(5, 5, 3)\n",
      "(3, 3, 3)\n"
     ]
    }
   ],
   "source": [
    "import numpy as np\n",
    "import tensorflow as tf\n",
    "\n",
    "from tensorflow.keras.layers import Conv2D\n",
    "\n",
    "# color image라서 n_C가 3이었다고 가정\n",
    "N, n_H, n_W, n_C = 1, 5, 5, 3\n",
    "n_filter = 1\n",
    "k_size = 3\n",
    "\n",
    "images = tf.random.uniform(minval=0, maxval=1,\n",
    "                           shape=((N, n_H, n_W, n_C)))\n",
    "\n",
    "conv = Conv2D(filters = n_filter, kernel_size = k_size)\n",
    "\n",
    "y = conv(images)\n",
    "print('Y (Tensorflow): ', y.numpy().squeeze())\n",
    "\n",
    "W, B = conv.get_weights()\n",
    "\n",
    "print(images.shape)\n",
    "print(W.shape)\n",
    "\n",
    "images = images.numpy().squeeze()\n",
    "W = W.squeeze()\n",
    "\n",
    "print(images.shape)\n",
    "print(W.shape)"
   ]
  },
  {
   "cell_type": "code",
   "execution_count": 28,
   "id": "92454382",
   "metadata": {},
   "outputs": [
    {
     "name": "stdout",
     "output_type": "stream",
     "text": [
      "Y (Manual):  [[0.72504276 0.81218988 1.20830762]\n",
      " [1.16245103 0.6633867  1.42955124]\n",
      " [0.38495994 0.5965969  1.06552994]]\n"
     ]
    }
   ],
   "source": [
    "y_man = np.zeros(shape=(n_H - k_size + 1, n_W - k_size + 1))\n",
    "\n",
    "for i in range(n_H - k_size + 1):\n",
    "    for j in range(n_W - k_size + 1):\n",
    "        \n",
    "        window = images[i : i+k_size, j : j+k_size, :]  # 이 부분만 n-Channel에 따라 코드 달라짐\n",
    "        y_man[i, j] = np.sum(window * W) + B   # conv(images) manual 계산\n",
    "        \n",
    "print('Y (Manual): ', y_man)"
   ]
  },
  {
   "cell_type": "markdown",
   "id": "71be2a87",
   "metadata": {},
   "source": [
    "# 2. Conv Layer with Filters"
   ]
  },
  {
   "cell_type": "markdown",
   "id": "e7711da5",
   "metadata": {},
   "source": [
    "## 2.1 Shapes with Filters"
   ]
  },
  {
   "cell_type": "markdown",
   "id": "3572df74",
   "metadata": {},
   "source": [
    "딥러닝에서 어떤 걸 배워도 아래와 같이 검증하는 것에 익숙해져야 함\n",
    "- 이 때 가장 쉬운 방법은 shape을 따지는 것\n",
    "- 특히 RNN 처럼 복잡해질수록 shape을 잘 따져줘야 함\n",
    "- 지금부터 연습 잘 해두기"
   ]
  },
  {
   "cell_type": "code",
   "execution_count": 32,
   "id": "8d059934",
   "metadata": {},
   "outputs": [
    {
     "name": "stdout",
     "output_type": "stream",
     "text": [
      "Input Image: (1, 28, 28, 3)\n",
      "W/B: (3, 3, 3, 5) / (5,)\n",
      "Output Image: (1, 26, 26, 5)\n"
     ]
    }
   ],
   "source": [
    "import tensorflow as tf\n",
    "\n",
    "from tensorflow.keras.layers import Conv2D\n",
    "\n",
    "N, n_H, n_W, n_C = 1, 28, 28, 3\n",
    "n_filter = 5\n",
    "k_size = 3\n",
    "\n",
    "images = tf.random.uniform(minval=0, maxval=1,\n",
    "                           shape=(N, n_H, n_W, n_C))\n",
    "\n",
    "conv = Conv2D(filters=n_filter, kernel_size=k_size)\n",
    "\n",
    "Y = conv(images)\n",
    "\n",
    "W, B = conv.get_weights()\n",
    "\n",
    "print('Input Image: {}'.format(images.shape))\n",
    "print('W/B: {} / {}'.format(W.shape, B.shape))\n",
    "print('Output Image: {}'.format(Y.shape))"
   ]
  },
  {
   "cell_type": "markdown",
   "id": "50ac4f23",
   "metadata": {},
   "source": [
    "<b>결과 해석</b>\n",
    "- 3차원 이미지가 input됨 : 28 * 28 * 3\n",
    "  - window size가 3이니까 '3\\*3\\*3'인 3차원 window가 만들어짐 \n",
    "  - window size에 element wise product을 해주려면 kernel size도 '3\\*3\\*3' size여야 함\n",
    "    - n_filter 지정에 따라 kernel가 5개가 생김\n",
    "    - kernel들은 각각 한 장의 이미지를 만들어내니, 총 5개의 사진이 만들어지는 것\n",
    "- Weight (3, 3, 3, 5) : '3\\*3\\*3'이 5개가 있다\n",
    "- Bias (5, ) : kernel마다 bias가 있으니, bias도 5개가 있다\n",
    "- Output (1, 26, 26, 5) : 28-3+1 = 26 → '26 * 26 * 5'가 1개 (데이터 개수) 만들어짐\n",
    "  - 데이터 개수는 Dense Layer처럼 계속 바뀌지 않음"
   ]
  },
  {
   "cell_type": "markdown",
   "id": "51e9f1dd",
   "metadata": {},
   "source": [
    "## 2.2 Computations with Filters"
   ]
  },
  {
   "cell_type": "code",
   "execution_count": 87,
   "id": "f064b8db",
   "metadata": {},
   "outputs": [
    {
     "name": "stdout",
     "output_type": "stream",
     "text": [
      "(1, 2, 2, 3)\n",
      "Y (Tensorflow): \n",
      " [[[[ 0.38629398  0.35393167 -1.0221311 ]\n",
      "   [ 0.5403331   0.63368464 -1.1689563 ]]\n",
      "\n",
      "  [[ 0.16262168  0.13914028 -1.0910604 ]\n",
      "   [ 0.2339564   0.1160766  -0.4636816 ]]]]\n"
     ]
    }
   ],
   "source": [
    "import numpy as np\n",
    "import tensorflow as tf\n",
    "\n",
    "from tensorflow.keras.layers import Conv2D\n",
    "\n",
    "N, n_H, n_W, n_C = 1, 5, 5, 3\n",
    "n_filter = 3\n",
    "k_size = 4   # kernel size는 보통 홀수 값으로 선정하는데, 여기서는 연습삼아 4로 설정\n",
    "images = tf.random.uniform(minval=0, maxval=1,\n",
    "                           shape=(N, n_H, n_W, n_C))\n",
    "\n",
    "# Forward Propagation (Tensorflow)\n",
    "conv = Conv2D(filters=n_filter, kernel_size=k_size)\n",
    "Y = conv(images)\n",
    "print(Y.shape)\n",
    "print(\"Y (Tensorflow): \\n\", Y.numpy())"
   ]
  },
  {
   "cell_type": "markdown",
   "id": "315d0e58",
   "metadata": {},
   "source": [
    "### 2.2.1 squeeze & swapaxes 예시\n",
    "\n",
    "- 위 Y 차원 구성이 너무 복잡하니까, 아래와 같이 squeeze, swapaxes를 사용해서 간단하게 바꿔볼 수 있음</b>\n",
    "  - ★ swapaxes : 첫 번째 차원과 마지막 차원을 바꿔줘라"
   ]
  },
  {
   "cell_type": "code",
   "execution_count": 88,
   "id": "29c1f674",
   "metadata": {
    "scrolled": true
   },
   "outputs": [
    {
     "name": "stdout",
     "output_type": "stream",
     "text": [
      "(1, 2, 2, 3)\n",
      "(2, 2, 3)\n",
      "(3, 2, 2)\n"
     ]
    }
   ],
   "source": [
    "print(Y.numpy().shape)\n",
    "print(Y.numpy().squeeze().shape)\n",
    "print(Y.numpy().squeeze().swapaxes(0, -1).shape)"
   ]
  },
  {
   "cell_type": "markdown",
   "id": "038745df",
   "metadata": {},
   "source": [
    "### 2.2.2 좀 더 간단하게 numpy를 활용한 예시"
   ]
  },
  {
   "cell_type": "code",
   "execution_count": 89,
   "id": "1781d0ce",
   "metadata": {},
   "outputs": [
    {
     "name": "stdout",
     "output_type": "stream",
     "text": [
      "(2, 3, 4) \n",
      " [[[8 0 2 1]\n",
      "  [5 8 8 8]\n",
      "  [4 4 0 1]]\n",
      "\n",
      " [[2 2 3 5]\n",
      "  [9 4 4 2]\n",
      "  [8 9 7 3]]]\n"
     ]
    }
   ],
   "source": [
    "import numpy as np\n",
    "\n",
    "images = np.random.randint(low=0, high=10, size=(2,3,4))\n",
    "print(images.shape, '\\n', images)"
   ]
  },
  {
   "cell_type": "markdown",
   "id": "1bcc8a8a",
   "metadata": {},
   "source": [
    "채널 별 이미지 보기\n",
    "- 첫 번째 채널의 이미지 : [[4 4 7] [9 2 1]]\n",
    "- 두 번째 채널의 이미지 : [[0 0 1] [6 8 0]]\n",
    "- 세 번째 채널의 이미지 : [[3 1 9] [0 6 5]]\n",
    "- 네 번째 채널의 이미지 : [[8 6 5] [5 8 6]]"
   ]
  },
  {
   "cell_type": "code",
   "execution_count": 90,
   "id": "2e271f85",
   "metadata": {},
   "outputs": [
    {
     "name": "stdout",
     "output_type": "stream",
     "text": [
      "[[8 5 4]\n",
      " [2 9 8]]\n",
      "[[0 8 4]\n",
      " [2 4 9]]\n",
      "[[2 8 0]\n",
      " [3 4 7]]\n",
      "[[1 8 1]\n",
      " [5 2 3]]\n"
     ]
    }
   ],
   "source": [
    "for c in range(4):\n",
    "    print(images[:, :, c])"
   ]
  },
  {
   "cell_type": "markdown",
   "id": "f1ad2fc1",
   "metadata": {},
   "source": [
    "- 원래 image size : (2, 3, 4)\n",
    "  - 0번째 차원 : 2\n",
    "  - 1번째 차원 : 3\n",
    "  - 2번째 차원 : 4\n",
    "- np.transpose(images, (2, 0, 1))\n",
    "  - 2번째 차원을 0번째 차원으로 변경\n",
    "  - 0번째 차원을 1번째 차원으로 변경\n",
    "  - 1번째 차원을 2번째 차원으로 변경\n",
    "- 변경 후 size : (4, 2, 3)"
   ]
  },
  {
   "cell_type": "code",
   "execution_count": 91,
   "id": "dc075bc3",
   "metadata": {},
   "outputs": [
    {
     "name": "stdout",
     "output_type": "stream",
     "text": [
      "(4, 2, 3)\n"
     ]
    }
   ],
   "source": [
    "tmp = np.transpose(images, (2, 0, 1))\n",
    "print(tmp.shape)"
   ]
  },
  {
   "cell_type": "markdown",
   "id": "e2de93d5",
   "metadata": {},
   "source": [
    "위에서 아래 코드 실행했던 것과 동일한 결과 나옴\n",
    "```python\n",
    "for c in range(4):\n",
    "    print(images[:, :, c])\n",
    "```    "
   ]
  },
  {
   "cell_type": "code",
   "execution_count": 92,
   "id": "b824fcea",
   "metadata": {},
   "outputs": [
    {
     "name": "stdout",
     "output_type": "stream",
     "text": [
      "[[8 5 4]\n",
      " [2 9 8]]\n",
      "[[0 8 4]\n",
      " [2 4 9]]\n",
      "[[2 8 0]\n",
      " [3 4 7]]\n",
      "[[1 8 1]\n",
      " [5 2 3]]\n"
     ]
    }
   ],
   "source": [
    "for c in range(4):\n",
    "    print(tmp[c, :, :])"
   ]
  },
  {
   "cell_type": "markdown",
   "id": "e5cdc561",
   "metadata": {},
   "source": [
    "### 2.2.3 Transpose 적용하기"
   ]
  },
  {
   "cell_type": "code",
   "execution_count": 93,
   "id": "590ab30c",
   "metadata": {},
   "outputs": [],
   "source": [
    "import numpy as np\n",
    "import tensorflow as tf\n",
    "\n",
    "from tensorflow.keras.layers import Conv2D\n",
    "\n",
    "N, n_H, n_W, n_C = 1, 5, 5, 3\n",
    "n_filter = 3\n",
    "k_size = 4        # kernel size는 보통 홀수 값으로 선정하는데, 여기서는 연습삼아 4로 설정\n",
    "images = tf.random.uniform(minval=0, maxval=1,\n",
    "                           shape=(N, n_H, n_W, n_C))"
   ]
  },
  {
   "cell_type": "markdown",
   "id": "4bf0d1af",
   "metadata": {},
   "source": [
    "<b>Forward Propagation (Tensorflow)</b>"
   ]
  },
  {
   "cell_type": "code",
   "execution_count": 94,
   "id": "be4fc047",
   "metadata": {},
   "outputs": [
    {
     "name": "stdout",
     "output_type": "stream",
     "text": [
      "(4, 4, 3, 3) (3,)\n",
      "\n",
      "Y (Tensorflow): \n",
      " [[[ 0.64011157  0.6090236 ]\n",
      "  [-0.21341035 -0.35040626]]\n",
      "\n",
      " [[-0.20548698 -0.28521046]\n",
      "  [ 0.26701385 -0.00487614]]\n",
      "\n",
      " [[ 0.38349116 -0.11999119]\n",
      "  [ 0.55846655  0.8831266 ]]]\n"
     ]
    }
   ],
   "source": [
    "conv = Conv2D(filters=n_filter, kernel_size=k_size)\n",
    "Y = conv(images)\n",
    "\n",
    "Y = np.transpose(Y.numpy().squeeze(), (2, 0, 1))\n",
    "\n",
    "W, B = conv.get_weights()\n",
    "print(W.shape, B.shape)\n",
    "\n",
    "print(\"\\nY (Tensorflow): \\n\", Y)"
   ]
  },
  {
   "cell_type": "markdown",
   "id": "ac1a6aff",
   "metadata": {},
   "source": [
    "<b>Forward Propagation (Manual)</b>"
   ]
  },
  {
   "cell_type": "code",
   "execution_count": 95,
   "id": "ce9348f0",
   "metadata": {},
   "outputs": [
    {
     "name": "stdout",
     "output_type": "stream",
     "text": [
      "(2, 2, 3)\n"
     ]
    }
   ],
   "source": [
    "images = images.numpy().squeeze()\n",
    "\n",
    "Y_man = np.zeros(shape=(n_H - k_size + 1, n_W - k_size + 1, n_filter))\n",
    "\n",
    "# 하나의 채널을 뽑아서 채널마다 filtering을 하는 과정\n",
    "for c in range(n_filter):\n",
    "    c_w = W[:, :, :, c]\n",
    "    c_b = B[c]\n",
    "    \n",
    "    # 각 채널을 돌 때마다 weight matrix 생성됨 : (4, 4, 3)\n",
    "    # print(c_w.shape, c_b.shape)\n",
    "    \n",
    "    for h in range(n_H - k_size + 1):\n",
    "        for w in range(n_W - k_size + 1):\n",
    "            window = images[h:h+k_size, w:w+k_size, :]\n",
    "            conv = np.sum(window*c_w) + c_b\n",
    "            \n",
    "            Y_man[h, w, c] = conv\n",
    "            \n",
    "print(Y_man.shape)"
   ]
  },
  {
   "cell_type": "code",
   "execution_count": 96,
   "id": "6b51e2b1",
   "metadata": {},
   "outputs": [
    {
     "name": "stdout",
     "output_type": "stream",
     "text": [
      "\n",
      "Y (Manual): \n",
      " [[[ 0.64011168  0.60902363]\n",
      "  [-0.21341032 -0.35040641]]\n",
      "\n",
      " [[-0.20548698 -0.28521046]\n",
      "  [ 0.26701391 -0.00487623]]\n",
      "\n",
      " [[ 0.38349116 -0.11999115]\n",
      "  [ 0.55846643  0.88312668]]]\n"
     ]
    }
   ],
   "source": [
    "print(\"\\nY (Manual): \\n\", np.transpose(Y_man, (2,0,1)))"
   ]
  },
  {
   "cell_type": "markdown",
   "id": "f3481fa4",
   "metadata": {},
   "source": [
    "# 3. Conv Layers with Activation Functions"
   ]
  },
  {
   "cell_type": "code",
   "execution_count": 97,
   "id": "7fed7dfa",
   "metadata": {},
   "outputs": [
    {
     "name": "stdout",
     "output_type": "stream",
     "text": [
      "\n",
      "Y (Tensorflow): \n",
      " [[[0.42501742 0.44087   ]\n",
      "  [0.5235869  0.4907182 ]]\n",
      "\n",
      " [[0.26470178 0.40601736]\n",
      "  [0.31969726 0.32826   ]]\n",
      "\n",
      " [[0.46532708 0.37008804]\n",
      "  [0.46315348 0.45391896]]]\n",
      "\n",
      "Y (Manual): \n",
      " [[[0.4250174  0.44087   ]\n",
      "  [0.52358697 0.49071818]]\n",
      "\n",
      " [[0.26470176 0.40601737]\n",
      "  [0.31969723 0.32825999]]\n",
      "\n",
      " [[0.46532708 0.37008801]\n",
      "  [0.46315348 0.45391896]]]\n"
     ]
    }
   ],
   "source": [
    "import numpy as np\n",
    "import tensorflow as tf\n",
    "\n",
    "from tensorflow.keras.layers import Conv2D\n",
    "\n",
    "N, n_H, n_W, n_C = 1, 5, 5, 3\n",
    "n_filter = 3\n",
    "k_size = 4   # kernel size는 보통 홀수 값으로 선정하는데, 여기서는 연습삼아 4로 설정\n",
    "images = tf.random.uniform(minval=0, maxval=1,\n",
    "                           shape=(N, n_H, n_W, n_C))\n",
    "\n",
    "# Forward Propagation (Tensorflow)\n",
    "conv = Conv2D(filters=n_filter, kernel_size=k_size, activation = 'sigmoid')\n",
    "Y = conv(images)\n",
    "\n",
    "Y = np.transpose(Y.numpy().squeeze(), (2, 0, 1))\n",
    "print(\"\\nY (Tensorflow): \\n\", Y)\n",
    "\n",
    "W, B = conv.get_weights()\n",
    "\n",
    "# Forward Propagation (Manual)\n",
    "images = images.numpy().squeeze()\n",
    "\n",
    "Y_man = np.zeros(shape=(n_H - k_size + 1, n_W - k_size + 1, n_filter))\n",
    "\n",
    "# 하나의 채널을 뽑아서 채널마다 filtering을 하는 과정\n",
    "for c in range(n_filter):\n",
    "    c_w = W[:, :, :, c]\n",
    "    c_b = B[c]\n",
    "    \n",
    "    # 각 채널을 돌 때마다 weight matrix 생성됨 : (4, 4, 3)\n",
    "    # print(c_w.shape, c_b.shape)\n",
    "    \n",
    "    for h in range(n_H - k_size + 1):\n",
    "        for w in range(n_W - k_size + 1):\n",
    "            window = images[h:h+k_size, w:w+k_size, :]\n",
    "            conv = np.sum(window*c_w) + c_b\n",
    "\n",
    "            # sigmoid 식 적용\n",
    "            conv = 1/(1 + np.exp(-conv))\n",
    "            \n",
    "            Y_man[h, w, c] = conv\n",
    "            \n",
    "print(\"\\nY (Manual): \\n\", np.transpose(Y_man, (2,0,1)))"
   ]
  },
  {
   "cell_type": "markdown",
   "id": "aeecb401",
   "metadata": {},
   "source": [
    "# 4. Models with Conv Layers"
   ]
  },
  {
   "cell_type": "markdown",
   "id": "ab8815e9",
   "metadata": {},
   "source": [
    "## 4.1 Models with Sequential Method"
   ]
  },
  {
   "cell_type": "code",
   "execution_count": 10,
   "id": "618c6913",
   "metadata": {},
   "outputs": [
    {
     "name": "stdout",
     "output_type": "stream",
     "text": [
      "Input: (32, 28, 28, 3)\n",
      "Output: (32, 22, 22, 30)\n"
     ]
    }
   ],
   "source": [
    "import tensorflow as tf\n",
    "\n",
    "from tensorflow.keras.models import Sequential\n",
    "from tensorflow.keras.layers import Conv2D\n",
    "\n",
    "n_neurons = [10, 20, 30]\n",
    "\n",
    "model = Sequential()\n",
    "model.add(Conv2D(filters=n_neurons[0], kernel_size=3, activation='relu')) # 28-3+1 = 26 → 26 * 26 * 10 (n_neurons)\n",
    "model.add(Conv2D(filters=n_neurons[1], kernel_size=3,activation='relu'))  # 26-3+1 = 24 → 24 * 24 * 20 (n_neurons)\n",
    "model.add(Conv2D(filters=n_neurons[2], kernel_size=3,activation='relu'))  # 24-3+1 = 22 → 22 * 22 * 30 (n_neurons)\n",
    "\n",
    "x = tf.random.normal(shape=(32, 28, 28, 3))  # 처음 input : 28 * 28 * 3\n",
    "predictions = model(x)\n",
    "\n",
    "print(\"Input: {}\".format(x.shape))\n",
    "print(\"Output: {}\".format(predictions.shape))"
   ]
  },
  {
   "cell_type": "code",
   "execution_count": 5,
   "id": "796070f8",
   "metadata": {},
   "outputs": [
    {
     "name": "stdout",
     "output_type": "stream",
     "text": [
      "<keras.layers.convolutional.Conv2D object at 0x000001CCED7645B0>\n",
      "(3, 3, 3, 10) (10,)\n",
      "<keras.layers.convolutional.Conv2D object at 0x000001CCED7646A0>\n",
      "(3, 3, 10, 20) (20,)\n",
      "<keras.layers.convolutional.Conv2D object at 0x000001CC84393460>\n",
      "(3, 3, 20, 30) (30,)\n"
     ]
    }
   ],
   "source": [
    "for layer in model.layers:\n",
    "    print(layer)\n",
    "    \n",
    "    W, B = layer.get_weights()\n",
    "    print(W.shape, B.shape)"
   ]
  },
  {
   "cell_type": "code",
   "execution_count": 6,
   "id": "7f47c12e",
   "metadata": {},
   "outputs": [
    {
     "name": "stdout",
     "output_type": "stream",
     "text": [
      "<class 'list'>\n"
     ]
    }
   ],
   "source": [
    "trainable_variables = model.trainable_variables\n",
    "print(type(trainable_variables))   # list가 들어있음"
   ]
  },
  {
   "cell_type": "markdown",
   "id": "b44113b9",
   "metadata": {},
   "source": [
    "- trainable_variables 안에 tensor가 들어있는 것 확인\n",
    "- 또, 위에 W.shape, B.shape과 결과가 같음\n",
    "- 즉, trainable_variables 안에는 Convolutional Layer에 들어있는 kernel의 weight, bias 등이 있음\n",
    "- parameter update를 할 때 활용 가능"
   ]
  },
  {
   "cell_type": "code",
   "execution_count": 8,
   "id": "8fb0c9c4",
   "metadata": {},
   "outputs": [
    {
     "name": "stdout",
     "output_type": "stream",
     "text": [
      "<class 'tensorflow.python.ops.resource_variable_ops.ResourceVariable'>\n",
      "(3, 3, 3, 10)\n",
      "<class 'tensorflow.python.ops.resource_variable_ops.ResourceVariable'>\n",
      "(10,)\n",
      "<class 'tensorflow.python.ops.resource_variable_ops.ResourceVariable'>\n",
      "(3, 3, 10, 20)\n",
      "<class 'tensorflow.python.ops.resource_variable_ops.ResourceVariable'>\n",
      "(20,)\n",
      "<class 'tensorflow.python.ops.resource_variable_ops.ResourceVariable'>\n",
      "(3, 3, 20, 30)\n",
      "<class 'tensorflow.python.ops.resource_variable_ops.ResourceVariable'>\n",
      "(30,)\n"
     ]
    }
   ],
   "source": [
    "for train_var in trainable_variables:\n",
    "    print(type(train_var))\n",
    "    print(train_var.shape)"
   ]
  },
  {
   "cell_type": "markdown",
   "id": "2ee43487",
   "metadata": {},
   "source": [
    "## 4.2 Models with Model Sub-classing\n",
    "\n",
    "★ 장점 : Model Sub-classing 안에서 method 구현 시 안에서 python의 문법을 그대로 사용하며, 중간 결과 확인 가능\n",
    "- 중간 중간 print() 함수를 통해 모델 확인\n",
    "  - ex) print(\"Input: \", x.shape) \n",
    "  - 백만번, 천만번 돌 때 사용하는 게 아니라 prototype을 만들 때\n",
    "- 중간에 weight, bias 값 받고 확인\n",
    "  - ex) W, B = conv_layer.get_weights()\n",
    "  - ex) print(\"W/B: {}/{}\".format(W.shape, B.shape))\n",
    "- prototype 이후 실제 모델 만들 때는 이 부분을 # 주석처리만 해 주면 됨\n",
    "  - 연구, 개발 시 매우 유용"
   ]
  },
  {
   "cell_type": "markdown",
   "id": "c41820b6",
   "metadata": {},
   "source": [
    "### 4.2.1 방법1 : 같은 레이어들을 사용할 때\n",
    "- for문 사용해서 일괄 적용\n",
    "```python\n",
    "for n_neuron in n_neurons:\n",
    "    self.conv_layers.append(Conv2D(filters=n_neuron, kernel_size=3, activation='relu'))   \n",
    "```"
   ]
  },
  {
   "cell_type": "code",
   "execution_count": 16,
   "id": "236524a3",
   "metadata": {},
   "outputs": [
    {
     "name": "stdout",
     "output_type": "stream",
     "text": [
      "Input:  (32, 28, 28, 3)\n",
      "\n",
      "===== Conv Layers =====\n",
      "\n",
      "W/B: (3, 3, 3, 10)/(10,)\n",
      "X: (32, 26, 26, 10)\n",
      "\n",
      "W/B: (3, 3, 10, 20)/(20,)\n",
      "X: (32, 24, 24, 20)\n",
      "\n",
      "W/B: (3, 3, 20, 30)/(30,)\n",
      "X: (32, 22, 22, 30)\n",
      "\n",
      "Input: (32, 28, 28, 3)\n",
      "Output: (32, 22, 22, 30)\n"
     ]
    }
   ],
   "source": [
    "import tensorflow as tf\n",
    "\n",
    "from tensorflow.keras.models import Model\n",
    "from tensorflow.keras.layers import Conv2D\n",
    "\n",
    "n_neurons = [10, 20, 30]\n",
    "\n",
    "class TestModel(Model):\n",
    "    def __init__(self):\n",
    "        super(TestModel, self).__init__()\n",
    "        \n",
    "        global n_neurons        \n",
    "        \n",
    "        # 방법1\n",
    "        self.conv_layers = []\n",
    "        for n_neuron in n_neurons:\n",
    "            self.conv_layers.append(Conv2D(filters=n_neuron, kernel_size=3, activation='relu'))        \n",
    "     \n",
    "    def call(self, x):\n",
    "        # print(\"Input: \", x.shape)        # prototype 생성 시 print를 통해 확인 → 실제 모델 삭제\n",
    "        \n",
    "        # print(\"\\n===== Conv Layers =====\\n\")\n",
    "        # forward propagation\n",
    "        for conv_layer in self.conv_layers:\n",
    "            x = conv_layer(x)\n",
    "            W, B = conv_layer.get_weights() # weight, bias 값 받기\n",
    "            # print(\"W/B: {}/{}\".format(W.shape, B.shape)) # prototype 생성 시 print를 통해 확인 → 실제 모델 삭제\n",
    "            # print(\"X: {}\\n\".format(x.shape)) # prototype 생성 시 print를 통해 확인 → 실제 모델 삭제\n",
    "        return x\n",
    "\n",
    "model = TestModel()\n",
    "\n",
    "x = tf.random.normal(shape=(32, 28, 28, 3))  # 처음 input : 28 * 28 * 3\n",
    "predictions = model(x)\n",
    "\n",
    "print(\"Input: {}\".format(x.shape))\n",
    "print(\"Output: {}\".format(predictions.shape))"
   ]
  },
  {
   "cell_type": "code",
   "execution_count": 12,
   "id": "3b8bb6d3",
   "metadata": {},
   "outputs": [
    {
     "name": "stdout",
     "output_type": "stream",
     "text": [
      "(3, 3, 3, 10) (10,)\n",
      "(3, 3, 10, 20) (20,)\n",
      "(3, 3, 20, 30) (30,)\n",
      "==========\n",
      "(3, 3, 3, 10)\n",
      "(10,)\n",
      "(3, 3, 10, 20)\n",
      "(20,)\n",
      "(3, 3, 20, 30)\n",
      "(30,)\n"
     ]
    }
   ],
   "source": [
    "for layer in model.layers:    \n",
    "    W, B = layer.get_weights()\n",
    "    print(W.shape, B.shape)\n",
    "    \n",
    "print(\"==========\")\n",
    "\n",
    "for train_var in trainable_variables:\n",
    "    print(train_var.shape)"
   ]
  },
  {
   "cell_type": "markdown",
   "id": "6b4bd9d5",
   "metadata": {},
   "source": [
    "### 4.2.1 방법2 : 다른 레이어들을 사용할 때\n",
    "- 하나씩 적용해서 자유롭게 activation 등 변경\n",
    "  - self.conv1 = Conv2D(filters=n_neurons[0], kernel_size=3, activation='relu')\n",
    "  - self.conv2 = Conv2D(filters=n_neurons[1], kernel_size=3, activation='relu')\n",
    "  - self.conv3 = Conv2D(filters=n_neurons[2], kernel_size=3, activation='relu')"
   ]
  },
  {
   "cell_type": "code",
   "execution_count": 17,
   "id": "9c74c29e",
   "metadata": {},
   "outputs": [],
   "source": [
    "import tensorflow as tf\n",
    "\n",
    "from tensorflow.keras.models import Model\n",
    "from tensorflow.keras.layers import Conv2D\n",
    "\n",
    "n_neurons = [10, 20, 30]\n",
    "\n",
    "class TestModel(Model):\n",
    "    def __init__(self):\n",
    "        super(TestModel, self).__init__()\n",
    "        \n",
    "        global n_neurons        \n",
    "        \n",
    "        # 방법2\n",
    "        self.conv1 = Conv2D(filters=n_neurons[0], kernel_size=3, activation='relu')\n",
    "        self.conv2 = Conv2D(filters=n_neurons[1], kernel_size=3, activation='relu')\n",
    "        self.conv3 = Conv2D(filters=n_neurons[2], kernel_size=3, activation='relu')\n",
    "        \n",
    "     \n",
    "    def call(self, x):\n",
    "        x = self.conv1(x)\n",
    "        x = self.conv2(x)\n",
    "        x = self.conv3(x)\n",
    "        \n",
    "        return x"
   ]
  }
 ],
 "metadata": {
  "kernelspec": {
   "display_name": "Python 3 (ipykernel)",
   "language": "python",
   "name": "python3"
  },
  "language_info": {
   "codemirror_mode": {
    "name": "ipython",
    "version": 3
   },
   "file_extension": ".py",
   "mimetype": "text/x-python",
   "name": "python",
   "nbconvert_exporter": "python",
   "pygments_lexer": "ipython3",
   "version": "3.8.12"
  }
 },
 "nbformat": 4,
 "nbformat_minor": 5
}
