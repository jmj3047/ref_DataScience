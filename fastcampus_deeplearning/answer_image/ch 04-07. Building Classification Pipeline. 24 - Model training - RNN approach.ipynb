{
 "cells": [
  {
   "cell_type": "code",
   "execution_count": 1,
   "id": "solar-fleet",
   "metadata": {},
   "outputs": [],
   "source": [
    "import cv2\n",
    "import random\n",
    "import numpy as np\n",
    "import pandas as pd\n",
    "import matplotlib.pyplot as plt\n",
    "from pprint import pprint\n",
    "from glob import glob"
   ]
  },
  {
   "cell_type": "code",
   "execution_count": 2,
   "id": "baking-church",
   "metadata": {
    "scrolled": false
   },
   "outputs": [
    {
     "name": "stdout",
     "output_type": "stream",
     "text": [
      "array(['biking', 'diving', 'golf', 'juggle', 'jumping', 'riding',\n",
      "       'shooting', 'spiking', 'swing', 'tennis', 'walk'], dtype=object)\n",
      "{'biking': 0,\n",
      " 'diving': 1,\n",
      " 'golf': 2,\n",
      " 'juggle': 3,\n",
      " 'jumping': 4,\n",
      " 'riding': 5,\n",
      " 'shooting': 6,\n",
      " 'spiking': 7,\n",
      " 'swing': 8,\n",
      " 'tennis': 9,\n",
      " 'walk': 10}\n"
     ]
    }
   ],
   "source": [
    "LABEL_INT_DICT = np.unique(pd.read_csv('ucf11_train_vid.csv')['label'])\n",
    "LABEL_STR_DICT = {k:v for v, k in enumerate(LABEL_INT_DICT)}\n",
    "pprint(LABEL_INT_DICT)\n",
    "pprint(LABEL_STR_DICT)"
   ]
  },
  {
   "cell_type": "code",
   "execution_count": 3,
   "id": "electoral-theory",
   "metadata": {},
   "outputs": [
    {
     "name": "stdout",
     "output_type": "stream",
     "text": [
      "Model: \"functional_1\"\n",
      "_________________________________________________________________\n",
      "Layer (type)                 Output Shape              Param #   \n",
      "=================================================================\n",
      "input_1 (InputLayer)         [(None, 10, 1280)]        0         \n",
      "_________________________________________________________________\n",
      "lstm (LSTM)                  (None, 10, 64)            344320    \n",
      "_________________________________________________________________\n",
      "lstm_1 (LSTM)                (None, 64)                33024     \n",
      "_________________________________________________________________\n",
      "dropout (Dropout)            (None, 64)                0         \n",
      "_________________________________________________________________\n",
      "dense (Dense)                (None, 11)                715       \n",
      "=================================================================\n",
      "Total params: 378,059\n",
      "Trainable params: 378,059\n",
      "Non-trainable params: 0\n",
      "_________________________________________________________________\n"
     ]
    }
   ],
   "source": [
    "import tensorflow_hub as hub\n",
    "import tensorflow as tf\n",
    "from tensorflow import keras\n",
    "os.environ['CUDA_VISIBLE_DEVICES'] = '5'\n",
    "\n",
    "MAX_FRAMES = 10\n",
    "NUM_FEATURES = 1280\n",
    "\n",
    "def build_model():\n",
    "    inputs = keras.Input((MAX_FRAMES, NUM_FEATURES))\n",
    "    x = keras.layers.LSTM(64, return_sequences=True)(\n",
    "        inputs\n",
    "    )\n",
    "    x = keras.layers.LSTM(64, return_sequences=False)(\n",
    "        x\n",
    "    )\n",
    "    x = keras.layers.Dropout(0.3)(x)\n",
    "    outputs = keras.layers.Dense(len(LABEL_INT_DICT),\n",
    "                                 activation='softmax')(x)\n",
    "    \n",
    "    model = keras.Model(inputs, outputs)\n",
    "    return model\n",
    "    \n",
    "adam = keras.optimizers.Adam(lr=0.0001)\n",
    "model = build_model()\n",
    "\n",
    "model.compile(\n",
    "    optimizer=adam,\n",
    "    loss='sparse_categorical_crossentropy',\n",
    "    metrics='accuracy'\n",
    ")\n",
    "\n",
    "model.summary()"
   ]
  },
  {
   "cell_type": "code",
   "execution_count": 4,
   "id": "turned-portable",
   "metadata": {},
   "outputs": [],
   "source": [
    "import albumentations as A\n",
    "import cv2\n",
    "import math\n",
    "import tensorflow as tf\n",
    "from tensorflow import keras\n",
    "\n",
    "class DataGenerator(keras.utils.Sequence):\n",
    "    def __init__(self, batch_size,\n",
    "                 mode='train', shuffle=True):\n",
    "        assert mode in ['train', 'valid']\n",
    "        self.mode = mode\n",
    "        self.shuffle = shuffle\n",
    "        self.batch_size = batch_size\n",
    "        \n",
    "        self.npy_paths = glob(\n",
    "            f'UCF11_updated_npy/{mode}/*.npy'\n",
    "        )\n",
    "\n",
    "    def __len__(self):\n",
    "        return math.ceil(len(self.npy_paths) / self.batch_size)\n",
    "    \n",
    "    def __getitem__(self, idx):\n",
    "        strt = idx * self.batch_size\n",
    "        fin = (idx + 1) * self.batch_size\n",
    "        data = self.npy_paths[strt:fin]\n",
    "    \n",
    "        batch_x, batch_y = self.get_data(data)\n",
    "\n",
    "        return np.array(batch_x), np.array(batch_y)\n",
    "        \n",
    "    def get_data(self, data):\n",
    "        batch_x = []\n",
    "        batch_y = []\n",
    "    \n",
    "        for npy_path in data:\n",
    "            npy = np.load(npy_path)\n",
    "            \n",
    "            label = npy_path.split('/')[-1]. \\\n",
    "                 split('_')[0]\n",
    "            label = LABEL_STR_DICT[label]\n",
    "                 \n",
    "            batch_x.append(npy)\n",
    "            batch_y.append(label)\n",
    "        \n",
    "        return batch_x, batch_y\n",
    "                     \n",
    "    def on_epoch_end(self):\n",
    "        if self.shuffle:\n",
    "            random.shuffle(self.npy_paths)\n",
    "            \n",
    "train_generator = DataGenerator(\n",
    "    mode='train',\n",
    "    batch_size=128,\n",
    "    shuffle=True)\n",
    "\n",
    "valid_generator = DataGenerator(\n",
    "    mode='valid',\n",
    "    batch_size=128,\n",
    "    shuffle=True)"
   ]
  },
  {
   "cell_type": "code",
   "execution_count": 5,
   "id": "general-newspaper",
   "metadata": {},
   "outputs": [
    {
     "name": "stdout",
     "output_type": "stream",
     "text": [
      "(128, 10, 1280)\n",
      "(128,)\n"
     ]
    }
   ],
   "source": [
    "for x, y in train_generator:\n",
    "    print(x.shape)\n",
    "    print(y.shape)\n",
    "    break"
   ]
  },
  {
   "cell_type": "code",
   "execution_count": 6,
   "id": "tired-catering",
   "metadata": {
    "scrolled": true
   },
   "outputs": [
    {
     "name": "stdout",
     "output_type": "stream",
     "text": [
      "Epoch 1/30\n",
      "2/2 [==============================] - 1s 352ms/step - loss: 2.4018 - accuracy: 0.1136 - val_loss: 2.3698 - val_accuracy: 0.0727\n",
      "Epoch 2/30\n",
      "2/2 [==============================] - 0s 67ms/step - loss: 2.3538 - accuracy: 0.1864 - val_loss: 2.3189 - val_accuracy: 0.1273\n",
      "Epoch 3/30\n",
      "2/2 [==============================] - 0s 58ms/step - loss: 2.2757 - accuracy: 0.2227 - val_loss: 2.2688 - val_accuracy: 0.1818\n",
      "Epoch 4/30\n",
      "2/2 [==============================] - 0s 58ms/step - loss: 2.2243 - accuracy: 0.3227 - val_loss: 2.2199 - val_accuracy: 0.2545\n",
      "Epoch 5/30\n",
      "2/2 [==============================] - 0s 69ms/step - loss: 2.1488 - accuracy: 0.4773 - val_loss: 2.1717 - val_accuracy: 0.5273\n",
      "Epoch 6/30\n",
      "2/2 [==============================] - 0s 63ms/step - loss: 2.0965 - accuracy: 0.5364 - val_loss: 2.1238 - val_accuracy: 0.6182\n",
      "Epoch 7/30\n",
      "2/2 [==============================] - 0s 77ms/step - loss: 2.0262 - accuracy: 0.6727 - val_loss: 2.0764 - val_accuracy: 0.6364\n",
      "Epoch 8/30\n",
      "2/2 [==============================] - 0s 76ms/step - loss: 1.9776 - accuracy: 0.7364 - val_loss: 2.0296 - val_accuracy: 0.8182\n",
      "Epoch 9/30\n",
      "2/2 [==============================] - 0s 71ms/step - loss: 1.9059 - accuracy: 0.8091 - val_loss: 1.9830 - val_accuracy: 0.8364\n",
      "Epoch 10/30\n",
      "2/2 [==============================] - 0s 77ms/step - loss: 1.8459 - accuracy: 0.8727 - val_loss: 1.9373 - val_accuracy: 0.8545\n",
      "Epoch 11/30\n",
      "2/2 [==============================] - 0s 75ms/step - loss: 1.7987 - accuracy: 0.8636 - val_loss: 1.8922 - val_accuracy: 0.9455\n",
      "Epoch 12/30\n",
      "2/2 [==============================] - 0s 69ms/step - loss: 1.7466 - accuracy: 0.9273 - val_loss: 1.8475 - val_accuracy: 0.9455\n",
      "Epoch 13/30\n",
      "2/2 [==============================] - 0s 62ms/step - loss: 1.6978 - accuracy: 0.9273 - val_loss: 1.8034 - val_accuracy: 0.9455\n",
      "Epoch 14/30\n",
      "2/2 [==============================] - 0s 65ms/step - loss: 1.6532 - accuracy: 0.9545 - val_loss: 1.7599 - val_accuracy: 0.9455\n",
      "Epoch 15/30\n",
      "2/2 [==============================] - 0s 74ms/step - loss: 1.6040 - accuracy: 0.9636 - val_loss: 1.7170 - val_accuracy: 0.9455\n",
      "Epoch 16/30\n",
      "2/2 [==============================] - 0s 65ms/step - loss: 1.5408 - accuracy: 0.9727 - val_loss: 1.6744 - val_accuracy: 0.9455\n",
      "Epoch 17/30\n",
      "2/2 [==============================] - 0s 74ms/step - loss: 1.5001 - accuracy: 0.9636 - val_loss: 1.6324 - val_accuracy: 0.9455\n",
      "Epoch 18/30\n",
      "2/2 [==============================] - 0s 64ms/step - loss: 1.4414 - accuracy: 0.9773 - val_loss: 1.5912 - val_accuracy: 0.9636\n",
      "Epoch 19/30\n",
      "2/2 [==============================] - 0s 66ms/step - loss: 1.3999 - accuracy: 0.9773 - val_loss: 1.5508 - val_accuracy: 0.9636\n",
      "Epoch 20/30\n",
      "2/2 [==============================] - 0s 61ms/step - loss: 1.3638 - accuracy: 0.9773 - val_loss: 1.5112 - val_accuracy: 0.9636\n",
      "Epoch 21/30\n",
      "2/2 [==============================] - 0s 72ms/step - loss: 1.3087 - accuracy: 0.9818 - val_loss: 1.4726 - val_accuracy: 0.9636\n",
      "Epoch 22/30\n",
      "2/2 [==============================] - 0s 72ms/step - loss: 1.2820 - accuracy: 0.9955 - val_loss: 1.4346 - val_accuracy: 0.9636\n",
      "Epoch 23/30\n",
      "2/2 [==============================] - 0s 73ms/step - loss: 1.2365 - accuracy: 0.9864 - val_loss: 1.3977 - val_accuracy: 0.9636\n",
      "Epoch 24/30\n",
      "2/2 [==============================] - 0s 65ms/step - loss: 1.1987 - accuracy: 0.9818 - val_loss: 1.3614 - val_accuracy: 0.9636\n",
      "Epoch 25/30\n",
      "2/2 [==============================] - 0s 62ms/step - loss: 1.1537 - accuracy: 0.9818 - val_loss: 1.3261 - val_accuracy: 0.9636\n",
      "Epoch 26/30\n",
      "2/2 [==============================] - 0s 63ms/step - loss: 1.1086 - accuracy: 0.9909 - val_loss: 1.2917 - val_accuracy: 0.9636\n",
      "Epoch 27/30\n",
      "2/2 [==============================] - 0s 75ms/step - loss: 1.0895 - accuracy: 0.9955 - val_loss: 1.2582 - val_accuracy: 0.9636\n",
      "Epoch 28/30\n",
      "2/2 [==============================] - 0s 78ms/step - loss: 1.0268 - accuracy: 0.9955 - val_loss: 1.2257 - val_accuracy: 0.9636\n",
      "Epoch 29/30\n",
      "2/2 [==============================] - 0s 74ms/step - loss: 1.0164 - accuracy: 1.0000 - val_loss: 1.1941 - val_accuracy: 0.9636\n",
      "Epoch 30/30\n",
      "2/2 [==============================] - 0s 66ms/step - loss: 0.9612 - accuracy: 0.9864 - val_loss: 1.1637 - val_accuracy: 0.9636\n"
     ]
    }
   ],
   "source": [
    "history = model.fit(\n",
    "    train_generator,\n",
    "    validation_data=valid_generator,\n",
    "    epochs=30,\n",
    "    verbose=1,\n",
    ")"
   ]
  },
  {
   "cell_type": "code",
   "execution_count": 7,
   "id": "continuing-occasion",
   "metadata": {},
   "outputs": [
    {
     "data": {
      "image/png": "[encoded data removed]",
      "text/plain": [
       "<Figure size 1080x360 with 2 Axes>"
      ]
     },
     "metadata": {
      "needs_background": "light"
     },
     "output_type": "display_data"
    }
   ],
   "source": [
    "import matplotlib.pyplot as plt\n",
    "history = history.history\n",
    "\n",
    "plt.figure(figsize=(15, 5))\n",
    "plt.subplot(1, 2, 1)\n",
    "plt.plot(history['loss'], label='train')\n",
    "plt.plot(history['val_loss'], label='val')\n",
    "plt.legend()\n",
    "plt.xlabel('epoch')\n",
    "plt.ylabel('loss')\n",
    "plt.title(\"Loss\")\n",
    "\n",
    "plt.subplot(1, 2, 2)\n",
    "plt.plot(history['accuracy'], label='train')\n",
    "plt.plot(history['val_accuracy'], label='val')\n",
    "plt.legend()\n",
    "plt.xlabel('epoch')\n",
    "plt.ylabel('accuracy')\n",
    "plt.title(\"Accuracy\")\n",
    "plt.show()"
   ]
  }
 ],
 "metadata": {
  "kernelspec": {
   "display_name": "Python 3",
   "language": "python",
   "name": "python3"
  },
  "language_info": {
   "codemirror_mode": {
    "name": "ipython",
    "version": 3
   },
   "file_extension": ".py",
   "mimetype": "text/x-python",
   "name": "python",
   "nbconvert_exporter": "python",
   "pygments_lexer": "ipython3",
   "version": "3.7.6"
  }
 },
 "nbformat": 4,
 "nbformat_minor": 5
}
