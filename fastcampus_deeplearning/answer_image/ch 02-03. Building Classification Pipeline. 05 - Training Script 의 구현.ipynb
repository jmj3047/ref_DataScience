{
 "cells": [
  {
   "cell_type": "markdown",
   "metadata": {
    "id": "WlORYQfiS9Q5"
   },
   "source": [
    "# DL development pipeline\n",
    "\n",
    "![pipeline.PNG](data:image/png;base64,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)"
   ]
  },
  {
   "cell_type": "code",
   "execution_count": 1,
   "metadata": {},
   "outputs": [],
   "source": [
    "import os\n",
    "import math\n",
    "\n",
    "import cv2\n",
    "import numpy as np\n",
    "import pandas as pd\n",
    "import tensorflow as tf\n",
    "\n",
    "from tensorflow import keras\n",
    "from tensorflow.keras import layers\n",
    "from tensorflow.keras import activations\n",
    "\n",
    "os.environ['CUDA_VISIBLE_DEVICES'] = '1'"
   ]
  },
  {
   "cell_type": "code",
   "execution_count": 2,
   "metadata": {},
   "outputs": [
    {
     "name": "stdout",
     "output_type": "stream",
     "text": [
      "Model: \"sequential\"\n",
      "_________________________________________________________________\n",
      "Layer (type)                 Output Shape              Param #   \n",
      "=================================================================\n",
      "conv2d (Conv2D)              (None, 256, 256, 64)      1792      \n",
      "_________________________________________________________________\n",
      "conv2d_1 (Conv2D)            (None, 256, 256, 64)      36928     \n",
      "_________________________________________________________________\n",
      "max_pooling2d (MaxPooling2D) (None, 128, 128, 64)      0         \n",
      "_________________________________________________________________\n",
      "batch_normalization (BatchNo (None, 128, 128, 64)      256       \n",
      "_________________________________________________________________\n",
      "dropout (Dropout)            (None, 128, 128, 64)      0         \n",
      "_________________________________________________________________\n",
      "conv2d_2 (Conv2D)            (None, 128, 128, 128)     73856     \n",
      "_________________________________________________________________\n",
      "conv2d_3 (Conv2D)            (None, 128, 128, 128)     147584    \n",
      "_________________________________________________________________\n",
      "max_pooling2d_1 (MaxPooling2 (None, 64, 64, 128)       0         \n",
      "_________________________________________________________________\n",
      "batch_normalization_1 (Batch (None, 64, 64, 128)       512       \n",
      "_________________________________________________________________\n",
      "dropout_1 (Dropout)          (None, 64, 64, 128)       0         \n",
      "_________________________________________________________________\n",
      "global_max_pooling2d (Global (None, 128)               0         \n",
      "_________________________________________________________________\n",
      "dense (Dense)                (None, 128)               16512     \n",
      "_________________________________________________________________\n",
      "dense_1 (Dense)              (None, 1)                 129       \n",
      "=================================================================\n",
      "Total params: 277,569\n",
      "Trainable params: 277,185\n",
      "Non-trainable params: 384\n",
      "_________________________________________________________________\n"
     ]
    }
   ],
   "source": [
    "def get_sequential_model(input_shape):\n",
    "    model = keras.Sequential(\n",
    "        [\n",
    "            # Input\n",
    "            layers.Input(input_shape),\n",
    "\n",
    "            # 1st Conv block\n",
    "            layers.Conv2D(64, 3, strides=1, activation='relu', padding='same'),\n",
    "            layers.Conv2D(64, 3, strides=1, activation='relu', padding='same'),\n",
    "            layers.MaxPool2D(),\n",
    "            layers.BatchNormalization(),\n",
    "            layers.Dropout(0.5),\n",
    "\n",
    "            # 2nd Conv block\n",
    "            layers.Conv2D(128, 3, strides=1, activation='relu', padding='same'),\n",
    "            layers.Conv2D(128, 3, strides=1, activation='relu', padding='same'),\n",
    "            layers.MaxPool2D(),\n",
    "            layers.BatchNormalization(),\n",
    "            layers.Dropout(0.3),\n",
    "        \n",
    "            # Classfier\n",
    "            layers.GlobalMaxPool2D(),\n",
    "            layers.Dense(128, activation='relu'),\n",
    "            layers.Dense(1, activation='sigmoid')\n",
    "        ]\n",
    "    )\n",
    "\n",
    "    return model\n",
    "\n",
    "input_shape = (256, 256, 3)\n",
    "model = get_sequential_model(input_shape)\n",
    "\n",
    "model.compile(\n",
    "    optimizer='adam',\n",
    "    loss='binary_crossentropy',\n",
    "    metrics='accuracy'\n",
    ")\n",
    "\n",
    "model.summary()"
   ]
  },
  {
   "cell_type": "code",
   "execution_count": 3,
   "metadata": {},
   "outputs": [],
   "source": [
    "class DataGenerator(keras.utils.Sequence):\n",
    "    def __init__(self, batch_size, csv_path, image_size,\n",
    "                 fold, mode='train', shuffle=True):\n",
    "        self.batch_size = batch_size\n",
    "        self.image_size = image_size\n",
    "        self.shuffle = shuffle\n",
    "        self.fold = fold\n",
    "        self.mode = mode\n",
    "        \n",
    "        self.df = pd.read_csv(csv_path)\n",
    "        \n",
    "        if self.mode == 'train':\n",
    "            self.df = self.df[self.df['fold'] != self.fold]\n",
    "        elif self.mode == 'val':\n",
    "            self.df = self.df[self.df['fold'] == self.fold]\n",
    "        \n",
    "        #### Remove invalid files\n",
    "        #### https://github.com/tensorflow/models/issues/3134\n",
    "        invalid_filenames = [\n",
    "            'Egyptian_Mau_14',\n",
    "            'Egyptian_Mau_139',\n",
    "            'Egyptian_Mau_145',\n",
    "            'Egyptian_Mau_156',\n",
    "            'Egyptian_Mau_167',\n",
    "            'Egyptian_Mau_177',\n",
    "            'Egyptian_Mau_186',\n",
    "            'Egyptian_Mau_191',\n",
    "            'Abyssinian_5',\n",
    "            'Abyssinian_34',\n",
    "            'chihuahua_121',\n",
    "            'beagle_116'\n",
    "        ]\n",
    "        self.df = self.df[~self.df['file_name']. \\\n",
    "                          isin(invalid_filenames)]\n",
    "        self.on_epoch_end()\n",
    "            \n",
    "    def __len__(self):\n",
    "        return math.ceil(len(self.df) / self.batch_size)\n",
    "        \n",
    "    def __getitem__(self, idx):\n",
    "        strt = idx * self.batch_size\n",
    "        fin = (idx + 1) * self.batch_size\n",
    "        data = self.df.iloc[strt:fin]\n",
    "        \n",
    "        batch_x, batch_y = self.get_data(data)\n",
    "        \n",
    "        return np.array(batch_x), np.array(batch_y)\n",
    "        \n",
    "    def get_data(self, data):\n",
    "        batch_x = []\n",
    "        batch_y = []\n",
    "        \n",
    "        for _, r in data.iterrows():\n",
    "            file_name = r['file_name']\n",
    "            \n",
    "            image = cv2.imread(f'data/images/{file_name}.jpg')\n",
    "            image = cv2.cvtColor(image, cv2.COLOR_BGR2RGB)\n",
    "            \n",
    "            image = cv2.resize(image, (self.image_size, self.image_size))\n",
    "            image = image / 255.\n",
    "            \n",
    "            label = int(r['species']) - 1\n",
    "            \n",
    "            batch_x.append(image)\n",
    "            batch_y.append(label)\n",
    "        \n",
    "        return batch_x, batch_y\n",
    "\n",
    "    def on_epoch_end(self):\n",
    "        if self.shuffle:\n",
    "            self.df = self.df.sample(frac=1).reset_index(drop=True)"
   ]
  },
  {
   "cell_type": "code",
   "execution_count": 4,
   "metadata": {},
   "outputs": [],
   "source": [
    "csv_path = 'data/kfolds.csv'\n",
    "train_generator = DataGenerator(\n",
    "    fold=1,\n",
    "    mode='train',\n",
    "    csv_path=csv_path,\n",
    "    batch_size=128,\n",
    "    image_size=256,\n",
    "    shuffle=True)\n",
    "\n",
    "valid_generator = DataGenerator(\n",
    "    fold=1,\n",
    "    mode='val',\n",
    "    csv_path=csv_path,\n",
    "    batch_size=128,\n",
    "    image_size=256,\n",
    "    shuffle=True)"
   ]
  },
  {
   "cell_type": "code",
   "execution_count": null,
   "metadata": {},
   "outputs": [],
   "source": [
    "history = model.fit(\n",
    "    train_generator,\n",
    "    validation_generator=valid_generator,\n",
    "    epochs=10,\n",
    "    callbacks=[\n",
    "        early_stopping,\n",
    "        reduce_on_plateau,\n",
    "        model_checkpoint\n",
    "    ]\n",
    "    verbose=1\n",
    ")"
   ]
  },
  {
   "cell_type": "markdown",
   "metadata": {},
   "source": [
    "# Callback functions"
   ]
  },
  {
   "cell_type": "markdown",
   "metadata": {},
   "source": [
    "```\n",
    "callbacks =  tf.keras.callbacks.CallbackList([...])\n",
    "callbacks.append(...)\n",
    "\n",
    "callbacks.on_train_begin(...)\n",
    "for epoch in range(EPOCHS):\n",
    "  callbacks.on_epoch_begin(epoch)\n",
    "  for i, data in dataset.enumerate():\n",
    "    callbacks.on_train_batch_begin(i)\n",
    "    batch_logs = model.train_step(data)\n",
    "    callbacks.on_train_batch_end(i, batch_logs)\n",
    "  epoch_logs = ...\n",
    "  callbacks.on_epoch_end(epoch, epoch_logs)\n",
    "final_logs=...\n",
    "callbacks.on_train_end(final_logs)\n",
    "```\n",
    "\n",
    "*   ```on_train_begin```\n",
    "*   ```on_epoch_begin```\n",
    "*   ```on_train_batch_begin```\n",
    "*   ```on_train_batch_end```\n",
    "*   ```on_epoch_end```\n",
    "*   ```on_train_end```\n",
    "\n",
    "\n",
    "*   ```keras.Model.fit()```\n",
    "*   ```keras.Model.evaluate()```\n",
    "*   ```keras.Model.predict()```"
   ]
  },
  {
   "cell_type": "code",
   "execution_count": 5,
   "metadata": {},
   "outputs": [],
   "source": [
    "early_stopping = tf.keras.callbacks.EarlyStopping(\n",
    "    monitor='val_loss', patience=3, verbose=1,\n",
    "    mode='min', restore_best_weights=False\n",
    ")"
   ]
  },
  {
   "cell_type": "code",
   "execution_count": 6,
   "metadata": {},
   "outputs": [],
   "source": [
    "reduce_on_plateau = tf.keras.callbacks.ReduceLROnPlateau(\n",
    "    monitor='val_loss', factor=0.1, patience=10, verbose=1,\n",
    "    mode='min', min_lr=0.001\n",
    ")"
   ]
  },
  {
   "cell_type": "code",
   "execution_count": 7,
   "metadata": {},
   "outputs": [],
   "source": [
    "filepath = '{epoch:02d}-{val_loss:.2f}.hdf5'\n",
    "model_checkpoint = tf.keras.callbacks.ModelCheckpoint(\n",
    "    filepath, monitor='val_loss', verbose=1, save_best_only=True,\n",
    "    save_weights_only=False, mode='min'\n",
    ")"
   ]
  },
  {
   "cell_type": "code",
   "execution_count": 8,
   "metadata": {},
   "outputs": [
    {
     "name": "stdout",
     "output_type": "stream",
     "text": [
      "Epoch 1/10\n",
      " 2/46 [>.............................] - ETA: 11s - loss: 7.0101 - accuracy: 0.4922WARNING:tensorflow:Callbacks method `on_train_batch_end` is slow compared to the batch time (batch time: 0.1469s vs `on_train_batch_end` time: 0.3603s). Check your callbacks.\n",
      "46/46 [==============================] - ETA: 0s - loss: 1.0686 - accuracy: 0.6473\n",
      "Epoch 00001: val_loss improved from inf to 0.65360, saving model to 01-0.65.hdf5\n",
      "46/46 [==============================] - 59s 1s/step - loss: 1.0686 - accuracy: 0.6473 - val_loss: 0.6536 - val_accuracy: 0.6780\n",
      "Epoch 2/10\n",
      "46/46 [==============================] - ETA: 0s - loss: 0.6110 - accuracy: 0.6832\n",
      "Epoch 00002: val_loss improved from 0.65360 to 0.64777, saving model to 02-0.65.hdf5\n",
      "46/46 [==============================] - 56s 1s/step - loss: 0.6110 - accuracy: 0.6832 - val_loss: 0.6478 - val_accuracy: 0.6814\n",
      "Epoch 3/10\n",
      "46/46 [==============================] - ETA: 0s - loss: 0.6061 - accuracy: 0.6760\n",
      "Epoch 00003: val_loss did not improve from 0.64777\n",
      "46/46 [==============================] - 56s 1s/step - loss: 0.6061 - accuracy: 0.6760 - val_loss: 0.6572 - val_accuracy: 0.6794\n",
      "Epoch 4/10\n",
      "46/46 [==============================] - ETA: 0s - loss: 0.5954 - accuracy: 0.6914\n",
      "Epoch 00004: val_loss did not improve from 0.64777\n",
      "46/46 [==============================] - 56s 1s/step - loss: 0.5954 - accuracy: 0.6914 - val_loss: 0.6731 - val_accuracy: 0.6726\n",
      "Epoch 5/10\n",
      "46/46 [==============================] - ETA: 0s - loss: 0.6125 - accuracy: 0.6835\n",
      "Epoch 00005: val_loss did not improve from 0.64777\n",
      "46/46 [==============================] - 56s 1s/step - loss: 0.6125 - accuracy: 0.6835 - val_loss: 0.6696 - val_accuracy: 0.6767\n",
      "Epoch 00005: early stopping\n"
     ]
    }
   ],
   "source": [
    "history = model.fit(\n",
    "    train_generator,\n",
    "    validation_data=valid_generator,\n",
    "    epochs=10,\n",
    "    callbacks=[\n",
    "        early_stopping,\n",
    "        reduce_on_plateau,\n",
    "        model_checkpoint\n",
    "    ],\n",
    "    verbose=1\n",
    ")"
   ]
  },
  {
   "cell_type": "code",
   "execution_count": 12,
   "metadata": {},
   "outputs": [
    {
     "data": {
      "text/plain": [
       "{'loss': [1.0686217546463013,\n",
       "  0.6109798550605774,\n",
       "  0.606144905090332,\n",
       "  0.5954369306564331,\n",
       "  0.6124913692474365],\n",
       " 'accuracy': [0.6472591161727905,\n",
       "  0.6831800937652588,\n",
       "  0.6760299801826477,\n",
       "  0.6913517117500305,\n",
       "  0.6835206151008606],\n",
       " 'val_loss': [0.6535970568656921,\n",
       "  0.6477676630020142,\n",
       "  0.6572163701057434,\n",
       "  0.6730905771255493,\n",
       "  0.6695802211761475],\n",
       " 'val_accuracy': [0.6780122518539429,\n",
       "  0.6814159154891968,\n",
       "  0.6793737411499023,\n",
       "  0.6725663542747498,\n",
       "  0.6766507625579834],\n",
       " 'lr': [0.001, 0.001, 0.001, 0.001, 0.001]}"
      ]
     },
     "execution_count": 12,
     "metadata": {},
     "output_type": "execute_result"
    }
   ],
   "source": [
    "history.history"
   ]
  },
  {
   "cell_type": "code",
   "execution_count": 13,
   "metadata": {},
   "outputs": [
    {
     "data": {
      "image/png": "[encoded data removed]",
      "text/plain": [
       "<Figure size 1080x360 with 2 Axes>"
      ]
     },
     "metadata": {
      "needs_background": "light"
     },
     "output_type": "display_data"
    }
   ],
   "source": [
    "import matplotlib.pyplot as plt\n",
    "history = history.history\n",
    "\n",
    "plt.figure(figsize=(15, 5))\n",
    "plt.subplot(1, 2, 1)\n",
    "plt.plot(history['loss'], label='train')\n",
    "plt.plot(history['val_loss'], label='val')\n",
    "plt.legend()\n",
    "plt.xlabel('epoch')\n",
    "plt.ylabel('loss')\n",
    "plt.title(\"Loss\")\n",
    "\n",
    "plt.subplot(1, 2, 2)\n",
    "plt.plot(history['accuracy'], label='train')\n",
    "plt.plot(history['val_accuracy'], label='val')\n",
    "plt.legend()\n",
    "plt.xlabel('epoch')\n",
    "plt.ylabel('accuracy')\n",
    "plt.title(\"Accuracy\")\n",
    "plt.show()"
   ]
  }
 ],
 "metadata": {
  "accelerator": "GPU",
  "colab": {
   "authorship_tag": "ABX9TyMaogQG1ZCqMZEuhFG9TyrO",
   "collapsed_sections": [],
   "name": "Model",
   "provenance": []
  },
  "kernelspec": {
   "display_name": "Python 3",
   "language": "python",
   "name": "python3"
  },
  "language_info": {
   "codemirror_mode": {
    "name": "ipython",
    "version": 3
   },
   "file_extension": ".py",
   "mimetype": "text/x-python",
   "name": "python",
   "nbconvert_exporter": "python",
   "pygments_lexer": "ipython3",
   "version": "3.7.6"
  }
 },
 "nbformat": 4,
 "nbformat_minor": 1
}
