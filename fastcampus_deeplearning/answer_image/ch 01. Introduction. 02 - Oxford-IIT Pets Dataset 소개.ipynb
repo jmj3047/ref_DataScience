{
 "cells": [
  {
   "cell_type": "markdown",
   "metadata": {
    "executionInfo": {
     "elapsed": 369,
     "status": "ok",
     "timestamp": 1631964838782,
     "user": {
      "displayName": "정연준",
      "photoUrl": "https://lh3.googleusercontent.com/a-/AOh14Gj0TAp0CSzfBU2D8qpb_MJaXWZGkOVAgnegmmqorA=s64",
      "userId": "04915506338685687945"
     },
     "user_tz": -540
    },
    "id": "Gjb2ZlyZi-bk"
   },
   "source": [
    "# K-Fold split"
   ]
  },
  {
   "cell_type": "code",
   "execution_count": 1,
   "metadata": {},
   "outputs": [],
   "source": [
    "import pandas as pd\n",
    "import seaborn as sns\n",
    "import matplotlib.pyplot as plt\n",
    "\n",
    "sns.set_style('whitegrid')"
   ]
  },
  {
   "cell_type": "code",
   "execution_count": 5,
   "metadata": {},
   "outputs": [
    {
     "data": {
      "text/html": [
       "<div>\n",
       "<style scoped>\n",
       "    .dataframe tbody tr th:only-of-type {\n",
       "        vertical-align: middle;\n",
       "    }\n",
       "\n",
       "    .dataframe tbody tr th {\n",
       "        vertical-align: top;\n",
       "    }\n",
       "\n",
       "    .dataframe thead th {\n",
       "        text-align: right;\n",
       "    }\n",
       "</style>\n",
       "<table border=\"1\" class=\"dataframe\">\n",
       "  <thead>\n",
       "    <tr style=\"text-align: right;\">\n",
       "      <th></th>\n",
       "      <th>file_name</th>\n",
       "      <th>id</th>\n",
       "      <th>species</th>\n",
       "      <th>breed</th>\n",
       "    </tr>\n",
       "  </thead>\n",
       "  <tbody>\n",
       "    <tr>\n",
       "      <th>0</th>\n",
       "      <td>Abyssinian_100</td>\n",
       "      <td>1</td>\n",
       "      <td>1</td>\n",
       "      <td>1</td>\n",
       "    </tr>\n",
       "    <tr>\n",
       "      <th>1</th>\n",
       "      <td>Abyssinian_101</td>\n",
       "      <td>1</td>\n",
       "      <td>1</td>\n",
       "      <td>1</td>\n",
       "    </tr>\n",
       "    <tr>\n",
       "      <th>2</th>\n",
       "      <td>Abyssinian_102</td>\n",
       "      <td>1</td>\n",
       "      <td>1</td>\n",
       "      <td>1</td>\n",
       "    </tr>\n",
       "    <tr>\n",
       "      <th>3</th>\n",
       "      <td>Abyssinian_103</td>\n",
       "      <td>1</td>\n",
       "      <td>1</td>\n",
       "      <td>1</td>\n",
       "    </tr>\n",
       "    <tr>\n",
       "      <th>4</th>\n",
       "      <td>Abyssinian_104</td>\n",
       "      <td>1</td>\n",
       "      <td>1</td>\n",
       "      <td>1</td>\n",
       "    </tr>\n",
       "    <tr>\n",
       "      <th>...</th>\n",
       "      <td>...</td>\n",
       "      <td>...</td>\n",
       "      <td>...</td>\n",
       "      <td>...</td>\n",
       "    </tr>\n",
       "    <tr>\n",
       "      <th>7344</th>\n",
       "      <td>yorkshire_terrier_96</td>\n",
       "      <td>37</td>\n",
       "      <td>2</td>\n",
       "      <td>25</td>\n",
       "    </tr>\n",
       "    <tr>\n",
       "      <th>7345</th>\n",
       "      <td>yorkshire_terrier_97</td>\n",
       "      <td>37</td>\n",
       "      <td>2</td>\n",
       "      <td>25</td>\n",
       "    </tr>\n",
       "    <tr>\n",
       "      <th>7346</th>\n",
       "      <td>yorkshire_terrier_98</td>\n",
       "      <td>37</td>\n",
       "      <td>2</td>\n",
       "      <td>25</td>\n",
       "    </tr>\n",
       "    <tr>\n",
       "      <th>7347</th>\n",
       "      <td>yorkshire_terrier_99</td>\n",
       "      <td>37</td>\n",
       "      <td>2</td>\n",
       "      <td>25</td>\n",
       "    </tr>\n",
       "    <tr>\n",
       "      <th>7348</th>\n",
       "      <td>yorkshire_terrier_9</td>\n",
       "      <td>37</td>\n",
       "      <td>2</td>\n",
       "      <td>25</td>\n",
       "    </tr>\n",
       "  </tbody>\n",
       "</table>\n",
       "<p>7349 rows × 4 columns</p>\n",
       "</div>"
      ],
      "text/plain": [
       "                 file_name  id  species  breed\n",
       "0           Abyssinian_100   1        1      1\n",
       "1           Abyssinian_101   1        1      1\n",
       "2           Abyssinian_102   1        1      1\n",
       "3           Abyssinian_103   1        1      1\n",
       "4           Abyssinian_104   1        1      1\n",
       "...                    ...  ..      ...    ...\n",
       "7344  yorkshire_terrier_96  37        2     25\n",
       "7345  yorkshire_terrier_97  37        2     25\n",
       "7346  yorkshire_terrier_98  37        2     25\n",
       "7347  yorkshire_terrier_99  37        2     25\n",
       "7348   yorkshire_terrier_9  37        2     25\n",
       "\n",
       "[7349 rows x 4 columns]"
      ]
     },
     "execution_count": 5,
     "metadata": {},
     "output_type": "execute_result"
    }
   ],
   "source": [
    "#Image CLASS-ID SPECIES BREED ID\n",
    "#ID: 1:37 Class ids\n",
    "#SPECIES: 1:Cat 2:Dog\n",
    "#BREED ID: 1-25:Cat 1:12:Dog\n",
    "#All images with 1st letter as captial are cat images\n",
    "#images with small first letter are dog images\n",
    "\n",
    "df = pd.read_csv('data/annotations/list.txt', skiprows=6, delimiter=' ', header=None)\n",
    "df.columns = ['file_name', 'id', 'species', 'breed']\n",
    "df"
   ]
  },
  {
   "cell_type": "code",
   "execution_count": 3,
   "metadata": {},
   "outputs": [],
   "source": [
    "from sklearn.model_selection import KFold"
   ]
  },
  {
   "cell_type": "code",
   "execution_count": 6,
   "metadata": {},
   "outputs": [
    {
     "name": "stdout",
     "output_type": "stream",
     "text": [
      "[   1    2    3 ... 7346 7347 7348] [   0    8   14 ... 7339 7341 7345] 1470\n",
      "[   0    1    2 ... 7346 7347 7348] [  12   15   26 ... 7340 7342 7344] 1470\n",
      "[   0    1    2 ... 7345 7346 7348] [   6    7   18 ... 7333 7343 7347] 1470\n",
      "[   0    3    4 ... 7345 7347 7348] [   1    2   10 ... 7335 7336 7346] 1470\n",
      "[   0    1    2 ... 7345 7346 7347] [   3    4    5 ... 7334 7338 7348] 1469\n"
     ]
    }
   ],
   "source": [
    "df['fold'] = -1\n",
    "kf = KFold(n_splits=5, shuffle=True, random_state=42)\n",
    "for idx, (t, v) in enumerate(kf.split(df), 1):\n",
    "    print(t, v, len(v))\n",
    "    df.loc[v, 'fold'] = idx"
   ]
  },
  {
   "cell_type": "code",
   "execution_count": 8,
   "metadata": {},
   "outputs": [
    {
     "name": "stdout",
     "output_type": "stream",
     "text": [
      "5879\n",
      "1470\n"
     ]
    }
   ],
   "source": [
    "fold = 1\n",
    "print(len(df[df['fold'] != fold]))\n",
    "print(len(df[df['fold'] == fold]))"
   ]
  },
  {
   "cell_type": "code",
   "execution_count": 10,
   "metadata": {},
   "outputs": [
    {
     "data": {
      "image/png": "[encoded data removed]",
      "text/plain": [
       "<Figure size 432x288 with 1 Axes>"
      ]
     },
     "metadata": {},
     "output_type": "display_data"
    }
   ],
   "source": [
    "value_counts = df[df['fold'] != 5]['id'].value_counts().sort_index()\n",
    "plt.bar(range(len(value_counts)), value_counts.values, align='center')\n",
    "plt.xticks(range(len(value_counts)), value_counts.index.values)\n",
    "plt.show()"
   ]
  },
  {
   "cell_type": "code",
   "execution_count": 11,
   "metadata": {},
   "outputs": [],
   "source": [
    "from sklearn.model_selection import StratifiedKFold"
   ]
  },
  {
   "cell_type": "code",
   "execution_count": 13,
   "metadata": {},
   "outputs": [
    {
     "name": "stdout",
     "output_type": "stream",
     "text": [
      "[   0    1    3 ... 7346 7347 7348] [   2    7    8 ... 7326 7337 7345] 1470\n",
      "[   1    2    3 ... 7346 7347 7348] [   0   12   13 ... 7323 7335 7339] 1470\n",
      "[   0    2    3 ... 7345 7347 7348] [   1   14   19 ... 7341 7343 7346] 1470\n",
      "[   0    1    2 ... 7346 7347 7348] [   3    4    5 ... 7334 7338 7342] 1470\n",
      "[   0    1    2 ... 7343 7345 7346] [   9   21   23 ... 7344 7347 7348] 1469\n"
     ]
    }
   ],
   "source": [
    "df['fold'] = -1\n",
    "skf = StratifiedKFold(n_splits=5, shuffle=True, random_state=42)\n",
    "for idx, (t, v) in enumerate(skf.split(df, df['id']), 1):\n",
    "    print(t, v, len(v))\n",
    "    df.loc[v, 'fold'] = idx"
   ]
  },
  {
   "cell_type": "code",
   "execution_count": 18,
   "metadata": {},
   "outputs": [
    {
     "data": {
      "image/png": "[encoded data removed]",
      "text/plain": [
       "<Figure size 432x288 with 1 Axes>"
      ]
     },
     "metadata": {},
     "output_type": "display_data"
    }
   ],
   "source": [
    "value_counts = df[df['fold'] != 1]['id'].value_counts().sort_index()\n",
    "plt.bar(range(len(value_counts)), value_counts.values, align='center')\n",
    "plt.xticks(range(len(value_counts)), value_counts.index.values)\n",
    "plt.show()"
   ]
  },
  {
   "cell_type": "code",
   "execution_count": 19,
   "metadata": {},
   "outputs": [],
   "source": [
    "df.to_csv('./data/kfolds.csv', index=False)"
   ]
  }
 ],
 "metadata": {
  "accelerator": "GPU",
  "colab": {
   "authorship_tag": "ABX9TyOEyYPZIq3CXN7ZvIA22dwL",
   "collapsed_sections": [],
   "name": "Dataset EDA.ipynb",
   "provenance": []
  },
  "kernelspec": {
   "display_name": "Python 3",
   "language": "python",
   "name": "python3"
  },
  "language_info": {
   "codemirror_mode": {
    "name": "ipython",
    "version": 3
   },
   "file_extension": ".py",
   "mimetype": "text/x-python",
   "name": "python",
   "nbconvert_exporter": "python",
   "pygments_lexer": "ipython3",
   "version": "3.7.6"
  }
 },
 "nbformat": 4,
 "nbformat_minor": 1
}
