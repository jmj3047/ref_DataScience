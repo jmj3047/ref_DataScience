{
 "cells": [
  {
   "cell_type": "code",
   "execution_count": 1,
   "id": "caroline-punch",
   "metadata": {},
   "outputs": [],
   "source": [
    "import cv2\n",
    "import random\n",
    "import numpy as np\n",
    "import pandas as pd\n",
    "from glob import glob"
   ]
  },
  {
   "cell_type": "code",
   "execution_count": 2,
   "id": "numerous-drive",
   "metadata": {},
   "outputs": [
    {
     "data": {
      "text/plain": [
       "['UCF11_updated_mpg/biking',\n",
       " 'UCF11_updated_mpg/walking',\n",
       " 'UCF11_updated_mpg/soccer_juggling',\n",
       " 'UCF11_updated_mpg/tennis_swing',\n",
       " 'UCF11_updated_mpg/diving',\n",
       " 'UCF11_updated_mpg/trampoline_jumping',\n",
       " 'UCF11_updated_mpg/swing',\n",
       " 'UCF11_updated_mpg/volleyball_spiking',\n",
       " 'UCF11_updated_mpg/basketball',\n",
       " 'UCF11_updated_mpg/horse_riding',\n",
       " 'UCF11_updated_mpg/golf_swing']"
      ]
     },
     "execution_count": 2,
     "metadata": {},
     "output_type": "execute_result"
    }
   ],
   "source": [
    "label_dir = glob('UCF11_updated_mpg/*')\n",
    "label_dir"
   ]
  },
  {
   "cell_type": "code",
   "execution_count": 5,
   "id": "fancy-surrey",
   "metadata": {},
   "outputs": [],
   "source": [
    "# 11개의 클래스\n",
    "# 클래스당 25개의 영상 그룹\n",
    "# 1 ~ 20 : 학습 그룹\n",
    "# 20 ~ 25 : 테스트 그룹\n",
    "\n",
    "train_df = pd.DataFrame(\n",
    "    columns=['file_path', 'label']\n",
    ")\n",
    "\n",
    "valid_df = pd.DataFrame(\n",
    "    columns=['file_path', 'label']\n",
    ")\n",
    "\n",
    "label_dirs = glob('UCF11_updated_mpg/*')\n",
    "for label_dir in label_dirs:\n",
    "    file_dirs = glob(\n",
    "        label_dir + '/v_*'\n",
    "    )\n",
    "    random.shuffle(file_dirs) # inplace\n",
    "    \n",
    "    for i in range(20):\n",
    "        train_dir = file_dirs[i]\n",
    "        label = train_dir.split('/')[-1].\\\n",
    "            split('_')[1]\n",
    "        \n",
    "        file_path = random.choice(\n",
    "            glob(train_dir + '/*')\n",
    "        )\n",
    "        train_df.loc[len(train_df)] = \\\n",
    "            [file_path, label]\n",
    "        \n",
    "    for i in range(20, 25):\n",
    "        valid_dir = file_dirs[i]\n",
    "        label = valid_dir.split('/')[-1].\\\n",
    "            split('_')[1]\n",
    "        \n",
    "        file_path = random.choice(\n",
    "            glob(train_dir + '/*')\n",
    "        )\n",
    "        valid_df.loc[len(valid_df)] = \\\n",
    "            [file_path, label]"
   ]
  },
  {
   "cell_type": "code",
   "execution_count": 6,
   "id": "ordered-burst",
   "metadata": {},
   "outputs": [
    {
     "name": "stdout",
     "output_type": "stream",
     "text": [
      "220\n",
      "55\n"
     ]
    }
   ],
   "source": [
    "print(len(train_df))\n",
    "print(len(valid_df))"
   ]
  },
  {
   "cell_type": "code",
   "execution_count": 7,
   "id": "brazilian-public",
   "metadata": {},
   "outputs": [
    {
     "data": {
      "text/html": [
       "<div>\n",
       "<style scoped>\n",
       "    .dataframe tbody tr th:only-of-type {\n",
       "        vertical-align: middle;\n",
       "    }\n",
       "\n",
       "    .dataframe tbody tr th {\n",
       "        vertical-align: top;\n",
       "    }\n",
       "\n",
       "    .dataframe thead th {\n",
       "        text-align: right;\n",
       "    }\n",
       "</style>\n",
       "<table border=\"1\" class=\"dataframe\">\n",
       "  <thead>\n",
       "    <tr style=\"text-align: right;\">\n",
       "      <th></th>\n",
       "      <th>file_path</th>\n",
       "      <th>label</th>\n",
       "    </tr>\n",
       "  </thead>\n",
       "  <tbody>\n",
       "    <tr>\n",
       "      <th>0</th>\n",
       "      <td>UCF11_updated_mpg/biking/v_biking_12/v_biking_...</td>\n",
       "      <td>biking</td>\n",
       "    </tr>\n",
       "    <tr>\n",
       "      <th>1</th>\n",
       "      <td>UCF11_updated_mpg/biking/v_biking_24/v_biking_...</td>\n",
       "      <td>biking</td>\n",
       "    </tr>\n",
       "    <tr>\n",
       "      <th>2</th>\n",
       "      <td>UCF11_updated_mpg/biking/v_biking_15/v_biking_...</td>\n",
       "      <td>biking</td>\n",
       "    </tr>\n",
       "    <tr>\n",
       "      <th>3</th>\n",
       "      <td>UCF11_updated_mpg/biking/v_biking_01/v_biking_...</td>\n",
       "      <td>biking</td>\n",
       "    </tr>\n",
       "    <tr>\n",
       "      <th>4</th>\n",
       "      <td>UCF11_updated_mpg/biking/v_biking_10/v_biking_...</td>\n",
       "      <td>biking</td>\n",
       "    </tr>\n",
       "    <tr>\n",
       "      <th>...</th>\n",
       "      <td>...</td>\n",
       "      <td>...</td>\n",
       "    </tr>\n",
       "    <tr>\n",
       "      <th>215</th>\n",
       "      <td>UCF11_updated_mpg/golf_swing/v_golf_02/v_golf_...</td>\n",
       "      <td>golf</td>\n",
       "    </tr>\n",
       "    <tr>\n",
       "      <th>216</th>\n",
       "      <td>UCF11_updated_mpg/golf_swing/v_golf_04/v_golf_...</td>\n",
       "      <td>golf</td>\n",
       "    </tr>\n",
       "    <tr>\n",
       "      <th>217</th>\n",
       "      <td>UCF11_updated_mpg/golf_swing/v_golf_03/v_golf_...</td>\n",
       "      <td>golf</td>\n",
       "    </tr>\n",
       "    <tr>\n",
       "      <th>218</th>\n",
       "      <td>UCF11_updated_mpg/golf_swing/v_golf_10/v_golf_...</td>\n",
       "      <td>golf</td>\n",
       "    </tr>\n",
       "    <tr>\n",
       "      <th>219</th>\n",
       "      <td>UCF11_updated_mpg/golf_swing/v_golf_20/v_golf_...</td>\n",
       "      <td>golf</td>\n",
       "    </tr>\n",
       "  </tbody>\n",
       "</table>\n",
       "<p>220 rows × 2 columns</p>\n",
       "</div>"
      ],
      "text/plain": [
       "                                             file_path   label\n",
       "0    UCF11_updated_mpg/biking/v_biking_12/v_biking_...  biking\n",
       "1    UCF11_updated_mpg/biking/v_biking_24/v_biking_...  biking\n",
       "2    UCF11_updated_mpg/biking/v_biking_15/v_biking_...  biking\n",
       "3    UCF11_updated_mpg/biking/v_biking_01/v_biking_...  biking\n",
       "4    UCF11_updated_mpg/biking/v_biking_10/v_biking_...  biking\n",
       "..                                                 ...     ...\n",
       "215  UCF11_updated_mpg/golf_swing/v_golf_02/v_golf_...    golf\n",
       "216  UCF11_updated_mpg/golf_swing/v_golf_04/v_golf_...    golf\n",
       "217  UCF11_updated_mpg/golf_swing/v_golf_03/v_golf_...    golf\n",
       "218  UCF11_updated_mpg/golf_swing/v_golf_10/v_golf_...    golf\n",
       "219  UCF11_updated_mpg/golf_swing/v_golf_20/v_golf_...    golf\n",
       "\n",
       "[220 rows x 2 columns]"
      ]
     },
     "execution_count": 7,
     "metadata": {},
     "output_type": "execute_result"
    }
   ],
   "source": [
    "train_df"
   ]
  },
  {
   "cell_type": "code",
   "execution_count": 8,
   "id": "romance-hepatitis",
   "metadata": {},
   "outputs": [],
   "source": [
    "os.mkdir('UCF11_update_png')\n",
    "os.mkdir('UCF11_update_png/train')\n",
    "os.mkdir('UCF11_update_png/valid')"
   ]
  },
  {
   "cell_type": "code",
   "execution_count": 9,
   "id": "animal-geometry",
   "metadata": {},
   "outputs": [],
   "source": [
    "train_df.to_csv('ucf11_train_vid.csv', index=False)\n",
    "valid_df.to_csv('ucf11_valid_vid.csv', index=False)"
   ]
  },
  {
   "cell_type": "code",
   "execution_count": 15,
   "id": "royal-invitation",
   "metadata": {},
   "outputs": [],
   "source": [
    "max_frame = 10\n",
    "SAVE_DIR = 'UCF11_update_png/'\n",
    "\n",
    "for i, elem in train_df.iterrows():\n",
    "    cap = cv2.VideoCapture(\n",
    "        elem['file_path']\n",
    "    )\n",
    "    \n",
    "    frames = []\n",
    "    while True:\n",
    "        ret, frame = cap.read()\n",
    "        if not ret:\n",
    "            break\n",
    "            \n",
    "        frame = cv2.resize(frame, (256, 256))\n",
    "        frames.append(frame)\n",
    "        \n",
    "        if len(frames) == max_frame:\n",
    "            break\n",
    "            \n",
    "    label = elem['label']\n",
    "    for j, frame in enumerate(frames):\n",
    "        file_name = f'train/{label}_{i}_{j}.png'\n",
    "        cv2.imwrite(SAVE_DIR + file_name, frame)\n",
    "    \n",
    "    cap.release()"
   ]
  },
  {
   "cell_type": "code",
   "execution_count": 16,
   "id": "rough-distinction",
   "metadata": {},
   "outputs": [
    {
     "name": "stdout",
     "output_type": "stream",
     "text": [
      "2200\n"
     ]
    }
   ],
   "source": [
    "print(len(glob(SAVE_DIR + 'train/*')))"
   ]
  },
  {
   "cell_type": "code",
   "execution_count": 17,
   "id": "preliminary-pennsylvania",
   "metadata": {},
   "outputs": [],
   "source": [
    "max_frame = 10\n",
    "SAVE_DIR = 'UCF11_update_png/'\n",
    "\n",
    "for i, elem in valid_df.iterrows():\n",
    "    cap = cv2.VideoCapture(\n",
    "        elem['file_path']\n",
    "    )\n",
    "    \n",
    "    frames = []\n",
    "    while True:\n",
    "        ret, frame = cap.read()\n",
    "        if not ret:\n",
    "            break\n",
    "            \n",
    "        frame = cv2.resize(frame, (256, 256))\n",
    "        frames.append(frame)\n",
    "        \n",
    "        if len(frames) == max_frame:\n",
    "            break\n",
    "            \n",
    "    label = elem['label']\n",
    "    for j, frame in enumerate(frames):\n",
    "        file_name = f'valid/{label}_{i}_{j}.png'\n",
    "        cv2.imwrite(SAVE_DIR + file_name, frame)\n",
    "    \n",
    "    cap.release()"
   ]
  },
  {
   "cell_type": "code",
   "execution_count": 18,
   "id": "natural-tennessee",
   "metadata": {},
   "outputs": [
    {
     "name": "stdout",
     "output_type": "stream",
     "text": [
      "550\n"
     ]
    }
   ],
   "source": [
    "print(len(glob(SAVE_DIR + 'valid/*')))"
   ]
  }
 ],
 "metadata": {
  "kernelspec": {
   "display_name": "Python 3.7.6 64-bit ('fpn-tf2': conda)",
   "language": "python",
   "name": "python37664bitfpntf2condae5b522716c70413d8087b855565880dc"
  },
  "language_info": {
   "codemirror_mode": {
    "name": "ipython",
    "version": 3
   },
   "file_extension": ".py",
   "mimetype": "text/x-python",
   "name": "python",
   "nbconvert_exporter": "python",
   "pygments_lexer": "ipython3",
   "version": "3.7.6"
  }
 },
 "nbformat": 4,
 "nbformat_minor": 5
}
