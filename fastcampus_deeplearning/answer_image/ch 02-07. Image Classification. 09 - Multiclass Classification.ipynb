{
 "cells": [
  {
   "cell_type": "markdown",
   "metadata": {},
   "source": [
    "# Multiclass Classification"
   ]
  },
  {
   "cell_type": "code",
   "execution_count": 1,
   "metadata": {},
   "outputs": [],
   "source": [
    "import os\n",
    "import math\n",
    "\n",
    "import cv2\n",
    "import numpy as np\n",
    "import pandas as pd\n",
    "import tensorflow as tf\n",
    "import matplotlib.pyplot as plt\n",
    "\n",
    "os.environ['CUDA_VISIBLE_DEVICES'] = '3'"
   ]
  },
  {
   "cell_type": "code",
   "execution_count": 2,
   "metadata": {},
   "outputs": [
    {
     "data": {
      "image/png": "[encoded data removed]",
      "text/plain": [
       "<Figure size 720x360 with 1 Axes>"
      ]
     },
     "metadata": {
      "needs_background": "light"
     },
     "output_type": "display_data"
    }
   ],
   "source": [
    "#Image CLASS-ID SPECIES BREED ID\n",
    "#ID: 1:37 Class ids\n",
    "#SPECIES: 1:Cat 2:Dog\n",
    "#BREED ID: 1-25:Cat 1:12:Dog\n",
    "#All images with 1st letter as captial are cat images\n",
    "#images with small first letter are dog images\n",
    "\n",
    "csv_path = 'data/kfolds.csv'\n",
    "df = pd.read_csv(csv_path)\n",
    "np.unique(df['id'])\n",
    "\n",
    "value_counts = df['id'].value_counts().sort_index()\n",
    "plt.figure(figsize=(10, 5))\n",
    "plt.bar(range(len(value_counts)), value_counts.values)\n",
    "plt.xticks(range(len(value_counts)), value_counts.index.values)\n",
    "plt.tight_layout()\n",
    "plt.show()"
   ]
  },
  {
   "cell_type": "code",
   "execution_count": 3,
   "metadata": {},
   "outputs": [
    {
     "name": "stdout",
     "output_type": "stream",
     "text": [
      "Model: \"functional_1\"\n",
      "_________________________________________________________________\n",
      "Layer (type)                 Output Shape              Param #   \n",
      "=================================================================\n",
      "input_1 (InputLayer)         [(None, 256, 256, 3)]     0         \n",
      "_________________________________________________________________\n",
      "efficientnetb0 (Functional)  (None, 1280)              4049571   \n",
      "_________________________________________________________________\n",
      "dense (Dense)                (None, 37)                47397     \n",
      "=================================================================\n",
      "Total params: 4,096,968\n",
      "Trainable params: 4,054,945\n",
      "Non-trainable params: 42,023\n",
      "_________________________________________________________________\n"
     ]
    }
   ],
   "source": [
    "from tensorflow import keras\n",
    "from tensorflow.keras import layers\n",
    "from tensorflow.keras import activations\n",
    "from tensorflow.keras.applications import EfficientNetB0\n",
    "\n",
    "def get_model(input_shape):\n",
    "    inputs = keras.Input(input_shape)\n",
    "    base_model = EfficientNetB0(\n",
    "        input_shape=input_shape,\n",
    "        weights='imagenet',\n",
    "        include_top=False,\n",
    "        pooling='avg'\n",
    "    )\n",
    "    \n",
    "    x = base_model(inputs)\n",
    "    output = layers.Dense(37, activation='softmax')(x)\n",
    "    model = keras.Model(inputs, output)\n",
    "    \n",
    "    return model\n",
    "\n",
    "input_shape = (256, 256, 3)\n",
    "model = get_model(input_shape)\n",
    "\n",
    "adam = keras.optimizers.Adam(lr=0.0001)\n",
    "\n",
    "model.compile(\n",
    "    optimizer=adam,\n",
    "    loss='sparse_categorical_crossentropy',\n",
    "    metrics='accuracy'\n",
    ")\n",
    "\n",
    "model.summary()"
   ]
  },
  {
   "cell_type": "code",
   "execution_count": 4,
   "metadata": {},
   "outputs": [],
   "source": [
    "import albumentations as A\n",
    "import cv2\n",
    "\n",
    "class Augmentation:\n",
    "    def __init__(self, size, mode='train'):\n",
    "        if mode == 'train':\n",
    "            # Declare an augmentation pipeline\n",
    "            self.transform = A.Compose([\n",
    "                A.HorizontalFlip(p=0.5),\n",
    "                A.ShiftScaleRotate(\n",
    "                    p=0.5,\n",
    "                    shift_limit=0.05,\n",
    "                    scale_limit=0.05,\n",
    "                    rotate_limit=15,\n",
    "                ),\n",
    "                A.CoarseDropout(\n",
    "                    p=0.5,\n",
    "                    max_holes=8,\n",
    "                    max_height=int(0.1 * size),\n",
    "                    max_width=int(0.1 * size)\n",
    "                ),\n",
    "                A.RandomBrightnessContrast(p=0.2),\n",
    "            ])\n",
    "    def __call__(self, **kwargs):\n",
    "        if self.transform:\n",
    "            augmented = self.transform(**kwargs)\n",
    "            img = augmented['image']\n",
    "            return img"
   ]
  },
  {
   "cell_type": "code",
   "execution_count": 5,
   "metadata": {},
   "outputs": [],
   "source": [
    "class DataGenerator(keras.utils.Sequence):\n",
    "    def __init__(self, batch_size, csv_path, image_size,\n",
    "                 fold, mode='train', shuffle=True):\n",
    "        self.fold = fold\n",
    "        self.shuffle = shuffle\n",
    "        self.mode = mode\n",
    "        self.batch_size = batch_size\n",
    "        self.image_size = image_size\n",
    "        \n",
    "        self.df = pd.read_csv(csv_path)\n",
    "        if self.mode == 'train':    \n",
    "            self.df = self.df[self.df['fold'] != self.fold]\n",
    "        elif self.mode == 'val':\n",
    "            self.df = self.df[self.df['fold'] == self.fold]\n",
    "        \n",
    "        #### Remove invalid files\n",
    "        #### https://github.com/tensorflow/models/issues/3134\n",
    "        invalid_filenames = [\n",
    "            'Egyptian_Mau_14',\n",
    "            'Egyptian_Mau_139',\n",
    "            'Egyptian_Mau_145',\n",
    "            'Egyptian_Mau_156',\n",
    "            'Egyptian_Mau_167',\n",
    "            'Egyptian_Mau_177',\n",
    "            'Egyptian_Mau_186',\n",
    "            'Egyptian_Mau_191',\n",
    "            'Abyssinian_5',\n",
    "            'Abyssinian_34',\n",
    "            'chihuahua_121',\n",
    "            'beagle_116'\n",
    "        ]\n",
    "        self.df = self.df[~self.df['file_name'].isin(invalid_filenames)]\n",
    "        self.transform = Augmentation(image_size, mode)\n",
    "        \n",
    "        self.on_epoch_end()\n",
    "            \n",
    "    def __len__(self):\n",
    "        return math.ceil(len(self.df) / self.batch_size)\n",
    "    \n",
    "    def __getitem__(self, idx):\n",
    "        strt = idx * self.batch_size\n",
    "        fin = (idx + 1) * self.batch_size\n",
    "        data = self.df.iloc[strt:fin]\n",
    "        \n",
    "        batch_x, batch_y = self.get_data(data)\n",
    "\n",
    "        return np.array(batch_x), np.array(batch_y)\n",
    "        \n",
    "    def get_data(self, data):\n",
    "        batch_x = []\n",
    "        batch_y = []\n",
    "    \n",
    "        for _, r in data.iterrows():\n",
    "            file_name = r['file_name']\n",
    "\n",
    "            image = cv2.imread(f'data/images/{file_name}.jpg')\n",
    "            image = cv2.cvtColor(image, cv2.COLOR_BGR2RGB)\n",
    "            image = cv2.resize(image, (self.image_size, self.image_size))\n",
    "            \n",
    "            if self.mode == 'train':\n",
    "                image = image.astype('uint8')\n",
    "                image = self.transform(image=image)\n",
    "                \n",
    "            image = image.astype('float32')\n",
    "            image = image / 255.\n",
    "\n",
    "            label = int(r['id']) - 1\n",
    "\n",
    "            batch_x.append(image)\n",
    "            batch_y.append(label)\n",
    "        \n",
    "        return batch_x, batch_y\n",
    "        \n",
    "    def on_epoch_end(self):\n",
    "        if self.shuffle:\n",
    "            self.df = self.df.sample(frac=1).reset_index(drop=True)\n",
    "            \n",
    "csv_path = 'data/kfolds.csv'\n",
    "train_generator = DataGenerator(\n",
    "    fold=1,\n",
    "    mode='train',\n",
    "    csv_path=csv_path,\n",
    "    batch_size=128,\n",
    "    image_size=256,\n",
    "    shuffle=True)\n",
    "\n",
    "valid_generator = DataGenerator(\n",
    "    fold=1,\n",
    "    mode='val',\n",
    "    csv_path=csv_path,\n",
    "    batch_size=128,\n",
    "    image_size=256,\n",
    "    shuffle=True)"
   ]
  },
  {
   "cell_type": "code",
   "execution_count": 24,
   "metadata": {},
   "outputs": [
    {
     "name": "stdout",
     "output_type": "stream",
     "text": [
      "Epoch 1/10\n",
      " 2/46 [>.............................] - ETA: 15s - loss: 3.6733 - accuracy: 0.0273WARNING:tensorflow:Callbacks method `on_train_batch_end` is slow compared to the batch time (batch time: 0.1972s vs `on_train_batch_end` time: 0.5162s). Check your callbacks.\n",
      "46/46 [==============================] - 66s 1s/step - loss: 3.0466 - accuracy: 0.3022 - val_loss: 1.9788 - val_accuracy: 0.6025\n",
      "Epoch 2/10\n",
      "46/46 [==============================] - 58s 1s/step - loss: 1.5025 - accuracy: 0.7697 - val_loss: 0.7543 - val_accuracy: 0.7910\n",
      "Epoch 3/10\n",
      "46/46 [==============================] - 56s 1s/step - loss: 0.6712 - accuracy: 0.8735 - val_loss: 0.4825 - val_accuracy: 0.8666\n",
      "Epoch 4/10\n",
      "46/46 [==============================] - 61s 1s/step - loss: 0.4125 - accuracy: 0.9052 - val_loss: 0.3535 - val_accuracy: 0.8979\n",
      "Epoch 5/10\n",
      "46/46 [==============================] - 61s 1s/step - loss: 0.2996 - accuracy: 0.9317 - val_loss: 0.2990 - val_accuracy: 0.9115\n",
      "Epoch 6/10\n",
      "46/46 [==============================] - 63s 1s/step - loss: 0.2171 - accuracy: 0.9501 - val_loss: 0.2764 - val_accuracy: 0.9149\n",
      "Epoch 7/10\n",
      "46/46 [==============================] - 59s 1s/step - loss: 0.1738 - accuracy: 0.9586 - val_loss: 0.2548 - val_accuracy: 0.9258\n",
      "Epoch 8/10\n",
      "46/46 [==============================] - 58s 1s/step - loss: 0.1418 - accuracy: 0.9687 - val_loss: 0.2510 - val_accuracy: 0.9197\n",
      "Epoch 9/10\n",
      "46/46 [==============================] - 63s 1s/step - loss: 0.1186 - accuracy: 0.9736 - val_loss: 0.2373 - val_accuracy: 0.9265\n",
      "Epoch 10/10\n",
      "46/46 [==============================] - 58s 1s/step - loss: 0.0962 - accuracy: 0.9799 - val_loss: 0.2244 - val_accuracy: 0.9285\n"
     ]
    }
   ],
   "source": [
    "history = model.fit(\n",
    "    train_generator,\n",
    "    validation_data=valid_generator,\n",
    "    epochs=10,\n",
    "    verbose=1\n",
    ")"
   ]
  },
  {
   "cell_type": "code",
   "execution_count": 25,
   "metadata": {},
   "outputs": [
    {
     "data": {
      "image/png": "[encoded data removed]",
      "text/plain": [
       "<Figure size 1080x360 with 2 Axes>"
      ]
     },
     "metadata": {
      "needs_background": "light"
     },
     "output_type": "display_data"
    }
   ],
   "source": [
    "import matplotlib.pyplot as plt\n",
    "history = history.history\n",
    "\n",
    "plt.figure(figsize=(15, 5))\n",
    "plt.subplot(1, 2, 1)\n",
    "plt.plot(history['loss'], label='train')\n",
    "plt.plot(history['val_loss'], label='val')\n",
    "plt.legend()\n",
    "plt.xlabel('epoch')\n",
    "plt.ylabel('loss')\n",
    "plt.title(\"Loss\")\n",
    "\n",
    "plt.subplot(1, 2, 2)\n",
    "plt.plot(history['accuracy'], label='train')\n",
    "plt.plot(history['val_accuracy'], label='val')\n",
    "plt.legend()\n",
    "plt.xlabel('epoch')\n",
    "plt.ylabel('accuracy')\n",
    "plt.title(\"Accuracy\")\n",
    "plt.show()"
   ]
  }
 ],
 "metadata": {
  "accelerator": "GPU",
  "colab": {
   "authorship_tag": "ABX9TyMaogQG1ZCqMZEuhFG9TyrO",
   "collapsed_sections": [],
   "name": "Model",
   "provenance": []
  },
  "kernelspec": {
   "display_name": "Python 3",
   "language": "python",
   "name": "python3"
  },
  "language_info": {
   "codemirror_mode": {
    "name": "ipython",
    "version": 3
   },
   "file_extension": ".py",
   "mimetype": "text/x-python",
   "name": "python",
   "nbconvert_exporter": "python",
   "pygments_lexer": "ipython3",
   "version": "3.7.6"
  }
 },
 "nbformat": 4,
 "nbformat_minor": 1
}
