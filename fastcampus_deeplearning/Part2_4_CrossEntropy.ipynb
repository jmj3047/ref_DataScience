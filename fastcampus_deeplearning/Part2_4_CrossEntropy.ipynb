{
 "cells": [
  {
   "cell_type": "markdown",
   "id": "07fdff63",
   "metadata": {},
   "source": [
    "# Cross Entropy"
   ]
  },
  {
   "cell_type": "markdown",
   "id": "06adc0f4",
   "metadata": {},
   "source": [
    "# 1. Datasets"
   ]
  },
  {
   "cell_type": "markdown",
   "id": "b23e6385",
   "metadata": {},
   "source": [
    "## 1.1 Dataset for Regression\n",
    "\n",
    "- y^ = w1 * x1 + w2 * x2 + w3 * x3 + w4 * x4 + w5 * x5 + bias\n",
    "- y = 1 * x1 + 2 * x2 + 3 * x3 + 4 * x4 + 5 * x5 + 10"
   ]
  },
  {
   "cell_type": "code",
   "execution_count": 2,
   "id": "30f54dd4",
   "metadata": {},
   "outputs": [
    {
     "name": "stdout",
     "output_type": "stream",
     "text": [
      "tf.Tensor([1. 2. 3. 4. 5.], shape=(5,), dtype=float32)\n",
      "tf.Tensor([10.], shape=(1,), dtype=float32)\n"
     ]
    }
   ],
   "source": [
    "import tensorflow as tf\n",
    "\n",
    "N, n_feature = 8, 5\n",
    "\n",
    "# ★ X dataset은 항상 'floating point 32bit'로 만들어 줘야 함\n",
    "t_weights = tf.constant([1,2,3,4,5], dtype=tf.float32)  # target weight : vector\n",
    "t_bias = tf.constant([10], dtype=tf.float32)            # target bias : scalar\n",
    "\n",
    "print(t_weights)\n",
    "print(t_bias)"
   ]
  },
  {
   "cell_type": "code",
   "execution_count": 5,
   "id": "ed82797d",
   "metadata": {},
   "outputs": [
    {
     "name": "stdout",
     "output_type": "stream",
     "text": [
      "(8, 5) (5,) (1,)\n"
     ]
    }
   ],
   "source": [
    "X = tf.random.normal(mean=0, stddev=1, shape=(N, n_feature))\n",
    "\n",
    "print(X.shape, t_weights.shape, t_bias.shape)"
   ]
  },
  {
   "cell_type": "code",
   "execution_count": 11,
   "id": "9bf9708c",
   "metadata": {},
   "outputs": [
    {
     "name": "stdout",
     "output_type": "stream",
     "text": [
      "X(shape/dtype/data) : (8, 5) / <dtype: 'float32'>\n",
      "[[ 1.7929381   0.05446349  1.5258646   0.9085449  -0.8308491 ]\n",
      " [-1.8426176   0.8417825  -1.1884025  -0.40641326 -0.5700096 ]\n",
      " [ 0.57068413 -0.15591258 -0.9097071   1.4430418  -1.2185172 ]\n",
      " [ 1.3586092  -0.16413265 -1.709701    0.38408363  0.59364885]\n",
      " [-0.39531717 -1.1281215   0.36780736 -1.906524    0.74065053]\n",
      " [-0.39406484 -0.4897225  -0.30566016 -0.07331786  0.75019807]\n",
      " [-0.887472    1.3133476   0.20211841 -0.3703274  -0.39634082]\n",
      " [ 0.78238934 -1.4857779  -0.93681604  3.7526588  -0.43597466]]\n",
      "\n",
      "y(shape/dtype/data) : (8,) / <dtype: 'float32'>\n",
      "[15.9593935  1.8000393  7.2093186 10.40582    4.5290194 11.167229\n",
      "  8.882565  17.831146 ]\n",
      "\n"
     ]
    }
   ],
   "source": [
    "y = tf.reduce_sum(t_weights * X, axis=1) + t_bias\n",
    "\n",
    "print('X(shape/dtype/data) : {} / {}\\n{}\\n'.format(X.shape, X.dtype, X.numpy()))\n",
    "print('y(shape/dtype/data) : {} / {}\\n{}\\n'.format(y.shape, y.dtype, y.numpy()))"
   ]
  },
  {
   "cell_type": "markdown",
   "id": "3ecfe720",
   "metadata": {},
   "source": [
    "## 1.2 Dataset for Binary Classification"
   ]
  },
  {
   "cell_type": "code",
   "execution_count": 16,
   "id": "28383a2e",
   "metadata": {},
   "outputs": [],
   "source": [
    "import tensorflow as tf\n",
    "\n",
    "N, n_feature = 8, 5\n",
    "\n",
    "t_weights = tf.constant([1,2,3,4,5], dtype=tf.float32)  # target weight : vector\n",
    "t_bias = tf.constant([10], dtype=tf.float32)            # target bias : scalar\n",
    "\n",
    "X = tf.random.normal(mean=0, stddev=1, shape=(N, n_feature))\n",
    "y = tf.reduce_sum(t_weights * X, axis=1) + t_bias"
   ]
  },
  {
   "cell_type": "markdown",
   "id": "c9f0f4e7",
   "metadata": {},
   "source": [
    "data type 변경 : cast"
   ]
  },
  {
   "cell_type": "code",
   "execution_count": 17,
   "id": "67e22cbd",
   "metadata": {},
   "outputs": [
    {
     "name": "stdout",
     "output_type": "stream",
     "text": [
      "tf.Tensor(\n",
      "[-4.920969   9.563859  -1.0712347  3.136613   5.7535005  8.229988\n",
      " 21.249746   7.722287 ], shape=(8,), dtype=float32)\n",
      "tf.Tensor([False  True False False  True  True  True  True], shape=(8,), dtype=bool)\n",
      "tf.Tensor([0 1 0 0 1 1 1 1], shape=(8,), dtype=int32)\n"
     ]
    }
   ],
   "source": [
    "print(y)\n",
    "\n",
    "y = y > 5\n",
    "print(y)   # bool\n",
    "\n",
    "y = tf.cast(y, tf.int32)  # int32\n",
    "print(y)"
   ]
  },
  {
   "cell_type": "markdown",
   "id": "a251c764",
   "metadata": {},
   "source": [
    "-[y * log(y^) + (1-y) * log(1-y^)] 식에 y값이 대입됨"
   ]
  },
  {
   "cell_type": "code",
   "execution_count": 18,
   "id": "5a8598a1",
   "metadata": {},
   "outputs": [
    {
     "name": "stdout",
     "output_type": "stream",
     "text": [
      "X(shape/dtype/data) : (8, 5) / <dtype: 'float32'>\n",
      "[[-0.35293844  0.45599595 -1.4105307  -1.2806876  -1.2251359 ]\n",
      " [ 1.1139133  -0.23092116 -1.3665164   0.18392622  0.45512652]\n",
      " [-0.65587825 -1.6355362  -0.45406935 -0.47311378 -0.7779241 ]\n",
      " [-1.0433375  -0.01988743 -0.49298996 -0.3329583  -0.59389424]\n",
      " [-0.39064562  0.8288548  -0.71753484 -0.31097692 -0.42341027]\n",
      " [-0.44930536  0.614705   -0.2558359  -1.6977513   1.0016792 ]\n",
      " [ 0.45793647 -0.78212684  0.22440511  2.4397538   0.38476652]\n",
      " [-0.54270476 -0.08615544 -1.6182011   0.80706316  0.01273068]]\n",
      "\n",
      "y(shape/dtype/data) : (8,) / <dtype: 'int32'>\n",
      "[0 1 0 0 1 1 1 1]\n",
      "\n"
     ]
    }
   ],
   "source": [
    "print('X(shape/dtype/data) : {} / {}\\n{}\\n'.format(X.shape, X.dtype, X.numpy()))\n",
    "print('y(shape/dtype/data) : {} / {}\\n{}\\n'.format(y.shape, y.dtype, y.numpy()))"
   ]
  },
  {
   "cell_type": "markdown",
   "id": "4eddb84e",
   "metadata": {},
   "source": [
    "## 1.3 Dataset for Multi-class Classification"
   ]
  },
  {
   "cell_type": "code",
   "execution_count": 19,
   "id": "c12336a2",
   "metadata": {},
   "outputs": [],
   "source": [
    "import tensorflow as tf\n",
    "import matplotlib.pyplot as plt\n",
    "plt.style.use('seaborn')"
   ]
  },
  {
   "cell_type": "code",
   "execution_count": 34,
   "id": "2e857724",
   "metadata": {},
   "outputs": [
    {
     "name": "stdout",
     "output_type": "stream",
     "text": [
      "(30, 2) (30, 1)\n",
      "(60, 2) (60, 1)\n",
      "(90, 2) (90, 1)\n",
      "(120, 2) (120, 1)\n",
      "(150, 2) (150, 1)\n"
     ]
    },
    {
     "data": {
      "image/png": "[encoded data removed]",
      "text/plain": [
       "<Figure size 360x360 with 1 Axes>"
      ]
     },
     "metadata": {},
     "output_type": "display_data"
    }
   ],
   "source": [
    "N, n_feature = 30, 2\n",
    "n_class = 5\n",
    "\n",
    "X = tf.zeros(shape=(0, n_feature))\n",
    "Y = tf.zeros(shape=(0,1), dtype = tf.int32)\n",
    "\n",
    "fig, ax = plt.subplots(figsize=(5,5))\n",
    "for class_idx in range(n_class):\n",
    "    center = tf.random.uniform(minval=-15, maxval=15, shape=(2, ))\n",
    "    \n",
    "    # center point\n",
    "    # ax.scatter(center[0], center[1])\n",
    "    \n",
    "    # 전체 dataset = 5 * 30 = 150\n",
    "    x1 = center[0] + tf.random.normal(shape=(N, 1))  # 한 class 당 30개 생성 : column vector\n",
    "    x2 = center[1] + tf.random.normal(shape=(N, 1))\n",
    "    \n",
    "    # x1 : 가로축 / x2 : 세로축\n",
    "    # ax.scatter(x1.numpy(), x2.numpy())\n",
    "    \n",
    "    x = tf.concat((x1, x2), axis=1)\n",
    "    y = class_idx * tf.ones(shape=(N, 1), dtype=tf.int32)\n",
    "    \n",
    "    ax.scatter(x[:, 0].numpy(), x[:, 1].numpy(), alpha=0.3)\n",
    "    \n",
    "    X = tf.concat((X, x), axis=0)\n",
    "    Y = tf.concat((Y, y), axis=0)\n",
    "    \n",
    "    print(X.shape, Y.shape)"
   ]
  },
  {
   "cell_type": "code",
   "execution_count": 41,
   "id": "5069ed55",
   "metadata": {
    "scrolled": true
   },
   "outputs": [
    {
     "name": "stdout",
     "output_type": "stream",
     "text": [
      "X(shape/dtype/data) : (15, 2) / <dtype: 'float32'>\n",
      "[[  9.391296    -4.086206  ]\n",
      " [  9.977894    -2.7523756 ]\n",
      " [  7.9057508   -2.607749  ]\n",
      " [  5.732707     6.0332303 ]\n",
      " [  5.1997538    6.977717  ]\n",
      " [  4.5586452    9.710466  ]\n",
      " [  2.7791028    1.2995172 ]\n",
      " [  2.5188947    0.27784026]\n",
      " [  3.0248656    0.5430124 ]\n",
      " [-11.265545    10.509066  ]\n",
      " [ -8.835118     8.249667  ]\n",
      " [ -9.91539     10.785931  ]\n",
      " [ -2.0914679    6.070078  ]\n",
      " [ -3.2940376    4.8253427 ]\n",
      " [ -1.7535553    5.060332  ]]\n",
      "\n",
      "Y(shape/dtype/data) : (15, 1) / <dtype: 'int32'>\n",
      "[[0]\n",
      " [0]\n",
      " [0]\n",
      " [1]\n",
      " [1]\n",
      " [1]\n",
      " [2]\n",
      " [2]\n",
      " [2]\n",
      " [3]\n",
      " [3]\n",
      " [3]\n",
      " [4]\n",
      " [4]\n",
      " [4]]\n",
      "\n"
     ]
    }
   ],
   "source": [
    "N, n_feature = 3, 2\n",
    "n_class = 5\n",
    "\n",
    "X = tf.zeros(shape=(0, n_feature))\n",
    "Y = tf.zeros(shape=(0,1), dtype = tf.int32)\n",
    "\n",
    "for class_idx in range(n_class):\n",
    "    center = tf.random.uniform(minval=-15, maxval=15, shape=(2, ))\n",
    "    \n",
    "    # 전체 dataset = 5 * 3 = 15행\n",
    "    x1 = center[0] + tf.random.normal(shape=(N, 1))  # 한 class 당 3개 생성 : column vector\n",
    "    x2 = center[1] + tf.random.normal(shape=(N, 1))\n",
    "    \n",
    "    x = tf.concat((x1, x2), axis=1)\n",
    "    y = class_idx * tf.ones(shape=(N, 1), dtype=tf.int32)\n",
    "        \n",
    "    X = tf.concat((X, x), axis=0)\n",
    "    Y = tf.concat((Y, y), axis=0)\n",
    "    \n",
    "print('X(shape/dtype/data) : {} / {}\\n{}\\n'.format(X.shape, X.dtype, X.numpy()))\n",
    "print('Y(shape/dtype/data) : {} / {}\\n{}\\n'.format(Y.shape, Y.dtype, Y.numpy()))"
   ]
  },
  {
   "cell_type": "markdown",
   "id": "4c3b79b7",
   "metadata": {},
   "source": [
    "## 1.4 Dataset for Multi-class Classification with One-hot Encoding"
   ]
  },
  {
   "cell_type": "code",
   "execution_count": 47,
   "id": "0e4e5ccc",
   "metadata": {},
   "outputs": [],
   "source": [
    "import tensorflow as tf\n",
    "import matplotlib.pyplot as plt\n",
    "plt.style.use('seaborn')"
   ]
  },
  {
   "cell_type": "code",
   "execution_count": 51,
   "id": "76d85013",
   "metadata": {},
   "outputs": [
    {
     "name": "stdout",
     "output_type": "stream",
     "text": [
      "X(shape/dtype/data) : (40, 2) / <dtype: 'float32'>\n",
      "[[ -4.992335    -2.1709793 ]\n",
      " [  4.3430047    0.4114894 ]\n",
      " [ 12.758419    -0.13387114]\n",
      " [  0.26733607   1.7834531 ]\n",
      " [  8.139075    -0.17020436]\n",
      " [ 21.502893    -0.27283025]\n",
      " [  4.740779    -1.4372742 ]\n",
      " [ -6.217711     1.8213649 ]\n",
      " [ -0.4308342    5.0367556 ]\n",
      " [ -1.6375632   -8.791103  ]\n",
      " [  0.6302783    5.860409  ]\n",
      " [ -0.67087215  -3.3397791 ]\n",
      " [ -4.0887656    5.433814  ]\n",
      " [ -3.7331707   -1.6333985 ]\n",
      " [ -7.377694   -12.411938  ]\n",
      " [  1.8550476    4.0432324 ]\n",
      " [ -9.8306675   -4.884628  ]\n",
      " [  5.336958     2.2078254 ]\n",
      " [  0.2162349   -2.937552  ]\n",
      " [  1.7511662    3.5909817 ]\n",
      " [  4.0881824   -5.2410426 ]\n",
      " [  2.126004     4.624718  ]\n",
      " [  1.9860208    3.1975627 ]\n",
      " [  7.7524967   -2.2880776 ]\n",
      " [  1.3170519    0.6219006 ]\n",
      " [ -4.112838    -1.1884338 ]\n",
      " [-10.917864     1.0627887 ]\n",
      " [  2.6907358    0.52700686]\n",
      " [ -6.5283985   -0.27711546]\n",
      " [  5.4078555    0.7367557 ]\n",
      " [ 10.546708    -0.07353756]\n",
      " [  3.0510242   -0.9760554 ]\n",
      " [  2.332608     2.4279058 ]\n",
      " [  0.9730598    0.032912  ]\n",
      " [ -2.4985697   -0.90852404]\n",
      " [  1.8265908   -1.9177561 ]\n",
      " [  1.6782959   -0.26766652]\n",
      " [  7.463277    -0.7756688 ]\n",
      " [  2.4007251   -1.2630064 ]\n",
      " [  2.5679095    0.18545392]]\n",
      "\n",
      "Y(shape/dtype/data) : (40, 5) / <dtype: 'int32'>\n",
      "[[1 0 0 0 0]\n",
      " [1 0 0 0 0]\n",
      " [1 0 0 0 0]\n",
      " [1 0 0 0 0]\n",
      " [1 0 0 0 0]\n",
      " [1 0 0 0 0]\n",
      " [1 0 0 0 0]\n",
      " [1 0 0 0 0]\n",
      " [0 1 0 0 0]\n",
      " [0 1 0 0 0]\n",
      " [0 1 0 0 0]\n",
      " [0 1 0 0 0]\n",
      " [0 1 0 0 0]\n",
      " [0 1 0 0 0]\n",
      " [0 1 0 0 0]\n",
      " [0 1 0 0 0]\n",
      " [0 0 1 0 0]\n",
      " [0 0 1 0 0]\n",
      " [0 0 1 0 0]\n",
      " [0 0 1 0 0]\n",
      " [0 0 1 0 0]\n",
      " [0 0 1 0 0]\n",
      " [0 0 1 0 0]\n",
      " [0 0 1 0 0]\n",
      " [0 0 0 1 0]\n",
      " [0 0 0 1 0]\n",
      " [0 0 0 1 0]\n",
      " [0 0 0 1 0]\n",
      " [0 0 0 1 0]\n",
      " [0 0 0 1 0]\n",
      " [0 0 0 1 0]\n",
      " [0 0 0 1 0]\n",
      " [0 0 0 0 1]\n",
      " [0 0 0 0 1]\n",
      " [0 0 0 0 1]\n",
      " [0 0 0 0 1]\n",
      " [0 0 0 0 1]\n",
      " [0 0 0 0 1]\n",
      " [0 0 0 0 1]\n",
      " [0 0 0 0 1]]\n",
      "\n"
     ]
    },
    {
     "data": {
      "image/png": "[encoded data removed]",
      "text/plain": [
       "<Figure size 360x360 with 1 Axes>"
      ]
     },
     "metadata": {},
     "output_type": "display_data"
    }
   ],
   "source": [
    "N, n_features = 8, 2\n",
    "n_class = 5\n",
    "\n",
    "X = tf.zeros(shape=(0, n_feature))\n",
    "\n",
    "# one-hot encoding을 위해 matrix가 아닌 vector로 생성해야 함\n",
    "# shape=(0,1) → shape(0,)\n",
    "Y = tf.zeros(shape=(0, ), dtype=tf.int32)\n",
    "\n",
    "fig, ax = plt.subplots(figsize=(5,5))\n",
    "for class_idx in range(n_class):\n",
    "    center = tf.random.uniform(minval=-15, maxval=15, shape=(2, ))\n",
    "    \n",
    "    x1 = center[0] * tf.random.normal(shape=(N,1))\n",
    "    x2 = center[1] * tf.random.normal(shape=(N,1))\n",
    "    \n",
    "    x = tf.concat((x1, x2), axis=1)\n",
    "    # one-hot encoding을 위해 matrix가 아닌 vector로 생성해야 함\n",
    "    # shape=(N,1) → shape(N,)\n",
    "    y = class_idx * tf.ones(shape=(N, ), dtype=tf.int32)\n",
    "    \n",
    "    ax.scatter(x[:, 0].numpy(), x[:, 1].numpy(), alpha=0.3)\n",
    "    \n",
    "    X = tf.concat((X, x), axis=0)\n",
    "    Y = tf.concat((Y, y), axis=0)\n",
    "    \n",
    "Y = tf.one_hot(Y, depth=n_class, dtype=tf.int32)\n",
    "\n",
    "print('X(shape/dtype/data) : {} / {}\\n{}\\n'.format(X.shape, X.dtype, X.numpy()))\n",
    "print('Y(shape/dtype/data) : {} / {}\\n{}\\n'.format(Y.shape, Y.dtype, Y.numpy()))"
   ]
  },
  {
   "cell_type": "markdown",
   "id": "feaf3dd2",
   "metadata": {},
   "source": [
    "## 1.5 Dataset Objects\n",
    "\n",
    "- ★ neural network를 만들고 training 하는 것만큼 중요한 게 input pipeline을 만드는 것\n",
    "  - dataset을 어떻게 뽑아서 모델에 넣어줄지\n",
    "  - input pipeline에 대한 강의도 보면 좋음"
   ]
  },
  {
   "cell_type": "code",
   "execution_count": 61,
   "id": "cada4e87",
   "metadata": {},
   "outputs": [],
   "source": [
    "import tensorflow as tf\n",
    "\n",
    "N, n_feature = 100, 5\n",
    "batch_size = 32\n",
    "\n",
    "t_weights = tf.constant([1,2,3,4,5], dtype=tf.float32)\n",
    "t_bias = tf.constant([10], dtype=tf.float32)\n",
    "\n",
    "# 가짜 데이터 만들기\n",
    "X = tf.random.normal(mean=0, stddev=1, shape=(N, n_feature))\n",
    "Y = tf.reduce_sum(t_weights*X, axis=1) + t_bias"
   ]
  },
  {
   "cell_type": "markdown",
   "id": "aac9ca87",
   "metadata": {},
   "source": [
    "### 방법1\n",
    "- 귀찮은 방법 (권장하지 않음)\n",
    "- 단순히 가져와야 하는 것이 아닌, 순서를 섞어야 하기도 하고, cash를 만드는 등 여러가지를 고려해야 하기 때문\n",
    "- 그래서 일반적으로 '방법2'를 사용"
   ]
  },
  {
   "cell_type": "code",
   "execution_count": null,
   "id": "f555dcc6",
   "metadata": {},
   "outputs": [],
   "source": [
    "# 몫\n",
    "print(N//batch_size)\n",
    "\n",
    "for batch_idx in range(N // batch_size):\n",
    "    # mini-batch\n",
    "    x = X[batch_idx * batch_size : (batch_idx + 1) * batch_size, ...]\n",
    "    y = Y[batch_idx * batch_size : (batch_idx + 1) * batch_size, ...]\n",
    "    \n",
    "    print(x.shape, y.shape)"
   ]
  },
  {
   "cell_type": "markdown",
   "id": "b78a807d",
   "metadata": {},
   "source": [
    "### 방법2\n",
    "\n",
    "- 제일 많이 사용하는 방법\n",
    "- tf.data.Dataset. : dataset을 만들어주는 API (function)\n",
    "- tensorflow에서 dataset을 만드는 방법이 많은데, 이 방법이 가장 간단\n",
    "  - 직접 dataset을 만들고 (X, Y), 이를 통해 dataset object 만들기\n",
    "- from_tensor_slices : tensor를 만들 때 사용\n",
    "  - MNIST 정도의 작은 데이터는 괜찮음\n",
    "  - 지금 (X, Y)처럼 우리가 만든 data도 매우 작은 크기\n",
    "  -  100GB가 넘는 데이터는 computer vision에서 사용하는 더 복잡한 dataset 만드는 거로 사용해야 함"
   ]
  },
  {
   "cell_type": "code",
   "execution_count": 60,
   "id": "6d883b59",
   "metadata": {},
   "outputs": [
    {
     "name": "stdout",
     "output_type": "stream",
     "text": [
      "<TensorSliceDataset element_spec=(TensorSpec(shape=(5,), dtype=tf.float32, name=None), TensorSpec(shape=(), dtype=tf.float32, name=None))>\n",
      "(32, 5) (32,)\n",
      "(32, 5) (32,)\n",
      "(32, 5) (32,)\n",
      "(4, 5) (4,)\n"
     ]
    }
   ],
   "source": [
    "dataset = tf.data.Dataset.from_tensor_slices((X, Y))\n",
    "print(dataset)  # tensor가 아닌 어떤 object가 만들어짐\n",
    "\n",
    "# batch_size(32) 단위로 나눠서 데이터 가져옴\n",
    "dataset = dataset.batch(batch_size)\n",
    "# dataset = dataset.batch(batch_size).shuffle(100)\n",
    "\n",
    "# object 하나씩 뽑아오기\n",
    "for x, y in dataset:\n",
    "    print(x.shape, y.shape)"
   ]
  },
  {
   "cell_type": "markdown",
   "id": "9aa5fbab",
   "metadata": {},
   "source": [
    "# 2. Mean Squared Error"
   ]
  },
  {
   "cell_type": "markdown",
   "id": "94aee8b5",
   "metadata": {},
   "source": [
    "## 2.1 MSE Calculation"
   ]
  },
  {
   "cell_type": "code",
   "execution_count": 5,
   "id": "fe645488",
   "metadata": {},
   "outputs": [
    {
     "name": "stdout",
     "output_type": "stream",
     "text": [
      "(32, 1) (32, 1)\n",
      "MSE(Tensorflow):  2.0863976\n",
      "MSE(Manual):  2.0863976\n"
     ]
    }
   ],
   "source": [
    "import tensorflow as tf\n",
    "from tensorflow.keras.losses import MeanSquaredError\n",
    "\n",
    "# y^ - y\n",
    "loss_object = MeanSquaredError()\n",
    "\n",
    "batch_size = 32\n",
    "predictions = tf.random.normal(shape=(batch_size, 1))  # column vector\n",
    "labels = tf.random.normal(shape=(batch_size, 1))\n",
    "\n",
    "mse = loss_object(labels, predictions)\n",
    "\n",
    "# tf.math.pow(A,2) : A를 제곱 해라 (power)\n",
    "# tf.reduce_mean : 평균값\n",
    "mse_manual = tf.reduce_mean(tf.math.pow(labels-predictions, 2))\n",
    "\n",
    "print(predictions.shape, labels.shape)\n",
    "print('MSE(Tensorflow): ', mse.numpy())\n",
    "print('MSE(Manual): ', mse_manual.numpy())"
   ]
  },
  {
   "cell_type": "markdown",
   "id": "f06bc0e4",
   "metadata": {},
   "source": [
    "## 2.2 MSE with Model/Dataset"
   ]
  },
  {
   "cell_type": "code",
   "execution_count": 7,
   "id": "ad16a679",
   "metadata": {},
   "outputs": [
    {
     "name": "stdout",
     "output_type": "stream",
     "text": [
      "1.5794153\n",
      "2.5506928\n",
      "3.305806\n",
      "4.022665\n"
     ]
    }
   ],
   "source": [
    "import tensorflow as tf\n",
    "\n",
    "from tensorflow.keras.layers import Dense\n",
    "from tensorflow.keras.losses import MeanSquaredError\n",
    "\n",
    "N, n_feature = 100, 5\n",
    "batch_size = 32\n",
    "\n",
    "X = tf.random.normal(shape=(N, n_feature))\n",
    "Y = tf.random.normal(shape=(N, 1))\n",
    "\n",
    "dataset = tf.data.Dataset.from_tensor_slices((X, Y))\n",
    "dataset = dataset.batch(batch_size)\n",
    "\n",
    "model = Dense(units=1, activation='linear')\n",
    "loss_object = MeanSquaredError()\n",
    "\n",
    "# Mini-batch\n",
    "for x, y in dataset:\n",
    "    #print(x.shape, y.shape)\n",
    "    predictions = model(x)\n",
    "    loss = loss_object(y, predictions)\n",
    "    print(loss.numpy())"
   ]
  },
  {
   "cell_type": "markdown",
   "id": "422250af",
   "metadata": {},
   "source": [
    "# 3. Binary Cross Entropy"
   ]
  },
  {
   "cell_type": "markdown",
   "id": "0640a4ab",
   "metadata": {},
   "source": [
    "## 3.1 BCE Calculation"
   ]
  },
  {
   "cell_type": "code",
   "execution_count": 11,
   "id": "f04ac1d3",
   "metadata": {},
   "outputs": [
    {
     "name": "stdout",
     "output_type": "stream",
     "text": [
      "BCE(tensorflow):  0.8879665\n",
      "BCE(Manual):  0.887967\n"
     ]
    }
   ],
   "source": [
    "import tensorflow as tf\n",
    "\n",
    "from tensorflow.keras.losses import BinaryCrossentropy\n",
    "\n",
    "batch_size = 32\n",
    "n_class = 2\n",
    "\n",
    "predictions = tf.random.uniform(shape=(batch_size, 1),\n",
    "                                minval=0, maxval=1,\n",
    "                                dtype=tf.float32)\n",
    "\n",
    "# labels : 0 아니면 1이어야 함\n",
    "labels = tf.random.uniform(shape=(batch_size, 1),\n",
    "                           minval=0, maxval=n_class,\n",
    "                           dtype=tf.int32)\n",
    "\n",
    "#print(predictions)  # 예측값 y^\n",
    "#print(labels)       # 실제값\n",
    "\n",
    "loss_object = BinaryCrossentropy()\n",
    "loss = loss_object(labels, predictions)\n",
    "\n",
    "# print(labels * predictions)  # Error : datatype이 다르기 때문\n",
    "labels = tf.cast(labels, tf.float32)    # labels type 변경\n",
    "bce_man = -(labels * tf.math.log(predictions) + (1 - labels) * tf.math.log(1-predictions))\n",
    "bce_man = tf.reduce_mean(bce_man)\n",
    "\n",
    "print('BCE(tensorflow): ', loss.numpy())\n",
    "print('BCE(Manual): ', bce_man.numpy())"
   ]
  },
  {
   "cell_type": "markdown",
   "id": "558f8ef8",
   "metadata": {},
   "source": [
    "## 3.2 BCE with Model/Dataset"
   ]
  },
  {
   "cell_type": "code",
   "execution_count": 12,
   "id": "4f891d59",
   "metadata": {},
   "outputs": [
    {
     "name": "stdout",
     "output_type": "stream",
     "text": [
      "0.6312551\n",
      "0.6324998\n",
      "0.6726794\n",
      "0.8472558\n"
     ]
    }
   ],
   "source": [
    "import tensorflow as tf\n",
    "\n",
    "from tensorflow.keras.layers import Dense\n",
    "from tensorflow.keras.losses import BinaryCrossentropy\n",
    "\n",
    "N, n_feature = 100, 5\n",
    "t_weights = tf.constant([1,2,3,4,5], dtype=tf.float32)\n",
    "t_bias = tf.constant([10], dtype=tf.float32)\n",
    "\n",
    "batch_size = 32\n",
    "\n",
    "X = tf.random.normal(mean=0, stddev=1, shape=(N, n_feature))\n",
    "Y = tf.reduce_sum(t_weights * X, axis=1) + t_bias\n",
    "Y = tf.cast(Y > 5, tf.int32)    # 1, 0 표시\n",
    "\n",
    "dataset = tf.data.Dataset.from_tensor_slices((X, Y))\n",
    "dataset = dataset.batch(batch_size)\n",
    "\n",
    "model = Dense(units=1, activation='sigmoid')\n",
    "loss_object = BinaryCrossentropy()\n",
    "\n",
    "for x, y in dataset:\n",
    "    predictions = model(x)\n",
    "    loss = loss_object(y, predictions)\n",
    "    print(loss.numpy())"
   ]
  },
  {
   "cell_type": "markdown",
   "id": "96c63d83",
   "metadata": {},
   "source": [
    "# 4. Sparse Categorical Cross Entropy"
   ]
  },
  {
   "cell_type": "markdown",
   "id": "71f014cd",
   "metadata": {},
   "source": [
    "## 4.1 SCCE Calculation"
   ]
  },
  {
   "cell_type": "code",
   "execution_count": 23,
   "id": "d98f73b2",
   "metadata": {},
   "outputs": [
    {
     "name": "stdout",
     "output_type": "stream",
     "text": [
      "(16, 5) (16, 1)\n",
      "tf.Tensor([4 0 2 0 4 0 4 0 0 1 0 4 1 1 3 1], shape=(16,), dtype=int32)\n"
     ]
    }
   ],
   "source": [
    "import tensorflow as tf\n",
    "\n",
    "from tensorflow.keras.losses import SparseCategoricalCrossentropy\n",
    "\n",
    "batch_size, n_class = 16, 5\n",
    "\n",
    "predictions = tf.random.uniform(shape=(batch_size, n_class),\n",
    "                                minval=0, maxval=1,\n",
    "                                dtype=tf.float32)\n",
    "\n",
    "pred_sum = tf.reshape(tf.reduce_sum(predictions, axis=1), (-1, 1))  # column vector로 reshape\n",
    "predictions = predictions/pred_sum\n",
    "\n",
    "labels = tf.random.uniform(shape=(batch_size, ),\n",
    "                           minval=0, maxval=n_class,\n",
    "                           dtype=tf.int32)\n",
    "\n",
    "print(predictions.shape, pred_sum.shape)\n",
    "print(labels)"
   ]
  },
  {
   "cell_type": "code",
   "execution_count": 24,
   "id": "a355c14c",
   "metadata": {},
   "outputs": [
    {
     "name": "stdout",
     "output_type": "stream",
     "text": [
      "1.9604216\n"
     ]
    }
   ],
   "source": [
    "loss_object = SparseCategoricalCrossentropy()\n",
    "loss = loss_object(labels, predictions)\n",
    "\n",
    "print(loss.numpy())"
   ]
  },
  {
   "cell_type": "code",
   "execution_count": 25,
   "id": "f32aa423",
   "metadata": {},
   "outputs": [
    {
     "name": "stdout",
     "output_type": "stream",
     "text": [
      "1.9604216\n"
     ]
    }
   ],
   "source": [
    "ce = 0\n",
    "\n",
    "for label, prediction in zip(labels, predictions):\n",
    "    # print(label.shape, prediction.shape)   # label : scalar / prediction : vector\n",
    "    # print(label, prediction)\n",
    "    ce += -tf.math.log(prediction[label])\n",
    "\n",
    "# 평균\n",
    "ce /= batch_size\n",
    "print(ce.numpy())"
   ]
  },
  {
   "cell_type": "markdown",
   "id": "836a0683",
   "metadata": {},
   "source": [
    "## 4.2 SCCE with Model/Dataset"
   ]
  },
  {
   "cell_type": "code",
   "execution_count": 28,
   "id": "1d245c35",
   "metadata": {},
   "outputs": [],
   "source": [
    "import tensorflow as tf\n",
    "from tensorflow.keras.layers import Dense\n",
    "from tensorflow.keras.losses import SparseCategoricalCrossentropy\n",
    "\n",
    "import matplotlib.pyplot as plt\n",
    "plt.style.use('seaborn')"
   ]
  },
  {
   "cell_type": "code",
   "execution_count": 35,
   "id": "e3d8d186",
   "metadata": {},
   "outputs": [
    {
     "name": "stdout",
     "output_type": "stream",
     "text": [
      "9.265693\n",
      "9.513208\n",
      "9.49926\n",
      "9.111867\n",
      "9.131399\n",
      "9.810555\n",
      "6.265301\n",
      "5.1344833\n",
      "4.9197245\n",
      "5.320586\n",
      "5.315525\n",
      "5.2780366\n",
      "9.453121\n",
      "13.07366\n",
      "12.946371\n",
      "12.949421\n",
      "13.308176\n",
      "12.609579\n",
      "10.428583\n",
      "3.5824587\n",
      "3.2305875\n",
      "3.2918036\n",
      "3.3068366\n",
      "3.4270396\n",
      "3.7352822\n",
      "16.345768\n",
      "16.402035\n",
      "16.648355\n",
      "16.742983\n",
      "16.162436\n",
      "16.691952\n",
      "15.733899\n"
     ]
    }
   ],
   "source": [
    "N, n_feature = 100, 2\n",
    "n_class = 5\n",
    "\n",
    "batch_size = 16\n",
    "\n",
    "X = tf.zeros(shape=(0, n_feature))\n",
    "Y = tf.zeros(shape=(0, 1), dtype=tf.int32)\n",
    "\n",
    "#fig, ax = plt.subplots(figsize=(5,5))\n",
    "for class_idx in range(n_class):\n",
    "    center = tf.random.uniform(minval=-15, maxval=15, shape=(2,))\n",
    "    \n",
    "    x1 = center[0] + tf.random.normal(shape=(N,1))\n",
    "    x2 = center[1] + tf.random.normal(shape=(N,1))\n",
    "    \n",
    "    x = tf.concat((x1, x2), axis=1)\n",
    "    y = class_idx * tf.ones(shape=(N, 1), dtype=tf.int32)\n",
    "    \n",
    "    #ax.scatter(x[:, 0].numpy(), x[:, 1].numpy(), alpha=0.3)\n",
    "    \n",
    "    X = tf.concat((X, x), axis=0)\n",
    "    Y = tf.concat((Y, y), axis=0)\n",
    "\n",
    "dataset = tf.data.Dataset.from_tensor_slices((X,Y))\n",
    "dataset = dataset.batch(batch_size)\n",
    "\n",
    "model = Dense(units=n_class, activation='softmax')\n",
    "loss_object = SparseCategoricalCrossentropy()\n",
    "\n",
    "for x, y in dataset:\n",
    "    predictions = model(x)\n",
    "    # print(predictions.shape, y.shape)  # -> (16, 5) (16, 1)\n",
    "    loss = loss_object(y, predictions)\n",
    "    print(loss.numpy())"
   ]
  },
  {
   "cell_type": "markdown",
   "id": "f8385c71",
   "metadata": {},
   "source": [
    "# 5. Categorical Cross Entropy"
   ]
  },
  {
   "cell_type": "markdown",
   "id": "419b0406",
   "metadata": {},
   "source": [
    "## 5.1 CCE Calculation"
   ]
  },
  {
   "cell_type": "code",
   "execution_count": 44,
   "id": "dd93a7ce",
   "metadata": {},
   "outputs": [
    {
     "name": "stdout",
     "output_type": "stream",
     "text": [
      "tf.Tensor(\n",
      "[[0. 0. 0. 1. 0.]\n",
      " [0. 0. 1. 0. 0.]\n",
      " [0. 0. 0. 1. 0.]\n",
      " [0. 0. 0. 0. 1.]\n",
      " [0. 0. 0. 0. 1.]\n",
      " [0. 1. 0. 0. 0.]\n",
      " [0. 0. 0. 0. 1.]\n",
      " [0. 1. 0. 0. 0.]\n",
      " [0. 0. 1. 0. 0.]\n",
      " [1. 0. 0. 0. 0.]\n",
      " [1. 0. 0. 0. 0.]\n",
      " [0. 1. 0. 0. 0.]\n",
      " [0. 0. 1. 0. 0.]\n",
      " [0. 0. 0. 1. 0.]\n",
      " [0. 0. 1. 0. 0.]\n",
      " [0. 0. 1. 0. 0.]], shape=(16, 5), dtype=float32)\n"
     ]
    }
   ],
   "source": [
    "import tensorflow as tf\n",
    "\n",
    "from tensorflow.keras.losses import CategoricalCrossentropy\n",
    "\n",
    "batch_size, n_class = 16, 5\n",
    "\n",
    "predictions = tf.random.uniform(shape=(batch_size, n_class),\n",
    "                                minval=0, maxval=1,\n",
    "                                dtype=tf.float32)\n",
    "\n",
    "pred_sum = tf.reshape(tf.reduce_sum(predictions, axis=1), (-1, 1))  # column vector로 reshape\n",
    "predictions = predictions/pred_sum\n",
    "\n",
    "labels = tf.random.uniform(shape=(batch_size, ),\n",
    "                           minval=0, maxval=n_class,\n",
    "                           dtype=tf.int32)\n",
    "\n",
    "labels = tf.one_hot(labels, n_class)\n",
    "print(labels)"
   ]
  },
  {
   "cell_type": "code",
   "execution_count": 45,
   "id": "43baa792",
   "metadata": {},
   "outputs": [
    {
     "name": "stdout",
     "output_type": "stream",
     "text": [
      "CCE(Tensorflow):  1.8930733\n"
     ]
    }
   ],
   "source": [
    "# CategoricalCrossentropy() : y label이 one hot encoding이 되어있어야 함\n",
    "loss_object = CategoricalCrossentropy()\n",
    "loss = loss_object(labels, predictions)\n",
    "print('CCE(Tensorflow): ', loss.numpy())"
   ]
  },
  {
   "cell_type": "code",
   "execution_count": 46,
   "id": "209a097b",
   "metadata": {},
   "outputs": [
    {
     "name": "stdout",
     "output_type": "stream",
     "text": [
      "CCE(Manual):  1.8930733\n"
     ]
    }
   ],
   "source": [
    "cce_man = tf.reduce_mean(tf.reduce_sum(-labels * tf.math.log(predictions), axis=1))\n",
    "print('CCE(Manual): ', cce_man.numpy())"
   ]
  },
  {
   "cell_type": "markdown",
   "id": "c9f0e077",
   "metadata": {},
   "source": [
    "## 5.2 CCE with Model/Dataset\n",
    "\n",
    "- 데이터 안에 one hot vector들이 들어있을 때 loss를 구하는 방법"
   ]
  },
  {
   "cell_type": "code",
   "execution_count": 50,
   "id": "80e2d484",
   "metadata": {},
   "outputs": [
    {
     "name": "stdout",
     "output_type": "stream",
     "text": [
      "3.864978\n",
      "5.336947\n",
      "7.6925426\n"
     ]
    }
   ],
   "source": [
    "import tensorflow as tf\n",
    "from tensorflow.keras.losses import CategoricalCrossentropy\n",
    "\n",
    "N, n_feature = 8, 2\n",
    "n_class = 5\n",
    "\n",
    "X = tf.zeros(shape=(0, n_feature))\n",
    "Y = tf.zeros(shape=(0, ), dtype=tf.int32)\n",
    "\n",
    "for class_idx in range(n_class):\n",
    "    center = tf.random.uniform(minval=-15, maxval=15, shape=(2,))\n",
    "    \n",
    "    x1 = center[0] * tf.random.normal(shape=(N,1))\n",
    "    x2 = center[1] * tf.random.normal(shape=(N,1))\n",
    "    \n",
    "    x = tf.concat((x1, x2), axis=1)\n",
    "    y = class_idx * tf.ones(shape=(N, ), dtype=tf.int32)\n",
    "    \n",
    "    X = tf.concat((X, x), axis=0)\n",
    "    Y = tf.concat((Y, y), axis=0)\n",
    "\n",
    "Y = tf.one_hot(Y, depth=n_class, dtype=tf.int32)\n",
    "\n",
    "dataset = tf.data.Dataset.from_tensor_slices((X, Y))\n",
    "dataset = dataset.batch(batch_size)\n",
    "\n",
    "model = Dense(units=n_class, activation='softmax')\n",
    "loss_object = CategoricalCrossentropy()\n",
    "\n",
    "for x, y in dataset:\n",
    "    predictions = model(x)\n",
    "    #print(predictions.shape, y.shape)\n",
    "    loss = loss_object(y, predictions)\n",
    "    print(loss.numpy())"
   ]
  },
  {
   "cell_type": "code",
   "execution_count": null,
   "id": "216fa453",
   "metadata": {},
   "outputs": [],
   "source": []
  }
 ],
 "metadata": {
  "kernelspec": {
   "display_name": "Python 3 (ipykernel)",
   "language": "python",
   "name": "python3"
  },
  "language_info": {
   "codemirror_mode": {
    "name": "ipython",
    "version": 3
   },
   "file_extension": ".py",
   "mimetype": "text/x-python",
   "name": "python",
   "nbconvert_exporter": "python",
   "pygments_lexer": "ipython3",
   "version": "3.8.12"
  }
 },
 "nbformat": 4,
 "nbformat_minor": 5
}
