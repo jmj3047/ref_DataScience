{
 "cells": [
  {
   "cell_type": "markdown",
   "id": "36079adf",
   "metadata": {},
   "source": [
    "# 딥러닝 개발 준비"
   ]
  },
  {
   "cell_type": "markdown",
   "id": "88d253c1",
   "metadata": {},
   "source": [
    "### Google Colab\n",
    "\n",
    "- 환경도 잘 되어 있고 많이 사용\n",
    "- 런타임 - 런타임 유형 변경 - 하드웨어 가속기\n",
    "  - None : CPU\n",
    "  - GPU\n",
    "- !nvidia-smi\n",
    "  - 현재 사용 중인 스펙 확인 가능 (CPU/GPU 등)\n",
    "  - 무료 버전에서 제일 좋은 GPU는 P100\n",
    "- 무료 버전에서는 12시간까지 연속 사용 가능\n",
    "  - 이후에는 연결 끊김\n",
    "  - Google Drive와 연동되어 있기 때문에 사용 중인 script 저장 가능\n",
    "- Google Drive에서 Script 클릭 했는데 연동 안되고 까만 화면 뜰 때\n",
    "  - Google Drive 우측 상단 설정 - 앱 관리 - Google Collaboratory - 기본값으로 사용 체크\n",
    "- 단점\n",
    "  - 필요한 모든 데이터를 Google Drive에 업로드해야 함"
   ]
  },
  {
   "cell_type": "code",
   "execution_count": 2,
   "id": "d214bbd1",
   "metadata": {},
   "outputs": [
    {
     "name": "stdout",
     "output_type": "stream",
     "text": [
      "2.2.0\n",
      "1.11.0\n"
     ]
    }
   ],
   "source": [
    "import numpy as np\n",
    "import pandas as pd\n",
    "import tensorflow as tf\n",
    "import torch\n",
    "\n",
    "print(tf.__version__)\n",
    "print(torch.__version__)"
   ]
  },
  {
   "cell_type": "markdown",
   "id": "92f1a901",
   "metadata": {},
   "source": [
    "# 1. Numpy Tutorial"
   ]
  },
  {
   "cell_type": "markdown",
   "id": "b1ccacaa",
   "metadata": {},
   "source": [
    "Numpy는 Numerical Python의 줄임말"
   ]
  },
  {
   "cell_type": "markdown",
   "id": "6a5c88c0",
   "metadata": {},
   "source": [
    "## 1.1 Numpy ndarray\n",
    "- N차원의 배열 객체\n",
    "- 대규모 데이터 집합을 담을 수 있는 빠르고 유연한 자료구조"
   ]
  },
  {
   "cell_type": "code",
   "execution_count": null,
   "id": "f64f60c8",
   "metadata": {},
   "outputs": [],
   "source": [
    "a = np.array([1,2,3])\n",
    "print(a, type(a))"
   ]
  },
  {
   "cell_type": "markdown",
   "id": "f3275153",
   "metadata": {},
   "source": [
    "List와 비교"
   ]
  },
  {
   "cell_type": "code",
   "execution_count": null,
   "id": "bbf3b0bf",
   "metadata": {},
   "outputs": [],
   "source": [
    "L = [1,2,3]\n",
    "A = np.array([1,2,3])\n",
    "print(L)\n",
    "print(A)"
   ]
  },
  {
   "cell_type": "code",
   "execution_count": null,
   "id": "1e0ee3bf",
   "metadata": {},
   "outputs": [],
   "source": [
    "for item in L:\n",
    "    print(item)\n",
    "\n",
    "for item in A:\n",
    "    print(item)"
   ]
  },
  {
   "cell_type": "code",
   "execution_count": null,
   "id": "4746c6e1",
   "metadata": {},
   "outputs": [],
   "source": [
    "L.append(4)\n",
    "print(L)\n",
    "\n",
    "# A.append(4) -> Error\n",
    "A = np.append(A,4)\n",
    "print(A)"
   ]
  },
  {
   "cell_type": "code",
   "execution_count": null,
   "id": "a0317538",
   "metadata": {},
   "outputs": [],
   "source": [
    "L = L + [5]\n",
    "print(L)\n",
    "\n",
    "A = A + np.array([5])\n",
    "print(A)"
   ]
  },
  {
   "cell_type": "markdown",
   "id": "a01ac84f",
   "metadata": {},
   "source": [
    "모든 원소를 2배로 만들기"
   ]
  },
  {
   "cell_type": "code",
   "execution_count": null,
   "id": "b6825b02",
   "metadata": {},
   "outputs": [],
   "source": [
    "L = [1, 2, 3]\n",
    "L2 = []\n",
    "for item in L:\n",
    "    L2.append(item*2)\n",
    "print(L*2)\n",
    "print(L2)\n",
    "\n",
    "A = np.array(L)\n",
    "A2 = A*2\n",
    "print(A2)"
   ]
  },
  {
   "cell_type": "markdown",
   "id": "9542561d",
   "metadata": {},
   "source": [
    "## 1.2 배열\n",
    "- 모두 같은 유형의 값\n",
    "- 음수가 아닌 정수의 튜플로 인덱싱\n",
    "- 차원의 수는 배열의 rank\n",
    "- 배열의 shape은 각 차원 별 배열 크기의 tuple\n",
    "- 중첩된 파이썬 리스트로부터 numpy 배열을 초기화 할 수 있고 대괄호를 사용하여 요소에 접근 가능"
   ]
  },
  {
   "cell_type": "code",
   "execution_count": null,
   "id": "9b6966c9",
   "metadata": {},
   "outputs": [],
   "source": [
    "a = np.array([1,2,3])\n",
    "print(a)\n",
    "print(type(a), a.ndim, a.shape, a.dtype)"
   ]
  },
  {
   "cell_type": "code",
   "execution_count": null,
   "id": "0487a7bb",
   "metadata": {},
   "outputs": [],
   "source": [
    "b = np.array(a)\n",
    "print(b)"
   ]
  },
  {
   "cell_type": "markdown",
   "id": "218d839b",
   "metadata": {},
   "source": [
    "- array : b의 값을 변경한다고 a값이 변경되지는 않음\n",
    "- ★ asarry : b_copy를 변경하면 b도 변경됨"
   ]
  },
  {
   "cell_type": "code",
   "execution_count": null,
   "id": "6d715dbd",
   "metadata": {},
   "outputs": [],
   "source": [
    "b_copy = np.asarray(b)\n",
    "print(b_copy)"
   ]
  },
  {
   "cell_type": "code",
   "execution_count": null,
   "id": "afaee55d",
   "metadata": {},
   "outputs": [],
   "source": [
    "b_copy[0] = 9\n",
    "print(b)\n",
    "print(b_copy)"
   ]
  },
  {
   "cell_type": "markdown",
   "id": "e4164ede",
   "metadata": {},
   "source": [
    "0으로 채우기"
   ]
  },
  {
   "cell_type": "code",
   "execution_count": null,
   "id": "d47862ad",
   "metadata": {},
   "outputs": [],
   "source": [
    "a = np.zeros((3,4))\n",
    "print(a)"
   ]
  },
  {
   "cell_type": "markdown",
   "id": "ae307d15",
   "metadata": {},
   "source": [
    "1로 채우기"
   ]
  },
  {
   "cell_type": "code",
   "execution_count": null,
   "id": "9c6cfbfb",
   "metadata": {},
   "outputs": [],
   "source": [
    "b = np.ones((5,2))\n",
    "print(b)"
   ]
  },
  {
   "cell_type": "markdown",
   "id": "d127659c",
   "metadata": {},
   "source": [
    "2행 3열로 만들고 4로 채우기"
   ]
  },
  {
   "cell_type": "code",
   "execution_count": null,
   "id": "33451244",
   "metadata": {},
   "outputs": [],
   "source": [
    "c = np.full((2,3),4)\n",
    "print(c)"
   ]
  },
  {
   "cell_type": "markdown",
   "id": "900216c9",
   "metadata": {},
   "source": [
    "랜덤 값으로 3행 3열 만들기"
   ]
  },
  {
   "cell_type": "code",
   "execution_count": null,
   "id": "a6f67cff",
   "metadata": {},
   "outputs": [],
   "source": [
    "d = np.empty((3,3))\n",
    "print(d)"
   ]
  },
  {
   "cell_type": "markdown",
   "id": "4e765ba5",
   "metadata": {},
   "source": [
    "- np.zeros_like : a와 같은 행/열 개수를 만들고 숫자는 0으로 채우기\n",
    "- np.ones_like : a와 같은 행/열 개수를 만들고 숫자는 1로 채우기\n",
    "- np.full_like : a와 같은 행/열 개수를 만들고 숫자는 지정 숫자(2)로 채우기\n",
    "- np.empty_like : a와 같은 행/열 개수를 만들고 숫자는 랜덤하게 채우기"
   ]
  },
  {
   "cell_type": "code",
   "execution_count": null,
   "id": "a93b5fbe",
   "metadata": {},
   "outputs": [],
   "source": [
    "e = np.zeros_like(a)\n",
    "f = np.ones_like(a)\n",
    "g = np.full_like(a,2)\n",
    "h = np.empty_like(a)\n",
    "print(e)\n",
    "print(f)\n",
    "print(g)\n",
    "print(h)"
   ]
  },
  {
   "cell_type": "markdown",
   "id": "1da791d5",
   "metadata": {},
   "source": [
    "항등행렬"
   ]
  },
  {
   "cell_type": "code",
   "execution_count": null,
   "id": "10443f15",
   "metadata": {},
   "outputs": [],
   "source": [
    "i = np.eye(3)\n",
    "j = np.identity(3)\n",
    "print(i)\n",
    "print(j)"
   ]
  },
  {
   "cell_type": "code",
   "execution_count": null,
   "id": "4391d32b",
   "metadata": {},
   "outputs": [],
   "source": [
    "k1 = np.arange(10)\n",
    "print(k1)"
   ]
  },
  {
   "cell_type": "code",
   "execution_count": null,
   "id": "bc00db47",
   "metadata": {},
   "outputs": [],
   "source": [
    "k2 = np.arange(1,11)\n",
    "print(k2)"
   ]
  },
  {
   "cell_type": "code",
   "execution_count": null,
   "id": "8cc3f6f9",
   "metadata": {},
   "outputs": [],
   "source": [
    "k3 = np.arange(10,0,-1)\n",
    "print(k3)"
   ]
  },
  {
   "cell_type": "markdown",
   "id": "87e0e66f",
   "metadata": {},
   "source": [
    "Uniform Distribution\n",
    "- rand : 똑같은 확률로 뽑는 것"
   ]
  },
  {
   "cell_type": "code",
   "execution_count": null,
   "id": "e373aea7",
   "metadata": {},
   "outputs": [],
   "source": [
    "l = np.random.rand(2,2)\n",
    "print(l)"
   ]
  },
  {
   "cell_type": "markdown",
   "id": "91f12ca3",
   "metadata": {},
   "source": [
    "Normal Distribution\n",
    "- 평균 0, 표준편차 1 그래프에서 뽑은 숫자"
   ]
  },
  {
   "cell_type": "code",
   "execution_count": null,
   "id": "7130e0bb",
   "metadata": {},
   "outputs": [],
   "source": [
    "m = np.random.randn(2,2)\n",
    "print(m)"
   ]
  },
  {
   "cell_type": "markdown",
   "id": "15494502",
   "metadata": {},
   "source": [
    "### 1.2.1 배열의 dtype"
   ]
  },
  {
   "cell_type": "code",
   "execution_count": null,
   "id": "13b337b8",
   "metadata": {},
   "outputs": [],
   "source": [
    "a = np.array([1,2,3])\n",
    "b = np.array([1,2,3], dtype=np.float64)\n",
    "c = np.array([1,2,3], dtype=np.int32)\n",
    "\n",
    "print(a.dtype, b.dtype, c.dtype)"
   ]
  },
  {
   "cell_type": "code",
   "execution_count": null,
   "id": "a2b5ada5",
   "metadata": {},
   "outputs": [],
   "source": [
    "d = np.array([1,2,3], dtype='i1')\n",
    "e = np.array([1,2,3], dtype='i2')\n",
    "f = np.array([1,2,3], dtype='i4')\n",
    "g = np.array([1,2,3], dtype='i8')\n",
    "\n",
    "print(d.dtype, e.dtype, f.dtype, g.dtype)"
   ]
  },
  {
   "cell_type": "markdown",
   "id": "194a3624",
   "metadata": {},
   "source": [
    "unsigned int"
   ]
  },
  {
   "cell_type": "code",
   "execution_count": null,
   "id": "2005fd78",
   "metadata": {},
   "outputs": [],
   "source": [
    "d = np.array([1,2,3], dtype='u1')\n",
    "e = np.array([1,2,3], dtype='u2')\n",
    "f = np.array([1,2,3], dtype='u4')\n",
    "g = np.array([1,2,3], dtype='u8')\n",
    "\n",
    "print(d.dtype, e.dtype, f.dtype, g.dtype)"
   ]
  },
  {
   "cell_type": "markdown",
   "id": "0030eb3b",
   "metadata": {},
   "source": [
    "floating point"
   ]
  },
  {
   "cell_type": "code",
   "execution_count": 4,
   "id": "e251a0b8",
   "metadata": {},
   "outputs": [
    {
     "name": "stdout",
     "output_type": "stream",
     "text": [
      "float16 float32 float64\n",
      "float32 float64 float64\n"
     ]
    }
   ],
   "source": [
    "h = np.array([1,2,3], dtype='f2')\n",
    "i = np.array([1,2,3], dtype='f4')\n",
    "j = np.array([1,2,3], dtype='f8')\n",
    "#k = np.array([1,2,3], dtype='f16')\n",
    "\n",
    "print(h.dtype, i.dtype, j.dtype)\n",
    "\n",
    "# f2, f4 등이 아니라 약자로 표현할 수도 있음\n",
    "i = np.array([1,2,3], dtype='f')\n",
    "j = np.array([1,2,3], dtype='d')\n",
    "k = np.array([1,2,3], dtype='g')\n",
    "\n",
    "print(i.dtype, j.dtype, k.dtype)"
   ]
  },
  {
   "cell_type": "markdown",
   "id": "c3dfec97",
   "metadata": {},
   "source": [
    "type 변경"
   ]
  },
  {
   "cell_type": "code",
   "execution_count": 6,
   "id": "e762e2f4",
   "metadata": {},
   "outputs": [
    {
     "name": "stdout",
     "output_type": "stream",
     "text": [
      "int32\n",
      "int32\n"
     ]
    }
   ],
   "source": [
    "i = i.astype(np.int32)\n",
    "print(i.dtype)\n",
    "\n",
    "# i와 같은 type으로 변경\n",
    "j = j.astype(i.dtype)\n",
    "print(j.dtype)"
   ]
  },
  {
   "cell_type": "markdown",
   "id": "35865d04",
   "metadata": {},
   "source": [
    "### 1.2.2 배열 indexing & slicing\n",
    "- indexing : 항상 차원이 감소됨\n",
    "- slicing : 차원 유지"
   ]
  },
  {
   "cell_type": "code",
   "execution_count": 8,
   "id": "266d1caa",
   "metadata": {},
   "outputs": [
    {
     "name": "stdout",
     "output_type": "stream",
     "text": [
      "[0 1 2 3 4 5 6 7 8 9]\n",
      "5\n",
      "9\n",
      "[5 6 7]\n",
      "[7 8]\n",
      "[ 0  1  2  3  4 10 10 10  8  9]\n"
     ]
    }
   ],
   "source": [
    "a = np.arange(10)\n",
    "print(a)\n",
    "\n",
    "# indexing\n",
    "print(a[5])\n",
    "print(a[-1])\n",
    "\n",
    "# slicing\n",
    "print(a[5:8])\n",
    "print(a[7:-1])\n",
    "\n",
    "a[5:8] = 10\n",
    "print(a)"
   ]
  },
  {
   "cell_type": "code",
   "execution_count": 9,
   "id": "6d2e4a06",
   "metadata": {},
   "outputs": [
    {
     "name": "stdout",
     "output_type": "stream",
     "text": [
      "[ 1  2  3  4  5  6  7  8  9 10 11 12]\n",
      "(12,)\n",
      "1\n",
      "2 () 0\n",
      "[2] (1,) 1\n"
     ]
    }
   ],
   "source": [
    "b = np.arange(1,13)\n",
    "print(b)\n",
    "print(b.shape)\n",
    "print(b.ndim)\n",
    "\n",
    "indexing = b[1]\n",
    "slicing = b[1:2]\n",
    "print(indexing, indexing.shape, indexing.ndim)\n",
    "print(slicing, slicing.shape, slicing.ndim)"
   ]
  },
  {
   "cell_type": "code",
   "execution_count": 10,
   "id": "a240d471",
   "metadata": {},
   "outputs": [
    {
     "name": "stdout",
     "output_type": "stream",
     "text": [
      "[[ 1  2  3  4]\n",
      " [ 5  6  7  8]\n",
      " [ 9 10 11 12]] (3, 4) 2\n",
      "[5 6 7 8] (4,) 1\n",
      "[[5 6 7 8]] (1, 4) 2\n"
     ]
    }
   ],
   "source": [
    "b = b.reshape(3,4)\n",
    "print(b, b.shape, b.ndim)                 # 2차원\n",
    "\n",
    "row_r1 = b[1, :]\n",
    "row_r2 = b[1:2, :]\n",
    "print(row_r1, row_r1.shape, row_r1.ndim)  # 1차원\n",
    "print(row_r2, row_r2.shape, row_r2.ndim)  # 2차원"
   ]
  },
  {
   "cell_type": "markdown",
   "id": "0c2666ab",
   "metadata": {},
   "source": [
    "slicing examples"
   ]
  },
  {
   "cell_type": "code",
   "execution_count": 13,
   "id": "570b7c98",
   "metadata": {},
   "outputs": [
    {
     "name": "stdout",
     "output_type": "stream",
     "text": [
      "[[[ 0  1  2  3]\n",
      "  [ 4  5  6  7]\n",
      "  [ 8  9 10 11]]\n",
      "\n",
      " [[12 13 14 15]\n",
      "  [16 17 18 19]\n",
      "  [20 21 22 23]]]\n",
      "(2, 3, 4)\n"
     ]
    }
   ],
   "source": [
    "c = np.arange(24).reshape(2,3,4)\n",
    "print(c)\n",
    "print(c.shape)"
   ]
  },
  {
   "cell_type": "code",
   "execution_count": 15,
   "id": "c7f15774",
   "metadata": {},
   "outputs": [
    {
     "name": "stdout",
     "output_type": "stream",
     "text": [
      "[[[ 0]\n",
      "  [ 4]\n",
      "  [ 8]]\n",
      "\n",
      " [[12]\n",
      "  [16]\n",
      "  [20]]]\n"
     ]
    }
   ],
   "source": [
    "print(c[:,:,:1])"
   ]
  },
  {
   "cell_type": "code",
   "execution_count": 16,
   "id": "01c26746",
   "metadata": {},
   "outputs": [
    {
     "name": "stdout",
     "output_type": "stream",
     "text": [
      "[[[ 0]\n",
      "  [ 4]\n",
      "  [ 8]]\n",
      "\n",
      " [[12]\n",
      "  [16]\n",
      "  [20]]]\n"
     ]
    }
   ],
   "source": [
    "print(c[...,:1])   # ... : 앞에 전부 다 가져오라는 의미 ★"
   ]
  },
  {
   "cell_type": "code",
   "execution_count": 17,
   "id": "a8778c08",
   "metadata": {},
   "outputs": [
    {
     "name": "stdout",
     "output_type": "stream",
     "text": [
      "[[[ 0  1  2  3]\n",
      "  [ 4  5  6  7]\n",
      "  [ 8  9 10 11]]]\n",
      "[[[ 0  1  2  3]\n",
      "  [ 4  5  6  7]\n",
      "  [ 8  9 10 11]]]\n"
     ]
    }
   ],
   "source": [
    "print(c[0:1])\n",
    "print(c[0::-1])  # step : -1"
   ]
  },
  {
   "cell_type": "markdown",
   "id": "b7e7a0a4",
   "metadata": {},
   "source": [
    "<b>boolean indexing</b>"
   ]
  },
  {
   "cell_type": "code",
   "execution_count": 19,
   "id": "ea424613",
   "metadata": {},
   "outputs": [
    {
     "name": "stdout",
     "output_type": "stream",
     "text": [
      "[[[ 0  1  2  3]\n",
      "  [ 4  5  6  7]\n",
      "  [ 8  9 10 11]]\n",
      "\n",
      " [[12 13 14 15]\n",
      "  [16 17 18 19]\n",
      "  [20 21 22 23]]]\n"
     ]
    }
   ],
   "source": [
    "print(c)"
   ]
  },
  {
   "cell_type": "code",
   "execution_count": 20,
   "id": "e7316f40",
   "metadata": {},
   "outputs": [
    {
     "name": "stdout",
     "output_type": "stream",
     "text": [
      "[[[False False False False]\n",
      "  [False False False False]\n",
      "  [False False False  True]]\n",
      "\n",
      " [[ True  True  True  True]\n",
      "  [ True  True  True  True]\n",
      "  [ True  True  True  True]]]\n"
     ]
    }
   ],
   "source": [
    "bool_idx = (c > 10)\n",
    "print(bool_idx)"
   ]
  },
  {
   "cell_type": "code",
   "execution_count": 21,
   "id": "d8661379",
   "metadata": {},
   "outputs": [
    {
     "name": "stdout",
     "output_type": "stream",
     "text": [
      "[11 12 13 14 15 16 17 18 19 20 21 22 23]\n"
     ]
    }
   ],
   "source": [
    "print(c[bool_idx])   # 1차원으로 출력"
   ]
  },
  {
   "cell_type": "markdown",
   "id": "50a7aaef",
   "metadata": {},
   "source": [
    "차원 유지하면서 일부 값 변경하기"
   ]
  },
  {
   "cell_type": "code",
   "execution_count": 22,
   "id": "8e89d18a",
   "metadata": {},
   "outputs": [
    {
     "name": "stdout",
     "output_type": "stream",
     "text": [
      "[[[ 0  1  2  3]\n",
      "  [ 4  5  6  7]\n",
      "  [ 8  9 10 -1]]\n",
      "\n",
      " [[-1 -1 -1 -1]\n",
      "  [-1 -1 -1 -1]\n",
      "  [-1 -1 -1 -1]]]\n"
     ]
    }
   ],
   "source": [
    "c[c>10] = -1\n",
    "print(c)"
   ]
  },
  {
   "cell_type": "markdown",
   "id": "b81f2d0f",
   "metadata": {},
   "source": [
    "<b>fancy indexing</b>\n",
    "- reshape(n, -1) : -1 부분은 알아서 채우는 것"
   ]
  },
  {
   "cell_type": "code",
   "execution_count": 23,
   "id": "62e8b374",
   "metadata": {},
   "outputs": [
    {
     "name": "stdout",
     "output_type": "stream",
     "text": [
      "[[0]\n",
      " [1]\n",
      " [2]\n",
      " [3]\n",
      " [4]\n",
      " [5]\n",
      " [6]\n",
      " [7]] (8, 1)\n"
     ]
    }
   ],
   "source": [
    "d = np.arange(8).reshape(8,-1)\n",
    "print(d, d.shape)"
   ]
  },
  {
   "cell_type": "markdown",
   "id": "c148f6f6",
   "metadata": {},
   "source": [
    "- hstack : 옆으로 붙이기\n",
    "- vstack : 밑으로 붙이기"
   ]
  },
  {
   "cell_type": "code",
   "execution_count": 24,
   "id": "af1f0b19",
   "metadata": {},
   "outputs": [
    {
     "name": "stdout",
     "output_type": "stream",
     "text": [
      "[[0 0 0 0]\n",
      " [1 1 1 1]\n",
      " [2 2 2 2]\n",
      " [3 3 3 3]\n",
      " [4 4 4 4]\n",
      " [5 5 5 5]\n",
      " [6 6 6 6]\n",
      " [7 7 7 7]] (8, 4)\n"
     ]
    }
   ],
   "source": [
    "d = np.hstack((d, d, d, d))\n",
    "print(d, d.shape)"
   ]
  },
  {
   "cell_type": "markdown",
   "id": "14fda1a1",
   "metadata": {},
   "source": [
    "3,5,1,0 번째 행렬만 가져오기"
   ]
  },
  {
   "cell_type": "code",
   "execution_count": 25,
   "id": "b00d71a0",
   "metadata": {},
   "outputs": [
    {
     "name": "stdout",
     "output_type": "stream",
     "text": [
      "[[3 3 3 3]\n",
      " [5 5 5 5]\n",
      " [1 1 1 1]\n",
      " [0 0 0 0]]\n"
     ]
    }
   ],
   "source": [
    "print(d[[3,5,1,0]])"
   ]
  },
  {
   "cell_type": "code",
   "execution_count": 26,
   "id": "39a07078",
   "metadata": {},
   "outputs": [
    {
     "name": "stdout",
     "output_type": "stream",
     "text": [
      "[[5 5 5 5]\n",
      " [3 3 3 3]\n",
      " [1 1 1 1]]\n"
     ]
    }
   ],
   "source": [
    "print(d[[-3,-5,-7]])"
   ]
  },
  {
   "cell_type": "code",
   "execution_count": 27,
   "id": "7f2e7223",
   "metadata": {},
   "outputs": [
    {
     "name": "stdout",
     "output_type": "stream",
     "text": [
      "[[ 0  1  2  3]\n",
      " [ 4  5  6  7]\n",
      " [ 8  9 10 11]\n",
      " [12 13 14 15]\n",
      " [16 17 18 19]\n",
      " [20 21 22 23]\n",
      " [24 25 26 27]\n",
      " [28 29 30 31]] (8, 4)\n"
     ]
    }
   ],
   "source": [
    "e = np.arange(32).reshape(8,4)\n",
    "print(e, e.shape)"
   ]
  },
  {
   "cell_type": "markdown",
   "id": "d785389c",
   "metadata": {},
   "source": [
    "(1,0), (5,3), (7,1), (2,2) 값 가져오기"
   ]
  },
  {
   "cell_type": "code",
   "execution_count": 29,
   "id": "a9ba327b",
   "metadata": {},
   "outputs": [
    {
     "name": "stdout",
     "output_type": "stream",
     "text": [
      "[ 4 23 29 10]\n"
     ]
    }
   ],
   "source": [
    "print(e[[1,5,7,2], [0,3,1,2]])"
   ]
  },
  {
   "cell_type": "markdown",
   "id": "e85c76a9",
   "metadata": {},
   "source": [
    "1행에서 0,3,1,2 열 순서로, 5행에서 0,3,1,2 열 순서로, 7행에서 0,3,1,2 열 순서로, 2행에서 0,3,1,2 열 순서로 가져오기"
   ]
  },
  {
   "cell_type": "code",
   "execution_count": 30,
   "id": "0f9d0110",
   "metadata": {},
   "outputs": [
    {
     "name": "stdout",
     "output_type": "stream",
     "text": [
      "[[ 4  7  5  6]\n",
      " [20 23 21 22]\n",
      " [28 31 29 30]\n",
      " [ 8 11  9 10]]\n"
     ]
    }
   ],
   "source": [
    "print(e[[1,5,7,2]][:,[0,3,1,2]])"
   ]
  },
  {
   "cell_type": "markdown",
   "id": "261f710c",
   "metadata": {},
   "source": [
    "## 1.3 Transpose\n",
    "\n",
    "<b>차원 변경이 필요할 때 유용하게 사용</b>\n",
    "- tensorflow와 pytorch가 이미지를 표현할 때 순서가 다름\n",
    "- tensorflow는 1번째 차원이 세로길이, 2번째 차원이 가로길이, 3번째 차원이 채널(rgb)\n",
    "- pytorch는 1번째 채원이 채널(rgb), 2번째 차원이 세로길이, 3번째 차원이 가로길이"
   ]
  },
  {
   "cell_type": "code",
   "execution_count": 32,
   "id": "2d1b8425",
   "metadata": {},
   "outputs": [
    {
     "name": "stdout",
     "output_type": "stream",
     "text": [
      "[[[ 0  1  2  3]\n",
      "  [ 4  5  6  7]]\n",
      "\n",
      " [[ 8  9 10 11]\n",
      "  [12 13 14 15]]] (2, 2, 4)\n"
     ]
    }
   ],
   "source": [
    "f = np.arange(16).reshape(2,2,4)\n",
    "print(f, f.shape)"
   ]
  },
  {
   "cell_type": "markdown",
   "id": "2cfd35a3",
   "metadata": {},
   "source": [
    "0번축과 1번축 바꾸기 방법1"
   ]
  },
  {
   "cell_type": "code",
   "execution_count": 33,
   "id": "feca1319",
   "metadata": {},
   "outputs": [
    {
     "name": "stdout",
     "output_type": "stream",
     "text": [
      "[[[ 0  1  2  3]\n",
      "  [ 8  9 10 11]]\n",
      "\n",
      " [[ 4  5  6  7]\n",
      "  [12 13 14 15]]]\n"
     ]
    }
   ],
   "source": [
    "print(f.transpose(1,0,2))"
   ]
  },
  {
   "cell_type": "markdown",
   "id": "ba8b8c94",
   "metadata": {},
   "source": [
    "0번축과 1번축 바꾸기 방법2"
   ]
  },
  {
   "cell_type": "code",
   "execution_count": 34,
   "id": "a88ca212",
   "metadata": {},
   "outputs": [
    {
     "name": "stdout",
     "output_type": "stream",
     "text": [
      "[[[ 0  1  2  3]\n",
      "  [ 8  9 10 11]]\n",
      "\n",
      " [[ 4  5  6  7]\n",
      "  [12 13 14 15]]]\n"
     ]
    }
   ],
   "source": [
    "print(f.swapaxes(0,1))"
   ]
  },
  {
   "cell_type": "markdown",
   "id": "2400ef90",
   "metadata": {},
   "source": [
    "## 1.4 Numpy 연산"
   ]
  },
  {
   "cell_type": "code",
   "execution_count": 35,
   "id": "4b14822d",
   "metadata": {},
   "outputs": [
    {
     "name": "stdout",
     "output_type": "stream",
     "text": [
      "[[1. 2.]\n",
      " [3. 4.]]\n",
      "[[5. 6.]\n",
      " [7. 8.]]\n"
     ]
    }
   ],
   "source": [
    "x = np.array([[1,2],[3,4]], dtype=np.float64)\n",
    "y = np.array([[5,6],[7,8]], dtype=np.float64)\n",
    "print(x)\n",
    "print(y)"
   ]
  },
  {
   "cell_type": "code",
   "execution_count": 36,
   "id": "43d202f8",
   "metadata": {},
   "outputs": [
    {
     "name": "stdout",
     "output_type": "stream",
     "text": [
      "[[ 6.  8.]\n",
      " [10. 12.]]\n",
      "[[ 6.  8.]\n",
      " [10. 12.]]\n"
     ]
    }
   ],
   "source": [
    "print(x+y)\n",
    "print(np.add(x,y))"
   ]
  },
  {
   "cell_type": "code",
   "execution_count": 37,
   "id": "0752d1ac",
   "metadata": {},
   "outputs": [
    {
     "name": "stdout",
     "output_type": "stream",
     "text": [
      "[[-4. -4.]\n",
      " [-4. -4.]]\n",
      "[[-4. -4.]\n",
      " [-4. -4.]]\n"
     ]
    }
   ],
   "source": [
    "print(x-y)\n",
    "print(np.subtract(x,y))"
   ]
  },
  {
   "cell_type": "code",
   "execution_count": 38,
   "id": "3dba3384",
   "metadata": {},
   "outputs": [
    {
     "name": "stdout",
     "output_type": "stream",
     "text": [
      "[[ 5. 12.]\n",
      " [21. 32.]]\n",
      "[[ 5. 12.]\n",
      " [21. 32.]]\n"
     ]
    }
   ],
   "source": [
    "print(x*y)\n",
    "print(np.multiply(x,y))"
   ]
  },
  {
   "cell_type": "code",
   "execution_count": 39,
   "id": "61e09dfa",
   "metadata": {},
   "outputs": [
    {
     "name": "stdout",
     "output_type": "stream",
     "text": [
      "[[0.2        0.33333333]\n",
      " [0.42857143 0.5       ]]\n",
      "[[0.2        0.33333333]\n",
      " [0.42857143 0.5       ]]\n"
     ]
    }
   ],
   "source": [
    "print(x/y)\n",
    "print(np.divide(x,y))"
   ]
  },
  {
   "cell_type": "markdown",
   "id": "01567e65",
   "metadata": {},
   "source": [
    "★ matrix multiplication (행렬곱) : @"
   ]
  },
  {
   "cell_type": "code",
   "execution_count": 40,
   "id": "a671ef8b",
   "metadata": {},
   "outputs": [
    {
     "name": "stdout",
     "output_type": "stream",
     "text": [
      "[[19. 22.]\n",
      " [43. 50.]]\n",
      "[[19. 22.]\n",
      " [43. 50.]]\n"
     ]
    }
   ],
   "source": [
    "print(x @ y)\n",
    "print(np.matmul(x,y))"
   ]
  },
  {
   "cell_type": "code",
   "execution_count": 41,
   "id": "3995e5d9",
   "metadata": {},
   "outputs": [
    {
     "name": "stdout",
     "output_type": "stream",
     "text": [
      "[[ 1  2  3  4  5]\n",
      " [ 6  7  8  9 10]]\n"
     ]
    }
   ],
   "source": [
    "z = np.arange(1,11).reshape(2,5)\n",
    "print(z)"
   ]
  },
  {
   "cell_type": "code",
   "execution_count": 42,
   "id": "9000aaa5",
   "metadata": {},
   "outputs": [
    {
     "name": "stdout",
     "output_type": "stream",
     "text": [
      "55\n"
     ]
    }
   ],
   "source": [
    "print(np.sum(z))"
   ]
  },
  {
   "cell_type": "markdown",
   "id": "3c1adf2f",
   "metadata": {},
   "source": [
    "- 여기서 축(index)은 각 배열의 차원에 해당되는 index\n",
    "- axis=0에 대하여 sum을 하라는 것은 0번 축 혹은 차원이 없어지는 방향으로 원소들을 모두 더하라는 의미\n",
    "- sum1 = z[0,:]+z[1,:]\n",
    "- sum2 = z[:,0]+z[:,1]+z[:,2]+z[:,3]+z[:,4]"
   ]
  },
  {
   "cell_type": "code",
   "execution_count": 43,
   "id": "ef5c1156",
   "metadata": {},
   "outputs": [
    {
     "name": "stdout",
     "output_type": "stream",
     "text": [
      "[ 7  9 11 13 15] (5,)\n",
      "[15 40] (2,)\n",
      "[15 40] (2,)\n"
     ]
    }
   ],
   "source": [
    "sum1 = np.sum(z, axis=0)\n",
    "sum2 = np.sum(z, axis=1)\n",
    "sum3 = np.sum(z, axis=-1)  # -1 : 마지막축\n",
    "print(sum1, sum1.shape)\n",
    "print(sum2, sum2.shape)\n",
    "print(sum3, sum3.shape)"
   ]
  },
  {
   "cell_type": "code",
   "execution_count": 45,
   "id": "14c4affc",
   "metadata": {},
   "outputs": [
    {
     "data": {
      "text/plain": [
       "array([ 7,  9, 11, 13, 15])"
      ]
     },
     "execution_count": 45,
     "metadata": {},
     "output_type": "execute_result"
    }
   ],
   "source": [
    "z[0,:]+z[1,:]"
   ]
  },
  {
   "cell_type": "code",
   "execution_count": 46,
   "id": "52fba97f",
   "metadata": {},
   "outputs": [
    {
     "data": {
      "text/plain": [
       "array([15, 40])"
      ]
     },
     "execution_count": 46,
     "metadata": {},
     "output_type": "execute_result"
    }
   ],
   "source": [
    "z[:,0]+z[:,1]+z[:,2]+z[:,3]+z[:,4]"
   ]
  },
  {
   "cell_type": "markdown",
   "id": "9f79c3de",
   "metadata": {},
   "source": [
    "## 1.5 Broadcasting\n",
    "\n",
    "- numpy가 산술 연산을 수행할 때 다른 모양의 배열로 작업할 수 있게 해주는 강력한 메커니즘\n",
    "  - 이로 인해 에러는 안 나고 돌아는 가는데, 원하지 않는 결과 나올 수 있으니 매우 잘 사용해야 함 ★\n",
    "- 종종 더 작은 배열과 더 큰 배열이 있을 때 더 작은 배열을 여러 번 사용하여 더 큰 배열에서 어떤 연산을 수행하기를 원할 때가 있음\n",
    "  - i.e. 행렬의 각 행에 상수 벡터 추가하기\n",
    "    - z = x+y는 broadcasting으로 인해 실제는 x가 shape(4,3)이고 y가 (3,)인데, y가 (4,3)인 것처럼 작동\n",
    "    - 각 행은 y의 사본으로, 합계는 요소별로 수행됨\n",
    "- 두 개의 배열을 broadcasting하는 것은 다음 규칙을 따름\n",
    "  - 두 배열의 차원이 같지 않으면, 모양이 같은 길이가 될 때까지 배열의 낮은 차원 쪽에 1을 붙임\n",
    "  - 두 배열은 차원에서 크기가 같거나 배열 중 하나의 차원의 크기가 1인 경우 차원에서 호환 가능\n",
    "  - 배열은 모든 차원에서 호환되면 함께 broadcast 될 수 있음\n",
    "  - Broadcast 후 각 배열은 두 개의 입력 배열의 요소 모양 최대 개수와 동일한 모양을 가진 것처럼 동작\n",
    "  - 한 배열의 크기가 1이고 다른 배열의 크기가 1보다 큰 차원에서 첫 번째 배열은 마치 해당 차원을 따라 복사된 것처럼 작동\n",
    "- 실제 동작 방식\n",
    "  - A와 B 모양 확인 : 두 배열이 len(A.shape) == len(B.shape)인지 확인\n",
    "  - 같지 않은 경우 두 배열의 모양 길이가 같아질 때까지 적은 쪽의 shape 앞에 1 추가\n",
    "    - (5,3) → (1,5,3)\n",
    "  - shape이 1인 곳은 복사가 됨\n",
    "    - (5,3)+(3,) → 1추가 : (5,3)+(1,3) → 복사 : (5,3)+(5,3) → 결과 : (5,3)\n",
    "- 보편 함수 : Broadcasting을 지원하는 함수\n",
    "  - 보편함수 목록\n",
    "  - https://numpy.org/doc/stable/reference/ufuncs.html#available-ufuncs"
   ]
  },
  {
   "cell_type": "code",
   "execution_count": 47,
   "id": "acc5f5cc",
   "metadata": {},
   "outputs": [],
   "source": [
    "# numpy version\n",
    "x = np.array([[1,2,3],[4,5,6],[7,8,9],[10,11,12]])\n",
    "y = np.array([1,0,2])"
   ]
  },
  {
   "cell_type": "code",
   "execution_count": 49,
   "id": "7c0d42f9",
   "metadata": {},
   "outputs": [
    {
     "name": "stdout",
     "output_type": "stream",
     "text": [
      "[[ 1  2  3]\n",
      " [ 4  5  6]\n",
      " [ 7  8  9]\n",
      " [10 11 12]] (4, 3)\n",
      "[1 0 2] (3,)\n",
      "[[ 2  2  5]\n",
      " [ 5  5  8]\n",
      " [ 8  8 11]\n",
      " [11 11 14]] (4, 3)\n"
     ]
    }
   ],
   "source": [
    "print(x, x.shape)\n",
    "print(y, y.shape)\n",
    "\n",
    "# 두 개 차원이 달라서 계산이 안 되어야 하는데, 계산을 함\n",
    "z = x+y\n",
    "print(z, z.shape)"
   ]
  },
  {
   "cell_type": "code",
   "execution_count": 50,
   "id": "ebeb4bf9",
   "metadata": {},
   "outputs": [
    {
     "name": "stdout",
     "output_type": "stream",
     "text": [
      "[[1 2 3]] (1, 3)\n",
      "[[4 5]] (1, 2)\n"
     ]
    }
   ],
   "source": [
    "x = np.array([1,2,3]).reshape(1,3)\n",
    "y = np.array([4,5]).reshape(1,2)\n",
    "print(x, x.shape)\n",
    "print(y, y.shape)"
   ]
  },
  {
   "cell_type": "code",
   "execution_count": 51,
   "id": "689c805f",
   "metadata": {},
   "outputs": [
    {
     "ename": "ValueError",
     "evalue": "operands could not be broadcast together with shapes (1,3) (1,2) ",
     "output_type": "error",
     "traceback": [
      "\u001b[1;31m---------------------------------------------------------------------------\u001b[0m",
      "\u001b[1;31mValueError\u001b[0m                                Traceback (most recent call last)",
      "\u001b[1;32mC:\\Users\\Public\\Documents\\ESTsoft\\CreatorTemp/ipykernel_24060/1953914463.py\u001b[0m in \u001b[0;36m<module>\u001b[1;34m\u001b[0m\n\u001b[0;32m      1\u001b[0m \u001b[1;31m# broadcasting 조건에 맞지 않음 → Error\u001b[0m\u001b[1;33m\u001b[0m\u001b[1;33m\u001b[0m\u001b[1;33m\u001b[0m\u001b[0m\n\u001b[1;32m----> 2\u001b[1;33m \u001b[0mprint\u001b[0m\u001b[1;33m(\u001b[0m\u001b[0mx\u001b[0m\u001b[1;33m+\u001b[0m\u001b[0my\u001b[0m\u001b[1;33m)\u001b[0m\u001b[1;33m\u001b[0m\u001b[1;33m\u001b[0m\u001b[0m\n\u001b[0m",
      "\u001b[1;31mValueError\u001b[0m: operands could not be broadcast together with shapes (1,3) (1,2) "
     ]
    }
   ],
   "source": [
    "# broadcasting 조건에 맞지 않음 → Error\n",
    "print(x+y)"
   ]
  },
  {
   "cell_type": "code",
   "execution_count": 52,
   "id": "d01af2c2",
   "metadata": {},
   "outputs": [
    {
     "name": "stdout",
     "output_type": "stream",
     "text": [
      "[[4]\n",
      " [5]] (2, 1)\n"
     ]
    }
   ],
   "source": [
    "# y shape 변경 : (1,2) → (2,1)\n",
    "y = y.swapaxes(0,1)\n",
    "print(y, y.shape)"
   ]
  },
  {
   "cell_type": "code",
   "execution_count": 53,
   "id": "5cd276fa",
   "metadata": {},
   "outputs": [
    {
     "name": "stdout",
     "output_type": "stream",
     "text": [
      "[[5 6 7]\n",
      " [6 7 8]]\n"
     ]
    }
   ],
   "source": [
    "# broadcasting 발생\n",
    "print(x+y)"
   ]
  },
  {
   "cell_type": "markdown",
   "id": "704f3fcc",
   "metadata": {},
   "source": [
    "## 1.6 shape 변경"
   ]
  },
  {
   "cell_type": "code",
   "execution_count": 55,
   "id": "992e220d",
   "metadata": {},
   "outputs": [
    {
     "name": "stdout",
     "output_type": "stream",
     "text": [
      "[[[ 0  1  2  3]\n",
      "  [ 4  5  6  7]\n",
      "  [ 8  9 10 11]]\n",
      "\n",
      " [[12 13 14 15]\n",
      "  [16 17 18 19]\n",
      "  [20 21 22 23]]] (2, 3, 4)\n"
     ]
    }
   ],
   "source": [
    "a = np.arange(24).reshape(2,3,4)\n",
    "print(a, a.shape)"
   ]
  },
  {
   "cell_type": "code",
   "execution_count": 56,
   "id": "0ce9e258",
   "metadata": {},
   "outputs": [
    {
     "name": "stdout",
     "output_type": "stream",
     "text": [
      "[[ 0  1  2  3  4  5]\n",
      " [ 6  7  8  9 10 11]\n",
      " [12 13 14 15 16 17]\n",
      " [18 19 20 21 22 23]] (4, 6)\n"
     ]
    }
   ],
   "source": [
    "a = a.reshape(4,-1)\n",
    "print(a, a.shape)"
   ]
  },
  {
   "cell_type": "markdown",
   "id": "9cd0e5dd",
   "metadata": {},
   "source": [
    "★ newaxis : 현재 a 차원에서 차원을 하나 더 추가하는 것"
   ]
  },
  {
   "cell_type": "code",
   "execution_count": 57,
   "id": "b8da6d0b",
   "metadata": {},
   "outputs": [
    {
     "name": "stdout",
     "output_type": "stream",
     "text": [
      "[[[ 0]\n",
      "  [ 1]\n",
      "  [ 2]\n",
      "  [ 3]\n",
      "  [ 4]\n",
      "  [ 5]]\n",
      "\n",
      " [[ 6]\n",
      "  [ 7]\n",
      "  [ 8]\n",
      "  [ 9]\n",
      "  [10]\n",
      "  [11]]\n",
      "\n",
      " [[12]\n",
      "  [13]\n",
      "  [14]\n",
      "  [15]\n",
      "  [16]\n",
      "  [17]]\n",
      "\n",
      " [[18]\n",
      "  [19]\n",
      "  [20]\n",
      "  [21]\n",
      "  [22]\n",
      "  [23]]] (4, 6, 1)\n"
     ]
    }
   ],
   "source": [
    "a = a[..., np.newaxis]\n",
    "print(a, a.shape)"
   ]
  },
  {
   "cell_type": "markdown",
   "id": "ff44356c",
   "metadata": {},
   "source": [
    "★ expand_dims : 차원 추가\n",
    "- 원래 a : (4,6)\n",
    "- axis=0 : 0번 자리에 1차원 추가 = 맨 앞에 차원을 추가하겠다 (1,4,6)\n",
    "- axis=1 : 1번 자리에 1차원 추가 = (4,1,6)\n",
    "- axis=-1 : 마지막 자리에 1차원 추가 = a[..., np.newaxis]와 같은 결과 (4,6,1)"
   ]
  },
  {
   "cell_type": "code",
   "execution_count": 69,
   "id": "738b0e91",
   "metadata": {},
   "outputs": [
    {
     "name": "stdout",
     "output_type": "stream",
     "text": [
      "[[[ 0  1  2  3  4  5]\n",
      "  [ 6  7  8  9 10 11]\n",
      "  [12 13 14 15 16 17]\n",
      "  [18 19 20 21 22 23]]] (1, 4, 6)\n"
     ]
    }
   ],
   "source": [
    "a = a.reshape(4,6)\n",
    "a = np.expand_dims(a, axis=0)\n",
    "print(a, a.shape)"
   ]
  },
  {
   "cell_type": "code",
   "execution_count": 70,
   "id": "d9b17a38",
   "metadata": {},
   "outputs": [
    {
     "name": "stdout",
     "output_type": "stream",
     "text": [
      "[[[ 0  1  2  3  4  5]\n",
      "  [ 6  7  8  9 10 11]\n",
      "  [12 13 14 15 16 17]\n",
      "  [18 19 20 21 22 23]]] (1, 4, 6)\n"
     ]
    }
   ],
   "source": [
    "b = a.copy()\n",
    "print(b, b.shape)"
   ]
  },
  {
   "cell_type": "code",
   "execution_count": 71,
   "id": "887e01ec",
   "metadata": {},
   "outputs": [
    {
     "name": "stdout",
     "output_type": "stream",
     "text": [
      "[[[ 0  1  2  3  4  5  0  1  2  3  4  5]\n",
      "  [ 6  7  8  9 10 11  6  7  8  9 10 11]\n",
      "  [12 13 14 15 16 17 12 13 14 15 16 17]\n",
      "  [18 19 20 21 22 23 18 19 20 21 22 23]]] (1, 4, 12)\n"
     ]
    }
   ],
   "source": [
    "c = np.concatenate((a,b), axis=-1)\n",
    "print(c, c.shape)"
   ]
  },
  {
   "cell_type": "code",
   "execution_count": 72,
   "id": "7ae38ad7",
   "metadata": {},
   "outputs": [
    {
     "name": "stdout",
     "output_type": "stream",
     "text": [
      "[[[ 0  1  2  3  4  5]\n",
      "  [ 6  7  8  9 10 11]\n",
      "  [12 13 14 15 16 17]\n",
      "  [18 19 20 21 22 23]]\n",
      "\n",
      " [[ 0  1  2  3  4  5]\n",
      "  [ 6  7  8  9 10 11]\n",
      "  [12 13 14 15 16 17]\n",
      "  [18 19 20 21 22 23]]] (2, 4, 6)\n"
     ]
    }
   ],
   "source": [
    "c = np.concatenate((a,b), axis=0)\n",
    "print(c, c.shape)"
   ]
  },
  {
   "cell_type": "markdown",
   "id": "857ba824",
   "metadata": {},
   "source": [
    "<b>★ stack과 concatenate 차이<b>\n",
    "- concatenate : 차원을 그대로 유지하면서 더함\n",
    "- stack : 차원을 하나 새로 만들어서 붙임"
   ]
  },
  {
   "cell_type": "code",
   "execution_count": 74,
   "id": "ac1e95c7",
   "metadata": {},
   "outputs": [
    {
     "name": "stdout",
     "output_type": "stream",
     "text": [
      "[[[[ 0  0]\n",
      "   [ 1  1]\n",
      "   [ 2  2]\n",
      "   [ 3  3]\n",
      "   [ 4  4]\n",
      "   [ 5  5]]\n",
      "\n",
      "  [[ 6  6]\n",
      "   [ 7  7]\n",
      "   [ 8  8]\n",
      "   [ 9  9]\n",
      "   [10 10]\n",
      "   [11 11]]\n",
      "\n",
      "  [[12 12]\n",
      "   [13 13]\n",
      "   [14 14]\n",
      "   [15 15]\n",
      "   [16 16]\n",
      "   [17 17]]\n",
      "\n",
      "  [[18 18]\n",
      "   [19 19]\n",
      "   [20 20]\n",
      "   [21 21]\n",
      "   [22 22]\n",
      "   [23 23]]]] (1, 4, 6, 2)\n"
     ]
    }
   ],
   "source": [
    "d = np.stack((a,b), axis=-1)\n",
    "print(d, d.shape)"
   ]
  },
  {
   "cell_type": "code",
   "execution_count": 75,
   "id": "f806d9c4",
   "metadata": {},
   "outputs": [
    {
     "name": "stdout",
     "output_type": "stream",
     "text": [
      "[[[[ 0  1  2  3  4  5]\n",
      "   [ 6  7  8  9 10 11]\n",
      "   [12 13 14 15 16 17]\n",
      "   [18 19 20 21 22 23]]]\n",
      "\n",
      "\n",
      " [[[ 0  1  2  3  4  5]\n",
      "   [ 6  7  8  9 10 11]\n",
      "   [12 13 14 15 16 17]\n",
      "   [18 19 20 21 22 23]]]] (2, 1, 4, 6)\n"
     ]
    }
   ],
   "source": [
    "d = np.stack((a,b), axis=0)\n",
    "print(d, d.shape)"
   ]
  },
  {
   "cell_type": "markdown",
   "id": "4327f945",
   "metadata": {},
   "source": [
    "# 2. Data 시각화 : Matplotlib\n",
    "\n",
    "- Python에서 가장 많이 사용하는 시각화 library\n",
    "- 2D 그래프를 위한 패키지\n",
    "- matlab과 유사한 interface를 지원하기 위해 시작됨\n",
    "- IPython과 협력으로 대화형 시각화 지원"
   ]
  },
  {
   "cell_type": "code",
   "execution_count": 4,
   "id": "8126beef",
   "metadata": {},
   "outputs": [],
   "source": [
    "import matplotlib.pyplot as plt\n",
    "import numpy as np"
   ]
  },
  {
   "cell_type": "code",
   "execution_count": 77,
   "id": "4f680d04",
   "metadata": {},
   "outputs": [
    {
     "data": {
      "image/png": "[encoded data removed]",
      "text/plain": [
       "<Figure size 432x288 with 1 Axes>"
      ]
     },
     "metadata": {
      "needs_background": "light"
     },
     "output_type": "display_data"
    }
   ],
   "source": [
    "data = np.arange(10)\n",
    "plt.plot(data)\n",
    "plt.show()"
   ]
  },
  {
   "cell_type": "markdown",
   "id": "c2c062b3",
   "metadata": {},
   "source": [
    "## 2.1 figure와 subplot\n",
    "\n",
    "matplotlib에서 그래프는 figure라는 큰 틀에 ax라는 subplot을 추가해서 만듦"
   ]
  },
  {
   "cell_type": "code",
   "execution_count": 82,
   "id": "e854ca8f",
   "metadata": {},
   "outputs": [
    {
     "data": {
      "text/plain": [
       "<Figure size 432x288 with 0 Axes>"
      ]
     },
     "metadata": {},
     "output_type": "display_data"
    }
   ],
   "source": [
    "# figure instance 생성\n",
    "# 그림이 보이지는 않음 → 그림 보려면 subplot 생성 필요\n",
    "fig = plt.figure()\n",
    "plt.show()"
   ]
  },
  {
   "cell_type": "code",
   "execution_count": 80,
   "id": "02943665",
   "metadata": {},
   "outputs": [
    {
     "data": {
      "image/png": "[encoded data removed]",
      "text/plain": [
       "<Figure size 432x288 with 1 Axes>"
      ]
     },
     "metadata": {
      "needs_background": "light"
     },
     "output_type": "display_data"
    }
   ],
   "source": [
    "# 빈 subplot 생성\n",
    "fig = plt.figure()\n",
    "ax = fig.add_subplot()\n",
    "plt.show()"
   ]
  },
  {
   "cell_type": "code",
   "execution_count": 83,
   "id": "b92fe618",
   "metadata": {},
   "outputs": [
    {
     "data": {
      "image/png": "[encoded data removed]",
      "text/plain": [
       "<Figure size 720x360 with 1 Axes>"
      ]
     },
     "metadata": {
      "needs_background": "light"
     },
     "output_type": "display_data"
    }
   ],
   "source": [
    "# figure size 조정하기\n",
    "fig = plt.figure(figsize=(10,5))\n",
    "ax = fig.add_subplot()\n",
    "plt.show()"
   ]
  },
  {
   "cell_type": "code",
   "execution_count": 84,
   "id": "58e4b57f",
   "metadata": {},
   "outputs": [
    {
     "data": {
      "image/png": "[encoded data removed]",
      "text/plain": [
       "<Figure size 432x288 with 3 Axes>"
      ]
     },
     "metadata": {
      "needs_background": "light"
     },
     "output_type": "display_data"
    }
   ],
   "source": [
    "# 여러 개 subplot 생성\n",
    "# index : 0이 아닌 1부터 시작\n",
    "fig = plt.figure()\n",
    "ax1 = fig.add_subplot(2,2,1)\n",
    "ax2 = fig.add_subplot(2,2,2)\n",
    "ax3 = fig.add_subplot(2,2,3)\n",
    "plt.show()"
   ]
  },
  {
   "cell_type": "code",
   "execution_count": 85,
   "id": "b30eb04e",
   "metadata": {},
   "outputs": [
    {
     "data": {
      "image/png": "[encoded data removed]",
      "text/plain": [
       "<Figure size 432x288 with 3 Axes>"
      ]
     },
     "metadata": {
      "needs_background": "light"
     },
     "output_type": "display_data"
    }
   ],
   "source": [
    "fig = plt.figure()\n",
    "ax1 = fig.add_subplot(221)\n",
    "ax1 = fig.add_subplot(222)\n",
    "ax1 = fig.add_subplot(223)\n",
    "plt.show()"
   ]
  },
  {
   "cell_type": "markdown",
   "id": "187a1c82",
   "metadata": {},
   "source": [
    "## 2.2 plt로 graph 그리기"
   ]
  },
  {
   "cell_type": "code",
   "execution_count": 86,
   "id": "586619fc",
   "metadata": {},
   "outputs": [
    {
     "data": {
      "image/png": "[encoded data removed]",
      "text/plain": [
       "<Figure size 432x288 with 1 Axes>"
      ]
     },
     "metadata": {
      "needs_background": "light"
     },
     "output_type": "display_data"
    }
   ],
   "source": [
    "fig = plt.figure()\n",
    "ax = fig.add_subplot()\n",
    "\n",
    "data = np.array([1,2,3])\n",
    "\n",
    "plt.plot(data)\n",
    "plt.show()"
   ]
  },
  {
   "cell_type": "markdown",
   "id": "637c2268",
   "metadata": {},
   "source": [
    "방법1"
   ]
  },
  {
   "cell_type": "code",
   "execution_count": 88,
   "id": "42f46f20",
   "metadata": {},
   "outputs": [
    {
     "data": {
      "image/png": "[encoded data removed]",
      "text/plain": [
       "<Figure size 432x288 with 2 Axes>"
      ]
     },
     "metadata": {
      "needs_background": "light"
     },
     "output_type": "display_data"
    }
   ],
   "source": [
    "# 2개의 graph를 순차적으로 그리기\n",
    "fig = plt.figure()\n",
    "\n",
    "x = [1,2,3]\n",
    "y1 = [1,2,3]\n",
    "y2 = [3,2,1]\n",
    "\n",
    "ax1 = fig.add_subplot(211)\n",
    "plt.plot(x,y1)\n",
    "\n",
    "ax2 = fig.add_subplot(212)\n",
    "plt.plot(x,y2)\n",
    "\n",
    "plt.show()"
   ]
  },
  {
   "cell_type": "markdown",
   "id": "e4d74cab",
   "metadata": {},
   "source": [
    "방법2"
   ]
  },
  {
   "cell_type": "code",
   "execution_count": 90,
   "id": "8de4c7b7",
   "metadata": {},
   "outputs": [
    {
     "data": {
      "image/png": "[encoded data removed]",
      "text/plain": [
       "<Figure size 432x288 with 2 Axes>"
      ]
     },
     "metadata": {
      "needs_background": "light"
     },
     "output_type": "display_data"
    }
   ],
   "source": [
    "# 같은 graph를 subplot 객체 ax에 그리기\n",
    "fig = plt.figure()\n",
    "\n",
    "x = [1,2,3]\n",
    "y1 = [1,2,3]\n",
    "y2 = [3,2,1]\n",
    "\n",
    "ax1 = fig.add_subplot(211)\n",
    "ax2 = fig.add_subplot(212)\n",
    "\n",
    "ax1.plot(x,y1)\n",
    "ax2.plot(x,y2)\n",
    "\n",
    "plt.show()"
   ]
  },
  {
   "cell_type": "markdown",
   "id": "1ee8c18d",
   "metadata": {},
   "source": [
    "## 2.3 Plot 종류별 사용법"
   ]
  },
  {
   "cell_type": "markdown",
   "id": "d41ebd79",
   "metadata": {},
   "source": [
    "### 2.3.1 bar plot\n",
    "\n",
    "- document 확인 방법 : plt.bar?\n",
    "- ax.bar와 같이 사용\n",
    "  - ax.bar() 쓰고 () 안에서 tab 누르면 사용 가능한 여러 인자 확인 가능\n",
    "- x : x축에 사용될 값\n",
    "- height : y축에 사용될 값\n",
    "- width : 각 bar의 width\n",
    "- bottom : y축의 base 값\n",
    "- align : 정렬(center or edge)"
   ]
  },
  {
   "cell_type": "code",
   "execution_count": 91,
   "id": "4a9370b5",
   "metadata": {},
   "outputs": [
    {
     "data": {
      "image/png": "[encoded data removed]",
      "text/plain": [
       "<Figure size 432x288 with 1 Axes>"
      ]
     },
     "metadata": {
      "needs_background": "light"
     },
     "output_type": "display_data"
    }
   ],
   "source": [
    "# bar plot\n",
    "fig = plt.figure()\n",
    "ax = fig.add_subplot()\n",
    "ax.bar([0,1,2,3,4],[3,2,5,4,6])\n",
    "plt.show()"
   ]
  },
  {
   "cell_type": "code",
   "execution_count": 92,
   "id": "835c6a8c",
   "metadata": {},
   "outputs": [
    {
     "data": {
      "image/png": "[encoded data removed]",
      "text/plain": [
       "<Figure size 432x288 with 1 Axes>"
      ]
     },
     "metadata": {
      "needs_background": "light"
     },
     "output_type": "display_data"
    }
   ],
   "source": [
    "# width 조정\n",
    "fig = plt.figure()\n",
    "ax = fig.add_subplot()\n",
    "ax.bar([0,1,2,3,4],[3,2,5,4,6], width=0.5)\n",
    "plt.show()"
   ]
  },
  {
   "cell_type": "code",
   "execution_count": 93,
   "id": "e3f86eaf",
   "metadata": {},
   "outputs": [
    {
     "data": {
      "image/png": "[encoded data removed]",
      "text/plain": [
       "<Figure size 432x288 with 1 Axes>"
      ]
     },
     "metadata": {
      "needs_background": "light"
     },
     "output_type": "display_data"
    }
   ],
   "source": [
    "# bottom 조정\n",
    "fig = plt.figure()\n",
    "ax = fig.add_subplot()\n",
    "ax.bar([0,1,2,3,4],[3,2,5,4,6], bottom=2)\n",
    "plt.show()"
   ]
  },
  {
   "cell_type": "code",
   "execution_count": 94,
   "id": "dbb736a8",
   "metadata": {},
   "outputs": [
    {
     "data": {
      "image/png": "[encoded data removed]",
      "text/plain": [
       "<Figure size 432x288 with 1 Axes>"
      ]
     },
     "metadata": {
      "needs_background": "light"
     },
     "output_type": "display_data"
    }
   ],
   "source": [
    "# align 조정 (default : center)\n",
    "fig = plt.figure()\n",
    "ax = fig.add_subplot()\n",
    "ax.bar([0,1,2,3,4],[3,2,5,4,6], align='edge')\n",
    "plt.show()"
   ]
  },
  {
   "cell_type": "markdown",
   "id": "2f580b47",
   "metadata": {},
   "source": [
    "### 2.3.2 histogram plot\n",
    "\n",
    "- data의 분포를 나타낼 때 사용\n",
    "- x : 입력 data\n",
    "- bins : histogram을 나타낼 x축의 구간(정수 입력 시 구간의 개수, list와 같은 sequence 입력 시 sequence 값이 구간으로 설정됨)\n",
    "- range : x축 범위(x.min, x.max)로 표현\n",
    "- density : 확률 분포로 나타낼 것인지 여부"
   ]
  },
  {
   "cell_type": "code",
   "execution_count": 95,
   "id": "92f6bdac",
   "metadata": {},
   "outputs": [
    {
     "data": {
      "image/png": "[encoded data removed]",
      "text/plain": [
       "<Figure size 432x288 with 1 Axes>"
      ]
     },
     "metadata": {
      "needs_background": "light"
     },
     "output_type": "display_data"
    }
   ],
   "source": [
    "# histogram\n",
    "np.random.seed(1111)\n",
    "\n",
    "fig = plt.figure()\n",
    "ax = fig.add_subplot()\n",
    "ax.hist(np.random.randn(500))\n",
    "plt.show()"
   ]
  },
  {
   "cell_type": "code",
   "execution_count": 96,
   "id": "1c68dea4",
   "metadata": {},
   "outputs": [
    {
     "data": {
      "image/png": "[encoded data removed]",
      "text/plain": [
       "<Figure size 432x288 with 1 Axes>"
      ]
     },
     "metadata": {
      "needs_background": "light"
     },
     "output_type": "display_data"
    }
   ],
   "source": [
    "# bins 개수 늘리기\n",
    "np.random.seed(1111)\n",
    "\n",
    "fig = plt.figure()\n",
    "ax = fig.add_subplot()\n",
    "ax.hist(np.random.randn(500), bins=50)\n",
    "plt.show()"
   ]
  },
  {
   "cell_type": "code",
   "execution_count": 103,
   "id": "4d1fa325",
   "metadata": {},
   "outputs": [
    {
     "data": {
      "image/png": "[encoded data removed]",
      "text/plain": [
       "<Figure size 432x288 with 1 Axes>"
      ]
     },
     "metadata": {
      "needs_background": "light"
     },
     "output_type": "display_data"
    }
   ],
   "source": [
    "# bins : x축 값 정해주기\n",
    "np.random.seed(1111)\n",
    "\n",
    "fig = plt.figure()\n",
    "ax = fig.add_subplot()\n",
    "ax.hist(np.random.randn(500), [-3,-2,-1,0,1,2,3])\n",
    "#ax.hist(np.random.randn(500), np.linspace(-2,2,num=40))  # -2~2를 40개로 나눠서 표현하기\n",
    "plt.show()"
   ]
  },
  {
   "cell_type": "code",
   "execution_count": 99,
   "id": "8c9cdbb1",
   "metadata": {},
   "outputs": [
    {
     "data": {
      "image/png": "[encoded data removed]",
      "text/plain": [
       "<Figure size 432x288 with 1 Axes>"
      ]
     },
     "metadata": {
      "needs_background": "light"
     },
     "output_type": "display_data"
    }
   ],
   "source": [
    "# range 정하기\n",
    "np.random.seed(1111)\n",
    "\n",
    "fig = plt.figure()\n",
    "ax = fig.add_subplot()\n",
    "ax.hist(np.random.randn(500), bins=40, range=(-2,2))\n",
    "plt.show()"
   ]
  },
  {
   "cell_type": "code",
   "execution_count": 101,
   "id": "2e4b9c14",
   "metadata": {},
   "outputs": [
    {
     "data": {
      "image/png": "[encoded data removed]",
      "text/plain": [
       "<Figure size 432x288 with 1 Axes>"
      ]
     },
     "metadata": {
      "needs_background": "light"
     },
     "output_type": "display_data"
    }
   ],
   "source": [
    "# density\n",
    "# 원래 그래프의 y축 값은 빈도 개수인데 확률분포로 변경\n",
    "# → 면적 = 1\n",
    "np.random.seed(1111)\n",
    "\n",
    "fig = plt.figure()\n",
    "ax = fig.add_subplot()\n",
    "ax.hist(np.random.randn(500), bins=40, range=(-2,2), density=True)\n",
    "plt.show()"
   ]
  },
  {
   "cell_type": "markdown",
   "id": "c359c458",
   "metadata": {},
   "source": [
    "### 2.3.3 line plot\n",
    "\n",
    "- x, y data의 관계를 선으로 표시\n",
    "- fmt : 색상, 마커, 선 스타일 등 설정\n",
    "  - https://matplotlib.org/stable/gallery/color/named_colors.html\n",
    "  - https://matplotlib.org/stable/api/markers_api.html\n",
    "  - https://matplotlib.org/stable/gallery/lines_bars_and_markers/linestyles.html"
   ]
  },
  {
   "cell_type": "markdown",
   "id": "a57ddbe2",
   "metadata": {},
   "source": [
    "주식 데이터"
   ]
  },
  {
   "cell_type": "code",
   "execution_count": 104,
   "id": "eec18912",
   "metadata": {},
   "outputs": [
    {
     "name": "stderr",
     "output_type": "stream",
     "text": [
      "WARNING: Ignoring invalid distribution -onlpy (c:\\users\\user\\anaconda3\\lib\\site-packages)\n",
      "WARNING: Ignoring invalid distribution -onlpy (c:\\users\\user\\anaconda3\\lib\\site-packages)\n",
      "WARNING: Ignoring invalid distribution -onlpy (c:\\users\\user\\anaconda3\\lib\\site-packages)\n",
      "WARNING: Ignoring invalid distribution -onlpy (c:\\users\\user\\anaconda3\\lib\\site-packages)\n",
      "WARNING: Ignoring invalid distribution -onlpy (c:\\users\\user\\anaconda3\\lib\\site-packages)\n",
      "WARNING: Ignoring invalid distribution -onlpy (c:\\users\\user\\anaconda3\\lib\\site-packages)\n",
      "WARNING: Ignoring invalid distribution -onlpy (c:\\users\\user\\anaconda3\\lib\\site-packages)\n"
     ]
    }
   ],
   "source": [
    "!pip install -U finance-datareader -q"
   ]
  },
  {
   "cell_type": "code",
   "execution_count": 105,
   "id": "dbad02bf",
   "metadata": {},
   "outputs": [],
   "source": [
    "import FinanceDataReader as fdr"
   ]
  },
  {
   "cell_type": "markdown",
   "id": "4e24a606",
   "metadata": {},
   "source": [
    "005930 : 삼성전자 ID"
   ]
  },
  {
   "cell_type": "code",
   "execution_count": 108,
   "id": "78b02167",
   "metadata": {},
   "outputs": [
    {
     "data": {
      "text/html": [
       "<div>\n",
       "<style scoped>\n",
       "    .dataframe tbody tr th:only-of-type {\n",
       "        vertical-align: middle;\n",
       "    }\n",
       "\n",
       "    .dataframe tbody tr th {\n",
       "        vertical-align: top;\n",
       "    }\n",
       "\n",
       "    .dataframe thead th {\n",
       "        text-align: right;\n",
       "    }\n",
       "</style>\n",
       "<table border=\"1\" class=\"dataframe\">\n",
       "  <thead>\n",
       "    <tr style=\"text-align: right;\">\n",
       "      <th></th>\n",
       "      <th>Open</th>\n",
       "      <th>High</th>\n",
       "      <th>Low</th>\n",
       "      <th>Close</th>\n",
       "      <th>Volume</th>\n",
       "      <th>Change</th>\n",
       "    </tr>\n",
       "    <tr>\n",
       "      <th>Date</th>\n",
       "      <th></th>\n",
       "      <th></th>\n",
       "      <th></th>\n",
       "      <th></th>\n",
       "      <th></th>\n",
       "      <th></th>\n",
       "    </tr>\n",
       "  </thead>\n",
       "  <tbody>\n",
       "    <tr>\n",
       "      <th>1998-03-02</th>\n",
       "      <td>1851</td>\n",
       "      <td>1906</td>\n",
       "      <td>1797</td>\n",
       "      <td>1834</td>\n",
       "      <td>570328</td>\n",
       "      <td>NaN</td>\n",
       "    </tr>\n",
       "    <tr>\n",
       "      <th>1998-03-03</th>\n",
       "      <td>1833</td>\n",
       "      <td>1879</td>\n",
       "      <td>1724</td>\n",
       "      <td>1779</td>\n",
       "      <td>433236</td>\n",
       "      <td>-0.029989</td>\n",
       "    </tr>\n",
       "    <tr>\n",
       "      <th>1998-03-04</th>\n",
       "      <td>1751</td>\n",
       "      <td>1779</td>\n",
       "      <td>1661</td>\n",
       "      <td>1741</td>\n",
       "      <td>352964</td>\n",
       "      <td>-0.021360</td>\n",
       "    </tr>\n",
       "    <tr>\n",
       "      <th>1998-03-05</th>\n",
       "      <td>1635</td>\n",
       "      <td>1688</td>\n",
       "      <td>1561</td>\n",
       "      <td>1587</td>\n",
       "      <td>417260</td>\n",
       "      <td>-0.088455</td>\n",
       "    </tr>\n",
       "    <tr>\n",
       "      <th>1998-03-06</th>\n",
       "      <td>1579</td>\n",
       "      <td>1633</td>\n",
       "      <td>1508</td>\n",
       "      <td>1578</td>\n",
       "      <td>553200</td>\n",
       "      <td>-0.005671</td>\n",
       "    </tr>\n",
       "  </tbody>\n",
       "</table>\n",
       "</div>"
      ],
      "text/plain": [
       "            Open  High   Low  Close  Volume    Change\n",
       "Date                                                 \n",
       "1998-03-02  1851  1906  1797   1834  570328       NaN\n",
       "1998-03-03  1833  1879  1724   1779  433236 -0.029989\n",
       "1998-03-04  1751  1779  1661   1741  352964 -0.021360\n",
       "1998-03-05  1635  1688  1561   1587  417260 -0.088455\n",
       "1998-03-06  1579  1633  1508   1578  553200 -0.005671"
      ]
     },
     "execution_count": 108,
     "metadata": {},
     "output_type": "execute_result"
    }
   ],
   "source": [
    "df = fdr.DataReader('005930')\n",
    "df.head()"
   ]
  },
  {
   "cell_type": "code",
   "execution_count": 109,
   "id": "e8756d53",
   "metadata": {},
   "outputs": [
    {
     "data": {
      "image/png": "[encoded data removed]",
      "text/plain": [
       "<Figure size 1440x360 with 1 Axes>"
      ]
     },
     "metadata": {
      "needs_background": "light"
     },
     "output_type": "display_data"
    }
   ],
   "source": [
    "fig = plt.figure(figsize=(20,5))\n",
    "ax = fig.add_subplot()\n",
    "ax.plot(df['Close'][-200:])\n",
    "plt.show()"
   ]
  },
  {
   "cell_type": "code",
   "execution_count": 110,
   "id": "7feccd09",
   "metadata": {},
   "outputs": [
    {
     "data": {
      "image/png": "[encoded data removed]",
      "text/plain": [
       "<Figure size 1440x360 with 1 Axes>"
      ]
     },
     "metadata": {
      "needs_background": "light"
     },
     "output_type": "display_data"
    }
   ],
   "source": [
    "# format 변경\n",
    "# m : 색상\n",
    "# o : 동그라미 marker 표시\n",
    "# -- : dash line\n",
    "fig = plt.figure(figsize=(20,5))\n",
    "ax = fig.add_subplot()\n",
    "ax.plot(df['Close'][-200:], 'mo--')\n",
    "plt.show()"
   ]
  },
  {
   "cell_type": "markdown",
   "id": "7358bc90",
   "metadata": {},
   "source": [
    "### 2.3.4 scatter plot\n",
    "- line plot과 유사하게 x, y data의 관계를 점으로 표시\n",
    "- data 간 유사도와 같은 상관관계를 파악할 때 많이 사용\n",
    "- 붓꽃 데이터셋 (iris.csv) 사용해 보기\n",
    "  - https://www.kaggle.com/datasets/uciml/iris?resource=download"
   ]
  },
  {
   "cell_type": "code",
   "execution_count": 3,
   "id": "d9363a3a",
   "metadata": {},
   "outputs": [],
   "source": [
    "import pandas as pd"
   ]
  },
  {
   "cell_type": "code",
   "execution_count": 113,
   "id": "5289697f",
   "metadata": {},
   "outputs": [
    {
     "data": {
      "text/html": [
       "<div>\n",
       "<style scoped>\n",
       "    .dataframe tbody tr th:only-of-type {\n",
       "        vertical-align: middle;\n",
       "    }\n",
       "\n",
       "    .dataframe tbody tr th {\n",
       "        vertical-align: top;\n",
       "    }\n",
       "\n",
       "    .dataframe thead th {\n",
       "        text-align: right;\n",
       "    }\n",
       "</style>\n",
       "<table border=\"1\" class=\"dataframe\">\n",
       "  <thead>\n",
       "    <tr style=\"text-align: right;\">\n",
       "      <th></th>\n",
       "      <th>Id</th>\n",
       "      <th>SepalLengthCm</th>\n",
       "      <th>SepalWidthCm</th>\n",
       "      <th>PetalLengthCm</th>\n",
       "      <th>PetalWidthCm</th>\n",
       "      <th>Species</th>\n",
       "    </tr>\n",
       "  </thead>\n",
       "  <tbody>\n",
       "    <tr>\n",
       "      <th>0</th>\n",
       "      <td>1</td>\n",
       "      <td>5.1</td>\n",
       "      <td>3.5</td>\n",
       "      <td>1.4</td>\n",
       "      <td>0.2</td>\n",
       "      <td>Iris-setosa</td>\n",
       "    </tr>\n",
       "    <tr>\n",
       "      <th>1</th>\n",
       "      <td>2</td>\n",
       "      <td>4.9</td>\n",
       "      <td>3.0</td>\n",
       "      <td>1.4</td>\n",
       "      <td>0.2</td>\n",
       "      <td>Iris-setosa</td>\n",
       "    </tr>\n",
       "    <tr>\n",
       "      <th>2</th>\n",
       "      <td>3</td>\n",
       "      <td>4.7</td>\n",
       "      <td>3.2</td>\n",
       "      <td>1.3</td>\n",
       "      <td>0.2</td>\n",
       "      <td>Iris-setosa</td>\n",
       "    </tr>\n",
       "    <tr>\n",
       "      <th>3</th>\n",
       "      <td>4</td>\n",
       "      <td>4.6</td>\n",
       "      <td>3.1</td>\n",
       "      <td>1.5</td>\n",
       "      <td>0.2</td>\n",
       "      <td>Iris-setosa</td>\n",
       "    </tr>\n",
       "    <tr>\n",
       "      <th>4</th>\n",
       "      <td>5</td>\n",
       "      <td>5.0</td>\n",
       "      <td>3.6</td>\n",
       "      <td>1.4</td>\n",
       "      <td>0.2</td>\n",
       "      <td>Iris-setosa</td>\n",
       "    </tr>\n",
       "  </tbody>\n",
       "</table>\n",
       "</div>"
      ],
      "text/plain": [
       "   Id  SepalLengthCm  SepalWidthCm  PetalLengthCm  PetalWidthCm      Species\n",
       "0   1            5.1           3.5            1.4           0.2  Iris-setosa\n",
       "1   2            4.9           3.0            1.4           0.2  Iris-setosa\n",
       "2   3            4.7           3.2            1.3           0.2  Iris-setosa\n",
       "3   4            4.6           3.1            1.5           0.2  Iris-setosa\n",
       "4   5            5.0           3.6            1.4           0.2  Iris-setosa"
      ]
     },
     "execution_count": 113,
     "metadata": {},
     "output_type": "execute_result"
    }
   ],
   "source": [
    "iris_df = pd.read_csv('Iris.csv')\n",
    "iris_df.head()"
   ]
  },
  {
   "cell_type": "markdown",
   "id": "349e9886",
   "metadata": {},
   "source": [
    "양의 상관관계 확인"
   ]
  },
  {
   "cell_type": "code",
   "execution_count": 121,
   "id": "91d02941",
   "metadata": {},
   "outputs": [
    {
     "data": {
      "image/png": "[encoded data removed]",
      "text/plain": [
       "<Figure size 504x504 with 1 Axes>"
      ]
     },
     "metadata": {
      "needs_background": "light"
     },
     "output_type": "display_data"
    }
   ],
   "source": [
    "fig = plt.figure(figsize=(7,7))\n",
    "\n",
    "ax = fig.add_subplot()\n",
    "ax.scatter(x=iris_df['PetalLengthCm'],\n",
    "           y=iris_df['PetalWidthCm'])\n",
    "\n",
    "plt.show()"
   ]
  },
  {
   "cell_type": "markdown",
   "id": "0932c6ce",
   "metadata": {},
   "source": [
    "## 2.4 한 subplot에 여러 graph 그리기"
   ]
  },
  {
   "cell_type": "markdown",
   "id": "c22d46d9",
   "metadata": {},
   "source": [
    "### 2.4.1 3개 graph 동시에 그리기"
   ]
  },
  {
   "cell_type": "code",
   "execution_count": 115,
   "id": "2d439e64",
   "metadata": {},
   "outputs": [
    {
     "data": {
      "image/png": "[encoded data removed]",
      "text/plain": [
       "<Figure size 432x288 with 1 Axes>"
      ]
     },
     "metadata": {
      "needs_background": "light"
     },
     "output_type": "display_data"
    }
   ],
   "source": [
    "fig = plt.figure()\n",
    "\n",
    "ax = fig.add_subplot()\n",
    "ax.plot([1,1.5,2])\n",
    "ax.plot([1,2,3])\n",
    "ax.plot([1,2.5,4])\n",
    "\n",
    "plt.show()"
   ]
  },
  {
   "cell_type": "markdown",
   "id": "7e15b949",
   "metadata": {},
   "source": [
    "### 2.4.2 line plot과 bar plot 동시에 그리기"
   ]
  },
  {
   "cell_type": "code",
   "execution_count": 119,
   "id": "373f6765",
   "metadata": {},
   "outputs": [
    {
     "data": {
      "image/png": "[encoded data removed]",
      "text/plain": [
       "<Figure size 432x288 with 1 Axes>"
      ]
     },
     "metadata": {
      "needs_background": "light"
     },
     "output_type": "display_data"
    }
   ],
   "source": [
    "fig = plt.figure()\n",
    "\n",
    "ax = fig.add_subplot()\n",
    "ax.plot([1,2,3],[1,2,3])\n",
    "ax.bar([1,2,3],[1,2,3,], color='green')\n",
    "\n",
    "plt.show()"
   ]
  },
  {
   "cell_type": "markdown",
   "id": "ce7435c0",
   "metadata": {},
   "source": [
    "### 2.4.3 Species에 따라 다른 색 넣기"
   ]
  },
  {
   "cell_type": "code",
   "execution_count": 123,
   "id": "d695ff13",
   "metadata": {},
   "outputs": [
    {
     "data": {
      "image/png": "[encoded data removed]",
      "text/plain": [
       "<Figure size 504x504 with 1 Axes>"
      ]
     },
     "metadata": {
      "needs_background": "light"
     },
     "output_type": "display_data"
    }
   ],
   "source": [
    "fig = plt.figure(figsize=(7,7))\n",
    "\n",
    "ax = fig.add_subplot()\n",
    "\n",
    "for species in iris_df['Species'].unique():\n",
    "    iris_sub = iris_df[iris_df['Species']==species]\n",
    "    ax.scatter(x=iris_sub['PetalLengthCm'],\n",
    "               y=iris_sub['PetalWidthCm'])\n",
    "\n",
    "plt.show()"
   ]
  },
  {
   "cell_type": "markdown",
   "id": "d6d9d2bc",
   "metadata": {},
   "source": [
    "### 2.4.4 여러 개 subplot 한 번에 만들기"
   ]
  },
  {
   "cell_type": "markdown",
   "id": "efac88b8",
   "metadata": {},
   "source": [
    "plt.subplots 활용"
   ]
  },
  {
   "cell_type": "code",
   "execution_count": 125,
   "id": "9b2dcf2d",
   "metadata": {},
   "outputs": [
    {
     "data": {
      "image/png": "[encoded data removed]",
      "text/plain": [
       "<Figure size 720x360 with 6 Axes>"
      ]
     },
     "metadata": {
      "needs_background": "light"
     },
     "output_type": "display_data"
    }
   ],
   "source": [
    "fig, axes = plt.subplots(2,3,figsize=(10,5))\n",
    "axes[0,1].plot([1,2,3])   # 0행 1열에 plot 그리기\n",
    "axes[1,2].plot([3,2,1])   # 1행 2열에 plot 그리기\n",
    "plt.show()"
   ]
  },
  {
   "cell_type": "code",
   "execution_count": 126,
   "id": "cf324a8b",
   "metadata": {},
   "outputs": [
    {
     "data": {
      "image/png": "[encoded data removed]",
      "text/plain": [
       "<Figure size 720x360 with 4 Axes>"
      ]
     },
     "metadata": {
      "needs_background": "light"
     },
     "output_type": "display_data"
    }
   ],
   "source": [
    "np.random.seed(1111)\n",
    "\n",
    "fig, axes = plt.subplots(2,2,figsize=(10,5))\n",
    "axes[0,0].hist(np.random.randn(200), bins=20)\n",
    "axes[0,1].bar(np.arange(10), np.random.randn(10)*10+10)\n",
    "axes[1,0].scatter(np.arange(30), np.arange(30)+3 * np.random.randn(30))\n",
    "axes[1,1].plot(np.random.randn(50).cumsum()*5+20)\n",
    "\n",
    "plt.show()"
   ]
  },
  {
   "cell_type": "markdown",
   "id": "a3c84d1d",
   "metadata": {},
   "source": [
    "★ y축 값 통일 : sharey = True"
   ]
  },
  {
   "cell_type": "code",
   "execution_count": 127,
   "id": "dcf79165",
   "metadata": {},
   "outputs": [
    {
     "data": {
      "image/png": "[encoded data removed]",
      "text/plain": [
       "<Figure size 720x360 with 4 Axes>"
      ]
     },
     "metadata": {
      "needs_background": "light"
     },
     "output_type": "display_data"
    }
   ],
   "source": [
    "np.random.seed(1111)\n",
    "\n",
    "fig, axes = plt.subplots(2,2,figsize=(10,5), sharey=True)\n",
    "axes[0,0].hist(np.random.randn(200), bins=20)\n",
    "axes[0,1].bar(np.arange(10), np.random.randn(10)*10+10)\n",
    "axes[1,0].scatter(np.arange(30), np.arange(30)+3 * np.random.randn(30))\n",
    "axes[1,1].plot(np.random.randn(50).cumsum()*5+20)\n",
    "\n",
    "plt.show()"
   ]
  },
  {
   "cell_type": "markdown",
   "id": "351d36fd",
   "metadata": {},
   "source": [
    "subplot 간격 조정"
   ]
  },
  {
   "cell_type": "code",
   "execution_count": 128,
   "id": "47163ea9",
   "metadata": {},
   "outputs": [
    {
     "data": {
      "image/png": "[encoded data removed]",
      "text/plain": [
       "<Figure size 720x360 with 4 Axes>"
      ]
     },
     "metadata": {
      "needs_background": "light"
     },
     "output_type": "display_data"
    }
   ],
   "source": [
    "np.random.seed(1111)\n",
    "\n",
    "fig, axes = plt.subplots(2,2,figsize=(10,5), sharex=True, sharey=True)\n",
    "for i in range(2):\n",
    "    for j in range(2):\n",
    "        axes[i,j].hist(np.random.randn(500), bins=50)\n",
    "\n",
    "# wspace : 가로 간격 조정\n",
    "# hspace : 세로 간격 조정\n",
    "plt.subplots_adjust(wspace=0, hspace=0)\n",
    "\n",
    "plt.show()"
   ]
  },
  {
   "cell_type": "markdown",
   "id": "a816b4ec",
   "metadata": {},
   "source": [
    "### 2.4.5 색상 지정하기"
   ]
  },
  {
   "cell_type": "code",
   "execution_count": 129,
   "id": "7e285de2",
   "metadata": {},
   "outputs": [
    {
     "data": {
      "image/png": "[encoded data removed]",
      "text/plain": [
       "<Figure size 720x360 with 4 Axes>"
      ]
     },
     "metadata": {
      "needs_background": "light"
     },
     "output_type": "display_data"
    }
   ],
   "source": [
    "np.random.seed(1111)\n",
    "\n",
    "fig, axes = plt.subplots(2,2,figsize=(10,5), sharey=True)\n",
    "axes[0,0].hist(np.random.randn(200), bins=20, color='r')\n",
    "axes[0,1].bar(np.arange(10), np.random.randn(10)*10+10, color='seagreen')\n",
    "axes[1,0].scatter(np.arange(30), np.arange(30)+3 * np.random.randn(30), color='#0000ff')\n",
    "axes[1,1].plot(np.random.randn(50).cumsum()*5+20, color='brown')\n",
    "\n",
    "plt.show()"
   ]
  },
  {
   "cell_type": "markdown",
   "id": "fbdda238",
   "metadata": {},
   "source": [
    "## 2.5 label 지정하기"
   ]
  },
  {
   "cell_type": "code",
   "execution_count": 130,
   "id": "fda6311c",
   "metadata": {},
   "outputs": [
    {
     "data": {
      "image/png": "[encoded data removed]",
      "text/plain": [
       "<Figure size 504x504 with 1 Axes>"
      ]
     },
     "metadata": {
      "needs_background": "light"
     },
     "output_type": "display_data"
    }
   ],
   "source": [
    "fig = plt.figure(figsize=(7,7))\n",
    "\n",
    "ax = fig.add_subplot()\n",
    "\n",
    "for species in iris_df['Species'].unique():\n",
    "    iris_sub = iris_df[iris_df['Species']==species]\n",
    "    ax.scatter(x=iris_sub['PetalLengthCm'],\n",
    "               y=iris_sub['PetalWidthCm'],\n",
    "               label=species)\n",
    "\n",
    "plt.legend()\n",
    "plt.show()"
   ]
  },
  {
   "cell_type": "markdown",
   "id": "75f49cae",
   "metadata": {},
   "source": [
    "## 2.6 제목, 축이름, 눈금 설정하기"
   ]
  },
  {
   "cell_type": "code",
   "execution_count": 131,
   "id": "b2042119",
   "metadata": {},
   "outputs": [
    {
     "data": {
      "image/png": "[encoded data removed]",
      "text/plain": [
       "<Figure size 504x504 with 1 Axes>"
      ]
     },
     "metadata": {
      "needs_background": "light"
     },
     "output_type": "display_data"
    }
   ],
   "source": [
    "fig = plt.figure(figsize=(7,7))\n",
    "\n",
    "ax = fig.add_subplot()\n",
    "\n",
    "for species in iris_df['Species'].unique():\n",
    "    iris_sub = iris_df[iris_df['Species']==species]\n",
    "    ax.scatter(x=iris_sub['PetalLengthCm'],\n",
    "               y=iris_sub['PetalWidthCm'],\n",
    "               label=species)\n",
    "\n",
    "ax.set_title('Iris')\n",
    "xticks = np.arange(1, 7.5, 0.5)  # x눈금 설정 : 1부터 7.5까지 0.5 간격\n",
    "ax.set_xticks(xticks)\n",
    "ax.set_xlabel('PetalLengthCm')\n",
    "ax.set_ylabel('PetalWidthCm')\n",
    "\n",
    "plt.legend()\n",
    "plt.show()"
   ]
  },
  {
   "cell_type": "markdown",
   "id": "a6760f18",
   "metadata": {},
   "source": [
    "# 3. Image Data Visualization\n",
    "\n",
    "- plt.imshow()를 이용하여 화면에 출력\n",
    "- X : image data\n",
    "  - gray scale : 2차원 RGB, 3차원 RGBA\n",
    "  - data shape : height, width, channel 순서\n",
    "- cmap : colormap\n",
    "  - https://matplotlib.org/stable/tutorials/colors/colormaps.html"
   ]
  },
  {
   "cell_type": "code",
   "execution_count": 1,
   "id": "8aa162bb",
   "metadata": {},
   "outputs": [],
   "source": [
    "from PIL import Image"
   ]
  },
  {
   "cell_type": "code",
   "execution_count": 7,
   "id": "0d46aee3",
   "metadata": {},
   "outputs": [
    {
     "data": {
      "image/png": "[encoded data removed]",
      "text/plain": [
       "<Figure size 432x288 with 1 Axes>"
      ]
     },
     "metadata": {
      "needs_background": "light"
     },
     "output_type": "display_data"
    }
   ],
   "source": [
    "image = Image.open('cat.jpg')\n",
    "\n",
    "fig = plt.figure()\n",
    "\n",
    "ax = fig.add_subplot()\n",
    "ax.imshow(image)\n",
    "\n",
    "plt.show()"
   ]
  },
  {
   "cell_type": "markdown",
   "id": "d81f7641",
   "metadata": {},
   "source": [
    "Oxford IIIT Pet dataset을 다운받아 화면에 출력\n",
    "- https://www.robots.ox.ac.uk/~vgg/data/pets/"
   ]
  },
  {
   "cell_type": "code",
   "execution_count": 9,
   "id": "a8267fb9",
   "metadata": {},
   "outputs": [],
   "source": [
    "import os\n",
    "import random\n",
    "import xml.etree.ElementTree as et\n",
    "from matplotlib.patches import Rectangle  # 사각형 그리는 library"
   ]
  },
  {
   "cell_type": "code",
   "execution_count": 138,
   "id": "83411b16",
   "metadata": {},
   "outputs": [
    {
     "name": "stdout",
     "output_type": "stream",
     "text": [
      "Collecting gdown\n",
      "  Downloading gdown-4.4.0.tar.gz (14 kB)\n",
      "  Installing build dependencies: started\n",
      "  Installing build dependencies: finished with status 'done'\n",
      "  Getting requirements to build wheel: started\n",
      "  Getting requirements to build wheel: finished with status 'done'\n",
      "  Preparing metadata (pyproject.toml): started\n",
      "  Preparing metadata (pyproject.toml): finished with status 'done'\n",
      "Requirement already satisfied: beautifulsoup4 in c:\\users\\user\\anaconda3\\lib\\site-packages (from gdown) (4.10.0)\n",
      "Requirement already satisfied: requests[socks] in c:\\users\\user\\anaconda3\\lib\\site-packages (from gdown) (2.26.0)\n",
      "Requirement already satisfied: tqdm in c:\\users\\user\\anaconda3\\lib\\site-packages (from gdown) (4.62.3)\n",
      "Requirement already satisfied: filelock in c:\\users\\user\\anaconda3\\lib\\site-packages (from gdown) (3.3.1)\n",
      "Requirement already satisfied: six in c:\\users\\user\\anaconda3\\lib\\site-packages (from gdown) (1.15.0)\n",
      "Requirement already satisfied: soupsieve>1.2 in c:\\users\\user\\anaconda3\\lib\\site-packages (from beautifulsoup4->gdown) (2.3.1)\n",
      "Requirement already satisfied: urllib3<1.27,>=1.21.1 in c:\\users\\user\\anaconda3\\lib\\site-packages (from requests[socks]->gdown) (1.26.7)\n",
      "Requirement already satisfied: idna<4,>=2.5 in c:\\users\\user\\anaconda3\\lib\\site-packages (from requests[socks]->gdown) (3.2)\n",
      "Requirement already satisfied: certifi>=2017.4.17 in c:\\users\\user\\anaconda3\\lib\\site-packages (from requests[socks]->gdown) (2021.10.8)\n",
      "Requirement already satisfied: charset-normalizer~=2.0.0 in c:\\users\\user\\anaconda3\\lib\\site-packages (from requests[socks]->gdown) (2.0.4)\n",
      "Requirement already satisfied: PySocks!=1.5.7,>=1.5.6 in c:\\users\\user\\anaconda3\\lib\\site-packages (from requests[socks]->gdown) (1.7.1)\n",
      "Requirement already satisfied: colorama in c:\\users\\user\\anaconda3\\lib\\site-packages (from tqdm->gdown) (0.4.4)\n",
      "Building wheels for collected packages: gdown\n",
      "  Building wheel for gdown (pyproject.toml): started\n",
      "  Building wheel for gdown (pyproject.toml): finished with status 'done'\n",
      "  Created wheel for gdown: filename=gdown-4.4.0-py3-none-any.whl size=14775 sha256=c517a89e4ca8617237827faca6e88b5a1f4424262c6e81d4656e02fffce956dc\n",
      "  Stored in directory: c:\\users\\user\\appdata\\local\\pip\\cache\\wheels\\7b\\7b\\5d\\656f46cd6889e4c93977be9586901d0adc1271b2d876c84c96\n",
      "Successfully built gdown\n",
      "Installing collected packages: gdown\n",
      "Successfully installed gdown-4.4.0\n",
      "Note: you may need to restart the kernel to use updated packages.\n"
     ]
    },
    {
     "name": "stderr",
     "output_type": "stream",
     "text": [
      "WARNING: Ignoring invalid distribution -onlpy (c:\\users\\user\\anaconda3\\lib\\site-packages)\n",
      "WARNING: Ignoring invalid distribution -onlpy (c:\\users\\user\\anaconda3\\lib\\site-packages)\n",
      "WARNING: Ignoring invalid distribution -onlpy (c:\\users\\user\\anaconda3\\lib\\site-packages)\n",
      "WARNING: Ignoring invalid distribution -onlpy (c:\\users\\user\\anaconda3\\lib\\site-packages)\n",
      "WARNING: Ignoring invalid distribution -onlpy (c:\\users\\user\\anaconda3\\lib\\site-packages)\n",
      "WARNING: Ignoring invalid distribution -onlpy (c:\\users\\user\\anaconda3\\lib\\site-packages)\n"
     ]
    }
   ],
   "source": [
    "pip install gdown"
   ]
  },
  {
   "cell_type": "code",
   "execution_count": 5,
   "id": "dcd49191",
   "metadata": {},
   "outputs": [
    {
     "name": "stderr",
     "output_type": "stream",
     "text": [
      "Downloading...\n",
      "From: https://drive.google.com/uc?id=1dIR9ANjUsV9dWa0pS9J0c2KUGMfpIRG0\n",
      "To: C:\\Users\\User\\LGUplus_Fastcampus\\한번에끝내는딥러닝\\oxford_pet.zip\n",
      "100%|███████████████████████████████████████████████████████████████████████████████| 811M/811M [01:15<00:00, 10.7MB/s]\n"
     ]
    },
    {
     "data": {
      "text/plain": [
       "'oxford_pet.zip'"
      ]
     },
     "execution_count": 5,
     "metadata": {},
     "output_type": "execute_result"
    }
   ],
   "source": [
    "import gdown\n",
    "url = 'https://drive.google.com/uc?id=1dIR9ANjUsV9dWa0pS9J0c2KUGMfpIRG0'\n",
    "fname = 'oxford_pet.zip'\n",
    "gdown.download(url, fname, quiet=False)"
   ]
  },
  {
   "cell_type": "markdown",
   "id": "685e9b7b",
   "metadata": {},
   "source": [
    "oxford_pet 압축 풀기\n",
    "- window : unzip 명령어 없음 → Error 발생\n",
    "- Google Colaboratory로 하기"
   ]
  },
  {
   "cell_type": "code",
   "execution_count": 6,
   "id": "bab182ec",
   "metadata": {},
   "outputs": [
    {
     "name": "stderr",
     "output_type": "stream",
     "text": [
      "'unzip'은(는) 내부 또는 외부 명령, 실행할 수 있는 프로그램, 또는\n",
      "배치 파일이 아닙니다.\n"
     ]
    }
   ],
   "source": [
    "!unzip -q oxford_pet.zip -d oxford_pet"
   ]
  },
  {
   "cell_type": "markdown",
   "id": "8f14f2c1",
   "metadata": {},
   "source": [
    "경로 지정"
   ]
  },
  {
   "cell_type": "code",
   "execution_count": 10,
   "id": "d69e6958",
   "metadata": {},
   "outputs": [],
   "source": [
    "cur_dir = os.getcwd()\n",
    "data_dir = os.path.join(cur_dir, 'oxford_pet')\n",
    "image_dir = os.path.join(data_dir, 'images')\n",
    "bbox_dir = os.path.join(data_dir, 'annotations', 'xmls')   # bounding box\n",
    "seg_dir = os.path.join(data_dir, 'annotations', 'trimaps') # segmentation"
   ]
  },
  {
   "cell_type": "code",
   "execution_count": null,
   "id": "677d3cad",
   "metadata": {},
   "outputs": [],
   "source": [
    "image_files = [fname for fname in os.listdir(image_dir) if os.path.splitext(fname)[-1] == '.jpg']\n",
    "bbox_files = [fname for fname in os.listdir(bbox_dir) if os.path.splitext(fname)[-1] == '.xml']\n",
    "seg_files = [fname for fname in os.listdir(seg_dir) if os.path.splitext(fname)[-1] == '.png']"
   ]
  },
  {
   "cell_type": "code",
   "execution_count": null,
   "id": "a705e8ca",
   "metadata": {},
   "outputs": [],
   "source": [
    "rnd_idx = random.randint(1, len(bbox_files))  # 랜덤하게 index 1개 추출\n",
    "\n",
    "bbox_name = bbox_files[rnd_idx]\n",
    "bbox_path = os.path.join(bbox_dir, bbox_name)\n",
    "tree = et.parse(bbox_path)\n",
    "\n",
    "width = float(tree.find('./size/width').text)\n",
    "height = float(tree.find('./size/height').text)\n",
    "xmin = float(tree.find('./object/bndbox/xmin').text)\n",
    "xmax = float(tree.find('./object/bndbox/xmax').text)\n",
    "ymin = float(tree.find('./object/bndbox/ymin').text)\n",
    "ymax = float(tree.find('./object/bndbox/ymax').text)\n",
    "\n",
    "rect_x = xmin\n",
    "rect_y = ymin\n",
    "rect_w = xmax - xmin\n",
    "rect_h = ymax - ymax\n",
    "\n",
    "# xml 파일에서 '.xml'을 '.jpg'로 바꿔서 가져오기\n",
    "fname = os.path.splitext(bbox_name)[0]+'.jpg'\n",
    "fpath = os.path.join(image_dir, fname)\n",
    "image = Image.open(fpath)\n",
    "# image = np.array(image)\n",
    "\n",
    "bbox_name = os.path.splitext(fname)[0]+'.xml'\n",
    "\n",
    "fig, ax = plt.subplots(1,1)\n",
    "rect = Rectangle((rect_x, rect_y), rect_w, rect_h, fill=False, color='red')\n",
    "ax.add_patch(rect)\n",
    "ax.imshow(image)\n",
    "plt.show()"
   ]
  },
  {
   "cell_type": "code",
   "execution_count": null,
   "id": "15052e40",
   "metadata": {},
   "outputs": [],
   "source": [
    "# xml 파일에서 '.xml'을 '.png'로 바꿔서 가져오기\n",
    "sname = os.path.splitext(bbox_name)[0]+'.png'\n",
    "spath = os.path.join(seg_dir, sname)\n",
    "seg = Image.open(spath)\n",
    "\n",
    "fig, ax = plt.subplots(1,2, figsize=(15,8))\n",
    "ax[0].imshow(image)\n",
    "ax[1].imshow(seg)\n",
    "plt.show()"
   ]
  },
  {
   "cell_type": "markdown",
   "id": "d67cc32c",
   "metadata": {},
   "source": [
    "두 개 이미지 겹쳐 보기"
   ]
  },
  {
   "cell_type": "code",
   "execution_count": null,
   "id": "31c8a4d5",
   "metadata": {},
   "outputs": [],
   "source": [
    "fig = plt.figure()\n",
    "ax = fig.add_subplot()\n",
    "ax.imshow(image)\n",
    "ax.imshow(seg, alpha=0.5)\n",
    "plt.show()"
   ]
  },
  {
   "cell_type": "code",
   "execution_count": null,
   "id": "73c32f8f",
   "metadata": {},
   "outputs": [],
   "source": []
  }
 ],
 "metadata": {
  "kernelspec": {
   "display_name": "Python 3 (ipykernel)",
   "language": "python",
   "name": "python3"
  },
  "language_info": {
   "codemirror_mode": {
    "name": "ipython",
    "version": 3
   },
   "file_extension": ".py",
   "mimetype": "text/x-python",
   "name": "python",
   "nbconvert_exporter": "python",
   "pygments_lexer": "ipython3",
   "version": "3.8.12"
  }
 },
 "nbformat": 4,
 "nbformat_minor": 5
}
