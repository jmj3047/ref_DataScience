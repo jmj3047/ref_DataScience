{
 "cells": [
  {
   "cell_type": "markdown",
   "id": "98c54b77",
   "metadata": {},
   "source": [
    "# Pytorch\n",
    "\n",
    "- Pytorch는 TensorFlow와 함께 Deep Learning에서 가장 널리 사용되는 framework\n",
    "- 초기에는 Torch라는 이름으로 Lua 언어 기반으로 만들어졌으나, 이후 python 기반으로 변경한 것이 Pytorch\n",
    "- New York 대학교와 Facebook이 공동으로 만들었고, Deep Learning 연구자들 사이에서는 가장 대중적으로 널리 사용되는 framework\n",
    "- Deep Learning 연구하는 사람들은 TensorFlow보다 Pytorch 더 많이 사용"
   ]
  },
  {
   "cell_type": "markdown",
   "id": "518bf753",
   "metadata": {},
   "source": [
    "## 1. Pytorch Basic"
   ]
  },
  {
   "cell_type": "code",
   "execution_count": 2,
   "id": "86eef9d6",
   "metadata": {},
   "outputs": [
    {
     "name": "stdout",
     "output_type": "stream",
     "text": [
      "1.11.0\n"
     ]
    }
   ],
   "source": [
    "import torch\n",
    "\n",
    "print(torch.__version__)"
   ]
  },
  {
   "cell_type": "code",
   "execution_count": 3,
   "id": "010d99bb",
   "metadata": {},
   "outputs": [],
   "source": [
    "from torch import nn\n",
    "from torch.utils.data import DataLoader\n",
    "from torchvision import datasets\n",
    "from torchvision.transforms import ToTensor, Lambda, Compose\n",
    "import matplotlib.pyplot as plt\n",
    "import numpy as np"
   ]
  },
  {
   "cell_type": "markdown",
   "id": "c8ea256b",
   "metadata": {},
   "source": [
    "MNIST Data 다운받기\n",
    "- 공개 dataset에서 train 데이터, test 데이터 내려받기"
   ]
  },
  {
   "cell_type": "code",
   "execution_count": 4,
   "id": "d0549cdd",
   "metadata": {},
   "outputs": [],
   "source": [
    "training_data = datasets.MNIST(\n",
    "    root='data',\n",
    "    train=True,\n",
    "    download=True,\n",
    "    transform=ToTensor(),\n",
    ")\n",
    "\n",
    "test_data = datasets.MNIST(\n",
    "    root='data',\n",
    "    train=False,\n",
    "    download=True,\n",
    "    transform=ToTensor(),\n",
    ")"
   ]
  },
  {
   "cell_type": "markdown",
   "id": "ecb04e11",
   "metadata": {},
   "source": [
    "### DataLoader\n",
    "- TensorFlow에서 tf.Data.Dataset과 같은 역할"
   ]
  },
  {
   "cell_type": "code",
   "execution_count": 5,
   "id": "0db32ed5",
   "metadata": {},
   "outputs": [
    {
     "name": "stdout",
     "output_type": "stream",
     "text": [
      "Shape of x [N, C, H, W]:  torch.Size([64, 1, 28, 28])\n",
      "Shape of y:  torch.Size([64]) torch.int64\n"
     ]
    }
   ],
   "source": [
    "batch_size = 64\n",
    "\n",
    "# dataset 생성\n",
    "train_dataloader = DataLoader(training_data, batch_size=batch_size)\n",
    "test_dataloader = DataLoader(test_data, batch_size=batch_size)\n",
    "\n",
    "for X, y in test_dataloader:\n",
    "    print('Shape of x [N, C, H, W]: ', X.shape)\n",
    "    print('Shape of y: ', y.shape, y.dtype)\n",
    "    break"
   ]
  },
  {
   "cell_type": "markdown",
   "id": "b1553481",
   "metadata": {},
   "source": [
    "학습에 사용할 CPU나 GPU 장치 얻기\n",
    "- GPU가 있으면 GPU 쓰도록 코딩"
   ]
  },
  {
   "cell_type": "code",
   "execution_count": 6,
   "id": "53fa0aed",
   "metadata": {},
   "outputs": [
    {
     "name": "stdout",
     "output_type": "stream",
     "text": [
      "using cpu device\n"
     ]
    }
   ],
   "source": [
    "device = \"cuda\" if torch.cuda.is_available() else 'cpu'\n",
    "print('using {} device'.format(device))"
   ]
  },
  {
   "cell_type": "markdown",
   "id": "3489a897",
   "metadata": {},
   "source": [
    "### 모델 정의\n",
    "- class로 모델 만들도록 권장 함\n",
    "- to(devide) : 생성된 모델을 GPU로 옮기기"
   ]
  },
  {
   "cell_type": "code",
   "execution_count": 7,
   "id": "5725ac83",
   "metadata": {},
   "outputs": [
    {
     "name": "stdout",
     "output_type": "stream",
     "text": [
      "NeuralNetwork(\n",
      "  (flatten): Flatten(start_dim=1, end_dim=-1)\n",
      "  (linear_relu_stack): Sequential(\n",
      "    (0): Linear(in_features=784, out_features=128, bias=True)\n",
      "    (1): ReLU()\n",
      "    (2): Dropout(p=0.2, inplace=False)\n",
      "    (3): Linear(in_features=128, out_features=10, bias=True)\n",
      "  )\n",
      ")\n"
     ]
    }
   ],
   "source": [
    "class NeuralNetwork(nn.Module):\n",
    "    def __init__(self):\n",
    "        super(NeuralNetwork, self).__init__()\n",
    "        self.flatten = nn.Flatten()\n",
    "        self.linear_relu_stack = nn.Sequential(\n",
    "            nn.Linear(28*28, 128),\n",
    "            nn.ReLU(),\n",
    "            nn.Dropout(0.2),\n",
    "            nn.Linear(128,10)\n",
    "        )\n",
    "    \n",
    "    def forward(self, x):\n",
    "        x = self.flatten(x)\n",
    "        logits = self.linear_relu_stack(x)\n",
    "        return logits\n",
    "\n",
    "model = NeuralNetwork().to(device)\n",
    "print(model)"
   ]
  },
  {
   "cell_type": "markdown",
   "id": "d201d19a",
   "metadata": {},
   "source": [
    "### Loss 함수와 Optimizer 설정"
   ]
  },
  {
   "cell_type": "code",
   "execution_count": 8,
   "id": "41b50a9c",
   "metadata": {},
   "outputs": [],
   "source": [
    "loss_fn = nn.CrossEntropyLoss()\n",
    "optimizer = torch.optim.Adam(model.parameters(), lr=1e-3)"
   ]
  },
  {
   "cell_type": "markdown",
   "id": "50528312",
   "metadata": {},
   "source": [
    "### Training을 위한 함수\n",
    "\n",
    "- TensorFlow와 차이점\n",
    "  - TensorFlow는 이중 loop 였는데, Pytorch는 dataloader를 받아와서, 안에서 for문 생성"
   ]
  },
  {
   "cell_type": "code",
   "execution_count": 9,
   "id": "e24b1cb9",
   "metadata": {},
   "outputs": [],
   "source": [
    "def train(dataloader, model, loss_fn, optimizer):\n",
    "    size = len(dataloader.dataset)\n",
    "    for batch, (X,y) in enumerate(dataloader):\n",
    "        X, y = X.to(device), y.to(device)\n",
    "        \n",
    "        # 예측 오류 계산\n",
    "        pred = model(X)\n",
    "        loss = loss_fn(pred, y)\n",
    "        \n",
    "        # backpropagation\n",
    "        optimizer.zero_grad()\n",
    "        loss.backward()\n",
    "        optimizer.step()\n",
    "        \n",
    "        if batch % 100 == 0:\n",
    "            loss, current = loss.item(), batch * len(X)\n",
    "            print(f'loss: {loss:>7f} [{current:>5d}/{size:>5d}]')"
   ]
  },
  {
   "cell_type": "markdown",
   "id": "9a24158a",
   "metadata": {},
   "source": [
    "### Test를 위한 함수"
   ]
  },
  {
   "cell_type": "code",
   "execution_count": 10,
   "id": "61a4c84b",
   "metadata": {},
   "outputs": [],
   "source": [
    "def test(dataloader, model, loss_fn):\n",
    "    size = len(dataloader.dataset)\n",
    "    num_batches = len(dataloader)\n",
    "    model.eval()\n",
    "    test_loss, correct = 0, 0\n",
    "    \n",
    "    # no_grad() : gradient 전파 안 되게 함\n",
    "    with torch.no_grad():\n",
    "        for X, y in dataloader:\n",
    "            X, y = X.to(device), y.to(device)\n",
    "            pred = model(X)\n",
    "            test_loss += loss_fn(pred, y).item()\n",
    "            correct += (pred.argmax(1) == y).type(torch.float).sum().item()\n",
    "            \n",
    "    test_loss /= num_batches\n",
    "    correct /= size\n",
    "    print(f'Test Error: \\n Accuracy: {(100*correct):>0.1f}%, Avg loss: {test_loss:>8f}')"
   ]
  },
  {
   "cell_type": "code",
   "execution_count": 11,
   "id": "984e1159",
   "metadata": {},
   "outputs": [
    {
     "name": "stdout",
     "output_type": "stream",
     "text": [
      "Epoch 1\n",
      "------------------------------------\n",
      "loss: 2.286137 [    0/60000]\n",
      "loss: 0.497393 [ 6400/60000]\n",
      "loss: 0.346694 [12800/60000]\n",
      "loss: 0.357643 [19200/60000]\n",
      "loss: 0.251323 [25600/60000]\n",
      "loss: 0.340979 [32000/60000]\n",
      "loss: 0.157604 [38400/60000]\n",
      "loss: 0.363198 [44800/60000]\n",
      "loss: 0.260771 [51200/60000]\n",
      "loss: 0.331137 [57600/60000]\n",
      "Test Error: \n",
      " Accuracy: 94.3%, Avg loss: 0.191733\n",
      "Epoch 2\n",
      "------------------------------------\n",
      "loss: 0.124024 [    0/60000]\n",
      "loss: 0.185612 [ 6400/60000]\n",
      "loss: 0.110246 [12800/60000]\n",
      "loss: 0.177035 [19200/60000]\n",
      "loss: 0.197120 [25600/60000]\n",
      "loss: 0.244412 [32000/60000]\n",
      "loss: 0.058470 [38400/60000]\n",
      "loss: 0.235918 [44800/60000]\n",
      "loss: 0.157711 [51200/60000]\n",
      "loss: 0.198995 [57600/60000]\n",
      "Test Error: \n",
      " Accuracy: 95.6%, Avg loss: 0.138271\n",
      "Epoch 3\n",
      "------------------------------------\n",
      "loss: 0.079269 [    0/60000]\n",
      "loss: 0.118605 [ 6400/60000]\n",
      "loss: 0.078662 [12800/60000]\n",
      "loss: 0.085851 [19200/60000]\n",
      "loss: 0.122364 [25600/60000]\n",
      "loss: 0.170875 [32000/60000]\n",
      "loss: 0.038596 [38400/60000]\n",
      "loss: 0.181661 [44800/60000]\n",
      "loss: 0.128167 [51200/60000]\n",
      "loss: 0.138779 [57600/60000]\n",
      "Test Error: \n",
      " Accuracy: 96.3%, Avg loss: 0.118339\n",
      "Epoch 4\n",
      "------------------------------------\n",
      "loss: 0.064629 [    0/60000]\n",
      "loss: 0.083897 [ 6400/60000]\n",
      "loss: 0.070817 [12800/60000]\n",
      "loss: 0.037616 [19200/60000]\n",
      "loss: 0.086503 [25600/60000]\n",
      "loss: 0.125954 [32000/60000]\n",
      "loss: 0.027274 [38400/60000]\n",
      "loss: 0.133010 [44800/60000]\n",
      "loss: 0.111313 [51200/60000]\n",
      "loss: 0.092274 [57600/60000]\n",
      "Test Error: \n",
      " Accuracy: 96.3%, Avg loss: 0.109303\n",
      "Epoch 5\n",
      "------------------------------------\n",
      "loss: 0.045491 [    0/60000]\n",
      "loss: 0.061247 [ 6400/60000]\n",
      "loss: 0.060975 [12800/60000]\n",
      "loss: 0.023439 [19200/60000]\n",
      "loss: 0.064365 [25600/60000]\n",
      "loss: 0.098574 [32000/60000]\n",
      "loss: 0.018982 [38400/60000]\n",
      "loss: 0.102584 [44800/60000]\n",
      "loss: 0.099363 [51200/60000]\n",
      "loss: 0.061969 [57600/60000]\n",
      "Test Error: \n",
      " Accuracy: 96.7%, Avg loss: 0.099356\n",
      "Epoch 6\n",
      "------------------------------------\n",
      "loss: 0.031268 [    0/60000]\n",
      "loss: 0.053701 [ 6400/60000]\n",
      "loss: 0.052510 [12800/60000]\n",
      "loss: 0.017514 [19200/60000]\n",
      "loss: 0.046522 [25600/60000]\n",
      "loss: 0.084010 [32000/60000]\n",
      "loss: 0.014291 [38400/60000]\n",
      "loss: 0.073479 [44800/60000]\n",
      "loss: 0.098396 [51200/60000]\n",
      "loss: 0.046417 [57600/60000]\n",
      "Test Error: \n",
      " Accuracy: 97.0%, Avg loss: 0.090682\n",
      "Epoch 7\n",
      "------------------------------------\n",
      "loss: 0.024199 [    0/60000]\n",
      "loss: 0.036199 [ 6400/60000]\n",
      "loss: 0.036962 [12800/60000]\n",
      "loss: 0.018234 [19200/60000]\n",
      "loss: 0.036200 [25600/60000]\n",
      "loss: 0.073687 [32000/60000]\n",
      "loss: 0.013411 [38400/60000]\n",
      "loss: 0.051074 [44800/60000]\n",
      "loss: 0.105382 [51200/60000]\n",
      "loss: 0.037083 [57600/60000]\n",
      "Test Error: \n",
      " Accuracy: 97.1%, Avg loss: 0.088781\n",
      "Epoch 8\n",
      "------------------------------------\n",
      "loss: 0.025858 [    0/60000]\n",
      "loss: 0.027423 [ 6400/60000]\n",
      "loss: 0.027006 [12800/60000]\n",
      "loss: 0.020892 [19200/60000]\n",
      "loss: 0.027538 [25600/60000]\n",
      "loss: 0.054031 [32000/60000]\n",
      "loss: 0.010144 [38400/60000]\n",
      "loss: 0.035256 [44800/60000]\n",
      "loss: 0.108583 [51200/60000]\n",
      "loss: 0.028478 [57600/60000]\n",
      "Test Error: \n",
      " Accuracy: 97.3%, Avg loss: 0.084938\n",
      "Epoch 9\n",
      "------------------------------------\n",
      "loss: 0.021013 [    0/60000]\n",
      "loss: 0.021924 [ 6400/60000]\n",
      "loss: 0.024074 [12800/60000]\n",
      "loss: 0.015836 [19200/60000]\n",
      "loss: 0.021731 [25600/60000]\n",
      "loss: 0.034075 [32000/60000]\n",
      "loss: 0.008854 [38400/60000]\n",
      "loss: 0.018914 [44800/60000]\n",
      "loss: 0.109606 [51200/60000]\n",
      "loss: 0.020079 [57600/60000]\n",
      "Test Error: \n",
      " Accuracy: 97.5%, Avg loss: 0.081895\n",
      "Epoch 10\n",
      "------------------------------------\n",
      "loss: 0.021878 [    0/60000]\n",
      "loss: 0.015954 [ 6400/60000]\n",
      "loss: 0.024735 [12800/60000]\n",
      "loss: 0.012152 [19200/60000]\n",
      "loss: 0.019405 [25600/60000]\n",
      "loss: 0.024908 [32000/60000]\n",
      "loss: 0.007545 [38400/60000]\n",
      "loss: 0.013897 [44800/60000]\n",
      "loss: 0.091478 [51200/60000]\n",
      "loss: 0.016673 [57600/60000]\n",
      "Test Error: \n",
      " Accuracy: 97.5%, Avg loss: 0.080128\n",
      "Done!\n"
     ]
    }
   ],
   "source": [
    "epochs = 10\n",
    "for t in range(epochs):\n",
    "    print(f'Epoch {t+1}\\n------------------------------------')\n",
    "    train(train_dataloader, model, loss_fn, optimizer)\n",
    "    test(test_dataloader, model, loss_fn)\n",
    "print('Done!')"
   ]
  },
  {
   "cell_type": "markdown",
   "id": "b6c33afa",
   "metadata": {},
   "source": [
    "### 내가 쓴 손글씨로 Test 해보기\n",
    "\n",
    "Colab을 쓰는 경우 아래 cell 실행하면 파일 업로드 가능\n",
    "- 그림판과 같은 도구를 이용하여 손으로 숫자 쓰고 파일로 저장하고 업로드 하기\n",
    "- 파일명 : image.png\n",
    "\n",
    "```python\n",
    "imoprt os\n",
    "from PIL import Image\n",
    "from google.colab import files\n",
    "\n",
    "uploaded = files.upload()\n",
    "\n",
    "for fn in uploaded.keys():\n",
    "    print('User uploaded file \"{name}\" with length {length} bytes'.format(\n",
    "        name=fn, length=len(uploaded[fn])))\n",
    "```"
   ]
  },
  {
   "cell_type": "code",
   "execution_count": null,
   "id": "1147c23f",
   "metadata": {},
   "outputs": [],
   "source": [
    "# image file 경로 설정\n",
    "cur_dir = os.getcwd()\n",
    "img_path = os.path.join(cur_dir, 'image.png')\n",
    "\n",
    "# image file 읽기\n",
    "cur_img = Image.open(img_path)\n",
    "\n",
    "# 28×28로 resize\n",
    "cur_img = cur_img.resize((28,28))\n",
    "image = np.asarray(cur_img)\n",
    "\n",
    "# color image일 경우 RGB 평균값으로 gray scale로 변경\n",
    "try:\n",
    "    image = np.mean(image, axis=2)\n",
    "except:\n",
    "    pass\n",
    "\n",
    "# upload한 image는 흰 배경에 검은 글씨로 되어 있으므로, MNIST data와 같이 검은 배경에 흰 글씨로 변경\n",
    "image = np.abs(255-image)\n",
    "\n",
    "# MNIST와 동일하게 data preprocessing(255로 나눠줌)\n",
    "image = image.astype(np.float32)/255.\n",
    "\n",
    "# 화면에 출력하여 확인\n",
    "plt.imshow(image, cmap='gray')\n",
    "plt.show()"
   ]
  },
  {
   "cell_type": "markdown",
   "id": "d9df9029",
   "metadata": {},
   "source": [
    "- 'image'가 현재 numpy array 형태인데, torch에서 사용하는 tensor로 변경\n",
    "- reshape\n",
    "- model에 넣고 결과 출력"
   ]
  },
  {
   "cell_type": "code",
   "execution_count": null,
   "id": "72b5b766",
   "metadata": {},
   "outputs": [],
   "source": [
    "image = torch.as_tensor(image).to(device).reshape(1,1,28,28)\n",
    "model.eval()\n",
    "predict = model(image)\n",
    "print(\"Model이 예측한 값은 {} 입니다.\".format(predict.argmax(1).item()))"
   ]
  },
  {
   "cell_type": "markdown",
   "id": "e03c6c22",
   "metadata": {},
   "source": [
    "## 2. Tensor\n",
    "\n",
    "- Tensor는 배열(array)이나 행렬(matrix)과 매우 유사한 특수한 자료구조\n",
    "  - 특히 numpy ndarray와 거의 똑같음 (TensorFlow가 numpy ndarray와 비슷한 것보다 훨씬 똑같음)\n",
    "- Pytorch에서는 tensor를 사용하여 모델의 입력(input)과 출력(output), 모델의 매개변수들을 부호화(encode)"
   ]
  },
  {
   "cell_type": "markdown",
   "id": "9fe86fb3",
   "metadata": {},
   "source": [
    "### 2.1 list로부터 직접 tensor 생성하기"
   ]
  },
  {
   "cell_type": "code",
   "execution_count": 12,
   "id": "bdddab24",
   "metadata": {},
   "outputs": [
    {
     "name": "stdout",
     "output_type": "stream",
     "text": [
      "tensor([[1, 2],\n",
      "        [3, 4]])\n"
     ]
    }
   ],
   "source": [
    "data = [[1,2],[3,4]]\n",
    "x_data = torch.tensor(data)\n",
    "print(x_data)"
   ]
  },
  {
   "cell_type": "markdown",
   "id": "98988289",
   "metadata": {},
   "source": [
    "### 2.2 numpy array로부터 tensor 생성하기"
   ]
  },
  {
   "cell_type": "code",
   "execution_count": 13,
   "id": "93de5c5b",
   "metadata": {},
   "outputs": [],
   "source": [
    "np_array = np.array(data)"
   ]
  },
  {
   "cell_type": "code",
   "execution_count": 14,
   "id": "d0e1c768",
   "metadata": {},
   "outputs": [
    {
     "name": "stdout",
     "output_type": "stream",
     "text": [
      "tensor([[1, 2],\n",
      "        [3, 4]], dtype=torch.int32)\n",
      "tensor([[1, 2],\n",
      "        [3, 4]], dtype=torch.int32)\n",
      "tensor([[1, 2],\n",
      "        [3, 4]], dtype=torch.int32)\n"
     ]
    }
   ],
   "source": [
    "# 방법1\n",
    "x_np_1 = torch.tensor(np_array)\n",
    "print(x_np_1)\n",
    "\n",
    "# 방법2\n",
    "x_np_2 = torch.as_tensor(np_array)\n",
    "print(x_np_2)\n",
    "\n",
    "# 방법3\n",
    "x_np_3 = torch.from_numpy(np_array)\n",
    "print(x_np_3)"
   ]
  },
  {
   "cell_type": "markdown",
   "id": "9fc2a423",
   "metadata": {},
   "source": [
    "<b>차이점</b>\n",
    "- 방법1 : copy 해서 새로운 tensor 만듦\n",
    "  - 새로 만든 x_np_1 값 바꿔도 원래 np_array 값은 안 바뀜\n",
    "  - 메모리 낭비될 수 있음\n",
    "- 방법2, 방법3 : view를 만듦\n",
    "  - 새로 만든 x_np_2, x_np_3 값 바꾸면 원래 np_array 값도 바뀜"
   ]
  },
  {
   "cell_type": "code",
   "execution_count": 15,
   "id": "61883e84",
   "metadata": {},
   "outputs": [
    {
     "name": "stdout",
     "output_type": "stream",
     "text": [
      "tensor([[5, 2],\n",
      "        [3, 4]], dtype=torch.int32)\n",
      "[[1 2]\n",
      " [3 4]]\n"
     ]
    }
   ],
   "source": [
    "x_np_1[0,0] = 5\n",
    "print(x_np_1)\n",
    "print(np_array)"
   ]
  },
  {
   "cell_type": "code",
   "execution_count": 16,
   "id": "e409b36a",
   "metadata": {},
   "outputs": [
    {
     "name": "stdout",
     "output_type": "stream",
     "text": [
      "tensor([[6, 2],\n",
      "        [3, 4]], dtype=torch.int32)\n",
      "[[6 2]\n",
      " [3 4]]\n"
     ]
    }
   ],
   "source": [
    "x_np_2[0,0] = 6\n",
    "print(x_np_2)\n",
    "print(np_array)"
   ]
  },
  {
   "cell_type": "code",
   "execution_count": 17,
   "id": "276e87a6",
   "metadata": {},
   "outputs": [
    {
     "name": "stdout",
     "output_type": "stream",
     "text": [
      "tensor([[7, 2],\n",
      "        [3, 4]], dtype=torch.int32)\n",
      "[[7 2]\n",
      " [3 4]]\n"
     ]
    }
   ],
   "source": [
    "x_np_3[0,0] = 7\n",
    "print(x_np_3)\n",
    "print(np_array)"
   ]
  },
  {
   "cell_type": "markdown",
   "id": "73e910ea",
   "metadata": {},
   "source": [
    "<b>다시 numpy로 바꾸기</b>"
   ]
  },
  {
   "cell_type": "code",
   "execution_count": 18,
   "id": "1c223680",
   "metadata": {},
   "outputs": [
    {
     "name": "stdout",
     "output_type": "stream",
     "text": [
      "[[5 2]\n",
      " [3 4]] <class 'numpy.ndarray'>\n"
     ]
    }
   ],
   "source": [
    "np_again = x_np_1.numpy()\n",
    "print(np_again, type(np_again))"
   ]
  },
  {
   "cell_type": "markdown",
   "id": "2647c761",
   "metadata": {},
   "source": [
    "### 2.3 numpy와 동일하게 아래 기능들 모두 사용 가능"
   ]
  },
  {
   "cell_type": "code",
   "execution_count": 19,
   "id": "0ab737d0",
   "metadata": {},
   "outputs": [
    {
     "name": "stdout",
     "output_type": "stream",
     "text": [
      "tensor([[1., 1., 1.],\n",
      "        [1., 1., 1.]])\n",
      "tensor([[0., 0., 0.],\n",
      "        [0., 0., 0.]])\n",
      "tensor([[2, 2, 2],\n",
      "        [2, 2, 2]])\n",
      "tensor([[0.0000e+00, 0.0000e+00, 1.8754e+28],\n",
      "        [1.6634e-04, 6.6280e-10, 1.3040e-11]])\n"
     ]
    }
   ],
   "source": [
    "a = torch.ones(2,3)\n",
    "b = torch.zeros(2,3)\n",
    "c = torch.full((2,3),2)\n",
    "d = torch.empty(2,3)\n",
    "print(a)\n",
    "print(b)\n",
    "print(c)\n",
    "print(d)"
   ]
  },
  {
   "cell_type": "code",
   "execution_count": 20,
   "id": "36764799",
   "metadata": {},
   "outputs": [
    {
     "name": "stdout",
     "output_type": "stream",
     "text": [
      "tensor([[0, 0, 0],\n",
      "        [0, 0, 0]])\n",
      "tensor([[1, 1, 1],\n",
      "        [1, 1, 1]])\n",
      "tensor([[3, 3, 3],\n",
      "        [3, 3, 3]])\n",
      "tensor([[0, 0, 0],\n",
      "        [0, 0, 0]])\n"
     ]
    }
   ],
   "source": [
    "e = torch.zeros_like(c)\n",
    "f = torch.ones_like(c)\n",
    "g = torch.full_like(c, 3)\n",
    "h = torch.empty_like(c)\n",
    "print(e)\n",
    "print(f)\n",
    "print(g)\n",
    "print(h)"
   ]
  },
  {
   "cell_type": "code",
   "execution_count": 21,
   "id": "b1c8b0d0",
   "metadata": {},
   "outputs": [
    {
     "name": "stdout",
     "output_type": "stream",
     "text": [
      "tensor([[1., 0., 0.],\n",
      "        [0., 1., 0.],\n",
      "        [0., 0., 1.]])\n"
     ]
    }
   ],
   "source": [
    "i = torch.eye(3)\n",
    "print(i)"
   ]
  },
  {
   "cell_type": "code",
   "execution_count": 22,
   "id": "9e575ab3",
   "metadata": {},
   "outputs": [
    {
     "name": "stdout",
     "output_type": "stream",
     "text": [
      "tensor([0, 1, 2, 3, 4, 5, 6, 7, 8, 9])\n"
     ]
    }
   ],
   "source": [
    "j = torch.arange(10)\n",
    "print(j)"
   ]
  },
  {
   "cell_type": "code",
   "execution_count": 23,
   "id": "56fb6f89",
   "metadata": {},
   "outputs": [
    {
     "name": "stdout",
     "output_type": "stream",
     "text": [
      "tensor([[0.8637, 0.1836],\n",
      "        [0.0368, 0.6927]])\n",
      "tensor([[ 2.2270, -0.0899],\n",
      "        [-0.3708,  1.4289]])\n"
     ]
    }
   ],
   "source": [
    "k = torch.rand(2,2)\n",
    "l = torch.randn(2,2)\n",
    "print(k)\n",
    "print(l)"
   ]
  },
  {
   "cell_type": "markdown",
   "id": "3867558b",
   "metadata": {},
   "source": [
    "### 2.4 Tensor의 속성\n",
    "\n",
    "- tensor.device : 지금 이 tensor가 올라가 있는 메모리 확인 (CPU/GPU)"
   ]
  },
  {
   "cell_type": "code",
   "execution_count": 24,
   "id": "23657fbb",
   "metadata": {},
   "outputs": [
    {
     "name": "stdout",
     "output_type": "stream",
     "text": [
      "Shape of tensor: torch.Size([3, 4])\n",
      "Datatype of tensor: torch.float32\n",
      "Device tensor is stored on: cpu\n"
     ]
    }
   ],
   "source": [
    "tensor = torch.rand(3,4)\n",
    "\n",
    "print(f'Shape of tensor: {tensor.shape}')\n",
    "print(f'Datatype of tensor: {tensor.dtype}')\n",
    "print(f'Device tensor is stored on: {tensor.device}')"
   ]
  },
  {
   "cell_type": "markdown",
   "id": "f67bbeff",
   "metadata": {},
   "source": [
    "<b>속성 변경</b>\n",
    "- reshape이 numpy, TensorFlow에서도 모두 사용되는 문법이니 보통 view보다는 reshape 씀\n",
    "- reshape과 view의 차이점\n",
    "  - reshape : original과 분리되는 copy를 만들기도 하고 original 값까지 바꾸는 view를 만들기도 함 (랜덤)\n",
    "  - view : 현재 생성한 것의 특정 값 바꾸면 original 값까지 바뀜"
   ]
  },
  {
   "cell_type": "code",
   "execution_count": 25,
   "id": "580db2ee",
   "metadata": {},
   "outputs": [
    {
     "name": "stdout",
     "output_type": "stream",
     "text": [
      "Shape of tensor: torch.Size([4, 3])\n",
      "Datatype of tensor: torch.int32\n",
      "Device tensor is stored on: cpu\n"
     ]
    }
   ],
   "source": [
    "tensor = tensor.reshape(4,3)\n",
    "#tensor = tensor.view(4,3)\n",
    "\n",
    "# type 변경\n",
    "tensor = tensor.int()\n",
    "\n",
    "# device 변경\n",
    "# cuda : GPU로 변경\n",
    "if torch.cuda.is_available():\n",
    "    tensor = tensor.to('cuda')\n",
    "\n",
    "print(f'Shape of tensor: {tensor.shape}')\n",
    "print(f'Datatype of tensor: {tensor.dtype}')\n",
    "print(f'Device tensor is stored on: {tensor.device}')"
   ]
  },
  {
   "cell_type": "markdown",
   "id": "cca941ae",
   "metadata": {},
   "source": [
    "### 2.5 Indexing과 Slicing"
   ]
  },
  {
   "cell_type": "code",
   "execution_count": 26,
   "id": "ee49eb66",
   "metadata": {},
   "outputs": [
    {
     "name": "stdout",
     "output_type": "stream",
     "text": [
      "tensor([[ 1,  2,  3,  4],\n",
      "        [ 5,  6,  7,  8],\n",
      "        [ 9, 10, 11, 12]])\n"
     ]
    }
   ],
   "source": [
    "a = torch.arange(1,13).reshape(3,4)\n",
    "print(a)"
   ]
  },
  {
   "cell_type": "markdown",
   "id": "7eccbe64",
   "metadata": {},
   "source": [
    "indexing"
   ]
  },
  {
   "cell_type": "code",
   "execution_count": 27,
   "id": "105ed4af",
   "metadata": {},
   "outputs": [
    {
     "name": "stdout",
     "output_type": "stream",
     "text": [
      "tensor([5, 6, 7, 8])\n",
      "tensor(4)\n"
     ]
    }
   ],
   "source": [
    "print(a[1])\n",
    "print(a[0,-1])"
   ]
  },
  {
   "cell_type": "markdown",
   "id": "adcb061f",
   "metadata": {},
   "source": [
    "slicing"
   ]
  },
  {
   "cell_type": "code",
   "execution_count": 28,
   "id": "839a983d",
   "metadata": {},
   "outputs": [
    {
     "name": "stdout",
     "output_type": "stream",
     "text": [
      "tensor([[5, 6, 7, 8]])\n",
      "tensor([[3, 4],\n",
      "        [7, 8]])\n"
     ]
    }
   ],
   "source": [
    "print(a[1:-1])\n",
    "print(a[:2,2:])"
   ]
  },
  {
   "cell_type": "markdown",
   "id": "4c2e6fbf",
   "metadata": {},
   "source": [
    "### 2.6 Transpose\n",
    "\n",
    "numpy, TensorFlow, Pytorch 세 개가 모두 다른 부분"
   ]
  },
  {
   "cell_type": "code",
   "execution_count": 29,
   "id": "719f179d",
   "metadata": {},
   "outputs": [
    {
     "name": "stdout",
     "output_type": "stream",
     "text": [
      "tensor([[[ 0,  1,  2,  3],\n",
      "         [ 4,  5,  6,  7]],\n",
      "\n",
      "        [[ 8,  9, 10, 11],\n",
      "         [12, 13, 14, 15]]]) torch.Size([2, 2, 4])\n"
     ]
    }
   ],
   "source": [
    "a = torch.arange(16).reshape(2,2,4)\n",
    "print(a, a.shape)"
   ]
  },
  {
   "cell_type": "markdown",
   "id": "ea589b22",
   "metadata": {},
   "source": [
    "transpose : numpy의 swap과 같음"
   ]
  },
  {
   "cell_type": "code",
   "execution_count": 30,
   "id": "3c810979",
   "metadata": {},
   "outputs": [
    {
     "name": "stdout",
     "output_type": "stream",
     "text": [
      "tensor([[[ 0,  4],\n",
      "         [ 1,  5],\n",
      "         [ 2,  6],\n",
      "         [ 3,  7]],\n",
      "\n",
      "        [[ 8, 12],\n",
      "         [ 9, 13],\n",
      "         [10, 14],\n",
      "         [11, 15]]]) torch.Size([2, 4, 2])\n"
     ]
    }
   ],
   "source": [
    "b = a.transpose(1,2)\n",
    "print(b, b.shape)"
   ]
  },
  {
   "cell_type": "markdown",
   "id": "a7db8ef0",
   "metadata": {},
   "source": [
    "permute : tensorflow의 transpose와 같음"
   ]
  },
  {
   "cell_type": "code",
   "execution_count": 31,
   "id": "e83048e0",
   "metadata": {},
   "outputs": [
    {
     "name": "stdout",
     "output_type": "stream",
     "text": [
      "tensor([[[ 0,  4],\n",
      "         [ 8, 12]],\n",
      "\n",
      "        [[ 1,  5],\n",
      "         [ 9, 13]],\n",
      "\n",
      "        [[ 2,  6],\n",
      "         [10, 14]],\n",
      "\n",
      "        [[ 3,  7],\n",
      "         [11, 15]]]) torch.Size([4, 2, 2])\n"
     ]
    }
   ],
   "source": [
    "c = a.permute((2,0,1))\n",
    "print(c, c.shape)"
   ]
  },
  {
   "cell_type": "markdown",
   "id": "71cb8e36",
   "metadata": {},
   "source": [
    "### 2.7 Tensor 연산\n",
    "\n",
    "numpy, TensorFlow, Pytorch 간 차이 없음"
   ]
  },
  {
   "cell_type": "code",
   "execution_count": 32,
   "id": "c419e46b",
   "metadata": {},
   "outputs": [
    {
     "name": "stdout",
     "output_type": "stream",
     "text": [
      "tensor([[1., 2.],\n",
      "        [3., 4.]])\n",
      "tensor([[5., 6.],\n",
      "        [7., 8.]])\n"
     ]
    }
   ],
   "source": [
    "x = torch.tensor([[1,2],[3,4]], dtype=torch.float32)\n",
    "y = torch.tensor([[5,6],[7,8]], dtype=torch.float32)\n",
    "print(x)\n",
    "print(y)"
   ]
  },
  {
   "cell_type": "code",
   "execution_count": 33,
   "id": "a768a7f7",
   "metadata": {},
   "outputs": [
    {
     "name": "stdout",
     "output_type": "stream",
     "text": [
      "tensor([[ 6.,  8.],\n",
      "        [10., 12.]])\n",
      "tensor([[-4., -4.],\n",
      "        [-4., -4.]])\n",
      "tensor([[ 5., 12.],\n",
      "        [21., 32.]])\n",
      "tensor([[0.2000, 0.3333],\n",
      "        [0.4286, 0.5000]])\n",
      "tensor([[19., 22.],\n",
      "        [43., 50.]])\n",
      "==============================\n",
      "tensor([[ 6.,  8.],\n",
      "        [10., 12.]])\n",
      "tensor([[-4., -4.],\n",
      "        [-4., -4.]])\n",
      "tensor([[ 5., 12.],\n",
      "        [21., 32.]])\n",
      "tensor([[0.2000, 0.3333],\n",
      "        [0.4286, 0.5000]])\n",
      "tensor([[19., 22.],\n",
      "        [43., 50.]])\n"
     ]
    }
   ],
   "source": [
    "print(x + y)\n",
    "print(x - y)\n",
    "print(x * y)\n",
    "print(x / y)\n",
    "print(x @ y)\n",
    "print(\"=\"*30)\n",
    "print(torch.add(x,y))\n",
    "print(torch.subtract(x,y))\n",
    "print(torch.multiply(x,y))\n",
    "print(torch.divide(x,y))\n",
    "print(torch.matmul(x,y))"
   ]
  },
  {
   "cell_type": "markdown",
   "id": "4110fa74",
   "metadata": {},
   "source": [
    "<b>pytorch에는 in-place 연산이라는 것 있음</b>\n",
    "- torch.add(x,y)가 아닌 x.add(y)라고 쓸 수 있음\n",
    "- 이때, x 값은 변하지 않음\n",
    "- 그런데 x.add_(y)라고 하면 inplace 되어서 x 값도 덧셈 결과로 변경됨\n",
    "- x. 입력하고 tab 해보면 여러 가지 연산 볼 수 있는데, 그 중 add_ 처럼 'underbar(\\_)' 붙은 건 inplace 연산"
   ]
  },
  {
   "cell_type": "code",
   "execution_count": 34,
   "id": "21d407d6",
   "metadata": {},
   "outputs": [
    {
     "name": "stdout",
     "output_type": "stream",
     "text": [
      "tensor([[ 6.,  8.],\n",
      "        [10., 12.]])\n",
      "tensor([[1., 2.],\n",
      "        [3., 4.]])\n",
      "tensor([[ 6.,  8.],\n",
      "        [10., 12.]])\n",
      "tensor([[ 6.,  8.],\n",
      "        [10., 12.]])\n"
     ]
    }
   ],
   "source": [
    "print(x.add(y))\n",
    "print(x)\n",
    "print(x.add_(y))\n",
    "print(x)"
   ]
  },
  {
   "cell_type": "code",
   "execution_count": 35,
   "id": "56f5e5f0",
   "metadata": {},
   "outputs": [
    {
     "name": "stdout",
     "output_type": "stream",
     "text": [
      "tensor([[ 1,  2,  3,  4,  5],\n",
      "        [ 6,  7,  8,  9, 10]])\n"
     ]
    }
   ],
   "source": [
    "z = torch.arange(1,11).reshape(2,5)\n",
    "print(z)"
   ]
  },
  {
   "cell_type": "markdown",
   "id": "43b9dae5",
   "metadata": {},
   "source": [
    "axis = ?\n",
    "- 해당하는 축이 사라지는 방향으로 연산 (sum)"
   ]
  },
  {
   "cell_type": "code",
   "execution_count": 36,
   "id": "dfb71e9c",
   "metadata": {},
   "outputs": [
    {
     "name": "stdout",
     "output_type": "stream",
     "text": [
      "tensor([ 7,  9, 11, 13, 15]) torch.Size([5])\n",
      "tensor([15, 40]) torch.Size([2])\n",
      "tensor([15, 40]) torch.Size([2])\n"
     ]
    }
   ],
   "source": [
    "sum1 = torch.sum(z, axis=0)\n",
    "sum2 = torch.sum(z, axis=1)\n",
    "sum3 = torch.sum(z, axis=-1)\n",
    "print(sum1, sum1.shape)\n",
    "print(sum2, sum2.shape)\n",
    "print(sum3, sum3.shape)"
   ]
  },
  {
   "cell_type": "markdown",
   "id": "cd3b4fd6",
   "metadata": {},
   "source": [
    "<b>concat & stack</b>\n",
    "- stack : 새로운 축을 생성"
   ]
  },
  {
   "cell_type": "code",
   "execution_count": 37,
   "id": "fc2e9402",
   "metadata": {},
   "outputs": [
    {
     "name": "stdout",
     "output_type": "stream",
     "text": [
      "tensor([[ 0,  1,  2,  3,  4,  5],\n",
      "        [ 6,  7,  8,  9, 10, 11],\n",
      "        [12, 13, 14, 15, 16, 17],\n",
      "        [18, 19, 20, 21, 22, 23]]) torch.Size([4, 6])\n",
      "tensor([[ 0,  1,  2,  3,  4,  5],\n",
      "        [ 6,  7,  8,  9, 10, 11],\n",
      "        [12, 13, 14, 15, 16, 17],\n",
      "        [18, 19, 20, 21, 22, 23]]) torch.Size([4, 6])\n"
     ]
    }
   ],
   "source": [
    "a = torch.arange(24).reshape(4,6)\n",
    "b = a.clone().detach()\n",
    "print(a, a.shape)\n",
    "print(b, b.shape)"
   ]
  },
  {
   "cell_type": "code",
   "execution_count": 38,
   "id": "c22ff214",
   "metadata": {},
   "outputs": [
    {
     "name": "stdout",
     "output_type": "stream",
     "text": [
      "tensor([[ 0,  1,  2,  3,  4,  5],\n",
      "        [ 6,  7,  8,  9, 10, 11],\n",
      "        [12, 13, 14, 15, 16, 17],\n",
      "        [18, 19, 20, 21, 22, 23],\n",
      "        [ 0,  1,  2,  3,  4,  5],\n",
      "        [ 6,  7,  8,  9, 10, 11],\n",
      "        [12, 13, 14, 15, 16, 17],\n",
      "        [18, 19, 20, 21, 22, 23]]) torch.Size([8, 6])\n"
     ]
    }
   ],
   "source": [
    "c = torch.cat([a,b], axis=0)\n",
    "print(c, c.shape)"
   ]
  },
  {
   "cell_type": "code",
   "execution_count": 39,
   "id": "addca136",
   "metadata": {},
   "outputs": [
    {
     "name": "stdout",
     "output_type": "stream",
     "text": [
      "tensor([[ 0,  1,  2,  3,  4,  5,  0,  1,  2,  3,  4,  5],\n",
      "        [ 6,  7,  8,  9, 10, 11,  6,  7,  8,  9, 10, 11],\n",
      "        [12, 13, 14, 15, 16, 17, 12, 13, 14, 15, 16, 17],\n",
      "        [18, 19, 20, 21, 22, 23, 18, 19, 20, 21, 22, 23]]) torch.Size([4, 12])\n"
     ]
    }
   ],
   "source": [
    "c = torch.cat([a,b], axis=-1)\n",
    "print(c, c.shape)"
   ]
  },
  {
   "cell_type": "markdown",
   "id": "d8d7edce",
   "metadata": {},
   "source": [
    "stack : axis=0 → 0번 자리에 축 추가"
   ]
  },
  {
   "cell_type": "code",
   "execution_count": 40,
   "id": "0e33dd1a",
   "metadata": {},
   "outputs": [
    {
     "name": "stdout",
     "output_type": "stream",
     "text": [
      "tensor([[[ 0,  1,  2,  3,  4,  5],\n",
      "         [ 6,  7,  8,  9, 10, 11],\n",
      "         [12, 13, 14, 15, 16, 17],\n",
      "         [18, 19, 20, 21, 22, 23]],\n",
      "\n",
      "        [[ 0,  1,  2,  3,  4,  5],\n",
      "         [ 6,  7,  8,  9, 10, 11],\n",
      "         [12, 13, 14, 15, 16, 17],\n",
      "         [18, 19, 20, 21, 22, 23]]]) torch.Size([2, 4, 6])\n"
     ]
    }
   ],
   "source": [
    "d = torch.stack([a,b], axis=0)\n",
    "print(d, d.shape)"
   ]
  },
  {
   "cell_type": "markdown",
   "id": "d5b858c6",
   "metadata": {},
   "source": [
    "stack : axis=-1 → -1번 자리에 축 추가"
   ]
  },
  {
   "cell_type": "code",
   "execution_count": 41,
   "id": "6715c448",
   "metadata": {},
   "outputs": [
    {
     "name": "stdout",
     "output_type": "stream",
     "text": [
      "tensor([[[ 0,  0],\n",
      "         [ 1,  1],\n",
      "         [ 2,  2],\n",
      "         [ 3,  3],\n",
      "         [ 4,  4],\n",
      "         [ 5,  5]],\n",
      "\n",
      "        [[ 6,  6],\n",
      "         [ 7,  7],\n",
      "         [ 8,  8],\n",
      "         [ 9,  9],\n",
      "         [10, 10],\n",
      "         [11, 11]],\n",
      "\n",
      "        [[12, 12],\n",
      "         [13, 13],\n",
      "         [14, 14],\n",
      "         [15, 15],\n",
      "         [16, 16],\n",
      "         [17, 17]],\n",
      "\n",
      "        [[18, 18],\n",
      "         [19, 19],\n",
      "         [20, 20],\n",
      "         [21, 21],\n",
      "         [22, 22],\n",
      "         [23, 23]]]) torch.Size([4, 6, 2])\n"
     ]
    }
   ],
   "source": [
    "d = torch.stack([a,b], axis=-1)\n",
    "print(d, d.shape)"
   ]
  },
  {
   "cell_type": "markdown",
   "id": "885a9fe7",
   "metadata": {},
   "source": [
    "---\n",
    "# Dataset / Dataloader\n",
    "\n",
    "- Data를 처리하여 model에 공급하는 방법으로 Pytorch에서는 Dataset과 DataLoader 제공\n",
    "- Dataset : data & label 저장\n",
    "- DataLoader : Dataset을 model에 공급할 수 있도록 iterable 객체로 감싸줌"
   ]
  },
  {
   "cell_type": "markdown",
   "id": "93938a72",
   "metadata": {},
   "source": [
    "## 1. FashionMNIST data 불러오기"
   ]
  },
  {
   "cell_type": "code",
   "execution_count": 42,
   "id": "325eb127",
   "metadata": {},
   "outputs": [],
   "source": [
    "import numpy as np\n",
    "\n",
    "from torch.utils.data import Dataset, DataLoader\n",
    "import torchvision.transforms as tr"
   ]
  },
  {
   "cell_type": "code",
   "execution_count": 43,
   "id": "9d6e17de",
   "metadata": {},
   "outputs": [],
   "source": [
    "training_data = datasets.FashionMNIST(\n",
    "    root='data',\n",
    "    train=True,\n",
    "    download=True,\n",
    "    transform=ToTensor()  # tensor로 바꿈 & FashionMNIST를 255로 나눠서 0~1 사이 값으로 scaling\n",
    ")\n",
    "\n",
    "test_data = datasets.FashionMNIST(\n",
    "    root='data',\n",
    "    train=False,\n",
    "    download=True,\n",
    "    transform=ToTensor()\n",
    ")"
   ]
  },
  {
   "cell_type": "markdown",
   "id": "dcdd0dc4",
   "metadata": {},
   "source": [
    "## 2. 데이터 시각화"
   ]
  },
  {
   "cell_type": "code",
   "execution_count": 44,
   "id": "efe99358",
   "metadata": {},
   "outputs": [
    {
     "data": {
      "image/png": "[encoded data removed]",
      "text/plain": [
       "<Figure size 576x576 with 9 Axes>"
      ]
     },
     "metadata": {
      "needs_background": "light"
     },
     "output_type": "display_data"
    }
   ],
   "source": [
    "labels_map = {\n",
    "    0: 'T-Shirt',\n",
    "    1: 'Trouser',\n",
    "    2: 'Pullover',\n",
    "    3: 'Dress',\n",
    "    4: 'Coat',\n",
    "    5: 'Sandal',\n",
    "    6: 'Shirt',\n",
    "    7: 'Sneaker',\n",
    "    8: 'Bag',\n",
    "    9: 'Ankle Boot'\n",
    "}\n",
    "figure = plt.figure(figsize=(8,8))\n",
    "cols, rows = 3,3\n",
    "\n",
    "# 랜덤하게 9개를 골라서 해당 index에 해당하는 training_data 출력\n",
    "for i in range(1, cols*rows+1):\n",
    "    sample_idx = torch.randint(len(training_data), size=(1,)).item()\n",
    "    img, label = training_data[sample_idx]\n",
    "    figure.add_subplot(rows, cols, i)\n",
    "    plt.title(labels_map[label])\n",
    "    plt.axis('off')\n",
    "    plt.imshow(img.squeeze(), cmap='gray')\n",
    "plt.show()"
   ]
  },
  {
   "cell_type": "markdown",
   "id": "9de96220",
   "metadata": {},
   "source": [
    "## 3. DataLoader 만들기"
   ]
  },
  {
   "cell_type": "code",
   "execution_count": 45,
   "id": "565a09bc",
   "metadata": {},
   "outputs": [],
   "source": [
    "train_dataloader = DataLoader(training_data, batch_size=64, shuffle=True)\n",
    "test_dataloader = DataLoader(test_data, batch_size=64, shuffle=False)"
   ]
  },
  {
   "cell_type": "markdown",
   "id": "973bc986",
   "metadata": {},
   "source": [
    "DataLoader를 통해 반복하기 (iterate)</br>\n",
    "이미지와 정답(label) 표시\n",
    "- .size()와 .shape은 동일한 의미 (어떤 걸 써도 상관 없음)\n",
    "- squeeze()\n",
    "  - 지금 data shape이 앞에 channel이 들어가 있음\n",
    "  - TensorFlow에서는 (28,28)으로 되어 있었는데, 여기서는 (1,28,28)\n",
    "  - 그런데 grayscale 이미지 볼 때는 channel이 없어야 됨\n",
    "  - 이걸 없애 주는 역할이 squeeze()"
   ]
  },
  {
   "cell_type": "code",
   "execution_count": 46,
   "id": "d1485ea9",
   "metadata": {},
   "outputs": [
    {
     "name": "stdout",
     "output_type": "stream",
     "text": [
      "Feature batch shape: torch.Size([64, 1, 28, 28])\n",
      "Labels batch shape: torch.Size([64])\n"
     ]
    },
    {
     "data": {
      "image/png": "[encoded data removed]",
      "text/plain": [
       "<Figure size 432x288 with 1 Axes>"
      ]
     },
     "metadata": {
      "needs_background": "light"
     },
     "output_type": "display_data"
    },
    {
     "name": "stdout",
     "output_type": "stream",
     "text": [
      "Label: 8\n"
     ]
    }
   ],
   "source": [
    "train_features, train_labels = next(iter(train_dataloader))\n",
    "print(f'Feature batch shape: {train_features.size()}')\n",
    "print(f'Labels batch shape: {train_labels.size()}')\n",
    "\n",
    "img = train_features[0].squeeze()\n",
    "label = train_labels[0]\n",
    "plt.imshow(img, cmap='gray')\n",
    "plt.show()\n",
    "print(f'Label: {label}')"
   ]
  },
  {
   "cell_type": "markdown",
   "id": "1c0108ae",
   "metadata": {},
   "source": [
    "## 4. Custom Dataset, Data Loader 만들기"
   ]
  },
  {
   "cell_type": "markdown",
   "id": "d23dd10a",
   "metadata": {},
   "source": [
    "### 간단한 Custom Dataset/Transform/DataLoader 만들기"
   ]
  },
  {
   "cell_type": "code",
   "execution_count": 47,
   "id": "5ad11a76",
   "metadata": {},
   "outputs": [],
   "source": [
    "class CustomDataset(Dataset):\n",
    "    # np_data : numpy data라고 가정\n",
    "    # transform : 전처리할 때 필요한 transform\n",
    "    def __init__(self, np_data, transform=None):\n",
    "        self.data = np_data\n",
    "        self.transform = transform\n",
    "        self.len = np_data.shape[0]  # data 개수\n",
    "    \n",
    "    def __len__(self):\n",
    "        return self.len\n",
    "    \n",
    "    # index에 해당하는 data를 return\n",
    "    # 만약 transform이 있으면, transform 적용해서 return\n",
    "    def __getitem__(self, idx):\n",
    "        sample = self.data[idx]\n",
    "        if self.transform:\n",
    "            sample = self.transform(sample)\n",
    "        return sample"
   ]
  },
  {
   "cell_type": "markdown",
   "id": "ea025822",
   "metadata": {},
   "source": [
    "<b>전처리로 사용할 함수</b>\n",
    "- TensorFlow에서 tf.square와 같은 역할"
   ]
  },
  {
   "cell_type": "code",
   "execution_count": 48,
   "id": "7940e141",
   "metadata": {},
   "outputs": [],
   "source": [
    "def square(sample):\n",
    "    return sample**2"
   ]
  },
  {
   "cell_type": "markdown",
   "id": "d8d97c8f",
   "metadata": {},
   "source": [
    "transform 자리에 입력할 때\n",
    "- 그냥 넣으면 안 되고 tr.Comopose()로 변환해 줘야 함\n",
    "- 여러 개를 넣을 수도 있음\n",
    "  - tr.Compose([square, xxx])"
   ]
  },
  {
   "cell_type": "code",
   "execution_count": 49,
   "id": "aa8d20cb",
   "metadata": {},
   "outputs": [],
   "source": [
    "trans = tr.Compose([square])"
   ]
  },
  {
   "cell_type": "markdown",
   "id": "c1b92283",
   "metadata": {},
   "source": [
    "data에는 0~9 숫자를 입력해라"
   ]
  },
  {
   "cell_type": "code",
   "execution_count": 50,
   "id": "daf7873d",
   "metadata": {},
   "outputs": [],
   "source": [
    "np_data = np.arange(10)"
   ]
  },
  {
   "cell_type": "markdown",
   "id": "d61a925f",
   "metadata": {},
   "source": [
    "각각을 모두 제곱해라"
   ]
  },
  {
   "cell_type": "code",
   "execution_count": 51,
   "id": "aecf21a4",
   "metadata": {},
   "outputs": [],
   "source": [
    "custom_dataset = CustomDataset(np_data, transform=trans)"
   ]
  },
  {
   "cell_type": "code",
   "execution_count": 52,
   "id": "2f6e60dc",
   "metadata": {},
   "outputs": [],
   "source": [
    "custom_dataloader = DataLoader(custom_dataset, batch_size=2, shuffle=True)"
   ]
  },
  {
   "cell_type": "code",
   "execution_count": 53,
   "id": "88a911ec",
   "metadata": {},
   "outputs": [
    {
     "name": "stdout",
     "output_type": "stream",
     "text": [
      "tensor([49, 64], dtype=torch.int32)\n",
      "tensor([36,  0], dtype=torch.int32)\n",
      "tensor([9, 1], dtype=torch.int32)\n",
      "tensor([16,  4], dtype=torch.int32)\n",
      "tensor([81, 25], dtype=torch.int32)\n",
      "==============================\n",
      "tensor([25,  1], dtype=torch.int32)\n",
      "tensor([0, 9], dtype=torch.int32)\n",
      "tensor([36, 16], dtype=torch.int32)\n",
      "tensor([81, 49], dtype=torch.int32)\n",
      "tensor([ 4, 64], dtype=torch.int32)\n",
      "==============================\n",
      "tensor([25, 16], dtype=torch.int32)\n",
      "tensor([36,  4], dtype=torch.int32)\n",
      "tensor([49, 81], dtype=torch.int32)\n",
      "tensor([64,  0], dtype=torch.int32)\n",
      "tensor([1, 9], dtype=torch.int32)\n",
      "==============================\n"
     ]
    }
   ],
   "source": [
    "for _ in range(3):\n",
    "    for data in custom_dataloader:\n",
    "        print(data)\n",
    "    print(\"=\"*30)"
   ]
  },
  {
   "cell_type": "markdown",
   "id": "8a0465de",
   "metadata": {},
   "source": [
    "---\n",
    "# Model"
   ]
  },
  {
   "cell_type": "markdown",
   "id": "c90825b8",
   "metadata": {},
   "source": [
    "### device 설정\n",
    "\n",
    "- CPU/GPU 중 결정\n",
    "- 'cuda' 사용이 가능하면 GPU"
   ]
  },
  {
   "cell_type": "code",
   "execution_count": 54,
   "id": "8022d57e",
   "metadata": {},
   "outputs": [
    {
     "name": "stdout",
     "output_type": "stream",
     "text": [
      "Using cpu device\n"
     ]
    }
   ],
   "source": [
    "device = 'cuda' if torch.cuda.is_available() else 'cpu'\n",
    "print('Using {} device'.format(device))"
   ]
  },
  {
   "cell_type": "markdown",
   "id": "14d726f1",
   "metadata": {},
   "source": [
    "## 1. Model Class 만들기\n",
    "\n",
    "- TensorFlow는 Model 만들기에 세 가지 방법을 사용하지만, Pytorch는 공식적으로 이렇게 class를 활용한 모델 만들기를 권장"
   ]
  },
  {
   "cell_type": "code",
   "execution_count": 55,
   "id": "7714d199",
   "metadata": {},
   "outputs": [],
   "source": [
    "class NeuralNetwork(nn.Module):\n",
    "    def __init__(self):\n",
    "        super(NeuralNetwork, self).__init__()\n",
    "        self.flatten = nn.Flatten()  # 28×28을 vector로 펴기\n",
    "        # 하나씩 지정해도 되지만\n",
    "        # nn.Sequential을 사용하면, 한 번에 묶어서 쓰면 되서 편함\n",
    "        self.linear_relu_stack = nn.Sequential(\n",
    "            # Pytorch - nn.Linear : TensorFlow의 Dense Layer와 같은 역할\n",
    "            # Dense Layer와 달리 nn.Linear에서는 28*28 input을 명시함\n",
    "            nn.Linear(28*28, 128),\n",
    "            nn.ReLU(),\n",
    "            nn.Dropout(0.2),\n",
    "            nn.Linear(128,10)\n",
    "            # TensorFlow에서는 마지막에 softmax 쓰지만, 여기서는 안 씀\n",
    "            # 나중에 Loss 계산할 때, softmax 쓸 거기 때문에 여기서는 빠져있음\n",
    "        )\n",
    "    \n",
    "    # TensorFlow의 call method와 같은 기능\n",
    "    def forward(self, x):\n",
    "        x = self.flatten(x)\n",
    "        logits = self.linear_relu_stack(x)\n",
    "        return logits    "
   ]
  },
  {
   "cell_type": "markdown",
   "id": "95c9adb3",
   "metadata": {},
   "source": [
    "Model instance 생성, device 설정"
   ]
  },
  {
   "cell_type": "code",
   "execution_count": 56,
   "id": "1f12635e",
   "metadata": {},
   "outputs": [
    {
     "name": "stdout",
     "output_type": "stream",
     "text": [
      "NeuralNetwork(\n",
      "  (flatten): Flatten(start_dim=1, end_dim=-1)\n",
      "  (linear_relu_stack): Sequential(\n",
      "    (0): Linear(in_features=784, out_features=128, bias=True)\n",
      "    (1): ReLU()\n",
      "    (2): Dropout(p=0.2, inplace=False)\n",
      "    (3): Linear(in_features=128, out_features=10, bias=True)\n",
      "  )\n",
      ")\n"
     ]
    }
   ],
   "source": [
    "model = NeuralNetwork().to(device)\n",
    "print(model)"
   ]
  },
  {
   "cell_type": "markdown",
   "id": "b55c81f9",
   "metadata": {},
   "source": [
    "가상의 data 만들어서 예측해보기"
   ]
  },
  {
   "cell_type": "code",
   "execution_count": 57,
   "id": "e08611a0",
   "metadata": {},
   "outputs": [
    {
     "name": "stdout",
     "output_type": "stream",
     "text": [
      "Predicted class: tensor([7])\n"
     ]
    }
   ],
   "source": [
    "X = torch.rand(1,28,28,device=device)\n",
    "logits = model(X)\n",
    "pred_prob = nn.Softmax(dim=1)(logits)\n",
    "y_pred = pred_prob.argmax(1)\n",
    "print(f'Predicted class: {y_pred}')"
   ]
  },
  {
   "cell_type": "markdown",
   "id": "d6b63b7e",
   "metadata": {},
   "source": [
    "## 2. Training / Validation"
   ]
  },
  {
   "cell_type": "markdown",
   "id": "2f3eeb21",
   "metadata": {},
   "source": [
    "### 2.1 Loss Function\n",
    "- 손실 함수 초기화"
   ]
  },
  {
   "cell_type": "code",
   "execution_count": 58,
   "id": "5cf4ced7",
   "metadata": {},
   "outputs": [],
   "source": [
    "loss_fn = nn.CrossEntropyLoss()"
   ]
  },
  {
   "cell_type": "markdown",
   "id": "ae9fa09a",
   "metadata": {},
   "source": [
    "### 2.2 Optimizer\n",
    "\n",
    "- optimizer : weight, bias update\n",
    "- model.parameters() : 모델의 parameter들을 미분하고 update 해라"
   ]
  },
  {
   "cell_type": "code",
   "execution_count": 59,
   "id": "f60e96ce",
   "metadata": {},
   "outputs": [],
   "source": [
    "learning_rate = 1e-3\n",
    "optimizer = torch.optim.Adam(model.parameters(), lr=learning_rate)"
   ]
  },
  {
   "cell_type": "markdown",
   "id": "b0c79faa",
   "metadata": {},
   "source": [
    "### 2.3 Training / Validation(Test) Function"
   ]
  },
  {
   "cell_type": "markdown",
   "id": "3b7c5173",
   "metadata": {},
   "source": [
    "Training을 위한 함수"
   ]
  },
  {
   "cell_type": "code",
   "execution_count": 63,
   "id": "a50c8a1a",
   "metadata": {},
   "outputs": [],
   "source": [
    "def train_loop(dataloader, model, loss_fn, optimizer):\n",
    "    size = len(dataloader.dataset)  # 전체 data 개수 (6만개)\n",
    "    # 6만 개 데이터를 batch 단위(64)로 나눠 학습\n",
    "    # 이게 한 번 돌면 한 epoch이 끝난 것\n",
    "    for batch, (X, y) in enumerate(dataloader):\n",
    "        # X : 이미지, y : label\n",
    "        # device에서 GPU로 보냄\n",
    "        X, y = X.to(device), y.to(device)\n",
    "        # 예측(prediction)과 손실(loss) 계산\n",
    "        pred = model(X)\n",
    "        loss = loss_fn(pred,y)\n",
    "        \n",
    "        # 역전파\n",
    "        # zero_grad() : gradient가 남아있는 것 clean 해줌\n",
    "        optimizer.zero_grad()\n",
    "        loss.backward()   # gradient 생성 (backpropagation)\n",
    "        optimizer.step()  # optimizer에서 weight, bias update\n",
    "        \n",
    "        # batch가 100번 돌 때마다 화면에 출력\n",
    "        if batch % 100 == 0:\n",
    "            loss, current = loss.item(), batch * len(X)\n",
    "            print(f'loss: {loss:>7f} [{current:>5d}/{size:>5d}]')"
   ]
  },
  {
   "cell_type": "markdown",
   "id": "42fc1c46",
   "metadata": {},
   "source": [
    "Test를 위한 함수"
   ]
  },
  {
   "cell_type": "code",
   "execution_count": 66,
   "id": "bd4afbe3",
   "metadata": {},
   "outputs": [],
   "source": [
    "def test_loop(dataloader, model, loss_fn):\n",
    "    size = len(dataloader.dataset)\n",
    "    \n",
    "    # 한 epoch에서 batch가 몇 번 들어가야 끝나는지 계산\n",
    "    num_batches = len(dataloader)\n",
    "    \n",
    "    test_loss, correct = 0, 0\n",
    "    \n",
    "    # with torch.no_grad():\n",
    "    # Gradient를 계산하지 않을 거라는 걸 알려주는 것\n",
    "    # 안 써도 되지만 memory 절약을 위해 쓰는 걸 권장\n",
    "    with torch.no_grad():\n",
    "        for X, y in dataloader:\n",
    "            X, y = X.to(device), y.to(device)\n",
    "            pred = model(X)\n",
    "            test_loss += loss_fn(pred, y).item()\n",
    "            # item() : torch tensor 중 0차원인 것(scalar 값인 것)은\n",
    "            # item()을 쓰면 바로 해당 숫자를 뽑아 줌\n",
    "            correct += (pred.argmax(1) == y).type(torch.float).sum().item()\n",
    "    \n",
    "    test_loss /= num_batches\n",
    "    correct /= size\n",
    "    print(f'Test Error: \\n Accuracy: {(100*correct):>0.1f}%, Avg loss: {test_loss:>8f} \\n')"
   ]
  },
  {
   "cell_type": "markdown",
   "id": "eb11dbaf",
   "metadata": {},
   "source": [
    "학습 진행하기"
   ]
  },
  {
   "cell_type": "code",
   "execution_count": 67,
   "id": "a3b1018e",
   "metadata": {},
   "outputs": [
    {
     "name": "stdout",
     "output_type": "stream",
     "text": [
      "Epoch 1\n",
      " ------------------------------\n",
      "loss: 0.493957 [    0/60000]\n",
      "loss: 0.332706 [ 6400/60000]\n",
      "loss: 0.607512 [12800/60000]\n",
      "loss: 0.326489 [19200/60000]\n",
      "loss: 0.414436 [25600/60000]\n",
      "loss: 0.381990 [32000/60000]\n",
      "loss: 0.428773 [38400/60000]\n",
      "loss: 0.425388 [44800/60000]\n",
      "loss: 0.415842 [51200/60000]\n",
      "loss: 0.308633 [57600/60000]\n",
      "Test Error: \n",
      " Accuracy: 85.2%, Avg loss: 0.426593 \n",
      "\n",
      "Epoch 2\n",
      " ------------------------------\n",
      "loss: 0.649881 [    0/60000]\n",
      "loss: 0.359434 [ 6400/60000]\n",
      "loss: 0.287935 [12800/60000]\n",
      "loss: 0.513347 [19200/60000]\n",
      "loss: 0.359240 [25600/60000]\n",
      "loss: 0.364250 [32000/60000]\n",
      "loss: 0.562118 [38400/60000]\n",
      "loss: 0.369292 [44800/60000]\n",
      "loss: 0.298844 [51200/60000]\n",
      "loss: 0.578522 [57600/60000]\n",
      "Test Error: \n",
      " Accuracy: 85.5%, Avg loss: 0.404454 \n",
      "\n",
      "Epoch 3\n",
      " ------------------------------\n",
      "loss: 0.327099 [    0/60000]\n",
      "loss: 0.365280 [ 6400/60000]\n",
      "loss: 0.278361 [12800/60000]\n",
      "loss: 0.454039 [19200/60000]\n",
      "loss: 0.446914 [25600/60000]\n",
      "loss: 0.303327 [32000/60000]\n",
      "loss: 0.299344 [38400/60000]\n",
      "loss: 0.177979 [44800/60000]\n",
      "loss: 0.439611 [51200/60000]\n",
      "loss: 0.450267 [57600/60000]\n",
      "Test Error: \n",
      " Accuracy: 84.9%, Avg loss: 0.409863 \n",
      "\n",
      "Epoch 4\n",
      " ------------------------------\n",
      "loss: 0.329279 [    0/60000]\n",
      "loss: 0.339565 [ 6400/60000]\n",
      "loss: 0.437470 [12800/60000]\n",
      "loss: 0.427719 [19200/60000]\n",
      "loss: 0.339435 [25600/60000]\n",
      "loss: 0.406687 [32000/60000]\n",
      "loss: 0.228726 [38400/60000]\n",
      "loss: 0.280688 [44800/60000]\n",
      "loss: 0.392133 [51200/60000]\n",
      "loss: 0.304154 [57600/60000]\n",
      "Test Error: \n",
      " Accuracy: 86.3%, Avg loss: 0.381690 \n",
      "\n",
      "Epoch 5\n",
      " ------------------------------\n",
      "loss: 0.223087 [    0/60000]\n",
      "loss: 0.357219 [ 6400/60000]\n",
      "loss: 0.421990 [12800/60000]\n",
      "loss: 0.374323 [19200/60000]\n",
      "loss: 0.182788 [25600/60000]\n",
      "loss: 0.443491 [32000/60000]\n",
      "loss: 0.293352 [38400/60000]\n",
      "loss: 0.427156 [44800/60000]\n",
      "loss: 0.296212 [51200/60000]\n",
      "loss: 0.220322 [57600/60000]\n",
      "Test Error: \n",
      " Accuracy: 86.7%, Avg loss: 0.369067 \n",
      "\n",
      "Epoch 6\n",
      " ------------------------------\n",
      "loss: 0.274693 [    0/60000]\n",
      "loss: 0.206467 [ 6400/60000]\n",
      "loss: 0.252469 [12800/60000]\n",
      "loss: 0.413437 [19200/60000]\n",
      "loss: 0.314722 [25600/60000]\n",
      "loss: 0.308483 [32000/60000]\n",
      "loss: 0.238547 [38400/60000]\n",
      "loss: 0.245863 [44800/60000]\n",
      "loss: 0.334234 [51200/60000]\n",
      "loss: 0.176185 [57600/60000]\n",
      "Test Error: \n",
      " Accuracy: 86.9%, Avg loss: 0.361281 \n",
      "\n",
      "Epoch 7\n",
      " ------------------------------\n",
      "loss: 0.300811 [    0/60000]\n",
      "loss: 0.266032 [ 6400/60000]\n",
      "loss: 0.297224 [12800/60000]\n",
      "loss: 0.380715 [19200/60000]\n",
      "loss: 0.369565 [25600/60000]\n",
      "loss: 0.272043 [32000/60000]\n",
      "loss: 0.239389 [38400/60000]\n",
      "loss: 0.283961 [44800/60000]\n",
      "loss: 0.533191 [51200/60000]\n",
      "loss: 0.300996 [57600/60000]\n",
      "Test Error: \n",
      " Accuracy: 86.9%, Avg loss: 0.364672 \n",
      "\n",
      "Epoch 8\n",
      " ------------------------------\n",
      "loss: 0.376076 [    0/60000]\n",
      "loss: 0.382517 [ 6400/60000]\n",
      "loss: 0.352880 [12800/60000]\n",
      "loss: 0.226997 [19200/60000]\n",
      "loss: 0.216452 [25600/60000]\n",
      "loss: 0.206467 [32000/60000]\n",
      "loss: 0.262382 [38400/60000]\n",
      "loss: 0.542589 [44800/60000]\n",
      "loss: 0.183665 [51200/60000]\n",
      "loss: 0.535684 [57600/60000]\n",
      "Test Error: \n",
      " Accuracy: 86.8%, Avg loss: 0.370418 \n",
      "\n",
      "Epoch 9\n",
      " ------------------------------\n",
      "loss: 0.277025 [    0/60000]\n",
      "loss: 0.308605 [ 6400/60000]\n",
      "loss: 0.284255 [12800/60000]\n",
      "loss: 0.322607 [19200/60000]\n",
      "loss: 0.152486 [25600/60000]\n",
      "loss: 0.132668 [32000/60000]\n",
      "loss: 0.172752 [38400/60000]\n",
      "loss: 0.235548 [44800/60000]\n",
      "loss: 0.356393 [51200/60000]\n",
      "loss: 0.353004 [57600/60000]\n",
      "Test Error: \n",
      " Accuracy: 87.5%, Avg loss: 0.355451 \n",
      "\n",
      "Epoch 10\n",
      " ------------------------------\n",
      "loss: 0.289446 [    0/60000]\n",
      "loss: 0.369513 [ 6400/60000]\n",
      "loss: 0.174273 [12800/60000]\n",
      "loss: 0.202112 [19200/60000]\n",
      "loss: 0.303298 [25600/60000]\n",
      "loss: 0.326399 [32000/60000]\n",
      "loss: 0.286739 [38400/60000]\n",
      "loss: 0.169342 [44800/60000]\n",
      "loss: 0.237515 [51200/60000]\n",
      "loss: 0.185817 [57600/60000]\n",
      "Test Error: \n",
      " Accuracy: 87.2%, Avg loss: 0.356376 \n",
      "\n",
      "Done!\n"
     ]
    }
   ],
   "source": [
    "epochs = 10\n",
    "for t in range(epochs):\n",
    "    print(f\"Epoch {t+1}\\n ------------------------------\")\n",
    "    train_loop(train_dataloader, model, loss_fn, optimizer)\n",
    "    test_loop(test_dataloader, model, loss_fn)\n",
    "print('Done!')"
   ]
  },
  {
   "cell_type": "markdown",
   "id": "d14f347e",
   "metadata": {},
   "source": [
    "## 3. Model save & restore\n",
    "\n",
    "- pytorch에서는 '.pth' 확장자 사용"
   ]
  },
  {
   "cell_type": "markdown",
   "id": "c3e70421",
   "metadata": {},
   "source": [
    "### 3.1 parameter만 저장하고 불러오기"
   ]
  },
  {
   "cell_type": "markdown",
   "id": "4411e790",
   "metadata": {},
   "source": [
    "학습된 model parameter 저장\n",
    "- state_dict() 라는 format으로 모델의 weight, bias 저장"
   ]
  },
  {
   "cell_type": "code",
   "execution_count": 68,
   "id": "d567314a",
   "metadata": {},
   "outputs": [],
   "source": [
    "torch.save(model.state_dict(), 'model_weights.pth')"
   ]
  },
  {
   "cell_type": "markdown",
   "id": "31096ee8",
   "metadata": {},
   "source": [
    "새 Model instance 생성, device 설정 (GPU)"
   ]
  },
  {
   "cell_type": "code",
   "execution_count": 69,
   "id": "73e99f38",
   "metadata": {},
   "outputs": [
    {
     "name": "stdout",
     "output_type": "stream",
     "text": [
      "NeuralNetwork(\n",
      "  (flatten): Flatten(start_dim=1, end_dim=-1)\n",
      "  (linear_relu_stack): Sequential(\n",
      "    (0): Linear(in_features=784, out_features=128, bias=True)\n",
      "    (1): ReLU()\n",
      "    (2): Dropout(p=0.2, inplace=False)\n",
      "    (3): Linear(in_features=128, out_features=10, bias=True)\n",
      "  )\n",
      ")\n"
     ]
    }
   ],
   "source": [
    "model2 = NeuralNetwork().to(device)\n",
    "print(model2)"
   ]
  },
  {
   "cell_type": "markdown",
   "id": "45f91356",
   "metadata": {},
   "source": [
    "<b>test</b>\n",
    "- eval() : training을 하는 게 아니라는 것을 모델에게 알려주는 것\n",
    "  - inference 할 때는 eval() 해주는 게 좋음\n",
    "- 학습이 하나도 안 된 상태니 정확도가 8.9%"
   ]
  },
  {
   "cell_type": "code",
   "execution_count": 73,
   "id": "c950f115",
   "metadata": {},
   "outputs": [
    {
     "name": "stdout",
     "output_type": "stream",
     "text": [
      "Test Error: \n",
      " Accuracy: 88.2%, Avg loss: 0.333184 \n",
      "\n"
     ]
    }
   ],
   "source": [
    "model2.eval()\n",
    "test_loop(test_dataloader, model2, loss_fn)"
   ]
  },
  {
   "cell_type": "markdown",
   "id": "8d82da74",
   "metadata": {},
   "source": [
    "저장한 parameter 불러오기 (weight, bias)"
   ]
  },
  {
   "cell_type": "code",
   "execution_count": 71,
   "id": "1175fc14",
   "metadata": {},
   "outputs": [
    {
     "data": {
      "text/plain": [
       "<All keys matched successfully>"
      ]
     },
     "execution_count": 71,
     "metadata": {},
     "output_type": "execute_result"
    }
   ],
   "source": [
    "model2.load_state_dict(torch.load('model_weights.pth'))"
   ]
  },
  {
   "cell_type": "markdown",
   "id": "ce8f62dd",
   "metadata": {},
   "source": [
    "<b>test</b>\n",
    "- 저장했던 weight, bias 적용\n",
    "- 정확도가 88.2%로 다시 올라감"
   ]
  },
  {
   "cell_type": "code",
   "execution_count": 72,
   "id": "7dabfa48",
   "metadata": {},
   "outputs": [
    {
     "name": "stdout",
     "output_type": "stream",
     "text": [
      "Test Error: \n",
      " Accuracy: 88.2%, Avg loss: 0.333184 \n",
      "\n"
     ]
    }
   ],
   "source": [
    "model2.eval()\n",
    "test_loop(test_dataloader, model2, loss_fn)"
   ]
  },
  {
   "cell_type": "markdown",
   "id": "85fb792b",
   "metadata": {},
   "source": [
    "### 3.2 Model 전체를 저장하고 불러오기"
   ]
  },
  {
   "cell_type": "markdown",
   "id": "e9b367ff",
   "metadata": {},
   "source": [
    "저장하기"
   ]
  },
  {
   "cell_type": "code",
   "execution_count": 74,
   "id": "2ed2dedf",
   "metadata": {},
   "outputs": [],
   "source": [
    "torch.save(model, 'model.pth')"
   ]
  },
  {
   "cell_type": "markdown",
   "id": "23cd744c",
   "metadata": {},
   "source": [
    "불러오기"
   ]
  },
  {
   "cell_type": "code",
   "execution_count": 75,
   "id": "24cdaea9",
   "metadata": {},
   "outputs": [],
   "source": [
    "model3 = torch.load('model.pth')"
   ]
  },
  {
   "cell_type": "markdown",
   "id": "c0d4748a",
   "metadata": {},
   "source": [
    "test"
   ]
  },
  {
   "cell_type": "code",
   "execution_count": 76,
   "id": "7b0c290e",
   "metadata": {},
   "outputs": [
    {
     "name": "stdout",
     "output_type": "stream",
     "text": [
      "Test Error: \n",
      " Accuracy: 88.2%, Avg loss: 0.333184 \n",
      "\n"
     ]
    }
   ],
   "source": [
    "model3.eval()\n",
    "test_loop(test_dataloader, model2, loss_fn)"
   ]
  },
  {
   "cell_type": "markdown",
   "id": "e2e1cb59",
   "metadata": {},
   "source": [
    "---\n",
    "# Tensorboard 사용하여 시각화하기"
   ]
  },
  {
   "cell_type": "markdown",
   "id": "041b4d82",
   "metadata": {},
   "source": [
    "### 1. Load the TensorBoard notebook extension"
   ]
  },
  {
   "cell_type": "code",
   "execution_count": 77,
   "id": "6710e9bf",
   "metadata": {},
   "outputs": [],
   "source": [
    "%load_ext tensorboard"
   ]
  },
  {
   "cell_type": "code",
   "execution_count": 78,
   "id": "9910e678",
   "metadata": {},
   "outputs": [],
   "source": [
    "from torch.utils.tensorboard import SummaryWriter\n",
    "\n",
    "writer = SummaryWriter('./logs/pytorch')"
   ]
  },
  {
   "cell_type": "markdown",
   "id": "40194475",
   "metadata": {},
   "source": [
    "### 2. 새 Model instance 생성, device 설정\n",
    "- 하나도 학습되지 않은 상태 → 정확도 : 11.7%"
   ]
  },
  {
   "cell_type": "code",
   "execution_count": 79,
   "id": "e8899f90",
   "metadata": {},
   "outputs": [
    {
     "name": "stdout",
     "output_type": "stream",
     "text": [
      "NeuralNetwork(\n",
      "  (flatten): Flatten(start_dim=1, end_dim=-1)\n",
      "  (linear_relu_stack): Sequential(\n",
      "    (0): Linear(in_features=784, out_features=128, bias=True)\n",
      "    (1): ReLU()\n",
      "    (2): Dropout(p=0.2, inplace=False)\n",
      "    (3): Linear(in_features=128, out_features=10, bias=True)\n",
      "  )\n",
      ")\n",
      "Test Error: \n",
      " Accuracy: 11.7%, Avg loss: 2.305897 \n",
      "\n"
     ]
    }
   ],
   "source": [
    "model4 = NeuralNetwork().to(device)\n",
    "print(model4)\n",
    "\n",
    "model4.eval()\n",
    "test_loop(test_dataloader, model4, loss_fn)"
   ]
  },
  {
   "cell_type": "markdown",
   "id": "40367225",
   "metadata": {},
   "source": [
    "### 3. Model의 구조를 tensorboard에 저장\n",
    "\n",
    "- 모델의 구조 저장하려면 입력이 한 개 필요\n",
    "- 랜덤하게 입력 X 만들기\n",
    "- writer에 add_graph()로 model과 입력 X 넣기\n",
    "- 모델이 tensorboard에 write 됨"
   ]
  },
  {
   "cell_type": "code",
   "execution_count": 80,
   "id": "257d3690",
   "metadata": {},
   "outputs": [],
   "source": [
    "X = torch.rand(1,28,28,device=device)\n",
    "writer.add_graph(model4,X)"
   ]
  },
  {
   "cell_type": "markdown",
   "id": "9aaa6127",
   "metadata": {},
   "source": [
    "### 4. 기타 필요한 것들 tensorboard에 저장\n",
    "\n",
    "- loss, accuracy 저장\n",
    "- weight, bias 의 histogram 저장"
   ]
  },
  {
   "cell_type": "code",
   "execution_count": 85,
   "id": "fc07be0a",
   "metadata": {},
   "outputs": [],
   "source": [
    "def train_loop(dataloader, model, loss_fn, optimizer):\n",
    "    size = len(dataloader.dataset)  # 전체 data 개수 (6만개)\n",
    "    model.train()\n",
    "    total_loss = 0.\n",
    "   \n",
    "    \n",
    "    for batch, (X, y) in enumerate(dataloader):\n",
    "        X, y = X.to(device), y.to(device)\n",
    "\n",
    "        # 예측(prediction)과 손실(loss) 계산\n",
    "        pred = model(X)\n",
    "        loss = loss_fn(pred,y)\n",
    "        \n",
    "        # 역전파\n",
    "        optimizer.zero_grad()\n",
    "        loss.backward()   # gradient 생성 (backpropagation)\n",
    "        optimizer.step()  # optimizer에서 weight, bias update\n",
    "        \n",
    "        # batch 단위 loss 계산\n",
    "        if batch % 100 == 0:\n",
    "            loss, current = loss.item(), batch * len(X)\n",
    "            print(f'loss: {loss:>7f} [{current:>5d}/{size:>5d}]')\n",
    "\n",
    "        # 전체 데이터의 loss 계산\n",
    "        # len(dataloader) : batch 가 몇 개 들어갔는지\n",
    "        total_loss += loss / len(dataloader)\n",
    "\n",
    "    return total_loss            "
   ]
  },
  {
   "cell_type": "code",
   "execution_count": 88,
   "id": "5c465b7e",
   "metadata": {},
   "outputs": [],
   "source": [
    "def test(dataloader, model, loss_fn):\n",
    "    size = len(dataloader.dataset)\n",
    "    num_batches = len(dataloader)\n",
    "    model.eval()\n",
    "    test_loss, correct = 0,0\n",
    "    with torch.no_grad():\n",
    "        for X, y in dataloader:\n",
    "            X, y = X.to(device), y.to(device)\n",
    "            pred = model(X)\n",
    "            test_loss += loss_fn(pred, y).item()\n",
    "            correct += (pred.argmax(1) == y).type(torch.float).sum().item()\n",
    "    test_loss /= num_batches\n",
    "    correct /= size\n",
    "    print(f'Test Error: \\n Accuracy: {(100*correct):>0.1f}%, Avg loss: (test_loss:>8f) \\n')\n",
    "    return test_loss"
   ]
  },
  {
   "cell_type": "markdown",
   "id": "043826b9",
   "metadata": {},
   "source": [
    "### 5. 학습이 되는 동안 writer가 TensorBoard에 write"
   ]
  },
  {
   "cell_type": "code",
   "execution_count": 89,
   "id": "bfa29627",
   "metadata": {},
   "outputs": [
    {
     "name": "stdout",
     "output_type": "stream",
     "text": [
      "Epoch 1\n",
      " ------------------------------\n",
      "loss: 0.207744 [    0/60000]\n",
      "loss: 0.386491 [ 6400/60000]\n",
      "loss: 0.426200 [12800/60000]\n",
      "loss: 0.217056 [19200/60000]\n",
      "loss: 0.132200 [25600/60000]\n",
      "loss: 0.329132 [32000/60000]\n",
      "loss: 0.328750 [38400/60000]\n",
      "loss: 0.416143 [44800/60000]\n",
      "loss: 0.360943 [51200/60000]\n",
      "loss: 0.158486 [57600/60000]\n",
      "Test Error: \n",
      " Accuracy: 88.7%, Avg loss: (test_loss:>8f) \n",
      "\n",
      "Epoch 2\n",
      " ------------------------------\n",
      "loss: 0.277458 [    0/60000]\n",
      "loss: 0.282787 [ 6400/60000]\n",
      "loss: 0.117578 [12800/60000]\n",
      "loss: 0.239410 [19200/60000]\n",
      "loss: 0.142754 [25600/60000]\n",
      "loss: 0.341028 [32000/60000]\n",
      "loss: 0.180452 [38400/60000]\n",
      "loss: 0.331701 [44800/60000]\n",
      "loss: 0.205145 [51200/60000]\n",
      "loss: 0.407487 [57600/60000]\n",
      "Test Error: \n",
      " Accuracy: 88.6%, Avg loss: (test_loss:>8f) \n",
      "\n",
      "Epoch 3\n",
      " ------------------------------\n",
      "loss: 0.265841 [    0/60000]\n",
      "loss: 0.236849 [ 6400/60000]\n",
      "loss: 0.200243 [12800/60000]\n",
      "loss: 0.436144 [19200/60000]\n",
      "loss: 0.127317 [25600/60000]\n",
      "loss: 0.228373 [32000/60000]\n",
      "loss: 0.170170 [38400/60000]\n",
      "loss: 0.279606 [44800/60000]\n",
      "loss: 0.365748 [51200/60000]\n",
      "loss: 0.251725 [57600/60000]\n",
      "Test Error: \n",
      " Accuracy: 88.6%, Avg loss: (test_loss:>8f) \n",
      "\n",
      "Epoch 4\n",
      " ------------------------------\n",
      "loss: 0.192547 [    0/60000]\n",
      "loss: 0.237489 [ 6400/60000]\n",
      "loss: 0.191870 [12800/60000]\n",
      "loss: 0.376084 [19200/60000]\n",
      "loss: 0.129568 [25600/60000]\n",
      "loss: 0.248147 [32000/60000]\n",
      "loss: 0.172933 [38400/60000]\n",
      "loss: 0.251769 [44800/60000]\n",
      "loss: 0.105085 [51200/60000]\n",
      "loss: 0.255350 [57600/60000]\n",
      "Test Error: \n",
      " Accuracy: 88.6%, Avg loss: (test_loss:>8f) \n",
      "\n",
      "Epoch 5\n",
      " ------------------------------\n",
      "loss: 0.263162 [    0/60000]\n",
      "loss: 0.209879 [ 6400/60000]\n",
      "loss: 0.256593 [12800/60000]\n",
      "loss: 0.108979 [19200/60000]\n",
      "loss: 0.191679 [25600/60000]\n",
      "loss: 0.156039 [32000/60000]\n",
      "loss: 0.204615 [38400/60000]\n",
      "loss: 0.225017 [44800/60000]\n",
      "loss: 0.239689 [51200/60000]\n",
      "loss: 0.265508 [57600/60000]\n",
      "Test Error: \n",
      " Accuracy: 89.0%, Avg loss: (test_loss:>8f) \n",
      "\n",
      "Epoch 6\n",
      " ------------------------------\n",
      "loss: 0.129881 [    0/60000]\n",
      "loss: 0.221227 [ 6400/60000]\n",
      "loss: 0.355242 [12800/60000]\n",
      "loss: 0.242591 [19200/60000]\n",
      "loss: 0.153585 [25600/60000]\n",
      "loss: 0.230464 [32000/60000]\n",
      "loss: 0.159441 [38400/60000]\n",
      "loss: 0.382558 [44800/60000]\n",
      "loss: 0.341915 [51200/60000]\n",
      "loss: 0.209504 [57600/60000]\n",
      "Test Error: \n",
      " Accuracy: 88.8%, Avg loss: (test_loss:>8f) \n",
      "\n",
      "Epoch 7\n",
      " ------------------------------\n",
      "loss: 0.160470 [    0/60000]\n",
      "loss: 0.273691 [ 6400/60000]\n",
      "loss: 0.267206 [12800/60000]\n",
      "loss: 0.228693 [19200/60000]\n",
      "loss: 0.227853 [25600/60000]\n",
      "loss: 0.082378 [32000/60000]\n",
      "loss: 0.234645 [38400/60000]\n",
      "loss: 0.321682 [44800/60000]\n",
      "loss: 0.138453 [51200/60000]\n",
      "loss: 0.212276 [57600/60000]\n",
      "Test Error: \n",
      " Accuracy: 88.8%, Avg loss: (test_loss:>8f) \n",
      "\n",
      "Epoch 8\n",
      " ------------------------------\n",
      "loss: 0.107921 [    0/60000]\n",
      "loss: 0.198024 [ 6400/60000]\n",
      "loss: 0.156596 [12800/60000]\n",
      "loss: 0.259557 [19200/60000]\n",
      "loss: 0.178106 [25600/60000]\n",
      "loss: 0.219241 [32000/60000]\n",
      "loss: 0.199324 [38400/60000]\n",
      "loss: 0.272180 [44800/60000]\n",
      "loss: 0.307022 [51200/60000]\n",
      "loss: 0.181465 [57600/60000]\n",
      "Test Error: \n",
      " Accuracy: 88.7%, Avg loss: (test_loss:>8f) \n",
      "\n",
      "Epoch 9\n",
      " ------------------------------\n",
      "loss: 0.147938 [    0/60000]\n",
      "loss: 0.241441 [ 6400/60000]\n",
      "loss: 0.165498 [12800/60000]\n",
      "loss: 0.223946 [19200/60000]\n",
      "loss: 0.237675 [25600/60000]\n",
      "loss: 0.264985 [32000/60000]\n",
      "loss: 0.180945 [38400/60000]\n",
      "loss: 0.212535 [44800/60000]\n",
      "loss: 0.154210 [51200/60000]\n",
      "loss: 0.217332 [57600/60000]\n",
      "Test Error: \n",
      " Accuracy: 88.5%, Avg loss: (test_loss:>8f) \n",
      "\n",
      "Epoch 10\n",
      " ------------------------------\n",
      "loss: 0.210950 [    0/60000]\n",
      "loss: 0.171002 [ 6400/60000]\n",
      "loss: 0.300559 [12800/60000]\n",
      "loss: 0.197901 [19200/60000]\n",
      "loss: 0.178739 [25600/60000]\n",
      "loss: 0.315833 [32000/60000]\n",
      "loss: 0.129762 [38400/60000]\n",
      "loss: 0.196321 [44800/60000]\n",
      "loss: 0.242698 [51200/60000]\n",
      "loss: 0.209488 [57600/60000]\n",
      "Test Error: \n",
      " Accuracy: 89.0%, Avg loss: (test_loss:>8f) \n",
      "\n",
      "Done!\n"
     ]
    }
   ],
   "source": [
    "parameters = ['Weight1', 'Bias1', 'Weight2', 'Bias2']\n",
    "\n",
    "epochs = 10\n",
    "for t in range(epochs):\n",
    "    print(f\"Epoch {t+1}\\n ------------------------------\")\n",
    "    # train_loss 저장\n",
    "    train_loss = train_loop(train_dataloader, model, loss_fn, optimizer)\n",
    "    writer.add_scalar('training loss', train_loss, t)\n",
    "    # model.parameters() : parameter들이 하나씩 꺼내져 나옴\n",
    "    # add_histogram(name, param, t) : 이 이름(name)으로 parameter를 저장해라 (t : 몇 번째 epoch인지)\n",
    "    for param, name in zip(model.parameters(), parameters):\n",
    "        writer.add_histogram(name, param, t)\n",
    "    # test_loss 저장\n",
    "    test_loss = test(test_dataloader, model, loss_fn)\n",
    "    writer.add_scalar('test loss', test_loss, t)\n",
    "print('Done!')"
   ]
  },
  {
   "cell_type": "markdown",
   "id": "131d2922",
   "metadata": {},
   "source": [
    "### 6. write 기록 후에는 반드시 write를 close 해줘야 함"
   ]
  },
  {
   "cell_type": "code",
   "execution_count": 90,
   "id": "89c9bba8",
   "metadata": {},
   "outputs": [],
   "source": [
    "writer.close()"
   ]
  },
  {
   "cell_type": "markdown",
   "id": "36d4ca98",
   "metadata": {},
   "source": [
    "### 7. 저장된 directory 지정해서 TensorBoard 열어보기"
   ]
  },
  {
   "cell_type": "code",
   "execution_count": 91,
   "id": "a3ec898d",
   "metadata": {},
   "outputs": [
    {
     "data": {
      "text/html": [
       "\n",
       "      <iframe id=\"tensorboard-frame-1c48253386a85cbe\" width=\"100%\" height=\"800\" frameborder=\"0\">\n",
       "      </iframe>\n",
       "      <script>\n",
       "        (function() {\n",
       "          const frame = document.getElementById(\"tensorboard-frame-1c48253386a85cbe\");\n",
       "          const url = new URL(\"/\", window.location);\n",
       "          const port = 6006;\n",
       "          if (port) {\n",
       "            url.port = port;\n",
       "          }\n",
       "          frame.src = url;\n",
       "        })();\n",
       "      </script>\n",
       "    "
      ],
      "text/plain": [
       "<IPython.core.display.HTML object>"
      ]
     },
     "metadata": {},
     "output_type": "display_data"
    }
   ],
   "source": [
    "%tensorboard --logdir './logs/pytorch'"
   ]
  },
  {
   "cell_type": "code",
   "execution_count": null,
   "id": "a36ce162",
   "metadata": {},
   "outputs": [],
   "source": []
  }
 ],
 "metadata": {
  "kernelspec": {
   "display_name": "Python 3 (ipykernel)",
   "language": "python",
   "name": "python3"
  },
  "language_info": {
   "codemirror_mode": {
    "name": "ipython",
    "version": 3
   },
   "file_extension": ".py",
   "mimetype": "text/x-python",
   "name": "python",
   "nbconvert_exporter": "python",
   "pygments_lexer": "ipython3",
   "version": "3.8.12"
  }
 },
 "nbformat": 4,
 "nbformat_minor": 5
}
