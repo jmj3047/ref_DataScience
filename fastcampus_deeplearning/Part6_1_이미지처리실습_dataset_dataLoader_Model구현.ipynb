{
  "nbformat": 4,
  "nbformat_minor": 0,
  "metadata": {
    "colab": {
      "name": "practice.ipynb",
      "private_outputs": true,
      "provenance": [],
      "collapsed_sections": []
    },
    "kernelspec": {
      "name": "python3",
      "display_name": "Python 3"
    },
    "language_info": {
      "name": "python"
    }
  },
  "cells": [
    {
      "cell_type": "markdown",
      "source": [
        "Google mount + setting\n",
        "\n",
        "\n",
        "- glob\n",
        "  - 인자로 받은 패턴과 이름이 일치하는 모든 파일과 directory의 list return\n",
        "  - \\* : 모든 파일과 디렉터리 i.e. glob('\\*.exe')"
      ],
      "metadata": {
        "id": "Iq_vFQDb6Clf"
      }
    },
    {
      "cell_type": "code",
      "source": [
        "from google.colab import drive\n",
        "drive.mount('/content/drive')\n",
        "\n",
        "import os\n",
        "import sys\n",
        "from glob import glob\n",
        "\n",
        "drive_project_root = 'drive/MyDrive/data/'\n",
        "sys.path.append(drive_project_root)\n",
        "\n",
        "image_root = 'drive/MyDrive/data/images/'\n",
        "anno_root = 'drive/MyDrive/data/annotations/'\n",
        "\n",
        "image_dir = image_root\n",
        "bbox_dir = anno_root + 'xmls/'    # bounding box\n",
        "seg_dir = anno_root + 'trimaps/'  # segmentation map\n",
        "\n",
        "os.environ['CUDA_VISIBLE_DEVICES'] = '1'\n",
        "\n",
        "!ls"
      ],
      "metadata": {
        "id": "vnJQBlVB6E-K"
      },
      "execution_count": null,
      "outputs": []
    },
    {
      "cell_type": "code",
      "source": [
        "pip install opencv-python"
      ],
      "metadata": {
        "id": "TRfmrmYhediB"
      },
      "execution_count": null,
      "outputs": []
    },
    {
      "cell_type": "code",
      "source": [
        "import math\n",
        "import random \n",
        "\n",
        "import cv2                                 # image를 읽기 위한 open cv library\n",
        "import xml.etree.ElementTree as et         # xml 파일을 parsing 하기 위한 library\n",
        "from matplotlib.patches import Rectangle   # Bounding box를 그리기 위함\n",
        "\n",
        "from tensorflow import keras\n",
        "from tensorflow.keras import layers\n",
        "from tensorflow.keras import activations\n",
        "\n",
        "import numpy as np\n",
        "import pandas as pd\n",
        "import seaborn as sns\n",
        "import matplotlib.pyplot as plt\n",
        "\n",
        "sns.set_style('whitegrid')"
      ],
      "metadata": {
        "id": "jJf2krkR6FHc"
      },
      "execution_count": null,
      "outputs": []
    },
    {
      "cell_type": "markdown",
      "source": [
        "# 1. Dataset EDA\n",
        "- data : Google [oxford pet dataset](https://www.robots.ox.ac.uk/~vgg/data/pets/)\n",
        "- Download 'dataset', 'groundtruth data'"
      ],
      "metadata": {
        "id": "V_jYC2PX6FCG"
      }
    },
    {
      "cell_type": "code",
      "source": [
        "df = pd.read_csv(anno_root+'/list.txt', skiprows=6, delimiter=\" \", header=None)\n",
        "df.columns = ['file_name', 'id', 'species', 'breed']\n",
        "df"
      ],
      "metadata": {
        "id": "n6zV2H9o6Faf"
      },
      "execution_count": null,
      "outputs": []
    },
    {
      "cell_type": "markdown",
      "source": [
        "### 1.1 숫자 분포 확인"
      ],
      "metadata": {
        "id": "mgKAOATC6Feo"
      }
    },
    {
      "cell_type": "code",
      "source": [
        "def num_plot(value_counts):\n",
        "    plt.bar(range(len(value_counts)), value_counts.values, align='center')\n",
        "    plt.xticks(range(len(value_counts)), value_counts.index.values)\n",
        "    plt.tight_layout()    # padding(여백) 조정\n",
        "    plt.show()"
      ],
      "metadata": {
        "id": "Dh5JQ1Uj6Fo6"
      },
      "execution_count": null,
      "outputs": []
    },
    {
      "cell_type": "code",
      "source": [
        "value_counts = df['species'].value_counts().sort_index()  # 1: 고양이, 2: 강아지\n",
        "print(value_counts)\n",
        "print('\\nrange: ',range(len(value_counts)))\n",
        "print('\\nvalues: ',value_counts.values)\n",
        "\n",
        "num_plot(value_counts)"
      ],
      "metadata": {
        "id": "LGHboQOBYVRm"
      },
      "execution_count": null,
      "outputs": []
    },
    {
      "cell_type": "markdown",
      "source": [
        "- 각 class id에 대해 대략 200장 씩 이미지가 있다는 것 확인"
      ],
      "metadata": {
        "id": "tzVimlJvYl_4"
      }
    },
    {
      "cell_type": "code",
      "source": [
        "value_counts = df['id'].value_counts().sort_index()\n",
        "num_plot(value_counts)"
      ],
      "metadata": {
        "id": "DtCKeEooYmCy"
      },
      "execution_count": null,
      "outputs": []
    },
    {
      "cell_type": "markdown",
      "source": [
        "- 고양이와 개 각각에 대한 class id 구성\n",
        "- 고양이는 12가지, 강아지는 25가지 종류가 있음을 확인"
      ],
      "metadata": {
        "id": "gIGH9nozYmJs"
      }
    },
    {
      "cell_type": "code",
      "source": [
        "value_counts = df[df['species'] == 1]['breed'].value_counts().sort_index()  # 고양이만\n",
        "num_plot(value_counts)"
      ],
      "metadata": {
        "id": "NOgFHSNnYVXe"
      },
      "execution_count": null,
      "outputs": []
    },
    {
      "cell_type": "code",
      "source": [
        "value_counts = df[df['species'] == 2]['breed'].value_counts().sort_index()  # 강아지만\n",
        "num_plot(value_counts)"
      ],
      "metadata": {
        "id": "3dtdXdh2Zql9"
      },
      "execution_count": null,
      "outputs": []
    },
    {
      "cell_type": "markdown",
      "source": [
        "### 1.2 파일 읽기"
      ],
      "metadata": {
        "id": "zS0HIbv_Zquy"
      }
    },
    {
      "cell_type": "code",
      "source": [
        "image_files = glob(image_dir + '*.jpg')  # 경로 읽기\n",
        "print(len(image_files))\n",
        "\n",
        "image_files[:10]   # 경로가 제대로 읽혔는지 확인"
      ],
      "metadata": {
        "id": "2wC1Nn_mbFbl"
      },
      "execution_count": null,
      "outputs": []
    },
    {
      "cell_type": "code",
      "source": [
        "seg_files = glob(seg_dir + '*.png')\n",
        "print(len(seg_files))\n",
        "\n",
        "seg_files[:10]"
      ],
      "metadata": {
        "id": "sAUr3P3AbFeM"
      },
      "execution_count": null,
      "outputs": []
    },
    {
      "cell_type": "code",
      "source": [
        "bbox_files = glob(bbox_dir + '*.xml')\n",
        "print(len(bbox_files))     # image_files, seg_files보다 적음 -> 모든 이미지에 대해 head ROI가 제공되는 것은 아니라는 것\n",
        "\n",
        "bbox_files[:10]"
      ],
      "metadata": {
        "id": "UUdD49YmbFgz"
      },
      "execution_count": null,
      "outputs": []
    },
    {
      "cell_type": "markdown",
      "source": [
        "### 1.3 Head ROI 시각화\n",
        "- ROI :  Region of Interest"
      ],
      "metadata": {
        "id": "-55whdloZq1T"
      }
    },
    {
      "cell_type": "code",
      "source": [
        "# 임의의 이미지 파일 경로 하나 가져와서 이에 해당하는 bounding box의 경로 찾기\n",
        "image_path = image_files[80]\n",
        "bbox_path = image_path.replace(image_dir, bbox_dir).replace('jpg', 'xml')\n",
        "\n",
        "# image 파일을 open cv로 읽기\n",
        "# 주의점 : RGB가 아니라 BGR 형식으로 읽힘\n",
        "image = cv2.imread(image_path)                 # ★ path에 한국어 경로 있으면 안 읽힐 수 있음\n",
        "image = cv2.cvtColor(image, cv2.COLOR_BGR2RGB) # BGR 형식을 RGB로 바꿔줄 것\n",
        "\n",
        "# xml파일 parsing 하기\n",
        "tree = et.parse(bbox_path)\n",
        "\n",
        "# bounding box 좌표는 object (bounding box) tag 아래 있었음\n",
        "xmin = float(tree.find('./object/bndbox/xmin').text)\n",
        "xmax = float(tree.find('./object/bndbox/xmax').text)\n",
        "ymin = float(tree.find('./object/bndbox/ymin').text)\n",
        "ymax = float(tree.find('./object/bndbox/ymax').text)\n",
        "\n",
        "# 가로, 세로 길이\n",
        "rect_x = xmin\n",
        "rect_y = ymin\n",
        "rect_w = xmax - xmin\n",
        "rect_h = ymax - ymin\n",
        "\n",
        "# Head ROI (bounding box 객체 만들기)\n",
        "# cv2.Rectangle(image, pt1 시작점 좌표, pt2 종료점 좌표, color, thickness, lineType, shift)\n",
        "rect = Rectangle((rect_x, rect_y), rect_w, rect_h, fill=False, color='red')\n",
        "plt.axes().add_patch(rect)\n",
        "plt.imshow(image)\n",
        "\n",
        "plt.show()"
      ],
      "metadata": {
        "id": "62rs__V3eLhU"
      },
      "execution_count": null,
      "outputs": []
    },
    {
      "cell_type": "markdown",
      "source": [
        "### 1.4 SEG map\n",
        "- 보통 3가지 채널이 아닌 하나의 채널에 정보가 모두 저장되어 있음 (grayscale)"
      ],
      "metadata": {
        "id": "P3Cvo27QeLr1"
      }
    },
    {
      "cell_type": "code",
      "source": [
        "image_path = image_files[90]\n",
        "seg_path = image_path.replace(image_dir, seg_dir).replace('jpg', 'png')\n",
        "\n",
        "image = cv2.imread(image_path)\n",
        "image = cv2.cvtColor(image, cv2.COLOR_BGR2RGB)\n",
        "seg_map = cv2.imread(seg_path, cv2.IMREAD_GRAYSCALE)  # Grayscale 이미지를 읽어온다는 것 알려줌\n",
        "\n",
        "# side by side 출력\n",
        "plt.figure(figsize=(10, 10))\n",
        "plt.subplot(1,2,1)\n",
        "plt.imshow(image)\n",
        "plt.subplot(1,2,2)\n",
        "plt.imshow(seg_map)\n",
        "\n",
        "plt.show()"
      ],
      "metadata": {
        "id": "Qv4VcFyTeL3-"
      },
      "execution_count": null,
      "outputs": []
    },
    {
      "cell_type": "markdown",
      "source": [
        "---\n",
        "# 2. 이미지 분류 (k-fold)\n",
        "- 'fold' 컬럼 생성 : validation set으로 index → 향후 작업하기 편함\n",
        "- 'fold' 별로 데이터가 균등하게 뽑혔는지 항상 주의\n",
        "  - training에 요크셔테리어가 없으면 test set에서 요크셔테리어 분류 못함\n",
        "  - ★ 방법 : sklearn의 StratifiedKFold 사용"
      ],
      "metadata": {
        "id": "jJ4ngxz-eMDv"
      }
    },
    {
      "cell_type": "code",
      "source": [
        "from sklearn.model_selection import KFold\n",
        "from sklearn.model_selection import StratifiedKFold"
      ],
      "metadata": {
        "id": "mpOO1o0sg8Hz"
      },
      "execution_count": null,
      "outputs": []
    },
    {
      "cell_type": "markdown",
      "source": [
        "### 2.1 KFold 사용하기"
      ],
      "metadata": {
        "id": "fR-9D0sAiFmf"
      }
    },
    {
      "cell_type": "code",
      "source": [
        "kf = KFold(n_splits=5, shuffle=True, random_state=42)\n",
        "\n",
        "# fold column 생성 → -1로 초기화\n",
        "df['fold'] = -1\n",
        "\n",
        "for idx, (train, val) in enumerate(kf.split(df), 1):\n",
        "    print(idx, train, val, len(val))\n",
        "    df.loc[val, 'fold'] = idx     # 'fold' 컬럼, 'val' 행에 index 저장 (1~5)\n",
        "\n",
        "# Check dataset\n",
        "print(df[:5])\n",
        "print(len(df[df['fold']==1]))  # 첫 번째 fold에 대한 validation set\n",
        "print(len(df[df['fold']!=1]))  # 첫 번째 fold에 대한 train set"
      ],
      "metadata": {
        "id": "n_ZwzACJg8Q7"
      },
      "execution_count": null,
      "outputs": []
    },
    {
      "cell_type": "markdown",
      "source": [
        "- 강아지와 고양이 품종이 균등하게 분포되어 있는지 시각화로 확인"
      ],
      "metadata": {
        "id": "NwunNL_Ag8oV"
      }
    },
    {
      "cell_type": "code",
      "source": [
        "value_counts = df[df['fold'] != 5]['id'].value_counts().sort_index()   # 5번째 fold의 training data\n",
        "\n",
        "plt.bar(range(len(value_counts)), value_counts.values, align='center')\n",
        "plt.xticks(range(len(value_counts)), value_counts.index.values)\n",
        "plt.tight_layout()\n",
        "plt.show()"
      ],
      "metadata": {
        "id": "neta-3ZMg87H"
      },
      "execution_count": null,
      "outputs": []
    },
    {
      "cell_type": "markdown",
      "source": [
        "### 2.2 StratifiedKFold 사용하기"
      ],
      "metadata": {
        "id": "mEH8ggI5g9Er"
      }
    },
    {
      "cell_type": "code",
      "source": [
        "skf = StratifiedKFold(n_splits=5, shuffle=True, random_state=42)\n",
        "\n",
        "df['fold'] = -1\n",
        "\n",
        "for idx, (train, val) in enumerate(skf.split(df, df['id']), 1):  # 'id' (품종)을 최대한 균등하게 하겠다\n",
        "    print(train, val, len(val))\n",
        "    df.loc[val, 'fold'] = idx"
      ],
      "metadata": {
        "id": "MdERY7jIg9zc"
      },
      "execution_count": null,
      "outputs": []
    },
    {
      "cell_type": "markdown",
      "source": [
        "- 강아지와 고양이 품종이 균등하게 분포되어 있는지 시각화로 확인"
      ],
      "metadata": {
        "id": "ChLxAq3CiRub"
      }
    },
    {
      "cell_type": "code",
      "source": [
        "value_counts = df[df['fold'] != 5]['id'].value_counts().sort_index()   # 5번째 fold의 training data\n",
        "\n",
        "plt.bar(range(len(value_counts)), value_counts.values, align='center')\n",
        "plt.xticks(range(len(value_counts)), value_counts.index.values)\n",
        "plt.tight_layout()\n",
        "plt.show()"
      ],
      "metadata": {
        "id": "arXBpJEvg-Ge"
      },
      "execution_count": null,
      "outputs": []
    },
    {
      "cell_type": "markdown",
      "source": [
        "### 2.3 결과 저장"
      ],
      "metadata": {
        "id": "lonx7pH1g-P_"
      }
    },
    {
      "cell_type": "code",
      "source": [
        "df.to_csv(drive_project_root+'kfolds.csv', index=False)"
      ],
      "metadata": {
        "id": "4OeBVaXViYL-"
      },
      "execution_count": null,
      "outputs": []
    },
    {
      "cell_type": "markdown",
      "source": [
        "---\n",
        "# 3. Data Loader\n",
        "- keras로 data loader를 작성할 때는 sequence를 사용함\n",
        "  - 일반 generator를 사용하는 것보다 multi-processing에 더 적합하기 때문 (keras 공식문서에서도 sequence 사용을 권장)\n",
        "- sequence 함수\n",
        "  - 반드시 있어야 하는 것 : len, getitem\n",
        "    - len : 한 epoch에 몇 개의 batch가 있는지\n",
        "    - getitem : 하나의 batch 생성\n",
        "  - optional : on_epoch_end"
      ],
      "metadata": {
        "id": "1YoJrJACiYTx"
      }
    },
    {
      "cell_type": "markdown",
      "source": [
        "### 3.1 Oxford pet data에 대한 sequence 함수 작성하기"
      ],
      "metadata": {
        "id": "rdbkxKn7iYac"
      }
    },
    {
      "cell_type": "code",
      "source": [
        "class DataGenerator(keras.utils.Sequence):\n",
        "    # fold : 5가지 중 어떤 fold를 사용할지\n",
        "    def __init__(self, batch_size, csv_path, fold, image_size, mode='train', shuffle=True):\n",
        "        self.batch_size = batch_size\n",
        "        self.df = pd.read_csv(csv_path)\n",
        "        self.fold = fold\n",
        "        self.image_size = image_size\n",
        "        self.mode = mode\n",
        "        self.shuffle = shuffle        \n",
        "        \n",
        "        # 필요한 데이터만 남기기\n",
        "        if self.mode == 'train':\n",
        "            self.df = self.df[self.df['fold'] != self.fold]  # training\n",
        "        elif self.mode == 'val':\n",
        "            self.df = self.df[self.df['fold'] == self.fold]  # validation\n",
        "            \n",
        "        # Remove invalid files\n",
        "        invalid_filenames = [\n",
        "            'Egyptian_Mau_14',\n",
        "            'Egyptian_Mau_139',\n",
        "            'Egyptian_Mau_145',\n",
        "            'Egyptian_Mau_156',\n",
        "            'Egyptian_Mau_167',\n",
        "            'Egyptian_Mau_177',\n",
        "            'Egyptian_Mau_186',\n",
        "            'Egyptian_Mau_191',\n",
        "            'Abyssinian_5',\n",
        "            'Abyssinian_34',\n",
        "            'chihuahua_121',\n",
        "            'beagle_116'            \n",
        "        ]\n",
        "        self.df = self.df[-self.df['file_name']. \\\n",
        "                         isin(invalid_filenames)]\n",
        "        \n",
        "        # 학습을 시작하는 첫 epoch에서도 shuffle을 하고 싶은 경우\n",
        "        self.on_epoch_end()  # 원치 않는 경우 이 부분 코드는 빼기\n",
        "        \n",
        "    def __len__(self):\n",
        "        # 나눠 떨어지지 않는 경우 남는 데이터가 생김 -> 올림 필요\n",
        "        return math.ceil(len(self.df) / self.batch_size)\n",
        "    \n",
        "    # idx : 몇 번째 batch를 return 하고 싶은지 ex) 첫 번째 : 0\n",
        "    def __getitem__(self, idx):\n",
        "        strt = idx * self.batch_size\n",
        "        fin = (idx + 1) * self.batch_size\n",
        "        data = self.df.iloc[strt:fin]\n",
        "        \n",
        "        batch_x, batch_y = self.get_data(data)   # image, label\n",
        "        return np.array(batch_x), np.array(batch_y)\n",
        "    \n",
        "    # data 내 모든 image와 label return\n",
        "    def get_data(self, data):\n",
        "        \n",
        "        batch_x = []\n",
        "        batch_y = []\n",
        "        \n",
        "        # r : csv 파일의 값들\n",
        "        for _, r in data.iterrows():  # index, row 전체\n",
        "            file_name = r['file_name']\n",
        "            image = cv2.imread(f'{image_root}{file_name}.jpg')\n",
        "            image = cv2.cvtColor(image, cv2.COLOR_BGR2RGB)\n",
        "            \n",
        "            # input image들의 size가 각각 다 다르기 때문에 같은 size로 resize 필요\n",
        "            # if not, 하나의 batch로 묶어서 array 만들기 불가\n",
        "            image = cv2.resize(image, (self.image_size, self.image_size))\n",
        "            image = image / 255.  # rescale : 0~255 px -> 0~1\n",
        "            \n",
        "            # 개와 고양이 이진분류\n",
        "            label = int(r['species']) - 1  # 현재 데이터 : 고양이 1, 개 2 -> -1 -> 고양이 0, 개 1\n",
        "            \n",
        "            batch_x.append(image)\n",
        "            batch_y.append(label)\n",
        "            \n",
        "        return batch_x, batch_y\n",
        "            \n",
        "    # callback 함수 : 매 epoch이 끝날 때마다 도는 함수\n",
        "    # ex) shuffle 하는 함수를 넣으면 한 epoch이 끝날 때마다 데이터 자동 shuffle\n",
        "    def on_epoch_end(self):\n",
        "        if self.shuffle:\n",
        "            # frac : 몇 퍼센트의 데이터를 shuffle 할지 (1 -> 100% : 전체 데이터)\n",
        "            # drop=True : 기존 인덱스를 버리고 재배열\n",
        "            self.df = self.df.sample(frac=1).reset_index(drop=True)"
      ],
      "metadata": {
        "id": "vHzMY_AIg-cD"
      },
      "execution_count": null,
      "outputs": []
    },
    {
      "cell_type": "code",
      "source": [
        "csv_path = drive_project_root+'kfolds.csv'\n",
        "train_generator = DataGenerator(\n",
        "    batch_size=9,\n",
        "    csv_path=csv_path,\n",
        "    fold=1,\n",
        "    # image_size=256,  # 256×256\n",
        "    image_size=16,     # 자꾸 메모리 오류 발생해서 크기 변경\n",
        "    mode='train',\n",
        "    shuffle=True\n",
        ")"
      ],
      "metadata": {
        "id": "FypJBLlhg-lZ"
      },
      "execution_count": null,
      "outputs": []
    },
    {
      "cell_type": "markdown",
      "source": [
        "### 3.2 데이터 개수 확인\n",
        "\n",
        "- 전체 데이터 : 7,390개\n",
        "- 5-fold + train mode -> 전체 데이터의 80% 정도가 있어야 함 (5.8천 여 개)"
      ],
      "metadata": {
        "id": "DODFz37bg-vT"
      }
    },
    {
      "cell_type": "code",
      "source": [
        "print(len(train_generator))\n",
        "print(len(train_generator) * 9)   # 9 : batch size"
      ],
      "metadata": {
        "id": "z6-KZ9GBg-5J"
      },
      "execution_count": null,
      "outputs": []
    },
    {
      "cell_type": "markdown",
      "source": [
        "### 3.3 data generator가 이미지를 제대로 load 하는 지 확인"
      ],
      "metadata": {
        "id": "fMwbbZLEZq77"
      }
    },
    {
      "cell_type": "code",
      "source": [
        "class_name = ['Cat', 'Dog']  # 고양이 0, 강아지 1\n",
        "\n",
        "for batch in train_generator:\n",
        "    X, y = batch   # X: image, y: label\n",
        "    plt.figure(figsize=(10, 10))\n",
        "    \n",
        "    for i in range(9):                # 9개 이미지 살펴보기\n",
        "        ax = plt.subplot(3, 3, i+1)   # 총 3*3개 plot, i+1 번째에 그리기\n",
        "        plt.imshow(X[i])\n",
        "        plt.title(class_name[y[i]])\n",
        "        plt.axis('off')   # on : 사진 사이에 가로세로 grid 생김\n",
        "    \n",
        "    # 첫 번째 batch만 확인할 예정\n",
        "    break"
      ],
      "metadata": {
        "id": "lpvfG0U36Fva"
      },
      "execution_count": null,
      "outputs": []
    },
    {
      "cell_type": "markdown",
      "source": [
        "- label"
      ],
      "metadata": {
        "id": "jD1x0kBTncA5"
      }
    },
    {
      "cell_type": "code",
      "source": [
        "for batch in train_generator:\n",
        "    # X: image, y: label\n",
        "    X, y = batch\n",
        "    print(y)\n",
        "    break"
      ],
      "metadata": {
        "id": "ZiZKdUHjjmAb"
      },
      "execution_count": null,
      "outputs": []
    },
    {
      "cell_type": "markdown",
      "source": [
        "---\n",
        "# 4. Model 구현\n",
        "\n",
        "### 4.1 Sequential 모델 구현\n",
        "- simple한 모델들만 구현 가능\n",
        "- sequential class 단독으로 사용하기 보단, model의 block 단위를 간단하게 구현할 때 사용"
      ],
      "metadata": {
        "id": "DQ7IeBlFjmGa"
      }
    },
    {
      "cell_type": "markdown",
      "source": [
        "MaxPooling vs Global MaxPooling\n",
        "- Max-pooling layer gave the largest value in a certain subarea as an output\n",
        "  - 각각의 filter에 대해 주어진 kernel 안에서 최대값 return -> kernel 사이즈가 작아짐\n",
        "- While the global max-pooling did this in the whole area\n"
      ],
      "metadata": {
        "id": "MfSjoRbuorvi"
      }
    },
    {
      "cell_type": "code",
      "source": [
        "def get_sequential_model(input_shape):\n",
        "    \n",
        "    # layer를 순서대로 쌓기\n",
        "    model = keras.Sequential(\n",
        "        [\n",
        "            layers.Input(input_shape),  # input\n",
        "\n",
        "            # CNN에서 많이 쓰이는 heuristic\n",
        "            # MaxPooling 거쳐서 이미지 사이즈가 반으로 감소\n",
        "            # 그만큼 다음 layer에서 filter 사이즈를 키움 (64 -> 128)\n",
        "            # VGG 때부터 많이 쓰인 방식\n",
        "            \n",
        "            # 1st Conv block\n",
        "            # convolution을 적용하면 image size가 2px 씩 작아짐\n",
        "            # 여러 번 거치면 완전 작아짐\n",
        "            # 이를 방지하기 위해 padding 사용 (same : input과 output의 크기가 일치)\n",
        "            layers.Conv2D(64, 3, strides=1, activation='relu', padding='same'),  # filter size 64, kerner size 3*3\n",
        "            layers.Conv2D(64, 3, strides=1, activation='relu', padding='same'),\n",
        "            layers.MaxPool2D(),\n",
        "            layers.BatchNormalization(),\n",
        "            layers.Dropout(0.5),\n",
        "                    \n",
        "            # 2nd Conv block\n",
        "            layers.Conv2D(128, 3, strides=1, activation='relu', padding='same'),\n",
        "            layers.Conv2D(128, 3, strides=1, activation='relu', padding='same'),\n",
        "            layers.MaxPool2D(),\n",
        "            layers.BatchNormalization(),\n",
        "            layers.Dropout(0.3),\n",
        "            \n",
        "            # Classifier\n",
        "            layers.GlobalMaxPool2D(),\n",
        "            layers.Dense(128, activation='relu'),\n",
        "            layers.Dense(1, activation='sigmoid')  # 이진분류 (개, 고양이)            \n",
        "        ]\n",
        "    )\n",
        "    \n",
        "    return model\n",
        "\n",
        "input_shape = (256, 256, 3)\n",
        "model = get_sequential_model(input_shape)\n",
        "\n",
        "model.summary()"
      ],
      "metadata": {
        "id": "ijPlbDUXnA4U"
      },
      "execution_count": null,
      "outputs": []
    },
    {
      "cell_type": "markdown",
      "source": [
        "### 4.2 Functional API 모델 구현\n",
        "- keras 공식 모델이 저장되어 있는 keras applications에 있는 모델들\n",
        "- Sequential과 달리 multi input/output, layer sharing 등 특별한 제약 없이 다양한 기능 사용 가능"
      ],
      "metadata": {
        "id": "MvtpGaFanBCz"
      }
    },
    {
      "cell_type": "code",
      "source": [
        "def get_functional_model(input_shape):\n",
        "    \n",
        "    # Sequential과 달리 사용자가 직접 모든 layer의 결과를 저장하고 다음 레이어에 넘겨줘야 함\n",
        "    inputs = keras.Input(input_shape)\n",
        "    \n",
        "    # 1st Conv block\n",
        "    x = layers.Conv2D(64, 3, strides=1, activation='relu', padding='same')(inputs)\n",
        "    x = layers.Conv2D(64, 3, strides=1, activation='relu', padding='same')(x)\n",
        "    x = layers.MaxPool2D()(x)\n",
        "    x = layers.BatchNormalization()(x)\n",
        "    x = layers.Dropout(0.5)(x)\n",
        "\n",
        "    # 2nd Conv block\n",
        "    x = layers.Conv2D(128, 3, strides=1, activation='relu', padding='same')(x)\n",
        "    x = layers.Conv2D(128, 3, strides=1, activation='relu', padding='same')(x)\n",
        "    x = layers.MaxPool2D()(x)\n",
        "    x = layers.BatchNormalization()(x)\n",
        "    x = layers.Dropout(0.3)(x)\n",
        "\n",
        "    # Classifier\n",
        "    x = layers.GlobalMaxPool2D()(x)\n",
        "    x = layers.Dense(128, activation='relu')(x)\n",
        "    outputs = layers.Dense(1, activation='sigmoid')(x)  # 이진분류 (개, 고양이)\n",
        "    \n",
        "    model = keras.Model(inputs, outputs)\n",
        "    \n",
        "    return model\n",
        "\n",
        "input_shape = (256, 256, 3)\n",
        "model = get_functional_model(input_shape)\n",
        "\n",
        "model.summary()"
      ],
      "metadata": {
        "id": "9666g3t2nBMF"
      },
      "execution_count": null,
      "outputs": []
    },
    {
      "cell_type": "markdown",
      "source": [
        "### 4.3 Model Subclassing\n",
        "- pytorch 경험자들은 이 방법이 가장 수월할 듯\n",
        "- keras의 model class를 상속받아서 필요한 method를 override\n",
        "  - functional API와 달리, model.fit, model.evaluate, model.predict를 override 해서 customize 가능\n",
        "  - override 할 필요가 없는 경우 굳이 model subclassing보다는 functional API 사용하는 것으로 충분\n",
        "- model.summary() 결과가 다른 모델 대비 간단한 이유\n",
        "  - keras에서는 하나의 block을 하나의 layer로 생각함\n",
        "  - = 모델에는 3가지 layer만 있는 것처럼 인지됨"
      ],
      "metadata": {
        "id": "A8jJ8PNJnBWA"
      }
    },
    {
      "cell_type": "code",
      "source": [
        "class SimpleCNN(keras.Model):\n",
        "    def __init__(self):\n",
        "        super(SimpleCNN, self).__init__()\n",
        "        \n",
        "        self.conv_block_1 = keras.Sequential(\n",
        "            [\n",
        "                layers.Conv2D(64, 3, strides=1, activation='relu', padding='same'),\n",
        "                layers.Conv2D(64, 3, strides=1, activation='relu', padding='same'),\n",
        "                layers.MaxPool2D(),\n",
        "                layers.BatchNormalization(),\n",
        "                layers.Dropout(0.5)          \n",
        "            ], name='conv_block_1'\n",
        "        )\n",
        "        \n",
        "        self.conv_block_2 = keras.Sequential(\n",
        "            [\n",
        "                layers.Conv2D(128, 3, strides=1, activation='relu', padding='same'),\n",
        "                layers.Conv2D(128, 3, strides=1, activation='relu', padding='same'),\n",
        "                layers.MaxPool2D(),\n",
        "                layers.BatchNormalization(),\n",
        "                layers.Dropout(0.3)\n",
        "            ], name='conv_block_2'\n",
        "        )\n",
        "        \n",
        "        self.classifier = keras.Sequential(\n",
        "            [\n",
        "                layers.GlobalMaxPool2D(),\n",
        "                layers.Dense(128, activation='relu'),\n",
        "                layers.Dense(1, activation='sigmoid')  # 이진분류 (개, 고양이)                   \n",
        "            ], name='classifier'\n",
        "        )\n",
        "    \n",
        "    # 모델 호출 시 작동할 함수\n",
        "    # 위에서 작성한 layer들이 어떤 순서로 불려야 하는지 모델 순서 정하기\n",
        "    def call(self, input_tensor, training=False):\n",
        "        x = self.conv_block_1(input_tensor)\n",
        "        x = self.conv_block_2(x)\n",
        "        x = self.classifier(x)\n",
        "        return x"
      ],
      "metadata": {
        "id": "L7vsM7l0nBfc"
      },
      "execution_count": null,
      "outputs": []
    },
    {
      "cell_type": "code",
      "source": [
        "# None : batch axis 부분\n",
        "# -> batch 값은 모델의 구조를 정하는데 중요하지 않아 일반적으로 None 적용\n",
        "input_shape = (None, 256, 256, 3)\n",
        "\n",
        "model = SimpleCNN()\n",
        "model.build(input_shape)\n",
        "model.summary()"
      ],
      "metadata": {
        "id": "9MZifKQ9nHuE"
      },
      "execution_count": null,
      "outputs": []
    },
    {
      "cell_type": "markdown",
      "source": [
        "### 4.4 Model compiling\n",
        "- keras에서 학습에 사용할 optimizer, loss, 평가에 사용할 metric을 정해주는 과정"
      ],
      "metadata": {
        "id": "QOYVNB9BnH4V"
      }
    },
    {
      "cell_type": "code",
      "source": [
        "model.compile(\n",
        "    optimizer='adam',\n",
        "    loss='binary_crossentropy',\n",
        "    metrics='accuracy'\n",
        ")"
      ],
      "metadata": {
        "id": "4P9ObYAonIAB"
      },
      "execution_count": null,
      "outputs": []
    }
  ]
}